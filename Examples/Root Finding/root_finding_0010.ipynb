{
 "cells": [
  {
   "cell_type": "code",
   "execution_count": 2,
   "metadata": {},
   "outputs": [
    {
     "name": "stdout",
     "output_type": "stream",
     "text": [
      "[3.000000-0.000000i, 4.000000+0.000000i, 1.000000-0.000000i, 2.000000+0.000000i]\n",
      "f(2.000000) = 0.000000\n"
     ]
    }
   ],
   "source": [
    "/**\n",
    " * Solve zeros for a polynomial.\n",
    " * Note that a polynomial is also a [UnivariateRealFunction] and \n",
    " * can therefore be solved by both specific (the Jenkins Traub method)\n",
    " * and general root finding algorithms.\n",
    " */\n",
    "%use s2\n",
    "\n",
    "// a polynomial P(x) = (x-1)(x-2)(x-3)(x-4) = x^4 - 10x^3 + 35x^2 - 50x + 24\n",
    "val p: Polynomial = Polynomial(1.0, -10.0, 35.0, -50.0, 24.0)\n",
    "\n",
    "// Find all the roots of a polynomial using the Jenkins Traub method\n",
    "val solver1 = PolyRoot()\n",
    "val roots1: kotlin.collections.List<Number?> = solver1.solve(p)\n",
    "println(java.util.Arrays.toString(roots1.toTypedArray()))\n",
    "\n",
    "// Find a root of a [UnivariateRealFunction] in the given range using Brent's algorithm.\n",
    "val solver2 = BrentRoot(1e-9, 10) // tolerance, max number of iterations\n",
    "val root2: Double = solver2.solve(p, 1.5, 2.5) // search in the interval (1.5, 2.5)\n",
    "val fx: Double = p.evaluate(root2)\n",
    "println(String.format(\"f(%f) = %f\", root2, fx))"
   ]
  },
  {
   "cell_type": "code",
   "execution_count": null,
   "metadata": {},
   "outputs": [],
   "source": []
  }
 ],
 "metadata": {
  "kernelspec": {
   "display_name": "Kotlin",
   "language": "kotlin",
   "name": "kotlin"
  },
  "language_info": {
   "codemirror_mode": "text/x-kotlin",
   "file_extension": ".kt",
   "mimetype": "text/x-kotlin",
   "name": "kotlin",
   "pygments_lexer": "kotlin",
   "version": "1.4.20-dev-3647"
  }
 },
 "nbformat": 4,
 "nbformat_minor": 4
}
