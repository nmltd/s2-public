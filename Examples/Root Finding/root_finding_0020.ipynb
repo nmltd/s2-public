{
 "cells": [
  {
   "cell_type": "code",
   "execution_count": 1,
   "metadata": {},
   "outputs": [
    {
     "name": "stdout",
     "output_type": "stream",
     "text": [
      "f(1.000000) = 0.000000\n"
     ]
    }
   ],
   "source": [
    "/**\n",
    " * Solve zeros for a univariate function.\n",
    " *\n",
    " * @author Haksun Li\n",
    " */\n",
    "\n",
    "%use s2\n",
    "\n",
    "// a function f(x) = log(x)\n",
    "val f: UnivariateRealFunction = object : AbstractUnivariateRealFunction() {\n",
    "    override fun evaluate(x: Double): Double {\n",
    "        return Math.log(x)\n",
    "    }\n",
    "}\n",
    "\n",
    "// the derivative of the function\n",
    "val df: UnivariateRealFunction = object : AbstractUnivariateRealFunction() {\n",
    "    override fun evaluate(x: Double): Double {\n",
    "        return 1.0 / x\n",
    "    }\n",
    "}\n",
    "\n",
    "// Find a root of a function using the Newton-Raphson method.\n",
    "val solver = NewtonRoot(1e-9, 10) // tolerance, max number of iterations\n",
    "val root: Double = solver.solve(\n",
    "    f,\n",
    "    df,\n",
    "    0.5 // initial guess\n",
    ")\n",
    "val fx: Double = f.evaluate(root)\n",
    "println(String.format(\"f(%f) = %f\", root, fx))"
   ]
  },
  {
   "cell_type": "code",
   "execution_count": null,
   "metadata": {},
   "outputs": [],
   "source": []
  }
 ],
 "metadata": {
  "kernelspec": {
   "display_name": "Kotlin",
   "language": "kotlin",
   "name": "kotlin"
  },
  "language_info": {
   "codemirror_mode": "text/x-kotlin",
   "file_extension": ".kt",
   "mimetype": "text/x-kotlin",
   "name": "kotlin",
   "pygments_lexer": "kotlin",
   "version": "1.4.20-dev-3647"
  }
 },
 "nbformat": 4,
 "nbformat_minor": 4
}
