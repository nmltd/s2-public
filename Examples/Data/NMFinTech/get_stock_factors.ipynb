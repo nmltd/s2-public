{
 "cells": [
  {
   "cell_type": "code",
   "execution_count": 3,
   "metadata": {},
   "outputs": [
    {
     "name": "stdout",
     "output_type": "stream",
     "text": [
      "A DataFrame: 40 x 6\n",
      "         date   ticker     roa      roe   quick_ratio   net_mgn\n",
      " 1   20200102     AAPL   4.143   14.642         1.501    21.371\n",
      " 2   20200103     AAPL   4.143   14.642         1.501    21.371\n",
      " 3   20200106     AAPL   4.143   14.642         1.501    21.371\n",
      " 4   20200107     AAPL   4.143   14.642         1.501    21.371\n",
      " 5   20200108     AAPL   4.143   14.642         1.501    21.371\n",
      " 6   20200109     AAPL   4.143   14.642         1.501    21.371\n",
      " 7   20200110     AAPL   4.143   14.642         1.501    21.371\n",
      " 8   20200113     AAPL   4.143   14.642         1.501    21.371\n",
      " 9   20200114     AAPL   4.143   14.642         1.501    21.371\n",
      "10   20200115     AAPL   4.143   14.642         1.501    21.371\n",
      "11   20200116     AAPL   4.143   14.642         1.501    21.371\n",
      "12   20200117     AAPL   4.143   14.642         1.501    21.371\n",
      "13   20200121     AAPL   4.143   14.642         1.501    21.371\n",
      "14   20200122     AAPL   4.143   14.642         1.501    21.371\n",
      "15   20200123     AAPL   4.143   14.642         1.501    21.371\n",
      "16   20200124     AAPL   4.143   14.642         1.501    21.371\n",
      "17   20200127     AAPL   4.143   14.642         1.501    21.371\n",
      "18   20200128     AAPL   4.143   14.642         1.501    21.371\n",
      "19   20200129     AAPL   6.548   24.704         1.558    24.217\n",
      "20   20200130     AAPL   6.548   24.704         1.558    24.217\n",
      "21   20200131     AAPL   6.548   24.704         1.558    24.217\n",
      "22   20200203     AAPL   6.548   24.704         1.558    24.217\n",
      "23   20200204     AAPL   6.548   24.704         1.558    24.217\n",
      "24   20200205     AAPL   6.548   24.704         1.558    24.217\n",
      "25   20200206     AAPL   6.548   24.704         1.558    24.217\n",
      "26   20200207     AAPL   6.548   24.704         1.558    24.217\n",
      "27   20200210     AAPL   6.548   24.704         1.558    24.217\n",
      "28   20200211     AAPL   6.548   24.704         1.558    24.217\n",
      "29   20200212     AAPL   6.548   24.704         1.558    24.217\n",
      "30   20200213     AAPL   6.548   24.704         1.558    24.217\n",
      "31   20200214     AAPL   6.548   24.704         1.558    24.217\n",
      "32   20200218     AAPL   6.548   24.704         1.558    24.217\n",
      "33   20200219     AAPL   6.548   24.704         1.558    24.217\n",
      "34   20200220     AAPL   6.548   24.704         1.558    24.217\n",
      "35   20200221     AAPL   6.548   24.704         1.558    24.217\n",
      "36   20200224     AAPL   6.548   24.704         1.558    24.217\n",
      "37   20200225     AAPL   6.548   24.704         1.558    24.217\n",
      "38   20200226     AAPL   6.548   24.704         1.558    24.217\n",
      "39   20200227     AAPL   6.548   24.704         1.558    24.217\n",
      "40   20200228     AAPL   6.548   24.704         1.558    24.217\n",
      "\n"
     ]
    }
   ],
   "source": [
    "/**\n",
    " * Demonstrate how to get stock factors from the NM FinTech databases.\n",
    " * See https://nmfin.tech\n",
    " *\n",
    " * @author Haksun Li\n",
    " */\n",
    "\n",
    "%use s2, krangl\n",
    "\n",
    "// get factor values from database\n",
    "val df = s2.dataFrame(\"factor-exposure\", \"AAPL\", \"2020-01-01\", \"2020-03-01\")\n",
    "\n",
    "// print out values of some selected factors\n",
    "df.select(\"date\", \"ticker\", \"roa\", \"roe\", \"quick_ratio\", \"net_mgn\") // refer to https://nmfin.tech for a list of available factor names\n",
    "  .sortedBy(\"date\")\n",
    "  .print(maxRows = df.nrow)"
   ]
  },
  {
   "cell_type": "code",
   "execution_count": null,
   "metadata": {},
   "outputs": [],
   "source": []
  }
 ],
 "metadata": {
  "kernelspec": {
   "display_name": "Kotlin",
   "language": "kotlin",
   "name": "kotlin"
  },
  "language_info": {
   "codemirror_mode": "text/x-kotlin",
   "file_extension": ".kt",
   "mimetype": "text/x-kotlin",
   "name": "kotlin",
   "pygments_lexer": "kotlin",
   "version": "1.4.20-dev-3647"
  }
 },
 "nbformat": 4,
 "nbformat_minor": 4
}
