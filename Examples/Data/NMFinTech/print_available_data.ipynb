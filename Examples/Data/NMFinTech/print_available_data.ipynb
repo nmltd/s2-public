{
 "cells": [
  {
   "cell_type": "code",
   "execution_count": 2,
   "metadata": {},
   "outputs": [
    {
     "name": "stdout",
     "output_type": "stream",
     "text": [
      "Table                    Usage\n",
      "cn-factor-premium        s2.table(\"cn-factor-premium\", start_date, end_date, [factor1, [factor2, ...]])\n",
      "                         s2.dataFrame(\"cn-factor-premium\", start_date, end_date, [factor1, [factor2, ...]])\n",
      "                         s2.mapList(\"cn-factor-premium\", start_date, end_date, [factor1, [factor2, ...]])\n",
      "cn-stock                 s2.table(\"cn-stock\", ticker, start_date, end_date)\n",
      "                         s2.dataFrame(\"cn-stock\", ticker, start_date, end_date)\n",
      "                         s2.mapList(\"cn-stock\", ticker, start_date, end_date)\n",
      "cn-ticker-metadata       s2.table(\"cn-ticker-metadata\", ticker1, [ticker2, ...])\n",
      "                         s2.dataFrame(\"cn-ticker-metadata\", ticker1, [ticker2, ...])\n",
      "                         s2.mapList(\"cn-ticker-metadata\", ticker1, [ticker2, ...])\n",
      "corporate-actions        s2.table(\"corporate-actions\", ticker)\n",
      "                         s2.dataFrame(\"corporate-actions\", ticker)\n",
      "                         s2.mapList(\"corporate-actions\", ticker)\n",
      "daily                    s2.table(\"daily\", ticker, start_date, end_date)\n",
      "                         s2.dataFrame(\"daily\", ticker, start_date, end_date)\n",
      "                         s2.mapList(\"daily\", ticker, start_date, end_date)\n",
      "factor-exposure          s2.table(\"factor-exposure\", ticker, start_date, end_date)\n",
      "                         s2.dataFrame(\"factor-exposure\", ticker, start_date, end_date)\n",
      "                         s2.mapList(\"factor-exposure\", ticker, start_date, end_date)\n",
      "factor-premium           s2.table(\"factor-premium\", start_date, end_date, [factor1, [factor2, ...]])\n",
      "                         s2.dataFrame(\"factor-premium\", start_date, end_date, [factor1, [factor2, ...]])\n",
      "                         s2.mapList(\"factor-premium\", start_date, end_date, [factor1, [factor2, ...]])\n",
      "fundamentals             s2.table(\"fundamentals\", ticker, dimension)\n",
      "                         s2.dataFrame(\"fundamentals\", ticker, dimension)\n",
      "                         s2.mapList(\"fundamentals\", ticker, dimension)\n",
      "sh_a                     s2.table(\"sh_a\", start_date, end_date)\n",
      "                         s2.dataFrame(\"sh_a\", start_date, end_date)\n",
      "                         s2.mapList(\"sh_a\", start_date, end_date)\n",
      "sp500                    s2.table(\"sp500\", start_date, end_date)\n",
      "                         s2.dataFrame(\"sp500\", start_date, end_date)\n",
      "                         s2.mapList(\"sp500\", start_date, end_date)\n",
      "sp500-constituents       s2.table(\"sp500-constituents\", since)\n",
      "                         s2.dataFrame(\"sp500-constituents\", since)\n",
      "                         s2.mapList(\"sp500-constituents\", since)\n",
      "stock                    s2.table(\"stock\", ticker, start_date, end_date)\n",
      "                         s2.dataFrame(\"stock\", ticker, start_date, end_date)\n",
      "                         s2.mapList(\"stock\", ticker, start_date, end_date)\n",
      "ticker-metadata          s2.table(\"ticker-metadata\", ticker1, [ticker2, ...])\n",
      "                         s2.dataFrame(\"ticker-metadata\", ticker1, [ticker2, ...])\n",
      "                         s2.mapList(\"ticker-metadata\", ticker1, [ticker2, ...])\n",
      "us-treasury-yield        s2.table(\"us-treasury-yield\", start_date, end_date)\n",
      "                         s2.dataFrame(\"us-treasury-yield\", start_date, end_date)\n",
      "                         s2.mapList(\"us-treasury-yield\", start_date, end_date)\n"
     ]
    },
    {
     "data": {
      "text/plain": [
       "A DataFrame: 211 x 10\n",
       "     ticker         date     open     high      low    close      volume   dividends   closeunadj\n",
       " 1     AAPL   2020-01-02    74.06    75.15   73.797   75.088   135647456           0       300.35\n",
       " 2     AAPL   2020-01-03   74.287   75.145   74.125   74.358   146535512           0       297.43\n",
       " 3     AAPL   2020-01-06   73.448    74.99   73.188    74.95   117288824           0        299.8\n",
       " 4     AAPL   2020-01-07    74.96   75.225    74.37   74.597   111510620           0       298.39\n",
       " 5     AAPL   2020-01-08    74.29    76.11   74.289   75.797   132363784           0       303.19\n",
       " 6     AAPL   2020-01-09   76.809   77.608    76.55   77.407   167082252           0       309.63\n",
       " 7     AAPL   2020-01-10    77.65   78.168   77.062   77.582   140869088           0       310.33\n",
       " 8     AAPL   2020-01-13    77.91   79.267   77.787    79.24   120114968           0       316.96\n",
       " 9     AAPL   2020-01-14   79.175   79.392   78.043    78.17   162613828           0       312.68\n",
       "10     AAPL   2020-01-15   77.963   78.875   77.388   77.835   121923528           0       311.34\n",
       "and 201 more rows, and and 1 more variables:"
      ]
     },
     "execution_count": 2,
     "metadata": {},
     "output_type": "execute_result"
    }
   ],
   "source": [
    "/**\n",
    " * Demonstrate how to see all available data/tables in the NM FinTech databases.\n",
    " * See https://nmfin.tech\n",
    " *\n",
    " * @author Haksun Li\n",
    " */\n",
    "\n",
    "%use s2\n",
    "\n",
    "// Print a list of all available data/tables.\n",
    "s2.availableTables()\n",
    "\n",
    "// Retrieve stock data for \"AAPL\" between two dates.\n",
    "s2.dataFrame(\"stock\", \"AAPL\", \"2020-01-01\", \"2020-11-01\")"
   ]
  },
  {
   "cell_type": "code",
   "execution_count": null,
   "metadata": {},
   "outputs": [],
   "source": []
  }
 ],
 "metadata": {
  "kernelspec": {
   "display_name": "Kotlin",
   "language": "kotlin",
   "name": "kotlin"
  },
  "language_info": {
   "codemirror_mode": "text/x-kotlin",
   "file_extension": ".kt",
   "mimetype": "text/x-kotlin",
   "name": "kotlin",
   "pygments_lexer": "kotlin",
   "version": "1.4.20-dev-3647"
  }
 },
 "nbformat": 4,
 "nbformat_minor": 4
}
