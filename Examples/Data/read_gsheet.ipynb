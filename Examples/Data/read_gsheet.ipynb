{
 "cells": [
  {
   "cell_type": "code",
   "execution_count": 4,
   "metadata": {},
   "outputs": [
    {
     "data": {
      "text/html": [
       "   <div id=\"NbLX9n\"></div>\n",
       "   <script type=\"text/javascript\" data-lets-plot-script=\"library\">\n",
       "       if(!window.letsPlotCallQueue) {\n",
       "           window.letsPlotCallQueue = [];\n",
       "       }; \n",
       "       window.letsPlotCall = function(f) {\n",
       "           window.letsPlotCallQueue.push(f);\n",
       "       };\n",
       "       (function() {\n",
       "           var script = document.createElement(\"script\");\n",
       "           script.type = \"text/javascript\";\n",
       "           script.src = \"https://dl.bintray.com/jetbrains/lets-plot/lets-plot-1.5.2.min.js\";\n",
       "           script.onload = function() {\n",
       "               window.letsPlotCall = function(f) {f();};\n",
       "               window.letsPlotCallQueue.forEach(function(f) {f();});\n",
       "               window.letsPlotCallQueue = [];\n",
       "               \n",
       "               \n",
       "           };\n",
       "           script.onerror = function(event) {\n",
       "               window.letsPlotCall = function(f) {};\n",
       "               window.letsPlotCallQueue = [];\n",
       "               var div = document.createElement(\"div\");\n",
       "               div.style.color = 'darkred';\n",
       "               div.textContent = 'Error loading Lets-Plot JS';\n",
       "               document.getElementById(\"NbLX9n\").appendChild(div);\n",
       "           };\n",
       "           var e = document.getElementById(\"NbLX9n\");\n",
       "           e.appendChild(script);\n",
       "       })();\n",
       "   </script>"
      ]
     },
     "metadata": {},
     "output_type": "display_data"
    },
    {
     "data": {
      "text/html": [
       "<html><body><table><tr><th style=\"text-align:left\">Source</th><th style=\"text-align:left\">Date</th><th style=\"text-align:left\">Mean</th></tr><tr><td style=\"text-align:left\" title=\"GISTEMP\">GISTEMP</td><td style=\"text-align:left\" title=\"1/6/1900\">1/6/1900</td><td style=\"text-align:left\" title=\"-0.4\">-0.4</td></tr><tr><td style=\"text-align:left\" title=\"GISTEMP\">GISTEMP</td><td style=\"text-align:left\" title=\"1/6/1901\">1/6/1901</td><td style=\"text-align:left\" title=\"-0.3\">-0.3</td></tr><tr><td style=\"text-align:left\" title=\"GISTEMP\">GISTEMP</td><td style=\"text-align:left\" title=\"1/6/1902\">1/6/1902</td><td style=\"text-align:left\" title=\"-0.19\">-0.19</td></tr><tr><td style=\"text-align:left\" title=\"GISTEMP\">GISTEMP</td><td style=\"text-align:left\" title=\"1/6/1903\">1/6/1903</td><td style=\"text-align:left\" title=\"-0.27\">-0.27</td></tr><tr><td style=\"text-align:left\" title=\"GISTEMP\">GISTEMP</td><td style=\"text-align:left\" title=\"1/6/1904\">1/6/1904</td><td style=\"text-align:left\" title=\"-0.64\">-0.64</td></tr><tr><td style=\"text-align:left\" title=\"GISTEMP\">GISTEMP</td><td style=\"text-align:left\" title=\"1/6/1905\">1/6/1905</td><td style=\"text-align:left\" title=\"-0.38\">-0.38</td></tr><tr><td style=\"text-align:left\" title=\"GISTEMP\">GISTEMP</td><td style=\"text-align:left\" title=\"1/6/1906\">1/6/1906</td><td style=\"text-align:left\" title=\"-0.31\">-0.31</td></tr><tr><td style=\"text-align:left\" title=\"GISTEMP\">GISTEMP</td><td style=\"text-align:left\" title=\"1/6/1907\">1/6/1907</td><td style=\"text-align:left\" title=\"-0.44\">-0.44</td></tr><tr><td style=\"text-align:left\" title=\"GISTEMP\">GISTEMP</td><td style=\"text-align:left\" title=\"1/6/1908\">1/6/1908</td><td style=\"text-align:left\" title=\"-0.46\">-0.46</td></tr><tr><td style=\"text-align:left\" title=\"GISTEMP\">GISTEMP</td><td style=\"text-align:left\" title=\"1/6/1909\">1/6/1909</td><td style=\"text-align:left\" title=\"-0.7\">-0.7</td></tr><tr><td style=\"text-align:left\" title=\"GISTEMP\">GISTEMP</td><td style=\"text-align:left\" title=\"1/6/1910\">1/6/1910</td><td style=\"text-align:left\" title=\"-0.44\">-0.44</td></tr><tr><td style=\"text-align:left\" title=\"GISTEMP\">GISTEMP</td><td style=\"text-align:left\" title=\"1/6/1911\">1/6/1911</td><td style=\"text-align:left\" title=\"-0.64\">-0.64</td></tr><tr><td style=\"text-align:left\" title=\"GISTEMP\">GISTEMP</td><td style=\"text-align:left\" title=\"1/6/1912\">1/6/1912</td><td style=\"text-align:left\" title=\"-0.27\">-0.27</td></tr><tr><td style=\"text-align:left\" title=\"GISTEMP\">GISTEMP</td><td style=\"text-align:left\" title=\"1/6/1913\">1/6/1913</td><td style=\"text-align:left\" title=\"-0.41\">-0.41</td></tr><tr><td style=\"text-align:left\" title=\"GISTEMP\">GISTEMP</td><td style=\"text-align:left\" title=\"1/6/1914\">1/6/1914</td><td style=\"text-align:left\" title=\"0.02\">0.02</td></tr><tr><td style=\"text-align:left\" title=\"GISTEMP\">GISTEMP</td><td style=\"text-align:left\" title=\"1/6/1915\">1/6/1915</td><td style=\"text-align:left\" title=\"-0.2\">-0.2</td></tr><tr><td style=\"text-align:left\" title=\"GISTEMP\">GISTEMP</td><td style=\"text-align:left\" title=\"1/6/1916\">1/6/1916</td><td style=\"text-align:left\" title=\"-0.2\">-0.2</td></tr><tr><td style=\"text-align:left\" title=\"GISTEMP\">GISTEMP</td><td style=\"text-align:left\" title=\"1/6/1917\">1/6/1917</td><td style=\"text-align:left\" title=\"-0.46\">-0.46</td></tr><tr><td style=\"text-align:left\" title=\"GISTEMP\">GISTEMP</td><td style=\"text-align:left\" title=\"1/6/1918\">1/6/1918</td><td style=\"text-align:left\" title=\"-0.44\">-0.44</td></tr><tr><td style=\"text-align:left\" title=\"GISTEMP\">GISTEMP</td><td style=\"text-align:left\" title=\"1/6/1919\">1/6/1919</td><td style=\"text-align:left\" title=\"-0.21\">-0.21</td></tr></table><p>... only showing top 20 rows</p></body></html>"
      ]
     },
     "execution_count": 4,
     "metadata": {},
     "output_type": "execute_result"
    }
   ],
   "source": [
    "/**\n",
    " * Demonstrate how to read a gsheet file on the Internet.\n",
    " *\n",
    " * @author Haksun Li\n",
    " */\n",
    "\n",
    "%use krangl\n",
    "\n",
    "// specify the gsheet to read\n",
    "val gsheetID = \"1a7H90lq7OpFjKXlLRHYSHYxgViykyVsXWpw229IVjh8\" // global temperature monthly\n",
    "// read the gsheet on the web into a data frame\n",
    "val values = DataFrame.readCSV(\"https://docs.google.com/spreadsheets/d/${gsheetID}/gviz/tq?tqx=out:csv\")\n",
    "    .filterByRow{ it[\"Source\"] == \"GISTEMP\" }\n",
    "    .sortedBy(\"Date\")\n",
    "// print the data frame\n",
    "values"
   ]
  },
  {
   "cell_type": "code",
   "execution_count": null,
   "metadata": {},
   "outputs": [],
   "source": []
  }
 ],
 "metadata": {
  "kernelspec": {
   "display_name": "Kotlin",
   "language": "kotlin",
   "name": "kotlin"
  },
  "language_info": {
   "codemirror_mode": "text/x-kotlin",
   "file_extension": ".kt",
   "mimetype": "text/x-kotlin",
   "name": "kotlin",
   "pygments_lexer": "kotlin",
   "version": "1.4.20-dev-3647"
  }
 },
 "nbformat": 4,
 "nbformat_minor": 4
}
