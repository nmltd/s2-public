{
 "cells": [
  {
   "cell_type": "code",
   "execution_count": 2,
   "metadata": {},
   "outputs": [
    {
     "name": "stdout",
     "output_type": "stream",
     "text": [
      "f([10.000000] ) = 195.9999999329053\n"
     ]
    }
   ],
   "source": [
    "/**\n",
    " * Demonstrates how to optimize a function, both univariate and multivariate.\n",
    " *\n",
    " * @author Haksun Li\n",
    " */\n",
    "\n",
    "%use s2\n",
    "import dev.nm.solver.IterativeSolution\n",
    "\n",
    "// construct a constrained optimization problem\n",
    "fun problem(): ConstrainedOptimProblem {\n",
    "    // An example multivariate function.\n",
    "    val f: RealScalarFunction = object : AbstractUnivariateRealFunction() {\n",
    "        override fun evaluate(x: Double): Double {\n",
    "            return Math.pow(x+4.0, 2.0)\n",
    "        }\n",
    "    }\n",
    "\n",
    "    // A less than constraint for constrained optimization.\n",
    "    val c2: LessThanConstraints = LinearLessThanConstraints(\n",
    "        DenseMatrix(arrayOf(doubleArrayOf(-1.0))),\n",
    "        DenseVector(-10.0)\n",
    "    );\n",
    "\n",
    "    // construct an optimization problem\n",
    "    val problem = ConstrainedOptimProblemImpl1(f, null, c2)\n",
    "    return problem\n",
    "}\n",
    "\n",
    "// Solve a general constrained optimization using BFGS.\n",
    "val gamma = 1e30\n",
    "val optim = PenaltyMethodMinimizer(\n",
    "    PenaltyMethodMinimizer.DEFAULT_PENALTY_FUNCTION_FACTORY,\n",
    "    gamma,\n",
    "    BFGSMinimizer( // an optimizer to use in conjunction with PenaltyMethodMinimizer\n",
    "        false,\n",
    "        1e-8, // epsilon\n",
    "        200) // max number of iterations\n",
    ")\n",
    "val p = problem()\n",
    "val minimizer: IterativeSolution<Vector?> = optim.solve(p)\n",
    "val xmin: Vector? = minimizer.search(DenseVector(0.0)) // initial guess = (0.0)\n",
    "val fxmin: Double = p.f().evaluate(xmin)\n",
    "println(\"f($xmin) = $fxmin\")"
   ]
  },
  {
   "cell_type": "code",
   "execution_count": null,
   "metadata": {},
   "outputs": [],
   "source": []
  }
 ],
 "metadata": {
  "kernelspec": {
   "display_name": "Kotlin",
   "language": "kotlin",
   "name": "kotlin"
  },
  "language_info": {
   "codemirror_mode": "text/x-kotlin",
   "file_extension": ".kt",
   "mimetype": "text/x-kotlin",
   "name": "kotlin",
   "pygments_lexer": "kotlin",
   "version": "1.4.20-dev-3647"
  }
 },
 "nbformat": 4,
 "nbformat_minor": 4
}
