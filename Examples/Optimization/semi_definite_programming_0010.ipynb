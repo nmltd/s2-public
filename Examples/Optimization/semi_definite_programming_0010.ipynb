{
 "cells": [
  {
   "cell_type": "code",
   "execution_count": 5,
   "metadata": {},
   "outputs": [
    {
     "name": "stdout",
     "output_type": "stream",
     "text": [
      "X: 3x3\n",
      "\t[,1] [,2] [,3] \n",
      "[1,] 0.000055, 0.000000, -0.000000, \n",
      "[2,] 0.000000, 0.000055, 0.000000, \n",
      "[3,] -0.000000, 0.000000, 0.999890, \n",
      "\n",
      "y: [0.403492, 0.600000, -0.400000, -3.000054] \n",
      "\n",
      "S: 3x3\n",
      "\t[,1] [,2] [,3] \n",
      "[1,] 1.000054, 0.096508, -0.000000, \n",
      "[2,] 0.096508, 1.000054, 0.000000, \n",
      "[3,] -0.000000, 0.000000, 0.000054, \n",
      "\n"
     ]
    }
   ],
   "source": [
    "/**\n",
    " * Demonstrate how to solve Semi-Definite Programming (SDP) problems using the Primal Dual Path Following algorithm.\n",
    " *\n",
    " * @author Haksun Li\n",
    " */\n",
    "\n",
    "%use s2\n",
    "import dev.nm.solver.multivariate.constrained.convex.sdp.pathfollowing.PrimalDualPathFollowingMinimizer.Solution\n",
    "\n",
    "fun problem() : SDPDualProblem {\n",
    "    // min b'y\n",
    "    val b: Vector = DenseVector(0.0, 0.0, 0.0, 1.0)\n",
    "    \n",
    "    // A symmetric matrix defining the constraint on the first index of the result y.\n",
    "    val A1: SymmetricMatrix = SymmetricMatrix(arrayOf(doubleArrayOf(0.0), doubleArrayOf(1.0, 0.0), doubleArrayOf(0.0, 0.0, 0.0)))\n",
    "    // A symmetric matrix defining the constraint on the second index of the result y.\n",
    "    val A2: SymmetricMatrix = SymmetricMatrix(arrayOf(doubleArrayOf(0.0), doubleArrayOf(0.0, 0.0), doubleArrayOf(1.0, 0.0, 0.0)))\n",
    "    // A symmetric matrix defining the constraint on the third index of the result y.\n",
    "    val A3: SymmetricMatrix = SymmetricMatrix(arrayOf(doubleArrayOf(0.0), doubleArrayOf(0.0, 0.0), doubleArrayOf(0.0, 1.0, 0.0)))\n",
    "    // A symmetric matrix defining the constraint on the fourth index of the result y.\n",
    "    val A4: SymmetricMatrix = A3.ONE()\n",
    "    // The matrices A, which define the constraints of the semi-definite programming problem.\n",
    "    val A: Array<SymmetricMatrix> = arrayOf<SymmetricMatrix>(A1, A2, A3, A4)\n",
    "    // The matrix C on the RHS of the constraint equation.\n",
    "    val C: SymmetricMatrix = SymmetricMatrix(arrayOf(doubleArrayOf(-2.0), doubleArrayOf(0.5, -2.0), doubleArrayOf(0.6, -0.4, -3.0)))\n",
    "\n",
    "    // The dual SDP problem from the above constants.\n",
    "    val problem: SDPDualProblem = SDPDualProblem(\n",
    "        b,\n",
    "        C,\n",
    "        A // sum of {yA + S} = C\n",
    "    )\n",
    "\n",
    "    return problem\n",
    "}    \n",
    "    \n",
    "// Our initial guess for the minimizer of the primal problem.\n",
    "val x0: DenseMatrix = DenseMatrix(arrayOf(doubleArrayOf(1.0 / 3.0, 0.0, 0.0), doubleArrayOf(0.0, 1.0 / 3.0, 0.0), doubleArrayOf(0.0, 0.0, 1.0 / 3.0)))\n",
    "// Our initial guess for the minimizer of the dual problem.\n",
    "val y0: Vector = DenseVector(0.2, 0.2, 0.2, -4.0)\n",
    "// Our initial guess for the auxiliary helper.\n",
    "val s0: DenseMatrix = DenseMatrix(arrayOf(doubleArrayOf(2.0, 0.3, 0.4), doubleArrayOf(0.3, 2.0, -0.6), doubleArrayOf(0.4, -0.6, 1.0)))\n",
    "// Our initial guess for the central path solution.\n",
    "val path0: CentralPath = CentralPath(x0, y0, s0)\n",
    "\n",
    "// construct an SDP solver\n",
    "val pdpf = PrimalDualPathFollowingMinimizer(\n",
    "    0.9, // gamma0\n",
    "    1e-4) // epsilon\n",
    "\n",
    "// solve the SDP problem\n",
    "val soln: Solution = pdpf.solve(problem())\n",
    "\n",
    "// the solution\n",
    "val path: CentralPath = soln.search(path0)\n",
    "printSolution(path)\n",
    "\n",
    "fun printSolution(path: CentralPath) {\n",
    "    println(\"X: \" + path.X + \"\\n\")\n",
    "    println(\"y: \" + path.y + \"\\n\")\n",
    "    println(\"S: \" + path.S + \"\\n\")\n",
    "}"
   ]
  },
  {
   "cell_type": "code",
   "execution_count": null,
   "metadata": {},
   "outputs": [],
   "source": []
  }
 ],
 "metadata": {
  "kernelspec": {
   "display_name": "Kotlin",
   "language": "kotlin",
   "name": "kotlin"
  },
  "language_info": {
   "codemirror_mode": "text/x-kotlin",
   "file_extension": ".kt",
   "mimetype": "text/x-kotlin",
   "name": "kotlin",
   "pygments_lexer": "kotlin",
   "version": "1.4.20-dev-3647"
  }
 },
 "nbformat": 4,
 "nbformat_minor": 4
}
