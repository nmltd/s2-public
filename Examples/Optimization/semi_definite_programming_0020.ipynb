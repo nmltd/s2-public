{
 "cells": [
  {
   "cell_type": "code",
   "execution_count": 1,
   "metadata": {},
   "outputs": [
    {
     "name": "stdout",
     "output_type": "stream",
     "text": [
      "X: 3x3\n",
      "\t[,1] [,2] [,3] \n",
      "[1,] 0.434470, 0.000000, -0.000000, \n",
      "[2,] 0.000000, 0.434470, 0.000000, \n",
      "[3,] -0.000000, 0.000000, 0.131528, \n",
      "\n",
      "y: [0.068898, 0.082678, -0.055118, -0.447060] \n",
      "\n",
      "S: 3x3\n",
      "\t[,1] [,2] [,3] \n",
      "[1,] 1.033002, 0.000000, 0.000000, \n",
      "[2,] 0.000000, 1.033002, -0.000000, \n",
      "[3,] 0.000000, -0.000000, 0.033386, \n",
      "\n"
     ]
    }
   ],
   "source": [
    "/**\n",
    " * Demonstrate how to solve Semi-Definite Programming (SDP) problems using the Homogeneous Path-Following algorithm.\n",
    " * User do not provide an initial guess for the central path solution.\n",
    " *\n",
    " * @author Haksun Li\n",
    " */\n",
    "\n",
    "%use s2\n",
    "import dev.nm.solver.multivariate.constrained.convex.sdp.pathfollowing.PrimalDualPathFollowingMinimizer.Solution\n",
    "\n",
    "fun problem() : SDPDualProblem {\n",
    "    // min b'y\n",
    "    val b: Vector = DenseVector(0.0, 0.0, 0.0, 1.0)\n",
    "    \n",
    "    // A symmetric matrix defining the constraint on the first index of the result y.\n",
    "    val A1: SymmetricMatrix = SymmetricMatrix(arrayOf(doubleArrayOf(0.0), doubleArrayOf(1.0, 0.0), doubleArrayOf(0.0, 0.0, 0.0)))\n",
    "    // A symmetric matrix defining the constraint on the second index of the result y.\n",
    "    val A2: SymmetricMatrix = SymmetricMatrix(arrayOf(doubleArrayOf(0.0), doubleArrayOf(0.0, 0.0), doubleArrayOf(1.0, 0.0, 0.0)))\n",
    "    // A symmetric matrix defining the constraint on the third index of the result y.\n",
    "    val A3: SymmetricMatrix = SymmetricMatrix(arrayOf(doubleArrayOf(0.0), doubleArrayOf(0.0, 0.0), doubleArrayOf(0.0, 1.0, 0.0)))\n",
    "    // A symmetric matrix defining the constraint on the fourth index of the result y.\n",
    "    val A4: SymmetricMatrix = A3.ONE()\n",
    "    // The matrices A, which define the constraints of the semi-definite programming problem.\n",
    "    val A: Array<SymmetricMatrix> = arrayOf<SymmetricMatrix>(A1, A2, A3, A4)\n",
    "    // The matrix C on the RHS of the constraint equation.\n",
    "    val C: SymmetricMatrix = SymmetricMatrix(arrayOf(doubleArrayOf(-2.0), doubleArrayOf(0.5, -2.0), doubleArrayOf(0.6, -0.4, -3.0)))\n",
    "\n",
    "    // The dual SDP problem from the above constants.\n",
    "    val problem: SDPDualProblem = SDPDualProblem(\n",
    "        b,\n",
    "        C,\n",
    "        A // sum of {yA + S} = C\n",
    "    )\n",
    "\n",
    "    return problem\n",
    "}    \n",
    "\n",
    "// construct an SDP solver\n",
    "val hsdpf = HomogeneousPathFollowingMinimizer(\n",
    "    1e-4) // epsilon\n",
    "\n",
    "// solve the SDP problem\n",
    "val soln: Solution = hsdpf.solve(problem())\n",
    "\n",
    "// the solution\n",
    "val path: CentralPath = soln.search() // no need of an initial guess for the central path solution\n",
    "printSolution(path)\n",
    "\n",
    "fun printSolution(path: CentralPath) {\n",
    "    println(\"X: \" + path.X + \"\\n\")\n",
    "    println(\"y: \" + path.y + \"\\n\")\n",
    "    println(\"S: \" + path.S + \"\\n\")\n",
    "}"
   ]
  },
  {
   "cell_type": "code",
   "execution_count": null,
   "metadata": {},
   "outputs": [],
   "source": []
  }
 ],
 "metadata": {
  "kernelspec": {
   "display_name": "Kotlin",
   "language": "kotlin",
   "name": "kotlin"
  },
  "language_info": {
   "codemirror_mode": "text/x-kotlin",
   "file_extension": ".kt",
   "mimetype": "text/x-kotlin",
   "name": "kotlin",
   "pygments_lexer": "kotlin",
   "version": "1.4.20-dev-3647"
  }
 },
 "nbformat": 4,
 "nbformat_minor": 4
}
