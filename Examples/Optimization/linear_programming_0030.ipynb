{
 "cells": [
  {
   "cell_type": "code",
   "execution_count": 4,
   "metadata": {},
   "outputs": [
    {
     "name": "stdout",
     "output_type": "stream",
     "text": [
      "minimizer:\n",
      "[0.000000, 1.000000] \n",
      "minimum: -Infinity\n",
      "v: [0.000000, 1.000000] \n"
     ]
    }
   ],
   "source": [
    "/**\n",
    " * Solve an LP problem that has multiple linear constraints.\n",
    " *\n",
    " * Shown is Example 3-6-13 (c), pp. 84 from Linear Programming with MATLAB by Michael C. Ferris,\n",
    " * Olvi L. Mangasarian, Stephen J. Wright.\n",
    " *\n",
    " * This case is found unbound during scheme 2.\n",
    " *\n",
    " * @author Haksun Li\n",
    " */\n",
    "\n",
    "%use s2\n",
    "\n",
    "// construct an LP problem with the constraint\n",
    "fun problem(): LPProblem {\n",
    "    // min c'x\n",
    "    val c: Vector = DenseVector(2.0, -1.0)\n",
    "\n",
    "    // the constraints\n",
    "    // Ax >= b\n",
    "    val greaterThanConstraints = LinearGreaterThanConstraints(\n",
    "        DenseMatrix(arrayOf(doubleArrayOf(1.0, 0.0))), // A\n",
    "        DenseVector(-6.0)) // b\n",
    "    val lessThanConstraints: LinearLessThanConstraints? = null // no less than constraints\n",
    "    // Ax = b\n",
    "    val equalityConstraints = LinearEqualityConstraints(\n",
    "        DenseMatrix(arrayOf(doubleArrayOf(-1.0, 0.0))), // A\n",
    "        DenseVector(-4.0)) // b\n",
    "    // the whole plane\n",
    "    val boxConstraints = BoxConstraints(\n",
    "        2,\n",
    "        BoxConstraints.Bound(2, Double.NEGATIVE_INFINITY, Double.POSITIVE_INFINITY)\n",
    "    )\n",
    "\n",
    "    // construct an LP problem with constraints\n",
    "    val problem: LPProblem = LPProblemImpl1(\n",
    "        c,\n",
    "        greaterThanConstraints,\n",
    "        lessThanConstraints,\n",
    "        equalityConstraints,\n",
    "        boxConstraints\n",
    "    ) // x2 is free\n",
    "    return problem\n",
    "}\n",
    "\n",
    "// construct an LP solver\n",
    "val solver = LPTwoPhaseSolver()\n",
    "\n",
    "// solve the LP problem\n",
    "val soln: LPUnboundedMinimizer = solver.solve(problem()).minimizer() as LPUnboundedMinimizer\n",
    "val minimizer = soln.minimizer()\n",
    "val minimum = soln.minimum()\n",
    "val v = soln.v()\n",
    "println(\"minimizer:\\n$minimizer\\nminimum: $minimum\\nv: $v\")"
   ]
  },
  {
   "cell_type": "code",
   "execution_count": null,
   "metadata": {},
   "outputs": [],
   "source": []
  }
 ],
 "metadata": {
  "kernelspec": {
   "display_name": "Kotlin",
   "language": "kotlin",
   "name": "kotlin"
  },
  "language_info": {
   "codemirror_mode": "text/x-kotlin",
   "file_extension": ".kt",
   "mimetype": "text/x-kotlin",
   "name": "kotlin",
   "pygments_lexer": "kotlin",
   "version": "1.4.20-dev-3647"
  }
 },
 "nbformat": 4,
 "nbformat_minor": 4
}
