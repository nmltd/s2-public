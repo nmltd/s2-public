{
 "cells": [
  {
   "cell_type": "code",
   "execution_count": 3,
   "metadata": {},
   "outputs": [
    {
     "name": "stdout",
     "output_type": "stream",
     "text": [
      "f([3.000023, 2.003686] ) = -6.999986\n"
     ]
    }
   ],
   "source": [
    "/**\n",
    " * Demonstrates how to optimize a function, both univariate and multivariate.\n",
    " *\n",
    " * @author Haksun Li\n",
    " */\n",
    "\n",
    "%use s2\n",
    "\n",
    "// An example multivariate function.\n",
    "val f: RealScalarFunction = object : AbstractBivariateRealFunction() {\n",
    "    override fun evaluate(x: Double, y: Double): Double {\n",
    "        return x * x - 4 * x + y * y - y - x * y\n",
    "    }\n",
    "}\n",
    "\n",
    "// construct an optimization problem\n",
    "val problem: C2OptimProblem = C2OptimProblemImpl(f)\n",
    "\n",
    "// Optimizes a multivariate function using Nelder-Mead's method.\n",
    "val solver = NelderMeadMinimizer(\n",
    "    1e-15, // epsilon\n",
    "    20) // max number of iterations\n",
    "val soln: NelderMeadMinimizer.Solution = solver.solve(problem)\n",
    "// initial guesses for minima of f\n",
    "val x0: Array<Vector?> = arrayOf<Vector?>(\n",
    "    DenseVector(0.0, 0.0),\n",
    "    DenseVector(1.2, 0.0),\n",
    "    DenseVector(0.0, 0.8)\n",
    ")\n",
    "val nmmin: Vector = soln.search(*x0)\n",
    "val fmin: Double = f.evaluate(nmmin)\n",
    "println(java.lang.String.format(\"f(%s) = %f\", nmmin.toString(), fmin))"
   ]
  },
  {
   "cell_type": "code",
   "execution_count": null,
   "metadata": {},
   "outputs": [],
   "source": []
  }
 ],
 "metadata": {
  "kernelspec": {
   "display_name": "Kotlin",
   "language": "kotlin",
   "name": "kotlin"
  },
  "language_info": {
   "codemirror_mode": "text/x-kotlin",
   "file_extension": ".kt",
   "mimetype": "text/x-kotlin",
   "name": "kotlin",
   "pygments_lexer": "kotlin",
   "version": "1.4.20-dev-3647"
  }
 },
 "nbformat": 4,
 "nbformat_minor": 4
}
