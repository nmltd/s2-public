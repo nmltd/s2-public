{
 "cells": [
  {
   "cell_type": "code",
   "execution_count": 1,
   "metadata": {},
   "outputs": [
    {
     "name": "stderr",
     "output_type": "stream",
     "text": [
      "Line_2.jupyter.kts (20:11 - 19) Unresolved reference: Solution"
     ]
    }
   ],
   "source": [
    "/**\n",
    " * Demonstrates how to optimize a function, both univariate and multivariate.\n",
    " *\n",
    " * @author Haksun Li\n",
    " */\n",
    "\n",
    "%use s2\n",
    "\n",
    "// An example univariate function.\n",
    "val f: UnivariateRealFunction = object : AbstractUnivariateRealFunction() {\n",
    "    override fun evaluate(x: Double): Double {\n",
    "        return (x - 1) * (x - 1)\n",
    "    }\n",
    "}\n",
    "\n",
    "// Optimizes a univariate function using Brent's method.\n",
    "val solver = BrentMinimizer(\n",
    "    1e-15, // epsilon\n",
    "    20) // max number of iterations\n",
    "val soln = solver.solve(f)\n",
    "val xmin: Double = soln.minimizer()\n",
    "val fmin: Double = f.evaluate(xmin)\n",
    "println(String.format(\"f(%f) = %f\", xmin, fmin))"
   ]
  },
  {
   "cell_type": "code",
   "execution_count": null,
   "metadata": {},
   "outputs": [],
   "source": []
  }
 ],
 "metadata": {
  "kernelspec": {
   "display_name": "Kotlin",
   "language": "kotlin",
   "name": "kotlin"
  },
  "language_info": {
   "codemirror_mode": "text/x-kotlin",
   "file_extension": ".kt",
   "mimetype": "text/x-kotlin",
   "name": "kotlin",
   "pygments_lexer": "kotlin",
   "version": "1.4.20-dev-3647"
  }
 },
 "nbformat": 4,
 "nbformat_minor": 4
}
