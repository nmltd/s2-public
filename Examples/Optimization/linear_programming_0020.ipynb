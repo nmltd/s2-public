{
 "cells": [
  {
   "cell_type": "code",
   "execution_count": 3,
   "metadata": {},
   "outputs": [
    {
     "name": "stdout",
     "output_type": "stream",
     "text": [
      "minimizer:\n",
      "[0.000000, 5.000000, 0.000000, 0.000000] \n",
      "minimum: -Infinity\n"
     ]
    }
   ],
   "source": [
    "/**\n",
    " * Solve an LP problem with only one constraint. Shown is Exercise 3-3-2 from Linear Programming\n",
    " * with MATLAB by Michael C. Ferris, Olvi L. Mangasarian, Stephen J. Wright.\n",
    " *\n",
    " * @author Haksun Li\n",
    " */\n",
    "\n",
    "%use s2\n",
    "\n",
    "// construct an LP problem with the constraint\n",
    "fun problem(): LPProblem {\n",
    "    // constraint: Ax >= b\n",
    "    val greaterThanConstraints = LinearGreaterThanConstraints(\n",
    "        DenseMatrix(arrayOf(doubleArrayOf(0.0, 1.0, -2.0, -1.0), doubleArrayOf(2.0, -1.0, -1.0, 4.0), doubleArrayOf(-1.0, 1.0, 0.0, -2.0))), // A\n",
    "        DenseVector(-4.0, -5.0, -3.0) // b\n",
    "    )\n",
    "\n",
    "    // min c'x subject to the constraint\n",
    "    val problem: LPProblem = LPProblemImpl1(\n",
    "        DenseVector(1.0, -2.0, -4.0, 4.0), // c\n",
    "        greaterThanConstraints,\n",
    "        null\n",
    "    )\n",
    "    return problem\n",
    "}\n",
    "\n",
    "// construct an LP solver\n",
    "val solver = LPTwoPhaseSolver()\n",
    "\n",
    "// solve the LP problem\n",
    "val soln: LPUnboundedMinimizer = solver.solve(problem()).minimizer() as LPUnboundedMinimizer\n",
    "val minimizer = soln.minimizer()\n",
    "val minimum = soln.minimum()\n",
    "println(\"minimizer:\\n$minimizer\\nminimum: $minimum\")"
   ]
  },
  {
   "cell_type": "code",
   "execution_count": null,
   "metadata": {},
   "outputs": [],
   "source": []
  }
 ],
 "metadata": {
  "kernelspec": {
   "display_name": "Kotlin",
   "language": "kotlin",
   "name": "kotlin"
  },
  "language_info": {
   "codemirror_mode": "text/x-kotlin",
   "file_extension": ".kt",
   "mimetype": "text/x-kotlin",
   "name": "kotlin",
   "pygments_lexer": "kotlin",
   "version": "1.4.20-dev-3647"
  }
 },
 "nbformat": 4,
 "nbformat_minor": 4
}
