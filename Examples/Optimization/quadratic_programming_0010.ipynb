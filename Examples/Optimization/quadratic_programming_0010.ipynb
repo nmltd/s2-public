{
 "cells": [
  {
   "cell_type": "code",
   "execution_count": 3,
   "metadata": {},
   "outputs": [
    {
     "name": "stdout",
     "output_type": "stream",
     "text": [
      "minimizer: [0.500000, 1.000000, 1.000000, 2.000000] , fx = 3.75\n"
     ]
    }
   ],
   "source": [
    "/**\n",
    " * Solve a quadratic function with constraints (no equality constraint) using the primal active set algorithm.\n",
    " *\n",
    " * @author Haksun Li\n",
    " */\n",
    "\n",
    "%use s2\n",
    "import dev.nm.solver.multivariate.constrained.convex.sdp.socp.qp.solver.activeset.QPPrimalActiveSetMinimizer.Solution\n",
    "\n",
    "// construct a QP problem\n",
    "fun problem(): QPProblem {\n",
    "    // construct a quadratic function in this form: 1/2 x'Hx + p'x\n",
    "    // a semi-definite matrix of quadratic coefficients. (x1 - x3)^2 + (x2 - x4)^2\n",
    "    val H1: Matrix = DenseMatrix(arrayOf(\n",
    "        doubleArrayOf(1.0, 0.0, -1.0, 0.0), \n",
    "        doubleArrayOf(0.0, 1.0, 0.0, -1.0), \n",
    "        doubleArrayOf(-1.0, 0.0, 1.0, 0.0), \n",
    "        doubleArrayOf(0.0, -1.0, 0.0, 1.0)))\n",
    "    // a positive-definite matrix of quadratic coefficients obtained by adding x1^2 + x2^2 + x3^2 + x4^2 to the above\n",
    "    val H2: Matrix = H1.add(H1.ONE())\n",
    "    // the linear coefficients of the quadratic function\n",
    "    val p: Vector = DenseVector(arrayOf(0.0, 0.0, 0.0, 0.0))\n",
    "    // the quadratic function to solve\n",
    "    val f: QuadraticFunction = QuadraticFunction(H2, p)\n",
    "\n",
    "    // construct a greater-than constraint\n",
    "    // the matrix of coefficients on the LHS of the the greater-than constraint inequality\n",
    "    val A: Matrix = DenseMatrix(arrayOf(\n",
    "        doubleArrayOf(1.0, 0.0, 0.0, 0.0), \n",
    "        doubleArrayOf(0.0, 1.0, 0.0, 0.0), \n",
    "        doubleArrayOf(-1.0, -2.0, 0.0, 0.0), \n",
    "        doubleArrayOf(0.0, 0.0, 0.0, 1.0),\n",
    "        doubleArrayOf(0.0, 0.0, 1.0, 1.0), \n",
    "        doubleArrayOf(0.0, 0.0, -1.0, -2.0)))\n",
    "    // the vector of values on the RHS of the greater-than constraint inequality\n",
    "    val b: Vector = DenseVector(arrayOf(0.0, 0.0, -2.0, 2.0, 3.0, -6.0))\n",
    "    // a greater-than constraint, Ax >= b\n",
    "    val greater: LinearGreaterThanConstraints = LinearGreaterThanConstraints(A, b)\n",
    "\n",
    "    // solve a quadratic programming problem using the primal active set algorithm\n",
    "    val problem = QPProblem(f, null, greater, null)\n",
    "    return problem\n",
    "}\n",
    "\n",
    "// construct an QP solver\n",
    "val solver = QPPrimalActiveSetMinimizer(\n",
    "    1e-8, // precision\n",
    "    100) // max number of iterations\n",
    "\n",
    "// solve the QP problem\n",
    "val p = problem()\n",
    "val soln: Solution = solver.solve(p)\n",
    "\n",
    "// An initial guesses for a solution. Note that the initial guess must satisfy the constraints!\n",
    "val x0: Vector = DenseVector(2.0, 2.0, 3.0, 3.0)\n",
    "val qpSoln: QPSolution = soln.search(x0)\n",
    "\n",
    "// the solution\n",
    "val minimizer = qpSoln.minimizer()\n",
    "val fx = p.f().evaluate(minimizer);\n",
    "println(\"minimizer: $minimizer, fx = $fx\")"
   ]
  },
  {
   "cell_type": "code",
   "execution_count": null,
   "metadata": {},
   "outputs": [],
   "source": []
  }
 ],
 "metadata": {
  "kernelspec": {
   "display_name": "Kotlin",
   "language": "kotlin",
   "name": "kotlin"
  },
  "language_info": {
   "codemirror_mode": "text/x-kotlin",
   "file_extension": ".kt",
   "mimetype": "text/x-kotlin",
   "name": "kotlin",
   "pygments_lexer": "kotlin",
   "version": "1.4.20-dev-3647"
  }
 },
 "nbformat": 4,
 "nbformat_minor": 4
}
