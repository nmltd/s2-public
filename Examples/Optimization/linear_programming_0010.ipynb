{
 "cells": [
  {
   "cell_type": "code",
   "execution_count": 7,
   "metadata": {},
   "outputs": [
    {
     "name": "stdout",
     "output_type": "stream",
     "text": [
      "minimizer:\n",
      "size = 1\n",
      "[3.500000, 0.500000, 0.000000] \n",
      "\n",
      "minimum: -4.0\n"
     ]
    }
   ],
   "source": [
    "/**\n",
    " * Solve an LP problem given in canonical form.\n",
    " *\n",
    " * Shown is example 3-3-3 from Linear Programming with MATLAB by Michael C. Ferris, Olvi L.\n",
    " * Mangasarian, Stephen J. Wright, which has multiple (6) solutions\n",
    " *\n",
    " * @author Haksun Li\n",
    " */\n",
    "\n",
    "%use s2\n",
    "\n",
    "// construct an LP problem in canonical form\n",
    "fun problem(): LPCanonicalProblem1 {\n",
    "    // min c'x\n",
    "    val c = DenseVector(arrayOf(-1.0, -1.0, -1.0))\n",
    "\n",
    "    // subject to Ax <= b\n",
    "    val A: Matrix = DenseMatrix(arrayOf(doubleArrayOf(1.0, -1.0, 1.0), doubleArrayOf(-1.0, 1.0, 1.0), doubleArrayOf(1.0, 1.0, -1.0), doubleArrayOf(-1.0, -1.0, -1.0)))\n",
    "    val b = DenseVector(arrayOf(-2.0, -3.0, -1.0, -4.0))\n",
    "    \n",
    "    val problem = LPCanonicalProblem1(c, A, b)\n",
    "    return problem\n",
    "}\n",
    "\n",
    "// construct an LP solver for canonical problems\n",
    "val solver = LPCanonicalSolver()\n",
    "\n",
    "// solve the LP problem\n",
    "val soln: LPSimplexSolution = solver.solve(problem())\n",
    "val minimizer = soln.minimizer()\n",
    "val minimum = soln.minimum()\n",
    "println(\"minimizer:\\n$minimizer\\nminimum: $minimum\")"
   ]
  },
  {
   "cell_type": "code",
   "execution_count": null,
   "metadata": {},
   "outputs": [],
   "source": []
  }
 ],
 "metadata": {
  "kernelspec": {
   "display_name": "Kotlin",
   "language": "kotlin",
   "name": "kotlin"
  },
  "language_info": {
   "codemirror_mode": "text/x-kotlin",
   "file_extension": ".kt",
   "mimetype": "text/x-kotlin",
   "name": "kotlin",
   "pygments_lexer": "kotlin",
   "version": "1.4.20-dev-3647"
  }
 },
 "nbformat": 4,
 "nbformat_minor": 4
}
