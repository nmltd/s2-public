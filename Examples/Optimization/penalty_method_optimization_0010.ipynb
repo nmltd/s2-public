{
 "cells": [
  {
   "cell_type": "code",
   "execution_count": 4,
   "metadata": {},
   "outputs": [
    {
     "name": "stdout",
     "output_type": "stream",
     "text": [
      "f([2.000000, 0.000000] ) = -4.0\n"
     ]
    }
   ],
   "source": [
    "/**\n",
    " * Demonstrates how to optimize a function, both univariate and multivariate.\n",
    " *\n",
    " * @author Haksun Li\n",
    " */\n",
    "\n",
    "%use s2\n",
    "import dev.nm.solver.IterativeSolution\n",
    "\n",
    "// construct a constrained optimization problem\n",
    "fun problem(): ConstrainedOptimProblem {\n",
    "    // An example multivariate function.\n",
    "    val f: RealScalarFunction = object : AbstractBivariateRealFunction() {\n",
    "        override fun evaluate(x: Double, y: Double): Double {\n",
    "            return x * x - 4 * x + y * y - y - x * y\n",
    "        }\n",
    "    }\n",
    "\n",
    "    // An equality constraint for constrained optimization.\n",
    "    val c1: EqualityConstraints = GeneralEqualityConstraints(\n",
    "        object : AbstractBivariateRealFunction() {\n",
    "            override fun evaluate(x: Double, y: Double): Double {\n",
    "                return y // y = 0\n",
    "            }\n",
    "        }\n",
    "    )\n",
    "\n",
    "    // A less than constraint for constrained optimization.\n",
    "    val c2: LessThanConstraints = GeneralLessThanConstraints(\n",
    "        object : AbstractBivariateRealFunction() {\n",
    "            override fun evaluate(x: Double, y: Double): Double {\n",
    "                return 1 - x // x >= 1\n",
    "            }\n",
    "        }\n",
    "    )\n",
    "\n",
    "    // construct an optimization problem\n",
    "    val problem = ConstrainedOptimProblemImpl1(f, c1, c2)\n",
    "    return problem\n",
    "}\n",
    "\n",
    "// Solve a general constrained optimization using BFGS.\n",
    "val gamma = 1e30\n",
    "val optim = PenaltyMethodMinimizer(\n",
    "    PenaltyMethodMinimizer.DEFAULT_PENALTY_FUNCTION_FACTORY,\n",
    "    gamma,\n",
    "    BFGSMinimizer( // an optimizer to use in conjunction with PenaltyMethodMinimizer\n",
    "        false,\n",
    "        1e-8, // epsilon\n",
    "        200) // max number of iterations\n",
    ")\n",
    "val p = problem()\n",
    "val minimizer: IterativeSolution<Vector?> = optim.solve(p)\n",
    "val xmin: Vector? = minimizer.search(DenseVector(0.0, 0.0)) // initial guess = (0.0, 0.0)\n",
    "val fxmin: Double = p.f().evaluate(xmin)\n",
    "println(\"f($xmin) = $fxmin\")"
   ]
  },
  {
   "cell_type": "code",
   "execution_count": null,
   "metadata": {},
   "outputs": [],
   "source": []
  }
 ],
 "metadata": {
  "kernelspec": {
   "display_name": "Kotlin",
   "language": "kotlin",
   "name": "kotlin"
  },
  "language_info": {
   "codemirror_mode": "text/x-kotlin",
   "file_extension": ".kt",
   "mimetype": "text/x-kotlin",
   "name": "kotlin",
   "nbconvert_exporter": "",
   "pygments_lexer": "kotlin",
   "version": "1.5.30-dev-598"
  }
 },
 "nbformat": 4,
 "nbformat_minor": 4
}
