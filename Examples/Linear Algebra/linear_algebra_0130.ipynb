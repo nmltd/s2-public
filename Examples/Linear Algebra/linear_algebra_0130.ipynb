{
 "cells": [
  {
   "cell_type": "code",
   "execution_count": 3,
   "metadata": {},
   "outputs": [
    {
     "name": "stdout",
     "output_type": "stream",
     "text": [
      "eigenvalues:\n",
      "eigenvalue: 1.0; eigenvector: [-2.000000, 1.000000, 1.000000] \n",
      "eigenvalue: 0.5; eigenvector: [-0.000000, 1.000000, 0.000000] \n",
      "eigenvalue: 0.49999999999999994; eigenvector: [-0.000000, 1.000000, 0.000000] \n"
     ]
    }
   ],
   "source": [
    "/**\n",
    " * Compute the eigenvalues and eigenvectors. The eigenvectors are stored in the Property\n",
    " * associated with each eigenvalues.\n",
    " *\n",
    " * @author Haksun Li \n",
    " */\n",
    "\n",
    "%use s2\n",
    "\n",
    "// Create a matrix\n",
    "val A = DenseMatrix(arrayOf(doubleArrayOf(1.5, 0.0, 1.0), doubleArrayOf(-0.5, 0.5, -0.5), doubleArrayOf(-0.5, 0.0, 0.0)))\n",
    "// eigen decomposition\n",
    "val eigen = Eigen(A, Eigen.Method.QR, 0.0)\n",
    "println(\"eigenvalues:\")\n",
    "for (i in 0 until eigen.size()) {\n",
    "    // get the i-th eigenvalue\n",
    "    val eigenvalue = eigen.getEigenvalue(i)\n",
    "    // get the property associated with the eigenvalue\n",
    "    val property = eigen.getProperty(eigenvalue)\n",
    "    // get the eigen vector from property\n",
    "    val eigenVector = property.eigenVector()\n",
    "    println(\"eigenvalue: $eigenvalue; eigenvector: $eigenVector\")\n",
    "}"
   ]
  },
  {
   "cell_type": "code",
   "execution_count": null,
   "metadata": {},
   "outputs": [],
   "source": []
  }
 ],
 "metadata": {
  "kernelspec": {
   "display_name": "Kotlin",
   "language": "kotlin",
   "name": "kotlin"
  },
  "language_info": {
   "codemirror_mode": "text/x-kotlin",
   "file_extension": ".kt",
   "mimetype": "text/x-kotlin",
   "name": "kotlin",
   "pygments_lexer": "kotlin",
   "version": "1.4.20-dev-3647"
  }
 },
 "nbformat": 4,
 "nbformat_minor": 4
}
