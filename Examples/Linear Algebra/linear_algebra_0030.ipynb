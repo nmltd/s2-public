{
 "cells": [
  {
   "cell_type": "code",
   "execution_count": 13,
   "metadata": {},
   "outputs": [
    {
     "name": "stdout",
     "output_type": "stream",
     "text": [
      "homogenous solutions: [[-2.000000, -1.000000, 1.000000, 1.000000] ]\n",
      "Ax = [0.000000, 0.000000, 0.000000, 0.000000] , which should be 0\n"
     ]
    }
   ],
   "source": [
    "/**\n",
    " * Solve an underdetermined system of linear equations.\n",
    " *\n",
    " * @author Haksun Li \n",
    " */\n",
    "\n",
    "%use s2\n",
    "\n",
    "// Create a matrix\n",
    "val A = DenseMatrix(arrayOf(\n",
    "    doubleArrayOf(0.0, 1.0, 2.0, -1.0), \n",
    "    doubleArrayOf(1.0, 0.0, 1.0, 1.0), \n",
    "    doubleArrayOf(-1.0, 1.0, 0.0, -1.0), \n",
    "    doubleArrayOf(0.0, 2.0, 3.0, -1.0)))\n",
    "\n",
    "// Create a vector\n",
    "val b = DenseVector(arrayOf(1.0, 4.0, 2.0, 7.0))\n",
    "\n",
    "// Create a solver for linear system\n",
    "val precision = 1e-15\n",
    "val solver = LinearSystemSolver(precision)\n",
    "\n",
    "// solutions for Ax = 0\n",
    "val soln: LinearSystemSolver.Solution = solver.solve(A)\n",
    "// xList is a list of possible homogeneous solutions\n",
    "val xList = soln.homogeneousSoln\n",
    "println(\"homogenous solutions: ${xList.toTypedArray().contentToString()}\")\n",
    "\n",
    "// verification\n",
    "val x = xList.get(0) // we get the first homogeneous solution\n",
    "val Ax = A.multiply(x) // Ax = 0\n",
    "println(\"Ax = $Ax, which should be 0\")"
   ]
  },
  {
   "cell_type": "code",
   "execution_count": null,
   "metadata": {},
   "outputs": [],
   "source": []
  }
 ],
 "metadata": {
  "kernelspec": {
   "display_name": "Kotlin",
   "language": "kotlin",
   "name": "kotlin"
  },
  "language_info": {
   "codemirror_mode": "text/x-kotlin",
   "file_extension": ".kt",
   "mimetype": "text/x-kotlin",
   "name": "kotlin",
   "pygments_lexer": "kotlin",
   "version": "1.4.20-dev-3647"
  }
 },
 "nbformat": 4,
 "nbformat_minor": 4
}
