{
 "cells": [
  {
   "cell_type": "code",
   "execution_count": 1,
   "metadata": {},
   "outputs": [
    {
     "name": "stdout",
     "output_type": "stream",
     "text": [
      "3x2\n",
      "\t[,1] [,2] \n",
      "[1,] 1.000000, 4.000000, \n",
      "[2,] 2.000000, 5.000000, \n",
      "[3,] 3.000000, 6.000000, \n",
      "multiply\n",
      "2x3\n",
      "\t[,1] [,2] [,3] \n",
      "[1,] 1.000000, 2.000000, 3.000000, \n",
      "[2,] 4.000000, 5.000000, 6.000000, \n",
      "=\n",
      "3x3\n",
      "\t[,1] [,2] [,3] \n",
      "[1,] 17.000000, 22.000000, 27.000000, \n",
      "[2,] 22.000000, 29.000000, 36.000000, \n",
      "[3,] 27.000000, 36.000000, 45.000000, \n",
      "2x3\n",
      "\t[,1] [,2] [,3] \n",
      "[1,] 1.000000, 2.000000, 3.000000, \n",
      "[2,] 4.000000, 5.000000, 6.000000, \n",
      "multiply\n",
      "3x1\n",
      "\t[,1] \n",
      "[1,] 1.100000, \n",
      "[2,] -2.200000, \n",
      "[3,] 3.300000, \n",
      "=\n",
      "2x1\n",
      "\t[,1] \n",
      "[1,] 6.600000, \n",
      "[2,] 13.200000, \n"
     ]
    }
   ],
   "source": [
    "/**\n",
    " * Demonstrate matrix multiplication.\n",
    " *\n",
    " * @author Haksun Li\n",
    " */\n",
    "\n",
    "%use s2\n",
    "\n",
    "// Create a 2x3 matrix\n",
    "var A1 = DenseMatrix(arrayOf(\n",
    "    doubleArrayOf(1.0, 2.0, 3.0),\n",
    "    doubleArrayOf(4.0, 5.0, 6.0)))\n",
    "\n",
    "// Copy a matrix\n",
    "var A2 = DenseMatrix(A1)\n",
    "\n",
    "// Get the transpose of A2\n",
    "var A3 = A2.t() // 3x2\n",
    "\n",
    "// Matrix multiplication\n",
    "var A4 = A3.multiply(A1)\n",
    "\n",
    "// Convert a matrix to String\n",
    "println(\"$A3\\nmultiply\\n$A1\\n=\\n$A4\")\n",
    "\n",
    "// Create a vector\n",
    "var v1 = DenseVector(arrayOf(1.1, -2.2, 3.3))\n",
    "\n",
    "// Create a culumn matrix from a vector\n",
    "var A5 = DenseMatrix(v1.toArray(), v1.size(), 1)\n",
    "\n",
    "// Matrix multiplication\n",
    "var A6 = A1.multiply(A5)\n",
    "\n",
    "// Convert a matrix to string\n",
    "println(\"$A1\\nmultiply\\n$A5\\n=\\n$A6\")"
   ]
  },
  {
   "cell_type": "code",
   "execution_count": null,
   "metadata": {},
   "outputs": [],
   "source": []
  }
 ],
 "metadata": {
  "kernelspec": {
   "display_name": "Kotlin",
   "language": "kotlin",
   "name": "kotlin"
  },
  "language_info": {
   "codemirror_mode": "text/x-kotlin",
   "file_extension": ".kt",
   "mimetype": "text/x-kotlin",
   "name": "kotlin",
   "pygments_lexer": "kotlin",
   "version": "1.4.20-dev-3647"
  }
 },
 "nbformat": 4,
 "nbformat_minor": 4
}
