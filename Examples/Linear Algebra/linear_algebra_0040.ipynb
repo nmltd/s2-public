{
 "cells": [
  {
   "cell_type": "code",
   "execution_count": 2,
   "metadata": {},
   "outputs": [
    {
     "name": "stdout",
     "output_type": "stream",
     "text": [
      "matrix after the first set of elementary operations: 3x3\n",
      "\t[,1] [,2] [,3] \n",
      "[1,] 1.000000, 0.000000, 0.000000, \n",
      "[2,] 0.000000, -1.000000, 2.000000, \n",
      "[3,] 0.000000, 1.000000, 0.000000, \n",
      "matrix after the second set of elementary operations: 3x3\n",
      "\t[,1] [,2] [,3] \n",
      "[1,] 1.000000, 0.000000, 0.000000, \n",
      "[2,] 0.000000, 5.000000, -1.000000, \n",
      "[3,] 0.000000, -1.000000, 1.000000, \n"
     ]
    }
   ],
   "source": [
    "/**\n",
    " * Demonstrate elementary operations on a matrix.\n",
    " *\n",
    " * @author Haksun Li \n",
    " */\n",
    "\n",
    "%use s2\n",
    "\n",
    "// Create a matrix\n",
    "val original = DenseMatrix(arrayOf(\n",
    "    doubleArrayOf(1.0, 0.0, 0.0), \n",
    "    doubleArrayOf(0.0, 1.0, 0.0), \n",
    "    doubleArrayOf(0.0, 0.0, 1.0)))\n",
    "\n",
    "// Create an object to do elementary operations\n",
    "val modified = ElementaryOperation(original)\n",
    "/**\n",
    " * A[i<sub>1</sub>, ] = A[i<sub>2</sub>, ]\n",
    " * A[i<sub>2</sub>, ] = A[i<sub>1</sub>, ]\n",
    " */\n",
    "modified.swapRow(2, 3) // swap the 2nd with the 3rd rows\n",
    "// A[i, ] = c * A[i, ]\n",
    "modified.scaleRow(2, 2.0) // scale the 2nd row by 2.0\n",
    "// A[i<sub>1</sub>, ] = A[i<sub>1</sub>, ] + c * A[i<sub>2</sub>, ]\n",
    "modified.addRow(2, 3, -1.0) // add -1 * 3rd row to the 2nd row\n",
    "println(\"matrix after the first set of elementary operations: $modified\")\n",
    "\n",
    "/**\n",
    " * A[, j<sub>1</sub>] = A[, j<sub>2</sub>]\n",
    " * A[, j<sub>2</sub>] = A[, j<sub>1</sub>]\n",
    " */\n",
    "modified.swapColumn(2, 3) // swap the 2nd with the 3rd columns\n",
    "// A[, j] = c * A[, j]\n",
    "modified.scaleColumn(2, 2.0) // scale the 2nd column by 2.0\n",
    "// A[, j<sub>1</sub>] = A[, j<sub>1</sub>] + c * A[, j<sub>2</sub>]\n",
    "modified.addColumn(2, 3, -1.0) // add -1 * 3rd column to the 2nd column\n",
    "println(\"matrix after the second set of elementary operations: $modified\")\n"
   ]
  },
  {
   "cell_type": "code",
   "execution_count": null,
   "metadata": {},
   "outputs": [],
   "source": []
  }
 ],
 "metadata": {
  "kernelspec": {
   "display_name": "Kotlin",
   "language": "kotlin",
   "name": "kotlin"
  },
  "language_info": {
   "codemirror_mode": "text/x-kotlin",
   "file_extension": ".kt",
   "mimetype": "text/x-kotlin",
   "name": "kotlin",
   "pygments_lexer": "kotlin",
   "version": "1.4.20-dev-3647"
  }
 },
 "nbformat": 4,
 "nbformat_minor": 4
}
