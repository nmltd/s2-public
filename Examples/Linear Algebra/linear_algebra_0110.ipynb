{
 "cells": [
  {
   "cell_type": "code",
   "execution_count": 1,
   "metadata": {},
   "outputs": [
    {
     "name": "stdout",
     "output_type": "stream",
     "text": [
      "cholesky decomposition: L: 3x3\n",
      "\t[,1] [,2] [,3] \n",
      "[1,] 1.414214, 0.000000, 0.000000, \n",
      "[2,] 0.707107, 1.224745, 0.000000, \n",
      "[3,] 0.707107, 0.408248, 1.154701, \n",
      "3x3\n",
      "\t[,1] [,2] [,3] \n",
      "[1,] 2.000000, 1.000000, 1.000000, \n",
      "[2,] 1.000000, 2.000000, 1.000000, \n",
      "[3,] 1.000000, 1.000000, 2.000000,  =\n",
      "3x3\n",
      "\t[,1] [,2] [,3] \n",
      "[1,] 2.000000, 1.000000, 1.000000, \n",
      "[2,] 1.000000, 2.000000, 1.000000, \n",
      "[3,] 1.000000, 1.000000, 2.000000, \n"
     ]
    }
   ],
   "source": [
    "/**\n",
    " * Demonstrate Cholesky decomposition.\n",
    " *\n",
    " * @author Haksun Li\n",
    " */\n",
    "\n",
    "%use s2\n",
    "\n",
    "// Create a matrix\n",
    "val A1 = DenseMatrix(arrayOf(\n",
    "    doubleArrayOf(2.0, 1.0, 1.0), \n",
    "    doubleArrayOf(1.0, 2.0, 1.0), \n",
    "    doubleArrayOf(1.0, 1.0, 2.0)))\n",
    "// Cholesky decomposition\n",
    "val cholesky = Chol(A1)\n",
    "println(\"cholesky decomposition: L: ${cholesky.L()}\")\n",
    "\n",
    "// verification\n",
    "val L = cholesky.L()\n",
    "val A2 = L.multiply(L.t()) // L * L' = A1 = A2\n",
    "println(\"$A1 =\\n$A2\")"
   ]
  },
  {
   "cell_type": "code",
   "execution_count": null,
   "metadata": {},
   "outputs": [],
   "source": []
  }
 ],
 "metadata": {
  "kernelspec": {
   "display_name": "Kotlin",
   "language": "kotlin",
   "name": "kotlin"
  },
  "language_info": {
   "codemirror_mode": "text/x-kotlin",
   "file_extension": ".kt",
   "mimetype": "text/x-kotlin",
   "name": "kotlin",
   "pygments_lexer": "kotlin",
   "version": "1.4.20-dev-3647"
  }
 },
 "nbformat": 4,
 "nbformat_minor": 4
}
