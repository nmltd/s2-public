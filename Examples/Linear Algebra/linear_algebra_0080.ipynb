{
 "cells": [
  {
   "cell_type": "code",
   "execution_count": 1,
   "metadata": {},
   "outputs": [
    {
     "name": "stdout",
     "output_type": "stream",
     "text": [
      "pseudo inverse: 2x2\n",
      "\t[,1] [,2] \n",
      "[1,] 0.030769, 0.046154, \n",
      "[2,] 0.061538, 0.092308, \n"
     ]
    }
   ],
   "source": [
    "/**\n",
    " * Compute the pseudo inverse of a non-invertible matrix.\n",
    " *\n",
    " * @author Haksun Li\n",
    " */\n",
    "\n",
    "%use s2\n",
    "\n",
    "// Create a matrix\n",
    "val A = DenseMatrix(arrayOf(\n",
    "    doubleArrayOf(2.0, 4.0), \n",
    "    doubleArrayOf(3.0, 6.0)))\n",
    "// Compute the pseudo inverse\n",
    "val Ainv = PseudoInverse(A)\n",
    "println(\"pseudo inverse: $Ainv\")"
   ]
  },
  {
   "cell_type": "code",
   "execution_count": null,
   "metadata": {},
   "outputs": [],
   "source": []
  }
 ],
 "metadata": {
  "kernelspec": {
   "display_name": "Kotlin",
   "language": "kotlin",
   "name": "kotlin"
  },
  "language_info": {
   "codemirror_mode": "text/x-kotlin",
   "file_extension": ".kt",
   "mimetype": "text/x-kotlin",
   "name": "kotlin",
   "pygments_lexer": "kotlin",
   "version": "1.4.20-dev-3647"
  }
 },
 "nbformat": 4,
 "nbformat_minor": 4
}
