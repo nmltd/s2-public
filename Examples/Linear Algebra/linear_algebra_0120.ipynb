{
 "cells": [
  {
   "cell_type": "code",
   "execution_count": 1,
   "metadata": {},
   "outputs": [
    {
     "name": "stdout",
     "output_type": "stream",
     "text": [
      "doolitle LU decomposition:\n",
      "L: 3x3\n",
      "\t[,1] [,2] [,3] \n",
      "[1,] 1.000000, 0.000000, 0.000000, \n",
      "[2,] 0.142857, 1.000000, 0.000000, \n",
      "[3,] 0.571429, 0.500000, 1.000000, ,\n",
      "U: 3x3\n",
      "\t[,1] [,2] [,3] \n",
      "[1,] 7.000000, 8.000000, 9.000000, \n",
      "[2,] 0.000000, 0.857143, 1.714286, \n",
      "[3,] 0.000000, 0.000000, 0.000000, \n",
      "\n",
      "A1 - A2 = 0.0\n"
     ]
    }
   ],
   "source": [
    "/**\n",
    " * Demonstrate LU decomposition by the Doolittle process.\n",
    " *\n",
    " * @author Haksun Li\n",
    " */\n",
    "\n",
    "%use s2\n",
    "\n",
    "// Create a matrix\n",
    "val A1 = DenseMatrix(arrayOf(doubleArrayOf(1.0, 2.0, 3.0), doubleArrayOf(4.0, 5.0, 6.0), doubleArrayOf(7.0, 8.0, 9.0)))\n",
    "// LU decomposition\n",
    "val LU = Doolittle(A1)\n",
    "val L = LU.L()\n",
    "val U = LU.U()\n",
    "println(\"doolitle LU decomposition:\\nL: $L,\\nU: $U\\n\")\n",
    "\n",
    "// verification\n",
    "val A2 = L.multiply(U) // L*U = A1 = A2\n",
    "val ZERO = A1.minus(A2)\n",
    "val det: Double = MatrixMeasure.det(ZERO)\n",
    "println(\"A1 - A2 = $det\")"
   ]
  },
  {
   "cell_type": "code",
   "execution_count": null,
   "metadata": {},
   "outputs": [],
   "source": []
  }
 ],
 "metadata": {
  "kernelspec": {
   "display_name": "Kotlin",
   "language": "kotlin",
   "name": "kotlin"
  },
  "language_info": {
   "codemirror_mode": "text/x-kotlin",
   "file_extension": ".kt",
   "mimetype": "text/x-kotlin",
   "name": "kotlin",
   "pygments_lexer": "kotlin",
   "version": "1.4.20-dev-3647"
  }
 },
 "nbformat": 4,
 "nbformat_minor": 4
}
