{
 "cells": [
  {
   "cell_type": "code",
   "execution_count": 8,
   "metadata": {},
   "outputs": [
    {
     "name": "stdout",
     "output_type": "stream",
     "text": [
      "soln is: [4.166667, 1.666667, 0.833333] \n",
      "Ax = [10.000000, 20.000000, 30.000000] , same as [10.000000, 20.000000, 30.000000] \n"
     ]
    }
   ],
   "source": [
    "/**\n",
    " * Solve a system of linear equations.\n",
    " *\n",
    " * @author Haksun Li\n",
    " */\n",
    "\n",
    "%use s2\n",
    "\n",
    "// Create a 3x3 matrix\n",
    "val A = DenseMatrix(arrayOf(\n",
    "    doubleArrayOf(1.0, 2.0, 3.0), \n",
    "    doubleArrayOf(2.0, 3.0, 8.0), \n",
    "    doubleArrayOf(4.0, 5.0, 6.0)))\n",
    "\n",
    "// Create a vector\n",
    "val b = DenseVector(arrayOf(10.0, 20.0, 30.0))\n",
    "\n",
    "// Create a solver for linear system\n",
    "val precision = 1e-15\n",
    "val solver = LinearSystemSolver(precision)\n",
    "\n",
    "// Solve for Ax\n",
    "val soln = solver.solve(A)\n",
    "\n",
    "// solution for Ax = b\n",
    "val x = soln.getParticularSolution(b)\n",
    "println(\"soln is: $x\")\n",
    "\n",
    "// verification\n",
    "val Ax = A.multiply(x) // Ax = b\n",
    "println(\"Ax = $Ax, same as $b\")"
   ]
  },
  {
   "cell_type": "code",
   "execution_count": null,
   "metadata": {},
   "outputs": [],
   "source": []
  }
 ],
 "metadata": {
  "kernelspec": {
   "display_name": "Kotlin",
   "language": "kotlin",
   "name": "kotlin"
  },
  "language_info": {
   "codemirror_mode": "text/x-kotlin",
   "file_extension": ".kt",
   "mimetype": "text/x-kotlin",
   "name": "kotlin",
   "pygments_lexer": "kotlin",
   "version": "1.4.20-dev-3647"
  }
 },
 "nbformat": 4,
 "nbformat_minor": 4
}
