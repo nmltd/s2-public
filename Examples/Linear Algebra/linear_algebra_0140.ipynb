{
 "cells": [
  {
   "cell_type": "code",
   "execution_count": 1,
   "metadata": {},
   "outputs": [
    {
     "name": "stdout",
     "output_type": "stream",
     "text": [
      "eigen decomposition result: 4x4\n",
      "\t[,1] [,2] [,3] [,4] \n",
      "[1,] 24.638176, 0.000000, 0.000000, 0.000000, \n",
      "[2,] 0.000000, -0.038687, 0.000000, 0.000000, \n",
      "[3,] 0.000000, 0.000000, -0.513527, 0.000000, \n",
      "[4,] 0.000000, 0.000000, 0.000000, -4.085962, \n",
      "4x4\n",
      "\t[,1] [,2] [,3] [,4] \n",
      "[1,] 1.000000, 2.000000, 4.000000, 7.000000, \n",
      "[2,] 2.000000, 3.000000, 5.000000, 8.000000, \n",
      "[3,] 4.000000, 5.000000, 6.000000, 9.000000, \n",
      "[4,] 7.000000, 8.000000, 9.000000, 10.000000,  =\n",
      "4x4\n",
      "\t[,1] [,2] [,3] [,4] \n",
      "[1,] 1.000000, 2.000000, 4.000000, 7.000000, \n",
      "[2,] 2.000000, 3.000000, 5.000000, 8.000000, \n",
      "[3,] 4.000000, 5.000000, 6.000000, 9.000000, \n",
      "[4,] 7.000000, 8.000000, 9.000000, 10.000000, \n"
     ]
    }
   ],
   "source": [
    "/**\n",
    " * Demonstrate eigen decomposition of a symmetric matrix.\n",
    " *\n",
    " * @author Haksun Li\n",
    " */\n",
    "\n",
    "%use s2\n",
    "\n",
    "// Create a symmetric matrix\n",
    "val A = DenseMatrix(SymmetricMatrix(\n",
    "    arrayOf(doubleArrayOf(1.0),\n",
    "            doubleArrayOf(2.0, 3.0), \n",
    "            doubleArrayOf(4.0, 5.0, 6.0), \n",
    "            doubleArrayOf(7.0, 8.0, 9.0, 10.0))))\n",
    "// eigen decomposition\n",
    "val precision = 1e-4\n",
    "val decomp = EigenDecomposition(A, precision)\n",
    "val D = decomp.D() // get the diagonal matrix which contains the eigen values\n",
    "println(\"eigen decomposition result: $D\")\n",
    "\n",
    "// verification\n",
    "val Q = decomp.Q();\n",
    "val Qt = decomp.Qt();\n",
    "val B = Q.multiply(D).multiply(Qt); // QDQ' = A = B\n",
    "println(\"$A =\\n$B\")"
   ]
  },
  {
   "cell_type": "code",
   "execution_count": null,
   "metadata": {},
   "outputs": [],
   "source": []
  }
 ],
 "metadata": {
  "kernelspec": {
   "display_name": "Kotlin",
   "language": "kotlin",
   "name": "kotlin"
  },
  "language_info": {
   "codemirror_mode": "text/x-kotlin",
   "file_extension": ".kt",
   "mimetype": "text/x-kotlin",
   "name": "kotlin",
   "pygments_lexer": "kotlin",
   "version": "1.4.20-dev-3647"
  }
 },
 "nbformat": 4,
 "nbformat_minor": 4
}
