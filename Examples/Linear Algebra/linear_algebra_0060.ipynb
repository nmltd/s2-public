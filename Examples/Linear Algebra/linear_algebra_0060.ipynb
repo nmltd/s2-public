{
 "cells": [
  {
   "cell_type": "code",
   "execution_count": 1,
   "metadata": {},
   "outputs": [
    {
     "name": "stdout",
     "output_type": "stream",
     "text": [
      "kronecker product: 4x4\n",
      "\t[,1] [,2] [,3] [,4] \n",
      "[1,] 5.000000, 6.000000, 10.000000, 12.000000, \n",
      "[2,] 7.000000, 8.000000, 14.000000, 16.000000, \n",
      "[3,] 15.000000, 18.000000, 20.000000, 24.000000, \n",
      "[4,] 21.000000, 24.000000, 28.000000, 32.000000, \n"
     ]
    }
   ],
   "source": [
    "/**\n",
    " * Compute the Kronecker Product of two matrices.\n",
    " *\n",
    " * @author Haksun Li\n",
    " */\n",
    "\n",
    "%use s2\n",
    "\n",
    "// Create a matrix\n",
    "val A1 = DenseMatrix(arrayOf(\n",
    "    doubleArrayOf(1.0, 2.0), \n",
    "    doubleArrayOf(3.0, 4.0)))\n",
    "\n",
    "// Create a matrix\n",
    "val A2 = DenseMatrix(arrayOf(\n",
    "    doubleArrayOf(5.0, 6.0), \n",
    "    doubleArrayOf(7.0, 8.0)))\n",
    "\n",
    "// Compute the Kronecker Product of two matrices\n",
    "val A1A2 = KroneckerProduct(A1, A2)\n",
    "println(\"kronecker product: $A1A2\")"
   ]
  },
  {
   "cell_type": "code",
   "execution_count": null,
   "metadata": {},
   "outputs": [],
   "source": []
  }
 ],
 "metadata": {
  "kernelspec": {
   "display_name": "Kotlin",
   "language": "kotlin",
   "name": "kotlin"
  },
  "language_info": {
   "codemirror_mode": "text/x-kotlin",
   "file_extension": ".kt",
   "mimetype": "text/x-kotlin",
   "name": "kotlin",
   "pygments_lexer": "kotlin",
   "version": "1.4.20-dev-3647"
  }
 },
 "nbformat": 4,
 "nbformat_minor": 4
}
