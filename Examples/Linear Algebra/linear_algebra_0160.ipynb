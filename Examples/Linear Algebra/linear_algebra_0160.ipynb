{
 "cells": [
  {
   "cell_type": "code",
   "execution_count": 1,
   "metadata": {},
   "outputs": [
    {
     "name": "stdout",
     "output_type": "stream",
     "text": [
      "gram-schmidt QR decomposition:\n",
      "Q: 2x2\n",
      "\t[,1] [,2] \n",
      "[1,] 0.948683, -0.316228, \n",
      "[2,] 0.316228, 0.948683, ,\n",
      "T: 2x2\n",
      "\t[,1] [,2] \n",
      "[1,] 3.162278, 2.529822, \n",
      "[2,] 0.000000, 1.264911, \n",
      "\n",
      "A1 - A2 = 0.0\n"
     ]
    }
   ],
   "source": [
    "/**\n",
    " * Demonstrate QR decomposition by the Gram-Schmidt process.\n",
    " *\n",
    " * @author Haksun Li\n",
    " */\n",
    "\n",
    "%use s2\n",
    "\n",
    "// Create a matrix\n",
    "val A1 = DenseMatrix(arrayOf(doubleArrayOf(3.0, 2.0), doubleArrayOf(1.0, 2.0)))\n",
    "\n",
    "// QR decomposition by the Gram-Schmidt\n",
    "val GS = GramSchmidt(A1, true, 0.0) // true: parallel computation\n",
    "val Q = GS.Q()\n",
    "val R = GS.R()\n",
    "println(\"gram-schmidt QR decomposition:\\nQ: $Q,\\nT: $R\\n\")\n",
    "\n",
    "// verification\n",
    "val A2 = Q.multiply(R); // QR = A1 = A2\n",
    "val det: Double = MatrixMeasure.det(A1.minus(A2))\n",
    "println(\"A1 - A2 = $det\")"
   ]
  },
  {
   "cell_type": "code",
   "execution_count": null,
   "metadata": {},
   "outputs": [],
   "source": []
  }
 ],
 "metadata": {
  "kernelspec": {
   "display_name": "Kotlin",
   "language": "kotlin",
   "name": "kotlin"
  },
  "language_info": {
   "codemirror_mode": "text/x-kotlin",
   "file_extension": ".kt",
   "mimetype": "text/x-kotlin",
   "name": "kotlin",
   "pygments_lexer": "kotlin",
   "version": "1.4.20-dev-3647"
  }
 },
 "nbformat": 4,
 "nbformat_minor": 4
}
