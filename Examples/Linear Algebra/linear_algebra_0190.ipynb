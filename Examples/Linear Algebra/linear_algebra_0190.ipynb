{
 "cells": [
  {
   "cell_type": "code",
   "execution_count": 1,
   "metadata": {},
   "outputs": [
    {
     "name": "stdout",
     "output_type": "stream",
     "text": [
      "tridiagonalization: T: 3x3\n",
      "\t[,1] [,2] [,3] \n",
      "[1,] 1.000000, -8.602325, 0.000000, \n",
      "[2,] -8.602325, 6.337838, 1.472973, \n",
      "[3,] 0.000000, 1.472973, -5.337838, ,\n",
      "Q: 3x3\n",
      "\t[,1] [,2] [,3] \n",
      "[1,] 1.000000, 0.000000, 0.000000, \n",
      "[2,] 0.000000, -0.581238, -0.813733, \n",
      "[3,] 0.000000, -0.813733, 0.581238, \n",
      "\n",
      "T1 - T2 = 4.203895392974451E-45\n"
     ]
    }
   ],
   "source": [
    "/**\n",
    " * Demonstrate tridiagonalization of a matrix. \n",
    " *\n",
    " * @author Haksun Li \n",
    " */\n",
    "\n",
    "%use s2\n",
    "\n",
    "// Create a matrix\n",
    "val S = DenseMatrix(arrayOf(doubleArrayOf(1.0, 5.0, 7.0), doubleArrayOf(5.0, 0.0, 6.0), doubleArrayOf(7.0, 6.0, 1.0)))\n",
    "\n",
    "// tridiagonalization of a matrix\n",
    "val decomp = TriDiagonalization(S)\n",
    "val T1 = decomp.T()\n",
    "val Q = decomp.Q()\n",
    "println(\"tridiagonalization: T: $T1,\\nQ: $Q\\n\")\n",
    "\n",
    "// verification\n",
    "val T2 = Q.t().multiply(S).multiply(Q) // Q'SQ = T1 = T2\n",
    "val ZERO = T1.minus(T2)\n",
    "val det: Double = MatrixMeasure.det(ZERO)\n",
    "println(\"T1 - T2 = $det\")"
   ]
  },
  {
   "cell_type": "code",
   "execution_count": null,
   "metadata": {},
   "outputs": [],
   "source": []
  }
 ],
 "metadata": {
  "kernelspec": {
   "display_name": "Kotlin",
   "language": "kotlin",
   "name": "kotlin"
  },
  "language_info": {
   "codemirror_mode": "text/x-kotlin",
   "file_extension": ".kt",
   "mimetype": "text/x-kotlin",
   "name": "kotlin",
   "pygments_lexer": "kotlin",
   "version": "1.4.20-dev-3647"
  }
 },
 "nbformat": 4,
 "nbformat_minor": 4
}
