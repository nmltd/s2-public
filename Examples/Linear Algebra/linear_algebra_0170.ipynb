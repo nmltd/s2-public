{
 "cells": [
  {
   "cell_type": "code",
   "execution_count": 1,
   "metadata": {},
   "outputs": [
    {
     "name": "stdout",
     "output_type": "stream",
     "text": [
      "hessenberg decomposition:\n",
      "H: 3x3\n",
      "\t[,1] [,2] [,3] \n",
      "[1,] 1.000000, -8.600000, 0.200000, \n",
      "[2,] -5.000000, 4.960000, -0.720000, \n",
      "[3,] 0.000000, 2.280000, -3.960000, ,\n",
      "Q: 3x3\n",
      "\t[,1] [,2] [,3] \n",
      "[1,] 1.000000, 0.000000, 0.000000, \n",
      "[2,] 0.000000, -0.600000, -0.800000, \n",
      "[3,] 0.000000, -0.800000, 0.600000, \n",
      "\n",
      "H1 - H2 = 0.0\n"
     ]
    }
   ],
   "source": [
    "/**\n",
    " * Demonstrate Hessenberg decomposition of a square matrix.\n",
    " *\n",
    " * @author Haksun Li \n",
    " */\n",
    "\n",
    "%use s2\n",
    "\n",
    "// Create a matrix\n",
    "val A1 = DenseMatrix(arrayOf(doubleArrayOf(1.0, 5.0, 7.0), doubleArrayOf(3.0, 0.0, 6.0), doubleArrayOf(4.0, 3.0, 1.0)))\n",
    "\n",
    "// Hessenberg decomposition\n",
    "val decomp = HessenbergDecomposition(A1)\n",
    "val H1 = decomp.H()\n",
    "val Q = decomp.Q()\n",
    "println(\"hessenberg decomposition:\\nH: $H1,\\nQ: $Q\\n\")\n",
    "\n",
    "// verification\n",
    "val H2 = Q.t().multiply(A1).multiply(Q); // Q'*A1*Q = H1 = H2\n",
    "val ZERO = H1.minus(H2)\n",
    "val det: Double = MatrixMeasure.det(ZERO)\n",
    "println(\"H1 - H2 = $det\")"
   ]
  },
  {
   "cell_type": "code",
   "execution_count": null,
   "metadata": {},
   "outputs": [],
   "source": []
  }
 ],
 "metadata": {
  "kernelspec": {
   "display_name": "Kotlin",
   "language": "kotlin",
   "name": "kotlin"
  },
  "language_info": {
   "codemirror_mode": "text/x-kotlin",
   "file_extension": ".kt",
   "mimetype": "text/x-kotlin",
   "name": "kotlin",
   "pygments_lexer": "kotlin",
   "version": "1.4.20-dev-3647"
  }
 },
 "nbformat": 4,
 "nbformat_minor": 4
}
