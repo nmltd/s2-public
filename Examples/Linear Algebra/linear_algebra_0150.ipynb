{
 "cells": [
  {
   "cell_type": "code",
   "execution_count": 1,
   "metadata": {},
   "outputs": [
    {
     "name": "stdout",
     "output_type": "stream",
     "text": [
      "gauss-jordan elimination:\n",
      "U: 3x3\n",
      "\t[,1] [,2] [,3] \n",
      "[1,] 1.000000, 0.000000, 0.000000, \n",
      "[2,] 0.000000, 1.000000, 0.000000, \n",
      "[3,] 0.000000, 0.000000, 1.000000, ,\n",
      "T: 3x3\n",
      "\t[,1] [,2] [,3] \n",
      "[1,] -2.750000, 1.750000, 0.750000, \n",
      "[2,] 4.000000, -2.000000, -1.000000, \n",
      "[3,] 2.500000, -1.500000, -0.500000, \n",
      "\n",
      "TA - U = 0.0\n"
     ]
    }
   ],
   "source": [
    "/**\n",
    " * Demonstrate Gauss-Jordan elimination of a square matrix.\n",
    " *\n",
    " * @author Haksun Li\n",
    " */\n",
    "\n",
    "%use s2\n",
    "\n",
    "// Create a matrix\n",
    "val A = DenseMatrix(arrayOf(doubleArrayOf(2.0, 1.0, 1.0), doubleArrayOf(2.0, 2.0, -1.0), doubleArrayOf(4.0, -1.0, 6.0)))\n",
    "\n",
    "// Gauss-Jordan elimination\n",
    "val precision = 1e-7\n",
    "val GR = GaussJordanElimination(A, true, precision) // true: parallel computation\n",
    "val U = GR.U()\n",
    "val T = GR.T()\n",
    "println(\"gauss-jordan elimination:\\nU: $U,\\nT: $T\\n\")\n",
    "\n",
    "// verification\n",
    "val ZERO = T.multiply(A).minus(U) // TA = U\n",
    "val det: Double = MatrixMeasure.det(ZERO)\n",
    "println(\"TA - U = $det\")"
   ]
  },
  {
   "cell_type": "code",
   "execution_count": null,
   "metadata": {},
   "outputs": [],
   "source": []
  }
 ],
 "metadata": {
  "kernelspec": {
   "display_name": "Kotlin",
   "language": "kotlin",
   "name": "kotlin"
  },
  "language_info": {
   "codemirror_mode": "text/x-kotlin",
   "file_extension": ".kt",
   "mimetype": "text/x-kotlin",
   "name": "kotlin",
   "pygments_lexer": "kotlin",
   "version": "1.4.20-dev-3647"
  }
 },
 "nbformat": 4,
 "nbformat_minor": 4
}
