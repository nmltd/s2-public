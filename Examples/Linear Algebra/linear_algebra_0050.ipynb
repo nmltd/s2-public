{
 "cells": [
  {
   "cell_type": "code",
   "execution_count": 17,
   "metadata": {},
   "outputs": [
    {
     "name": "stdout",
     "output_type": "stream",
     "text": [
      "[-1.000000, 1.000000] \n",
      "2x1\n",
      "\t[,1] \n",
      "[1,] 0.000000, \n",
      "[2,] 0.000000, \n",
      "should be 0, which means A1 = A2\n"
     ]
    }
   ],
   "source": [
    "/**\n",
    " * Demonstrate Householder reflection.\n",
    " *\n",
    " * @author Haksun Li\n",
    " */\n",
    "\n",
    "%use s2\n",
    "\n",
    "// refect a vector about the y-axis\n",
    "val v1 = DenseVector(arrayOf(1.0, 0.0)) // y-axis\n",
    "val householder1 = HouseholderReflection(v1)\n",
    "val x1 = DenseVector(arrayOf(1.0, 1.0))\n",
    "val x2 = householder1.reflect(x1)\n",
    "println(\"$x2\")\n",
    "\n",
    "// refect a matrix\n",
    "val v2 = DenseVector(arrayOf(2.0, 3.0)) // the householder vector\n",
    "val householder2 = HouseholderReflection(v2)\n",
    "val A = DenseMatrix(doubleArrayOf(5.0, 6.0), 2, 1)\n",
    "val A1 = householder2.reflect(A)\n",
    "val A2 = householder2.H().multiply(A)\n",
    "\n",
    "// verification\n",
    "val ZERO = A1.minus(A2) // A1 = A2\n",
    "println(\"$ZERO\\nshould be 0, which means A1 = A2\")"
   ]
  },
  {
   "cell_type": "code",
   "execution_count": null,
   "metadata": {},
   "outputs": [],
   "source": []
  }
 ],
 "metadata": {
  "kernelspec": {
   "display_name": "Kotlin",
   "language": "kotlin",
   "name": "kotlin"
  },
  "language_info": {
   "codemirror_mode": "text/x-kotlin",
   "file_extension": ".kt",
   "mimetype": "text/x-kotlin",
   "name": "kotlin",
   "pygments_lexer": "kotlin",
   "version": "1.4.20-dev-3647"
  }
 },
 "nbformat": 4,
 "nbformat_minor": 4
}
