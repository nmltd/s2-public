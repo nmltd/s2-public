{
 "cells": [
  {
   "cell_type": "code",
   "execution_count": 1,
   "metadata": {},
   "outputs": [
    {
     "name": "stdout",
     "output_type": "stream",
     "text": [
      "the mean is 0.049558\n",
      "\n",
      "the variance is 0.196298\n",
      "\n"
     ]
    }
   ],
   "source": [
    "/**\n",
    " * Calculate the mean and variance of the stochastic integral:\n",
    " *\n",
    " *  E( ∫ B1(t) * B2(t) dt ) for [0, 1], where B1, B2 are two different Brownian motions.\n",
    " *\n",
    " * @author Haksun Li\n",
    " */\n",
    "\n",
    "%use s2\n",
    "\n",
    "// the number of discretizations\n",
    "val N_T = 1000\n",
    "\n",
    "// the number of simulations\n",
    "val N_sims = 100\n",
    "\n",
    "// the time of the first point\n",
    "val t_0 = 0.0\n",
    "\n",
    "// the time of the last point\n",
    "val t_1 = 1.0\n",
    "\n",
    "// the seed for random number generators\n",
    "val seed = 1234567890L\n",
    "\n",
    "val T: TimeGrid = EvenlySpacedGrid(t_0, t_1, N_T) // discretization\n",
    "val sde: DiscreteSDE = BMSDE() // brownian motion stochastic differential equation\n",
    "val x0 = 0.0\n",
    "val B: RandomRealizationGenerator = RandomRealizationOfRandomProcess(sde, T, x0) // an RNG to generate random paths\n",
    "B.seed(seed)\n",
    "\n",
    "val B1B2: FiltrationFunction = object : FiltrationFunction() {\n",
    "    private var Ft1: Filtration? = null\n",
    "    private var Ft2: Filtration? = null\n",
    "    override fun setFt(Ft: Filtration?) {\n",
    "        // FT is not used in this function\n",
    "        super.setFt(Ft)\n",
    "        // generate a filtration for each new simulation\n",
    "        Ft1 = Filtration(B.nextRealization())\n",
    "        Ft2 = Filtration(B.nextRealization())\n",
    "    }\n",
    "\n",
    "    override fun evaluate(t: Int): Double {\n",
    "        val B1: Double = Ft1!!.B(t)\n",
    "        val B2: Double = Ft2!!.B(t)\n",
    "        return B1 * B2\n",
    "    }\n",
    "}\n",
    "    \n",
    "val I: Integral = IntegralDt(B1B2)\n",
    "val E = IntegralExpectation(\n",
    "    I,\n",
    "    t_0,\n",
    "    t_1, // [0, 1]\n",
    "    N_T, // discretization\n",
    "    N_sims, // number of simulations\n",
    "    seed // seed\n",
    ")\n",
    "\n",
    "println(\"the mean is %f%n\".format(E.mean()))\n",
    "println(\"the variance is %f%n\".format(E.variance()))"
   ]
  },
  {
   "cell_type": "code",
   "execution_count": null,
   "metadata": {},
   "outputs": [],
   "source": []
  }
 ],
 "metadata": {
  "kernelspec": {
   "display_name": "Kotlin",
   "language": "kotlin",
   "name": "kotlin"
  },
  "language_info": {
   "codemirror_mode": "text/x-kotlin",
   "file_extension": ".kt",
   "mimetype": "text/x-kotlin",
   "name": "kotlin",
   "pygments_lexer": "kotlin",
   "version": "1.4.20-dev-3647"
  }
 },
 "nbformat": 4,
 "nbformat_minor": 4
}
