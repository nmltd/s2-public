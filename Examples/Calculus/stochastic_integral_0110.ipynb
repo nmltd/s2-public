{
 "cells": [
  {
   "cell_type": "code",
   "execution_count": 1,
   "metadata": {},
   "outputs": [
    {
     "name": "stdout",
     "output_type": "stream",
     "text": [
      "the mean is -0.152701\n",
      "\n",
      "the variance is 0.667297\n",
      "\n"
     ]
    }
   ],
   "source": [
    "/**\n",
    " * Calculate the mean and variance of the stochastic integral:\n",
    " *\n",
    " *  E( ∫ B2(t) dB1(t) ) for [0, 1], where B1, B2 are two different Brownian motions.\n",
    " *\n",
    " * We calculate the statistics by generating filtrations from B1.\n",
    " * For each filtration, we evaluate the integral w.r.t. that filtration to obtain one data point.\n",
    " *\n",
    " * @author Haksun Li\n",
    " */\n",
    "\n",
    "%use s2\n",
    "\n",
    "// the number of discretizations\n",
    "val N_T = 1000\n",
    "\n",
    "// the number of simulations\n",
    "val N_sims = 100\n",
    "\n",
    "// the time of the first point\n",
    "val t_0 = 0.0\n",
    "\n",
    "// the time of the last point\n",
    "val t_1 = 1.0\n",
    "\n",
    "// the seed for random number generators\n",
    "val seed = 1234567890L\n",
    "\n",
    "val T: TimeGrid = EvenlySpacedGrid(t_0, t_1, N_T) // discretization\n",
    "val sde: DiscreteSDE = BMSDE() // brownian motion stochastic differential equation\n",
    "val x0 = 0.0\n",
    "val B: RandomRealizationGenerator = RandomRealizationOfRandomProcess(sde, T, x0) // an RNG to generate random paths\n",
    "B.seed(seed)\n",
    "\n",
    "val mu = Mean()\n",
    "val `var` = Variance()\n",
    "\n",
    "for (i in 0 until N_sims) {\n",
    "    // generate a Brownian filtration\n",
    "    val Ft = Filtration(B.nextRealization())\n",
    "\n",
    "    // a new B2 is created for each iteration, hence a different FT2\n",
    "    val B2: FiltrationFunction = object : FiltrationFunction() {\n",
    "        // generate a different Brownian filtration\n",
    "        private val Ft2: Filtration = Filtration(B.nextRealization())\n",
    "        override fun evaluate(t: Int): Double {\n",
    "            return Ft2.B(t)\n",
    "        }\n",
    "    }\n",
    "    \n",
    "    val I: Double = IntegralDB(B2).value(Ft) // evaluate the integral w.r.t. to the particular realization\n",
    "    mu.addData(I) // collect the statistics\n",
    "    `var`.addData(I) // collect the statistics\n",
    "}\n",
    "\n",
    "println(\"the mean is %f%n\".format(mu.value()))\n",
    "println(\"the variance is %f%n\".format(`var`.value()))"
   ]
  },
  {
   "cell_type": "code",
   "execution_count": null,
   "metadata": {},
   "outputs": [],
   "source": []
  }
 ],
 "metadata": {
  "kernelspec": {
   "display_name": "Kotlin",
   "language": "kotlin",
   "name": "kotlin"
  },
  "language_info": {
   "codemirror_mode": "text/x-kotlin",
   "file_extension": ".kt",
   "mimetype": "text/x-kotlin",
   "name": "kotlin",
   "pygments_lexer": "kotlin",
   "version": "1.4.20-dev-3647"
  }
 },
 "nbformat": 4,
 "nbformat_minor": 4
}
