{
 "cells": [
  {
   "cell_type": "code",
   "execution_count": 2,
   "metadata": {},
   "outputs": [
    {
     "name": "stdout",
     "output_type": "stream",
     "text": [
      "the mean is -0.008922\n",
      "\n",
      "the variance is 1.217249\n",
      "\n"
     ]
    }
   ],
   "source": [
    "/**\n",
    " * Calculate the mean and variance of the stochastic integral of an non-adapted function:\n",
    " *\n",
    " * ∫ A(t) dB(t), where\n",
    " *\n",
    " * A(t) = B(t) - ∫_[0,1] B(t) dt\n",
    " *\n",
    " * @author Haksun Li\n",
    " */\n",
    "\n",
    "%use s2\n",
    "\n",
    "// the number of discretizations\n",
    "val N_T = 1000\n",
    "\n",
    "// the number of simulations\n",
    "val N_sims = 100\n",
    "\n",
    "// the time of the first point\n",
    "val t_0 = 0.0\n",
    "\n",
    "// the time of the last point\n",
    "val t_1 = 1.0\n",
    "\n",
    "// the seed for random number generators\n",
    "val seed = 1234567890L\n",
    "\n",
    "val f1: FiltrationFunction = object : FiltrationFunction() {\n",
    "    private var I2value = 0.0\n",
    "    \n",
    "    override fun setFt(Ft: Filtration?) {\n",
    "        super.setFt(Ft)\n",
    "        \n",
    "        val f2: FiltrationFunction = object : FiltrationFunction() {\n",
    "            override fun evaluate(t: Int): Double {\n",
    "                val Bt = Ft!!.B(t);\n",
    "                return Bt;\n",
    "            }\n",
    "        }\n",
    "        // ∫_[0,1] B(t) dt = 1\n",
    "        val I2: Integral = IntegralDB(f2)\n",
    "        I2value = I2.value(Ft)\n",
    "    }\n",
    "\n",
    "    override fun evaluate(t: Int): Double {\n",
    "        return 1.0\n",
    "        val Bt = getFt().B(t);\n",
    "        val f1_t = Bt - I2value;\n",
    "        return f1_t\n",
    "    }\n",
    "}\n",
    "\n",
    "val I: Integral = IntegralDB(f1)\n",
    "val E = IntegralExpectation(\n",
    "    I,\n",
    "    t_0, // t0 = 0\n",
    "    t_1, // t = 1\n",
    "    N_T, // discretization\n",
    "    N_sims, // number of simulations\n",
    "    seed // seed\n",
    ")\n",
    "\n",
    "println(\"the mean is %f%n\".format(E.mean()))\n",
    "println(\"the variance is %f%n\".format(E.variance()))"
   ]
  },
  {
   "cell_type": "code",
   "execution_count": null,
   "metadata": {},
   "outputs": [],
   "source": []
  }
 ],
 "metadata": {
  "kernelspec": {
   "display_name": "Kotlin",
   "language": "kotlin",
   "name": "kotlin"
  },
  "language_info": {
   "codemirror_mode": "text/x-kotlin",
   "file_extension": ".kt",
   "mimetype": "text/x-kotlin",
   "name": "kotlin",
   "pygments_lexer": "kotlin",
   "version": "1.4.20-dev-3647"
  }
 },
 "nbformat": 4,
 "nbformat_minor": 4
}
