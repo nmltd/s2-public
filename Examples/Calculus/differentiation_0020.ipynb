{
 "cells": [
  {
   "cell_type": "code",
   "execution_count": 5,
   "metadata": {},
   "outputs": [
    {
     "name": "stdout",
     "output_type": "stream",
     "text": [
      "d2f/dxdy at x = (1, 1) is -0.446292\n",
      "\n",
      "Gradient for f is: [0.316033, 0.132309] \n",
      "\n",
      "Hessian for f is: 2x2\n",
      "\t[,1] [,2] \n",
      "[1,] -0.585475, -0.446292, \n",
      "[2,] -0.446292, 0.104171, \n",
      "\n"
     ]
    }
   ],
   "source": [
    "/**\n",
    " * Compute df/dx and d2f/dx2 for a bivariate function f using the method of finite difference.\n",
    " * Evaluate the derivatives at a given point, print the result.\n",
    " *\n",
    " * @author Haksun Li\n",
    " */\n",
    "\n",
    "%use s2\n",
    "\n",
    "val f: BivariateRealFunction = object : AbstractBivariateRealFunction() {\n",
    "    override fun evaluate(x: Double, y: Double): Double {\n",
    "        return Math.pow(Math.sin(x), Math.cos(y)) // sin(x)^cos(y)\n",
    "    }\n",
    "}\n",
    "\n",
    "// differentiate f w.r.t. first x and then y at x = (1, 1); a 2nd order mixed derivative\n",
    "val x = 1.0 // need to write 1.0 as a double; 1 as an integer does not work\n",
    "val y = 1.0 // need to write 1.0 as a double; 1 as an integer does not work\n",
    "\n",
    "val df = MultivariateFiniteDifference(\n",
    "    f,\n",
    "    intArrayOf(1, 2)\n",
    ")\n",
    "val arg: Vector = DenseVector(x, y)\n",
    "println(\"d2f/dxdy at x = (1, 1) is %f%n\".format(df.evaluate(arg)))\n",
    "\n",
    "// compute the gradient of f at (1, 1)\n",
    "val g = Gradient(f, arg)\n",
    "println(\"Gradient for f is: %s%n\".format(g))\n",
    "\n",
    "// compute the Hessian of f at (1, 1)\n",
    "val H = Hessian(f, arg)\n",
    "println(\"Hessian for f is: %s%n\".format(H))"
   ]
  },
  {
   "cell_type": "code",
   "execution_count": null,
   "metadata": {},
   "outputs": [],
   "source": []
  }
 ],
 "metadata": {
  "kernelspec": {
   "display_name": "Kotlin",
   "language": "kotlin",
   "name": "kotlin"
  },
  "language_info": {
   "codemirror_mode": "text/x-kotlin",
   "file_extension": ".kt",
   "mimetype": "text/x-kotlin",
   "name": "kotlin",
   "pygments_lexer": "kotlin",
   "version": "1.4.20-dev-3647"
  }
 },
 "nbformat": 4,
 "nbformat_minor": 4
}
