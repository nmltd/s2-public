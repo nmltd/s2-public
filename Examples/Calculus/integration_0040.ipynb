{
 "cells": [
  {
   "cell_type": "code",
   "execution_count": 2,
   "metadata": {},
   "outputs": [
    {
     "name": "stdout",
     "output_type": "stream",
     "text": [
      "integrate 1 / sqrt(x - 1) from 1.000000 to 2.000000 gives 2.000000\n",
      "\n"
     ]
    }
   ],
   "source": [
    "/**\n",
    " * Integrate 1 / sqrt(x-1), which has a singularity, using NewtonCotes and a\n",
    " * [PowerLawSingularity] change of variable.\n",
    " */\n",
    "\n",
    "%use s2\n",
    "\n",
    "// 1 / sqrt(x-1)\n",
    "val one_over_sqrt: UnivariateRealFunction = object : AbstractUnivariateRealFunction() {\n",
    "    override fun evaluate(x: Double): Double {\n",
    "        return 1 / Math.sqrt(x - 1)\n",
    "    }\n",
    "}\n",
    "\n",
    "val precision = 1e-15\n",
    "val maxIterations = 6\n",
    "val rate = 3\n",
    "val integrator1 = NewtonCotes(\n",
    "    rate,\n",
    "    NewtonCotes.Type.OPEN,\n",
    "    precision,\n",
    "    maxIterations\n",
    ")\n",
    "\n",
    "val a = 1.0\n",
    "val b = 2.0\n",
    "val substitutionExponential = 0.5\n",
    "val integrator2 = ChangeOfVariable(\n",
    "    PowerLawSingularity(\n",
    "        PowerLawSingularity.PowerLawSingularityType.LOWER,\n",
    "        substitutionExponential,\n",
    "        a,\n",
    "        b\n",
    "    ),\n",
    "    integrator1\n",
    ")\n",
    "val I: Double = integrator2.integrate(\n",
    "    one_over_sqrt,\n",
    "    a,\n",
    "    b\n",
    ")\n",
    "println(\"integrate 1 / sqrt(x - 1) from %f to %f gives %f%n\".format(a, b, I))"
   ]
  },
  {
   "cell_type": "code",
   "execution_count": null,
   "metadata": {},
   "outputs": [],
   "source": []
  }
 ],
 "metadata": {
  "kernelspec": {
   "display_name": "Kotlin",
   "language": "kotlin",
   "name": "kotlin"
  },
  "language_info": {
   "codemirror_mode": "text/x-kotlin",
   "file_extension": ".kt",
   "mimetype": "text/x-kotlin",
   "name": "kotlin",
   "pygments_lexer": "kotlin",
   "version": "1.4.20-dev-3647"
  }
 },
 "nbformat": 4,
 "nbformat_minor": 4
}
