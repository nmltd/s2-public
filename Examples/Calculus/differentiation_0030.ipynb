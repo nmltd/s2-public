{
 "cells": [
  {
   "cell_type": "code",
   "execution_count": 3,
   "metadata": {},
   "outputs": [
    {
     "name": "stdout",
     "output_type": "stream",
     "text": [
      "dfz at (1,1,1) = 2.000000\n",
      "\n",
      "dfzy at (1,1,1) = 1.000000\n",
      "\n",
      "dfzyx at (1,1,1) = 3.718282\n",
      "\n"
     ]
    }
   ],
   "source": [
    "/**\n",
    " * Compute high order derivatives for a multivariate function f using the method of finite difference.\n",
    " * Evaluate the derivatives at a given point, print the result.\n",
    " *\n",
    " * @author Haksun Li\n",
    " */\n",
    "\n",
    "%use s2\n",
    "\n",
    "val f: RealScalarFunction = object : RealScalarFunction {\n",
    "    override fun evaluate(x: Vector): Double {\n",
    "        return evaluate(*x.toArray())\n",
    "    }\n",
    "\n",
    "    fun evaluate(vararg x: Double): Double {\n",
    "        return Math.pow(x[0], Math.exp(x[1])) * Math.log(x[2]) + x[0] * x[1] * x[2]\n",
    "    }\n",
    "\n",
    "    override fun dimensionOfDomain(): Int {\n",
    "        return 3\n",
    "    }\n",
    "\n",
    "    override fun dimensionOfRange(): Int {\n",
    "        return 1\n",
    "    }\n",
    "}\n",
    "\n",
    "// Compute df/dx3, d2f/dx2x3 and d3f/dx1dx2dx3 of a multivariate function using Ridder's method\n",
    "// and evaluate them at a given point.\n",
    "val x: Vector = DenseVector(1.0, 1.0, 1.0) // need to write 1.0 as a double; 1 as an integer does not work\n",
    "\n",
    "// df/dx3\n",
    "val dfz = Ridders(f, intArrayOf(3))\n",
    "println(\"dfz at (1,1,1) = %f%n\".format(dfz.evaluate(x)))\n",
    "\n",
    "// d2f/dx2x3\n",
    "val dfzy = Ridders(f, intArrayOf(3, 2))\n",
    "println(\"dfzy at (1,1,1) = %f%n\".format(dfzy.evaluate(x)))\n",
    "\n",
    "// d3f/dx1dx2dx3\n",
    "val dfzyx = Ridders(f, intArrayOf(3, 2, 1))\n",
    "println(\"dfzyx at (1,1,1) = %f%n\".format(dfzyx.evaluate(x)))"
   ]
  },
  {
   "cell_type": "code",
   "execution_count": null,
   "metadata": {},
   "outputs": [],
   "source": []
  }
 ],
 "metadata": {
  "kernelspec": {
   "display_name": "Kotlin",
   "language": "kotlin",
   "name": "kotlin"
  },
  "language_info": {
   "codemirror_mode": "text/x-kotlin",
   "file_extension": ".kt",
   "mimetype": "text/x-kotlin",
   "name": "kotlin",
   "pygments_lexer": "kotlin",
   "version": "1.4.20-dev-3647"
  }
 },
 "nbformat": 4,
 "nbformat_minor": 4
}
