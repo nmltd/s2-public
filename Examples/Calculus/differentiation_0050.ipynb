{
 "cells": [
  {
   "cell_type": "code",
   "execution_count": 3,
   "metadata": {},
   "outputs": [
    {
     "name": "stdout",
     "output_type": "stream",
     "text": [
      "dp(1.000000) = 8.000000\n",
      "\n"
     ]
    }
   ],
   "source": [
    "/**\n",
    " * Differentiate a polynomial and evaluate the result at a given value.\n",
    " */\n",
    "\n",
    "%use s2\n",
    "\n",
    "val p = Polynomial(3.0, 2.0, 1.0) // 3x^2 + 2x + 1\n",
    "val dp: Polynomial = DPolynomial(p) // differentiate a polynomial\n",
    "val x = 1.0\n",
    "println(\"dp(%f) = %f%n\".format(x, dp.evaluate(x)))"
   ]
  },
  {
   "cell_type": "code",
   "execution_count": null,
   "metadata": {},
   "outputs": [],
   "source": []
  }
 ],
 "metadata": {
  "kernelspec": {
   "display_name": "Kotlin",
   "language": "kotlin",
   "name": "kotlin"
  },
  "language_info": {
   "codemirror_mode": "text/x-kotlin",
   "file_extension": ".kt",
   "mimetype": "text/x-kotlin",
   "name": "kotlin",
   "pygments_lexer": "kotlin",
   "version": "1.4.20-dev-3647"
  }
 },
 "nbformat": 4,
 "nbformat_minor": 4
}
