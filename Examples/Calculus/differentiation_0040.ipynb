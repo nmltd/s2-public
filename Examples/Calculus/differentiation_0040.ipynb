{
 "cells": [
  {
   "cell_type": "code",
   "execution_count": 1,
   "metadata": {},
   "outputs": [
    {
     "name": "stdout",
     "output_type": "stream",
     "text": [
      "dB(0.500000, 0.500000) = -4.355172\n",
      "\n"
     ]
    }
   ],
   "source": [
    "/**\n",
    " * Evaluate the first order derivative function of the Beta function w.r.t *x*, i.e.,\n",
    " * `dB(x, y)/dx`.\n",
    " *\n",
    " * <blockquote>`\n",
    " * dB(x, y)/dx = B(x, y) * (ψ(x) - ψ(x + y)),\n",
    " `</blockquote> *\n",
    " *\n",
    " * where\n",
    " * `x > 0, y > 0`\n",
    " *\n",
    " * @author Haksun Li\n",
    " */\n",
    "\n",
    "%use s2\n",
    "\n",
    "val dBeta = DBeta() // this is the first derivative function of the Beta function\n",
    "println(\"dB(%f, %f) = %f%n\".format(0.5, 0.5, dBeta.evaluate(0.5, 0.5)))"
   ]
  },
  {
   "cell_type": "code",
   "execution_count": null,
   "metadata": {},
   "outputs": [],
   "source": []
  }
 ],
 "metadata": {
  "kernelspec": {
   "display_name": "Kotlin",
   "language": "kotlin",
   "name": "kotlin"
  },
  "language_info": {
   "codemirror_mode": "text/x-kotlin",
   "file_extension": ".kt",
   "mimetype": "text/x-kotlin",
   "name": "kotlin",
   "pygments_lexer": "kotlin",
   "version": "1.4.20-dev-3647"
  }
 },
 "nbformat": 4,
 "nbformat_minor": 4
}
