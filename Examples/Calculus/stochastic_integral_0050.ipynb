{
 "cells": [
  {
   "cell_type": "code",
   "execution_count": 1,
   "metadata": {},
   "outputs": [
    {
     "name": "stdout",
     "output_type": "stream",
     "text": [
      "the mean is 0.511951\n",
      "\n",
      "the variance is 0.365010\n",
      "\n"
     ]
    }
   ],
   "source": [
    "/**\n",
    " * Calculate the mean and variance of the stochastic integral:\n",
    " *\n",
    " *  ∫ (B(t))^2 dt for [0, 1]\n",
    " *\n",
    " * @author Haksun Li\n",
    " */\n",
    "\n",
    "%use s2\n",
    "\n",
    "// the number of discretizations\n",
    "val N_T = 1000\n",
    "\n",
    "// the number of simulations\n",
    "val N_sims = 100\n",
    "\n",
    "// the time of the first point\n",
    "val t_0 = 0.0\n",
    "\n",
    "// the time of the last point\n",
    "val t_1 = 1.0\n",
    "\n",
    "// the seed for random number generators\n",
    "val seed = 1234567890L\n",
    "\n",
    "val f: FiltrationFunction = object : FiltrationFunction() {\n",
    "    override fun evaluate(t: Int): Double {\n",
    "        var Bt = getFt().B(t)\n",
    "        return Bt * Bt;\n",
    "    }\n",
    "}\n",
    "val I: Integral = IntegralDt(f)\n",
    "val E = IntegralExpectation(\n",
    "    I,\n",
    "    t_0, // t0 = 0\n",
    "    t_1, // t = 1\n",
    "    N_T, // discretization\n",
    "    N_sims, // number of simulations\n",
    "    seed // seed\n",
    ")\n",
    "\n",
    "println(\"the mean is %f%n\".format(E.mean()))\n",
    "println(\"the variance is %f%n\".format(E.variance()))"
   ]
  },
  {
   "cell_type": "code",
   "execution_count": null,
   "metadata": {},
   "outputs": [],
   "source": []
  }
 ],
 "metadata": {
  "kernelspec": {
   "display_name": "Kotlin",
   "language": "kotlin",
   "name": "kotlin"
  },
  "language_info": {
   "codemirror_mode": "text/x-kotlin",
   "file_extension": ".kt",
   "mimetype": "text/x-kotlin",
   "name": "kotlin",
   "pygments_lexer": "kotlin",
   "version": "1.4.20-dev-3647"
  }
 },
 "nbformat": 4,
 "nbformat_minor": 4
}
