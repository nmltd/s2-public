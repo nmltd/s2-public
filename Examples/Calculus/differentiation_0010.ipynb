{
 "cells": [
  {
   "cell_type": "code",
   "execution_count": 14,
   "metadata": {},
   "outputs": [
    {
     "name": "stdout",
     "output_type": "stream",
     "text": [
      "df/dx at x = 0.500000 is 2.000000\n",
      "\n",
      "d2f/dx2 at x = 0.500000 is -4.000003\n",
      "\n"
     ]
    }
   ],
   "source": [
    "/**\n",
    " * Compute df/dx and d2f/dx2 for a univariate function f using the method of finite difference.\n",
    " * Evaluate the derivatives at a given point, print the result.\n",
    " *\n",
    " * @author Haksun Li\n",
    " */\n",
    "\n",
    "%use s2\n",
    "\n",
    "val f: UnivariateRealFunction = object : AbstractUnivariateRealFunction() {\n",
    "    override fun evaluate(x: Double): Double {\n",
    "        return Math.log(x) // the log function\n",
    "    }\n",
    "}\n",
    "\n",
    "// differentiate f w.r.t. x once\n",
    "val df1: UnivariateRealFunction = FiniteDifference(f, 1, FiniteDifference.Type.CENTRAL)\n",
    "\n",
    "// evaluate at x\n",
    "val x = 0.5\n",
    "val dfdx: Double = df1.evaluate(x) // df1(0.5)\n",
    "println(\"df/dx at x = %f is %f%n\".format(x, dfdx))\n",
    "\n",
    "// differentiate f w.r.t. x the second time\n",
    "val df2 = FiniteDifference(f, 2, FiniteDifference.Type.CENTRAL)\n",
    "val d2fdx2: Double = df2.evaluate(x) // df2(0.5)\n",
    "//System.out.printf(\"d2f/dx2 at x = %f is %f%n\", x, d2fdx2)\n",
    "println(\"d2f/dx2 at x = %f is %f%n\".format(x, d2fdx2))"
   ]
  },
  {
   "cell_type": "code",
   "execution_count": null,
   "metadata": {},
   "outputs": [],
   "source": []
  }
 ],
 "metadata": {
  "kernelspec": {
   "display_name": "Kotlin",
   "language": "kotlin",
   "name": "kotlin"
  },
  "language_info": {
   "codemirror_mode": "text/x-kotlin",
   "file_extension": ".kt",
   "mimetype": "text/x-kotlin",
   "name": "kotlin",
   "pygments_lexer": "kotlin",
   "version": "1.4.20-dev-3647"
  }
 },
 "nbformat": 4,
 "nbformat_minor": 4
}
