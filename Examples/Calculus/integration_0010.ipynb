{
 "cells": [
  {
   "cell_type": "code",
   "execution_count": 2,
   "metadata": {},
   "outputs": [
    {
     "name": "stdout",
     "output_type": "stream",
     "text": [
      "integrate exp(2x) from 0 to 1 gives 3.194528\n",
      "\n"
     ]
    }
   ],
   "source": [
    "/**\n",
    " * Integrate exp(2x) using an Riemann integrator.\n",
    " */\n",
    "\n",
    "%use s2\n",
    "\n",
    "// exp(2x)\n",
    "val exp_2x: UnivariateRealFunction = object : AbstractUnivariateRealFunction() {\n",
    "    override fun evaluate(x: Double): Double {\n",
    "        return Math.exp(2 * x)\n",
    "    }\n",
    "}\n",
    "\n",
    "val integrator: Integrator = Riemann()\n",
    "val I: Double = integrator.integrate(exp_2x, 0.0, 1.0)\n",
    "println(\"integrate exp(2x) from 0 to 1 gives %f%n\".format(I))\n"
   ]
  },
  {
   "cell_type": "code",
   "execution_count": null,
   "metadata": {},
   "outputs": [],
   "source": []
  }
 ],
 "metadata": {
  "kernelspec": {
   "display_name": "Kotlin",
   "language": "kotlin",
   "name": "kotlin"
  },
  "language_info": {
   "codemirror_mode": "text/x-kotlin",
   "file_extension": ".kt",
   "mimetype": "text/x-kotlin",
   "name": "kotlin",
   "pygments_lexer": "kotlin",
   "version": "1.4.20-dev-3647"
  }
 },
 "nbformat": 4,
 "nbformat_minor": 4
}
