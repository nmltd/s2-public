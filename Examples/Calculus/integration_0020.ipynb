{
 "cells": [
  {
   "cell_type": "code",
   "execution_count": 2,
   "metadata": {},
   "outputs": [
    {
     "name": "stdout",
     "output_type": "stream",
     "text": [
      "integrate x^2 from 0 to 1 gives 0.333333\n",
      "\n"
     ]
    }
   ],
   "source": [
    "/**\n",
    " * Integrate x^2 from 0 to 1 using a Simpson integrator.\n",
    " */\n",
    "\n",
    "%use s2\n",
    "\n",
    "// x^2\n",
    "val x2: UnivariateRealFunction = object : AbstractUnivariateRealFunction() {\n",
    "    override fun evaluate(x: Double): Double {\n",
    "        return x * x\n",
    "    }\n",
    "}\n",
    "\n",
    "val precision = 1E-15\n",
    "val max_iterations = 20\n",
    "val integrator: Integrator = Simpson(precision, max_iterations)\n",
    "val I: Double = integrator.integrate(x2, 0.0, 1.0)\n",
    "println(\"integrate x^2 from 0 to 1 gives %f%n\".format(I))"
   ]
  },
  {
   "cell_type": "code",
   "execution_count": null,
   "metadata": {},
   "outputs": [],
   "source": []
  }
 ],
 "metadata": {
  "kernelspec": {
   "display_name": "Kotlin",
   "language": "kotlin",
   "name": "kotlin"
  },
  "language_info": {
   "codemirror_mode": "text/x-kotlin",
   "file_extension": ".kt",
   "mimetype": "text/x-kotlin",
   "name": "kotlin",
   "pygments_lexer": "kotlin",
   "version": "1.4.20-dev-3647"
  }
 },
 "nbformat": 4,
 "nbformat_minor": 4
}
