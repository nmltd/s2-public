{
 "cells": [
  {
   "cell_type": "code",
   "execution_count": 2,
   "metadata": {},
   "outputs": [
    {
     "name": "stdout",
     "output_type": "stream",
     "text": [
      "integrate log(x) * log(1 - x) from 0 to 1 gives -0.355066\n",
      "\n"
     ]
    }
   ],
   "source": [
    "/**\n",
    " * Integrate log(x) * log(1 - x), which has a singularity, using NewtonCotes and a\n",
    " * [DoubleExponential] change of variable.\n",
    " */\n",
    "\n",
    "%use s2\n",
    "\n",
    "// log(x) * log(1 - x)\n",
    "val logclog: UnivariateRealFunction = object : AbstractUnivariateRealFunction() {\n",
    "    override fun evaluate(x: Double): Double {\n",
    "        return Math.log(x) * Math.log(1 - x)\n",
    "    }\n",
    "}\n",
    "\n",
    "val precision = 1e-15\n",
    "val maxIterations = 6\n",
    "\n",
    "// Use the Euler-Maclaurin integration rule, which converges after only 6 iterations.\n",
    "val rate = 2\n",
    "val integrator1: Integrator = NewtonCotes(\n",
    "    rate,\n",
    "    NewtonCotes.Type.CLOSED,\n",
    "    precision,\n",
    "    maxIterations\n",
    ")\n",
    "\n",
    "// Double exponential substitution.\n",
    "val a = 0.0\n",
    "val b = 1.0\n",
    "val integrator2: Integrator = ChangeOfVariable(\n",
    "    DoubleExponential(logclog, 1.0, a, b),\n",
    "    integrator1\n",
    ")\n",
    "val I: Double = integrator2.integrate(\n",
    "    logclog,\n",
    "    a,\n",
    "    b\n",
    ")\n",
    "println(\"integrate log(x) * log(1 - x) from 0 to 1 gives %f%n\".format(I))"
   ]
  },
  {
   "cell_type": "code",
   "execution_count": null,
   "metadata": {},
   "outputs": [],
   "source": []
  }
 ],
 "metadata": {
  "kernelspec": {
   "display_name": "Kotlin",
   "language": "kotlin",
   "name": "kotlin"
  },
  "language_info": {
   "codemirror_mode": "text/x-kotlin",
   "file_extension": ".kt",
   "mimetype": "text/x-kotlin",
   "name": "kotlin",
   "pygments_lexer": "kotlin",
   "version": "1.4.20-dev-3647"
  }
 },
 "nbformat": 4,
 "nbformat_minor": 4
}
