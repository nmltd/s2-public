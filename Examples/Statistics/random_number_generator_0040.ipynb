{
 "cells": [
  {
   "cell_type": "code",
   "execution_count": 5,
   "metadata": {},
   "outputs": [
    {
     "name": "stdout",
     "output_type": "stream",
     "text": [
      "Gaussian statistics:\n",
      "expected mean: 0.5, actual: 0.4982036438940574\n",
      "expected standard deviation: 1.5, actual: 1.5003824560887264\n",
      "expected skewness: 0.0, actual: 0.00264911958232925\n",
      "kurtosis: -0.011864597829786216\n"
     ]
    }
   ],
   "source": [
    "/**\n",
    " * Demonstrate how to generate random numbers from Gaussian distribution.\n",
    " * We compute also the moments for verification.\n",
    " *\n",
    " * @author Haksun Li\n",
    " */\n",
    "\n",
    "%use s2\n",
    "import java.util.*\n",
    "\n",
    "// the number of data points to generate\n",
    "val N = 100000\n",
    "// the moment calculators\n",
    "val mean = Mean()\n",
    "val `var` = Variance()\n",
    "val skew = Skewness()\n",
    "val kurtosis = Kurtosis()\n",
    "// construct a random number generator of Gaussian distribution\n",
    "val mu = 0.5\n",
    "val sigma = 1.5\n",
    "val gaussian = NormalRNG(\n",
    "    mu, // the mean of the distribution or samples\n",
    "    sigma, // the standard deviation of the distribution or samples\n",
    "    BoxMuller()) // the algorithm to use\n",
    "// generate the random numbers\n",
    "for (i in 1..N) {\n",
    "    val x: Double = gaussian.nextDouble()\n",
    "    mean.addData(x)\n",
    "    `var`.addData(x)\n",
    "    skew.addData(x)\n",
    "    kurtosis.addData(x)\n",
    "}\n",
    "// print the results\n",
    "println(\"Gaussian statistics:\")\n",
    "println(\"expected mean: $mu, actual: ${mean.value()}\")\n",
    "println(\"expected standard deviation: $sigma, actual: ${`var`.standardDeviation()}\")\n",
    "println(\"expected skewness: 0.0, actual: ${skew.value()}\")\n",
    "println(\"kurtosis: ${kurtosis.value()}\") // this is difficult to estimate; need more samples"
   ]
  },
  {
   "cell_type": "code",
   "execution_count": null,
   "metadata": {},
   "outputs": [],
   "source": []
  }
 ],
 "metadata": {
  "kernelspec": {
   "display_name": "Kotlin",
   "language": "kotlin",
   "name": "kotlin"
  },
  "language_info": {
   "codemirror_mode": "text/x-kotlin",
   "file_extension": ".kt",
   "mimetype": "text/x-kotlin",
   "name": "kotlin",
   "pygments_lexer": "kotlin",
   "version": "1.4.20-dev-3647"
  }
 },
 "nbformat": 4,
 "nbformat_minor": 4
}
