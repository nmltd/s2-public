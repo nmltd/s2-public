{
 "cells": [
  {
   "cell_type": "code",
   "execution_count": 7,
   "metadata": {},
   "outputs": [
    {
     "name": "stdout",
     "output_type": "stream",
     "text": [
      "uniformly generated random numbers:\n",
      "[0.14304131409153342, 0.8694100854918361, 0.5969358449801803, 0.05194615200161934, 0.9407130295876414, 0.6512528972234577, 0.2425546976737678, 0.42839086172170937, 0.23542792885564268, 0.18347151833586395]\n"
     ]
    }
   ],
   "source": [
    "/**\n",
    " * Demonstrate how to generate random numbers from a uniform distribution (ranging 0 to 1).\n",
    " *\n",
    " * @author Haksun Li\n",
    " */\n",
    "\n",
    "%use s2\n",
    "import java.util.*\n",
    "\n",
    "// the number of data points to generate\n",
    "val N = 10\n",
    "// construct a random number generator for uniform distribution\n",
    "val rng: RandomNumberGenerator = UniformRNG()\n",
    "// generate the random numbers\n",
    "val values = DoubleArray(N)\n",
    "for (i in 0 until N) {\n",
    "    values[i] = rng.nextDouble()\n",
    "}\n",
    "println(\"uniformly generated random numbers:\\n%s\".format(Arrays.toString(values)))"
   ]
  },
  {
   "cell_type": "code",
   "execution_count": null,
   "metadata": {},
   "outputs": [],
   "source": []
  }
 ],
 "metadata": {
  "kernelspec": {
   "display_name": "Kotlin",
   "language": "kotlin",
   "name": "kotlin"
  },
  "language_info": {
   "codemirror_mode": "text/x-kotlin",
   "file_extension": ".kt",
   "mimetype": "text/x-kotlin",
   "name": "kotlin",
   "pygments_lexer": "kotlin",
   "version": "1.4.20-dev-3647"
  }
 },
 "nbformat": 4,
 "nbformat_minor": 4
}
