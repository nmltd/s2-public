{
 "cells": [
  {
   "cell_type": "code",
   "execution_count": 2,
   "metadata": {},
   "outputs": [
    {
     "name": "stdout",
     "output_type": "stream",
     "text": [
      "bootstrapped mean = 2.995200\n",
      "\n",
      "bootstrapped variance = 0.371468\n",
      "\n"
     ]
    }
   ],
   "source": [
    "/**\n",
    " * Compute an estimator using bootstrapping.\n",
    " * We use resampling with replacement.\n",
    " */\n",
    "\n",
    "%use s2\n",
    "\n",
    "// true population\n",
    "val sample = doubleArrayOf(1.0, 2.0, 3.0, 4.0, 5.0)\n",
    "\n",
    "// construct a bootstrapping RNG\n",
    "val bootstrap = CaseResamplingReplacement(sample)\n",
    "bootstrap.seed(1234567890L)\n",
    "\n",
    "// compute an estimator using the bootstrapped samples\n",
    "val B = 1000 // number of bootstraps\n",
    "val estimator = BootstrapEstimator(\n",
    "    bootstrap,\n",
    "    object : StatisticFactory {\n",
    "        override fun getStatistic(): Statistic {\n",
    "            return Mean()\n",
    "        }\n",
    "    },\n",
    "    B\n",
    ")\n",
    "println(\"bootstrapped mean = %f%n\".format(estimator.value())) // should be close to 3, the sample mean\n",
    "println(\"bootstrapped variance = %f%n\".format(estimator.variance())) // limited by sample size, not B"
   ]
  },
  {
   "cell_type": "code",
   "execution_count": null,
   "metadata": {},
   "outputs": [],
   "source": []
  }
 ],
 "metadata": {
  "kernelspec": {
   "display_name": "Kotlin",
   "language": "kotlin",
   "name": "kotlin"
  },
  "language_info": {
   "codemirror_mode": "text/x-kotlin",
   "file_extension": ".kt",
   "mimetype": "text/x-kotlin",
   "name": "kotlin",
   "pygments_lexer": "kotlin",
   "version": "1.4.20-dev-3647"
  }
 },
 "nbformat": 4,
 "nbformat_minor": 4
}
