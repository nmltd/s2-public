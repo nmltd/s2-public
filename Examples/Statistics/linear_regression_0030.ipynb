{
 "cells": [
  {
   "cell_type": "code",
   "execution_count": 4,
   "metadata": {},
   "outputs": [
    {
     "data": {
      "text/html": [
       "   <div id=\"Stv2GQ\"></div>\n",
       "   <script type=\"text/javascript\" data-lets-plot-script=\"library\">\n",
       "       if(!window.letsPlotCallQueue) {\n",
       "           window.letsPlotCallQueue = [];\n",
       "       }; \n",
       "       window.letsPlotCall = function(f) {\n",
       "           window.letsPlotCallQueue.push(f);\n",
       "       };\n",
       "       (function() {\n",
       "           var script = document.createElement(\"script\");\n",
       "           script.type = \"text/javascript\";\n",
       "           script.src = \"https://dl.bintray.com/jetbrains/lets-plot/lets-plot-1.5.2.min.js\";\n",
       "           script.onload = function() {\n",
       "               window.letsPlotCall = function(f) {f();};\n",
       "               window.letsPlotCallQueue.forEach(function(f) {f();});\n",
       "               window.letsPlotCallQueue = [];\n",
       "               \n",
       "               \n",
       "           };\n",
       "           script.onerror = function(event) {\n",
       "               window.letsPlotCall = function(f) {};\n",
       "               window.letsPlotCallQueue = [];\n",
       "               var div = document.createElement(\"div\");\n",
       "               div.style.color = 'darkred';\n",
       "               div.textContent = 'Error loading Lets-Plot JS';\n",
       "               document.getElementById(\"Stv2GQ\").appendChild(div);\n",
       "           };\n",
       "           var e = document.getElementById(\"Stv2GQ\");\n",
       "           e.appendChild(script);\n",
       "       })();\n",
       "   </script>"
      ]
     },
     "metadata": {},
     "output_type": "display_data"
    },
    {
     "name": "stdout",
     "output_type": "stream",
     "text": [
      "beta hat: [0.217592, -0.158165, 0.557924] ,\n",
      "stderr: [0.116721, 0.167279, 0.535811] ,\n",
      "t: [1.864215, -0.945517, 1.041270] \n",
      "fitted values: [1.741829, 1.777658, 3.681717, 4.149597, 7.649199] \n",
      "deviance residuals: [0.191060, -0.636178, 0.163570, 0.404303, -0.238174] \n",
      "deviance: 0.6881696040481455, overdispersion: 1.0, AIC: 21.855813011244557\n"
     ]
    }
   ],
   "source": [
    "/**\n",
    " * Run a Generalized Linear Model (GLM) regression on the given data, with the given link function (family).\n",
    " *\n",
    " * @author Haksun Li\n",
    " */\n",
    "\n",
    "%use s2, lets-plot, krangl\n",
    "\n",
    "// The vector of dependent variables used for GLM.\n",
    "val Y: Vector = DenseVector(arrayOf(2.0, 1.0, 4.0, 5.0, 7.0))\n",
    "\n",
    "// The matrix of factor values used for GLM.\n",
    "val X: Matrix = DenseMatrix(\n",
    "    arrayOf(\n",
    "        doubleArrayOf(1.52, 2.11),\n",
    "        doubleArrayOf(3.22, 4.32),\n",
    "        doubleArrayOf(4.32, 1.23),\n",
    "        doubleArrayOf(10.1034, 8.43),\n",
    "        doubleArrayOf(12.1, 7.31)\n",
    "    )\n",
    ")\n",
    "\n",
    "// construct a GLM problem using the Poisson link function\n",
    "val problem = GLMProblem(Y, X, true, GLMFamily(GLMPoisson()))\n",
    "\n",
    "// run the GLM regression\n",
    "val glm = GeneralizedLinearModel(problem)\n",
    "println(\"beta hat: ${glm.beta().betaHat()},\\nstderr: ${glm.beta().stderr()},\\nt: ${glm.beta().t()}\",)\n",
    "println(\"fitted values: ${glm.residuals().fitted()}\")\n",
    "println(\"deviance residuals: ${glm.residuals().devianceResiduals()}\")\n",
    "println(\"deviance: ${glm.residuals().deviance()}, overdispersion: ${glm.residuals().overdispersion()}, AIC: ${glm.AIC()}\",)"
   ]
  },
  {
   "cell_type": "code",
   "execution_count": null,
   "metadata": {},
   "outputs": [],
   "source": []
  }
 ],
 "metadata": {
  "kernelspec": {
   "display_name": "Kotlin",
   "language": "kotlin",
   "name": "kotlin"
  },
  "language_info": {
   "codemirror_mode": "text/x-kotlin",
   "file_extension": ".kt",
   "mimetype": "text/x-kotlin",
   "name": "kotlin",
   "pygments_lexer": "kotlin",
   "version": "1.4.20-dev-3647"
  }
 },
 "nbformat": 4,
 "nbformat_minor": 4
}
