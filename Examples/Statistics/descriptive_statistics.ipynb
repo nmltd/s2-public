{
 "cells": [
  {
   "cell_type": "code",
   "execution_count": 2,
   "metadata": {},
   "outputs": [
    {
     "name": "stdout",
     "output_type": "stream",
     "text": [
      "number of datum = 21\n",
      "mean = 1.6343896785381895\n",
      "variance = 5.851028895601683\n",
      "standard deviation = 2.418890013126203\n",
      "skew = 2.7987883292847786\n",
      "kurtosis = 7.858931445245327\n"
     ]
    }
   ],
   "source": [
    "/**\n",
    " * Compute basic statistics of a data set.\n",
    " *\n",
    " * @author Haksun Li\n",
    " */\n",
    "\n",
    "%use s2\n",
    "\n",
    "// The test data for which we compute descriptive statistics in the demo.\n",
    "val dataset = doubleArrayOf(\n",
    "    1.050339964176429, 0.906121669295144, 0.116647826876888, 4.579895872370673,\n",
    "    1.714264543643022, 0.436467861756682, 0.860735191921604, 1.771233864044571,\n",
    "    0.623149028640023, 1.058291583279980, 11.0,\n",
    "    0.948204531821121, 0.161634152190506, 0.256991963658032, 0.109701163135469,\n",
    "    1.382998617323947, 0.417712283320725, 0.620563593227416, 0.614991265814751,\n",
    "    2.283592665441966, 3.408645607363034)\n",
    "\n",
    "val mean = Mean(dataset)\n",
    "println(\"number of datum = ${mean.N()}\")\n",
    "println(\"mean = ${mean.value()}\")\n",
    "\n",
    "val `var` = Variance(dataset)\n",
    "println(\"variance = ${`var`.value()}\")\n",
    "println(\"standard deviation = ${`var`.standardDeviation()}\")\n",
    "\n",
    "val skew = Skewness(dataset)\n",
    "println(\"skew = ${skew.value()}\")\n",
    "\n",
    "val kurtosis = Kurtosis(dataset)\n",
    "println(\"kurtosis = ${kurtosis.value()}\")"
   ]
  },
  {
   "cell_type": "code",
   "execution_count": null,
   "metadata": {},
   "outputs": [],
   "source": []
  }
 ],
 "metadata": {
  "kernelspec": {
   "display_name": "Kotlin",
   "language": "kotlin",
   "name": "kotlin"
  },
  "language_info": {
   "codemirror_mode": "text/x-kotlin",
   "file_extension": ".kt",
   "mimetype": "text/x-kotlin",
   "name": "kotlin",
   "pygments_lexer": "kotlin",
   "version": "1.4.20-dev-3647"
  }
 },
 "nbformat": 4,
 "nbformat_minor": 4
}
