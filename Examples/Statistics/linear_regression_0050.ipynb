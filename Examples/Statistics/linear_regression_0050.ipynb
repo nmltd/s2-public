{
 "cells": [
  {
   "cell_type": "code",
   "execution_count": 4,
   "metadata": {},
   "outputs": [
    {
     "data": {
      "text/html": [
       "   <div id=\"XT1tD8\"></div>\n",
       "   <script type=\"text/javascript\" data-lets-plot-script=\"library\">\n",
       "       if(!window.letsPlotCallQueue) {\n",
       "           window.letsPlotCallQueue = [];\n",
       "       }; \n",
       "       window.letsPlotCall = function(f) {\n",
       "           window.letsPlotCallQueue.push(f);\n",
       "       };\n",
       "       (function() {\n",
       "           var script = document.createElement(\"script\");\n",
       "           script.type = \"text/javascript\";\n",
       "           script.src = \"https://dl.bintray.com/jetbrains/lets-plot/lets-plot-1.5.2.min.js\";\n",
       "           script.onload = function() {\n",
       "               window.letsPlotCall = function(f) {f();};\n",
       "               window.letsPlotCallQueue.forEach(function(f) {f();});\n",
       "               window.letsPlotCallQueue = [];\n",
       "               \n",
       "               \n",
       "           };\n",
       "           script.onerror = function(event) {\n",
       "               window.letsPlotCall = function(f) {};\n",
       "               window.letsPlotCallQueue = [];\n",
       "               var div = document.createElement(\"div\");\n",
       "               div.style.color = 'darkred';\n",
       "               div.textContent = 'Error loading Lets-Plot JS';\n",
       "               document.getElementById(\"XT1tD8\").appendChild(div);\n",
       "           };\n",
       "           var e = document.getElementById(\"XT1tD8\");\n",
       "           e.appendChild(script);\n",
       "       })();\n",
       "   </script>"
      ]
     },
     "metadata": {},
     "output_type": "display_data"
    },
    {
     "name": "stdout",
     "output_type": "stream",
     "text": [
      "beta hat: [0.594922, -2.509122] ,\n",
      "stderr: [0.618673, 2.600002] ,\n",
      "t: [0.961609, -0.965046] \n",
      "fitted values: [0.167306, 0.355838, 0.515230, 0.970734, 0.990892] \n"
     ]
    }
   ],
   "source": [
    "/**\n",
    " * Run a logistic regression on the data.\n",
    " *\n",
    " * @author Haksun Li\n",
    " */\n",
    "\n",
    "%use s2, lets-plot, krangl\n",
    "\n",
    "// the vector of dependent variables\n",
    "val Y = DenseVector(arrayOf(0.0, 1.0, 0.0, 1.0, 1.0))\n",
    "\n",
    "// the matrix of independent factors\n",
    "val X = DenseMatrix(arrayOf(doubleArrayOf(1.52), doubleArrayOf(3.22), doubleArrayOf(4.32), doubleArrayOf(10.1034), doubleArrayOf(12.1)))\n",
    "\n",
    "// construct a linear model problem\n",
    "val problem = LMProblem(Y, X, true)\n",
    "\n",
    "// run a logistic regression\n",
    "val logistic = LogisticRegression(problem)\n",
    "println(\"beta hat: ${logistic.beta().betaHat()},\\nstderr: ${logistic.beta().stderr()},\\nt: ${logistic.beta().t()}\",)\n",
    "println(\"fitted values: ${logistic.residuals().fitted()}\")"
   ]
  },
  {
   "cell_type": "code",
   "execution_count": null,
   "metadata": {},
   "outputs": [],
   "source": []
  }
 ],
 "metadata": {
  "kernelspec": {
   "display_name": "Kotlin",
   "language": "kotlin",
   "name": "kotlin"
  },
  "language_info": {
   "codemirror_mode": "text/x-kotlin",
   "file_extension": ".kt",
   "mimetype": "text/x-kotlin",
   "name": "kotlin",
   "pygments_lexer": "kotlin",
   "version": "1.4.20-dev-3647"
  }
 },
 "nbformat": 4,
 "nbformat_minor": 4
}
