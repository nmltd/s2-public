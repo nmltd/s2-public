{
 "cells": [
  {
   "cell_type": "code",
   "execution_count": 2,
   "metadata": {},
   "outputs": [
    {
     "name": "stdout",
     "output_type": "stream",
     "text": [
      "5x5\n",
      "\t[,1] [,2] [,3] [,4] [,5] \n",
      "[1,] 1.891462, -0.094053, 0.665669, 0.176962, -0.487023, \n",
      "[2,] -0.094053, 0.600273, -0.742584, 0.404512, -0.173547, \n",
      "[3,] 0.665669, -0.742584, 2.167306, -0.250672, 0.085099, \n",
      "[4,] 0.176962, 0.404512, -0.250672, 1.301751, -0.385892, \n",
      "[5,] -0.487023, -0.173547, 0.085099, -0.385892, 0.317301, \n",
      "5x5\n",
      "\t[,1] [,2] [,3] [,4] [,5] \n",
      "[1,] 1.000000, -0.088267, 0.328775, 0.112776, -0.628659, \n",
      "[2,] -0.088267, 1.000000, -0.651045, 0.457607, -0.397657, \n",
      "[3,] 0.328775, -0.651045, 1.000000, -0.149239, 0.102619, \n",
      "[4,] 0.112776, 0.457607, -0.149239, 1.000000, -0.600435, \n",
      "[5,] -0.628659, -0.397657, 0.102619, -0.600435, 1.000000, \n"
     ]
    }
   ],
   "source": [
    "/**\n",
    " * Compute covariance, correlation for data sets.\n",
    " *\n",
    " * @author Haksun Li\n",
    " */\n",
    "\n",
    "%use s2\n",
    "\n",
    "// The test data for which we compute descriptive statistics in the demo.\n",
    "val A: Matrix = DenseMatrix(arrayOf(\n",
    "    doubleArrayOf(1.4022225, -0.04625344, 1.26176112, -1.8394428, 0.7182637), \n",
    "    doubleArrayOf(-0.2230975, 0.91561987, 1.17086252, 0.2282348, 0.0690674), \n",
    "    doubleArrayOf(0.6939930, 1.94611387, -0.82939259, 1.0905923, 0.1458883), \n",
    "    doubleArrayOf(-0.4050039, 0.18818663, -0.29040783, 0.6937185, 0.4664052),\n",
    "    doubleArrayOf(0.6587918, -0.10749210, 3.27376532, 0.5141217, 0.7691778), \n",
    "    doubleArrayOf(-2.5275280, 0.64942255, 0.07506224, -1.0787524, 1.6217606)))\n",
    "\n",
    "// Compute and print the covariance matrix of the time series.\n",
    "val cov: Matrix = SampleCovariance(A)\n",
    "println(cov)\n",
    "\n",
    "// Compute and print the correlation matrix of the time series with the covariance matrix.\n",
    "val cor: Matrix = CorrelationMatrix(cov)\n",
    "println(cor)"
   ]
  },
  {
   "cell_type": "code",
   "execution_count": null,
   "metadata": {},
   "outputs": [],
   "source": []
  }
 ],
 "metadata": {
  "kernelspec": {
   "display_name": "Kotlin",
   "language": "kotlin",
   "name": "kotlin"
  },
  "language_info": {
   "codemirror_mode": "text/x-kotlin",
   "file_extension": ".kt",
   "mimetype": "text/x-kotlin",
   "name": "kotlin",
   "pygments_lexer": "kotlin",
   "version": "1.4.20-dev-3647"
  }
 },
 "nbformat": 4,
 "nbformat_minor": 4
}
