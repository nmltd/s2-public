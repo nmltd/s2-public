{
 "cells": [
  {
   "cell_type": "code",
   "execution_count": 1,
   "metadata": {},
   "outputs": [
    {
     "name": "stdout",
     "output_type": "stream",
     "text": [
      "mean: 0.250000, var: 0.062500, skew: 1.000000, kurtosis: 0.000000\n",
      "F(0.1) = 0.395819\n",
      "the quantile at 0.100000 = 0.006181\n",
      "the density at 0.100000 = 1.909859\n"
     ]
    }
   ],
   "source": [
    "/**\n",
    " * Print the properties of a beta distribution with the given parameters, where the quantile\n",
    " * and the density are printed for the given values.\n",
    " *\n",
    " * @author Haksun Li\n",
    " */\n",
    "\n",
    "%use s2\n",
    "\n",
    "// the shape parameter alpha\n",
    "val alpha = 0.5\n",
    "// the shape parameter beta\n",
    "val beta = 1.5\n",
    "// construct a Beta distribution\n",
    "val F: ProbabilityDistribution = BetaDistribution(alpha, beta)\n",
    "println(\"mean: %f, var: %f, skew: %f, kurtosis: %f\".format(F.mean(), F.variance(), F.skew(), F.kurtosis()))\n",
    "\n",
    "// the quantile\n",
    "val x = 0.1\n",
    "// the cumulative distribution function\n",
    "println(\"F($x) = %f\".format(F.cdf(x)))\n",
    "// the quantile function\n",
    "println(\"the quantile at %f = %f\".format(x, F.quantile(x)))\n",
    "// the density function\n",
    "println(\"the density at %f = %f\".format(x, F.density(x)))"
   ]
  },
  {
   "cell_type": "code",
   "execution_count": null,
   "metadata": {},
   "outputs": [],
   "source": []
  }
 ],
 "metadata": {
  "kernelspec": {
   "display_name": "Kotlin",
   "language": "kotlin",
   "name": "kotlin"
  },
  "language_info": {
   "codemirror_mode": "text/x-kotlin",
   "file_extension": ".kt",
   "mimetype": "text/x-kotlin",
   "name": "kotlin",
   "pygments_lexer": "kotlin",
   "version": "1.4.20-dev-3647"
  }
 },
 "nbformat": 4,
 "nbformat_minor": 4
}
