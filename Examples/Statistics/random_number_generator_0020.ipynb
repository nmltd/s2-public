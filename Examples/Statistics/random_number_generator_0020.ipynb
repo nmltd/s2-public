{
 "cells": [
  {
   "cell_type": "code",
   "execution_count": 3,
   "metadata": {},
   "outputs": [
    {
     "name": "stdout",
     "output_type": "stream",
     "text": [
      "random numbers from the exponential distribution:\n",
      "[4.074757025208481, 1.3066984727840523, 1.5401479870645813, 0.45495136848392803, 1.4568731452004404, 0.6073561805253731, 14.640067541917064, 0.7338575554466877, 0.9153225989479536, 0.5745467454725974]\n"
     ]
    }
   ],
   "source": [
    "/**\n",
    " * Demonstrate how to generate random numbers from a probability distribution\n",
    " * using inverse transform sampling. We use exponential distribution in this example.\n",
    " *\n",
    " * @author Haksun Li\n",
    " */\n",
    "\n",
    "%use s2\n",
    "import java.util.*\n",
    "\n",
    "// the number of data points to generate\n",
    "val N = 10\n",
    "// the rate of the exponential distribution\n",
    "val lambda = 0.5\n",
    "// construct a probability distribution\n",
    "val F: ProbabilityDistribution = ExponentialDistribution(lambda)\n",
    "// construct a random number generator to do inverse transform sampling\n",
    "val rng = InverseTransformSampling(F)\n",
    "// generate the random numbers\n",
    "val values = DoubleArray(N)\n",
    "for (i in 0 until N) {\n",
    "    values[i] = rng.nextDouble()\n",
    "}\n",
    "println(\"random numbers from the exponential distribution:\\n%s\".format(Arrays.toString(values)))"
   ]
  },
  {
   "cell_type": "code",
   "execution_count": null,
   "metadata": {},
   "outputs": [],
   "source": []
  }
 ],
 "metadata": {
  "kernelspec": {
   "display_name": "Kotlin",
   "language": "kotlin",
   "name": "kotlin"
  },
  "language_info": {
   "codemirror_mode": "text/x-kotlin",
   "file_extension": ".kt",
   "mimetype": "text/x-kotlin",
   "name": "kotlin",
   "pygments_lexer": "kotlin",
   "version": "1.4.20-dev-3647"
  }
 },
 "nbformat": 4,
 "nbformat_minor": 4
}
