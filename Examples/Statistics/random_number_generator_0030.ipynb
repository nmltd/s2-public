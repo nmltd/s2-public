{
 "cells": [
  {
   "cell_type": "code",
   "execution_count": 1,
   "metadata": {},
   "outputs": [
    {
     "name": "stdout",
     "output_type": "stream",
     "text": [
      "random numbers from Mersenne-Twister:\n",
      "[399807439, 605719143, 2885735769, 3570096022, 2681034038, 213645282, 8322681, 1167155092, 3685692155, 820041809]\n"
     ]
    }
   ],
   "source": [
    "/**\n",
    " * Demonstrate how to generate random numbers using the Mersenne-Twister algorithm.\n",
    " * This is the same as the uniform RNG of uniform distribution.\n",
    " *\n",
    " * @author Haksun Li\n",
    " */\n",
    "\n",
    "%use s2\n",
    "import java.util.*\n",
    "\n",
    "// the number of data points to generate\n",
    "val N = 10\n",
    "// construct a random number generator of the Mersenne-Twister algorithm \n",
    "val rng = MersenneTwister()\n",
    "// generate the random numbers\n",
    "val values = LongArray(N)\n",
    "for (i in 0 until N) {\n",
    "    values[i] = rng.nextLong()\n",
    "}\n",
    "println(\"random numbers from Mersenne-Twister:\\n%s\".format(Arrays.toString(values)))  "
   ]
  },
  {
   "cell_type": "code",
   "execution_count": null,
   "metadata": {},
   "outputs": [],
   "source": []
  }
 ],
 "metadata": {
  "kernelspec": {
   "display_name": "Kotlin",
   "language": "kotlin",
   "name": "kotlin"
  },
  "language_info": {
   "codemirror_mode": "text/x-kotlin",
   "file_extension": ".kt",
   "mimetype": "text/x-kotlin",
   "name": "kotlin",
   "pygments_lexer": "kotlin",
   "version": "1.4.20-dev-3647"
  }
 },
 "nbformat": 4,
 "nbformat_minor": 4
}
