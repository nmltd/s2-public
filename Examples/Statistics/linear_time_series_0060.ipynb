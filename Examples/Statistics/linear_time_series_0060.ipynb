{
 "cells": [
  {
   "cell_type": "code",
   "execution_count": 2,
   "metadata": {},
   "outputs": [
    {
     "name": "stdout",
     "output_type": "stream",
     "text": [
      "the ARMA(1,1) model: x_t = -0.3611582728700303 + (0.3885927325714741*x_{t-1}) + (-0.1826267918624073*e_{t-1}) + e_t; var(e_t) = 0.595852, d = 0\n",
      "the GARCH(1,1) model: 0.5486873761043013+ 0.000002 * e_{t-1}+ 0.122500 * h_{t-1}\n"
     ]
    }
   ],
   "source": [
    "/**\n",
    " * First fit a time series to an ARMA(1, 1) model. \n",
    " * Secondly compute the residual time series.\n",
    " * Finally, fit the residuals to a GARCH(1, 1) model.\n",
    " *\n",
    " * @author Haksun Li\n",
    " */\n",
    "\n",
    "%use s2\n",
    "\n",
    "// the time series\n",
    "val x: IntTimeTimeSeries = SimpleTimeSeries(doubleArrayOf(-1.1, 0.514, 0.116, -0.845, 0.872, -0.467, -0.977, -1.699, -1.228, -1.093))\n",
    "val xt: DoubleArray = x.toArray()\n",
    "\n",
    "// fit an ARMA(1,1) model\n",
    "val fit1 = ConditionalSumOfSquares(\n",
    "    xt, // the time series\n",
    "    1, // the number of AR terms\n",
    "    0, // the order of integration\n",
    "    1 // the number of MA terms\n",
    ")\n",
    "val arma: ARMAModel = fit1.getARMAModel()\n",
    "println(\"the ARMA(1,1) model: %s\".format(arma))\n",
    "\n",
    "// compute the residual time series        \n",
    "val xt_hat = ARMAForecastOneStep(x, arma)\n",
    "val residuals = DoubleArray(xt.size)\n",
    "for (t in xt.indices) {\n",
    "    residuals[t] = xt[t] - xt_hat.xHat(t)\n",
    "}\n",
    "\n",
    "// fit the residuals to a GARCH(1, 1) model\n",
    "val fit2 = GARCHFit(residuals, 1, 1)\n",
    "val garch: GARCHModel = fit2.getModel()\n",
    "println(\"the GARCH(1,1) model: %s\".format(garch))"
   ]
  },
  {
   "cell_type": "code",
   "execution_count": null,
   "metadata": {},
   "outputs": [],
   "source": []
  }
 ],
 "metadata": {
  "kernelspec": {
   "display_name": "Kotlin",
   "language": "kotlin",
   "name": "kotlin"
  },
  "language_info": {
   "codemirror_mode": "text/x-kotlin",
   "file_extension": ".kt",
   "mimetype": "text/x-kotlin",
   "name": "kotlin",
   "pygments_lexer": "kotlin",
   "version": "1.4.20-dev-3647"
  }
 },
 "nbformat": 4,
 "nbformat_minor": 4
}
