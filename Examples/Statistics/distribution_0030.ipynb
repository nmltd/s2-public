{
 "cells": [
  {
   "cell_type": "code",
   "execution_count": 1,
   "metadata": {},
   "outputs": [
    {
     "name": "stdout",
     "output_type": "stream",
     "text": [
      "mean: 1.210526, var: 0.700123, skew: 2.937297, kurtosis: 20.765328\n",
      "F(0.1) = 0.000183\n",
      "the quantile at 0.100000 = 0.463739\n",
      "the density at 0.100000 = 0.009245\n"
     ]
    }
   ],
   "source": [
    "/**\n",
    " * Print the properties of an F-distribution with the given parameters, where the quantile and\n",
    " * the density are printed for the given values.\n",
    " *\n",
    " * @author Haksun Li\n",
    " */\n",
    "\n",
    "%use s2\n",
    "\n",
    "// the first degree of freedom\n",
    "val df1 = 12.0\n",
    "// the second degree of freedom\n",
    "val df2 = 11.5\n",
    "// construct an F distribution\n",
    "val F: ProbabilityDistribution = FDistribution(df1, df2)\n",
    "println(\"mean: %f, var: %f, skew: %f, kurtosis: %f\".format(F.mean(), F.variance(), F.skew(), F.kurtosis()))\n",
    "\n",
    "// the quantile\n",
    "val x = 0.1\n",
    "// the cumulative distribution function\n",
    "println(\"F($x) = %f\".format(F.cdf(x)))\n",
    "// the quantile function\n",
    "println(\"the quantile at %f = %f\".format(x, F.quantile(x)))\n",
    "// the density function\n",
    "println(\"the density at %f = %f\".format(x, F.density(x)))"
   ]
  },
  {
   "cell_type": "code",
   "execution_count": null,
   "metadata": {},
   "outputs": [],
   "source": []
  }
 ],
 "metadata": {
  "kernelspec": {
   "display_name": "Kotlin",
   "language": "kotlin",
   "name": "kotlin"
  },
  "language_info": {
   "codemirror_mode": "text/x-kotlin",
   "file_extension": ".kt",
   "mimetype": "text/x-kotlin",
   "name": "kotlin",
   "pygments_lexer": "kotlin",
   "version": "1.4.20-dev-3647"
  }
 },
 "nbformat": 4,
 "nbformat_minor": 4
}
