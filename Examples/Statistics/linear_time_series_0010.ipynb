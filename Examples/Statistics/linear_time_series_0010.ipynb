{
 "cells": [
  {
   "cell_type": "code",
   "execution_count": 1,
   "metadata": {},
   "outputs": [
    {
     "name": "stdout",
     "output_type": "stream",
     "text": [
      "-0.0926032543005452\n",
      "0.7837011446480964\n",
      "-0.9359209612784913\n",
      "0.03514612681843151\n",
      "0.18996782228284192\n",
      "0.3995042160014833\n",
      "-1.9745439876565025\n",
      "-2.3272872886509064\n",
      "0.2653638132622115\n",
      "-1.0311449251140137\n"
     ]
    }
   ],
   "source": [
    "/**\n",
    " * Generate an ARIMA time series given parameters.\n",
    " *\n",
    " * @author Haksun Li\n",
    " */\n",
    "\n",
    "%use s2\n",
    "\n",
    "// construct a GARCH(1, 1)\n",
    "val model = GARCHModel(0.2, doubleArrayOf(0.3), doubleArrayOf(0.6))\n",
    "// construct a GARCH RNG using a GARCH  model\n",
    "val sim = GARCHSim(model)\n",
    "sim.seed(1234567890L)\n",
    "// generate the time series\n",
    "val xt = RNGUtils.nextN(sim, 10000)\n",
    "// print the first 10 items\n",
    "for (i in 1..10) println(xt.get(i))"
   ]
  },
  {
   "cell_type": "code",
   "execution_count": null,
   "metadata": {},
   "outputs": [],
   "source": []
  }
 ],
 "metadata": {
  "kernelspec": {
   "display_name": "Kotlin",
   "language": "kotlin",
   "name": "kotlin"
  },
  "language_info": {
   "codemirror_mode": "text/x-kotlin",
   "file_extension": ".kt",
   "mimetype": "text/x-kotlin",
   "name": "kotlin",
   "pygments_lexer": "kotlin",
   "version": "1.4.20-dev-3647"
  }
 },
 "nbformat": 4,
 "nbformat_minor": 4
}
