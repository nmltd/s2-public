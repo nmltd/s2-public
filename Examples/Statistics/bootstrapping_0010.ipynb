{
 "cells": [
  {
   "cell_type": "code",
   "execution_count": 2,
   "metadata": {},
   "outputs": [
    {
     "name": "stdout",
     "output_type": "stream",
     "text": [
      "bootstrapped mean = 3.0210000000000012\n",
      "bootstrapped variance = 0.1493525252525253\n"
     ]
    }
   ],
   "source": [
    "/**\n",
    " * Compute an estimator using bootstrapping.\n",
    " * We use resampling with replacement.\n",
    " */\n",
    "\n",
    "%use s2\n",
    "\n",
    "// true population\n",
    "val sample = doubleArrayOf(\n",
    "    1.0, 2.0, 3.0, 4.0, 5.0,\n",
    "    1.0, 2.0, 3.0, 4.0, 5.0\n",
    ")\n",
    "\n",
    "// construct a bootstrapping RNG\n",
    "val bootstrap = CaseResamplingReplacement(sample)\n",
    "bootstrap.seed(1234567890L)\n",
    "val B = 100\n",
    "\n",
    "val means = DoubleArray(B)\n",
    "for (i in 0 until B) {\n",
    "    // generate bootstrap samples\n",
    "    val resample: DoubleArray = bootstrap.newResample()\n",
    "    means[i] = Mean(resample).value()\n",
    "}\n",
    "\n",
    "// estimator of population mean; accuracy depends on B\n",
    "val mean: Double = Mean(means).value()\n",
    "println(\"bootstrapped mean = $mean\")\n",
    "\n",
    "// variance of estimator; limited by sample size (regardless of how big B is)\n",
    "val variance: Double = Variance(means).value() \n",
    "println(\"bootstrapped variance = $variance\")"
   ]
  },
  {
   "cell_type": "code",
   "execution_count": null,
   "metadata": {},
   "outputs": [],
   "source": []
  }
 ],
 "metadata": {
  "kernelspec": {
   "display_name": "Kotlin",
   "language": "kotlin",
   "name": "kotlin"
  },
  "language_info": {
   "codemirror_mode": "text/x-kotlin",
   "file_extension": ".kt",
   "mimetype": "text/x-kotlin",
   "name": "kotlin",
   "pygments_lexer": "kotlin",
   "version": "1.4.20-dev-3647"
  }
 },
 "nbformat": 4,
 "nbformat_minor": 4
}
