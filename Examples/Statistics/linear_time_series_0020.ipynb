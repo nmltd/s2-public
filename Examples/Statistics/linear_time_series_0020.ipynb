{
 "cells": [
  {
   "cell_type": "code",
   "execution_count": 3,
   "metadata": {},
   "outputs": [
    {
     "name": "stdout",
     "output_type": "stream",
     "text": [
      "x^: 0.000000 (7.171327)\n",
      "x^: 1.530558 (1.385572)\n",
      "x^: -0.171000 (1.005713)\n",
      "x^: 1.242817 (1.001896)\n",
      "x^: 0.744290 (1.001629)\n",
      "x^: 0.313835 (1.000521)\n",
      "x^: -1.729337 (1.000005)\n",
      "x^: -0.168814 (1.000005)\n",
      "x^: 0.319279 (1.000004)\n",
      "x^: -0.873114 (1.000001)\n",
      "x^: 1.063792 (1.000000)\n"
     ]
    }
   ],
   "source": [
    "/**\n",
    " * Demonstrate how to make one-step forecasts for an ARMA model.\n",
    " *\n",
    " * @author Haksun Li\n",
    " */\n",
    "\n",
    "%use s2\n",
    "\n",
    "/**\n",
    " * example 5.3.4, time series - theory and methods, 2nd, Brockwell & Davis\n",
    " */\n",
    "\n",
    "// construct an ARMA model\n",
    "val arma = ARMAModel(doubleArrayOf(1.0, -0.24), doubleArrayOf(0.4, 0.2, 0.1))\n",
    "\n",
    "// specify a time series\n",
    "val xt: IntTimeTimeSeries = SimpleTimeSeries(doubleArrayOf(1.704, 0.527, 1.041, 0.942, 0.555, -1.002, -0.585, 0.010, -0.638, 0.525))\n",
    "\n",
    "// construct a forecast object\n",
    "val forecast = ARMAForecastOneStep(xt, arma)\n",
    "// get the one-step ahead prediction \\(\\hat{x}_{n+1}\\)\n",
    "for (n in 0..10) {\n",
    "    System.out.printf(\"x^: %f (%f)%n\", forecast.xHat(n), forecast.`var`(n))\n",
    "}"
   ]
  },
  {
   "cell_type": "code",
   "execution_count": null,
   "metadata": {},
   "outputs": [],
   "source": []
  }
 ],
 "metadata": {
  "kernelspec": {
   "display_name": "Kotlin",
   "language": "kotlin",
   "name": "kotlin"
  },
  "language_info": {
   "codemirror_mode": "text/x-kotlin",
   "file_extension": ".kt",
   "mimetype": "text/x-kotlin",
   "name": "kotlin",
   "pygments_lexer": "kotlin",
   "version": "1.4.20-dev-3647"
  }
 },
 "nbformat": 4,
 "nbformat_minor": 4
}
