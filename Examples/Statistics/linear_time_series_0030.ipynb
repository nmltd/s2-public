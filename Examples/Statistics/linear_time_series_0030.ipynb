{
 "cells": [
  {
   "cell_type": "code",
   "execution_count": 13,
   "metadata": {},
   "outputs": [
    {
     "name": "stdout",
     "output_type": "stream",
     "text": [
      "x^= 1.0637921146936766 (1.0000000146050616)\n",
      "x^= 1.1216874279658675 (2.9600000347818414)\n",
      "x^= 1.0061886153009392 (4.809600033096731)\n"
     ]
    }
   ],
   "source": [
    "/**\n",
    " * Demonstrate how to make multi-step forecasts for an ARMA model.\n",
    " *\n",
    " * @author Haksun Li\n",
    " */\n",
    "\n",
    "%use s2\n",
    "\n",
    "/**\n",
    " * example 5.3.5, time series - theory and methods, 2nd, Brockwell & Davis\n",
    " */\n",
    "\n",
    "// construct an ARMA model\n",
    "val arma = ARMAModel(doubleArrayOf(1.0, -0.24), doubleArrayOf(0.4, 0.2, 0.1))\n",
    "\n",
    "// specify a time series\n",
    "val xt: IntTimeTimeSeries = SimpleTimeSeries(doubleArrayOf(1.704, 0.527, 1.041, 0.942, 0.555, -1.002, -0.585, 0.010, -0.638, 0.525))\n",
    "\n",
    "// construct a forecast object\n",
    "val instance = ARMAForecastMultiStep(xt, arma, 3)\n",
    "\n",
    "// get the h-step ahead prediction of the time series\n",
    "val xHat: Vector = instance.allForecasts()\n",
    "val `var`: Vector = instance.allMSEs()\n",
    "println(\"x^= ${xHat.get(1)} (${`var`.get(1)})\")\n",
    "println(\"x^= ${xHat.get(2)} (${`var`.get(2)})\")\n",
    "println(\"x^= ${xHat.get(3)} (${`var`.get(3)})\")"
   ]
  },
  {
   "cell_type": "code",
   "execution_count": null,
   "metadata": {},
   "outputs": [],
   "source": []
  }
 ],
 "metadata": {
  "kernelspec": {
   "display_name": "Kotlin",
   "language": "kotlin",
   "name": "kotlin"
  },
  "language_info": {
   "codemirror_mode": "text/x-kotlin",
   "file_extension": ".kt",
   "mimetype": "text/x-kotlin",
   "name": "kotlin",
   "pygments_lexer": "kotlin",
   "version": "1.4.20-dev-3647"
  }
 },
 "nbformat": 4,
 "nbformat_minor": 4
}
