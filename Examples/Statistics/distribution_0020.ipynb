{
 "cells": [
  {
   "cell_type": "code",
   "execution_count": 1,
   "metadata": {},
   "outputs": [
    {
     "name": "stdout",
     "output_type": "stream",
     "text": [
      "mean: 5.000000, var: 10.000000, skew: 1.264911, kurtosis: 2.400000\n",
      "F(0.1) = 0.000162\n",
      "the quantile at 0.100000 = 1.610308\n",
      "the density at 0.100000 = 0.004000\n"
     ]
    }
   ],
   "source": [
    "/**\n",
    " * Print the properties of a Chi Square distribution with the given degree of freedom, where\n",
    " * the quantile and the density are printed for the given values.\n",
    " *\n",
    " * @author Haksun Li\n",
    " */\n",
    "\n",
    "%use s2\n",
    "\n",
    "// the degree of freedom of the distribution\n",
    "val k = 5.0\n",
    "// construct a Chi Square distribution\n",
    "val F: ProbabilityDistribution = ChiSquareDistribution(k)\n",
    "println(\"mean: %f, var: %f, skew: %f, kurtosis: %f\".format(F.mean(), F.variance(), F.skew(), F.kurtosis()))\n",
    "\n",
    "// the quantile\n",
    "val x = 0.1\n",
    "// the cumulative distribution function\n",
    "println(\"F($x) = %f\".format(F.cdf(x)))\n",
    "// the quantile function\n",
    "println(\"the quantile at %f = %f\".format(x, F.quantile(x)))\n",
    "// the density function\n",
    "println(\"the density at %f = %f\".format(x, F.density(x)))"
   ]
  },
  {
   "cell_type": "code",
   "execution_count": null,
   "metadata": {},
   "outputs": [],
   "source": []
  }
 ],
 "metadata": {
  "kernelspec": {
   "display_name": "Kotlin",
   "language": "kotlin",
   "name": "kotlin"
  },
  "language_info": {
   "codemirror_mode": "text/x-kotlin",
   "file_extension": ".kt",
   "mimetype": "text/x-kotlin",
   "name": "kotlin",
   "pygments_lexer": "kotlin",
   "version": "1.4.20-dev-3647"
  }
 },
 "nbformat": 4,
 "nbformat_minor": 4
}
