{
 "cells": [
  {
   "cell_type": "code",
   "execution_count": 2,
   "metadata": {},
   "outputs": [
    {
     "name": "stdout",
     "output_type": "stream",
     "text": [
      "F(0.1) = 0.103922\n"
     ]
    }
   ],
   "source": [
    "/**\n",
    " * Print the properties of a Komogorov distribution with the given parameters, where the quantile and\n",
    " * the density are printed for the given values.\n",
    " *\n",
    " * @author Haksun Li\n",
    " */\n",
    "\n",
    "%use s2\n",
    "\n",
    "// the sample size\n",
    "val n = 30\n",
    "// construct a Kolmogorov distribution\n",
    "val F: ProbabilityDistribution = KolmogorovDistribution(n)\n",
    "// the quantile\n",
    "val x = 0.1\n",
    "// the cumulative distribution function\n",
    "println(\"F($x) = %f\".format(F.cdf(x)))"
   ]
  },
  {
   "cell_type": "code",
   "execution_count": null,
   "metadata": {},
   "outputs": [],
   "source": []
  }
 ],
 "metadata": {
  "kernelspec": {
   "display_name": "Kotlin",
   "language": "kotlin",
   "name": "kotlin"
  },
  "language_info": {
   "codemirror_mode": "text/x-kotlin",
   "file_extension": ".kt",
   "mimetype": "text/x-kotlin",
   "name": "kotlin",
   "pygments_lexer": "kotlin",
   "version": "1.4.20-dev-3647"
  }
 },
 "nbformat": 4,
 "nbformat_minor": 4
}
