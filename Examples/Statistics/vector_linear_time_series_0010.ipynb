{
 "cells": [
  {
   "cell_type": "code",
   "execution_count": 4,
   "metadata": {},
   "outputs": [
    {
     "name": "stdout",
     "output_type": "stream",
     "text": [
      "Auto covariance: 1.461338, 0.764270, 0.495028, 0.099292, 0.027449, 0.043699, 0.032385, 0.006320, -0.001298, 0.001714, "
     ]
    }
   ],
   "source": [
    "/**\n",
    " * Compute the auto-covariance of an VARMA model. The example has a 1x1 covariance matrix\n",
    " * to make the output easier to read for demo purpose.\n",
    " * (NM Dev supports arbitrary dimensional covariance matrices).\n",
    " *\n",
    " * @author Haksun Li\n",
    " */\n",
    "\n",
    "%use s2\n",
    "\n",
    "// an VARMA model\n",
    "val model: VARMAModel \n",
    "    get() {\n",
    "        // the AR components\n",
    "        val PHI: Array<Matrix?> = arrayOfNulls<Matrix>(4)\n",
    "        PHI[0] = DenseMatrix(DenseVector(arrayOf(0.3)))\n",
    "        PHI[1] = DenseMatrix(DenseVector(arrayOf(-0.2)))\n",
    "        PHI[2] = DenseMatrix(DenseVector(arrayOf(0.05)))\n",
    "        PHI[3] = DenseMatrix(DenseVector(arrayOf(0.04)))\n",
    "        \n",
    "        // the MA components\n",
    "        val THETA: Array<Matrix?> = arrayOfNulls<Matrix>(2)\n",
    "        THETA[0] = DenseMatrix(DenseVector(arrayOf(0.2)))\n",
    "        THETA[1] = DenseMatrix(DenseVector(arrayOf(0.5)))\n",
    "        \n",
    "        // the covariance matrix\n",
    "        val sigma: Matrix = DenseMatrix(arrayOf(doubleArrayOf(1.0))) // the covariance matrix\n",
    "        return VARMAModel(PHI, THETA, sigma)\n",
    "    }\n",
    "\n",
    "// the number of lags\n",
    "val nLags = 10\n",
    "\n",
    "// compute the auto-covariance function\n",
    "val acf = VARMAAutoCovariance(model, nLags)\n",
    "System.out.printf(\"Auto covariance: \")\n",
    "for (i in 0 until nLags) {\n",
    "    System.out.printf(\"%f, \", acf.evaluate(i.toDouble()).get(1, 1))\n",
    "}"
   ]
  },
  {
   "cell_type": "code",
   "execution_count": null,
   "metadata": {},
   "outputs": [],
   "source": []
  }
 ],
 "metadata": {
  "kernelspec": {
   "display_name": "Kotlin",
   "language": "kotlin",
   "name": "kotlin"
  },
  "language_info": {
   "codemirror_mode": "text/x-kotlin",
   "file_extension": ".kt",
   "mimetype": "text/x-kotlin",
   "name": "kotlin",
   "pygments_lexer": "kotlin",
   "version": "1.4.20-dev-3647"
  }
 },
 "nbformat": 4,
 "nbformat_minor": 4
}
