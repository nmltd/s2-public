{
 "cells": [
  {
   "cell_type": "code",
   "execution_count": 2,
   "metadata": {},
   "outputs": [
    {
     "name": "stdout",
     "output_type": "stream",
     "text": [
      "forecasts = [[11]: 1.063792 (1.000000), [12]: 1.121687 (2.960000), [13]: 1.006189 (4.809600), [14]: 0.736984 (6.072976), [15]: 0.495498 (6.709142), [16]: 0.318622 (6.987757), [17]: 0.199703 (7.100933), [18]: 0.123233 (7.144921), [19]: 0.075305 (7.161561), [20]: 0.045729 (7.167748)]\n"
     ]
    }
   ],
   "source": [
    "/**\n",
    " * Demonstrate how to make forecasts for an ARMA model.\n",
    " *\n",
    " * @author Haksun Li\n",
    " */\n",
    "\n",
    "%use s2\n",
    "\n",
    "/**\n",
    " * example 5.3.4, time series - theory and methods, 2nd, Brockwell & Davis\n",
    " */\n",
    "\n",
    "// construct an ARMA model\n",
    "val arma = ARMAModel(doubleArrayOf(1.0, -0.24), doubleArrayOf(0.4, 0.2, 0.1))\n",
    "\n",
    "// specify a time series\n",
    "val xt: IntTimeTimeSeries = SimpleTimeSeries(doubleArrayOf(1.704, 0.527, 1.041, 0.942, 0.555, -1.002, -0.585, 0.010, -0.638, 0.525))\n",
    "\n",
    "// construct a forecast object\n",
    "val instance = ARMAForecast(xt, arma)\n",
    "\n",
    "// make forecasts\n",
    "val forecasts: kotlin.collections.List<ARIMAForecast.Forecast> = instance.next(10)\n",
    "println(\"forecasts = ${forecasts}\")"
   ]
  },
  {
   "cell_type": "code",
   "execution_count": null,
   "metadata": {},
   "outputs": [],
   "source": []
  }
 ],
 "metadata": {
  "kernelspec": {
   "display_name": "Kotlin",
   "language": "kotlin",
   "name": "kotlin"
  },
  "language_info": {
   "codemirror_mode": "text/x-kotlin",
   "file_extension": ".kt",
   "mimetype": "text/x-kotlin",
   "name": "kotlin",
   "pygments_lexer": "kotlin",
   "version": "1.4.20-dev-3647"
  }
 },
 "nbformat": 4,
 "nbformat_minor": 4
}
