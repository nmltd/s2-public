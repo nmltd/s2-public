{
 "cells": [
  {
   "cell_type": "code",
   "execution_count": 2,
   "metadata": {},
   "outputs": [
    {
     "data": {
      "text/html": [
       "   <div id=\"sma3D5\"></div>\n",
       "   <script type=\"text/javascript\" data-lets-plot-script=\"library\">\n",
       "       if(!window.letsPlotCallQueue) {\n",
       "           window.letsPlotCallQueue = [];\n",
       "       }; \n",
       "       window.letsPlotCall = function(f) {\n",
       "           window.letsPlotCallQueue.push(f);\n",
       "       };\n",
       "       (function() {\n",
       "           var script = document.createElement(\"script\");\n",
       "           script.type = \"text/javascript\";\n",
       "           script.src = \"https://dl.bintray.com/jetbrains/lets-plot/lets-plot-1.5.2.min.js\";\n",
       "           script.onload = function() {\n",
       "               window.letsPlotCall = function(f) {f();};\n",
       "               window.letsPlotCallQueue.forEach(function(f) {f();});\n",
       "               window.letsPlotCallQueue = [];\n",
       "               \n",
       "               \n",
       "           };\n",
       "           script.onerror = function(event) {\n",
       "               window.letsPlotCall = function(f) {};\n",
       "               window.letsPlotCallQueue = [];\n",
       "               var div = document.createElement(\"div\");\n",
       "               div.style.color = 'darkred';\n",
       "               div.textContent = 'Error loading Lets-Plot JS';\n",
       "               document.getElementById(\"sma3D5\").appendChild(div);\n",
       "           };\n",
       "           var e = document.getElementById(\"sma3D5\");\n",
       "           e.appendChild(script);\n",
       "       })();\n",
       "   </script>"
      ]
     },
     "metadata": {},
     "output_type": "display_data"
    },
    {
     "name": "stdout",
     "output_type": "stream",
     "text": [
      "beta hat: [-0.056795, 0.042113, 0.501042] ,\n",
      "stderr: [0.031668, 0.047985, 0.163061] ,\n",
      "t: [-1.793456, 0.877624, 3.072726] \n",
      "fitted values: [1.985813, 1.999640, 3.252177, 3.543203, 8.219167] \n",
      "deviance residuals: [0.007127, -0.621381, 0.214362, 0.365365, -0.156375] \n",
      "deviance: 0.5900610317868464, overdispersion: 0.24694240045283458\n"
     ]
    }
   ],
   "source": [
    "/**\n",
    " * Run a Generalized Linear Model (GLM) regression on data, estimating beta with quasi-likelihood estimators\n",
    " * from a given family.\n",
    " *\n",
    " * @author Haksun Li\n",
    " */\n",
    "\n",
    "%use s2, lets-plot, krangl\n",
    "\n",
    "// The vector of dependent variables used for GLM.\n",
    "val Y: Vector = DenseVector(arrayOf(2.0, 1.0, 4.0, 5.0, 7.0))\n",
    "\n",
    "// The matrix of factor values used for GLM.\n",
    "val X: Matrix = DenseMatrix(\n",
    "    arrayOf(\n",
    "        doubleArrayOf(1.52, 2.11),\n",
    "        doubleArrayOf(3.22, 4.32),\n",
    "        doubleArrayOf(4.32, 1.23),\n",
    "        doubleArrayOf(10.1034, 8.43),\n",
    "        doubleArrayOf(12.1, 7.31)\n",
    "    )\n",
    ")\n",
    "\n",
    "// construct a quasi GLM using Gamma\n",
    "val quasi = GeneralizedLinearModelQuasiFamily(\n",
    "    QuasiGLMProblem(Y, X, true, QuasiFamily(QuasiGamma()))\n",
    ")\n",
    "println(\"beta hat: ${quasi.beta().betaHat()},\\nstderr: ${quasi.beta().stderr()},\\nt: ${quasi.beta().t()}\",)\n",
    "println(\"fitted values: ${quasi.residuals().fitted()}\")\n",
    "println(\"deviance residuals: ${quasi.residuals().devianceResiduals()}\")\n",
    "println(\"deviance: ${quasi.residuals().deviance()}, overdispersion: ${quasi.residuals().overdispersion()}\",)"
   ]
  },
  {
   "cell_type": "code",
   "execution_count": null,
   "metadata": {},
   "outputs": [],
   "source": []
  }
 ],
 "metadata": {
  "kernelspec": {
   "display_name": "Kotlin",
   "language": "kotlin",
   "name": "kotlin"
  },
  "language_info": {
   "codemirror_mode": "text/x-kotlin",
   "file_extension": ".kt",
   "mimetype": "text/x-kotlin",
   "name": "kotlin",
   "pygments_lexer": "kotlin",
   "version": "1.4.20-dev-3647"
  }
 },
 "nbformat": 4,
 "nbformat_minor": 4
}
