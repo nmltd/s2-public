{
 "cells": [
  {
   "cell_type": "code",
   "execution_count": null,
   "metadata": {},
   "outputs": [],
   "source": [
    "%use s2\n",
    "\n",
    "import java.util.*\n",
    "import org.jzy3d.chart.Chart\n",
    "import org.jzy3d.chart.EmulGLSkin\n",
    "import org.jzy3d.chart.factories.EmulGLChartFactory\n",
    "import org.jzy3d.colors.Color\n",
    "import org.jzy3d.maths.Coord3d\n",
    "import org.jzy3d.plot3d.primitives.*\n",
    "import org.jzy3d.plot3d.rendering.canvas.*\n",
    "\n",
    "fun chart(drawable: Drawable): Chart {\n",
    "    val q: Quality = Quality.Advanced()\n",
    "    q.setAnimated(false)\n",
    "    q.setHiDPIEnabled(true) // need java 9+ to enable HiDPI & Retina displays\n",
    "    val chart: Chart = EmulGLChartFactory().newChart(q)\n",
    "    chart.add(drawable)\n",
    "    chart.addMouseCameraController()\n",
    "    val skin: EmulGLSkin = EmulGLSkin.on(chart)\n",
    "    skin.getCanvas().setProfileDisplayMethod(true)\n",
    "    \n",
    "    return chart\n",
    "}\n",
    "\n",
    "fun scatter(size: Int): Scatter {\n",
    "    var x: Float\n",
    "    var y: Float\n",
    "    var z: Float\n",
    "    var a: Float\n",
    "    val points: Array<Coord3d?> = arrayOfNulls<Coord3d>(size)\n",
    "    val colors: Array<Color?> = arrayOfNulls<Color>(size)\n",
    "    val r = Random()\n",
    "    r.setSeed(0)\n",
    "    for (i in 0 until size) {\n",
    "        x = r.nextFloat() - 0.5f\n",
    "        y = r.nextFloat() - 0.5f\n",
    "        z = r.nextFloat() - 0.5f\n",
    "        points[i] = Coord3d(x, y, z)\n",
    "        a = 0.75f\n",
    "        colors[i] = Color(x, y, z, a)\n",
    "    }\n",
    "    val scatter = Scatter(points, colors)\n",
    "    scatter.setWidth(3f)\n",
    "    return scatter\n",
    "}\n",
    "\n",
    "Jzy3dUtils.display(chart(scatter(20000)))"
   ]
  }
 ],
 "metadata": {
  "kernelspec": {
   "display_name": "Kotlin",
   "language": "kotlin",
   "name": "kotlin"
  },
  "language_info": {
   "name": "kotlin"
  },
  "orig_nbformat": 4
 },
 "nbformat": 4,
 "nbformat_minor": 2
}
