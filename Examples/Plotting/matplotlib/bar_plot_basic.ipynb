{
 "cells": [
  {
   "cell_type": "code",
   "execution_count": 2,
   "metadata": {
    "tags": []
   },
   "outputs": [
    {
     "name": "stdout",
     "output_type": "stream",
     "text": [
      "23:47:13.850 [Execution of code '%use s2...'] WARN  c.g.sh0nk.matplotlib4j.PyCommand,87 - \n"
     ]
    }
   ],
   "source": [
    "%use s2\n",
    "\n",
    "@file:Repository(\"https://github.com/sh0nk/matplotlib4j\")\n",
    "@file:DependsOn(\"com.github.sh0nk:matplotlib4j:0.5.0\")\n",
    "import com.github.sh0nk.matplotlib4j.*\n",
    "import com.github.sh0nk.matplotlib4j.builder.*\n",
    "\n",
    "// construct a standard normal random number generator\n",
    "val rng = NormalRNG(0.0,0.1)\n",
    "rng.seed(1234567890L)\n",
    "\n",
    "// the number of data to generate\n",
    "val N = 500\n",
    "\n",
    "// generate the random data to plot\n",
    "val x = List(N) { rng.nextDouble() }\n",
    "\n",
    "// generate the plot\n",
    "val plt = Plot.create()\n",
    "plt.hist().add(x) // set data\n",
    "    .histtype(HistBuilder.HistType.bar) // set type to bar\n",
    "    .linewidth(0.5)\n",
    "    .rwidth(0.9) // set gap between two groups\n",
    "    \n",
    "plt.title(\"Basic Bar Plot\") // set title\n",
    "\n",
    "// set labels\n",
    "plt.xlabel(\"Total Revenue\");\n",
    "plt.ylabel(\"$ in million\");\n",
    "\n",
    "// display the plot\n",
    "// plt.show()\n",
    "plt.savefig(\"/home/jovyan/tmp/bar_plot_basic.png\")\n",
    "plt.executeSilently()\n"
   ]
  },
  {
   "cell_type": "code",
   "execution_count": null,
   "metadata": {},
   "outputs": [],
   "source": []
  }
 ],
 "metadata": {
  "kernelspec": {
   "display_name": "Kotlin",
   "language": "kotlin",
   "name": "python3"
  },
  "language_info": {
   "codemirror_mode": "text/x-kotlin",
   "file_extension": ".kt",
   "mimetype": "text/x-kotlin",
   "name": "kotlin",
   "nbconvert_exporter": "",
   "pygments_lexer": "kotlin",
   "version": "1.8.20"
  }
 },
 "nbformat": 4,
 "nbformat_minor": 4
}
