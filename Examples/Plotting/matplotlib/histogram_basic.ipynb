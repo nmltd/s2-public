{
 "cells": [
  {
   "cell_type": "code",
   "execution_count": null,
   "metadata": {},
   "outputs": [],
   "source": [
    "%use s2\n",
    "\n",
    "@file:Repository(\"https://github.com/sh0nk/matplotlib4j\")\n",
    "@file:DependsOn(\"com.github.sh0nk:matplotlib4j:0.5.0\")\n",
    "import com.github.sh0nk.matplotlib4j.*\n",
    "import com.github.sh0nk.matplotlib4j.builder.*\n",
    "\n",
    "// construct a standard normal random number generator\n",
    "val rng = NormalRNG(0.0,0.1)\n",
    "rng.seed(1234567890L)\n",
    "\n",
    "// the number of data to generate\n",
    "val N = 500\n",
    "\n",
    "// generate the random data to plot\n",
    "val x = List(N) { rng.nextDouble() }\n",
    "\n",
    "// generate the plot\n",
    "val plt = Plot.create()\n",
    "plt.hist().add(x) // set data\n",
    "    .linewidth(0.5)\n",
    "    \n",
    "plt.title(\"Basic Histogram\") // set title\n",
    "\n",
    "// set labels\n",
    "plt.xlabel(\"Temperature\");\n",
    "plt.ylabel(\"Frequency\");\n",
    "\n",
    "// display the plot\n",
    "// plt.show()\n",
    "plt.savefig(\"plot.png\")\n",
    "plt.executeSilently()\n"
   ]
  }
 ],
 "metadata": {
  "kernelspec": {
   "display_name": "Kotlin",
   "language": "kotlin",
   "name": "python392jvsc74a57bd02fa9724a83c1b912eacfa0df2390db8cc86de28df572c050c637f38dfda3ff34"
  },
  "language_info": {
   "name": "kotlin"
  },
  "orig_nbformat": 4
 },
 "nbformat": 4,
 "nbformat_minor": 2
}
