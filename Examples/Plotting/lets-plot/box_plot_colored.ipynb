{
 "cells": [
  {
   "cell_type": "code",
   "execution_count": 1,
   "metadata": {},
   "outputs": [
    {
     "data": {
      "text/html": [
       "   <div id=\"dto02w\"></div>\n",
       "   <script type=\"text/javascript\" data-lets-plot-script=\"library\">\n",
       "       if(!window.letsPlotCallQueue) {\n",
       "           window.letsPlotCallQueue = [];\n",
       "       }; \n",
       "       window.letsPlotCall = function(f) {\n",
       "           window.letsPlotCallQueue.push(f);\n",
       "       };\n",
       "       (function() {\n",
       "           var script = document.createElement(\"script\");\n",
       "           script.type = \"text/javascript\";\n",
       "           script.src = \"https://dl.bintray.com/jetbrains/lets-plot/lets-plot-1.5.2.min.js\";\n",
       "           script.onload = function() {\n",
       "               window.letsPlotCall = function(f) {f();};\n",
       "               window.letsPlotCallQueue.forEach(function(f) {f();});\n",
       "               window.letsPlotCallQueue = [];\n",
       "               \n",
       "               \n",
       "           };\n",
       "           script.onerror = function(event) {\n",
       "               window.letsPlotCall = function(f) {};\n",
       "               window.letsPlotCallQueue = [];\n",
       "               var div = document.createElement(\"div\");\n",
       "               div.style.color = 'darkred';\n",
       "               div.textContent = 'Error loading Lets-Plot JS';\n",
       "               document.getElementById(\"dto02w\").appendChild(div);\n",
       "           };\n",
       "           var e = document.getElementById(\"dto02w\");\n",
       "           e.appendChild(script);\n",
       "       })();\n",
       "   </script>"
      ]
     },
     "metadata": {},
     "output_type": "display_data"
    },
    {
     "name": "stdout",
     "output_type": "stream",
     "text": [
      "{cond=[A, B], rating=[-3.3812632581654454E-4, 1.3530503384104802]}\n"
     ]
    },
    {
     "data": {
      "text/html": [
       "   <div id=\"3wHwYN\"></div>\n",
       "   <script type=\"text/javascript\" data-lets-plot-script=\"plot\">\n",
       "       (function() {\n",
       "           var plotSpec={\n",
       "'mapping':{\n",
       "'x':\"cond\",\n",
       "'y':\"rating\"\n",
       "},\n",
       "'data':{\n",
       "},\n",
       "'ggsize':{\n",
       "'width':300,\n",
       "'height':200\n",
       "},\n",
       "'kind':\"plot\",\n",
       "'scales':[],\n",
       "'layers':[{\n",
       "'stat':\"boxplot\",\n",
       "'mapping':{\n",
       "'fill':\"cond\"\n",
       "},\n",
       "'data':{\n",
       "'..middle..':[-0.019211056447018926,NaN,NaN,1.3182856633445066],\n",
       "'..group..':[0.0,1.0,1.0,1.0],\n",
       "'..upper..':[0.663465083949982,NaN,NaN,2.446280503413128],\n",
       "'..ymax..':[2.549501815748322,NaN,NaN,5.300818951143805],\n",
       "'rating':[NaN,-3.3918705922019416,-3.241523873585262,NaN],\n",
       "'..lower..':[-0.7131500371803876,NaN,NaN,0.2974636787467547],\n",
       "'..ymin..':[-1.9816963392869595,NaN,NaN,-2.1924357313833664],\n",
       "'cond':[\"A\",\"B\",\"B\",\"B\"]\n",
       "},\n",
       "'position':\"dodge\",\n",
       "'geom':\"boxplot\"\n",
       "}]\n",
       "};\n",
       "           var plotContainer = document.getElementById(\"3wHwYN\");\n",
       "           window.letsPlotCall(function() {{\n",
       "               LetsPlot.buildPlotFromProcessedSpecs(plotSpec, -1, -1, plotContainer);\n",
       "           }});\n",
       "       })();    \n",
       "   </script>"
      ]
     },
     "execution_count": 1,
     "metadata": {},
     "output_type": "execute_result"
    }
   ],
   "source": [
    "/**\n",
    " * Demonstrate how to plot a colored box plot.\n",
    " *\n",
    " * @author Haksun Li\n",
    " */\n",
    "\n",
    "%use s2, lets-plot\n",
    "\n",
    "// construct a standard normal random number generator\n",
    "val rng = NormalRNG(\n",
    "    0.0, // mean\n",
    "    1.0) // standard deviation\n",
    "rng.seed(1234567890L)\n",
    "\n",
    "// the number of data to generate\n",
    "val N = 200\n",
    "// generate the random data to plot\n",
    "val data = mapOf<String, Any>(\n",
    "    \"cond\" to List(N) { \"A\" } + List(N) { \"B\" },\n",
    "    \"rating\" to List(N) { rng.nextDouble() } + List(N) { rng.nextDouble() * 1.5 + 1.5 },\n",
    ")\n",
    "\n",
    "// find the mean of each group\n",
    "val means = (data[\"cond\"] as List<String> zip data[\"rating\"] as List<Double>)\n",
    "        .groupBy(keySelector = { it.first }, valueTransform = { it.second })\n",
    "        .mapValues { it.value.average() }\n",
    "val cdat = mapOf(\n",
    "    \"cond\" to means.keys,\n",
    "    \"rating\" to means.values\n",
    ")\n",
    "println(cdat)\n",
    "\n",
    "// construct a box plot \n",
    "val plot = ggplot(data) {x=\"cond\"; y=\"rating\"} + // supply data; set legends\n",
    "    ggsize(300, 200) + // plot size\n",
    "    geom_boxplot() {fill=\"cond\"} // draw a colored box plot\n",
    "// display the plot\n",
    "plot"
   ]
  },
  {
   "cell_type": "code",
   "execution_count": null,
   "metadata": {},
   "outputs": [],
   "source": []
  }
 ],
 "metadata": {
  "kernelspec": {
   "display_name": "Kotlin",
   "language": "kotlin",
   "name": "kotlin"
  },
  "language_info": {
   "codemirror_mode": "text/x-kotlin",
   "file_extension": ".kt",
   "mimetype": "text/x-kotlin",
   "name": "kotlin",
   "pygments_lexer": "kotlin",
   "version": "1.4.20-dev-3647"
  }
 },
 "nbformat": 4,
 "nbformat_minor": 4
}
