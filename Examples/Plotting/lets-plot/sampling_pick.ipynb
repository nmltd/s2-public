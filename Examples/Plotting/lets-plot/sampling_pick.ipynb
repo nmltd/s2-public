{
 "cells": [
  {
   "cell_type": "code",
   "execution_count": 10,
   "metadata": {},
   "outputs": [
    {
     "data": {
      "text/html": [
       "   <div id=\"k3hdL8\"></div>\n",
       "   <script type=\"text/javascript\" data-lets-plot-script=\"library\">\n",
       "       if(!window.letsPlotCallQueue) {\n",
       "           window.letsPlotCallQueue = [];\n",
       "       }; \n",
       "       window.letsPlotCall = function(f) {\n",
       "           window.letsPlotCallQueue.push(f);\n",
       "       };\n",
       "       (function() {\n",
       "           var script = document.createElement(\"script\");\n",
       "           script.type = \"text/javascript\";\n",
       "           script.src = \"https://dl.bintray.com/jetbrains/lets-plot/lets-plot-1.5.2.min.js\";\n",
       "           script.onload = function() {\n",
       "               window.letsPlotCall = function(f) {f();};\n",
       "               window.letsPlotCallQueue.forEach(function(f) {f();});\n",
       "               window.letsPlotCallQueue = [];\n",
       "               \n",
       "               \n",
       "           };\n",
       "           script.onerror = function(event) {\n",
       "               window.letsPlotCall = function(f) {};\n",
       "               window.letsPlotCallQueue = [];\n",
       "               var div = document.createElement(\"div\");\n",
       "               div.style.color = 'darkred';\n",
       "               div.textContent = 'Error loading Lets-Plot JS';\n",
       "               document.getElementById(\"k3hdL8\").appendChild(div);\n",
       "           };\n",
       "           var e = document.getElementById(\"k3hdL8\");\n",
       "           e.appendChild(script);\n",
       "       })();\n",
       "   </script>"
      ]
     },
     "metadata": {},
     "output_type": "display_data"
    },
    {
     "data": {
      "text/html": [
       "   <div id=\"2P2L2S\"></div>\n",
       "   <script type=\"text/javascript\" data-lets-plot-script=\"plot\">\n",
       "       (function() {\n",
       "           var plotSpec={\n",
       "'mapping':{\n",
       "'x':\"word\"\n",
       "},\n",
       "'data':{\n",
       "},\n",
       "'kind':\"plot\",\n",
       "'computation_messages':[\"sampling_pick(n=50) was applied to [bar/count stat] layer\"],\n",
       "'scales':[],\n",
       "'layers':[{\n",
       "'stat':\"count\",\n",
       "'mapping':{\n",
       "'fill':\"g\"\n",
       "},\n",
       "'data':{\n",
       "'..count..':[1.0,2.0,3.0,2.0,2.0,1.0,1.0,3.0,1.0,1.0,3.0,1.0,1.0,1.0,1.0,2.0,4.0,1.0,1.0,1.0,1.0,2.0,3.0,1.0,2.0,1.0,1.0,1.0,1.0,2.0,2.0,2.0,1.0,1.0,3.0,4.0,1.0,1.0,2.0,2.0,2.0,1.0,2.0,1.0,3.0,2.0,2.0,1.0,1.0,1.0,1.0,2.0,1.0,1.0,2.0,1.0,1.0,1.0,2.0,3.0,1.0,1.0,1.0,1.0,1.0,2.0,1.0,1.0,1.0,2.0,3.0,2.0,1.0,2.0,1.0,2.0,1.0,1.0,2.0,1.0,2.0,1.0,1.0,1.0,1.0,3.0,1.0,1.0,1.0,2.0,1.0,2.0,2.0,2.0,2.0,2.0,1.0,1.0,1.0,1.0,2.0],\n",
       "'g':[\"c\",\"c\",\"c\",\"c\",\"c\",\"c\",\"c\",\"c\",\"c\",\"c\",\"c\",\"c\",\"c\",\"c\",\"c\",\"c\",\"c\",\"c\",\"c\",\"c\",\"c\",\"c\",\"c\",\"c\",\"c\",\"c\",\"c\",\"c\",\"c\",\"c\",\"c\",\"c\",\"c\",\"c\",\"c\",\"c\",\"c\",\"c\",\"c\",\"c\",\"c\",\"c\",\"c\",\"c\",\"c\",\"c\",\"c\",\"c\",\"c\",\"c\",\"a\",\"a\",\"a\",\"a\",\"a\",\"a\",\"a\",\"a\",\"a\",\"a\",\"a\",\"a\",\"a\",\"a\",\"a\",\"a\",\"a\",\"a\",\"a\",\"a\",\"a\",\"a\",\"a\",\"a\",\"a\",\"a\",\"a\",\"b\",\"b\",\"b\",\"b\",\"b\",\"b\",\"b\",\"b\",\"b\",\"b\",\"b\",\"b\",\"b\",\"b\",\"b\",\"b\",\"b\",\"b\",\"b\",\"b\",\"b\",\"b\",\"b\",\"b\"],\n",
       "'word':[\"zknkh\",\"uhdvm\",\"gklov\",\"vsvqq\",\"pbpqv\",\"mnmkz\",\"lwkhg\",\"jlfuh\",\"zyckd\",\"zryys\",\"xlcpp\",\"puvwd\",\"xguwb\",\"xbyqu\",\"lptio\",\"fpagy\",\"gvgst\",\"cbots\",\"ofmsd\",\"zfukg\",\"sumsh\",\"otcrs\",\"fruli\",\"rdxuu\",\"xaord\",\"svqwi\",\"imfmo\",\"lkifp\",\"bliwy\",\"ivbnk\",\"sdscw\",\"esnys\",\"veztf\",\"wimta\",\"sgdum\",\"xfkyk\",\"hntmq\",\"tghop\",\"dubcl\",\"qszcf\",\"vtkzm\",\"cbnpl\",\"ddkxk\",\"lccwr\",\"guhuy\",\"pczpx\",\"vixgg\",\"jcfpn\",\"poocl\",\"mqczg\",\"mnmkz\",\"zknkh\",\"wimta\",\"mqczg\",\"xguwb\",\"zryys\",\"ivbnk\",\"sgdum\",\"dubcl\",\"ddkxk\",\"tghop\",\"otcrs\",\"qszcf\",\"uhdvm\",\"fpagy\",\"fruli\",\"cbnpl\",\"xfkyk\",\"vsvqq\",\"zyckd\",\"jcfpn\",\"veztf\",\"ofmsd\",\"esnys\",\"jlfuh\",\"xlcpp\",\"vtkzm\",\"sdscw\",\"otcrs\",\"cbots\",\"sgdum\",\"ofmsd\",\"jcfpn\",\"fruli\",\"vsvqq\",\"puvwd\",\"qszcf\",\"hntmq\",\"tghop\",\"pczpx\",\"fpagy\",\"xaord\",\"cbnpl\",\"xguwb\",\"ivbnk\",\"gklov\",\"zryys\",\"lptio\",\"bliwy\",\"vixgg\",\"wimta\"]\n",
       "},\n",
       "'position':\"stack\",\n",
       "'geom':\"bar\"\n",
       "}]\n",
       "};\n",
       "           var plotContainer = document.getElementById(\"2P2L2S\");\n",
       "           window.letsPlotCall(function() {{\n",
       "               LetsPlot.buildPlotFromProcessedSpecs(plotSpec, -1, -1, plotContainer);\n",
       "           }});\n",
       "       })();    \n",
       "   </script>"
      ]
     },
     "execution_count": 10,
     "metadata": {},
     "output_type": "execute_result"
    }
   ],
   "source": [
    "/**\n",
    " * Demonstrate how to do sampling pick.\n",
    " *\n",
    " * @author Haksun Li\n",
    " */\n",
    "\n",
    "%use lets-plot\n",
    "\n",
    "// generate a random word of length\n",
    "fun genWord(length:Int):String {\n",
    "    val letters = ('a'..'z')\n",
    "    return List(length) { letters.random() }.joinToString(\"\")\n",
    "}\n",
    "\n",
    "// generate n random words\n",
    "fun genWordSet(n:Int):Set<String> {\n",
    "    val words = HashSet<String>()\n",
    "    while(words.size < n) {\n",
    "        words.add(genWord(5))\n",
    "    }\n",
    "    return words\n",
    "}\n",
    "\n",
    "fun map(n:Int, words:Set<String>):Map<String, *> {\n",
    "    return mapOf(\n",
    "            \"word\" to List(n) { words.random() },\n",
    "            \"g\" to List(n) { listOf('a','b','c').random() }\n",
    "        )\n",
    "}\n",
    "\n",
    "val words = genWordSet(500)\n",
    "val data = map(1000, words)\n",
    "val plot = ggplot(data) { x = \"word\" }\n",
    "\n",
    "// Default sampling\n",
    "//plot + geom_bar()\n",
    "\n",
    "// 'Pick' sampling preserves groups on bar chart.\n",
    "plot + geom_bar { fill=\"g\" }"
   ]
  },
  {
   "cell_type": "code",
   "execution_count": null,
   "metadata": {},
   "outputs": [],
   "source": []
  }
 ],
 "metadata": {
  "kernelspec": {
   "display_name": "Kotlin",
   "language": "kotlin",
   "name": "kotlin"
  },
  "language_info": {
   "codemirror_mode": "text/x-kotlin",
   "file_extension": ".kt",
   "mimetype": "text/x-kotlin",
   "name": "kotlin",
   "pygments_lexer": "kotlin",
   "version": "1.4.20-dev-3647"
  }
 },
 "nbformat": 4,
 "nbformat_minor": 4
}
