{
 "cells": [
  {
   "cell_type": "code",
   "execution_count": 1,
   "metadata": {},
   "outputs": [
    {
     "data": {
      "text/html": [
       "   <div id=\"JZ9Ypu\"></div>\n",
       "   <script type=\"text/javascript\" data-lets-plot-script=\"library\">\n",
       "       if(!window.letsPlotCallQueue) {\n",
       "           window.letsPlotCallQueue = [];\n",
       "       }; \n",
       "       window.letsPlotCall = function(f) {\n",
       "           window.letsPlotCallQueue.push(f);\n",
       "       };\n",
       "       (function() {\n",
       "           var script = document.createElement(\"script\");\n",
       "           script.type = \"text/javascript\";\n",
       "           script.src = \"https://cdn.jsdelivr.net/gh/JetBrains/lets-plot@v2.2.1/js-package/distr/lets-plot.min.js\";\n",
       "           script.onload = function() {\n",
       "               window.letsPlotCall = function(f) {f();};\n",
       "               window.letsPlotCallQueue.forEach(function(f) {f();});\n",
       "               window.letsPlotCallQueue = [];\n",
       "               \n",
       "               \n",
       "           };\n",
       "           script.onerror = function(event) {\n",
       "               window.letsPlotCall = function(f) {};\n",
       "               window.letsPlotCallQueue = [];\n",
       "               var div = document.createElement(\"div\");\n",
       "               div.style.color = 'darkred';\n",
       "               div.textContent = 'Error loading Lets-Plot JS';\n",
       "               document.getElementById(\"JZ9Ypu\").appendChild(div);\n",
       "           };\n",
       "           var e = document.getElementById(\"JZ9Ypu\");\n",
       "           e.appendChild(script);\n",
       "       })();\n",
       "   </script>"
      ]
     },
     "metadata": {},
     "output_type": "display_data"
    },
    {
     "data": {
      "text/html": [
       "   <div id=\"iEP8lA\"></div>\n",
       "   <script type=\"text/javascript\" data-lets-plot-script=\"plot\">\n",
       "       (function() {\n",
       "           var plotSpec={\n",
       "\"mapping\":{\n",
       "\"x\":\"word\"\n",
       "},\n",
       "\"data\":{\n",
       "},\n",
       "\"kind\":\"plot\",\n",
       "\"scales\":[],\n",
       "\"layers\":[{\n",
       "\"mapping\":{\n",
       "\"fill\":\"g\"\n",
       "},\n",
       "\"stat\":\"count\",\n",
       "\"position\":\"stack\",\n",
       "\"geom\":\"bar\",\n",
       "\"data\":{\n",
       "\"..count..\":[1.0,2.0,1.0,1.0,3.0,1.0,1.0,1.0,1.0,1.0,1.0,5.0,2.0,1.0,2.0,3.0,2.0,2.0,1.0,1.0,3.0,1.0,2.0,1.0,1.0,3.0,1.0,1.0,1.0,2.0,1.0,3.0,3.0,3.0,2.0,2.0,2.0,1.0,1.0,1.0,1.0,1.0,4.0,3.0,1.0,1.0,1.0,2.0,1.0,2.0,1.0,1.0,2.0,1.0,3.0,1.0,3.0,1.0,2.0,2.0,1.0,1.0,2.0,1.0,2.0,1.0,1.0,1.0,1.0,1.0,1.0,1.0,1.0,1.0,1.0,2.0,1.0,1.0,1.0,2.0,2.0,3.0,2.0,1.0,1.0,1.0,1.0,1.0,1.0,2.0,1.0,1.0,1.0,1.0,1.0,1.0,1.0,1.0,1.0],\n",
       "\"g\":[\"b\",\"b\",\"b\",\"b\",\"b\",\"b\",\"b\",\"b\",\"b\",\"b\",\"b\",\"b\",\"b\",\"b\",\"b\",\"b\",\"b\",\"b\",\"b\",\"b\",\"b\",\"b\",\"b\",\"b\",\"b\",\"b\",\"b\",\"b\",\"b\",\"b\",\"b\",\"b\",\"b\",\"b\",\"b\",\"b\",\"b\",\"b\",\"b\",\"b\",\"b\",\"b\",\"b\",\"b\",\"b\",\"b\",\"b\",\"b\",\"b\",\"b\",\"a\",\"a\",\"a\",\"a\",\"a\",\"a\",\"a\",\"a\",\"a\",\"a\",\"a\",\"a\",\"a\",\"a\",\"a\",\"a\",\"a\",\"a\",\"a\",\"a\",\"a\",\"a\",\"a\",\"a\",\"a\",\"c\",\"c\",\"c\",\"c\",\"c\",\"c\",\"c\",\"c\",\"c\",\"c\",\"c\",\"c\",\"c\",\"c\",\"c\",\"c\",\"c\",\"c\",\"c\",\"c\",\"c\",\"c\",\"c\",\"c\"],\n",
       "\"word\":[\"mlgxh\",\"rsudq\",\"quuea\",\"tqnjr\",\"hqewm\",\"xtakb\",\"karmb\",\"ulgfy\",\"wfhqu\",\"cesqa\",\"oycms\",\"nmltp\",\"hkfar\",\"zbvzr\",\"wwtht\",\"uyvqr\",\"byxey\",\"rcyww\",\"ybwyb\",\"tmmzn\",\"fansb\",\"smpmr\",\"sncmk\",\"kdynw\",\"xsygc\",\"rlzqg\",\"fipae\",\"jjzxl\",\"hnoon\",\"lbprx\",\"rdikr\",\"febup\",\"uvrpa\",\"qures\",\"ktbhn\",\"huuwd\",\"srdvt\",\"isurn\",\"psbuo\",\"vmuuv\",\"pnkng\",\"byrtp\",\"vjuzf\",\"aigec\",\"bhfum\",\"xzvbo\",\"vjexl\",\"xasne\",\"bqusp\",\"rujyo\",\"wfhqu\",\"rcyww\",\"tqnjr\",\"hnoon\",\"lbprx\",\"vmuuv\",\"isurn\",\"ulgfy\",\"qures\",\"nmltp\",\"ybwyb\",\"hkfar\",\"xtakb\",\"huuwd\",\"xasne\",\"hqewm\",\"quuea\",\"byrtp\",\"cesqa\",\"rlzqg\",\"kdynw\",\"bhfum\",\"sncmk\",\"xzvbo\",\"uyvqr\",\"lbprx\",\"wwtht\",\"isurn\",\"rsudq\",\"ybwyb\",\"cesqa\",\"uyvqr\",\"jjzxl\",\"xzvbo\",\"wfhqu\",\"byrtp\",\"fansb\",\"rujyo\",\"srdvt\",\"fipae\",\"rlzqg\",\"uvrpa\",\"kdynw\",\"karmb\",\"rdikr\",\"febup\",\"sncmk\",\"tqnjr\",\"quuea\"]\n",
       "}\n",
       "}],\n",
       "\"computation_messages\":[\"sampling_pick(n=50) was applied to [bar/count stat] layer\"]\n",
       "};\n",
       "           var plotContainer = document.getElementById(\"iEP8lA\");\n",
       "           window.letsPlotCall(function() {{\n",
       "               LetsPlot.buildPlotFromProcessedSpecs(plotSpec, -1, -1, plotContainer);\n",
       "           }});\n",
       "       })();    \n",
       "   </script>"
      ]
     },
     "execution_count": 1,
     "metadata": {},
     "output_type": "execute_result"
    }
   ],
   "source": [
    "/**\n",
    " * Demonstrate how to do sampling pick.\n",
    " *\n",
    " * @author Haksun Li\n",
    " */\n",
    "\n",
    "%use lets-plot\n",
    "\n",
    "// generate a random word of length\n",
    "fun genWord(length:Int):String {\n",
    "    val letters = ('a'..'z')\n",
    "    return List(length) { letters.random() }.joinToString(\"\")\n",
    "}\n",
    "\n",
    "// generate n random words\n",
    "fun genWordSet(n:Int):Set<String> {\n",
    "    val words = HashSet<String>()\n",
    "    while(words.size < n) {\n",
    "        words.add(genWord(5))\n",
    "    }\n",
    "    return words\n",
    "}\n",
    "\n",
    "fun map(n:Int, words:Set<String>):Map<String, *> {\n",
    "    return mapOf(\n",
    "            \"word\" to List(n) { words.random() },\n",
    "            \"g\" to List(n) { listOf('a','b','c').random() }\n",
    "        )\n",
    "}\n",
    "\n",
    "val words = genWordSet(500)\n",
    "val data = map(1000, words)\n",
    "val plot = ggplot(data) { x = \"word\" }\n",
    "\n",
    "// Default sampling\n",
    "//plot + geom_bar()\n",
    "\n",
    "// 'Pick' sampling preserves groups on bar chart.\n",
    "plot + geom_bar { fill=\"g\" }"
   ]
  },
  {
   "cell_type": "code",
   "execution_count": null,
   "metadata": {},
   "outputs": [],
   "source": []
  }
 ],
 "metadata": {
  "kernelspec": {
   "display_name": "Kotlin",
   "language": "kotlin",
   "name": "python3"
  },
  "language_info": {
   "codemirror_mode": "text/x-kotlin",
   "file_extension": ".kt",
   "mimetype": "text/x-kotlin",
   "name": "kotlin",
   "nbconvert_exporter": "",
   "pygments_lexer": "kotlin",
   "version": "1.6.20-dev-6372"
  }
 },
 "nbformat": 4,
 "nbformat_minor": 4
}
