{
 "cells": [
  {
   "cell_type": "code",
   "execution_count": 2,
   "metadata": {},
   "outputs": [
    {
     "data": {
      "text/html": [
       "   <div id=\"223Kue\"></div>\n",
       "   <script type=\"text/javascript\" data-lets-plot-script=\"library\">\n",
       "       if(!window.letsPlotCallQueue) {\n",
       "           window.letsPlotCallQueue = [];\n",
       "       }; \n",
       "       window.letsPlotCall = function(f) {\n",
       "           window.letsPlotCallQueue.push(f);\n",
       "       };\n",
       "       (function() {\n",
       "           var script = document.createElement(\"script\");\n",
       "           script.type = \"text/javascript\";\n",
       "           script.src = \"https://dl.bintray.com/jetbrains/lets-plot/lets-plot-1.5.2.min.js\";\n",
       "           script.onload = function() {\n",
       "               window.letsPlotCall = function(f) {f();};\n",
       "               window.letsPlotCallQueue.forEach(function(f) {f();});\n",
       "               window.letsPlotCallQueue = [];\n",
       "               \n",
       "               \n",
       "           };\n",
       "           script.onerror = function(event) {\n",
       "               window.letsPlotCall = function(f) {};\n",
       "               window.letsPlotCallQueue = [];\n",
       "               var div = document.createElement(\"div\");\n",
       "               div.style.color = 'darkred';\n",
       "               div.textContent = 'Error loading Lets-Plot JS';\n",
       "               document.getElementById(\"223Kue\").appendChild(div);\n",
       "           };\n",
       "           var e = document.getElementById(\"223Kue\");\n",
       "           e.appendChild(script);\n",
       "       })();\n",
       "   </script>"
      ]
     },
     "metadata": {},
     "output_type": "display_data"
    },
    {
     "data": {
      "text/html": [
       "   <div id=\"uF8MVu\"></div>\n",
       "   <script type=\"text/javascript\" data-lets-plot-script=\"plot\">\n",
       "       (function() {\n",
       "           var plotSpec={\n",
       "'mapping':{\n",
       "'x':\"rating\",\n",
       "'fill':\"cond\"\n",
       "},\n",
       "'data':{\n",
       "},\n",
       "'ggsize':{\n",
       "'width':500,\n",
       "'height':250\n",
       "},\n",
       "'kind':\"plot\",\n",
       "'scales':[],\n",
       "'layers':[{\n",
       "'stat':\"bin\",\n",
       "'mapping':{\n",
       "},\n",
       "'data':{\n",
       "'..count..':[0.0,0.0,0.0,4.0,18.0,26.0,28.0,43.0,37.0,24.0,13.0,6.0,1.0,0.0,0.0,0.0,0.0,0.0,0.0,1.0,1.0,0.0,4.0,4.0,9.0,10.0,19.0,20.0,28.0,18.0,25.0,22.0,17.0,11.0,3.0,4.0,3.0,1.0],\n",
       "'rating':[-3.4918705922019417,-2.9918705922019417,-2.4918705922019417,-1.9918705922019417,-1.4918705922019417,-0.9918705922019417,-0.49187059220194174,0.008129407798058264,0.5081294077980583,1.0081294077980583,1.5081294077980583,2.0081294077980583,2.5081294077980583,3.0081294077980583,3.5081294077980583,4.008129407798059,4.508129407798059,5.008129407798059,5.508129407798059,-3.4918705922019417,-2.9918705922019417,-2.4918705922019417,-1.9918705922019417,-1.4918705922019417,-0.9918705922019417,-0.49187059220194174,0.008129407798058264,0.5081294077980583,1.0081294077980583,1.5081294077980583,2.0081294077980583,2.5081294077980583,3.0081294077980583,3.5081294077980583,4.008129407798059,4.508129407798059,5.008129407798059,5.508129407798059],\n",
       "'cond':[\"A\",\"A\",\"A\",\"A\",\"A\",\"A\",\"A\",\"A\",\"A\",\"A\",\"A\",\"A\",\"A\",\"A\",\"A\",\"A\",\"A\",\"A\",\"A\",\"B\",\"B\",\"B\",\"B\",\"B\",\"B\",\"B\",\"B\",\"B\",\"B\",\"B\",\"B\",\"B\",\"B\",\"B\",\"B\",\"B\",\"B\",\"B\"]\n",
       "},\n",
       "'alpha':0.5,\n",
       "'position':\"dodge\",\n",
       "'binwidth':0.5,\n",
       "'geom':\"histogram\"\n",
       "}]\n",
       "};\n",
       "           var plotContainer = document.getElementById(\"uF8MVu\");\n",
       "           window.letsPlotCall(function() {{\n",
       "               LetsPlot.buildPlotFromProcessedSpecs(plotSpec, -1, -1, plotContainer);\n",
       "           }});\n",
       "       })();    \n",
       "   </script>"
      ]
     },
     "execution_count": 2,
     "metadata": {},
     "output_type": "execute_result"
    }
   ],
   "source": [
    "/**\n",
    " * Demonstrate how to plot an interleaved histogram of multiple groups.\n",
    " *\n",
    " * @author Haksun Li\n",
    " */\n",
    "\n",
    "%use s2, lets-plot\n",
    "\n",
    "// construct a standard normal random number generator\n",
    "val rng = NormalRNG(\n",
    "    0.0, // mean\n",
    "    1.0) // standard deviation\n",
    "rng.seed(1234567890L)\n",
    "\n",
    "// the number of data to generate\n",
    "val N = 200\n",
    "// generate the random data to plot\n",
    "val data = mapOf<String, Any>(\n",
    "    \"cond\" to List(N) { \"A\" } + List(N) { \"B\" },\n",
    "    \"rating\" to List(N) { rng.nextDouble() } + List(N) { rng.nextDouble() * 1.5 + 1.5 },\n",
    ")\n",
    "\n",
    "// construct an interleaved histogram with multiple groups\n",
    "val plot = lets_plot(data) {x = \"rating\"; fill=\"cond\"} + // supply data; set legends\n",
    "    ggsize(500, 250) + // plot size\n",
    "    geom_histogram(binWidth=0.5, alpha=.5, position=Pos.dodge) // plot an interleaved histogram\n",
    "plot"
   ]
  },
  {
   "cell_type": "code",
   "execution_count": null,
   "metadata": {},
   "outputs": [],
   "source": []
  }
 ],
 "metadata": {
  "kernelspec": {
   "display_name": "Kotlin",
   "language": "kotlin",
   "name": "kotlin"
  },
  "language_info": {
   "codemirror_mode": "text/x-kotlin",
   "file_extension": ".kt",
   "mimetype": "text/x-kotlin",
   "name": "kotlin",
   "pygments_lexer": "kotlin",
   "version": "1.4.20-dev-3647"
  }
 },
 "nbformat": 4,
 "nbformat_minor": 4
}
