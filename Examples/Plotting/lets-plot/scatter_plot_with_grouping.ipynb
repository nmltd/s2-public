{
 "cells": [
  {
   "cell_type": "code",
   "execution_count": 4,
   "metadata": {},
   "outputs": [
    {
     "data": {
      "text/html": [
       "   <div id=\"pwIUwf\"></div>\n",
       "   <script type=\"text/javascript\" data-lets-plot-script=\"library\">\n",
       "       if(!window.letsPlotCallQueue) {\n",
       "           window.letsPlotCallQueue = [];\n",
       "       }; \n",
       "       window.letsPlotCall = function(f) {\n",
       "           window.letsPlotCallQueue.push(f);\n",
       "       };\n",
       "       (function() {\n",
       "           var script = document.createElement(\"script\");\n",
       "           script.type = \"text/javascript\";\n",
       "           script.src = \"https://dl.bintray.com/jetbrains/lets-plot/lets-plot-1.5.2.min.js\";\n",
       "           script.onload = function() {\n",
       "               window.letsPlotCall = function(f) {f();};\n",
       "               window.letsPlotCallQueue.forEach(function(f) {f();});\n",
       "               window.letsPlotCallQueue = [];\n",
       "               \n",
       "               \n",
       "           };\n",
       "           script.onerror = function(event) {\n",
       "               window.letsPlotCall = function(f) {};\n",
       "               window.letsPlotCallQueue = [];\n",
       "               var div = document.createElement(\"div\");\n",
       "               div.style.color = 'darkred';\n",
       "               div.textContent = 'Error loading Lets-Plot JS';\n",
       "               document.getElementById(\"pwIUwf\").appendChild(div);\n",
       "           };\n",
       "           var e = document.getElementById(\"pwIUwf\");\n",
       "           e.appendChild(script);\n",
       "       })();\n",
       "   </script>"
      ]
     },
     "metadata": {},
     "output_type": "display_data"
    },
    {
     "data": {
      "text/html": [
       "   <div id=\"UnGRAZ\"></div>\n",
       "   <script type=\"text/javascript\" data-lets-plot-script=\"plot\">\n",
       "       (function() {\n",
       "           var plotSpec={\n",
       "'mapping':{\n",
       "'color':\"cond\",\n",
       "'x':\"xvar\",\n",
       "'y':\"yvar\"\n",
       "},\n",
       "'data':{\n",
       "'yvar':[0.19410176621714376,-4.327730778197674,-1.2205906648315294,2.6117720973362553,9.086176597915752,-0.9045768169918427,2.097387832423016,2.2023093594715615,3.2487197146669713,5.79940383009028,12.825239980208583,13.947547072059372,11.025968025151581,14.166652544881977,13.075622324687071,15.43757525668989,11.233360509899253,15.496603938660211,17.44932491133043,23.35891530914703],\n",
       "'xvar':[0.0,1.0,2.0,3.0,4.0,5.0,6.0,7.0,8.0,9.0,10.0,11.0,12.0,13.0,14.0,15.0,16.0,17.0,18.0,19.0],\n",
       "'cond':[\"A\",\"A\",\"A\",\"A\",\"A\",\"A\",\"A\",\"A\",\"A\",\"A\",\"B\",\"B\",\"B\",\"B\",\"B\",\"B\",\"B\",\"B\",\"B\",\"B\"]\n",
       "},\n",
       "'ggsize':{\n",
       "'width':500,\n",
       "'height':250\n",
       "},\n",
       "'kind':\"plot\",\n",
       "'scales':[],\n",
       "'layers':[{\n",
       "'stat':\"identity\",\n",
       "'mapping':{\n",
       "'shape':\"cond\"\n",
       "},\n",
       "'size':5,\n",
       "'data':{\n",
       "},\n",
       "'position':\"identity\",\n",
       "'geom':\"point\"\n",
       "}]\n",
       "};\n",
       "           var plotContainer = document.getElementById(\"UnGRAZ\");\n",
       "           window.letsPlotCall(function() {{\n",
       "               LetsPlot.buildPlotFromProcessedSpecs(plotSpec, -1, -1, plotContainer);\n",
       "           }});\n",
       "       })();    \n",
       "   </script>"
      ]
     },
     "execution_count": 4,
     "metadata": {},
     "output_type": "execute_result"
    }
   ],
   "source": [
    "/**\n",
    " * Demonstrate how to do scatter plot with grouping.\n",
    " * This example is found at www.cookbook-r.com/Graphs/Scatterplots_(ggplot2).\n",
    " *\n",
    " * @author Haksun Li\n",
    " */\n",
    "\n",
    "%use s2, lets-plot\n",
    "\n",
    "// construct a standard normal random number generator\n",
    "val rng = NormalRNG(\n",
    "    0.0, // mean\n",
    "    1.0) // standard deviation\n",
    "rng.seed(1234567890L)\n",
    "\n",
    "// the number of data to generate\n",
    "val N = 20\n",
    "// generate the random data to plot\n",
    "val data = mapOf<String, List<*>>(\n",
    "    \"cond\" to List(N / 2) { \"A\" } + List(N / 2) { \"B\" },\n",
    "    \"xvar\" to List(N) { i:Int-> i }, \n",
    "    \"yvar\" to List(N) { i:Int-> i + rng.nextDouble() * 3 }\n",
    ")\n",
    "\n",
    "// group data by `cond`\n",
    "val plot = ggplot(data) { x = \"xvar\"; y = \"yvar\"; color = \"cond\" } + // supply data; set legends\n",
    "    ggsize(500, 250) + // plot size\n",
    "    // draw a scatter plot\n",
    "    geom_point(size = 5) { shape = \"cond\" } // map `shape` to the `cond` variable\n",
    "plot"
   ]
  }
 ],
 "metadata": {
  "kernelspec": {
   "display_name": "Kotlin",
   "language": "kotlin",
   "name": "kotlin"
  },
  "language_info": {
   "codemirror_mode": "text/x-kotlin",
   "file_extension": ".kt",
   "mimetype": "text/x-kotlin",
   "name": "kotlin",
   "pygments_lexer": "kotlin",
   "version": "1.4.20-dev-3647"
  }
 },
 "nbformat": 4,
 "nbformat_minor": 4
}
