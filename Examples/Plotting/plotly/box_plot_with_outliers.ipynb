{
 "cells": [
  {
   "cell_type": "code",
   "execution_count": null,
   "metadata": {},
   "outputs": [],
   "source": [
    "%use s2, plotly\n",
    "\n",
    "// construct a standard normal random number generator\n",
    "val rng = NormalRNG(0.0, 1.0)\n",
    "rng.seed(1234567890L)\n",
    "\n",
    "// the number of data to generate\n",
    "val size = 100\n",
    "\n",
    "// create two mutable lists to store generated data\n",
    "val y0 = mutableListOf<Double>()\n",
    "val y1 = mutableListOf<Double>()\n",
    "\n",
    "// generate the random data to plot\n",
    "for (i in 0 until size) {\n",
    "    y0.add(rng.nextDouble())\n",
    "    y1.add(rng.nextDouble())\n",
    "}\n",
    "\n",
    "// construct the traces of the box plot\n",
    "val trace1 = Box {\n",
    "    y.set(y0) // set data\n",
    "    name = \"Trace 1\"\n",
    "    boxpoints = BoxPoints.all // set boxpoints to all to view outliers\n",
    "}\n",
    "\n",
    "val trace2 = Box {\n",
    "    y.set(y1) // set data\n",
    "    name = \"Trace 2\"\n",
    "    fillcolor(\"white\") // set bg color\n",
    "    marker { // set marker properties\n",
    "        color(\"black\")\n",
    "    }\n",
    "    boxpoints = BoxPoints.all // set boxpoints to all to view outliers\n",
    "}\n",
    "\n",
    "// plot the traces\n",
    "val plot = Plotly.plot {\n",
    "    traces(trace1, trace2) // supply traces\n",
    "    \n",
    "    layout { // set layout properties\n",
    "        title = \"Basic Box Plot\"\n",
    "    }\n",
    "}\n",
    "\n",
    "// display the plot\n",
    "plot"
   ]
  }
 ],
 "metadata": {
  "kernelspec": {
   "display_name": "Kotlin",
   "language": "kotlin",
   "name": "python392jvsc74a57bd02fa9724a83c1b912eacfa0df2390db8cc86de28df572c050c637f38dfda3ff34"
  },
  "language_info": {
   "name": "kotlin"
  },
  "orig_nbformat": 4
 },
 "nbformat": 4,
 "nbformat_minor": 2
}
