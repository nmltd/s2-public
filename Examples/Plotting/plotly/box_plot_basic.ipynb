%use s2, plotly

// construct a standard normal random number generator
val rng = NormalRNG(0.0, 1.0)
rng.seed(1234567890L)

// the number of data to generate
val N = 100

// create two mutable lists to store generated data
val y0 = mutableListOf<Double>()
val y1 = mutableListOf<Double>()

// generate the random data to plot
for (i in 0 until N) {
    y0.add(rng.nextDouble())
    y1.add(rng.nextDouble())
}

// construct the traces of the box plot
val trace1 = Box { // set the type of plot
    y.set(y0) // set data
    name = "Trace 1"
}

val trace2 = Box { // set the type of plot
    y.set(y1) // set data
    name = "Trace 2"
    fillcolor("white") // set bg color
    marker { // set marker properties
        color("black")
    }
}

// plot the traces
val plot = Plotly.plot {
    traces(trace1, trace2) // supply traces
    
    // set layout properties
    layout { 
        title = "Basic Box Plot"
    }
}

// display the plot
plot
