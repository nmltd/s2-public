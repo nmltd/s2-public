{
 "cells": [
  {
   "cell_type": "code",
   "execution_count": null,
   "metadata": {},
   "outputs": [],
   "source": [
    "%use s2, plotly\n",
    "\n",
    "// construct a standard normal random number generator\n",
    "val rng = NormalRNG(0.0, 1.0)\n",
    "rng.seed(1234567890L)\n",
    "\n",
    "// the number of data to generate\n",
    "val N = 20\n",
    "\n",
    "// generate the random data to plot\n",
    "val v = List(N) { rng.nextDouble() }\n",
    "\n",
    "// plot the traces\n",
    "val plot = Plotly.plot {\n",
    "    scatter { // supply trace\n",
    "        x.set(v)\n",
    "        mode = ScatterMode.markers // set mode to markers other values are lines, `lines+markers`\n",
    "    }\n",
    "    \n",
    "    layout { // set layout properties\n",
    "        title = \"Basic Scatter Plot\"\n",
    "    }\n",
    "}\n",
    "\n",
    "// display the plot\n",
    "plot"
   ]
  }
 ],
 "metadata": {
  "kernelspec": {
   "display_name": "Kotlin",
   "language": "kotlin",
   "name": "python392jvsc74a57bd02fa9724a83c1b912eacfa0df2390db8cc86de28df572c050c637f38dfda3ff34"
  },
  "language_info": {
   "name": "kotlin"
  },
  "orig_nbformat": 4
 },
 "nbformat": 4,
 "nbformat_minor": 2
}
