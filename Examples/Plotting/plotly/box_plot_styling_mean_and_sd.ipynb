{
 "cells": [
  {
   "cell_type": "code",
   "execution_count": null,
   "metadata": {},
   "outputs": [],
   "source": [
    "% use s2, plotly\n",
    "\n",
    "// data to be plotted\n",
    "val y1 = listOf(2.37, 2.16, 4.82, 1.73, 1.04, 0.23, 1.32, 2.91, 0.11, 4.51, \n",
    "                0.51,3.75, 1.35, 2.98, 4.50, 0.18, 4.66, 1.30, 2.06, 1.19)\n",
    "\n",
    "// trace of box plot for styling mean\n",
    "val Mean = Box {\n",
    "    y.set(y1) // set data\n",
    "    name = \"Only Mean\"\n",
    "    marker { // set marker properties\n",
    "        color(\"red\")\n",
    "    }\n",
    "    boxmean = BoxMean.`true` // set boxmean to true\n",
    "}\n",
    "\n",
    "// trace of box plot for styling sd\n",
    "val StandardDeviation = Box {\n",
    "    y.set(y1) // set data\n",
    "    name = \"Mean and Standard Deviation\"\n",
    "    marker { // set marker properties\n",
    "        color(\"black\")\n",
    "    }\n",
    "    boxmean = BoxMean.sd // set boxmean to sd\n",
    "}\n",
    "\n",
    "// plot the traces\n",
    "val plot = Plotly.plot {\n",
    "    traces(Mean, StandardDeviation) // supply traces\n",
    "\n",
    "    layout { // set layout properties\n",
    "        title = \"Box Plot Styling Mean and Standard Deviation\"\n",
    "    }\n",
    "}\n",
    "\n",
    "// display the plot\n",
    "plot"
   ]
  }
 ],
 "metadata": {
  "kernelspec": {
   "display_name": "Kotlin",
   "language": "kotlin",
   "name": "python392jvsc74a57bd02fa9724a83c1b912eacfa0df2390db8cc86de28df572c050c637f38dfda3ff34"
  },
  "language_info": {
   "name": "kotlin"
  },
  "orig_nbformat": 4
 },
 "nbformat": 4,
 "nbformat_minor": 2
}
