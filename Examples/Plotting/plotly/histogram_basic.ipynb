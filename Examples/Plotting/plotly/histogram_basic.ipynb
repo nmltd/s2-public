{
 "cells": [
  {
   "cell_type": "code",
   "execution_count": null,
   "metadata": {},
   "outputs": [],
   "source": [
    "%use s2, plotly\n",
    "\n",
    "// construct a standard normal random number generator\n",
    "val rng = NormalRNG(0.0,0.1)\n",
    "rng.seed(1234567890L)\n",
    "\n",
    "// the number of data to generate\n",
    "val N = 500\n",
    "\n",
    "// generate the random data to plot\n",
    "val xValues = List(N) { rng.nextDouble() }\n",
    "val yValues = List(N) { rng.nextDouble() * 10}\n",
    "\n",
    "// construct the trace of the histogram\n",
    "val hist = Histogram {\n",
    "    x.set(xValues) // set data\n",
    "    y.set(yValues) // set data\n",
    "    name = \"Random data\"\n",
    "}\n",
    "\n",
    "// plot the traces\n",
    "val plot = Plotly.plot {\n",
    "    traces(hist) // supply traces\n",
    "    \n",
    "    layout { // set layout properties\n",
    "        bargap = 0.1\n",
    "        title {\n",
    "            text = \"Basic Histogram\"\n",
    "            font {\n",
    "                size = 20\n",
    "                color(\"black\")\n",
    "            }\n",
    "        }\n",
    "        // set axes properties\n",
    "        xaxis { \n",
    "            title {\n",
    "                text = \"Value\"\n",
    "                font {\n",
    "                    size = 16\n",
    "                }\n",
    "            }\n",
    "        }\n",
    "        yaxis {\n",
    "            title {\n",
    "                text = \"Count\"\n",
    "                font {\n",
    "                    size = 16\n",
    "                }\n",
    "            }\n",
    "        }\n",
    "    }\n",
    "}\n",
    "\n",
    "// display the plot\n",
    "plot"
   ]
  }
 ],
 "metadata": {
  "kernelspec": {
   "display_name": "Kotlin",
   "language": "kotlin",
   "name": "python392jvsc74a57bd02fa9724a83c1b912eacfa0df2390db8cc86de28df572c050c637f38dfda3ff34"
  },
  "language_info": {
   "name": "kotlin"
  }
 },
 "nbformat": 4,
 "nbformat_minor": 5
}
