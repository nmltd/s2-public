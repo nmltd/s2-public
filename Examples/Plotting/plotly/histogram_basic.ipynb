{
 "cells": [
  {
   "cell_type": "code",
   "execution_count": null,
   "metadata": {},
   "outputs": [],
   "source": [
    "%use s2, plotly\n",
    "\n",
    "import space.kscience.dataforge.values.asValue\n",
    "\n",
    "// the number of data to generate\n",
    "val N = 100\n",
    "\n",
    "// create three mutable lists to store generated data\n",
    "val x1 = mutableListOf<Double>()\n",
    "val y1 = mutableListOf<Double>()\n",
    "val z1 = mutableListOf<MutableList<Double>>()\n",
    "\n",
    "// generate the data to plot\n",
    "for (i in 0 until N) {\n",
    "    val elem = -2 * Math.PI + 4 * Math.PI * i / N\n",
    "    x1.add(elem)\n",
    "    y1.add(elem)\n",
    "    z1.add(MutableList(N) { 0.0 })\n",
    "}\n",
    "\n",
    "for (i in x1.indices) {\n",
    "    for (j in y1.indices) {\n",
    "        val r2 = x1[i] * x1[i] + y1[j] * y1[j]\n",
    "        z1[i][j] = sin(x1[i]) * cos(y1[j]) * sin(r2) / ln(r2 + 1)\n",
    "    }\n",
    "}\n",
    "\n",
    "// plot the traces\n",
    "val plot = Plotly.plot {\n",
    "    contour { // set trace\n",
    "        x.set(x1) // set data\n",
    "        y.set(x1) // set data\n",
    "        z.set(z1) // set data\n",
    "        colorscale = \"YlGnBu\".asValue() // set colorscale\n",
    "    }\n",
    "\n",
    "    layout { // set layout properties\n",
    "        title = \"Basic Contour Plot\"\n",
    "    }\n",
    "}\n",
    "\n",
    "// display the plot\n",
    "plot"
   ]
  }
 ],
 "metadata": {
  "kernelspec": {
   "display_name": "Kotlin",
   "language": "kotlin",
   "name": "python392jvsc74a57bd02fa9724a83c1b912eacfa0df2390db8cc86de28df572c050c637f38dfda3ff34"
  },
  "language_info": {
   "name": "kotlin"
  },
  "orig_nbformat": 4
 },
 "nbformat": 4,
 "nbformat_minor": 2
}
