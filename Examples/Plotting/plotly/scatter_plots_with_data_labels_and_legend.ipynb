{
 "cells": [
  {
   "cell_type": "code",
   "execution_count": null,
   "metadata": {},
   "outputs": [],
   "source": [
    "%use s2, plotly\n",
    "\n",
    "// construct the traces of the scatter plot\n",
    "val scatter1 = Scatter {\n",
    "    x(1, 2, 3, 4) // set data\n",
    "    y(10, 15, 13, 17) // set data\n",
    "    mode = ScatterMode.lines // set mode to lines\n",
    "    name = \"Team A\"\n",
    "    text(\"A-1\", \"A-2\", \"A-3\", \"A-4\", \"A-5\") // set data labels\n",
    "    textposition = TextPosition.`top center`\n",
    "    textfont {\n",
    "        family = \"Raleway, sans-serif\"\n",
    "    }\n",
    "    marker { size = 10 }\n",
    "}\n",
    "\n",
    "val scatter2 = Scatter {\n",
    "    x(2, 3, 4, 5) // set data\n",
    "    y(10, 15, 13, 17) // set data\n",
    "    mode = ScatterMode.lines // set mode to lines\n",
    "    name = \"Team B\"\n",
    "    text(\"B-a\", \"B-b\", \"B-c\", \"B-d\", \"B-e\") // set data labels\n",
    "    textposition = TextPosition.`bottom center`\n",
    "    textfont {\n",
    "        family = \"Times New Roman\"\n",
    "    }\n",
    "    marker { size = 10 }\n",
    "}\n",
    "\n",
    "// plot the traces\n",
    "val plot = Plotly.plot {\n",
    "    traces(scatter1, scatter2) // supply traces\n",
    "    \n",
    "    layout { // set layout properties\n",
    "        title = \"Scatter Plots with Data Labels and Legend\"\n",
    "        legend { // set legend properties\n",
    "            y = 0.5\n",
    "            font {\n",
    "                family = \"Arial, sans-serif\"\n",
    "                size = 20\n",
    "                color(\"grey\")\n",
    "            }\n",
    "        }\n",
    "    }\n",
    "}\n",
    "\n",
    "// display the plot\n",
    "plot"
   ]
  }
 ],
 "metadata": {
  "kernelspec": {
   "display_name": "Kotlin",
   "language": "kotlin",
   "name": "python392jvsc74a57bd02fa9724a83c1b912eacfa0df2390db8cc86de28df572c050c637f38dfda3ff34"
  },
  "language_info": {
   "name": "kotlin"
  },
  "orig_nbformat": 4
 },
 "nbformat": 4,
 "nbformat_minor": 2
}
