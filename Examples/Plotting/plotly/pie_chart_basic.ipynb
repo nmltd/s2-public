{
 "cells": [
  {
   "cell_type": "code",
   "execution_count": null,
   "metadata": {},
   "outputs": [],
   "source": [
    "%use s2, plotly\n",
    "\n",
    "import space.kscience.dataforge.values.Value\n",
    "\n",
    "// data to plot\n",
    "val Values = listOf(19, 26, 55)\n",
    "val Labels = listOf(\"Residential\", \"Non-Residential\", \"Utility\")\n",
    "val colors = listOf(\"Red\", \"Blue\", \"Green\")\n",
    "\n",
    "// construct the trace of pie chart\n",
    "val pie = Pie {\n",
    "    values = Values.map { Value.of(it) } // set data\n",
    "    labels = Labels.map { Value.of(it) } // set data\n",
    "    marker { pieColors = colors.map { Value.of(it) } } // set marker properties\n",
    "    opacity = 0.7 // set opacity\n",
    "}\n",
    "\n",
    "// plot the traces\n",
    "val plot = Plotly.plot {\n",
    "    traces(pie) // supply traces\n",
    "    \n",
    "    layout { // set layout properties\n",
    "        title = \"Pie Chart\"\n",
    "        // set size\n",
    "        height = 500 \n",
    "        width = 500 \n",
    "    }\n",
    "}\n",
    "\n",
    "// display the plot\n",
    "plot"
   ]
  }
 ],
 "metadata": {
  "kernelspec": {
   "display_name": "Kotlin",
   "language": "kotlin",
   "name": "python392jvsc74a57bd02fa9724a83c1b912eacfa0df2390db8cc86de28df572c050c637f38dfda3ff34"
  },
  "language_info": {
   "name": "kotlin"
  },
  "orig_nbformat": 4
 },
 "nbformat": 4,
 "nbformat_minor": 2
}
