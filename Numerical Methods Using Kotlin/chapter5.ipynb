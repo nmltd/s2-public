{
 "cells": [
  {
   "cell_type": "markdown",
   "metadata": {},
   "source": [
    "# Chapter 5"
   ]
  },
  {
   "cell_type": "code",
   "execution_count": 1,
   "metadata": {},
   "outputs": [
    {
     "data": {
      "text/html": [
       "   <div id=\"Rj4wG3\"></div>\n",
       "   <script type=\"text/javascript\" data-lets-plot-script=\"library\">\n",
       "       if(!window.letsPlotCallQueue) {\n",
       "           window.letsPlotCallQueue = [];\n",
       "       }; \n",
       "       window.letsPlotCall = function(f) {\n",
       "           window.letsPlotCallQueue.push(f);\n",
       "       };\n",
       "       (function() {\n",
       "           var script = document.createElement(\"script\");\n",
       "           script.type = \"text/javascript\";\n",
       "           script.src = \"https://cdn.jsdelivr.net/gh/JetBrains/lets-plot@v2.2.1/js-package/distr/lets-plot.min.js\";\n",
       "           script.onload = function() {\n",
       "               window.letsPlotCall = function(f) {f();};\n",
       "               window.letsPlotCallQueue.forEach(function(f) {f();});\n",
       "               window.letsPlotCallQueue = [];\n",
       "               \n",
       "               \n",
       "           };\n",
       "           script.onerror = function(event) {\n",
       "               window.letsPlotCall = function(f) {};\n",
       "               window.letsPlotCallQueue = [];\n",
       "               var div = document.createElement(\"div\");\n",
       "               div.style.color = 'darkred';\n",
       "               div.textContent = 'Error loading Lets-Plot JS';\n",
       "               document.getElementById(\"Rj4wG3\").appendChild(div);\n",
       "           };\n",
       "           var e = document.getElementById(\"Rj4wG3\");\n",
       "           e.appendChild(script);\n",
       "       })();\n",
       "   </script>"
      ]
     },
     "metadata": {},
     "output_type": "display_data"
    }
   ],
   "source": [
    "%use s2, lets-plot\n",
    "\n",
    "import dev.nm.analysis.curvefit.interpolation.univariate.CubicSpline"
   ]
  },
  {
   "cell_type": "code",
   "execution_count": 2,
   "metadata": {},
   "outputs": [
    {
     "name": "stdout",
     "output_type": "stream",
     "text": [
      "Chapter 5 demos\n",
      "least square curve fitting\n",
      "f(0)=0.099286\n",
      "f(1)=0.828086\n",
      "f(2)=1.399600\n",
      "f(3)=1.813829\n",
      "f(4)=2.070771\n",
      "f(5)=2.170429\n"
     ]
    }
   ],
   "source": [
    "println(\"Chapter 5 demos\")\n",
    "\n",
    "println(\"Least Square curve fitting\")\n",
    "\n",
    "// the data set\n",
    "val data = SortedOrderedPairs(\n",
    "        doubleArrayOf(0.0, 1.0, 2.0, 3.0, 4.0, 5.0),\n",
    "        doubleArrayOf(0.0, 1.0, 1.414, 1.732, 2.0, 2.236)\n",
    ")\n",
    "\n",
    "val ls: LeastSquares = LeastSquares(2)\n",
    "val f: UnivariateRealFunction = ls.fit(data)\n",
    "println(String.format(\"f(%.0f)=%f\", 0.0, f.evaluate(0.0))) // f(0) = 0.09\n",
    "println(String.format(\"f(%.0f)=%f\", 1.0, f.evaluate(1.0))) // f(1) = 0.82\n",
    "println(String.format(\"f(%.0f)=%f\", 2.0, f.evaluate(2.0))) // f(2) = 1.39\n",
    "println(String.format(\"f(%.0f)=%f\", 3.0, f.evaluate(3.0))) // f(3) = 1.81\n",
    "println(String.format(\"f(%.0f)=%f\", 4.0, f.evaluate(4.0))) // f(4) = 2.07\n",
    "println(String.format(\"f(%.0f)=%f\", 5.0, f.evaluate(5.0))) // f(5) = 2.17"
   ]
  },
  {
   "cell_type": "code",
   "execution_count": 4,
   "metadata": {},
   "outputs": [
    {
     "name": "stdout",
     "output_type": "stream",
     "text": [
      "Linear Interpolation\n",
      "0.880672\n",
      "0.13905342857142847\n"
     ]
    },
    {
     "data": {
      "text/plain": [
       "/home/jovyan/workspace/s2-public/Numerical Methods Using Kotlin/lets-plot-images/Linear_Interpolation.svg"
      ]
     },
     "execution_count": 4,
     "metadata": {},
     "output_type": "execute_result"
    }
   ],
   "source": [
    "println(\"Linear interpolation\")\n",
    "\n",
    "// the data set\n",
    "val data = SortedOrderedPairs(\n",
    "        doubleArrayOf(0.0, 0.7, 1.4, 2.1, 2.8, 3.5, 4.2, 4.9, 5.6, 6.3),\n",
    "        doubleArrayOf(0.0, 0.644218, 0.98545, 0.863209, 0.334988, -0.350783, -0.871576, -0.982453, -0.631267, 0.0168139)\n",
    ")\n",
    "val li: LinearInterpolation = LinearInterpolation()\n",
    "val f: UnivariateRealFunction = li.fit(data)\n",
    "println(f.evaluate(2.0)) // f(2) = 0.880672\n",
    "println(f.evaluate(3.0)) // f(3) = 0.139053\n",
    "\n",
    "val N = 100\n",
    "\n",
    "val gridSize: Double = (6.5 - 0.0) / (N - 1)\n",
    "var x: Double = 0.0\n",
    "\n",
    "val xValues = ArrayList<Double>(N)\n",
    "val yValues = ArrayList<Double>(N)\n",
    "\n",
    "for(i in 0 until N) {\n",
    "    val y = f.evaluate(x)\n",
    "    \n",
    "    xValues.add(i, x)\n",
    "    yValues.add(i, y)\n",
    "    \n",
    "    x += gridSize\n",
    "}\n",
    "\n",
    "\n",
    "\n",
    "val plotData = mapOf<String, Any>(\n",
    "    \"x\" to xValues,\n",
    "    \"y\" to yValues,\n",
    ")\n",
    "\n",
    "val plot = ggplot(plotData) {x = \"x\"; y = \"y\"} + geomLine()\n",
    "plot"
   ]
  },
  {
   "cell_type": "markdown",
   "metadata": {},
   "source": [
    "<img src=\"lets-plot-images/Linear_Interpolation.svg\">"
   ]
  },
  {
   "cell_type": "code",
   "execution_count": 5,
   "metadata": {},
   "outputs": [
    {
     "name": "stdout",
     "output_type": "stream",
     "text": [
      "Cubic_Hermite Interpolation\n",
      "0.9060307725947522\n",
      "0.14572681049562664\n"
     ]
    },
    {
     "data": {
      "text/plain": [
       "/home/jovyan/workspace/s2-public/Numerical Methods Using Kotlin/lets-plot-images/Cubic_Hermite_Interpolation.svg"
      ]
     },
     "execution_count": 5,
     "metadata": {},
     "output_type": "execute_result"
    }
   ],
   "source": [
    "println(\"Cubic Hermite interpolation\")\n",
    "\n",
    "// the data set\n",
    "val data = SortedOrderedPairs(\n",
    "        doubleArrayOf(0.0, 0.7, 1.4, 2.1, 2.8, 3.5, 4.2, 4.9, 5.6, 6.3),\n",
    "        doubleArrayOf(0.0, 0.644218, 0.98545, 0.863209, 0.334988, -0.350783, -0.871576, -0.982453, -0.631267, 0.0168139)\n",
    ")\n",
    "val spline: CubicHermite = CubicHermite(CubicHermite.Tangents.CATMULL_ROM)\n",
    "// CubicHermite spline = CubicHermite(CubicHermite.Tangents.FINITE_DIFFERENCE)\n",
    "val f: UnivariateRealFunction = spline.fit(data)\n",
    "println(f.evaluate(2.0)) // f(2) = 0.906030\n",
    "println(f.evaluate(3.0)) // f(3) = 0.145727\n",
    "\n",
    "val N = 100\n",
    "\n",
    "val gridSize: Double = (2.1 - 0.7) / (N - 1)\n",
    "var x: Double = 0.7\n",
    "\n",
    "val xValues = ArrayList<Double>(N)\n",
    "val yValues = ArrayList<Double>(N)\n",
    "\n",
    "for(i in 0 until N) {\n",
    "    val y = f.evaluate(x)\n",
    "    \n",
    "    xValues.add(i, x)\n",
    "    yValues.add(i, y)\n",
    "    \n",
    "    x += gridSize\n",
    "}\n",
    "\n",
    "\n",
    "\n",
    "val plotData = mapOf<String, Any>(\n",
    "    \"x\" to xValues,\n",
    "    \"y\" to yValues,\n",
    ")\n",
    "\n",
    "val plot = ggplot(plotData) {x = \"x\"; y = \"y\"} + geom_line()\n",
    "plot"
   ]
  },
  {
   "cell_type": "markdown",
   "metadata": {},
   "source": [
    "<img src=\"lets-plot-images/Cubic_Hermite_Interpolation.svg\">"
   ]
  },
  {
   "cell_type": "code",
   "execution_count": 6,
   "metadata": {},
   "outputs": [
    {
     "name": "stdout",
     "output_type": "stream",
     "text": [
      "Cubic spline interpolation - Natural\n",
      "dev.nm.analysis.curvefit.interpolation.univariate.CubicSpline$1@5acf1ef7\n"
     ]
    },
    {
     "data": {
      "text/plain": [
       "/home/jovyan/workspace/s2-public/Numerical Methods Using Kotlin/lets-plot-images/Cubic_Spline_Interpolation_Natural.svg"
      ]
     },
     "execution_count": 6,
     "metadata": {},
     "output_type": "execute_result"
    }
   ],
   "source": [
    "println(\"Cubic spline interpolation - Natural\")\n",
    "\n",
    "// the data set\n",
    "val data = SortedOrderedPairs(\n",
    "        doubleArrayOf(0.0, 1.0, 2.0, 3.0, 4.0, 5.0),\n",
    "        doubleArrayOf(0.0, 3.5, 5.0, 3.0, 1.0, 4.0)\n",
    ")\n",
    "val cs1: CubicSpline = CubicSpline.natural()\n",
    "val f1: UnivariateRealFunction = cs1.fit(data)\n",
    "println(f1)\n",
    "\n",
    "val N = 100\n",
    "\n",
    "val gridSize: Double = (5.0 - 0.0) / (N - 1)\n",
    "var x: Double = 0.0\n",
    "\n",
    "val xValues = ArrayList<Double>(N)\n",
    "val yValues = ArrayList<Double>(N)\n",
    "\n",
    "for(i in 0 until N) {\n",
    "    val y = f1.evaluate(x)\n",
    "    \n",
    "    xValues.add(i, x)\n",
    "    yValues.add(i, y)\n",
    "    \n",
    "    x += gridSize\n",
    "}\n",
    "\n",
    "\n",
    "\n",
    "val plotData = mapOf<String, Any>(\n",
    "    \"x\" to xValues,\n",
    "    \"y\" to yValues,\n",
    ")\n",
    "\n",
    "val plot = ggplot(plotData) {x = \"x\"; y = \"y\"} + geom_line()\n",
    "plot"
   ]
  },
  {
   "cell_type": "markdown",
   "metadata": {},
   "source": [
    "<img src=\"lets-plot-images/Cubic_Spline_Interpolation_Natural.svg\">"
   ]
  },
  {
   "cell_type": "code",
   "execution_count": 7,
   "metadata": {},
   "outputs": [
    {
     "name": "stdout",
     "output_type": "stream",
     "text": [
      "Cubic spline interpolation - Clamped\n",
      "dev.nm.analysis.curvefit.interpolation.univariate.CubicSpline$1@204aa618\n"
     ]
    },
    {
     "data": {
      "text/plain": [
       "/home/jovyan/workspace/s2-public/Numerical Methods Using Kotlin/lets-plot-images/Cubic_Spline_Interpolation_Clamped.svg"
      ]
     },
     "execution_count": 7,
     "metadata": {},
     "output_type": "execute_result"
    }
   ],
   "source": [
    "println(\"Cubic spline interpolation - Clamped\")\n",
    "\n",
    "// the data set\n",
    "val data = SortedOrderedPairs(\n",
    "        doubleArrayOf(0.0, 1.0, 2.0, 3.0, 4.0, 5.0),\n",
    "        doubleArrayOf(0.0, 3.5, 5.0, 3.0, 1.0, 4.0)\n",
    ")\n",
    "val cs2: CubicSpline = CubicSpline.clamped()\n",
    "val f2: UnivariateRealFunction = cs2.fit(data)\n",
    "println(f2)\n",
    "\n",
    "val N = 100\n",
    "\n",
    "val gridSize: Double = (5.0 - 0.0) / (N - 1)\n",
    "var x: Double = 0.0\n",
    "\n",
    "val xValues = ArrayList<Double>(N)\n",
    "val yValues = ArrayList<Double>(N)\n",
    "\n",
    "for(i in 0 until N) {\n",
    "    val y = f2.evaluate(x)\n",
    "    \n",
    "    xValues.add(i, x)\n",
    "    yValues.add(i, y)\n",
    "    \n",
    "    x += gridSize\n",
    "}\n",
    "\n",
    "\n",
    "\n",
    "val plotData = mapOf<String, Any>(\n",
    "    \"x\" to xValues,\n",
    "    \"y\" to yValues,\n",
    ")\n",
    "\n",
    "val plot = ggplot(plotData) {x = \"x\"; y = \"y\"} + geom_line()\n",
    "plot"
   ]
  },
  {
   "cell_type": "markdown",
   "metadata": {},
   "source": [
    "<img src=\"lets-plot-images/Cubic_Spline_Interpolation_Clamped.svg\">"
   ]
  },
  {
   "cell_type": "code",
   "execution_count": 8,
   "metadata": {},
   "outputs": [
    {
     "name": "stdout",
     "output_type": "stream",
     "text": [
      "Cubic spline interpolation - notAKnot\n",
      "dev.nm.analysis.curvefit.interpolation.univariate.CubicSpline$1@1e503335\n"
     ]
    },
    {
     "data": {
      "text/plain": [
       "/home/jovyan/workspace/s2-public/Numerical Methods Using Kotlin/lets-plot-images/Cubic_Spline_Interpolation_NotAKnot.svg"
      ]
     },
     "execution_count": 8,
     "metadata": {},
     "output_type": "execute_result"
    }
   ],
   "source": [
    "println(\"Cubic spline interpolation - notAKnot\")\n",
    "\n",
    "// the data set\n",
    "val data = SortedOrderedPairs(\n",
    "        doubleArrayOf(0.0, 1.0, 2.0, 3.0, 4.0, 5.0),\n",
    "        doubleArrayOf(0.0, 3.5, 5.0, 3.0, 1.0, 4.0)\n",
    ")\n",
    "\n",
    "val cs3: CubicSpline = CubicSpline.notAKnot()\n",
    "val f3: UnivariateRealFunction = cs3.fit(data)\n",
    "println(f3)\n",
    "\n",
    "val N = 100\n",
    "\n",
    "val gridSize: Double = (5.0 - 0.0) / (N - 1)\n",
    "var x: Double = 0.0\n",
    "\n",
    "val xValues = ArrayList<Double>(N)\n",
    "val yValues = ArrayList<Double>(N)\n",
    "\n",
    "for(i in 0 until N) {\n",
    "    val y = f3.evaluate(x)\n",
    "    \n",
    "    xValues.add(i, x)\n",
    "    yValues.add(i, y)\n",
    "    \n",
    "    x += gridSize\n",
    "}\n",
    "\n",
    "\n",
    "\n",
    "val plotData = mapOf<String, Any>(\n",
    "    \"x\" to xValues,\n",
    "    \"y\" to yValues,\n",
    ")\n",
    "\n",
    "val plot = ggplot(plotData) {x = \"x\"; y = \"y\"} + geom_line()\n",
    "plot"
   ]
  },
  {
   "cell_type": "markdown",
   "metadata": {},
   "source": [
    "<img src=\"lets-plot-images/Cubic_Spline_Interpolation_NotAKnot.svg\">"
   ]
  },
  {
   "cell_type": "code",
   "execution_count": 12,
   "metadata": {},
   "outputs": [
    {
     "name": "stdout",
     "output_type": "stream",
     "text": [
      "Newton polynomial interpolation\n",
      "dev.nm.analysis.curvefit.interpolation.univariate.NewtonPolynomial$1@42ab75af\n"
     ]
    },
    {
     "data": {
      "text/plain": [
       "/home/jovyan/workspace/s2-public/Numerical Methods Using Kotlin/lets-plot-images/Newton_Polynomial_Interpolation_1.svg"
      ]
     },
     "execution_count": 12,
     "metadata": {},
     "output_type": "execute_result"
    }
   ],
   "source": [
    "println(\"Newton polynomial interpolation\")\n",
    "\n",
    "// 2 data points, linear form\n",
    "val data1 = SortedOrderedPairs(\n",
    "        doubleArrayOf(1.0, 3.0),\n",
    "        doubleArrayOf(log10(1.0), log10(3.0))\n",
    ")\n",
    "val np1: Interpolation = NewtonPolynomial()\n",
    "val f1: UnivariateRealFunction = np1.fit(data1)\n",
    "println(f1)\n",
    "\n",
    "val N = 100\n",
    "\n",
    "val gridSize: Double = (3.0 - 1.0) / (N - 1)\n",
    "var x: Double = 1.0\n",
    "\n",
    "val xValues = ArrayList<Double>(N)\n",
    "val yValues = ArrayList<Double>(N)\n",
    "\n",
    "for(i in 0 until N) {\n",
    "    val y = f1.evaluate(x)\n",
    "    \n",
    "    xValues.add(i, x)\n",
    "    yValues.add(i, y)\n",
    "    \n",
    "    x += gridSize\n",
    "}\n",
    "\n",
    "\n",
    "\n",
    "val plotData = mapOf<String, Any>(\n",
    "    \"x\" to xValues,\n",
    "    \"y\" to yValues,\n",
    ")\n",
    "\n",
    "val plot = ggplot(plotData) {x = \"x\"; y = \"y\"} + geom_line()\n",
    "plot"
   ]
  },
  {
   "cell_type": "markdown",
   "metadata": {},
   "source": [
    "<img src=\"lets-plot-images/Newton_Polynomial_Interpolation_1.svg\">"
   ]
  },
  {
   "cell_type": "code",
   "execution_count": 13,
   "metadata": {},
   "outputs": [
    {
     "name": "stdout",
     "output_type": "stream",
     "text": [
      "dev.nm.analysis.curvefit.interpolation.univariate.NewtonPolynomial$1@4208aec1\n"
     ]
    },
    {
     "data": {
      "text/plain": [
       "/home/jovyan/workspace/s2-public/Numerical Methods Using Kotlin/lets-plot-images/Newton_Polynomial_Interpolation_2.svg"
      ]
     },
     "execution_count": 13,
     "metadata": {},
     "output_type": "execute_result"
    }
   ],
   "source": [
    "// 3 data points, quadratic form\n",
    "val data2 = SortedOrderedPairs(\n",
    "        doubleArrayOf(1.0, 2.0, 3.0),\n",
    "        doubleArrayOf(log10(1.0), log10(2.0), log10(3.0))\n",
    ")\n",
    "val np2: Interpolation = NewtonPolynomial()\n",
    "val f2: UnivariateRealFunction = np2.fit(data2)\n",
    "println(f2)\n",
    "\n",
    "val N = 100\n",
    "\n",
    "val gridSize: Double = (3.0 - 1.0) / (N - 1)\n",
    "var x: Double = 1.0\n",
    "\n",
    "val xValues = ArrayList<Double>(N)\n",
    "val yValues = ArrayList<Double>(N)\n",
    "\n",
    "for(i in 0 until N) {\n",
    "    val y = f2.evaluate(x)\n",
    "    \n",
    "    xValues.add(i, x)\n",
    "    yValues.add(i, y)\n",
    "    \n",
    "    x += gridSize\n",
    "}\n",
    "\n",
    "\n",
    "\n",
    "val plotData = mapOf<String, Any>(\n",
    "    \"x\" to xValues,\n",
    "    \"y\" to yValues,\n",
    ")\n",
    "\n",
    "val plot = ggplot(plotData) {x = \"x\"; y = \"y\"} + geom_line()\n",
    "plot"
   ]
  },
  {
   "cell_type": "markdown",
   "metadata": {},
   "source": [
    "<img src=\"lets-plot-images/Newton_Polynomial_Interpolation_2.svg\">"
   ]
  },
  {
   "cell_type": "code",
   "execution_count": 14,
   "metadata": {},
   "outputs": [
    {
     "name": "stdout",
     "output_type": "stream",
     "text": [
      "dev.nm.analysis.curvefit.interpolation.univariate.NewtonPolynomial$1@118f918f\n"
     ]
    },
    {
     "data": {
      "text/plain": [
       "/home/jovyan/workspace/s2-public/Numerical Methods Using Kotlin/lets-plot-images/Newton_Polynomial_Interpolation_3.svg"
      ]
     },
     "execution_count": 14,
     "metadata": {},
     "output_type": "execute_result"
    }
   ],
   "source": [
    "// comparison between Newton polynomial and cubic spline\n",
    "val data3 = SortedOrderedPairs(\n",
    "        doubleArrayOf(1.0, 2.0, 3.0, 4.0, 5.0, 6.0, 7.0),\n",
    "        doubleArrayOf(3.0, 4.0, 2.0, 5.0, 4.0, 3.0, 6.0)\n",
    ")\n",
    "val np3: Interpolation = NewtonPolynomial()\n",
    "val f3_1: UnivariateRealFunction = np3.fit(data3)\n",
    "println(f3_1)\n",
    "\n",
    "val N = 500\n",
    "\n",
    "val gridSize: Double = (7.0 - 1.0) / (N - 1)\n",
    "var x: Double = 1.0\n",
    "\n",
    "val xValues = ArrayList<Double>(N)\n",
    "val yValues = ArrayList<Double>(N)\n",
    "\n",
    "for(i in 0 until N) {\n",
    "    val y = f3_1.evaluate(x)\n",
    "    \n",
    "    xValues.add(i, x)\n",
    "    yValues.add(i, y)\n",
    "    \n",
    "    x += gridSize\n",
    "}\n",
    "\n",
    "\n",
    "\n",
    "val plotData = mapOf<String, Any>(\n",
    "    \"x\" to xValues,\n",
    "    \"y\" to yValues,\n",
    ")\n",
    "\n",
    "val plot = ggplot(plotData) {x = \"x\"; y = \"y\"} + geom_line()\n",
    "plot"
   ]
  },
  {
   "cell_type": "markdown",
   "metadata": {},
   "source": [
    "<img src=\"lets-plot-images/Newton_Polynomial_Interpolation_3.svg\">"
   ]
  },
  {
   "cell_type": "code",
   "execution_count": 15,
   "metadata": {},
   "outputs": [
    {
     "name": "stdout",
     "output_type": "stream",
     "text": [
      "dev.nm.analysis.curvefit.interpolation.univariate.CubicSpline$1@296d59ae\n"
     ]
    },
    {
     "data": {
      "text/plain": [
       "/home/jovyan/workspace/s2-public/Numerical Methods Using Kotlin/lets-plot-images/Cubic_Spline_Interpolation.svg"
      ]
     },
     "execution_count": 15,
     "metadata": {},
     "output_type": "execute_result"
    }
   ],
   "source": [
    "val data3 = SortedOrderedPairs(\n",
    "        doubleArrayOf(1.0, 2.0, 3.0, 4.0, 5.0, 6.0, 7.0),\n",
    "        doubleArrayOf(3.0, 4.0, 2.0, 5.0, 4.0, 3.0, 6.0)\n",
    ")\n",
    "val cs: Interpolation = CubicSpline.natural()\n",
    "val f3_2: UnivariateRealFunction = cs.fit(data3)\n",
    "println(f3_2)\n",
    "\n",
    "val N = 500\n",
    "\n",
    "val gridSize: Double = (7.0 - 1.0) / (N - 1)\n",
    "var x: Double = 1.0\n",
    "\n",
    "val xValues = ArrayList<Double>(N)\n",
    "val yValues = ArrayList<Double>(N)\n",
    "\n",
    "for(i in 0 until N) {\n",
    "    val y = f3_2.evaluate(x)\n",
    "    \n",
    "    xValues.add(i, x)\n",
    "    yValues.add(i, y)\n",
    "    \n",
    "    x += gridSize\n",
    "}\n",
    "\n",
    "\n",
    "\n",
    "val plotData = mapOf<String, Any>(\n",
    "    \"x\" to xValues,\n",
    "    \"y\" to yValues,\n",
    ")\n",
    "\n",
    "val plot = ggplot(plotData) {x = \"x\"; y = \"y\"} + geom_line()\n",
    "plot"
   ]
  },
  {
   "cell_type": "markdown",
   "metadata": {},
   "source": [
    "<img src=\"lets-plot-images/Cubic_Spline_Interpolation.svg\">"
   ]
  },
  {
   "cell_type": "code",
   "execution_count": 16,
   "metadata": {},
   "outputs": [
    {
     "name": "stdout",
     "output_type": "stream",
     "text": [
      "Bivariate interpolation\n",
      "2.0\n",
      "1.8828125\n",
      "1.90625\n"
     ]
    },
    {
     "data": {
      "text/plain": [
       "/home/jovyan/workspace/s2-public/Numerical Methods Using Kotlin/lets-plot-images/Bivariate_Interpolation.svg"
      ]
     },
     "execution_count": 16,
     "metadata": {},
     "output_type": "execute_result"
    }
   ],
   "source": [
    "println(\"Bivariate interpolation\")\n",
    "\n",
    "val grids: BivariateGrid = BivariateArrayGrid(\n",
    "        arrayOf(\n",
    "            doubleArrayOf(1.0, 1.0, 1.0), // z(1, 1) = 1, z(1, 2) = 1, z(1, 3) = 1\n",
    "            doubleArrayOf(2.0, 4.0, 8.0), // z(2, 1) = 2, z(2, 2) = 4, z(2, 3) = 8\n",
    "            doubleArrayOf(3.0, 9.0, 27.0) // z(3, 1) = 3, z(3, 2) = 9, z(3, 3) = 27\n",
    "        ),\n",
    "        doubleArrayOf(1.0, 2.0, 3.0), // x\n",
    "        doubleArrayOf(1.0, 2.0, 3.0) // y\n",
    ")\n",
    "\n",
    "val bl: BivariateGridInterpolation = BilinearInterpolation()\n",
    "val f1: RealScalarFunction = bl.interpolate(grids) // f3(1.5, 1.5) = 2.0\n",
    "println(f1.evaluate(DenseVector(arrayOf(1.5, 1.5))))\n",
    "\n",
    "val bs: BivariateGridInterpolation = BicubicSpline()\n",
    "val f2: RealScalarFunction = bs.interpolate(grids) // f2(1.5, 1.5) = 1.8828125\n",
    "println(f2.evaluate(DenseVector(arrayOf(1.5, 1.5))))\n",
    "\n",
    "val bi: BivariateGridInterpolation = BicubicInterpolation()\n",
    "val f3: RealScalarFunction = bi.interpolate(grids) // f1(1.5, 1.5) = 1.90625\n",
    "println(f3.evaluate(DenseVector(arrayOf(1.5, 1.5))))\n",
    "\n",
    "val N = 30\n",
    "\n",
    "val gridSizeX: Double = (3.0 - 1.0) / (N - 1)\n",
    "val gridSizeY: Double = (3.0 - 1.0) / (N - 1)\n",
    "var x: Double = 1.0\n",
    "\n",
    "val xValues = ArrayList<Double>(N)\n",
    "val yValues = ArrayList<Double>(N)\n",
    "\n",
    "for(i in 0 until N) {\n",
    "    var y: Double = 1.0\n",
    "    \n",
    "    for(j in 0 until N) {\n",
    "        f3.evaluate(DenseVector(x, y))\n",
    "        \n",
    "        xValues.add(i, x)\n",
    "        yValues.add(i, y)\n",
    "        y += gridSizeY\n",
    "    }\n",
    "\n",
    "    x += gridSizeX\n",
    "}\n",
    "\n",
    "val plotData = mapOf<String, Any>(\n",
    "    \"x\" to xValues,\n",
    "    \"y\" to yValues,\n",
    ")\n",
    "\n",
    "val plot = ggplot(plotData) {x = \"x\"; y = \"y\"} + geom_line()\n",
    "plot"
   ]
  },
  {
   "cell_type": "markdown",
   "metadata": {},
   "source": [
    "<img src=\"lets-plot-images/Bivariate_Interpolation.svg\">"
   ]
  },
  {
   "cell_type": "code",
   "execution_count": 17,
   "metadata": {},
   "outputs": [
    {
     "name": "stdout",
     "output_type": "stream",
     "text": [
      "4.5\n"
     ]
    }
   ],
   "source": [
    "// the data set\n",
    "val mda: MultiDimensionalArray<Double>\n",
    "        = MultiDimensionalArray<Double>(2, 2, 2)\n",
    "mda.set(1.0, 0, 0, 0) // mda[0][0][0] = 1\n",
    "mda.set(2.0, 1, 0, 0)\n",
    "mda.set(3.0, 0, 1, 0)\n",
    "mda.set(4.0, 0, 0, 1)\n",
    "mda.set(5.0, 1, 1, 0)\n",
    "mda.set(6.0, 1, 0, 1)\n",
    "mda.set(7.0, 0, 1, 1)\n",
    "mda.set(8.0, 1, 1, 1)\n",
    "\n",
    "val mvGrid: MultivariateArrayGrid = MultivariateArrayGrid(\n",
    "        mda,\n",
    "        doubleArrayOf(1.0, 2.0),\n",
    "        doubleArrayOf(1.0, 2.0),\n",
    "        doubleArrayOf(1.0, 2.0)\n",
    ")\n",
    "val rgi: RecursiveGridInterpolation\n",
    "        = RecursiveGridInterpolation(LinearInterpolation())\n",
    "val f: RealScalarFunction = rgi.interpolate(mvGrid)\n",
    "println(f.evaluate(DenseVector(arrayOf(1.5, 1.5, 1.5)))) // f(1.5, 1.5, 1.5) = 4.5"
   ]
  },
  {
   "cell_type": "code",
   "execution_count": 18,
   "metadata": {},
   "outputs": [
    {
     "name": "stdout",
     "output_type": "stream",
     "text": [
      "Bivariate interpolation using derivatives\n",
      "1.0\n",
      "2.0\n",
      "3.0\n",
      "4.0\n",
      "5.0\n"
     ]
    }
   ],
   "source": [
    "println(\"Bivariate interpolation using derivatives\")\n",
    "\n",
    "// derivatives and answers from Michael Flanagan's library\n",
    "val z = arrayOf(\n",
    "    doubleArrayOf(1.0, 3.0, 5.0),\n",
    "    doubleArrayOf(2.0, 4.0, 8.0),\n",
    "    doubleArrayOf(9.0, 10.0, 11.0),\n",
    ")\n",
    "\n",
    "val dx = arrayOf(\n",
    "    doubleArrayOf(6.0, 2.0, 2.0),\n",
    "    doubleArrayOf(6.0, 7.0, 8.0),\n",
    "    doubleArrayOf(6.0, 12.0, 14.0),\n",
    ")\n",
    "\n",
    "val dy = arrayOf(\n",
    "    doubleArrayOf(8.0, 8.0, 8.0),\n",
    "    doubleArrayOf(16.0, 12.0, 8.0),\n",
    "    doubleArrayOf(4.0, 4.0, 4.0),\n",
    ")\n",
    "\n",
    "val dxdy = arrayOf(\n",
    "    doubleArrayOf(16.0, 8.0, 0.0),\n",
    "    doubleArrayOf(-4.0, -4.0, -4.0),\n",
    "    doubleArrayOf(-24.0, -16.0, -8.0),\n",
    ")\n",
    "\n",
    "val deriv: BicubicInterpolation.PartialDerivatives = object : BicubicInterpolation.PartialDerivatives {\n",
    "            override fun dx(grid: BivariateGrid, i: Int, j: Int): Double {\n",
    "                return getDeriv(dx, i, j) // for some reason the y-axis is written in reverse...\n",
    "            }\n",
    "\n",
    "            override fun dy(grid: BivariateGrid, i: Int, j: Int): Double {\n",
    "                return getDeriv(dy, i, j)\n",
    "            }\n",
    "\n",
    "            override fun dxdy(grid: BivariateGrid, i: Int, j: Int): Double {\n",
    "                return getDeriv(dxdy, i, j)\n",
    "            }\n",
    "\n",
    "            private fun getDeriv(dx: Array<DoubleArray>, i: Int, j: Int): Double {\n",
    "                return dx[i][2 - j]\n",
    "            }\n",
    "}\n",
    "\n",
    "val interpolation: BivariateGridInterpolation = BicubicInterpolation(deriv)\n",
    "val grid: BivariateGrid = BivariateRegularGrid(z, 0.0, 0.0, 0.5, 0.25)\n",
    "val f: RealScalarFunction = interpolation.interpolate(grid)\n",
    "\n",
    "println(f.evaluate(DenseVector(0.0, 0.0))) // 1.0\n",
    "println(f.evaluate(DenseVector(0.0, 0.125))) // 2.0\n",
    "println(f.evaluate(DenseVector(0.0, 0.25))) // 3.0\n",
    "println(f.evaluate(DenseVector(0.0, 0.375))) // 4.0\n",
    "println(f.evaluate(DenseVector(0.0, 0.5))) // 5.0"
   ]
  },
  {
   "cell_type": "code",
   "execution_count": 19,
   "metadata": {},
   "outputs": [
    {
     "name": "stdout",
     "output_type": "stream",
     "text": [
      "1.125\n",
      "2.078125\n",
      "3.1875\n",
      "4.765625\n",
      "6.5\n"
     ]
    }
   ],
   "source": [
    "println(f.evaluate(DenseVector(0.25, 0.0))) // 1.125\n",
    "println(f.evaluate(DenseVector(0.25, 0.125))) // 2.078125\n",
    "println(f.evaluate(DenseVector(0.25, 0.25))) // 3.1875\n",
    "println(f.evaluate(DenseVector(0.25, 0.375))) // 4.765625\n",
    "println(f.evaluate(DenseVector(0.25, 0.5))) // 6.5"
   ]
  },
  {
   "cell_type": "code",
   "execution_count": 20,
   "metadata": {},
   "outputs": [
    {
     "name": "stdout",
     "output_type": "stream",
     "text": [
      "2.0\n",
      "2.875\n",
      "4.0\n",
      "5.875\n",
      "8.0\n"
     ]
    }
   ],
   "source": [
    "println(f.evaluate(DenseVector(0.5, 0.0))) // 2.0\n",
    "println(f.evaluate(DenseVector(0.5, 0.125))) // 2.875\n",
    "println(f.evaluate(DenseVector(0.5, 0.25))) // 4.0\n",
    "println(f.evaluate(DenseVector(0.5, 0.375))) // 5.875\n",
    "println(f.evaluate(DenseVector(0.5, 0.5))) // 8.0"
   ]
  },
  {
   "cell_type": "code",
   "execution_count": 21,
   "metadata": {},
   "outputs": [
    {
     "name": "stdout",
     "output_type": "stream",
     "text": [
      "5.125\n",
      "5.828125\n",
      "6.6875\n",
      "8.015625\n",
      "9.5\n"
     ]
    }
   ],
   "source": [
    "println(f.evaluate(DenseVector(0.75, 0.0))) // 5.125\n",
    "println(f.evaluate(DenseVector(0.75, 0.125))) // 5.828125\n",
    "println(f.evaluate(DenseVector(0.75, 0.25))) // 6.6875\n",
    "println(f.evaluate(DenseVector(0.75, 0.375))) // 8.015625\n",
    "println(f.evaluate(DenseVector(0.75, 0.5))) // 9.5"
   ]
  },
  {
   "cell_type": "code",
   "execution_count": 22,
   "metadata": {},
   "outputs": [
    {
     "name": "stdout",
     "output_type": "stream",
     "text": [
      "9.0\n",
      "9.5\n",
      "10.0\n",
      "10.5\n",
      "11.0\n"
     ]
    }
   ],
   "source": [
    "println(f.evaluate(DenseVector(1.0, 0.0))) // 9.0\n",
    "println(f.evaluate(DenseVector(1.0, 0.125))) // 9.5\n",
    "println(f.evaluate(DenseVector(1.0, 0.25))) // 10.0\n",
    "println(f.evaluate(DenseVector(1.0, 0.375))) // 10.5\n",
    "println(f.evaluate(DenseVector(1.0, 0.5))) // 11.0"
   ]
  },
  {
   "cell_type": "code",
   "execution_count": null,
   "metadata": {},
   "outputs": [],
   "source": []
  }
 ],
 "metadata": {
  "kernelspec": {
   "display_name": "Kotlin",
   "language": "kotlin",
   "name": "kotlin"
  },
  "language_info": {
   "codemirror_mode": "text/x-kotlin",
   "file_extension": ".kt",
   "mimetype": "text/x-kotlin",
   "name": "kotlin",
   "nbconvert_exporter": "",
   "pygments_lexer": "kotlin",
   "version": "1.6.20-dev-6372"
  }
 },
 "nbformat": 4,
 "nbformat_minor": 4
}
