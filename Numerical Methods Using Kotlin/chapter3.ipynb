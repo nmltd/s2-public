{
 "cells": [
  {
   "cell_type": "markdown",
   "metadata": {},
   "source": [
    "# Chapter 3"
   ]
  },
  {
   "cell_type": "code",
   "execution_count": 1,
   "metadata": {},
   "outputs": [
    {
     "name": "stdout",
     "output_type": "stream",
     "text": [
      "Chapter 3 demos\n"
     ]
    }
   ],
   "source": [
    "%use s2\n",
    "\n",
    "import java.util.Arrays\n",
    "import kotlin.collections.List\n",
    "\n",
    "println(\"Chapter 3 demos\")"
   ]
  },
  {
   "cell_type": "code",
   "execution_count": 2,
   "metadata": {},
   "outputs": [
    {
     "name": "stdout",
     "output_type": "stream",
     "text": [
      "Defining functions\n",
      "p(1) = 0.0\n",
      "f(1) = -2.1585290151921033\n"
     ]
    }
   ],
   "source": [
    "println(\"Defining functions\")\n",
    "\n",
    "val p: Polynomial = Polynomial(1.0, -10.0, 35.0, -50.0, 24.0)\n",
    "println(\"p(1) = \" + p.evaluate(1.0))\n",
    "\n",
    "val f: UnivariateRealFunction = object : AbstractUnivariateRealFunction() {\n",
    "    override fun evaluate(x: Double): Double {\n",
    "        return Math.sin(x) * x - 3\n",
    "    }\n",
    "}\n",
    "println(\"f(1) = \" + f.evaluate(1.0))"
   ]
  },
  {
   "cell_type": "code",
   "execution_count": 3,
   "metadata": {},
   "outputs": [
    {
     "name": "stdout",
     "output_type": "stream",
     "text": [
      "Solve root for polynomial\n",
      "[3.000000-0.000000i, 4.000000+0.000000i, 1.000000-0.000000i, 2.000000+0.000000i]\n"
     ]
    }
   ],
   "source": [
    "println(\"Solve root for polynomial\")\n",
    "\n",
    "val p: Polynomial = Polynomial(1.0, -10.0, 35.0, -50.0, 24.0)\n",
    "val solver = PolyRoot()\n",
    "val roots: List<Number?> = solver.solve(p)\n",
    "println(Arrays.toString(roots.toTypedArray()))"
   ]
  },
  {
   "cell_type": "code",
   "execution_count": 4,
   "metadata": {},
   "outputs": [
    {
     "name": "stdout",
     "output_type": "stream",
     "text": [
      "Solve root for polynomial with complex root\n",
      "[0.000000+1.000000i, 0.000000-1.000000i]\n",
      "[0.000000+1.000000i, 0.000000-1.000000i]\n"
     ]
    }
   ],
   "source": [
    "println(\"Solve root for polynomial with complex root\")\n",
    "\n",
    "val p: Polynomial = Polynomial(1.0, 0.0, 1.0) // x^2 + 1 = 0\n",
    "val solver = PolyRoot()\n",
    "        \n",
    "val roots0: List<Number?> = solver.solve(p)\n",
    "println(Arrays.toString(roots0.toTypedArray()))\n",
    "        \n",
    "val roots1: List<Complex> = PolyRoot.getComplexRoots(roots0)\n",
    "println(Arrays.toString(roots1.toTypedArray()))"
   ]
  },
  {
   "cell_type": "code",
   "execution_count": 5,
   "metadata": {},
   "outputs": [
    {
     "name": "stdout",
     "output_type": "stream",
     "text": [
      "Solve root using bisection method\n",
      "f(12.802892) = -0.000000\n"
     ]
    }
   ],
   "source": [
    "println(\"Solve root using bisection method\")\n",
    "\n",
    "val f: UnivariateRealFunction = object: AbstractUnivariateRealFunction() {\n",
    "    override fun evaluate(x: Double): Double {\n",
    "        return x * Math.sin(x) - 3 // x * six(x) - 3 = 0\n",
    "    }\n",
    "}\n",
    "\n",
    "val solver = BisectionRoot(1e-8, 30)\n",
    "val root: Double = solver.solve(f, 12.0, 14.0)\n",
    "val fx: Double = f.evaluate(root)\n",
    "        \n",
    "println(String.format(\"f(%f) = %f\", root, fx))"
   ]
  },
  {
   "cell_type": "code",
   "execution_count": 6,
   "metadata": {},
   "outputs": [
    {
     "name": "stdout",
     "output_type": "stream",
     "text": [
      "Solve root using Brent's method\n",
      "f(1.732051) = 0.000000\n"
     ]
    }
   ],
   "source": [
    "println(\"Solve root using Brent's method\")\n",
    "\n",
    "val f: UnivariateRealFunction = object : AbstractUnivariateRealFunction() {\n",
    "    override fun evaluate(x: Double): Double {\n",
    "        return x * x - 3 // x^2 - 3 = 0\n",
    "    }\n",
    "}\n",
    "\n",
    "val solver = BrentRoot(1e-8, 10)\n",
    "val root: Double = solver.solve(f, 0.0, 4.0)\n",
    "val fx: Double = f.evaluate(root)\n",
    "        \n",
    "println(String.format(\"f(%f) = %f\", root, fx))"
   ]
  },
  {
   "cell_type": "code",
   "execution_count": 7,
   "metadata": {},
   "outputs": [
    {
     "name": "stdout",
     "output_type": "stream",
     "text": [
      "Solve root using Newton's method using the first order derivative\n",
      "f(1.000000) = 0.000000\n"
     ]
    }
   ],
   "source": [
    "println(\"Solve root using Newton's method using the first order derivative\")\n",
    "\n",
    "val f: UnivariateRealFunction = object : AbstractUnivariateRealFunction() {\n",
    "    override fun evaluate(x: Double): Double {\n",
    "        return x * x + 4 * x - 5 // x^2 +4x - 5 = 0\n",
    "    }\n",
    "}\n",
    "\n",
    "val df: UnivariateRealFunction = object : AbstractUnivariateRealFunction() {\n",
    "    override fun evaluate(x: Double): Double {\n",
    "        return 2 * x + 4 // 2x + 4\n",
    "    }\n",
    "}\n",
    "\n",
    "val solver = NewtonRoot(1e-8, 5)\n",
    "val root: Double = solver.solve(f, df, 5.0)\n",
    "val fx: Double = f.evaluate(root)\n",
    "println(String.format(\"f(%f) = %f\", root, fx))"
   ]
  },
  {
   "cell_type": "code",
   "execution_count": 8,
   "metadata": {},
   "outputs": [
    {
     "name": "stdout",
     "output_type": "stream",
     "text": [
      "Solve root using Hally's method using the first and second order derivaties\n",
      "f(1.000000) = 0.000000\n"
     ]
    }
   ],
   "source": [
    "println(\"Solve root using Hally's method using the first and second order derivaties\")\n",
    "\n",
    "val f: UnivariateRealFunction = object : AbstractUnivariateRealFunction() {\n",
    "    override fun evaluate(x: Double): Double {\n",
    "        return x * x + 4 * x - 5 // x^2 +4x - 5 = 0\n",
    "    }\n",
    "}\n",
    "\n",
    "val df: UnivariateRealFunction = object : AbstractUnivariateRealFunction() {\n",
    "    override fun evaluate(x: Double): Double {\n",
    "        return 2 * x + 4 // 2x + 4\n",
    "    }\n",
    "}\n",
    "\n",
    "val d2f: UnivariateRealFunction = object : AbstractUnivariateRealFunction() {\n",
    "    override fun evaluate(x: Double): Double {\n",
    "        return 2.0 // 2\n",
    "    }\n",
    "}\n",
    "\n",
    "val solver = HalleyRoot(1e-8, 3)\n",
    "val root: Double = solver.solve(f, df, d2f, 5.0)\n",
    "val fx: Double = f.evaluate(root)\n",
    "\n",
    "println(String.format(\"f(%f) = %f\", root, fx))"
   ]
  },
  {
   "cell_type": "code",
   "execution_count": null,
   "metadata": {},
   "outputs": [],
   "source": []
  }
 ],
 "metadata": {
  "kernelspec": {
   "display_name": "Kotlin",
   "language": "kotlin",
   "name": "kotlin"
  },
  "language_info": {
   "codemirror_mode": "text/x-kotlin",
   "file_extension": ".kt",
   "mimetype": "text/x-kotlin",
   "name": "kotlin",
   "nbconvert_exporter": "",
   "pygments_lexer": "kotlin",
   "version": "1.6.20-dev-6372"
  }
 },
 "nbformat": 4,
 "nbformat_minor": 4
}
