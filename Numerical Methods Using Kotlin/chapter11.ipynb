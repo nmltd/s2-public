{
 "cells": [
  {
   "cell_type": "markdown",
   "metadata": {},
   "source": [
    "# Chapter 11"
   ]
  },
  {
   "cell_type": "code",
   "execution_count": 1,
   "metadata": {},
   "outputs": [
    {
     "name": "stdout",
     "output_type": "stream",
     "text": [
      "Chapter 11 demos\n"
     ]
    }
   ],
   "source": [
    "%use s2\n",
    "\n",
    "println(\"Chapter 11 demos\")"
   ]
  },
  {
   "cell_type": "code",
   "execution_count": 2,
   "metadata": {},
   "outputs": [
    {
     "name": "stdout",
     "output_type": "stream",
     "text": [
      "Penalty method\n",
      "f([1.000000, 0.000000] ) = 5.000000\n",
      "f([1.000000, 0.000000] ) = 5.000000\n"
     ]
    }
   ],
   "source": [
    "println(\"Penalty method\")\n",
    "\n",
    "val f: RealScalarFunction = object : AbstractBivariateRealFunction() {\n",
    "    override fun evaluate(x: Double, y: Double): Double {\n",
    "        // f = (x+1)^2 + (y+1)^2\n",
    "        return (x + 1) * (x + 1) + (y + 1) * (y + 1)\n",
    "    }\n",
    "}\n",
    "\n",
    "val c1: RealScalarFunction = object : AbstractBivariateRealFunction() {\n",
    "    override fun evaluate(x: Double, y: Double): Double {\n",
    "        // y = 0\n",
    "        return y\n",
    "    }\n",
    "}\n",
    "\n",
    "val c2: RealScalarFunction = object : AbstractBivariateRealFunction() {\n",
    "    override fun evaluate(x: Double, y: Double): Double {\n",
    "        // x >= 1\n",
    "        return 1 - x\n",
    "    }\n",
    "}\n",
    "\n",
    "val problem: ConstrainedOptimProblemImpl1\n",
    "        = ConstrainedOptimProblemImpl1(\n",
    "                f,\n",
    "                GeneralEqualityConstraints(c1), // y = 0\n",
    "                GeneralLessThanConstraints(c2)) // x >= 1\n",
    "\n",
    "val M: Double = 1e30 // the penalty factor\n",
    "val optim: PenaltyMethodMinimizer\n",
    "        = PenaltyMethodMinimizer(\n",
    "                PenaltyMethodMinimizer.DEFAULT_PENALTY_FUNCTION_FACTORY,\n",
    "                M,\n",
    "                // the solver to solve the equivalent unconstrained optimization problem\n",
    "                BFGSMinimizer(false, 1e-8, 200)\n",
    "        )\n",
    "val soln: IterativeSolution<Vector> = optim.solve(problem)\n",
    "\n",
    "val xmin: Vector = soln.search( // the minimizer\n",
    "        DenseVector(arrayOf(0.0, 0.0)) // an initial guess\n",
    ")\n",
    "val fxmin: Double = f.evaluate(xmin) // the mimimum\n",
    "println(String.format(\"f(%s) = %f\", xmin, fxmin))\n",
    "\n",
    "// alternatively\n",
    "println(String.format(\"f(%s) = %f\", soln.minimizer(), soln.minimum()))"
   ]
  },
  {
   "cell_type": "code",
   "execution_count": 3,
   "metadata": {},
   "outputs": [
    {
     "name": "stdout",
     "output_type": "stream",
     "text": [
      "Genetic algorithm\n",
      "f([0.000000, 0.000000] ) = 0.000000\n"
     ]
    }
   ],
   "source": [
    "println(\"Genetic algorithm\")\n",
    "\n",
    "// the objective function to minimize\n",
    "val f: RealScalarFunction = object : AbstractBivariateRealFunction() {\n",
    "    override fun evaluate(x: Double, y: Double): Double {\n",
    "        return x * x + y * y // x^2 + y^2\n",
    "    }\n",
    "}\n",
    "\n",
    "// a uniform random number generator\n",
    "val rng: RandomLongGenerator = UniformRNG()\n",
    "rng.seed(123456798L)\n",
    "\n",
    "// construct an instance of the genetic algorithm solver\n",
    "val solver = SimpleGridMinimizer(\n",
    "                // define the encodinng, crossover and mutation operator\n",
    "                object : SimpleGridMinimizer.NewCellFactoryCtor {\n",
    "                    override fun newCellFactory() : SimpleCellFactory {\n",
    "                        return SimpleCellFactory(0.1, rng)\n",
    "                    }\n",
    "                },\n",
    "                rng, // source of randomness for the GA\n",
    "                1e-15, // a precision parameter\n",
    "                500, // the maximum number of iterations\n",
    "                500 // the maximum number of iterations of no improvement\n",
    "        )\n",
    "\n",
    "// run the solver to solve the optimization problem\n",
    "val soln: IterativeSolution<Vector>\n",
    "        = solver.solve(C2OptimProblemImpl(f))\n",
    "val xmin: Vector = soln.search(\n",
    "        // the boundaries: [-10, 10], [-10, 10]\n",
    "    DenseVector(-10.0, 10.0),\n",
    "    DenseVector(10.0, -10.0),\n",
    "    DenseVector(10.0, 10.0),\n",
    "    DenseVector(-10.0, -10.0)\n",
    ")\n",
    "\n",
    "val fxmin: Double = f.evaluate(xmin) // the mimimum\n",
    "println(String.format(\"f(%s) = %f\", xmin, fxmin))"
   ]
  },
  {
   "cell_type": "code",
   "execution_count": 4,
   "metadata": {},
   "outputs": [
    {
     "name": "stdout",
     "output_type": "stream",
     "text": [
      "Differential Evolution\n",
      "f([1.000000, 3.000000] ) = 0.000000\n"
     ]
    }
   ],
   "source": [
    "println(\"Differential Evolution\")\n",
    "\n",
    "// the objective function to minimize\n",
    "val f: RealScalarFunction = object : AbstractBivariateRealFunction() {\n",
    "    override fun evaluate(x: Double, y: Double): Double {\n",
    "        return (x - 1) * (x - 1) + (y - 3) * (y - 3) // (x - 1)^2 + (y - 3)^2\n",
    "    }\n",
    "}\n",
    "\n",
    "// construct an integer programming problem\n",
    "val problem: IPProblem\n",
    "        // both x and y need to be integers\n",
    "        = IPProblemImpl1(f, null, null, intArrayOf(1, 2), 0.0)\n",
    "\n",
    "// a uniform random number generator\n",
    "val rng: RandomLongGenerator = UniformRNG()\n",
    "rng.seed(123456798L)\n",
    "\n",
    "// construct an instance of a genetic algorithm solver\n",
    "val solver = DEOptim(\n",
    "        object : DEOptim.NewCellFactory {\n",
    "            override fun newCellFactory() : DEOptimCellFactory {\n",
    "                return IntegralConstrainedCellFactory(\n",
    "                        Rand1Bin(0.5, 0.5, rng), // the DE operator\n",
    "                        IntegralConstrainedCellFactory.SomeIntegers(problem))\n",
    "            }\n",
    "        },\n",
    "        rng, // a uniform random number generator\n",
    "        1e-15, // a precision parameter\n",
    "        100, // the maximum number of iterations\n",
    "        20 // the maximum number of iterations of no improvement\n",
    ")\n",
    "\n",
    "val soln: IterativeSolution<Vector> = solver.solve(problem)\n",
    "val xmin: Vector = soln.search(\n",
    "        // the boundaries: [-10, 10], [-10, 10]\n",
    "    DenseVector(-10.0, 10.0),\n",
    "    DenseVector(10.0, -10.0),\n",
    "    DenseVector(10.0, 10.0),\n",
    "    DenseVector(-10.0, -10.0)\n",
    ")\n",
    "\n",
    "val fxmin: Double = f.evaluate(xmin) // the mimimum\n",
    "println(String.format(\"f(%s) = %f\", xmin, fxmin))"
   ]
  },
  {
   "cell_type": "code",
   "execution_count": 5,
   "metadata": {},
   "outputs": [
    {
     "name": "stdout",
     "output_type": "stream",
     "text": [
      "Simulated annealing\n",
      "f([-0.089836, 0.712655] ) = -1.031628\n"
     ]
    }
   ],
   "source": [
    "println(\"Simulated annealing\")\n",
    "\n",
    "// the objective function to minimize\n",
    "val f: RealScalarFunction = object : AbstractRealScalarFunction(2) {\n",
    "\n",
    "    override fun evaluate(x: Vector): Double {\n",
    "        val x1: Double = x.get(1)\n",
    "        val x2: Double = x.get(2)\n",
    "        // (4 - 2.1*x(1)^2 + x(1)^4/3)*x(1)^2\n",
    "        val term1: Double\n",
    "                        = (4.0 - 2.1 * x1.pow(2.0) + x1.pow(4.0) / 3.0) * x1.pow(2.0)\n",
    "        // x(1)*x(2)\n",
    "        val term2: Double = x1 * x2\n",
    "        // (-4 + 4*x(2)^2)*x(2)^2\n",
    "        val term3: Double = (-4.0 + 4.0 * x2.pow(2.0)) * x2.pow(2.0)\n",
    "        return term1 + term2 + term3\n",
    "    }\n",
    "}\n",
    "\n",
    "// construct an optimization problem\n",
    "val problem = object : OptimProblem {\n",
    "\n",
    "    override fun f(): RealScalarFunction {\n",
    "        return f\n",
    "    }\n",
    "\n",
    "    override fun dimension(): Int {\n",
    "        return 2\n",
    "    }\n",
    "}\n",
    "\n",
    "// stop after 5000 iterations\n",
    "val stopCondition: StopCondition = AfterIterations(5000)\n",
    "// an instance of a simulated annealing solver\n",
    "val solver: IterativeMinimizer<OptimProblem> = GeneralizedSimulatedAnnealingMinimizer(\n",
    "                2, // dimension of the objective function\n",
    "                stopCondition\n",
    "        )\n",
    "val soln: IterativeSolution<Vector> = solver.solve(problem)\n",
    "val x0: Vector = DenseVector(0.5, 0.5) // the initial guess\n",
    "val xmin: Vector = soln.search(x0)\n",
    "val fxmin: Double = f.evaluate(xmin) // the mimimum\n",
    "println(String.format(\"f(%s) = %f\", xmin, fxmin))"
   ]
  }
 ],
 "metadata": {
  "kernelspec": {
   "display_name": "Kotlin",
   "language": "kotlin",
   "name": "kotlin"
  },
  "language_info": {
   "codemirror_mode": "text/x-kotlin",
   "file_extension": ".kt",
   "mimetype": "text/x-kotlin",
   "name": "kotlin",
   "nbconvert_exporter": "",
   "pygments_lexer": "kotlin",
   "version": "1.6.20-dev-6372"
  }
 },
 "nbformat": 4,
 "nbformat_minor": 4
}
