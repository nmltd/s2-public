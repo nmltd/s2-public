{
 "cells": [
  {
   "cell_type": "markdown",
   "metadata": {},
   "source": [
    "# Chapter 6 Differentiation"
   ]
  },
  {
   "cell_type": "code",
   "execution_count": 1,
   "metadata": {},
   "outputs": [
    {
     "name": "stdout",
     "output_type": "stream",
     "text": [
      "Chapter 6 demos on differentiation\n"
     ]
    }
   ],
   "source": [
    "%use s2\n",
    "\n",
    "println(\"Chapter 6 demos on differentiation\")"
   ]
  },
  {
   "cell_type": "code",
   "execution_count": 2,
   "metadata": {},
   "outputs": [
    {
     "name": "stdout",
     "output_type": "stream",
     "text": [
      "Differentiate univariate functions\n",
      "df/dx(x=2.000000) = -0.0000000298023224 using forward difference\n",
      "df/dx(x=2.000000) = 0.0000000298023224 using backward difference\n",
      "df/dx(x=2.000000) = 0.0000000000000000 using central difference\n"
     ]
    }
   ],
   "source": [
    "println(\"Differentiate univariate functions\")\n",
    "\n",
    "val f: UnivariateRealFunction = object : AbstractUnivariateRealFunction() {\n",
    "\n",
    "    override fun evaluate(x: Double): Double {\n",
    "        return -(x * x - 4 * x + 6) // -(x^2 - 4x + 6)\n",
    "    }\n",
    "}\n",
    "val x: Double = 2.0\n",
    "\n",
    "val df1_forward: UnivariateRealFunction\n",
    "        = FiniteDifference(f, 1, FiniteDifference.Type.FORWARD)\n",
    "var dfdx: Double = df1_forward.evaluate(x) // evaluate at x\n",
    "println(String.format(\"df/dx(x=%f) = %.16f using forward difference\", x, dfdx))\n",
    "\n",
    "val df1_backward: UnivariateRealFunction\n",
    "        = FiniteDifference(f, 1, FiniteDifference.Type.BACKWARD)\n",
    "dfdx = df1_backward.evaluate(x) // evaluate at x\n",
    "println(String.format(\"df/dx(x=%f) = %.16f using backward difference\", x, dfdx))\n",
    "\n",
    "val df1_central: UnivariateRealFunction\n",
    "        = FiniteDifference(f, 1, FiniteDifference.Type.CENTRAL)\n",
    "dfdx = df1_central.evaluate(x) // evaluate at x\n",
    "println(String.format(\"df/dx(x=%f) = %.16f using central difference\", x, dfdx))"
   ]
  },
  {
   "cell_type": "code",
   "execution_count": 3,
   "metadata": {},
   "outputs": [
    {
     "name": "stdout",
     "output_type": "stream",
     "text": [
      "Compute the second order derivative of univariate functions\n",
      "Differentiate univariate functions\n",
      "d2f/dx2(x=2.000000) = -2.0000015520433827 using forward difference\n"
     ]
    }
   ],
   "source": [
    "println(\"Compute the second order derivative of univariate functions\")\n",
    "\n",
    "val f: UnivariateRealFunction = object : AbstractUnivariateRealFunction() {\n",
    "\n",
    "    override fun evaluate(x: Double): Double {\n",
    "        return -(x * x - 4 * x + 6) // -(x^2 - 4x + 6)\n",
    "    }\n",
    "}\n",
    "val x: Double = 2.0\n",
    "\n",
    "println(\"Differentiate univariate functions\")\n",
    "\n",
    "val df1_forward: UnivariateRealFunction\n",
    "        = FiniteDifference(f, 2, FiniteDifference.Type.FORWARD)\n",
    "var dfdx: Double = df1_forward.evaluate(x) // evaluate at x\n",
    "println(String.format(\"d2f/dx2(x=%f) = %.16f using forward difference\", x, dfdx))"
   ]
  },
  {
   "cell_type": "code",
   "execution_count": 4,
   "metadata": {},
   "outputs": [
    {
     "name": "stdout",
     "output_type": "stream",
     "text": [
      "d2f/dx2(x=2.000000) = -1.9999985243161564 using backward difference\n"
     ]
    }
   ],
   "source": [
    "val df1_backward: UnivariateRealFunction\n",
    "        = FiniteDifference(f, 2, FiniteDifference.Type.BACKWARD)\n",
    "dfdx = df1_backward.evaluate(x) // evaluate at x\n",
    "println(String.format(\"d2f/dx2(x=%f) = %.16f using backward difference\", x, dfdx))"
   ]
  },
  {
   "cell_type": "code",
   "execution_count": 5,
   "metadata": {},
   "outputs": [
    {
     "name": "stdout",
     "output_type": "stream",
     "text": [
      "d2f/d2x(x=2.000000) = -1.9999985243161564 using central difference\n"
     ]
    }
   ],
   "source": [
    "val df1_central: UnivariateRealFunction\n",
    "        = FiniteDifference(f, 2, FiniteDifference.Type.CENTRAL)\n",
    "dfdx = df1_central.evaluate(x) // evaluate at x\n",
    "println(String.format(\"d2f/d2x(x=%f) = %.16f using central difference\", x, dfdx))"
   ]
  },
  {
   "cell_type": "code",
   "execution_count": 6,
   "metadata": {},
   "outputs": [
    {
     "name": "stdout",
     "output_type": "stream",
     "text": [
      "Compute the partial derivatives for a multivariate real-valued function\n",
      "Dxy(1.0,1.0) 3.000000\n"
     ]
    }
   ],
   "source": [
    "println(\"Compute the partial derivatives for a multivariate real-valued function\")\n",
    "\n",
    "// f = x^2 + xy + y^2\n",
    "val f: RealScalarFunction = object : AbstractBivariateRealFunction() {\n",
    "\n",
    "    override fun evaluate(x: Double, y: Double): Double {\n",
    "        return x * x + x * y + y * y\n",
    "    }\n",
    "}\n",
    "\n",
    "// df/dx = 2x + y\n",
    "val dx: MultivariateFiniteDifference\n",
    "        = MultivariateFiniteDifference(f, intArrayOf(1))\n",
    "println(String.format(\"Dxy(1.0,1.0) %f\", dx.evaluate(DenseVector(1.0, 1.0))))"
   ]
  },
  {
   "cell_type": "code",
   "execution_count": 7,
   "metadata": {},
   "outputs": [
    {
     "name": "stdout",
     "output_type": "stream",
     "text": [
      "Compute the partial derivatives for a multivariate real-valued function\n",
      "Dxy(1.0,1.0,1.0) 3.000001\n",
      "Dxy(-100.0,0.0,-1.5) -2.000000\n"
     ]
    }
   ],
   "source": [
    "println(\"Compute the partial derivatives for a multivariate real-valued function\")\n",
    "\n",
    "// f = xy + 2xyz\n",
    "val f: RealScalarFunction = object : RealScalarFunction {\n",
    "\n",
    "    override fun evaluate(v: Vector): Double {\n",
    "        return v.get(1) * v.get(2) + 2 * v.get(1) * v.get(2) * v.get(3)\n",
    "    }\n",
    "\n",
    "    override fun dimensionOfDomain(): Int {\n",
    "        return 3\n",
    "    }\n",
    "\n",
    "    override fun dimensionOfRange(): Int {\n",
    "        return 1\n",
    "    }\n",
    "}\n",
    "\n",
    "val dxy: MultivariateFiniteDifference // 1 + 2z\n",
    "        // differentiate the first variable and then the second one\n",
    "        = MultivariateFiniteDifference(f, intArrayOf(1, 2))\n",
    "println(String.format(\"Dxy(1.0,1.0,1.0) %f\", dxy.evaluate(DenseVector(1.0, 1.0, 1.0))))\n",
    "println(String.format(\"Dxy(-100.0,0.0,-1.5) %f\", dxy.evaluate(DenseVector(-100.0, 0.0, -1.5))))"
   ]
  },
  {
   "cell_type": "code",
   "execution_count": 8,
   "metadata": {},
   "outputs": [
    {
     "name": "stdout",
     "output_type": "stream",
     "text": [
      "Dyx(1.0,1.0,1.0) 3.000001\n",
      "Dyx(-100.0,0.0,-1.5) -2.000000\n"
     ]
    }
   ],
   "source": [
    "//continuous function allows switching the order of differentiation by Clairaut's theorem\n",
    "val dyx: MultivariateFiniteDifference // 1 + 2z\n",
    "        // differentiate the second variable and then the first one\n",
    "        = MultivariateFiniteDifference(f, intArrayOf(2, 1))\n",
    "println(String.format(\"Dyx(1.0,1.0,1.0) %f\", dyx.evaluate(DenseVector(1.0, 1.0, 1.0))))\n",
    "println(String.format(\"Dyx(-100.0,0.0,-1.5) %f\", dyx.evaluate(DenseVector(-100.0, 0.0, -1.5))))"
   ]
  },
  {
   "cell_type": "code",
   "execution_count": 9,
   "metadata": {},
   "outputs": [
    {
     "name": "stdout",
     "output_type": "stream",
     "text": [
      "Compute the gradient for a multivariate real-valued function\n",
      "\n",
      "gradient at [0.000000, 0.000000]  = [1.000000, 0.000000] \n"
     ]
    }
   ],
   "source": [
    "println(\"Compute the gradient for a multivariate real-valued function\")\n",
    "\n",
    "// f = x * exp(-(x^2 + y^2))\n",
    "val f: RealScalarFunction = object : AbstractBivariateRealFunction() {\n",
    "    \n",
    "    override fun evaluate(x: Double, y: Double): Double {\n",
    "        return x * exp(-(x * x + y * y))\n",
    "    }\n",
    "}\n",
    "\n",
    "val x1: Vector = DenseVector(0.0, 0.0)\n",
    "val g1_0: Vector = Gradient(f, x1)\n",
    "println(String.format(\"\\ngradient at %s = %s\", x1, g1_0))"
   ]
  },
  {
   "cell_type": "code",
   "execution_count": 10,
   "metadata": {},
   "outputs": [
    {
     "name": "stdout",
     "output_type": "stream",
     "text": [
      "gradient at [0.000000, 0.000000]  = [1.000000, 0.000000] \n"
     ]
    }
   ],
   "source": [
    "val df: GradientFunction = GradientFunction(f)\n",
    "val g1_1: Vector = df.evaluate(x1)\n",
    "println(String.format(\"gradient at %s = %s\", x1, g1_1))"
   ]
  },
  {
   "cell_type": "code",
   "execution_count": 11,
   "metadata": {},
   "outputs": [
    {
     "name": "stdout",
     "output_type": "stream",
     "text": [
      "gradient at [-1.000000, 0.000000]  = [-0.367879, 0.000000] \n"
     ]
    }
   ],
   "source": [
    "val x2: Vector = DenseVector(-1.0, 0.0)\n",
    "val g2: Vector = df.evaluate(x2)\n",
    "println(String.format(\"gradient at %s = %s\", x2, g2))"
   ]
  },
  {
   "cell_type": "code",
   "execution_count": 12,
   "metadata": {},
   "outputs": [
    {
     "name": "stdout",
     "output_type": "stream",
     "text": [
      "gradient at [1.000000, 0.000000]  = [-0.367879, 0.000000] \n"
     ]
    }
   ],
   "source": [
    "val x3: Vector = DenseVector(1.0, 0.0)\n",
    "val g3: Vector = df.evaluate(x3)\n",
    "println(String.format(\"gradient at %s = %s\", x3, g3))"
   ]
  },
  {
   "cell_type": "code",
   "execution_count": 41,
   "metadata": {},
   "outputs": [
    {
     "name": "stdout",
     "output_type": "stream",
     "text": [
      "Compute the gradient for a multivariate real-valued function\n",
      "\n",
      "gradient at [0.000000, 0.000000]  = [0.000000, 0.000000] \n"
     ]
    }
   ],
   "source": [
    "println(\"Compute the gradient for a multivariate real-valued function\")\n",
    "\n",
    "// f = -((cos(x))^2 + (cos(y))^2)^2\n",
    "val f: RealScalarFunction = object : AbstractBivariateRealFunction() {\n",
    "    override fun evaluate(x: Double, y: Double): Double {\n",
    "        var z: Double = cos(x) * cos(x)\n",
    "        z += cos(y) * cos(y)\n",
    "        z = -z * z\n",
    "        return z\n",
    "    }\n",
    "}\n",
    "\n",
    "val x1: Vector = DenseVector(0.0, 0.0)\n",
    "val g1_0: Vector = Gradient(f, x1)\n",
    "println(String.format(\"\\ngradient at %s = %s\", x1, g1_0))"
   ]
  },
  {
   "cell_type": "code",
   "execution_count": 42,
   "metadata": {},
   "outputs": [
    {
     "name": "stdout",
     "output_type": "stream",
     "text": [
      "gradient at [0.000000, 0.000000]  = [0.000000, 0.000000] \n"
     ]
    }
   ],
   "source": [
    "val df: GradientFunction = GradientFunction(f)\n",
    "val g1_1: Vector = df.evaluate(x1)\n",
    "println(String.format(\"gradient at %s = %s\", x1, g1_1))"
   ]
  },
  {
   "cell_type": "code",
   "execution_count": 43,
   "metadata": {},
   "outputs": [
    {
     "name": "stdout",
     "output_type": "stream",
     "text": [
      "gradient at [-1.000000, 0.000000]  = [-2.349491, 0.000000] \n"
     ]
    }
   ],
   "source": [
    "val x2: Vector = DenseVector(-1.0, 0.0)\n",
    "val g2: Vector = df.evaluate(x2)\n",
    "println(String.format(\"gradient at %s = %s\", x2, g2))"
   ]
  },
  {
   "cell_type": "code",
   "execution_count": 44,
   "metadata": {},
   "outputs": [
    {
     "name": "stdout",
     "output_type": "stream",
     "text": [
      "gradient at [1.000000, 0.000000]  = [2.349491, 0.000000] \n"
     ]
    }
   ],
   "source": [
    "val x3: Vector = DenseVector(1.0, 0.0)\n",
    "val g3: Vector = df.evaluate(x3)\n",
    "println(String.format(\"gradient at %s = %s\", x3, g3))"
   ]
  },
  {
   "cell_type": "code",
   "execution_count": 16,
   "metadata": {},
   "outputs": [
    {
     "name": "stdout",
     "output_type": "stream",
     "text": [
      "Compute the Jacobian for a multivariate vector-valued function\n",
      "\n",
      "The Jacobian at [0.000000, 0.000000]  = 2x2\n",
      "\t[,1] [,2] \n",
      "[1,] 0.000000, 0.000000, \n",
      "[2,] 5.000000, 1.000000, , the det = 0.000000\n"
     ]
    }
   ],
   "source": [
    "println(\"Compute the Jacobian for a multivariate vector-valued function\")\n",
    "\n",
    "val F: RealVectorFunction = object : RealVectorFunction {\n",
    "    override fun evaluate(v: Vector): Vector {\n",
    "        val x: Double= v.get(1)\n",
    "        val y: Double= v.get(2)\n",
    "\n",
    "        val f1: Double = x * x * y\n",
    "        val f2: Double = 5.0 * x + sin(y)\n",
    "\n",
    "        return DenseVector(f1, f2)\n",
    "    }\n",
    "\n",
    "    override fun dimensionOfDomain(): Int {\n",
    "        return 2\n",
    "    }\n",
    "\n",
    "    override fun dimensionOfRange(): Int {\n",
    "        return 2\n",
    "    }\n",
    "}\n",
    "\n",
    "val x0: Vector = DenseVector(0.0, 0.0)\n",
    "val J00: Matrix = Jacobian(F, x0)\n",
    "println(String.format(\n",
    "        \"\\nThe Jacobian at %s = %s, the det = %f\",\n",
    "        x0,\n",
    "        J00,\n",
    "        MatrixMeasure.det(J00)))"
   ]
  },
  {
   "cell_type": "code",
   "execution_count": 17,
   "metadata": {},
   "outputs": [
    {
     "name": "stdout",
     "output_type": "stream",
     "text": [
      "\n",
      "The Jacobian at [0.000000, 0.000000]  = 2x2\n",
      "\t[,1] [,2] \n",
      "[1,] 0.000000, 0.000000, \n",
      "[2,] 5.000000, 1.000000, , the det = 0.000000\n"
     ]
    }
   ],
   "source": [
    "val J: RntoMatrix = JacobianFunction(F) // [2xy, x^2], [5, cosy]\n",
    "val J01: Matrix = J.evaluate(x0)\n",
    "println(String.format(\n",
    "        \"\\nThe Jacobian at %s = %s, the det = %f\",\n",
    "        x0,\n",
    "        J01,\n",
    "        MatrixMeasure.det(J01)))"
   ]
  },
  {
   "cell_type": "code",
   "execution_count": 18,
   "metadata": {},
   "outputs": [
    {
     "name": "stdout",
     "output_type": "stream",
     "text": [
      "The Jacobian at [1.000000, 3.141593]  = 2x2\n",
      "\t[,1] [,2] \n",
      "[1,] 6.283185, 1.000000, \n",
      "[2,] 5.000000, -1.000000, , the det = -11.283185\n"
     ]
    }
   ],
   "source": [
    "val x1: Vector = DenseVector(1.0, PI)\n",
    "val J1: Matrix = J.evaluate(x1)\n",
    "println(String.format(\n",
    "        \"The Jacobian at %s = %s, the det = %f\",\n",
    "        x1,\n",
    "        J1,\n",
    "        MatrixMeasure.det(J1)))"
   ]
  },
  {
   "cell_type": "code",
   "execution_count": 19,
   "metadata": {},
   "outputs": [
    {
     "name": "stdout",
     "output_type": "stream",
     "text": [
      "Compute the Jacobian for a multivariate vector-valued function\n",
      "\n",
      "The Jacobian at [0.000000, 0.000000, 1.000000]  = 3x3\n",
      "\t[,1] [,2] [,3] \n",
      "[1,] 0.000000, 5.000000, 0.000000, \n",
      "[2,] 0.000000, -2.000000, 0.000000, \n",
      "[3,] 0.000000, 1.000000, 0.000000, , the det = 0.000000\n"
     ]
    }
   ],
   "source": [
    "println(\"Compute the Jacobian for a multivariate vector-valued function\")\n",
    "\n",
    "val F: RealVectorFunction = object : RealVectorFunction {\n",
    "    override fun evaluate(v: Vector): Vector {\n",
    "        val x1: Double = v.get(1)\n",
    "        val x2: Double = v.get(2)\n",
    "        val x3: Double = v.get(3)\n",
    "\n",
    "        val f1: Double = 5.0 * x2\n",
    "        val f2: Double = 4.0 * x1 * x1 - 2.0 * sin(x2 * x3)\n",
    "        val f3: Double = x2 * x3\n",
    "\n",
    "        return DenseVector(f1, f2, f3)\n",
    "    }\n",
    "\n",
    "    override fun dimensionOfDomain(): Int {\n",
    "        return 3\n",
    "    }\n",
    "\n",
    "    override fun dimensionOfRange(): Int {\n",
    "        return 3\n",
    "    }\n",
    "}\n",
    "\n",
    "val x0: Vector = DenseVector(0.0, 0.0, 1.0)\n",
    "val J: RntoMatrix = JacobianFunction(F)\n",
    "val J0: Matrix = J.evaluate(x0)\n",
    "println(String.format(\n",
    "        \"\\nThe Jacobian at %s = %s, the det = %f\",\n",
    "        x0,\n",
    "        J0,\n",
    "        MatrixMeasure.det(J0)))"
   ]
  },
  {
   "cell_type": "code",
   "execution_count": 20,
   "metadata": {},
   "outputs": [
    {
     "name": "stdout",
     "output_type": "stream",
     "text": [
      "The Jacobian at [1.000000, 2.000000, 3.000000]  = 3x3\n",
      "\t[,1] [,2] [,3] \n",
      "[1,] 0.000000, 5.000000, 0.000000, \n",
      "[2,] 8.000000, -5.761022, -3.840681, \n",
      "[3,] 0.000000, 3.000000, 2.000000, , the det = -80.000000\n"
     ]
    }
   ],
   "source": [
    "val x1: Vector = DenseVector(1.0, 2.0, 3.0)\n",
    "val J1: Matrix = J.evaluate(x1)\n",
    "println(String.format(\n",
    "        \"The Jacobian at %s = %s, the det = %f\",\n",
    "        x1,\n",
    "        J1,\n",
    "        MatrixMeasure.det(J1)))"
   ]
  },
  {
   "cell_type": "code",
   "execution_count": 21,
   "metadata": {},
   "outputs": [
    {
     "name": "stdout",
     "output_type": "stream",
     "text": [
      "Compute the Hessian for a multivariate real-valued function\n",
      "\n",
      "The Hessian at [1.000000, 1.000000]  = 2x2\n",
      "\t[,1] [,2] \n",
      "[1,] 0.000000, 1.000000, \n",
      "[2,] 1.000000, 0.000000, , the det = -0.999999\n"
     ]
    }
   ],
   "source": [
    "println(\"Compute the Hessian for a multivariate real-valued function\")\n",
    "\n",
    "val f: RealScalarFunction = object : AbstractBivariateRealFunction() {\n",
    "    override fun evaluate(x: Double, y: Double): Double {\n",
    "        return x * y // f = xy\n",
    "    }\n",
    "}\n",
    "\n",
    "val x1: Vector = DenseVector(1.0, 1.0)\n",
    "val H1: Hessian = Hessian(f, x1)\n",
    "println(String.format(\n",
    "        \"\\nThe Hessian at %s = %s, the det = %f\",\n",
    "        x1,\n",
    "        H1,\n",
    "        MatrixMeasure.det(H1)))"
   ]
  },
  {
   "cell_type": "code",
   "execution_count": 22,
   "metadata": {},
   "outputs": [
    {
     "name": "stdout",
     "output_type": "stream",
     "text": [
      "\n",
      "The Hessian at [1.000000, 1.000000]  = 2x2\n",
      "\t[,1] [,2] \n",
      "[1,] 0.000000, 1.000000, \n",
      "[2,] 1.000000, 0.000000, , the det = -0.999999\n"
     ]
    }
   ],
   "source": [
    "val H: RntoMatrix = HessianFunction(f)\n",
    "val Hx1: Matrix = H.evaluate(x1)\n",
    "println(String.format(\n",
    "        \"\\nThe Hessian at %s = %s, the det = %f\",\n",
    "        x1,\n",
    "        Hx1,\n",
    "        MatrixMeasure.det(Hx1)))"
   ]
  },
  {
   "cell_type": "code",
   "execution_count": 23,
   "metadata": {},
   "outputs": [
    {
     "name": "stdout",
     "output_type": "stream",
     "text": [
      "\n",
      "The Hessian at [0.000000, 0.000000]  = 2x2\n",
      "\t[,1] [,2] \n",
      "[1,] 0.000000, 1.000000, \n",
      "[2,] 1.000000, 0.000000, , the det = -1.000000\n"
     ]
    }
   ],
   "source": [
    "val x2: Vector = DenseVector(0.0, 0.0)\n",
    "val H2: Hessian = Hessian(f, x2)\n",
    "println(String.format(\n",
    "        \"\\nThe Hessian at %s = %s, the det = %f\",\n",
    "        x2,\n",
    "        H2,\n",
    "        MatrixMeasure.det(H2)))"
   ]
  },
  {
   "cell_type": "code",
   "execution_count": 24,
   "metadata": {},
   "outputs": [
    {
     "name": "stdout",
     "output_type": "stream",
     "text": [
      "\n",
      "The Hessian at [0.000000, 0.000000]  = 2x2\n",
      "\t[,1] [,2] \n",
      "[1,] 0.000000, 1.000000, \n",
      "[2,] 1.000000, 0.000000, , the det = -1.000000\n"
     ]
    }
   ],
   "source": [
    "val Hx2: Matrix = H.evaluate(x2)\n",
    "println(String.format(\n",
    "        \"\\nThe Hessian at %s = %s, the det = %f\",\n",
    "        x2,\n",
    "        Hx2,\n",
    "        MatrixMeasure.det(Hx2)))"
   ]
  },
  {
   "cell_type": "code",
   "execution_count": 45,
   "metadata": {},
   "outputs": [
    {
     "name": "stdout",
     "output_type": "stream",
     "text": [
      "Comparing Ridder's method to finite difference for univariate function\n",
      "1-nd order derivative by Ridder @ 0.500000 = 2.0000000000000000\n",
      "1-nd order derivative by FD @ 0.500000 = 2.0000000000000000\n",
      "2-nd order derivative by Ridder @ 0.500000 = -4.0000004374066640\n",
      "2-nd order derivative by FD @ 0.500000 = -4.0000031040867650\n",
      "3-nd order derivative by Ridder @ 0.500000 = 16.0000016378464240\n",
      "3-nd order derivative by FD @ 0.500000 = 16.0002441406250000\n",
      "4-nd order derivative by Ridder @ 0.500000 = -95.9999555891298100\n",
      "4-nd order derivative by FD @ 0.500000 = -95.9874881885177200\n",
      "5-nd order derivative by Ridder @ 0.500000 = 767.9383982440593000\n",
      "5-nd order derivative by FD @ 0.500000 = 767.5675271157362000\n",
      "6-nd order derivative by Ridder @ 0.500000 = -7681.9174458835320000\n",
      "6-nd order derivative by FD @ 0.500000 = -7686.1197112745450000\n",
      "7-nd order derivative by Ridder @ 0.500000 = 92116.9184885280300000\n",
      "7-nd order derivative by FD @ 0.500000 = 92428.4022426225400000\n",
      "8-nd order derivative by Ridder @ 0.500000 = -1290356.2663459945000000\n",
      "8-nd order derivative by FD @ 0.500000 = -1300812.8634378603000000\n",
      "9-nd order derivative by Ridder @ 0.500000 = 20941653.5495638000000000\n",
      "9-nd order derivative by FD @ 0.500000 = 21347177.7802486680000000\n"
     ]
    }
   ],
   "source": [
    "println(\"Comparing Ridder's method to finite difference for univariate function\")\n",
    "\n",
    "val f: UnivariateRealFunction = object : AbstractUnivariateRealFunction() {\n",
    "    override fun evaluate(x: Double): Double {\n",
    "        return ln(x)\n",
    "    }\n",
    "}\n",
    "\n",
    "val x: Double = 0.5\n",
    "for (order in 1..9) {\n",
    "    val fd: FiniteDifference = FiniteDifference(f, order, FiniteDifference.Type.CENTRAL)\n",
    "    val ridder: Ridders = Ridders(f, order)\n",
    "    println(String.format(\n",
    "            \"%d-nd order derivative by Ridder @ %f = %.16f\", order, x, ridder.evaluate(x)))\n",
    "    println(String.format(\n",
    "            \"%d-nd order derivative by FD @ %f = %.16f\", order, x, fd.evaluate(x)))\n",
    "}"
   ]
  },
  {
   "cell_type": "code",
   "execution_count": 26,
   "metadata": {},
   "outputs": [
    {
     "name": "stdout",
     "output_type": "stream",
     "text": [
      "Comparing Ridder's method to finite difference for multivariate function\n",
      "Dxy([1.000000, 1.000000, 1.000000] ) by Ridder = 2.9999999941935465\n",
      "Dxy([1.000000, 1.000000, 1.000000] ) by FD =  3.0000013187575885\n",
      "Dxy([-100.000000, 0.000000, -1.500000] ) by FD = -2.0000000000032907\n",
      "Dxy([-100.000000, 0.000000, -1.500000] ) by FD = -1.9999999999865270\n"
     ]
    }
   ],
   "source": [
    "println(\"Comparing Ridder's method to finite difference for multivariate function\");\n",
    "\n",
    "// f = xy + 2xyz\n",
    "val f: RealScalarFunction = object : RealScalarFunction {\n",
    "\n",
    "    override fun evaluate(v: Vector): Double {\n",
    "        return v.get(1) * v.get(2) + 2 * v.get(1) * v.get(2) * v.get(3)\n",
    "    }\n",
    "\n",
    "    override fun dimensionOfDomain(): Int {\n",
    "        return 3\n",
    "    }\n",
    "\n",
    "    override fun dimensionOfRange(): Int {\n",
    "        return 1\n",
    "    }\n",
    "}\n",
    "\n",
    "val dxy_ridder: Ridders = Ridders(f, intArrayOf(1, 2))\n",
    "val dxy: MultivariateFiniteDifference // 1 + 2z\n",
    "        // differentiate the first variable and then the second one\n",
    "        = MultivariateFiniteDifference(f, intArrayOf(1, 2))\n",
    "val x0: Vector = DenseVector(1.0, 1.0, 1.0)\n",
    "println(String.format(\"Dxy(%s) by Ridder = %.16f\", x0, dxy_ridder.evaluate(x0)))\n",
    "println(String.format(\"Dxy(%s) by FD =  %.16f\", x0, dxy.evaluate(x0)))\n",
    "val x1: Vector = DenseVector(-100.0, 0.0, -1.5)\n",
    "println(String.format(\"Dxy(%s) by FD = %.16f\", x1, dxy_ridder.evaluate(x1)))\n",
    "println(String.format(\"Dxy(%s) by FD = %.16f\", x1, dxy.evaluate(x1)))"
   ]
  },
  {
   "cell_type": "code",
   "execution_count": 27,
   "metadata": {},
   "outputs": [
    {
     "name": "stdout",
     "output_type": "stream",
     "text": [
      "Dyx([1.000000, 1.000000, 1.000000] ) by Ridder = 2.9999999941935465\n",
      "Dyx([1.000000, 1.000000, 1.000000] ) by FD = 3.0000013187575885\n",
      "Dyx([-100.000000, 0.000000, -1.500000] ) by Ridder = -2.0000000000044610\n",
      "Dyx([-100.000000, 0.000000, -1.500000] ) by FD = -1.9999999999748960\n"
     ]
    }
   ],
   "source": [
    "//continuous function allows switching the order of differentiation by Clairaut's theorem\n",
    "val dyx_ridder: Ridders = Ridders(f, intArrayOf(2, 1))\n",
    "val dyx: MultivariateFiniteDifference // 1 + 2z\n",
    "        // differentiate the second variable and then the first one\n",
    "        = MultivariateFiniteDifference(f, intArrayOf(2, 1))\n",
    "println(String.format(\"Dyx(%s) by Ridder = %.16f\", x0, dyx_ridder.evaluate(x0)))\n",
    "println(String.format(\"Dyx(%s) by FD = %.16f\", x0, dyx.evaluate(x0)))\n",
    "println(String.format(\"Dyx(%s) by Ridder = %.16f\", x1, dyx_ridder.evaluate(x1)))\n",
    "println(String.format(\"Dyx(%s) by FD = %.16f\", x1, dyx.evaluate(x1)))"
   ]
  },
  {
   "cell_type": "code",
   "execution_count": 28,
   "metadata": {},
   "outputs": [
    {
     "name": "stdout",
     "output_type": "stream",
     "text": [
      "Compute the first order derivative for the Gaussian function\n",
      "dG/dx(-0.500000) = 0.176033\n"
     ]
    }
   ],
   "source": [
    "println(\"Compute the first order derivative for the Gaussian function\")\n",
    "\n",
    "val G: Gaussian = Gaussian(1.0, 0.0, 1.0) // standard Gaussian\n",
    "val dG: DGaussian = DGaussian(G)\n",
    "var x: Double = -0.5\n",
    "println(String.format(\"dG/dx(%f) = %f\", x, dG.evaluate(x)))"
   ]
  },
  {
   "cell_type": "code",
   "execution_count": 29,
   "metadata": {},
   "outputs": [
    {
     "name": "stdout",
     "output_type": "stream",
     "text": [
      "dG/dx(0.000000) = -0.000000\n"
     ]
    }
   ],
   "source": [
    "x = 0.0\n",
    "println(String.format(\"dG/dx(%f) = %f\", x, dG.evaluate(x)))"
   ]
  },
  {
   "cell_type": "code",
   "execution_count": 30,
   "metadata": {},
   "outputs": [
    {
     "name": "stdout",
     "output_type": "stream",
     "text": [
      "dG/dx(0.500000) = -0.176033\n"
     ]
    }
   ],
   "source": [
    "x = 0.5\n",
    "println(String.format(\"dG/dx(%f) = %f\", x, dG.evaluate(x)))"
   ]
  },
  {
   "cell_type": "code",
   "execution_count": 31,
   "metadata": {},
   "outputs": [
    {
     "name": "stdout",
     "output_type": "stream",
     "text": [
      "Compute the first order derivative for the Error function\n",
      "erf(0.500000) = 0.520500\n",
      "dErf/dz(0.500000) = 0.878783\n"
     ]
    }
   ],
   "source": [
    "println(\"Compute the first order derivative for the Error function\")\n",
    "\n",
    "val z: Double = 0.5\n",
    "val E: Erf = Erf()\n",
    "val dE: DErf = DErf()\n",
    "println(String.format(\"erf(%f) = %f\", z, E.evaluate(z)))\n",
    "println(String.format(\"dErf/dz(%f) = %f\", z, dE.evaluate(z)))"
   ]
  },
  {
   "cell_type": "code",
   "execution_count": 32,
   "metadata": {},
   "outputs": [
    {
     "name": "stdout",
     "output_type": "stream",
     "text": [
      "Compute the first order derivative for the Beta function\n",
      "Beta(1.500000) = 0.196350\n"
     ]
    }
   ],
   "source": [
    "println(\"Compute the first order derivative for the Beta function\")\n",
    "\n",
    "val x: Double = 1.5\n",
    "val y: Double = 2.5\n",
    "val B: Beta = Beta()\n",
    "println(String.format(\"Beta(%f) = %f\", x, B.evaluate(x, y)))"
   ]
  },
  {
   "cell_type": "code",
   "execution_count": 33,
   "metadata": {},
   "outputs": [
    {
     "name": "stdout",
     "output_type": "stream",
     "text": [
      "dBeta/dz(1.500000) = -0.239473\n"
     ]
    }
   ],
   "source": [
    "val dB: DBeta = DBeta()\n",
    "println(String.format(\"dBeta/dz(%f) = %f\", x, dB.evaluate(x, y)))"
   ]
  },
  {
   "cell_type": "code",
   "execution_count": 34,
   "metadata": {},
   "outputs": [
    {
     "name": "stdout",
     "output_type": "stream",
     "text": [
      "Compute the first order derivative for the regularized Beta function\n",
      "BetaRegularized(1.000000) = 1.000000\n"
     ]
    }
   ],
   "source": [
    "println(\"Compute the first order derivative for the regularized Beta function\")\n",
    "\n",
    "val p: Double = 0.5\n",
    "val q: Double = 2.5\n",
    "val I: BetaRegularized = BetaRegularized(p, q)\n",
    "\n",
    "val x: Double = 1.0\n",
    "println(String.format(\"BetaRegularized(%f) = %f\", x, I.evaluate(x)))"
   ]
  },
  {
   "cell_type": "code",
   "execution_count": 35,
   "metadata": {},
   "outputs": [
    {
     "name": "stdout",
     "output_type": "stream",
     "text": [
      "dBetaRegularized/dz(1.000000) = 0.000000\n"
     ]
    }
   ],
   "source": [
    "val dI: DBetaRegularized = DBetaRegularized(p, q)\n",
    "println(String.format(\"dBetaRegularized/dz(%f) = %f\", x, dI.evaluate(x)))"
   ]
  },
  {
   "cell_type": "code",
   "execution_count": 36,
   "metadata": {},
   "outputs": [
    {
     "name": "stdout",
     "output_type": "stream",
     "text": [
      "Compute the first order derivative for the Gamma function\n",
      "Gamma(0.500000) = 1.772454\n"
     ]
    }
   ],
   "source": [
    "println(\"Compute the first order derivative for the Gamma function\")\n",
    "\n",
    "val z: Double = 0.5\n",
    "// <a href=\"http://en.wikipedia.org/wiki/Lanczos_approximation\">Wikipedia: Lanczos approximation</a>\n",
    "val G: Gamma = GammaLanczosQuick()\n",
    "println(String.format(\"Gamma(%f) = %f\", z, G.evaluate(z)))"
   ]
  },
  {
   "cell_type": "code",
   "execution_count": 37,
   "metadata": {},
   "outputs": [
    {
     "name": "stdout",
     "output_type": "stream",
     "text": [
      "dGamma/dz(0.500000) = -3.480231\n"
     ]
    }
   ],
   "source": [
    "val dG: DGamma = DGamma()\n",
    "println(String.format(\"dGamma/dz(%f) = %f\", z, dG.evaluate(z)))"
   ]
  },
  {
   "cell_type": "code",
   "execution_count": 38,
   "metadata": {},
   "outputs": [
    {
     "name": "stdout",
     "output_type": "stream",
     "text": [
      "Compute the first order derivative for a polynomial\n",
      "dp/dx(1.000000) = 4.000000\n"
     ]
    }
   ],
   "source": [
    "println(\"Compute the first order derivative for a polynomial\")\n",
    "\n",
    "val p: Polynomial = Polynomial(1.0, 2.0, 1.0) // x^2 + 2x + 1\n",
    "val dp: Polynomial = DPolynomial(p) // 2x + 2\n",
    "val x: Double = 1.0\n",
    "println(String.format(\"dp/dx(%f) = %f\", x, dp.evaluate(x)))"
   ]
  },
  {
   "cell_type": "code",
   "execution_count": null,
   "metadata": {},
   "outputs": [],
   "source": []
  }
 ],
 "metadata": {
  "kernelspec": {
   "display_name": "Kotlin",
   "language": "kotlin",
   "name": "kotlin"
  },
  "language_info": {
   "codemirror_mode": "text/x-kotlin",
   "file_extension": ".kt",
   "mimetype": "text/x-kotlin",
   "name": "kotlin",
   "nbconvert_exporter": "",
   "pygments_lexer": "kotlin",
   "version": "1.6.20-dev-6372"
  }
 },
 "nbformat": 4,
 "nbformat_minor": 4
}
