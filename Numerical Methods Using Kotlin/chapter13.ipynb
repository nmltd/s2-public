{
 "cells": [
  {
   "cell_type": "markdown",
   "metadata": {},
   "source": [
    "# Chapter 13"
   ]
  },
  {
   "cell_type": "code",
   "execution_count": 1,
   "metadata": {},
   "outputs": [
    {
     "name": "stdout",
     "output_type": "stream",
     "text": [
      "Chapter 13 demos\n"
     ]
    }
   ],
   "source": [
    "%use s2\n",
    "\n",
    "import java.util.Arrays\n",
    "\n",
    "println(\"Chapter 13 demos\")"
   ]
  },
  {
   "cell_type": "code",
   "execution_count": 2,
   "metadata": {},
   "outputs": [],
   "source": [
    "fun generate(rng: RandomNumberGenerator, n: Int): DoubleArray {\n",
    "    var arr: DoubleArray = DoubleArray(n)\n",
    "    for (i in 0 until n) {\n",
    "        arr[i] = rng.nextDouble()\n",
    "    }\n",
    "    return arr\n",
    "}\n",
    "\n",
    "fun match(seq: DoubleArray, pattern: DoubleArray): Double  {\n",
    "    var count: Double = 0.0\n",
    "    for (i in 0 until (seq.size - pattern.size)) {\n",
    "        if (seq[i] == pattern[0]) {\n",
    "            val trunc = Arrays.copyOfRange(seq, i, i + pattern.size)\n",
    "            if (DoubleUtils.equal(trunc, pattern, 1e-7)) {\n",
    "                count++\n",
    "            }\n",
    "        }\n",
    "    }\n",
    "    return count\n",
    "}\n",
    "\n",
    "fun print(arr: DoubleArray) {\n",
    "    println(Arrays.toString(arr))\n",
    "}\n",
    "\n",
    "fun generateIntAndPrint(rng: RandomNumberGenerator, n: Int) {\n",
    "    var randomNumbers: DoubleArray = DoubleArray(n)\n",
    "    for (i in 0 until n) {\n",
    "        randomNumbers[i] = rng.nextDouble()\n",
    "    }\n",
    "    println(Arrays.toString(randomNumbers))\n",
    "}\n",
    "\n",
    "fun printStats(\n",
    "    dist: ProbabilityDistribution,\n",
    "    mean: Mean,\n",
    "    variance: Variance,\n",
    "    skew: Skewness,\n",
    "    kurtosis: Kurtosis\n",
    ") {\n",
    "    println(\n",
    "            String.format(\"theoretical mean = %f, sample mean = %f\",\n",
    "                    dist.mean(),\n",
    "                    mean.value()))\n",
    "    println(\n",
    "            String.format(\"theoretical var = %f, sample var = %f\",\n",
    "                    dist.variance(),\n",
    "                    variance.value()))\n",
    "    println(\n",
    "            String.format(\"theoretical skew = %f, sample skew = %f\",\n",
    "                    dist.skew(),\n",
    "                    skew.value()))\n",
    "    println(\n",
    "            String.format(\"theoretical kurtosis = %f, sample kurtosis = %f\",\n",
    "                    dist.kurtosis(),\n",
    "                    kurtosis.value()))\n",
    "}"
   ]
  },
  {
   "cell_type": "code",
   "execution_count": 3,
   "metadata": {},
   "outputs": [
    {
     "name": "stdout",
     "output_type": "stream",
     "text": [
      "Generate random numbers using an Lehmer RNG:\n",
      "[0.6682941819564465, 0.12339680524949377, 0.5997652532439895, 0.006843304998092784, 0.8280061936846592, 0.8398340979525346, 0.12159547271934114, 0.5212453917161833, 0.11310413135860635, 0.7487121832745781]\n",
      "[0.9693015489683634, 0.6321804200929291, 0.06732959846175084, 0.12655284849786763, 0.8856797936757945, 0.591264143240383, 0.8434276206844243, 0.9128140665540452, 0.34205909356243114, 0.15256980711986945]\n"
     ]
    }
   ],
   "source": [
    "println(\"Generate random numbers using an Lehmer RNG:\")\n",
    "val rng1 = Lehmer()\n",
    "rng1.seed(1234567890L)\n",
    "generateIntAndPrint(rng1, 10)\n",
    "var arr: DoubleArray = generate(rng1, 10)\n",
    "print(arr)"
   ]
  },
  {
   "cell_type": "code",
   "execution_count": 4,
   "metadata": {},
   "outputs": [
    {
     "name": "stdout",
     "output_type": "stream",
     "text": [
      "Generate random numbers using an LEcuyer RNG:\n",
      "[0.43390355465649794, 0.6124845578393361, 0.023334311797904926, 0.9239143165405441, 0.574182921822268, 0.8624269589141137, 0.7762383542844273, 0.3739086749841965, 0.13455863163553114, 0.6689456299268387]\n",
      "[0.5579439720874392, 0.8760583083499495, 0.27437038918694967, 0.8951008789684162, 0.9749086084658786, 0.5236797712387888, 0.5190309786792058, 0.07284812912011898, 0.947280622528531, 0.9903890099331686]\n"
     ]
    }
   ],
   "source": [
    "println(\"Generate random numbers using an LEcuyer RNG:\")\n",
    "val rng2 = LEcuyer()\n",
    "rng2.seed(1234567890L)\n",
    "generateIntAndPrint(rng2, 10)\n",
    "arr = generate(rng2, 10)\n",
    "print(arr)"
   ]
  },
  {
   "cell_type": "code",
   "execution_count": 5,
   "metadata": {},
   "outputs": [
    {
     "name": "stdout",
     "output_type": "stream",
     "text": [
      "Generate random numbers using a composite LCG:\n",
      "[0.668294156126952, 0.12339680048022121, 0.5997652300631303, 0.00684330473359982, 0.8280061616823134, 0.8398340654930417, 0.12159546801968987, 0.5212453715701079, 0.11310412698714446, 0.7487121543369369]\n",
      "[0.9693015115049681, 0.6321803956592273, 0.06732959585946947, 0.12655284360661437, 0.8856797594443706, 0.5912641203880907, 0.8434275880860421, 0.9128140312738847, 0.34205908034188587, 0.15256980122306366]\n"
     ]
    }
   ],
   "source": [
    "println(\"Generate random numbers using a composite LCG:\")\n",
    "val rng3 = CompositeLinearCongruentialGenerator(\n",
    "                arrayOf<LinearCongruentialGenerator>(\n",
    "                    rng1 as LinearCongruentialGenerator,\n",
    "                    rng2 as LinearCongruentialGenerator\n",
    "                )\n",
    "        )\n",
    "rng3.seed(1234567890L)\n",
    "generateIntAndPrint(rng3, 10)\n",
    "arr = generate(rng3, 10)\n",
    "print(arr)"
   ]
  },
  {
   "cell_type": "code",
   "execution_count": 6,
   "metadata": {},
   "outputs": [
    {
     "name": "stdout",
     "output_type": "stream",
     "text": [
      "Took MT19937 47.852173 milliseconds to generate 1000000 random numbers\n"
     ]
    }
   ],
   "source": [
    "val rng = MersenneTwister()\n",
    "\n",
    "val startTime: Long = System.nanoTime()\n",
    "val N = 1_000_000\n",
    "for (i in 0 until N) {\n",
    "    rng.nextDouble()\n",
    "}\n",
    "val endTime: Long = System.nanoTime()\n",
    "\n",
    "val duration: Long = (endTime - startTime)\n",
    "val ms: Double = duration.toDouble() / 1_000_000.0 // divide by 1000000 to get milliseconds\n",
    "println(String.format(\"Took MT19937 %f milliseconds to generate %d random numbers\", ms, N))"
   ]
  },
  {
   "cell_type": "code",
   "execution_count": 7,
   "metadata": {},
   "outputs": [
    {
     "name": "stdout",
     "output_type": "stream",
     "text": [
      "Normal RNG\n",
      "Mean = 0.011830, Stdev = 1.009379\n",
      "Mean = 0.940225, Stdev = 2.037228\n"
     ]
    }
   ],
   "source": [
    "println(\"Normal RNG\")\n",
    "\n",
    "val uniform = MersenneTwister()\n",
    "uniform.seed(1234567890L)\n",
    "\n",
    "val rng1 = Zignor2005(uniform) // mean = 0, stdev = 1\n",
    "val N = 1000\n",
    "var arr1: DoubleArray = DoubleArray(N)\n",
    "for (i in 0 until N) {\n",
    "    arr1[i] = rng1.nextDouble()\n",
    "}\n",
    "\n",
    "// check the statistics of the random samples\n",
    "val var1 = Variance(arr1)\n",
    "println(\n",
    "        String.format(\n",
    "                \"Mean = %f, Stdev = %f\",\n",
    "                var1.mean(),\n",
    "                var1.standardDeviation()))\n",
    "\n",
    "val rng2 = NormalRNG(1.0, 2.0, rng1) // mean = 1, stdev = 2\n",
    "var arr2: DoubleArray = DoubleArray(N)\n",
    "for (i in 0 until N) {\n",
    "    arr2[i] = rng2.nextDouble()\n",
    "}\n",
    "\n",
    "// check the statistics of the random samples\n",
    "val var2 = Variance(arr2)\n",
    "println(\n",
    "        String.format(\n",
    "                \"Mean = %f, Stdev = %f\",\n",
    "                var2.mean(),\n",
    "                var2.standardDeviation()))"
   ]
  },
  {
   "cell_type": "code",
   "execution_count": 8,
   "metadata": {},
   "outputs": [
    {
     "name": "stdout",
     "output_type": "stream",
     "text": [
      "Beta RNG\n",
      "theoretical mean = 0.333333, sample mean = 0.333402\n",
      "theoretical var = 0.170940, sample var = 0.171025\n",
      "theoretical skew = 0.701066, sample skew = 0.700741\n",
      "theoretical kurtosis = -1.304348, sample kurtosis = -1.305287\n"
     ]
    }
   ],
   "source": [
    "println(\"Beta RNG\")\n",
    "\n",
    "val size = 1_000_000\n",
    "\n",
    "val alpha : Double = 0.1\n",
    "val beta : Double= 0.2\n",
    "\n",
    "val rng = Cheng1978(alpha, beta, UniformRNG())\n",
    "rng.seed(1234567890L)\n",
    "\n",
    "var x: DoubleArray = DoubleArray(size)\n",
    "for (i in 0 until size) {\n",
    "    x[i] = rng.nextDouble()\n",
    "}\n",
    "\n",
    "// compute the sample statistics\n",
    "val mean = Mean(x)\n",
    "val variance = Variance(x)\n",
    "val skew = Skewness(x)\n",
    "val kurtosis = Kurtosis(x)\n",
    "\n",
    "// compute the theoretial statistics\n",
    "val dist: ProbabilityDistribution = BetaDistribution(alpha, beta)\n",
    "\n",
    "// compare sample vs theoretical statistics\n",
    "printStats(dist, mean, variance, skew, kurtosis)"
   ]
  },
  {
   "cell_type": "code",
   "execution_count": 9,
   "metadata": {},
   "outputs": [
    {
     "name": "stdout",
     "output_type": "stream",
     "text": [
      "Gamma RNG\n",
      "theoretical mean = 0.100000, sample mean = 0.102555\n",
      "theoretical var = 0.100000, sample var = 0.102297\n",
      "theoretical skew = 6.324555, sample skew = 6.303562\n",
      "theoretical kurtosis = 60.000000, sample kurtosis = 60.330271\n"
     ]
    }
   ],
   "source": [
    "println(\"Gamma RNG\")\n",
    "\n",
    "val size = 1_000_000\n",
    "\n",
    "val k: Double = 0.1\n",
    "val theta: Double = 1.0\n",
    "\n",
    "val rng = KunduGupta2007(k, theta, UniformRNG())\n",
    "rng.seed(1234567895L)\n",
    "\n",
    "val x: DoubleArray = DoubleArray(size)\n",
    "for (i in 0 until size) {\n",
    "    x[i] = rng.nextDouble()\n",
    "}\n",
    "\n",
    "// compute the sample statistics\n",
    "val mean = Mean(x)\n",
    "val variance = Variance(x)\n",
    "val skew = Skewness(x)\n",
    "val kurtosis = Kurtosis(x)\n",
    "\n",
    "// compute the theoretial statistics\n",
    "val dist: ProbabilityDistribution = GammaDistribution(k, theta)\n",
    "\n",
    "// compute the theoretial statistics\n",
    "printStats(dist, mean, variance, skew, kurtosis)"
   ]
  },
  {
   "cell_type": "code",
   "execution_count": 10,
   "metadata": {},
   "outputs": [
    {
     "name": "stdout",
     "output_type": "stream",
     "text": [
      "Poisson RNG\n",
      "theoretical mean = 1.000000, sample mean = 1.013300\n",
      "theoretical var = 1.000000, sample var = 1.022225\n",
      "theoretical skew = 1.000000, sample skew = 1.000960\n",
      "theoretical kurtosis = 1.000000, sample kurtosis = 0.990813\n"
     ]
    }
   ],
   "source": [
    "println(\"Poisson RNG\")\n",
    "\n",
    "val N = 10_000\n",
    "val lambda: Double = 1.0\n",
    "\n",
    "val rng = Knuth1969(lambda)\n",
    "rng.seed(123456789L)\n",
    "\n",
    "var x: DoubleArray = DoubleArray(N)\n",
    "for (i in 0 until N) {\n",
    "    x[i] = rng.nextDouble()\n",
    "}\n",
    "\n",
    "// compute the sample statistics\n",
    "val mean = Mean(x)\n",
    "val variance = Variance(x)\n",
    "val skew = Skewness(x)\n",
    "val kurtosis = Kurtosis(x)\n",
    "\n",
    "// compute the theoretial statistics\n",
    "val dist: PoissonDistribution = PoissonDistribution(lambda)\n",
    "\n",
    "// compute the theoretial statistics\n",
    "printStats(dist, mean, variance, skew, kurtosis)"
   ]
  },
  {
   "cell_type": "code",
   "execution_count": 11,
   "metadata": {},
   "outputs": [
    {
     "name": "stdout",
     "output_type": "stream",
     "text": [
      "Exponential RNG\n",
      "theoretical mean = 1.000000, sample mean = 1.000983\n",
      "theoretical var = 1.000000, sample var = 0.996058\n",
      "theoretical skew = 2.000000, sample skew = 1.958222\n",
      "theoretical kurtosis = 6.000000, sample kurtosis = 5.489008\n"
     ]
    }
   ],
   "source": [
    "println(\"Exponential RNG\")\n",
    "\n",
    "val size = 500_000\n",
    "\n",
    "val rng = Ziggurat2000Exp()\n",
    "rng.seed(634641070L)\n",
    "\n",
    "var x: DoubleArray = DoubleArray(size)\n",
    "for (i in 0 until size) {\n",
    "    x[i] = rng.nextDouble()\n",
    "}\n",
    "\n",
    "// compute the sample statistics\n",
    "val mean = Mean(x)\n",
    "val variance = Variance(x)\n",
    "val skew = Skewness(x)\n",
    "val kurtosis = Kurtosis(x)\n",
    "\n",
    "// compute the theoretial statistics\n",
    "val dist: ProbabilityDistribution = ExponentialDistribution()\n",
    "\n",
    "// compute the theoretial statistics\n",
    "printStats(dist, mean, variance, skew, kurtosis)"
   ]
  },
  {
   "cell_type": "code",
   "execution_count": 12,
   "metadata": {},
   "outputs": [
    {
     "name": "stdout",
     "output_type": "stream",
     "text": [
      "Compute PI\n",
      "pi = 3.142492\n"
     ]
    }
   ],
   "source": [
    "println(\"Compute PI\")\n",
    "\n",
    "val N = 1_000_000\n",
    "\n",
    "val rvg = UniformDistributionOverBox(\n",
    "                RealInterval(-1.0, 1.0), // a unit square box\n",
    "                RealInterval(-1.0, 1.0))\n",
    "\n",
    "var N0 = 0\n",
    "for (i in 0 until N) {\n",
    "    val xy: DoubleArray = rvg.nextVector()\n",
    "    val x: Double = xy[0]\n",
    "    val y: Double = xy[1]\n",
    "    if (x * x + y * y <= 1.0) { // check if the dot is inside a circle\n",
    "        N0++\n",
    "    }\n",
    "}\n",
    "val pi: Double = 4.0 * N0 / N\n",
    "println(\"pi = \" + pi)"
   ]
  },
  {
   "cell_type": "code",
   "execution_count": 13,
   "metadata": {},
   "outputs": [
    {
     "name": "stdout",
     "output_type": "stream",
     "text": [
      "Normal RVG\n",
      "mean of X_1 = -2.007342\n",
      "mean of X_2 = 1.995800\n",
      "sample covariance = 2x2\n",
      "\t[,1] [,2] \n",
      "[1,] 1.003598, 0.496158, \n",
      "[2,] 0.496158, 1.012381, \n"
     ]
    }
   ],
   "source": [
    "println(\"Normal RVG\")\n",
    "\n",
    "// mean\n",
    "val mu: Vector = DenseVector(arrayOf(-2.0, 2.0))\n",
    "// covariance matrix\n",
    "val sigma: Matrix = DenseMatrix(\n",
    "    arrayOf(\n",
    "        doubleArrayOf(1.0, 0.5),\n",
    "        doubleArrayOf(0.5, 1.0)\n",
    "    )\n",
    ")\n",
    "\n",
    "val rvg = NormalRVG(mu, sigma)\n",
    "rvg.seed(1234567890L)\n",
    "\n",
    "val size = 10_000\n",
    "\n",
    "var mean1 = Mean()\n",
    "var mean2 = Mean()\n",
    "val X: Matrix = DenseMatrix(size, 2)\n",
    "\n",
    "for (i in 0 until size) {\n",
    "    val v: DoubleArray = rvg.nextVector()\n",
    "    mean1.addData(v[0])\n",
    "    mean2.addData(v[1])\n",
    "\n",
    "    X.set(i+1, 1, v[0])\n",
    "    X.set(i+1, 2, v[1])\n",
    "}\n",
    "\n",
    "println(String.format(\"mean of X_1 = %f\", mean1.value()))\n",
    "println(String.format(\"mean of X_2 = %f\", mean2.value()))\n",
    "\n",
    "val cov: SampleCovariance = SampleCovariance(X)\n",
    "println(String.format(\"sample covariance = %s\", cov.toString()))"
   ]
  },
  {
   "cell_type": "code",
   "execution_count": 14,
   "metadata": {},
   "outputs": [
    {
     "name": "stdout",
     "output_type": "stream",
     "text": [
      "sample covariance = 5x5\n",
      "\t[,1] [,2] [,3] [,4] [,5] \n",
      "[1,] 1.891462, -0.094053, 0.665669, 0.176962, -0.487023, \n",
      "[2,] -0.094053, 0.600273, -0.742584, 0.404512, -0.173547, \n",
      "[3,] 0.665669, -0.742584, 2.167306, -0.250672, 0.085099, \n",
      "[4,] 0.176962, 0.404512, -0.250672, 1.301751, -0.385892, \n",
      "[5,] -0.487023, -0.173547, 0.085099, -0.385892, 0.317301, \n"
     ]
    }
   ],
   "source": [
    "val X: Matrix = DenseMatrix(arrayOf(\n",
    "    doubleArrayOf(1.4022225, -0.04625344, 1.26176112, -1.8394428, 0.7182637), \n",
    "    doubleArrayOf(-0.2230975, 0.91561987, 1.17086252, 0.2282348, 0.0690674), \n",
    "    doubleArrayOf(0.6939930, 1.94611387, -0.82939259, 1.0905923, 0.1458883), \n",
    "    doubleArrayOf(-0.4050039, 0.18818663, -0.29040783, 0.6937185, 0.4664052),\n",
    "    doubleArrayOf(0.6587918, -0.10749210, 3.27376532, 0.5141217, 0.7691778), \n",
    "    doubleArrayOf(-2.5275280, 0.64942255, 0.07506224, -1.0787524, 1.6217606)))\n",
    "val cov: SampleCovariance = SampleCovariance(X)\n",
    "println(String.format(\"sample covariance = %s\", cov.toString()))"
   ]
  },
  {
   "cell_type": "code",
   "execution_count": 15,
   "metadata": {},
   "outputs": [
    {
     "name": "stdout",
     "output_type": "stream",
     "text": [
      "Multinomial RVG\n",
      "bin0 % = 0.698760, bin1 % = 0.301240\n"
     ]
    }
   ],
   "source": [
    "println(\"Multinomial RVG\")\n",
    "\n",
    "val rvg = MultinomialRVG(100_000, doubleArrayOf(0.7, 0.3)) // bin0 is 70% chance, bin1 30% chance\n",
    "val bin: DoubleArray = rvg.nextVector()\n",
    "\n",
    "var total: Double = 0.0\n",
    "for (i in 0 until bin.size) {\n",
    "    total += bin[i]\n",
    "}\n",
    "\n",
    "val bin0: Double = bin[0] / total // bin0 percentage\n",
    "val bin1: Double = bin[1] / total // bin0 percentage\n",
    "\n",
    "println(String.format(\"bin0 %% = %f, bin1 %% = %f\", bin0, bin1))"
   ]
  },
  {
   "cell_type": "code",
   "execution_count": 16,
   "metadata": {},
   "outputs": [
    {
     "name": "stdout",
     "output_type": "stream",
     "text": [
      "Empirical RNG\n",
      "mean = 0.070015, standard deviation = 0.984284\n",
      "ShapiroWilk statistics = 0.998377, pValue = 0.477164\n"
     ]
    }
   ],
   "source": [
    "println(\"Empirical RNG\")\n",
    "\n",
    "// we first generate some samples from standard normal distribution\n",
    "val uniform = MersenneTwister()\n",
    "uniform.seed(1234567890L)\n",
    "\n",
    "val rng1 = Zignor2005(uniform) // mean = 0, stdev = 1\n",
    "val N = 1000\n",
    "var x1: DoubleArray = DoubleArray(N)\n",
    "for (i in 0 until N) {\n",
    "    x1[i] = rng1.nextDouble()\n",
    "}\n",
    "\n",
    "// compute the empirical distribution function from the sample data\n",
    "val dist2 = EmpiricalDistribution(x1)\n",
    "\n",
    "// construct an RNG using inverse transform sampling method\n",
    "val rng2 = InverseTransformSampling(dist2)\n",
    "\n",
    "// generate some random variates from the RNG\n",
    "var x2 = DoubleArray(N)\n",
    "for (i in 0 until N) {\n",
    "    x2[i] = rng2.nextDouble()\n",
    "}\n",
    "\n",
    "// check the properties of the random variates\n",
    "val variance: Variance = Variance(x2)\n",
    "val mean: Double = variance.mean()\n",
    "val stdev: Double = variance.standardDeviation()\n",
    "println(String.format(\"mean = %f, standard deviation = %f\", mean, stdev))\n",
    "\n",
    "// check if the samples are normally distributed\n",
    "val test = ShapiroWilk(x2)\n",
    "println(String.format(\"ShapiroWilk statistics = %f, pValue = %f\", test.statistics(), test.pValue()))"
   ]
  },
  {
   "cell_type": "code",
   "execution_count": 17,
   "metadata": {},
   "outputs": [
    {
     "name": "stdout",
     "output_type": "stream",
     "text": [
      "Case resampling 1\n",
      "mean = 159.976000, variance of the estimated mean = 9.286711\n"
     ]
    }
   ],
   "source": [
    "println(\"Case resampling 1\")\n",
    "\n",
    "// sample from true population\n",
    "val sample: DoubleArray = doubleArrayOf(150.0, 155.0, 160.0, 165.0, 170.0)\n",
    "val boot = CaseResamplingReplacement(sample)\n",
    "boot.seed(1234567890L)\n",
    "\n",
    "val B = 1000\n",
    "var means = DoubleArray(B)\n",
    "for (i in 0 until B) {\n",
    "    val resample: DoubleArray = boot.newResample()\n",
    "    means[i] = Mean(resample).value()\n",
    "}\n",
    "\n",
    "// estimator of population mean\n",
    "val mean: Double = Mean(means).value()\n",
    "// variance of estimator limited by sample size (regardless of how big B is)\n",
    "val variance: Double = Variance(means, true).value()\n",
    "\n",
    "println(\n",
    "        String.format(\"mean = %f, variance of the estimated mean = %f\",\n",
    "                mean,\n",
    "                variance))"
   ]
  },
  {
   "cell_type": "code",
   "execution_count": 18,
   "metadata": {},
   "outputs": [
    {
     "name": "stdout",
     "output_type": "stream",
     "text": [
      "Case resampling 2\n",
      "mean = 159.976000, variance of the estimated mean = 9.286711\n"
     ]
    }
   ],
   "source": [
    "println(\"Case resampling 2\")\n",
    "\n",
    "// sample from true population\n",
    "val sample = doubleArrayOf(150.0, 155.0, 160.0, 165.0, 170.0)\n",
    "val boot = CaseResamplingReplacement(sample)\n",
    "boot.seed(1234567890L)\n",
    "\n",
    "val B = 1000\n",
    "val estimator = BootstrapEstimator(\n",
    "    boot, \n",
    "    object : StatisticFactory {\n",
    "        override fun getStatistic(): Statistic {\n",
    "            return Mean()\n",
    "        }\n",
    "    }, \n",
    "    B\n",
    ")\n",
    "\n",
    "println(\n",
    "        String.format(\"mean = %f, variance of the estimated mean = %f\",\n",
    "                estimator.value(),\n",
    "                estimator.variance()))"
   ]
  },
  {
   "cell_type": "code",
   "execution_count": 19,
   "metadata": {},
   "outputs": [
    {
     "name": "stdout",
     "output_type": "stream",
     "text": [
      "Bootstrapping methods\n",
      "matched patterns in sample: 39\n",
      "matched patterns in simple bootstrap: 316.8333000000017\n",
      "matched patterns in stationary block bootstrap: 45.12149999999989\n",
      "matched patterns in circular block bootstrap: 44.05029999999999\n"
     ]
    }
   ],
   "source": [
    "/**\n",
    "* Constructs a dependent sequence (consisting of 0 and 1) by retaining the\n",
    "* last value with probability <i>q</i> while changing the last value with\n",
    "* probability <i>1-q</i>.\n",
    "* <p/>\n",
    "* The simple bootstrapping method {@linkplain CaseResamplingReplacement}\n",
    "* will severely overestimate the occurrences of certain pattern, while\n",
    "* block bootstrapping method {@linkplain BlockBootstrap} gives a good\n",
    "* estimation of the occurrences in the original sample. All estimators over\n",
    "* estimate.\n",
    "*/\n",
    "\n",
    "println(\"Bootstrapping methods\")\n",
    "\n",
    "val N: Int = 10000\n",
    "val q: Double = 0.70 // the probability of retaining last value\n",
    "\n",
    "val uniformRNG = UniformRNG()\n",
    "uniformRNG.seed(1234567890L)\n",
    "\n",
    "// generate a randome series of 0s and 1s with serial correlation\n",
    "var sample: DoubleArray = DoubleArray(N)\n",
    "sample[0] = if(uniformRNG.nextDouble() > 0.5) 1.0 else 0.0\n",
    "for (i in 1 until N) {\n",
    "    sample[i] = if(uniformRNG.nextDouble() < q) sample[i - 1] else 1 - sample[i - 1]\n",
    "}\n",
    "\n",
    "// simple case resampling with replacement method\n",
    "val simpleBoot = CaseResamplingReplacement(sample, uniformRNG)\n",
    "val countInSimpleBootstrap = Mean()\n",
    "\n",
    "val rlg: RandomNumberGenerator = Ziggurat2000Exp()\n",
    "rlg.seed(1234567890L)\n",
    "\n",
    "// Patton-Politis-White method using stationary blocks\n",
    "val stationaryBlock = PattonPolitisWhite2009(\n",
    "                sample,\n",
    "                PattonPolitisWhite2009ForObject.Type.STATIONARY,\n",
    "                uniformRNG,\n",
    "                rlg)\n",
    "val countInStationaryBlockBootstrap = Mean()\n",
    "\n",
    "// Patton-Politis-White method using circular blocks\n",
    "val circularBlock = PattonPolitisWhite2009(\n",
    "                sample,\n",
    "                PattonPolitisWhite2009ForObject.Type.CIRCULAR,\n",
    "                uniformRNG,\n",
    "                rlg)\n",
    "val countInCircularBlockBootstrap= Mean()\n",
    "\n",
    "// change this line to use a different pattern\n",
    "val pattern: DoubleArray = doubleArrayOf(1.0, 0.0, 1.0, 0.0, 1.0)\n",
    "\n",
    "val B: Int = 10000\n",
    "for (i in 0 until B) {\n",
    "    // count the number of occurrences for the pattern in the series\n",
    "    var numberOfMatches = match(simpleBoot.newResample(), pattern)\n",
    "    countInSimpleBootstrap.addData(numberOfMatches)\n",
    "\n",
    "    // count the number of occurrences for the pattern in the series\n",
    "    numberOfMatches = match(stationaryBlock.newResample(), pattern)\n",
    "    countInStationaryBlockBootstrap.addData(numberOfMatches)\n",
    "\n",
    "    // count the number of occurrences for the pattern in the series\n",
    "    numberOfMatches = match(circularBlock.newResample(), pattern)\n",
    "    countInCircularBlockBootstrap.addData(numberOfMatches)\n",
    "}\n",
    "\n",
    "// compare the numbers of occurrences of the pattern using different bootstrap methods\n",
    "val countInSample = match(sample, pattern).toInt()\n",
    "println(\"matched patterns in sample: \" + countInSample)\n",
    "println(\"matched patterns in simple bootstrap: \" + countInSimpleBootstrap.value())\n",
    "println(\"matched patterns in stationary block bootstrap: \" + countInStationaryBlockBootstrap.value())\n",
    "println(\"matched patterns in circular block bootstrap: \" + countInCircularBlockBootstrap.value())"
   ]
  },
  {
   "cell_type": "code",
   "execution_count": 20,
   "metadata": {},
   "outputs": [
    {
     "name": "stdout",
     "output_type": "stream",
     "text": [
      "CRN\n",
      "d = 0.377383, variance = 0.002278\n",
      "d = 0.090606, variance = 0.182244\n"
     ]
    }
   ],
   "source": [
    "println(\"CRN\")\n",
    "\n",
    "val f: UnivariateRealFunction = object : AbstractUnivariateRealFunction() {\n",
    "\n",
    "    override fun evaluate(x: Double): Double {\n",
    "        val fx: Double = 2.0 - Math.sin(x) / x\n",
    "        return fx\n",
    "    }\n",
    "}\n",
    "\n",
    "val g: UnivariateRealFunction = object : AbstractUnivariateRealFunction() {\n",
    "\n",
    "    override fun evaluate(x: Double): Double {\n",
    "        val gx: Double = Math.exp(x * x) - 0.5\n",
    "        return gx\n",
    "    }\n",
    "}\n",
    "\n",
    "val X1: RandomLongGenerator = UniformRNG()\n",
    "X1.seed(1234567890L)\n",
    "\n",
    "val crn0: CommonRandomNumbers\n",
    "        = CommonRandomNumbers(\n",
    "                f,\n",
    "                g,\n",
    "                X1,\n",
    "                object : AbstractUnivariateRealFunction() { // another independent uniform RNG\n",
    "                    override fun evaluate(x: Double): Double {\n",
    "                        var X2: RandomLongGenerator = UniformRNG()\n",
    "                        X2.seed(246890123L)\n",
    "                        return X2.nextDouble()\n",
    "                    }\n",
    "        })\n",
    "val estimator0: Estimator = crn0.estimate(100_000)\n",
    "println(\n",
    "        String.format(\"d = %f, variance = %f\",\n",
    "                estimator0.mean(),\n",
    "                estimator0.variance()))\n",
    "\n",
    "val crn1: CommonRandomNumbers\n",
    "        = CommonRandomNumbers(f, g, X1) // use X1 for both f and g\n",
    "val estimator1: Estimator = crn1.estimate(100_000)\n",
    "println(\n",
    "        String.format(\"d = %f, variance = %f\",\n",
    "                estimator1.mean(),\n",
    "                estimator1.variance()))"
   ]
  },
  {
   "cell_type": "code",
   "execution_count": 21,
   "metadata": {},
   "outputs": [
    {
     "name": "stdout",
     "output_type": "stream",
     "text": [
      "Antithetic variates\n",
      "mean = 0.693158, variance = 0.000595\n"
     ]
    }
   ],
   "source": [
    "println(\"Antithetic variates\")\n",
    "\n",
    "val f: UnivariateRealFunction = object : AbstractUnivariateRealFunction() {\n",
    "\n",
    "    override fun evaluate(x: Double): Double {\n",
    "        val fx: Double = 1.0 / (1.0 + x)\n",
    "        return fx\n",
    "    }\n",
    "}\n",
    "\n",
    "val uniform: RandomLongGenerator = UniformRNG()\n",
    "uniform.seed(1234567894L)\n",
    "\n",
    "val av: AntitheticVariates = AntitheticVariates(\n",
    "                f,\n",
    "                uniform,\n",
    "                AntitheticVariates.REFLECTION)\n",
    "val estimator: Estimator = av.estimate(1500)\n",
    "println(\n",
    "        String.format(\n",
    "                \"mean = %f, variance = %f\",\n",
    "                estimator.mean(),\n",
    "                estimator.variance()))"
   ]
  },
  {
   "cell_type": "code",
   "execution_count": 22,
   "metadata": {},
   "outputs": [
    {
     "name": "stdout",
     "output_type": "stream",
     "text": [
      "Control variates\n",
      "mean = 0.692015, variance = 0.000601, b = -0.472669\n"
     ]
    }
   ],
   "source": [
    "println(\"Control variates\")\n",
    "\n",
    "val f: UnivariateRealFunction = object : AbstractUnivariateRealFunction() {\n",
    "\n",
    "    override fun evaluate(x: Double): Double {\n",
    "        val fx: Double = 1.0 / (1.0 + x)\n",
    "        return fx\n",
    "    }\n",
    "}\n",
    "\n",
    "val g: UnivariateRealFunction = object : AbstractUnivariateRealFunction() {\n",
    "\n",
    "    override fun evaluate(x: Double): Double {\n",
    "        val gx: Double = 1.0 + x\n",
    "        return gx\n",
    "    }\n",
    "}\n",
    "\n",
    "val uniform: RandomLongGenerator = UniformRNG()\n",
    "uniform.seed(1234567891L)\n",
    "\n",
    "val cv: ControlVariates = ControlVariates(f, g, 1.5, -0.4773, uniform)\n",
    "val estimator: ControlVariates.Estimator = cv.estimate(1500)\n",
    "println(\n",
    "        String.format(\n",
    "                \"mean = %f, variance = %f, b = %f\",\n",
    "                estimator.mean(),\n",
    "                estimator.variance(),\n",
    "                estimator.b()))"
   ]
  },
  {
   "cell_type": "code",
   "execution_count": 23,
   "metadata": {},
   "outputs": [
    {
     "name": "stdout",
     "output_type": "stream",
     "text": [
      "Importance sampling 1\n",
      "mean = 0.459671, variance = 0.047314\n"
     ]
    }
   ],
   "source": [
    "println(\"Importance sampling 1\")\n",
    "\n",
    "val h: UnivariateRealFunction = object : AbstractUnivariateRealFunction() {\n",
    "\n",
    "    override fun evaluate(x: Double): Double {\n",
    "        return x // the identity function\n",
    "    }\n",
    "}\n",
    "\n",
    "val w: UnivariateRealFunction = object : AbstractUnivariateRealFunction() {\n",
    "    val phi: Gaussian = Gaussian()\n",
    "    val N: StandardCumulativeNormal = CumulativeNormalMarsaglia()\n",
    "    val I: Double = N.evaluate(1.0) - N.evaluate(0.0)\n",
    "\n",
    "    override fun evaluate(x: Double): Double {\n",
    "        val w: Double = phi.evaluate(x) / I // the weight\n",
    "        return w\n",
    "    }\n",
    "}\n",
    "\n",
    "val rng: RandomNumberGenerator = UniformRNG()\n",
    "rng.seed(1234567892L)\n",
    "\n",
    "val imortsampl: ImportanceSampling = ImportanceSampling(h, w, rng)\n",
    "val estimator: Estimator = imortsampl.estimate(100000)\n",
    "println(\n",
    "        String.format(\n",
    "                \"mean = %f, variance = %f\",\n",
    "                estimator.mean(),\n",
    "                estimator.variance()))"
   ]
  },
  {
   "cell_type": "code",
   "execution_count": 24,
   "metadata": {},
   "outputs": [
    {
     "name": "stdout",
     "output_type": "stream",
     "text": [
      "Importance sampling 2\n",
      "1.016777 1.000049\n",
      "\n",
      "0.984924 1.000781\n",
      "\n",
      "1.075695 0.981736\n",
      "\n",
      "0.910973 1.023657\n",
      "\n",
      "0.908362 1.030897\n",
      "\n",
      "0.841806 1.048676\n",
      "\n",
      "1.007154 0.993348\n",
      "\n",
      "1.133367 0.955110\n",
      "\n",
      "1.182259 0.947664\n",
      "\n",
      "1.085175 0.984744\n",
      "\n"
     ]
    }
   ],
   "source": [
    "// from\n",
    "// https://www.scratchapixel.com/lessons/mathematics-physics-for-computer-graphics/monte-carlo-methods-in-practice/variance-reduction-methods\n",
    "println(\"Importance sampling 2\")\n",
    "\n",
    "val rng: RandomNumberGenerator = UniformRNG()\n",
    "rng.seed(1234567892L)\n",
    "\n",
    "val N: Int = 16\n",
    "for (n in 0 until 10) {\n",
    "    var sumUniform: Double = 0.0 \n",
    "    var sumImportance: Double = 0.0\n",
    "    for (i in 0 until N) {\n",
    "        val r: Double = rng.nextDouble()\n",
    "        sumUniform += sin(r * PI * 0.5)\n",
    "        val xi: Double = sqrt(r) * PI * 0.5\n",
    "        sumImportance += sin(xi) / ((8 * xi) / (PI * PI))\n",
    "    }\n",
    "    sumUniform *= (PI * 0.5) / N\n",
    "    sumImportance *= 1.0 / N\n",
    "    println(String.format(\"%f %f\\n\", sumUniform, sumImportance))\n",
    "}"
   ]
  },
  {
   "cell_type": "code",
   "execution_count": null,
   "metadata": {},
   "outputs": [],
   "source": []
  }
 ],
 "metadata": {
  "kernelspec": {
   "display_name": "Kotlin",
   "language": "kotlin",
   "name": "kotlin"
  },
  "language_info": {
   "codemirror_mode": "text/x-kotlin",
   "file_extension": ".kt",
   "mimetype": "text/x-kotlin",
   "name": "kotlin",
   "nbconvert_exporter": "",
   "pygments_lexer": "kotlin",
   "version": "1.6.20-dev-6372"
  }
 },
 "nbformat": 4,
 "nbformat_minor": 4
}
