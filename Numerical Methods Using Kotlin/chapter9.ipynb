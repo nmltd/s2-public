{
 "cells": [
  {
   "cell_type": "markdown",
   "metadata": {},
   "source": [
    "# Chapter 9"
   ]
  },
  {
   "cell_type": "code",
   "execution_count": 1,
   "metadata": {},
   "outputs": [
    {
     "name": "stdout",
     "output_type": "stream",
     "text": [
      "Chapter 9 demos\n"
     ]
    }
   ],
   "source": [
    "%use s2\n",
    "\n",
    "println(\"Chapter 9 demos\")"
   ]
  },
  {
   "cell_type": "code",
   "execution_count": 2,
   "metadata": {},
   "outputs": [
    {
     "name": "stdout",
     "output_type": "stream",
     "text": [
      "Solve univariate function by brute force search\n",
      "f([0.000000] ) = -4.000000\n"
     ]
    }
   ],
   "source": [
    "println(\"Solve univariate function by brute force search\")\n",
    "\n",
    "// define the optimization problem using an objective function\n",
    "val problem: OptimProblem = object : OptimProblem {\n",
    "\n",
    "    override fun dimension(): Int {\n",
    "        return 1\n",
    "    }\n",
    "\n",
    "    override fun f(): RealScalarFunction {\n",
    "        return object : RealScalarFunction {\n",
    "\n",
    "            // the objective function\n",
    "            override fun evaluate(v: Vector): Double {\n",
    "                val x: Double = v.get(1)\n",
    "                val polynomial: Polynomial = Polynomial(1.0, 0.0, -4.0) // f(x) = x^2 - 4\n",
    "                val fx: Double = polynomial.evaluate(x)\n",
    "                return fx\n",
    "            }\n",
    "\n",
    "            override fun dimensionOfDomain(): Int {\n",
    "                return 1\n",
    "            }\n",
    "\n",
    "            override fun dimensionOfRange(): Int {\n",
    "                return 1\n",
    "            }\n",
    "        }\n",
    "    }\n",
    "}\n",
    "\n",
    "// set up the solver to use and the solution\n",
    "val solver: DoubleBruteForceMinimizer = DoubleBruteForceMinimizer(false)\n",
    "val soln = solver.solve(problem)\n",
    "\n",
    "// for brute force search, we need to explicitly enumerate the values in the domain\n",
    "val domain = mutableListOf<Vector>(\n",
    "    DenseVector(-2.0),\n",
    "    DenseVector(-1.0),\n",
    "    DenseVector(0.0), // the minimizer\n",
    "    DenseVector(1.0),\n",
    "    DenseVector(2.0)\n",
    ")\n",
    "soln.setDomain(domain)\n",
    "\n",
    "println(String.format(\"f(%s) = %f\", soln.minimizer(), soln.min()))"
   ]
  },
  {
   "cell_type": "code",
   "execution_count": 3,
   "metadata": {},
   "outputs": [
    {
     "name": "stdout",
     "output_type": "stream",
     "text": [
      "Solve multivariate function by brute force search\n",
      "f([0.000000, 0.000000] ) = 0.000000\n"
     ]
    }
   ],
   "source": [
    "println(\"Solve multivariate function by brute force search\")\n",
    "\n",
    "val problem = object : OptimProblem {\n",
    "\n",
    "    override fun dimension(): Int {\n",
    "        return 2\n",
    "    }\n",
    "\n",
    "    override fun f(): RealScalarFunction {\n",
    "        return object : RealScalarFunction {\n",
    "\n",
    "            override fun evaluate(v: Vector): Double {\n",
    "                val x: Double= v.get(1)\n",
    "                val y: Double= v.get(2)\n",
    "\n",
    "                val fx: Double = x * x + y * y\n",
    "                return fx\n",
    "            }\n",
    "\n",
    "            override fun dimensionOfDomain(): Int {\n",
    "                return 2\n",
    "            }\n",
    "\n",
    "            override fun dimensionOfRange(): Int {\n",
    "                return 1\n",
    "            }\n",
    "        }\n",
    "    }\n",
    "}\n",
    "\n",
    "val bf = DoubleBruteForceMinimizer(true)\n",
    "val soln = bf.solve(problem)\n",
    "val domain = mutableListOf<Vector>(\n",
    "    DenseVector(-2.0, -2.0),\n",
    "    DenseVector(-1.0, -1.0),\n",
    "    DenseVector(0.0, 0.0), // the minimizer\n",
    "    DenseVector(1.0, 1.0),\n",
    "    DenseVector(2.0, 2.0)\n",
    ")\n",
    "        \n",
    "soln.setDomain(domain)\n",
    "\n",
    "println(String.format(\"f(%s) = %f\", soln.minimizer(), soln.min()))"
   ]
  },
  {
   "cell_type": "code",
   "execution_count": 4,
   "metadata": {},
   "outputs": [
    {
     "name": "stdout",
     "output_type": "stream",
     "text": [
      "Solve uniivariate function by brute force search\n",
      "f([0.000000] ) = -4.000000\n"
     ]
    }
   ],
   "source": [
    "println(\"Solve uniivariate function by brute force search\")\n",
    "\n",
    "// set up the solver to use and the solution\n",
    "val solver = DoubleBruteForceMinimizer(false)\n",
    "val soln = solver.solve(C2OptimProblemImpl(Polynomial(1.0, 0.0, -4.0))) // f(x) = x^2 - 4\n",
    "\n",
    "// for brute force search, we need to explicitly enumerate the values in the domain\n",
    "val domain = mutableListOf<Vector>(\n",
    "    DenseVector(-2.0),\n",
    "    DenseVector(-1.0),\n",
    "    DenseVector(0.0), // the minimizer\n",
    "    DenseVector(1.0),\n",
    "    DenseVector(2.0)\n",
    ")\n",
    "        \n",
    "soln.setDomain(domain)\n",
    "\n",
    "println(String.format(\"f(%s) = %f\", soln.minimizer(), soln.min()))"
   ]
  },
  {
   "cell_type": "code",
   "execution_count": 5,
   "metadata": {},
   "outputs": [
    {
     "name": "stdout",
     "output_type": "stream",
     "text": [
      "Solve multivariate function by brute force search\n",
      "f([0.000000, 0.000000] ) = 0.000000\n"
     ]
    }
   ],
   "source": [
    "println(\"Solve multivariate function by brute force search\")\n",
    "\n",
    "val bf = DoubleBruteForceMinimizer(true)\n",
    "val soln = bf.solve(\n",
    "        C2OptimProblemImpl(\n",
    "            object : AbstractBivariateRealFunction() {\n",
    "                    \n",
    "            override fun evaluate(x: Double, y: Double): Double {\n",
    "                val fx: Double  = x * x + y * y\n",
    "                return fx\n",
    "            }\n",
    "        }))\n",
    "\n",
    "val domain = mutableListOf<Vector>(\n",
    "    DenseVector(-2.0, -2.0),\n",
    "    DenseVector(-1.0, -1.0),\n",
    "    DenseVector(0.0, 0.0), // the minimizer\n",
    "    DenseVector(1.0, 1.0),\n",
    "    DenseVector(2.0, 2.0)\n",
    ")\n",
    "        \n",
    "soln.setDomain(domain)\n",
    "\n",
    "println(String.format(\"f(%s) = %f\", soln.minimizer(), soln.min()))"
   ]
  },
  {
   "cell_type": "code",
   "execution_count": 6,
   "metadata": {},
   "outputs": [
    {
     "name": "stdout",
     "output_type": "stream",
     "text": [
      "Solve loggamma function by bracketing\n",
      "f(1.463682) = -0.121484\n"
     ]
    }
   ],
   "source": [
    "println(\"Solve loggamma function by bracketing\")\n",
    "\n",
    "val logGamma = LogGamma() // the log-gamma function\n",
    "\n",
    "val solver1 = FibonaccMinimizer(1e-8, 15)\n",
    "val soln1: UnivariateMinimizer.Solution = solver1.solve(logGamma)\n",
    "val x_min_1: Double = soln1.search(0.0, 5.0)\n",
    "println(String.format(\"f(%f) = %f\", x_min_1, logGamma.evaluate(x_min_1)))"
   ]
  },
  {
   "cell_type": "code",
   "execution_count": 7,
   "metadata": {},
   "outputs": [
    {
     "name": "stdout",
     "output_type": "stream",
     "text": [
      "f(1.460813) = -0.121486\n"
     ]
    }
   ],
   "source": [
    "val solver2 = GoldenMinimizer(1e-8, 15)\n",
    "val soln2: UnivariateMinimizer.Solution = solver2.solve(logGamma)\n",
    "val x_min_2: Double = soln2.search(0.0, 5.0)\n",
    "println(String.format(\"f(%f) = %f\", x_min_2, logGamma.evaluate(x_min_2)))"
   ]
  },
  {
   "cell_type": "code",
   "execution_count": 8,
   "metadata": {},
   "outputs": [
    {
     "name": "stdout",
     "output_type": "stream",
     "text": [
      "f(1.461632) = -0.121486\n"
     ]
    }
   ],
   "source": [
    "val solver3 = BrentMinimizer(1e-8, 10)\n",
    "val soln3: UnivariateMinimizer.Solution = solver3.solve(logGamma)\n",
    "val x_min_3: Double = soln3.search(0.0, 5.0)\n",
    "println(String.format(\"f(%f) = %f\", x_min_3, logGamma.evaluate(x_min_3)))"
   ]
  },
  {
   "cell_type": "code",
   "execution_count": 9,
   "metadata": {},
   "outputs": [
    {
     "name": "stdout",
     "output_type": "stream",
     "text": [
      "Solve multivariate function by steepest-descent\n",
      "f([0.046380, 0.016330, 0.001634, 0.023189] ) = 0.000003\n"
     ]
    }
   ],
   "source": [
    "println(\"Solve multivariate function by steepest-descent\")\n",
    "\n",
    "// the objective function\n",
    "// the global minimizer is at x = [0,0,0,0]\n",
    "val f = object : RealScalarFunction {\n",
    "\n",
    "    override fun evaluate(x: Vector): Double {\n",
    "        val x1: Double = x.get(1)\n",
    "        val x2: Double = x.get(2)\n",
    "        val x3: Double = x.get(3)\n",
    "        val x4: Double = x.get(4)\n",
    "\n",
    "        var result: Double = (x1 - 4 * x2).pow(4)\n",
    "        result += 12 * (x3 - x4).pow(4)\n",
    "        result += 3 * (x2 - 10 * x3).pow(2)\n",
    "        result += 55 * (x1 - 2 * x4).pow(2)\n",
    "\n",
    "        return result\n",
    "    }\n",
    "\n",
    "    override fun dimensionOfDomain(): Int {\n",
    "        return 4\n",
    "    }\n",
    "\n",
    "    override fun dimensionOfRange(): Int {\n",
    "        return 1\n",
    "    }\n",
    "}\n",
    "\n",
    "// the gradient function\n",
    "val g = object : RealVectorFunction {\n",
    "\n",
    "    override fun evaluate(x: Vector): Vector {\n",
    "        val x1 = x.get(1)\n",
    "        val x2 = x.get(2)\n",
    "        val x3 = x.get(3)\n",
    "        val x4 = x.get(4)\n",
    "\n",
    "        var result = ArrayList<Double>(4)\n",
    "        result.add(0, 4 * (x1 - 4 * x2).pow(3) + 110 * (x1 - 2 * x4))\n",
    "        result.add(1, -16 * (x1 - 4 * x2).pow(3) + 6 * (x2 - 10 * x3)) \n",
    "        result.add(2, 48 * (x3 - x4).pow(3) - 60 * (x2 - 10 * x3))\n",
    "        result.add(3, -48 * (x3 - x4).pow(3) - 220 * (x1 - 2 * x4))\n",
    "        return DenseVector(result)\n",
    "    }\n",
    "\n",
    "    override fun dimensionOfDomain(): Int {\n",
    "        return 4\n",
    "    }\n",
    "\n",
    "    override fun dimensionOfRange(): Int {\n",
    "        return 4\n",
    "    }\n",
    "}\n",
    "\n",
    "val problem = C2OptimProblemImpl(f, g) // only gradient information\n",
    "val firstOrderMinimizer: SteepestDescentMinimizer\n",
    "        = FirstOrderMinimizer(\n",
    "                FirstOrderMinimizer.Method.IN_EXACT_LINE_SEARCH, // FirstOrderMinimizer.Method.ANALYTIC\n",
    "                1e-8,\n",
    "                40000\n",
    "        )\n",
    "val soln: IterativeSolution<Vector> = firstOrderMinimizer.solve(problem)\n",
    "\n",
    "val xmin: Vector = soln.search(DenseVector(1.0, -1.0, -1.0, 1.0))\n",
    "val f_xmin: Double = f.evaluate(xmin)\n",
    "println(String.format(\"f(%s) = %f\", xmin.toString(), f_xmin))"
   ]
  },
  {
   "cell_type": "code",
   "execution_count": 10,
   "metadata": {},
   "outputs": [
    {
     "name": "stdout",
     "output_type": "stream",
     "text": [
      "Solve multivariate function by Newton-Raphson\n",
      "f([0.000134, -0.000009, -0.000001, 0.000067] ) = 0.000000\n"
     ]
    }
   ],
   "source": [
    "println(\"Solve multivariate function by Newton-Raphson\")\n",
    "\n",
    "// the objective function\n",
    "// the global minimizer is at x = [0,0,0,0]\n",
    "val f = object : RealScalarFunction {\n",
    "\n",
    "    override fun evaluate(x: Vector): Double {\n",
    "        val x1: Double = x.get(1)\n",
    "        val x2: Double = x.get(2)\n",
    "        val x3: Double = x.get(3)\n",
    "        val x4: Double = x.get(4)\n",
    "\n",
    "        var result: Double = (x1 - 4 * x2).pow(4)\n",
    "        result += 12 * (x3 - x4).pow(4)\n",
    "        result += 3 * (x2 - 10 * x3).pow(2)\n",
    "        result += 55 * (x1 - 2 * x4).pow(2)\n",
    "\n",
    "        return result\n",
    "    }\n",
    "\n",
    "    override fun dimensionOfDomain(): Int {\n",
    "        return 4\n",
    "    }\n",
    "\n",
    "    override fun dimensionOfRange(): Int {\n",
    "        return 1\n",
    "    }\n",
    "}\n",
    "\n",
    "// the gradient function\n",
    "val g =  object : RealVectorFunction {\n",
    "\n",
    "    override fun evaluate(x: Vector): Vector {\n",
    "        val x1: Double = x.get(1)\n",
    "        val x2: Double = x.get(2)\n",
    "        val x3: Double = x.get(3)\n",
    "        val x4: Double = x.get(4)\n",
    "\n",
    "        var result = ArrayList<Double>(4)\n",
    "        result.add(0, 4 * (x1 - 4 * x2).pow(3) + 110 * (x1 - 2 * x4))\n",
    "        result.add(1, -16 * (x1 - 4 * x2).pow(3) + 6 * (x2 - 10 * x3))\n",
    "        result.add(2, 48 * (x3 - x4).pow(3) - 60 * (x2 - 10 * x3))\n",
    "        result.add(3, -48 * (x3 - x4).pow(3) - 220 * (x1 - 2 * x4))\n",
    "        return DenseVector(result)\n",
    "    }\n",
    "\n",
    "    override fun dimensionOfDomain(): Int {\n",
    "        return 4\n",
    "    }\n",
    "\n",
    "    override fun dimensionOfRange(): Int {\n",
    "        return 4\n",
    "    }\n",
    "}\n",
    "\n",
    "val problem = C2OptimProblemImpl(f, g) // use numerical Hessian\n",
    "val newtonRaphsonMinimizer: SteepestDescentMinimizer\n",
    "        = NewtonRaphsonMinimizer(\n",
    "                1e-8,\n",
    "                20\n",
    "        )\n",
    "val soln: IterativeSolution<Vector> = newtonRaphsonMinimizer.solve(problem)\n",
    "\n",
    "val xmin: Vector = soln.search(DenseVector(1.0, -1.0, -1.0, 1.0))\n",
    "val f_xmin: Double = f.evaluate(xmin)\n",
    "println(String.format(\"f(%s) = %f\", xmin.toString(), f_xmin))"
   ]
  },
  {
   "cell_type": "code",
   "execution_count": 11,
   "metadata": {},
   "outputs": [
    {
     "name": "stdout",
     "output_type": "stream",
     "text": [
      "Solve multivariate function by Gauss-Newton\n",
      "f([0.000007, -0.000000, -0.000000, 0.000003] ) = [0.000000, 0.000000, -0.000000, -0.000000] \n"
     ]
    }
   ],
   "source": [
    "println(\"Solve multivariate function by Gauss-Newton\")\n",
    "\n",
    "        // the objective function\n",
    "        //  the global minimizer is at x = [0,0,0,0]\n",
    "val f = object : RealVectorFunction {\n",
    "\n",
    "    override fun evaluate(x: Vector): Vector {\n",
    "        val x1: Double = x.get(1)\n",
    "        val x2: Double = x.get(2)\n",
    "        val x3: Double = x.get(3)\n",
    "        val x4: Double = x.get(4)\n",
    "\n",
    "        var fx = ArrayList<Double>(4)\n",
    "        fx.add(0, (x1 - 4 * x2).pow(2))\n",
    "        fx.add(1, sqrt(12.0) * (x3 - x4).pow(2))\n",
    "        fx.add(2, sqrt(3.0) * (x2 - 10 * x3))\n",
    "        fx.add(3, sqrt(55.0) * (x1 - 2 * x4))\n",
    "\n",
    "        return DenseVector(fx)\n",
    "    }\n",
    "\n",
    "    override fun dimensionOfDomain(): Int {\n",
    "        return 4\n",
    "    }\n",
    "\n",
    "    override fun dimensionOfRange(): Int {\n",
    "        return 4\n",
    "    }\n",
    "}\n",
    "\n",
    "// the Jacobian\n",
    "val J = object : RntoMatrix {\n",
    "\n",
    "    override fun evaluate(x: Vector): Matrix {\n",
    "        val x1: Double = x.get(1)\n",
    "        val x2: Double = x.get(2)\n",
    "        val x3: Double = x.get(3)\n",
    "        val x4: Double = x.get(4)\n",
    "\n",
    "        var Jx: Matrix = DenseMatrix(4, 4)\n",
    "\n",
    "        var value: Double = 2 * (x1 - 4 * x2)\n",
    "        Jx.set(1, 1, value)\n",
    "\n",
    "        value = -8 * (x1 - 4 * x2)\n",
    "        Jx.set(1, 2, value)\n",
    "\n",
    "        value = 2 * sqrt(12.0) * (x3 - x4)\n",
    "        Jx.set(2, 3, value)\n",
    "        Jx.set(2, 4, -value)\n",
    "\n",
    "        Jx.set(3, 2, sqrt(3.0))\n",
    "        Jx.set(3, 3, -10 * sqrt(3.0))\n",
    "\n",
    "        Jx.set(4, 1, sqrt(55.0))\n",
    "        Jx.set(4, 4, -2 * sqrt(55.0))\n",
    "\n",
    "        return Jx\n",
    "    }\n",
    "\n",
    "    override fun dimensionOfDomain(): Int {\n",
    "        return 4\n",
    "    }\n",
    "\n",
    "    override fun dimensionOfRange(): Int {\n",
    "        return 1\n",
    "    }\n",
    "}\n",
    "\n",
    "val optim1 = GaussNewtonMinimizer(1e-8, 10)\n",
    "\n",
    "val soln: IterativeSolution<Vector> = optim1.solve(f, J)//analytical gradient\n",
    "\n",
    "val xmin: Vector = soln.search(DenseVector(1.0, -1.0, -1.0, 1.0))\n",
    "println(String.format(\"f(%s) = %s\", xmin.toString(), f.evaluate(xmin).toString()))"
   ]
  },
  {
   "cell_type": "code",
   "execution_count": 12,
   "metadata": {},
   "outputs": [
    {
     "name": "stdout",
     "output_type": "stream",
     "text": [
      "Solve multivariate function by conjugate-direction methods\n",
      "f([3.000000, 2.000000] ) = 0.0000000000000000\n"
     ]
    }
   ],
   "source": [
    "println(\"Solve multivariate function by conjugate-direction methods\")\n",
    "\n",
    "        /**\n",
    "         * The Himmelblau function: f(x) = (x1^2 + x2 - 11)^2 + (x1 + x2^2 -\n",
    "         * 7)^2\n",
    "         */\n",
    "val f = object : RealScalarFunction {\n",
    "            \n",
    "    override fun evaluate(x: Vector): Double {\n",
    "        val x1: Double = x.get(1)\n",
    "        val x2: Double = x.get(2)\n",
    "\n",
    "        var result: Double = (x1 * x1 + x2 - 11).pow(2)\n",
    "        result += (x1 + x2 * x2 - 7).pow(2)\n",
    "\n",
    "        return result\n",
    "    }\n",
    "\n",
    "    override fun dimensionOfDomain(): Int {\n",
    "        return 2\n",
    "    }\n",
    "\n",
    "    override fun dimensionOfRange(): Int {\n",
    "        return 1\n",
    "    }\n",
    "}\n",
    "\n",
    "val g = object : RealVectorFunction {\n",
    "\n",
    "    override fun evaluate(x: Vector): Vector {\n",
    "        val x1: Double = x.get(1)\n",
    "        val x2: Double = x.get(2)\n",
    "\n",
    "        val w1: Double = x1 * x1 + x2 - 11\n",
    "        val w2: Double = x1 + x2 * x2 - 7\n",
    "\n",
    "        var result = ArrayList<Double>(2)\n",
    "        result.add(0, 4 * w1 * x1 + 2 * w2)\n",
    "        result.add(1, 2 * w1 + 4 * w2 * x2)\n",
    "        return DenseVector(result)\n",
    "    }\n",
    "\n",
    "    override fun dimensionOfDomain(): Int {\n",
    "        return 2\n",
    "    }\n",
    "\n",
    "    override fun dimensionOfRange(): Int {\n",
    "        return 2\n",
    "    }\n",
    "}\n",
    "val problem = C2OptimProblemImpl(f, g)\n",
    "\n",
    "val ConjugateGradientMinimizer\n",
    "        = ConjugateGradientMinimizer(1e-16, 40)\n",
    "val soln1: IterativeSolution<Vector> = ConjugateGradientMinimizer.solve(problem)\n",
    "val xmin1: Vector = soln1.search(DenseVector(6.0, 6.0))\n",
    "val f_xmin1: Double = f.evaluate(xmin1)\n",
    "println(String.format(\"f(%s) = %.16f\", xmin1.toString(), f_xmin1))"
   ]
  },
  {
   "cell_type": "code",
   "execution_count": 13,
   "metadata": {},
   "outputs": [
    {
     "name": "stdout",
     "output_type": "stream",
     "text": [
      "f([3.000002, 1.999998] ) = 0.0000000001278725\n"
     ]
    }
   ],
   "source": [
    "val fletcherReevesMinimizer\n",
    "        = FletcherReevesMinimizer(1e-16, 20)\n",
    "val soln2: IterativeSolution<Vector> = fletcherReevesMinimizer.solve(problem)\n",
    "val xmin2: Vector = soln2.search(DenseVector(6.0, 6.0))\n",
    "val f_xmin2: Double = f.evaluate(xmin2)\n",
    "println(String.format(\"f(%s) = %.16f\", xmin2.toString(), f_xmin2))"
   ]
  },
  {
   "cell_type": "code",
   "execution_count": 14,
   "metadata": {},
   "outputs": [
    {
     "name": "stdout",
     "output_type": "stream",
     "text": [
      "f([-2.805114, 3.131310] ) = 0.0000000007791914\n"
     ]
    }
   ],
   "source": [
    "val powellMinimizer: SteepestDescentMinimizer\n",
    "        = PowellMinimizer(1e-16, 20)\n",
    "val soln3: IterativeSolution<Vector> = powellMinimizer.solve(problem)\n",
    "val xmin3: Vector = soln3.search(DenseVector(6.0, 6.0))\n",
    "val f_xmin3: Double = f.evaluate(xmin3)\n",
    "println(String.format(\"f(%s) = %.16f\", xmin3.toString(), f_xmin3))"
   ]
  },
  {
   "cell_type": "code",
   "execution_count": 15,
   "metadata": {},
   "outputs": [
    {
     "name": "stdout",
     "output_type": "stream",
     "text": [
      "f([-2.805117, 3.131311] ) = 0.0000000001359077\n"
     ]
    }
   ],
   "source": [
    "val zangwillMinimizer: SteepestDescentMinimizer\n",
    "        = ZangwillMinimizer(1e-16, 1e-16, 20)\n",
    "val soln4: IterativeSolution<Vector> = zangwillMinimizer.solve(problem)\n",
    "val xmin4: Vector = soln4.search(DenseVector(6.0, 6.0))\n",
    "val f_xmin4: Double = f.evaluate(xmin4)\n",
    "println(String.format(\"f(%s) = %.16f\", xmin4.toString(), f_xmin4))"
   ]
  },
  {
   "cell_type": "code",
   "execution_count": 16,
   "metadata": {},
   "outputs": [
    {
     "name": "stdout",
     "output_type": "stream",
     "text": [
      "Solve multivariate function by quasi-Newton\n",
      "f([3.000000, 2.000000] ) = 0.0000000000000000\n"
     ]
    }
   ],
   "source": [
    "println(\"Solve multivariate function by quasi-Newton\")\n",
    "\n",
    "        /**\n",
    "         * The Himmelblau function: f(x) = (x1^2 + x2 - 11)^2 + (x1 + x2^2 -\n",
    "         * 7)^2\n",
    "         */\n",
    "val f = object : RealScalarFunction {\n",
    "\n",
    "    override fun evaluate(x: Vector): Double {\n",
    "        val x1: Double = x.get(1)\n",
    "        val x2: Double = x.get(2)\n",
    "\n",
    "        var result: Double = (x1 * x1 + x2 - 11).pow(2)\n",
    "        result += (x1 + x2 * x2 - 7).pow(2)\n",
    "\n",
    "        return result\n",
    "    }\n",
    "\n",
    "    override fun dimensionOfDomain(): Int {\n",
    "        return 2\n",
    "    }\n",
    "\n",
    "    override fun dimensionOfRange(): Int {\n",
    "        return 1\n",
    "    }\n",
    "}\n",
    "\n",
    "val g = object : RealVectorFunction {\n",
    "    \n",
    "    override fun evaluate(x: Vector): Vector {\n",
    "        val x1: Double = x.get(1)\n",
    "        val x2: Double = x.get(2)\n",
    "\n",
    "        val w1: Double = x1 * x1 + x2 - 11\n",
    "        val w2: Double = x1 + x2 * x2 - 7\n",
    "\n",
    "        var result = ArrayList<Double>(2)\n",
    "        result.add(0, 4 * w1 * x1 + 2 * w2)\n",
    "        result.add(1, 2 * w1 + 4 * w2 * x2)\n",
    "        return DenseVector(result)\n",
    "    }\n",
    "\n",
    "    override fun dimensionOfDomain(): Int {\n",
    "        return 2\n",
    "    }\n",
    "\n",
    "    override fun dimensionOfRange(): Int {\n",
    "        return 2\n",
    "    }\n",
    "}\n",
    "val problem = C2OptimProblemImpl(f, g)\n",
    "\n",
    "val rankOneMinimizer: QuasiNewtonMinimizer = RankOneMinimizer(1e-16, 15)\n",
    "val soln1: IterativeSolution<Vector> = rankOneMinimizer.solve(problem)\n",
    "var xmin: Vector = soln1.search(DenseVector(6.0, 6.0))\n",
    "var f_xmin: Double = f.evaluate(xmin)\n",
    "println(String.format(\"f(%s) = %.16f\", xmin.toString(), f_xmin))"
   ]
  },
  {
   "cell_type": "code",
   "execution_count": 17,
   "metadata": {},
   "outputs": [
    {
     "name": "stdout",
     "output_type": "stream",
     "text": [
      "f([3.000000, 2.000000] ) = 0.0000000000000000\n"
     ]
    }
   ],
   "source": [
    "val dfpMinimizer: QuasiNewtonMinimizer = DFPMinimizer(1e-16, 15)\n",
    "val soln2: IterativeSolution<Vector> = dfpMinimizer.solve(problem)\n",
    "xmin = soln2.search(DenseVector(6.0, 6.0))\n",
    "f_xmin = f.evaluate(xmin)\n",
    "println(String.format(\"f(%s) = %.16f\", xmin.toString(), f_xmin))"
   ]
  },
  {
   "cell_type": "code",
   "execution_count": 18,
   "metadata": {},
   "outputs": [
    {
     "name": "stdout",
     "output_type": "stream",
     "text": [
      "f([3.000000, 2.000000] ) = 0.0000000000000000\n"
     ]
    }
   ],
   "source": [
    "val bfgsMinimizer: QuasiNewtonMinimizer = BFGSMinimizer(false, 1e-16, 15)\n",
    "val soln3: IterativeSolution<Vector> = bfgsMinimizer.solve(problem)\n",
    "xmin = soln3.search(DenseVector(6.0, 6.0))\n",
    "f_xmin = f.evaluate(xmin)\n",
    "println(String.format(\"f(%s) = %.16f\", xmin.toString(), f_xmin))"
   ]
  },
  {
   "cell_type": "code",
   "execution_count": 19,
   "metadata": {},
   "outputs": [
    {
     "name": "stdout",
     "output_type": "stream",
     "text": [
      "f([3.000000, 2.000000] ) = 0.0000000000000000\n"
     ]
    }
   ],
   "source": [
    "val huangMinimizer: QuasiNewtonMinimizer = HuangMinimizer(0.0, 1.0, 0.0, 1.0, 1e-16, 15)\n",
    "val soln4: IterativeSolution<Vector> = huangMinimizer.solve(problem)\n",
    "xmin = soln4.search(DenseVector(6.0, 6.0))\n",
    "f_xmin = f.evaluate(xmin)\n",
    "println(String.format(\"f(%s) = %.16f\", xmin.toString(), f_xmin))"
   ]
  },
  {
   "cell_type": "code",
   "execution_count": 20,
   "metadata": {},
   "outputs": [
    {
     "name": "stdout",
     "output_type": "stream",
     "text": [
      "f([3.000000, 2.000000] ) = 0.0000000000000000\n"
     ]
    }
   ],
   "source": [
    "val pearsonMinimizer: QuasiNewtonMinimizer = PearsonMinimizer(1e-16, 15)\n",
    "val soln5: IterativeSolution<Vector> = pearsonMinimizer.solve(problem)\n",
    "xmin = soln5.search(DenseVector(6.0, 6.0))\n",
    "f_xmin = f.evaluate(xmin)\n",
    "println(String.format(\"f(%s) = %.16f\", xmin.toString(), f_xmin))"
   ]
  },
  {
   "cell_type": "code",
   "execution_count": null,
   "metadata": {},
   "outputs": [],
   "source": []
  }
 ],
 "metadata": {
  "kernelspec": {
   "display_name": "Kotlin",
   "language": "kotlin",
   "name": "kotlin"
  },
  "language_info": {
   "codemirror_mode": "text/x-kotlin",
   "file_extension": ".kt",
   "mimetype": "text/x-kotlin",
   "name": "kotlin",
   "nbconvert_exporter": "",
   "pygments_lexer": "kotlin",
   "version": "1.6.20-dev-6372"
  }
 },
 "nbformat": 4,
 "nbformat_minor": 4
}
