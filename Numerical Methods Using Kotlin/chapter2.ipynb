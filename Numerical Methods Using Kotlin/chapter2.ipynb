{
 "cells": [
  {
   "cell_type": "markdown",
   "metadata": {},
   "source": [
    "# Chapter 2"
   ]
  },
  {
   "cell_type": "code",
   "execution_count": 1,
   "metadata": {},
   "outputs": [
    {
     "name": "stdout",
     "output_type": "stream",
     "text": [
      "Chapter 2 demos\n"
     ]
    }
   ],
   "source": [
    "%use s2\n",
    "\n",
    "import java.util.Arrays\n",
    "import kotlin.collections.List\n",
    "\n",
    "println(\"Chapter 2 demos\")"
   ]
  },
  {
   "cell_type": "code",
   "execution_count": 2,
   "metadata": {},
   "outputs": [
    {
     "name": "stdout",
     "output_type": "stream",
     "text": [
      "Vectors\n",
      "v1 = [1.000000, 2.000000] \n"
     ]
    }
   ],
   "source": [
    "println(\"Vectors\")\n",
    "\n",
    "val v1: Vector = DenseVector(arrayOf(1.0, 2.0)) // define a vector\n",
    "println(String.format(\"v1 = %s\", v1)) // print out v1"
   ]
  },
  {
   "cell_type": "code",
   "execution_count": 3,
   "metadata": {},
   "outputs": [
    {
     "name": "stdout",
     "output_type": "stream",
     "text": [
      "v1 size = 2\n"
     ]
    }
   ],
   "source": [
    "val size: Int = v1.size() // 2\n",
    "println(String.format(\"v1 size = %d\", size))"
   ]
  },
  {
   "cell_type": "code",
   "execution_count": 4,
   "metadata": {},
   "outputs": [
    {
     "name": "stdout",
     "output_type": "stream",
     "text": [
      "v1_1 = 1.000000\n"
     ]
    }
   ],
   "source": [
    "val v1_1: Double = v1.get(1) // 1.0\n",
    "println(String.format(\"v1_1 = %f\", v1_1))"
   ]
  },
  {
   "cell_type": "code",
   "execution_count": 5,
   "metadata": {},
   "outputs": [
    {
     "name": "stdout",
     "output_type": "stream",
     "text": [
      "v1 = [1.000000, -2.000000] \n"
     ]
    }
   ],
   "source": [
    "v1.set(2, -2.0) // v1 becomes (1.0, -2.0)\n",
    "println(String.format(\"v1 = %s\", v1)) // print out v1"
   ]
  },
  {
   "cell_type": "code",
   "execution_count": 6,
   "metadata": {},
   "outputs": [],
   "source": [
    "val v2: Vector = DenseVector(arrayOf(-2.0, 1.0)) // define another vector"
   ]
  },
  {
   "cell_type": "code",
   "execution_count": 7,
   "metadata": {},
   "outputs": [
    {
     "name": "stdout",
     "output_type": "stream",
     "text": [
      "Addition\n",
      "a1 = [1.100000, -1.900000] \n",
      "a2 = [-1.000000, -1.000000] \n"
     ]
    }
   ],
   "source": [
    "// addition\n",
    "println(\"Addition\")\n",
    "val a1: Vector = v1.add(0.1) // add 0.1 to all entries\n",
    "println(String.format(\"a1 = %s\", a1)) // print out a1\n",
    "val a2: Vector = v1.add(v2) // a2 = v1 + v2, entry by entry\n",
    "println(String.format(\"a2 = %s\", a2)) // print out a2"
   ]
  },
  {
   "cell_type": "code",
   "execution_count": 8,
   "metadata": {},
   "outputs": [
    {
     "name": "stdout",
     "output_type": "stream",
     "text": [
      "Subtraction\n",
      "m1 = [0.900000, -2.100000] \n",
      "m2 = [3.000000, -3.000000] \n"
     ]
    }
   ],
   "source": [
    "// subtraction\n",
    "println(\"Subtraction\")\n",
    "val m1: Vector = v1.minus(0.1) // subtract 0.1 from all entries\n",
    "println(String.format(\"m1 = %s\", m1)) // print out m1\n",
    "val m2: Vector = v1.minus(v2) // v1 – v2, entry by entry\n",
    "println(String.format(\"m2 = %s\", m2)) // print out m2"
   ]
  },
  {
   "cell_type": "code",
   "execution_count": 9,
   "metadata": {},
   "outputs": [
    {
     "name": "stdout",
     "output_type": "stream",
     "text": [
      "Scaling\n",
      "s1 = [0.500000, -1.000000] \n"
     ]
    }
   ],
   "source": [
    "// scaling\n",
    "println(\"Scaling\")\n",
    "val s1: Vector = v1.scaled(0.5) // multiply all entries by 0.5\n",
    "println(String.format(\"s1 = %s\", s1)) // print out s1"
   ]
  },
  {
   "cell_type": "code",
   "execution_count": 10,
   "metadata": {},
   "outputs": [
    {
     "name": "stdout",
     "output_type": "stream",
     "text": [
      "Multiplication\n",
      "t1 = [-2.000000, -2.000000] \n"
     ]
    }
   ],
   "source": [
    "// multiplication\n",
    "println(\"Multiplication\")\n",
    "val t1: Vector = v1.multiply(v2) // multiply v1 by v2, entry by entry\n",
    "println(String.format(\"t1 = %s\", t1)) // print out t1"
   ]
  },
  {
   "cell_type": "code",
   "execution_count": 11,
   "metadata": {},
   "outputs": [
    {
     "name": "stdout",
     "output_type": "stream",
     "text": [
      "Division\n",
      "d1 = [-0.500000, -2.000000] \n"
     ]
    }
   ],
   "source": [
    "// division\n",
    "println(\"Division\")\n",
    "val d1: Vector = v1.divide(v2) // divide v1 by v2, entry by entry\n",
    "println(String.format(\"d1 = %s\", d1)) // print out d1"
   ]
  },
  {
   "cell_type": "code",
   "execution_count": 12,
   "metadata": {},
   "outputs": [
    {
     "name": "stdout",
     "output_type": "stream",
     "text": [
      "Power\n",
      "p1 = [1.000000, 4.000000] \n"
     ]
    }
   ],
   "source": [
    "// power\n",
    "println(\"Power\")\n",
    "val p1: Vector = v1.pow(2.0) // take to the square, entry-wise\n",
    "println(String.format(\"p1 = %s\", p1)) // print out p1"
   ]
  },
  {
   "cell_type": "code",
   "execution_count": 13,
   "metadata": {},
   "outputs": [
    {
     "name": "stdout",
     "output_type": "stream",
     "text": [
      "L1 norm = 7.000000\n",
      "L2 norm = 5.000000\n"
     ]
    }
   ],
   "source": [
    "// norm\n",
    "val v3: Vector = DenseVector(arrayOf(3.0, 4.0))\n",
    "val norm1: Double = v3.norm(1.0) // l1 norm = (3.0 + 4.0) = 7.0\n",
    "println(String.format(\"L1 norm = %f\", norm1))\n",
    "val norm2: Double = v3.norm() // l2 norm = sqrt(3^2 + 4^2) = 5, Pythagorean theorem\n",
    "println(String.format(\"L2 norm = %f\", norm2))"
   ]
  },
  {
   "cell_type": "code",
   "execution_count": 14,
   "metadata": {},
   "outputs": [
    {
     "name": "stdout",
     "output_type": "stream",
     "text": [
      "<[1.000000, 2.000000] ,[3.000000, 4.000000] > = 11.000000\n",
      "angle between [1.000000, 2.000000]  and [3.000000, 4.000000]  = 0.179853\n"
     ]
    }
   ],
   "source": [
    "// inner product and angle\n",
    "val v4: Vector = DenseVector(arrayOf(1.0, 2.0))\n",
    "val v5: Vector = DenseVector(arrayOf(3.0, 4.0))\n",
    "val dot: Double = v4.innerProduct(v5) // (1.*3. + 2.*4.) = 11.\n",
    "println(String.format(\"<%s,%s> = %f\", v4, v5, dot))\n",
    "val angle: Double = v4.angle(v5)\n",
    "println(String.format(\"angle between %s and %s = %f\", v4, v5, angle))"
   ]
  },
  {
   "cell_type": "code",
   "execution_count": 15,
   "metadata": {},
   "outputs": [
    {
     "name": "stdout",
     "output_type": "stream",
     "text": [
      "Matrices\n",
      "\n",
      "m1 = 3x3\n",
      "\t[,1] [,2] [,3] \n",
      "[1,] 1.000000, 2.000000, 3.000000, \n",
      "[2,] 4.000000, 5.000000, 6.000000, \n",
      "[3,] 7.000000, 8.000000, 9.000000, \n",
      "\n",
      "m2 = 3x3\n",
      "\t[,1] [,2] [,3] \n",
      "[1,] 1.000000, 2.000000, 3.000000, \n",
      "[2,] 4.000000, 5.000000, 6.000000, \n",
      "[3,] 7.000000, 8.000000, 9.000000, \n"
     ]
    }
   ],
   "source": [
    "println(\"Matrices\")\n",
    "\n",
    "// matrix construction\n",
    "val m1: Matrix = DenseMatrix(\n",
    "    arrayOf(\n",
    "        doubleArrayOf(1.0, 2.0, 3.0),\n",
    "        doubleArrayOf(4.0, 5.0, 6.0),\n",
    "        doubleArrayOf(7.0, 8.0, 9.0)\n",
    "    )\n",
    ")\n",
    "val m2: Matrix = DenseMatrix(m1) // copy the matrix m1\n",
    "println(String.format(\"\\nm1 = %s\", m1)) // print out the matrix m1\n",
    "println(String.format(\"\\nm2 = %s\", m2)) // print out the matrix m2"
   ]
  },
  {
   "cell_type": "code",
   "execution_count": 16,
   "metadata": {},
   "outputs": [
    {
     "name": "stdout",
     "output_type": "stream",
     "text": [
      "\n",
      "m3 = 3x1\n",
      "\t[,1] \n",
      "[1,] 1.000000, \n",
      "[2,] 2.000000, \n",
      "[3,] 3.000000, \n"
     ]
    }
   ],
   "source": [
    "// create a vector\n",
    "val v: Vector = DenseVector(arrayOf(1.0, 2.0, 3.0))\n",
    "// create a column matrix from a vector\n",
    "val m3: Matrix = DenseMatrix(v)\n",
    "println(String.format(\"\\nm3 = %s\", m3)) // print out the matrix m3"
   ]
  },
  {
   "cell_type": "code",
   "execution_count": 17,
   "metadata": {},
   "outputs": [
    {
     "name": "stdout",
     "output_type": "stream",
     "text": [
      "Inverse of an invertible matrix\n",
      "3x3\n",
      "\t[,1] [,2] [,3] \n",
      "[1,] 1.000000, 2.000000, 3.000000, \n",
      "[2,] 6.000000, 5.000000, 4.000000, \n",
      "[3,] 8.000000, 7.000000, 9.000000,  * \n",
      "3x3\n",
      "\t[,1] [,2] [,3] \n",
      "[1,] -0.809524, -0.142857, 0.333333, \n",
      "[2,] 1.047619, 0.714286, -0.666667, \n",
      "[3,] -0.095238, -0.428571, 0.333333,  = \n",
      "3x3\n",
      "\t[,1] [,2] [,3] \n",
      "[1,] 1.000000, 0.000000, 0.000000, \n",
      "[2,] -0.000000, 1.000000, 0.000000, \n",
      "[3,] -0.000000, -0.000000, 1.000000, \n"
     ]
    }
   ],
   "source": [
    "// compute the inverse of an invertible matrix \n",
    "println(\"Inverse of an invertible matrix\")\n",
    "val A: Matrix = DenseMatrix(\n",
    "    arrayOf(\n",
    "        doubleArrayOf(1.0, 2.0, 3.0),\n",
    "        doubleArrayOf(6.0, 5.0, 4.0),\n",
    "        doubleArrayOf(8.0, 7.0, 9.0)\n",
    "    )\n",
    ")\n",
    "        \n",
    "val Ainv: Matrix = Inverse(A)\n",
    "val I: Matrix = A.multiply(Ainv)\n",
    "println(String.format(\"%s * \\n%s = \\n%s\", A, Ainv, I))"
   ]
  },
  {
   "cell_type": "code",
   "execution_count": 18,
   "metadata": {},
   "outputs": [
    {
     "name": "stdout",
     "output_type": "stream",
     "text": [
      "\n",
      "The diagonal entries are: 1.000000, 5.000000, 9.000000\n",
      "\n",
      "Changing the diagonal to 0\n",
      "m1 = 3x3\n",
      "\t[,1] [,2] [,3] \n",
      "[1,] 0.000000, 2.000000, 3.000000, \n",
      "[2,] 4.000000, 0.000000, 6.000000, \n",
      "[3,] 7.000000, 8.000000, 0.000000, \n"
     ]
    }
   ],
   "source": [
    "// getters and setters\n",
    "val m1_11: Double = m1.get(1, 1)\n",
    "val m1_22: Double = m1.get(2, 2)\n",
    "val m1_33: Double = m1.get(3, 3)\n",
    "println(String.format(\"\\nThe diagonal entries are: %f, %f, %f\", m1_11, m1_22, m1_33))\n",
    "\n",
    "// changeing the diagonal to 0\n",
    "println(\"\\nChanging the diagonal to 0\")\n",
    "m1.set(1, 1, 0.0)\n",
    "m1.set(2, 2, 0.0)\n",
    "m1.set(3, 3, 0.0)\n",
    "println(String.format(\"m1 = %s\", m1)) // print out the matrix m1"
   ]
  },
  {
   "cell_type": "code",
   "execution_count": 19,
   "metadata": {},
   "outputs": [
    {
     "name": "stdout",
     "output_type": "stream",
     "text": [
      "Matrix Arithmetic\n",
      "true\n",
      "true\n"
     ]
    }
   ],
   "source": [
    "println(\"Matrix Arithmetic\")        \n",
    "val m1: Matrix = DenseMatrix(\n",
    "    arrayOf(\n",
    "        doubleArrayOf(1.0, 2.0, 3.0),\n",
    "        doubleArrayOf(4.0, 5.0, 6.0),\n",
    "        doubleArrayOf(7.0, 8.0, 9.0)\n",
    "    )\n",
    ")\n",
    "\n",
    "// m2 = -m1\n",
    "val m2: Matrix = m1.scaled(-1.0)\n",
    "\n",
    "// m3 = m1 + m2 = m1 - m1 = 0\n",
    "val m3: Matrix = m1.add(m2)\n",
    "\n",
    "// not a recommended usage\n",
    "val isEqual1: Boolean = m3.equals(m3.ZERO())\n",
    "println(isEqual1)\n",
    "\n",
    "// recommended usage\n",
    "val isEqual2: Boolean = MatrixPropertyUtils.areEqual(m3, m3.ZERO(), 1e-16)\n",
    "println(isEqual2)"
   ]
  },
  {
   "cell_type": "code",
   "execution_count": 20,
   "metadata": {},
   "outputs": [
    {
     "name": "stdout",
     "output_type": "stream",
     "text": [
      "Matrix transpose\n",
      "m1 = 3x3\n",
      "\t[,1] [,2] [,3] \n",
      "[1,] 1.000000, 2.000000, 3.000000, \n",
      "[2,] 4.000000, 5.000000, 6.000000, \n",
      "[3,] 7.000000, 8.000000, 9.000000, \n",
      "m1t = 3x3\n",
      "\t[,1] [,2] [,3] \n",
      "[1,] 1.000000, 4.000000, 7.000000, \n",
      "[2,] 2.000000, 5.000000, 8.000000, \n",
      "[3,] 3.000000, 6.000000, 9.000000, \n"
     ]
    }
   ],
   "source": [
    "println(\"Matrix transpose\")        \n",
    "val m1: Matrix = DenseMatrix(\n",
    "    arrayOf(\n",
    "        doubleArrayOf(1.0, 2.0, 3.0),\n",
    "        doubleArrayOf(4.0, 5.0, 6.0),\n",
    "        doubleArrayOf(7.0, 8.0, 9.0)\n",
    "    )\n",
    ")\n",
    "        \n",
    "println(String.format(\"m1 = %s\", m1)) // print out the matrix m1\n",
    "val m1t: Matrix = m1.t() // doing a transpose\n",
    "println(String.format(\"m1t = %s\", m1t)) // print out the transpose matrix"
   ]
  },
  {
   "cell_type": "code",
   "execution_count": 21,
   "metadata": {},
   "outputs": [
    {
     "name": "stdout",
     "output_type": "stream",
     "text": [
      "Matrix multiplication\n",
      "3x3\n",
      "\t[,1] [,2] [,3] \n",
      "[1,] 1.000000, 4.000000, 7.000000, \n",
      "[2,] 2.000000, 5.000000, 8.000000, \n",
      "[3,] 3.000000, 6.000000, 9.000000,  * \n",
      "3x3\n",
      "\t[,1] [,2] [,3] \n",
      "[1,] 1.000000, 2.000000, 3.000000, \n",
      "[2,] 4.000000, 5.000000, 6.000000, \n",
      "[3,] 7.000000, 8.000000, 9.000000,  = \n",
      "3x3\n",
      "\t[,1] [,2] [,3] \n",
      "[1,] 66.000000, 78.000000, 90.000000, \n",
      "[2,] 78.000000, 93.000000, 108.000000, \n",
      "[3,] 90.000000, 108.000000, 126.000000, \n"
     ]
    }
   ],
   "source": [
    "println(\"Matrix multiplication\")        \n",
    "val m1: Matrix = DenseMatrix(\n",
    "    arrayOf(\n",
    "        doubleArrayOf(1.0, 2.0, 3.0),\n",
    "        doubleArrayOf(4.0, 5.0, 6.0),\n",
    "        doubleArrayOf(7.0, 8.0, 9.0)\n",
    "    )\n",
    ")\n",
    "        \n",
    "val m1t: Matrix = m1.t()\n",
    "val m1tm1: Matrix = m1t.multiply(m1)\n",
    "println(String.format(\"%s * \\n%s = \\n%s\", m1t, m1, m1tm1))"
   ]
  },
  {
   "cell_type": "code",
   "execution_count": 2,
   "metadata": {},
   "outputs": [
    {
     "name": "stdout",
     "output_type": "stream",
     "text": [
      "Compute ranks of matrix\n",
      "Rank 1: 2\n",
      "Rank 2: 1\n"
     ]
    }
   ],
   "source": [
    "println(\"Compute ranks of matrix\")\n",
    "\n",
    "val PRECISION: Double = 1e-15\n",
    "val M1: Matrix = DenseMatrix(\n",
    "    arrayOf(\n",
    "        doubleArrayOf(1.0, 0.0, 1.0),\n",
    "        doubleArrayOf(-2.0, -3.0, 1.0),\n",
    "        doubleArrayOf(3.0, 3.0, 0.0)\n",
    "    )\n",
    ")\n",
    "        \n",
    "// calculate the rank of M1, treating numbers smaller than PRECISION as 0\n",
    "val rank1: Int = MatrixMeasure.rank(M1, PRECISION)\n",
    "println(\"Rank 1: ${rank1}\")        \n",
    "val M2: Matrix = DenseMatrix(\n",
    "    arrayOf(\n",
    "        doubleArrayOf(1.0, 1.0, 0.0, 2.0),\n",
    "        doubleArrayOf(-1.0, -1.0, 0.0, -2.0)\n",
    "    )\n",
    ")\n",
    "        \n",
    "// calculate the rank of M2, treating numbers smaller than PRECISION as 0\n",
    "val rank2: Int = MatrixMeasure.rank(M2, PRECISION)\n",
    "println(\"Rank 2: ${rank2}\")"
   ]
  },
  {
   "cell_type": "code",
   "execution_count": 3,
   "metadata": {},
   "outputs": [
    {
     "name": "stdout",
     "output_type": "stream",
     "text": [
      "Compute determinants of matrix\n",
      "Determinant: 5.0\n"
     ]
    }
   ],
   "source": [
    "println(\"Compute determinants of matrix\")\n",
    "\n",
    "val M1: Matrix = DenseMatrix(\n",
    "    arrayOf(\n",
    "        doubleArrayOf(2.0, 1.0, 2.0),\n",
    "        doubleArrayOf(3.0, 2.0, 2.0),\n",
    "        doubleArrayOf(1.0, 2.0, 3.0)\n",
    "    )\n",
    ")\n",
    "\n",
    "// calculate the determinant of matrix M1\n",
    "val det: Double = MatrixMeasure.det(M1)\n",
    "println(\"Determinant: ${det}\")"
   ]
  },
  {
   "cell_type": "code",
   "execution_count": 24,
   "metadata": {},
   "outputs": [
    {
     "name": "stdout",
     "output_type": "stream",
     "text": [
      "det of A1 = -0.5\n",
      "2x2\n",
      "\t[,1] [,2] \n",
      "[1,] -1.000000, 1.500000, \n",
      "[2,] 1.000000, -1.000000,  * \n",
      "2x2\n",
      "\t[,1] [,2] \n",
      "[1,] 2.000000, 3.000000, \n",
      "[2,] 2.000000, 2.000000,  = \n",
      "2x2\n",
      "\t[,1] [,2] \n",
      "[1,] 1.000000, 0.000000, \n",
      "[2,] 0.000000, 1.000000, \n"
     ]
    }
   ],
   "source": [
    "// compute the inverse of an invertible matrix        \n",
    "val A1: Matrix = DenseMatrix(\n",
    "    arrayOf(\n",
    "        doubleArrayOf(-1.0, 3.0 / 2),\n",
    "        doubleArrayOf(1.0, -1.0)\n",
    "    )\n",
    ")\n",
    "        \n",
    "val det1: Double = MatrixMeasure.det(A1)\n",
    "println(\"det of A1 = \" + det1)\n",
    "val Ainv1: Matrix = Inverse(A1)\n",
    "val I1: Matrix = A1.multiply(Ainv1)\n",
    "println(String.format(\"%s * \\n%s = \\n%s\", A1, Ainv1, I1))"
   ]
  },
  {
   "cell_type": "code",
   "execution_count": 4,
   "metadata": {},
   "outputs": [
    {
     "name": "stdout",
     "output_type": "stream",
     "text": [
      "det of A2 = 0.0\n",
      "The pseudo inverse is\n",
      "2x2\n",
      "\t[,1] [,2] \n",
      "[1,] 0.013793, 0.034483, \n",
      "[2,] 0.027586, 0.068966, \n",
      "It should be the same as the matrix\n",
      "2x2\n",
      "\t[,1] [,2] \n",
      "[1,] 2.000000, 4.000000, \n",
      "[2,] 5.000000, 10.000000, \n",
      "It should be the same as the pseudo inverse\n",
      "2x2\n",
      "\t[,1] [,2] \n",
      "[1,] 0.013793, 0.034483, \n",
      "[2,] 0.027586, 0.068966, \n"
     ]
    }
   ],
   "source": [
    "// compute the pseudo-inverse of a non-invertible matrix        \n",
    "val A2: Matrix = DenseMatrix(\n",
    "    arrayOf(\n",
    "        doubleArrayOf(2.0, 4.0),\n",
    "        doubleArrayOf(5.0, 10.0)\n",
    "    )\n",
    ")\n",
    "        \n",
    "val det2: Double = MatrixMeasure.det(A2)\n",
    "println(\"det of A2 = \" + det2)\n",
    "val A2p: PseudoInverse = PseudoInverse(A2)\n",
    "println(\"The pseudo inverse is\")\n",
    "println(A2p)\n",
    "// the first property of pseudo-inverse\n",
    "println(\"It should be the same as the matrix\")\n",
    "val A2_copy: Matrix = A2.multiply(A2p).multiply(A2)\n",
    "println(A2_copy)\n",
    "// the second property of pseudo-inverse\n",
    "println(\"It should be the same as the pseudo inverse\")\n",
    "val A2p_copy: Matrix = A2p.multiply(A2).multiply(A2p)\n",
    "println(A2p_copy)"
   ]
  },
  {
   "cell_type": "code",
   "execution_count": 5,
   "metadata": {},
   "outputs": [
    {
     "name": "stdout",
     "output_type": "stream",
     "text": [
      "The pseudo inverse is\n",
      "2x3\n",
      "\t[,1] [,2] [,3] \n",
      "[1,] 1.000000, 0.000000, 0.000000, \n",
      "[2,] 0.000000, 0.500000, 0.500000, \n",
      "It should be the same as the matrix\n",
      "3x2\n",
      "\t[,1] [,2] \n",
      "[1,] 1.000000, 0.000000, \n",
      "[2,] 0.000000, 1.000000, \n",
      "[3,] 0.000000, 1.000000, \n",
      "It should be the same as the pseudo inverse\n",
      "2x3\n",
      "\t[,1] [,2] [,3] \n",
      "[1,] 1.000000, 0.000000, 0.000000, \n",
      "[2,] 0.000000, 0.500000, 0.500000, \n"
     ]
    }
   ],
   "source": [
    "// compute the pseudo-inverse of a non-square matrix        \n",
    "val A3: Matrix = DenseMatrix(\n",
    "    arrayOf(\n",
    "        doubleArrayOf(1.0, 0.0),\n",
    "        doubleArrayOf(0.0, 1.0),\n",
    "        doubleArrayOf(0.0, 1.0)\n",
    "    )\n",
    ")\n",
    "        \n",
    "val A3p: PseudoInverse = PseudoInverse(A3)\n",
    "println(\"The pseudo inverse is\")\n",
    "println(A3p)\n",
    "// the first property of pseudo-inverse\n",
    "println(\"It should be the same as the matrix\")\n",
    "val A3_copy: Matrix = A3.multiply(A3p).multiply(A3)\n",
    "println(A3_copy)\n",
    "// the second property of pseudo-inverse\n",
    "println(\"It should be the same as the pseudo inverse\")\n",
    "val A3p_copy: Matrix = A3p.multiply(A3).multiply(A3p)\n",
    "println(A3p_copy)"
   ]
  },
  {
   "cell_type": "code",
   "execution_count": 27,
   "metadata": {},
   "outputs": [
    {
     "name": "stdout",
     "output_type": "stream",
     "text": [
      "Kronecker products\n",
      "2x2\n",
      "\t[,1] [,2] \n",
      "[1,] 1.000000, 2.000000, \n",
      "[2,] 3.000000, 4.000000,  ⊗ \n",
      "2x2\n",
      "\t[,1] [,2] \n",
      "[1,] 0.000000, 5.000000, \n",
      "[2,] 6.000000, 7.000000,  = \n",
      "4x4\n",
      "\t[,1] [,2] [,3] [,4] \n",
      "[1,] 0.000000, 5.000000, 0.000000, 10.000000, \n",
      "[2,] 6.000000, 7.000000, 12.000000, 14.000000, \n",
      "[3,] 0.000000, 15.000000, 0.000000, 20.000000, \n",
      "[4,] 18.000000, 21.000000, 24.000000, 28.000000, \n"
     ]
    }
   ],
   "source": [
    "println(\"Kronecker products\")\n",
    "\n",
    "val A1 = DenseMatrix(\n",
    "    arrayOf(\n",
    "        doubleArrayOf(1.0, 2.0),\n",
    "        doubleArrayOf(3.0, 4.0)\n",
    "    )\n",
    ")\n",
    "        \n",
    "val B1 = DenseMatrix(\n",
    "    arrayOf(\n",
    "        doubleArrayOf(0.0, 5.0),\n",
    "        doubleArrayOf(6.0, 7.0)\n",
    "    )\n",
    ")\n",
    "        \n",
    "val C1 = KroneckerProduct(A1, B1)\n",
    "println(String.format(\"%s ⊗ \\n%s = \\n%s\", A1, B1, C1))"
   ]
  },
  {
   "cell_type": "code",
   "execution_count": 28,
   "metadata": {},
   "outputs": [
    {
     "name": "stdout",
     "output_type": "stream",
     "text": [
      "2x3\n",
      "\t[,1] [,2] [,3] \n",
      "[1,] 1.000000, -4.000000, 7.000000, \n",
      "[2,] -2.000000, 3.000000, 3.000000,  ⊗ \n",
      "4x4\n",
      "\t[,1] [,2] [,3] [,4] \n",
      "[1,] 8.000000, -9.000000, -6.000000, 5.000000, \n",
      "[2,] 1.000000, -3.000000, -4.000000, 7.000000, \n",
      "[3,] 2.000000, 8.000000, -8.000000, -3.000000, \n",
      "[4,] 1.000000, 2.000000, -5.000000, -1.000000,  = \n",
      "8x12\n",
      "\t[,1] [,2] [,3] [,4] [,5] [,6] [,7] [,8] [,9] [,10] [,11] [,12] \n",
      "[1,] 8.000000, -9.000000, -6.000000, 5.000000, -32.000000, 36.000000, 24.000000, -20.000000, 56.000000, -63.000000, -42.000000, 35.000000, \n",
      "[2,] 1.000000, -3.000000, -4.000000, 7.000000, -4.000000, 12.000000, 16.000000, -28.000000, 7.000000, -21.000000, -28.000000, 49.000000, \n",
      "[3,] 2.000000, 8.000000, -8.000000, -3.000000, -8.000000, -32.000000, 32.000000, 12.000000, 14.000000, 56.000000, -56.000000, -21.000000, \n",
      "[4,] 1.000000, 2.000000, -5.000000, -1.000000, -4.000000, -8.000000, 20.000000, 4.000000, 7.000000, 14.000000, -35.000000, -7.000000, \n",
      "[5,] -16.000000, 18.000000, 12.000000, -10.000000, 24.000000, -27.000000, -18.000000, 15.000000, 24.000000, -27.000000, -18.000000, 15.000000, \n",
      "[6,] -2.000000, 6.000000, 8.000000, -14.000000, 3.000000, -9.000000, -12.000000, 21.000000, 3.000000, -9.000000, -12.000000, 21.000000, \n",
      "[7,] -4.000000, -16.000000, 16.000000, 6.000000, 6.000000, 24.000000, -24.000000, -9.000000, 6.000000, 24.000000, -24.000000, -9.000000, \n",
      "[8,] -2.000000, -4.000000, 10.000000, 2.000000, 3.000000, 6.000000, -15.000000, -3.000000, 3.000000, 6.000000, -15.000000, -3.000000, \n"
     ]
    }
   ],
   "source": [
    "val A2 = DenseMatrix(\n",
    "    arrayOf(\n",
    "        doubleArrayOf(1.0, -4.0, 7.0),\n",
    "        doubleArrayOf(-2.0, 3.0, 3.0)\n",
    "    )\n",
    ")\n",
    "        \n",
    "val B2 = DenseMatrix(\n",
    "    arrayOf(\n",
    "        doubleArrayOf(8.0, -9.0, -6.0, 5.0),\n",
    "        doubleArrayOf(1.0, -3.0, -4.0, 7.0),\n",
    "        doubleArrayOf(2.0, 8.0, -8.0, -3.0),\n",
    "        doubleArrayOf(1.0, 2.0, -5.0, -1.0)\n",
    "    )\n",
    ")\n",
    "        \n",
    "val C2 = KroneckerProduct(A2, B2)\n",
    "println(String.format(\"%s ⊗ \\n%s = \\n%s\", A2, B2, C2))"
   ]
  },
  {
   "cell_type": "code",
   "execution_count": 29,
   "metadata": {},
   "outputs": [
    {
     "name": "stdout",
     "output_type": "stream",
     "text": [
      "LU decomposition\n"
     ]
    }
   ],
   "source": [
    "println(\"LU decomposition\")\n",
    "        \n",
    "val A: Matrix = DenseMatrix(\n",
    "    arrayOf(\n",
    "        doubleArrayOf(1.0, 2.0, 3.0),\n",
    "        doubleArrayOf(4.0, 5.0, 6.0),\n",
    "        doubleArrayOf(7.0, 8.0, 9.0)\n",
    "    )\n",
    ")\n",
    "        \n",
    "// perform LU decomposition\n",
    "val lu: LU = LU(A)"
   ]
  },
  {
   "cell_type": "code",
   "execution_count": 30,
   "metadata": {},
   "outputs": [
    {
     "name": "stdout",
     "output_type": "stream",
     "text": [
      "P = 3x3\n",
      "\t[,1] [,2] [,3] \n",
      "[1,] 0.000000, 0.000000, 1.000000, \n",
      "[2,] 1.000000, 0.000000, 0.000000, \n",
      "[3,] 0.000000, 1.000000, 0.000000, \n"
     ]
    }
   ],
   "source": [
    "val P: PermutationMatrix = lu.P()\n",
    "println(String.format(\"P = %s\", P))"
   ]
  },
  {
   "cell_type": "code",
   "execution_count": 31,
   "metadata": {},
   "outputs": [
    {
     "name": "stdout",
     "output_type": "stream",
     "text": [
      "L = 3x3\n",
      "\t[,1] [,2] [,3] \n",
      "[1,] 1.000000, 0.000000, 0.000000, \n",
      "[2,] 0.142857, 1.000000, 0.000000, \n",
      "[3,] 0.571429, 0.500000, 1.000000, \n"
     ]
    }
   ],
   "source": [
    "val L: LowerTriangularMatrix = lu.L()\n",
    "println(String.format(\"L = %s\", L))"
   ]
  },
  {
   "cell_type": "code",
   "execution_count": 32,
   "metadata": {},
   "outputs": [
    {
     "name": "stdout",
     "output_type": "stream",
     "text": [
      "U = 3x3\n",
      "\t[,1] [,2] [,3] \n",
      "[1,] 7.000000, 8.000000, 9.000000, \n",
      "[2,] 0.000000, 0.857143, 1.714286, \n",
      "[3,] 0.000000, 0.000000, 0.000000, \n"
     ]
    }
   ],
   "source": [
    "val U: UpperTriangularMatrix = lu.U()\n",
    "println(String.format(\"U = %s\", U))"
   ]
  },
  {
   "cell_type": "code",
   "execution_count": 33,
   "metadata": {},
   "outputs": [
    {
     "name": "stdout",
     "output_type": "stream",
     "text": [
      "3x3\n",
      "\t[,1] [,2] [,3] \n",
      "[1,] 7.000000, 8.000000, 9.000000, \n",
      "[2,] 1.000000, 2.000000, 3.000000, \n",
      "[3,] 4.000000, 5.000000, 6.000000,  = \n",
      "3x3\n",
      "\t[,1] [,2] [,3] \n",
      "[1,] 7.000000, 8.000000, 9.000000, \n",
      "[2,] 1.000000, 2.000000, 3.000000, \n",
      "[3,] 4.000000, 5.000000, 6.000000,  is true\n"
     ]
    }
   ],
   "source": [
    "val PA: Matrix = P.multiply(A)\n",
    "val LU: Matrix = L.multiply(U)\n",
    "// verify that PA = LU\n",
    "println(String.format(\"%s = \\n%s is %b\",\n",
    "        PA,\n",
    "        LU,\n",
    "        MatrixPropertyUtils.areEqual(PA, LU, 1e-14)))"
   ]
  },
  {
   "cell_type": "code",
   "execution_count": 34,
   "metadata": {},
   "outputs": [
    {
     "name": "stdout",
     "output_type": "stream",
     "text": [
      "Cholesky decomposition\n",
      "\n",
      "L = 3x3\n",
      "\t[,1] [,2] [,3] \n",
      "[1,] 2.000000, 0.000000, 0.000000, \n",
      "[2,] 6.000000, 1.000000, 0.000000, \n",
      "[3,] -8.000000, 5.000000, 3.000000, \n"
     ]
    }
   ],
   "source": [
    "println(\"Cholesky decomposition\")\n",
    "        \n",
    "val A: Matrix = DenseMatrix(\n",
    "    arrayOf(\n",
    "        doubleArrayOf(4.0, 12.0, -16.0),\n",
    "        doubleArrayOf(12.0, 37.0, -43.0),\n",
    "        doubleArrayOf(-16.0, -43.0, 98.0)\n",
    "    )\n",
    ")\n",
    "        \n",
    "val chol: Cholesky = Chol(A)\n",
    "val L: LowerTriangularMatrix = chol.L()\n",
    "val Lt: UpperTriangularMatrix = chol.L().t()\n",
    "println(String.format(\"\\nL = %s\", L))"
   ]
  },
  {
   "cell_type": "code",
   "execution_count": 35,
   "metadata": {},
   "outputs": [
    {
     "name": "stdout",
     "output_type": "stream",
     "text": [
      "Lt = 3x3\n",
      "\t[,1] [,2] [,3] \n",
      "[1,] 2.000000, 6.000000, -8.000000, \n",
      "[2,] 0.000000, 1.000000, 5.000000, \n",
      "[3,] 0.000000, 0.000000, 3.000000, \n"
     ]
    }
   ],
   "source": [
    "println(String.format(\"Lt = %s\", Lt))"
   ]
  },
  {
   "cell_type": "code",
   "execution_count": 36,
   "metadata": {},
   "outputs": [
    {
     "name": "stdout",
     "output_type": "stream",
     "text": [
      "3x3\n",
      "\t[,1] [,2] [,3] \n",
      "[1,] 4.000000, 12.000000, -16.000000, \n",
      "[2,] 12.000000, 37.000000, -43.000000, \n",
      "[3,] -16.000000, -43.000000, 98.000000,  = \n",
      "3x3\n",
      "\t[,1] [,2] [,3] \n",
      "[1,] 4.000000, 12.000000, -16.000000, \n",
      "[2,] 12.000000, 37.000000, -43.000000, \n",
      "[3,] -16.000000, -43.000000, 98.000000,  is true\n"
     ]
    }
   ],
   "source": [
    "val LLt: Matrix = L.multiply(Lt)\n",
    "// verify that A = LLt\n",
    "println(String.format(\"%s = \\n%s is %b\",\n",
    "        A,\n",
    "        LLt,\n",
    "        MatrixPropertyUtils.areEqual(A, LLt, 1e-14)))"
   ]
  },
  {
   "cell_type": "code",
   "execution_count": 37,
   "metadata": {},
   "outputs": [
    {
     "name": "stdout",
     "output_type": "stream",
     "text": [
      "Hessenberg decomposition\n"
     ]
    }
   ],
   "source": [
    "println(\"Hessenberg decomposition\")\n",
    "        \n",
    "val A: Matrix = DenseMatrix(\n",
    "    arrayOf(\n",
    "        doubleArrayOf(1.0, 5.0, 7.0, 9.0),\n",
    "        doubleArrayOf(3.0, 0.0, 6.0, 3.0),\n",
    "        doubleArrayOf(4.0, 3.0, 1.0, 0.0),\n",
    "        doubleArrayOf(7.0, 13.0, 2.0, 10.0)\n",
    "    )\n",
    ")\n",
    "        \n",
    "val hessenberg: HessenbergDecomposition = HessenbergDecomposition(A)"
   ]
  },
  {
   "cell_type": "code",
   "execution_count": 38,
   "metadata": {},
   "outputs": [
    {
     "name": "stdout",
     "output_type": "stream",
     "text": [
      "H = \n",
      "4x4\n",
      "\t[,1] [,2] [,3] [,4] \n",
      "[1,] 1.000000, -12.322250, -1.533240, -0.900742, \n",
      "[2,] -8.602325, 13.594595, -1.657558, 7.593136, \n",
      "[3,] 0.000000, -5.460964, 2.073954, -1.404349, \n",
      "[4,] 0.000000, 0.000000, 4.989271, -4.668549,  is Hessenberg, true\n"
     ]
    }
   ],
   "source": [
    "val H: Matrix = hessenberg.H()\n",
    "println(String.format(\n",
    "        \"H = \\n%s is Hessenberg, %b\",\n",
    "        H,\n",
    "        Hessenberg.isHessenberg(H, 0.0)))"
   ]
  },
  {
   "cell_type": "code",
   "execution_count": 39,
   "metadata": {},
   "outputs": [
    {
     "name": "stdout",
     "output_type": "stream",
     "text": [
      "Q = \n",
      "4x4\n",
      "\t[,1] [,2] [,3] [,4] \n",
      "[1,] 1.000000, 0.000000, 0.000000, 0.000000, \n",
      "[2,] 0.000000, -0.348743, 0.089751, -0.932911, \n",
      "[3,] 0.000000, -0.464991, -0.880822, 0.089084, \n",
      "[4,] 0.000000, -0.813733, 0.464862, 0.348914,  is orthogonal, true\n"
     ]
    }
   ],
   "source": [
    "val Q: Matrix = hessenberg.Q()\n",
    "println(String.format(\n",
    "        \"Q = \\n%s is orthogonal, %b\",\n",
    "        Q,\n",
    "        MatrixPropertyUtils.isOrthogonal(Q, 1e-14)))"
   ]
  },
  {
   "cell_type": "code",
   "execution_count": 40,
   "metadata": {},
   "outputs": [
    {
     "name": "stdout",
     "output_type": "stream",
     "text": [
      "4x4\n",
      "\t[,1] [,2] [,3] [,4] \n",
      "[1,] 1.000000, -12.322250, -1.533240, -0.900742, \n",
      "[2,] -8.602325, 13.594595, -1.657558, 7.593136, \n",
      "[3,] 0.000000, -5.460964, 2.073954, -1.404349, \n",
      "[4,] 0.000000, 0.000000, 4.989271, -4.668549,  = \n",
      "4x4\n",
      "\t[,1] [,2] [,3] [,4] \n",
      "[1,] 1.000000, -12.322250, -1.533240, -0.900742, \n",
      "[2,] -8.602325, 13.594595, -1.657558, 7.593136, \n",
      "[3,] 0.000000, -5.460964, 2.073954, -1.404349, \n",
      "[4,] -0.000000, 0.000000, 4.989271, -4.668549,  is true\n"
     ]
    }
   ],
   "source": [
    "// verify that Qt * A * Q = H\n",
    "val QtAQ: Matrix = Q.t().multiply(A).multiply(Q)\n",
    "println(String.format(\"%s = \\n%s is %b\",\n",
    "        H,\n",
    "        QtAQ,\n",
    "        MatrixPropertyUtils.isOrthogonal(Q, 1e-14)))"
   ]
  },
  {
   "cell_type": "code",
   "execution_count": 41,
   "metadata": {},
   "outputs": [
    {
     "name": "stdout",
     "output_type": "stream",
     "text": [
      "Tri-diagonalization\n"
     ]
    }
   ],
   "source": [
    "println(\"Tri-diagonalization\")\n",
    "\n",
    "// define a symmetric matrix        \n",
    "val S: Matrix = SymmetricMatrix(\n",
    "    arrayOf(\n",
    "        doubleArrayOf(1.0),\n",
    "        doubleArrayOf(5.0, 0.0),\n",
    "        doubleArrayOf(7.0, 3.0, 1.0),\n",
    "        doubleArrayOf(9.0, 13.0, 2.0, 10.0)\n",
    "    )\n",
    ")\n",
    "\n",
    "val triDiagonalization: TriDiagonalization = TriDiagonalization(S)"
   ]
  },
  {
   "cell_type": "code",
   "execution_count": 42,
   "metadata": {},
   "outputs": [
    {
     "name": "stdout",
     "output_type": "stream",
     "text": [
      "T = \n",
      "4x4\n",
      "\t[,1] [,2] [,3] [,4] \n",
      "[1,] 1.000000, -12.449900, 0.000000, 0.000000, \n",
      "[2,] -12.449900, 16.070968, -7.692568, 0.000000, \n",
      "[3,] 0.000000, -7.692568, 1.696818, 4.454810, \n",
      "[4,] 0.000000, 0.000000, 4.454810, -6.767786,  is tri-diagonal, true\n"
     ]
    }
   ],
   "source": [
    "val T: Matrix = triDiagonalization.T()\n",
    "println(String.format(\n",
    "        \"T = \\n%s is tri-diagonal, %b\",\n",
    "        T,\n",
    "        MatrixPropertyUtils.isTridiagonal(T, 1e-14)))"
   ]
  },
  {
   "cell_type": "code",
   "execution_count": 43,
   "metadata": {},
   "outputs": [
    {
     "name": "stdout",
     "output_type": "stream",
     "text": [
      "Q = \n",
      "4x4\n",
      "\t[,1] [,2] [,3] [,4] \n",
      "[1,] 1.000000, 0.000000, 0.000000, 0.000000, \n",
      "[2,] 0.000000, -0.401610, 0.601902, -0.690235, \n",
      "[3,] 0.000000, -0.562254, -0.756975, -0.332956, \n",
      "[4,] 0.000000, -0.722897, 0.254368, 0.642430,  is tri-diagonal, true\n"
     ]
    }
   ],
   "source": [
    "val Q: Matrix = triDiagonalization.Q()\n",
    "println(String.format(\n",
    "        \"Q = \\n%s is tri-diagonal, %b\",\n",
    "        Q,\n",
    "        MatrixPropertyUtils.isOrthogonal(Q, 1e-14)))"
   ]
  },
  {
   "cell_type": "code",
   "execution_count": 44,
   "metadata": {},
   "outputs": [
    {
     "name": "stdout",
     "output_type": "stream",
     "text": [
      "4x4\n",
      "\t[,1] [,2] [,3] [,4] \n",
      "[1,] 1.000000, -12.449900, 0.000000, 0.000000, \n",
      "[2,] -12.449900, 16.070968, -7.692568, 0.000000, \n",
      "[3,] 0.000000, -7.692568, 1.696818, 4.454810, \n",
      "[4,] 0.000000, 0.000000, 4.454810, -6.767786,  = \n",
      "4x4\n",
      "\t[,1] [,2] [,3] [,4] \n",
      "[1,] 1.000000, -12.449900, -0.000000, 0.000000, \n",
      "[2,] -12.449900, 16.070968, -7.692568, 0.000000, \n",
      "[3,] -0.000000, -7.692568, 1.696818, 4.454810, \n",
      "[4,] 0.000000, 0.000000, 4.454810, -6.767786,  is true\n"
     ]
    }
   ],
   "source": [
    "// verify that Qt * A * Q = T\n",
    "val QtSQ: Matrix = Q.t().multiply(S).multiply(Q)\n",
    "println(String.format(\"%s = \\n%s is %b\",\n",
    "        T,\n",
    "        QtSQ,\n",
    "        MatrixPropertyUtils.areEqual(QtSQ, T, 1e-13)))"
   ]
  },
  {
   "cell_type": "code",
   "execution_count": 45,
   "metadata": {},
   "outputs": [
    {
     "name": "stdout",
     "output_type": "stream",
     "text": [
      "QR decomposition of a square matrix\n",
      "\n",
      "Rank = 2\n",
      "\n",
      "Q = \n",
      "2x2\n",
      "\t[,1] [,2] \n",
      "[1,] -0.948683, -0.316228, \n",
      "[2,] -0.316228, 0.948683,  is orthogonal, true\n",
      "\n",
      "R = \n",
      "2x2\n",
      "\t[,1] [,2] \n",
      "[1,] -3.162278, -2.529822, \n",
      "[2,] 0.000000, 1.264911, \n"
     ]
    }
   ],
   "source": [
    "println(\"QR decomposition of a square matrix\")\n",
    "        \n",
    "val A: Matrix = DenseMatrix(\n",
    "    arrayOf(\n",
    "        doubleArrayOf(3.0, 2.0),\n",
    "        doubleArrayOf(1.0, 2.0)\n",
    "    )\n",
    ")\n",
    "\n",
    "\n",
    "// use the Householder QR algorithm\n",
    "val qr1: QRDecomposition = HouseholderQR(A, 0.0)\n",
    "println(\"\\nRank = \" + qr1.rank())\n",
    "\n",
    "val Q1: Matrix = qr1.Q()\n",
    "println(String.format(\n",
    "        \"\\nQ = \\n%s is orthogonal, %b\",\n",
    "        Q1,\n",
    "        MatrixPropertyUtils.isOrthogonal(Q1, 1e-15)))\n",
    "\n",
    "val R1: UpperTriangularMatrix = qr1.R()\n",
    "println(\"\\nR = \\n\" + R1)"
   ]
  },
  {
   "cell_type": "code",
   "execution_count": 46,
   "metadata": {},
   "outputs": [
    {
     "name": "stdout",
     "output_type": "stream",
     "text": [
      "\n",
      "2x2\n",
      "\t[,1] [,2] \n",
      "[1,] 3.000000, 2.000000, \n",
      "[2,] 1.000000, 2.000000,  = \n",
      "2x2\n",
      "\t[,1] [,2] \n",
      "[1,] 3.000000, 2.000000, \n",
      "[2,] 1.000000, 2.000000,  is true\n"
     ]
    }
   ],
   "source": [
    "// verify that Q1R1 = A\n",
    "val Q1R1: Matrix = Q1.multiply(R1)\n",
    "println(String.format(\"\\n%s = \\n%s is %b\",\n",
    "        A,\n",
    "        Q1R1,\n",
    "        MatrixPropertyUtils.areEqual(Q1R1, A, 1e-13)))"
   ]
  },
  {
   "cell_type": "code",
   "execution_count": 47,
   "metadata": {},
   "outputs": [
    {
     "name": "stdout",
     "output_type": "stream",
     "text": [
      "\n",
      "Rank = 2\n"
     ]
    }
   ],
   "source": [
    "// use the Gram-Schmidt QR algorithm\n",
    "val qr2: QRDecomposition = GramSchmidt(A)\n",
    "println(\"\\nRank = \" + qr2.rank())"
   ]
  },
  {
   "cell_type": "code",
   "execution_count": 48,
   "metadata": {},
   "outputs": [
    {
     "name": "stdout",
     "output_type": "stream",
     "text": [
      "\n",
      "Q = \n",
      "2x2\n",
      "\t[,1] [,2] \n",
      "[1,] 0.948683, -0.316228, \n",
      "[2,] 0.316228, 0.948683,  is orthogonal, true\n",
      "\n",
      "R = \n",
      "2x2\n",
      "\t[,1] [,2] \n",
      "[1,] 3.162278, 2.529822, \n",
      "[2,] 0.000000, 1.264911, \n"
     ]
    }
   ],
   "source": [
    "val Q2: Matrix = qr2.Q()\n",
    "println(String.format(\n",
    "        \"\\nQ = \\n%s is orthogonal, %b\",\n",
    "        Q2,\n",
    "        MatrixPropertyUtils.isOrthogonal(Q2, 1e-15)))\n",
    "\n",
    "val R2: UpperTriangularMatrix = qr2.R()\n",
    "println(\"\\nR = \\n\" + R2)"
   ]
  },
  {
   "cell_type": "code",
   "execution_count": 49,
   "metadata": {},
   "outputs": [
    {
     "name": "stdout",
     "output_type": "stream",
     "text": [
      "2x2\n",
      "\t[,1] [,2] \n",
      "[1,] 3.000000, 2.000000, \n",
      "[2,] 1.000000, 2.000000,  = \n",
      "2x2\n",
      "\t[,1] [,2] \n",
      "[1,] 3.000000, 2.000000, \n",
      "[2,] 1.000000, 2.000000,  is true\n"
     ]
    }
   ],
   "source": [
    "// verify that Q2R2 = A\n",
    "val Q2R2: Matrix = Q2.multiply(R2)\n",
    "println(String.format(\"%s = \\n%s is %b\",\n",
    "        A,\n",
    "        Q2R2,\n",
    "        MatrixPropertyUtils.areEqual(Q2R2, A, 1e-13)))"
   ]
  },
  {
   "cell_type": "code",
   "execution_count": 50,
   "metadata": {},
   "outputs": [
    {
     "name": "stdout",
     "output_type": "stream",
     "text": [
      "QR decomposition of a tall matrix\n",
      "\n",
      "Rank = 2\n",
      "\n",
      "Q1 = \n",
      "5x3\n",
      "\t[,1] [,2] [,3] \n",
      "[1,] -0.034199, -0.773841, -0.359539, \n",
      "[2,] -0.205196, -0.507833, -0.031675, \n",
      "[3,] -0.376192, -0.241825, 0.868055, \n",
      "[4,] -0.547188, 0.024183, -0.202929, \n",
      "[5,] -0.718185, 0.290191, -0.273913, \n",
      "\n",
      "R1 = \n",
      "3x3\n",
      "\t[,1] [,2] [,3] \n",
      "[1,] -29.240383, -31.121343, -33.002304, \n",
      "[2,] 0.000000, -1.209127, -2.418254, \n",
      "[3,] 0.000000, 0.000000, 0.000000, \n"
     ]
    }
   ],
   "source": [
    "println(\"QR decomposition of a tall matrix\")\n",
    "\n",
    "val A: Matrix = DenseMatrix(\n",
    "    arrayOf(\n",
    "        doubleArrayOf(1.0, 2.0, 3.0),\n",
    "        doubleArrayOf(6.0, 7.0, 8.0),\n",
    "        doubleArrayOf(11.0, 12.0, 13.0),\n",
    "        doubleArrayOf(16.0, 17.0, 18.0),\n",
    "        doubleArrayOf(21.0, 22.0, 23.0)\n",
    "    )\n",
    ")\n",
    "\n",
    "val qr: QRDecomposition = QR(A, 1e-14)\n",
    "println(\"\\nRank = \" + qr.rank())\n",
    "\n",
    "val Q1: Matrix = qr.Q()\n",
    "println(\"\\nQ1 = \\n\" + Q1)\n",
    "val R1: UpperTriangularMatrix = qr.R()\n",
    "println(\"\\nR1 = \\n\" + R1)"
   ]
  },
  {
   "cell_type": "code",
   "execution_count": 51,
   "metadata": {},
   "outputs": [
    {
     "name": "stdout",
     "output_type": "stream",
     "text": [
      "5x3\n",
      "\t[,1] [,2] [,3] \n",
      "[1,] 1.000000, 2.000000, 3.000000, \n",
      "[2,] 6.000000, 7.000000, 8.000000, \n",
      "[3,] 11.000000, 12.000000, 13.000000, \n",
      "[4,] 16.000000, 17.000000, 18.000000, \n",
      "[5,] 21.000000, 22.000000, 23.000000,  = \n",
      "5x3\n",
      "\t[,1] [,2] [,3] \n",
      "[1,] 1.000000, 2.000000, 3.000000, \n",
      "[2,] 6.000000, 7.000000, 8.000000, \n",
      "[3,] 11.000000, 12.000000, 13.000000, \n",
      "[4,] 16.000000, 17.000000, 18.000000, \n",
      "[5,] 21.000000, 22.000000, 23.000000,  is true\n",
      "\n",
      "Q = \n",
      "5x5\n",
      "\t[,1] [,2] [,3] [,4] [,5] \n",
      "[1,] -0.034199, -0.773841, -0.359539, -0.365120, -0.370701, \n",
      "[2,] -0.205196, -0.507833, -0.031675, 0.361174, 0.754023, \n",
      "[3,] -0.376192, -0.241825, 0.868055, -0.145512, -0.159079, \n",
      "[4,] -0.547188, 0.024183, -0.202929, 0.667982, -0.461107, \n",
      "[5,] -0.718185, 0.290191, -0.273913, -0.518524, 0.236864, \n",
      "\n",
      "R = \n",
      "5x3\n",
      "\t[,1] [,2] [,3] \n",
      "[1,] -29.240383, -31.121343, -33.002304, \n",
      "[2,] 0.000000, -1.209127, -2.418254, \n",
      "[3,] 0.000000, 0.000000, 0.000000, \n",
      "[4,] 0.000000, 0.000000, 0.000000, \n",
      "[5,] 0.000000, 0.000000, 0.000000, \n"
     ]
    }
   ],
   "source": [
    "// verify that Q1R1 = A\n",
    "val Q1R1: Matrix = Q1.multiply(R1)\n",
    "println(String.format(\"%s = \\n%s is %b\",\n",
    "        A,\n",
    "        Q1R1,\n",
    "        MatrixPropertyUtils.areEqual(Q1R1, A, 1e-13)))\n",
    "\n",
    "val Q: Matrix = qr.squareQ()\n",
    "println(\"\\nQ = \\n\" + Q)\n",
    "val R: Matrix = qr.tallR()\n",
    "println(\"\\nR = \\n\" + R)"
   ]
  },
  {
   "cell_type": "code",
   "execution_count": 52,
   "metadata": {},
   "outputs": [
    {
     "name": "stdout",
     "output_type": "stream",
     "text": [
      "5x3\n",
      "\t[,1] [,2] [,3] \n",
      "[1,] 1.000000, 2.000000, 3.000000, \n",
      "[2,] 6.000000, 7.000000, 8.000000, \n",
      "[3,] 11.000000, 12.000000, 13.000000, \n",
      "[4,] 16.000000, 17.000000, 18.000000, \n",
      "[5,] 21.000000, 22.000000, 23.000000,  = \n",
      "5x3\n",
      "\t[,1] [,2] [,3] \n",
      "[1,] 1.000000, 2.000000, 3.000000, \n",
      "[2,] 6.000000, 7.000000, 8.000000, \n",
      "[3,] 11.000000, 12.000000, 13.000000, \n",
      "[4,] 16.000000, 17.000000, 18.000000, \n",
      "[5,] 21.000000, 22.000000, 23.000000,  is true\n"
     ]
    }
   ],
   "source": [
    "// verify that QR = A\n",
    "val QR: Matrix = Q.multiply(R)\n",
    "println(String.format(\"%s = \\n%s is %b\",\n",
    "        A,\n",
    "        QR,\n",
    "        MatrixPropertyUtils.areEqual(QR, A, 1e-13)))"
   ]
  },
  {
   "cell_type": "code",
   "execution_count": 53,
   "metadata": {},
   "outputs": [
    {
     "name": "stdout",
     "output_type": "stream",
     "text": [
      "Eigen decomposition\n",
      "\n",
      "D = \n",
      "2x2\n",
      "\t[,1] [,2] \n",
      "[1,] 7.000000, 0.000000, \n",
      "[2,] 0.000000, 3.000000, \n",
      "\n",
      "Q = \n",
      "2x2\n",
      "\t[,1] [,2] \n",
      "[1,] 0.707107, -0.707107, \n",
      "[2,] 0.707107, 0.707107, \n",
      "\n",
      "Qt = \n",
      "2x2\n",
      "\t[,1] [,2] \n",
      "[1,] 0.707107, 0.707107, \n",
      "[2,] -0.707107, 0.707107, \n"
     ]
    }
   ],
   "source": [
    "println(\"Eigen decomposition\")\n",
    "        \n",
    "val A: Matrix = DenseMatrix(\n",
    "    arrayOf(\n",
    "        doubleArrayOf(5.0, 2.0),\n",
    "        doubleArrayOf(2.0, 5.0)\n",
    "    )\n",
    ")\n",
    "\n",
    "// doing eigen decomposition\n",
    "val eigen: EigenDecomposition = EigenDecomposition(A)\n",
    "\n",
    "val D: Matrix = eigen.D()\n",
    "println(\"\\nD = \\n\" + D)\n",
    "val Q: Matrix = eigen.Q()\n",
    "println(\"\\nQ = \\n\" + Q)\n",
    "val Qt: Matrix = eigen.Qt()\n",
    "println(\"\\nQt = \\n\" + Qt)"
   ]
  },
  {
   "cell_type": "code",
   "execution_count": 54,
   "metadata": {},
   "outputs": [
    {
     "name": "stdout",
     "output_type": "stream",
     "text": [
      "2x2\n",
      "\t[,1] [,2] \n",
      "[1,] 5.000000, 2.000000, \n",
      "[2,] 2.000000, 5.000000,  = \n",
      "2x2\n",
      "\t[,1] [,2] \n",
      "[1,] 5.000000, 2.000000, \n",
      "[2,] 2.000000, 5.000000,  is true\n"
     ]
    }
   ],
   "source": [
    "// verify that QDQt = A\n",
    "val QDQt: Matrix = Q.multiply(D).multiply(Qt)\n",
    "println(String.format(\"%s = \\n%s is %b\",\n",
    "        A,\n",
    "        QDQt,\n",
    "        MatrixPropertyUtils.areEqual(A, QDQt, 1e-14)))"
   ]
  },
  {
   "cell_type": "code",
   "execution_count": 55,
   "metadata": {},
   "outputs": [
    {
     "name": "stdout",
     "output_type": "stream",
     "text": [
      "Eigen decomposition\n",
      "eigen value = 4.0\n",
      "eigen value = -2.0\n",
      "eigenvalue0 = 4.0\n",
      "algebraic multiplicity = 1\n",
      "geometric multiplicity = 1\n",
      "basis vector = [0.500000, 0.500000, 1.000000] \n",
      "is in the vector space = true\n"
     ]
    }
   ],
   "source": [
    "println(\"Eigen decomposition\")\n",
    "        \n",
    "val A: Matrix = DenseMatrix(\n",
    "    arrayOf(\n",
    "        doubleArrayOf(1.0, -3.0, 3.0),\n",
    "        doubleArrayOf(3.0, -5.0, 3.0),\n",
    "        doubleArrayOf(6.0, -6.0, 4.0),\n",
    "    )\n",
    ")\n",
    "\n",
    "// perform an eigen decomposition\n",
    "val eigen: Eigen = Eigen(A)\n",
    "eigen.getEigenvalues().forEach {\n",
    "    println(\"eigen value = \" + it)\n",
    "}\n",
    "\n",
    "// the first eigenvalue\n",
    "val eigenvalue0: Number = eigen.getEigenvalue(0) // count from 0\n",
    "println(\"eigenvalue0 = \" + eigenvalue0)\n",
    "\n",
    "// get the properties associated with this eigenvalue\n",
    "val prop0: EigenProperty = eigen.getProperty(eigenvalue0)\n",
    "println(\"algebraic multiplicity = \" + prop0.algebraicMultiplicity())\n",
    "println(\"geometric multiplicity = \" + prop0.geometricMultiplicity())\n",
    "\n",
    "val basis0: List<Vector> = prop0.eigenbasis()\n",
    "basis0.forEach {\n",
    "    println(\"basis vector = \" + it)\n",
    "}\n",
    "val vs0: RealVectorSpace = RealVectorSpace(basis0, 1e-15)\n",
    "// check if this vector belongs to the vector space, i.e., a linear combination of the basis\n",
    "\n",
    "val in0: Boolean = vs0.isSpanned(\n",
    "        DenseVector(arrayOf(-0.4, -0.4, -0.8)))\n",
    "println(\"is in the vector space = \" + in0)"
   ]
  },
  {
   "cell_type": "code",
   "execution_count": 56,
   "metadata": {},
   "outputs": [
    {
     "name": "stdout",
     "output_type": "stream",
     "text": [
      "eigen value 1 = -2.0\n",
      "algebraic multiplicity = 2\n",
      "geometric multiplicity = 2\n",
      "basis vector = [1.000000, 1.000000, 0.000000] \n",
      "basis vector = [-1.000000, 0.000000, 1.000000] \n",
      "is in the vector space = true\n",
      "is in the vector space = true\n"
     ]
    }
   ],
   "source": [
    "// the second eigenvalue\n",
    "val eigenvalue1: Number = eigen.getEigenvalue(1) // count from 1\n",
    "println(\"eigen value 1 = \" + eigenvalue1)\n",
    "\n",
    "val prop1: EigenProperty = eigen.getProperty(eigenvalue1)\n",
    "println(\"algebraic multiplicity = \" + prop1.algebraicMultiplicity())\n",
    "println(\"geometric multiplicity = \" + prop1.geometricMultiplicity())\n",
    "\n",
    "val basis1: List<Vector> = prop1.eigenbasis()\n",
    "basis1.forEach {\n",
    "    println(\"basis vector = \" + it)\n",
    "}\n",
    "val vs1: RealVectorSpace = RealVectorSpace(basis1, 1e-15)\n",
    "val in1: Boolean = vs1.isSpanned(DenseVector(arrayOf(-0.4, 0.4, 0.8)))\n",
    "println(\"is in the vector space = \" + in1)\n",
    "\n",
    "val in2: Boolean = vs1.isSpanned(DenseVector(arrayOf(-0.5, 0.5, 1.0)))\n",
    "println(\"is in the vector space = \" + in2)"
   ]
  },
  {
   "cell_type": "code",
   "execution_count": 57,
   "metadata": {},
   "outputs": [
    {
     "name": "stdout",
     "output_type": "stream",
     "text": [
      "Singular Value Decomposition\n",
      "\n",
      "U = \n",
      "4x4\n",
      "\t[,1] [,2] [,3] [,4] \n",
      "[1,] 0.000000, 1.000000, 0.000000, 0.000000, \n",
      "[2,] 1.000000, 0.000000, 0.000000, 0.000000, \n",
      "[3,] 0.000000, 0.000000, 0.000000, 1.000000, \n",
      "[4,] 0.000000, 0.000000, 1.000000, 0.000000, \n",
      "\n",
      "D = \n",
      "4x4\n",
      "\t[,1] [,2] [,3] [,4] \n",
      "[1,] 3.000000, 0.000000, 0.000000, 0.000000, \n",
      "[2,] 0.000000, 2.236068, 0.000000, 0.000000, \n",
      "[3,] 0.000000, 0.000000, 2.000000, 0.000000, \n",
      "[4,] 0.000000, 0.000000, 0.000000, 0.000000, \n",
      "\n",
      "Vt = \n",
      "4x5\n",
      "\t[,1] [,2] [,3] [,4] [,5] \n",
      "[1,] 0.000000, 0.000000, 1.000000, 0.000000, 0.000000, \n",
      "[2,] 0.447214, 0.000000, 0.000000, 0.000000, 0.894427, \n",
      "[3,] 0.000000, 1.000000, 0.000000, 0.000000, 0.000000, \n",
      "[4,] 0.000000, 0.000000, 0.000000, 1.000000, 0.000000, \n",
      "\n",
      "Ut = \n",
      "4x4\n",
      "\t[,1] [,2] [,3] [,4] \n",
      "[1,] 0.000000, 1.000000, 0.000000, 0.000000, \n",
      "[2,] 1.000000, 0.000000, 0.000000, 0.000000, \n",
      "[3,] 0.000000, 0.000000, 0.000000, 1.000000, \n",
      "[4,] 0.000000, 0.000000, 1.000000, 0.000000, \n"
     ]
    }
   ],
   "source": [
    "println(\"Singular Value Decomposition\")\n",
    "        \n",
    "val A: Matrix = DenseMatrix(\n",
    "    arrayOf(\n",
    "        doubleArrayOf(1.0, 0.0, 0.0, 0.0, 2.0),\n",
    "        doubleArrayOf(0.0, 0.0, 3.0, 0.0, 0.0),\n",
    "        doubleArrayOf(0.0, 0.0, 0.0, 0.0, 0.0),\n",
    "        doubleArrayOf(0.0, 2.0, 0.0, 0.0, 0.0)\n",
    "    )\n",
    ")\n",
    "\n",
    "// perform SVD\n",
    "val svd: SVD = SVD(A, true, 1e-15)\n",
    "\n",
    "val U: Matrix = svd.U()\n",
    "println(\"\\nU = \\n\" + U)\n",
    "val D: DiagonalMatrix = svd.D()\n",
    "println(\"\\nD = \\n\" + D)\n",
    "val V: Matrix = svd.V()\n",
    "println(\"\\nVt = \\n\" + V.t())\n",
    "val Ut: Matrix = svd.Ut()\n",
    "println(\"\\nUt = \\n\" + Ut)"
   ]
  },
  {
   "cell_type": "code",
   "execution_count": 58,
   "metadata": {},
   "outputs": [
    {
     "name": "stdout",
     "output_type": "stream",
     "text": [
      "4x5\n",
      "\t[,1] [,2] [,3] [,4] [,5] \n",
      "[1,] 1.000000, 0.000000, 0.000000, 0.000000, 2.000000, \n",
      "[2,] 0.000000, 0.000000, 3.000000, 0.000000, 0.000000, \n",
      "[3,] 0.000000, 0.000000, 0.000000, 0.000000, 0.000000, \n",
      "[4,] 0.000000, 2.000000, 0.000000, 0.000000, 0.000000,  = \n",
      "4x5\n",
      "\t[,1] [,2] [,3] [,4] [,5] \n",
      "[1,] 1.000000, 0.000000, 0.000000, 0.000000, 2.000000, \n",
      "[2,] 0.000000, 0.000000, 3.000000, 0.000000, 0.000000, \n",
      "[3,] 0.000000, 0.000000, 0.000000, 0.000000, 0.000000, \n",
      "[4,] 0.000000, 2.000000, 0.000000, 0.000000, 0.000000,  is true\n"
     ]
    }
   ],
   "source": [
    "// verify that UDVt = A\n",
    "val UDVt: Matrix = U.multiply(D).multiply(V.t())\n",
    "println(String.format(\"%s = \\n%s is %b\",\n",
    "        A,\n",
    "        UDVt,\n",
    "        MatrixPropertyUtils.areEqual(UDVt, A, 1e-14)))"
   ]
  },
  {
   "cell_type": "code",
   "execution_count": 59,
   "metadata": {},
   "outputs": [
    {
     "name": "stdout",
     "output_type": "stream",
     "text": [
      "4x5\n",
      "\t[,1] [,2] [,3] [,4] [,5] \n",
      "[1,] 1.000000, 0.000000, 0.000000, 0.000000, 2.000000, \n",
      "[2,] 0.000000, 0.000000, 3.000000, 0.000000, 0.000000, \n",
      "[3,] 0.000000, 0.000000, 0.000000, 0.000000, 0.000000, \n",
      "[4,] 0.000000, 2.000000, 0.000000, 0.000000, 0.000000,  = \n",
      "4x4\n",
      "\t[,1] [,2] [,3] [,4] \n",
      "[1,] 3.000000, 0.000000, 0.000000, 0.000000, \n",
      "[2,] 0.000000, 2.236068, 0.000000, 0.000000, \n",
      "[3,] 0.000000, 0.000000, 2.000000, 0.000000, \n",
      "[4,] 0.000000, 0.000000, 0.000000, 0.000000,  is true\n"
     ]
    }
   ],
   "source": [
    "// verify that UtAV = D\n",
    "val UtAV: Matrix = Ut.multiply(A).multiply(V)\n",
    "println(String.format(\"%s = \\n%s is %b\",\n",
    "        A,\n",
    "        UtAV,\n",
    "        MatrixPropertyUtils.areEqual(UtAV, D, 1e-14)))"
   ]
  },
  {
   "cell_type": "code",
   "execution_count": 6,
   "metadata": {},
   "outputs": [
    {
     "name": "stdout",
     "output_type": "stream",
     "text": [
      "Backward substitution\n",
      "x = [10.000000, 0.000000, 0.000000] \n",
      "[10.000000, 0.000000, 0.000000]  = \n",
      "[10.000000, 0.000000, 0.000000]  is true\n"
     ]
    }
   ],
   "source": [
    "println(\"Backward substitution\")\n",
    "        \n",
    "val U: UpperTriangularMatrix = UpperTriangularMatrix(\n",
    "    arrayOf(\n",
    "        doubleArrayOf(1.0, 2.0, 3.0),\n",
    "        doubleArrayOf(0.0, 5.0),\n",
    "        doubleArrayOf(0.0)\n",
    "    )\n",
    ")\n",
    "        \n",
    "val b: Vector = DenseVector(arrayOf(10.0, 0.0, 0.0))\n",
    "\n",
    "val solver: BackwardSubstitution = BackwardSubstitution()\n",
    "val x: Vector = solver.solve(U, b)\n",
    "println(\"x = \" + x)\n",
    "\n",
    "// verify that Ux = b\n",
    "val Ux: Vector = U.multiply(x)\n",
    "println(String.format(\"%s = \\n%s is %b\",\n",
    "        Ux,\n",
    "        b,\n",
    "        MatrixPropertyUtils.areEqual(Ux, b, 1e-14))) // MatrixPropertyUtils.areEqual works for vectors too"
   ]
  },
  {
   "cell_type": "code",
   "execution_count": 7,
   "metadata": {},
   "outputs": [
    {
     "name": "stdout",
     "output_type": "stream",
     "text": [
      "Forward substitution\n",
      "x = [10.000000, 0.000000, -1.666667] \n",
      "[10.000000, 20.000000, 30.000000]  = \n",
      "[10.000000, 20.000000, 30.000000]  is true\n"
     ]
    }
   ],
   "source": [
    "println(\"Forward substitution\")\n",
    "        \n",
    "val L: LowerTriangularMatrix = LowerTriangularMatrix(\n",
    "    arrayOf(\n",
    "        doubleArrayOf(1.0),\n",
    "        doubleArrayOf(2.0, 3.0),\n",
    "        doubleArrayOf(4.0, 5.0, 6.0)\n",
    "    )\n",
    ")\n",
    "        \n",
    "val b: Vector = DenseVector(arrayOf(10.0, 20.0, 30.0))\n",
    "\n",
    "val solver: ForwardSubstitution = ForwardSubstitution()\n",
    "val x: Vector = solver.solve(L, b)\n",
    "println(\"x = \" + x)\n",
    "\n",
    "// verify that Ux = b\n",
    "val Lx: Vector = L.multiply(x)\n",
    "println(String.format(\"%s = \\n%s is %b\",\n",
    "        Lx,\n",
    "        b,\n",
    "        MatrixPropertyUtils.areEqual(Lx, b, 1e-14))) // MatrixPropertyUtils.areEqual works for vectors too"
   ]
  },
  {
   "cell_type": "code",
   "execution_count": 62,
   "metadata": {},
   "outputs": [
    {
     "name": "stdout",
     "output_type": "stream",
     "text": [
      "LU solver\n",
      "x1 = [10.000000, 0.000000, -1.666667] \n",
      "[10.000000, 20.000000, 30.000000]  = \n",
      "[10.000000, 20.000000, 30.000000]  is true\n"
     ]
    }
   ],
   "source": [
    "println(\"LU solver\")\n",
    "\n",
    "// an LSProblem\n",
    "val L: LowerTriangularMatrix = LowerTriangularMatrix(\n",
    "    arrayOf(\n",
    "        doubleArrayOf(1.0),\n",
    "        doubleArrayOf(2.0, 3.0),\n",
    "        doubleArrayOf(4.0, 5.0, 6.0)\n",
    "    )\n",
    ")\n",
    "        \n",
    "val b1: Vector = DenseVector(arrayOf(10.0, 20.0, 30.0))\n",
    "\n",
    "val solver1: LUSolver = LUSolver()\n",
    "val x1: Vector = solver1.solve(\n",
    "        // construct a Linear System Problem: Lx = b1\n",
    "        LSProblem(L, b1)\n",
    ")\n",
    "\n",
    "println(\"x1 = \" + x1)\n",
    "\n",
    "// verify that Ux = b\n",
    "val Lx: Vector = L.multiply(x1)\n",
    "println(String.format(\"%s = \\n%s is %b\",\n",
    "        Lx,\n",
    "        b1,\n",
    "        MatrixPropertyUtils.areEqual(Lx, b1, 1e-14))) // MatrixPropertyUtils.areEqual works for vectors too"
   ]
  },
  {
   "cell_type": "code",
   "execution_count": 63,
   "metadata": {},
   "outputs": [
    {
     "name": "stdout",
     "output_type": "stream",
     "text": [
      "x2 = [10.000000, 0.000000, -0.000000] \n",
      "[10.000000, 0.000000, 0.000000]  = \n",
      "[10.000000, 0.000000, 0.000000]  is true\n"
     ]
    }
   ],
   "source": [
    "// an other LSProblem\n",
    "val U: UpperTriangularMatrix = UpperTriangularMatrix(\n",
    "    arrayOf(\n",
    "        doubleArrayOf(1.0, 2.0, 3.0),\n",
    "        doubleArrayOf(0.0, 5.0),\n",
    "        doubleArrayOf(0.0),\n",
    "    )\n",
    ")\n",
    "        \n",
    "val b2: Vector = DenseVector(arrayOf(10.0, 0.0, 0.0))\n",
    "\n",
    "val solver2: LUSolver = LUSolver()\n",
    "val x2: Vector = solver2.solve(\n",
    "        // construct a Linear System Problem: Ux = b2\n",
    "        LSProblem(U, b2)\n",
    ")\n",
    "println(\"x2 = \" + x2)\n",
    "\n",
    "// verify that Ux = b\n",
    "val Ux: Vector = U.multiply(x2)\n",
    "println(String.format(\"%s = \\n%s is %b\",\n",
    "        Ux,\n",
    "        b2,\n",
    "        MatrixPropertyUtils.areEqual(Ux, b2, 1e-14))) // MatrixPropertyUtils.areEqual works for vectors too"
   ]
  },
  {
   "cell_type": "code",
   "execution_count": 8,
   "metadata": {},
   "outputs": [
    {
     "name": "stdout",
     "output_type": "stream",
     "text": [
      "Gaussian elimination\n",
      "T = \n",
      "3x3\n",
      "\t[,1] [,2] [,3] \n",
      "[1,] 0.000000, 0.000000, 1.000000, \n",
      "[2,] 0.000000, 1.000000, -0.500000, \n",
      "[3,] 1.000000, -0.600000, -0.200000, \n",
      "P = \n",
      "3x3\n",
      "\t[,1] [,2] [,3] \n",
      "[1,] 0.000000, 0.000000, 1.000000, \n",
      "[2,] 0.000000, 1.000000, 0.000000, \n",
      "[3,] 1.000000, 0.000000, 0.000000, \n",
      "U = 3x3\n",
      "\t[,1] [,2] [,3] \n",
      "[1,] 4.000000, -1.000000, 6.000000, \n",
      "[2,] 0.000000, 2.500000, -4.000000, \n",
      "[3,] 0.000000, 0.000000, 0.400000,  is upper triangular, true\n",
      "L = 3x3\n",
      "\t[,1] [,2] [,3] \n",
      "[1,] 1.000000, 0.000000, 0.000000, \n",
      "[2,] 0.500000, 1.000000, 0.000000, \n",
      "[3,] 0.500000, 0.600000, 1.000000,  is lower triangular, true\n",
      "3x3\n",
      "\t[,1] [,2] [,3] \n",
      "[1,] 4.000000, -1.000000, 6.000000, \n",
      "[2,] 0.000000, 2.500000, -4.000000, \n",
      "[3,] 0.000000, 0.000000, 0.400000,  = \n",
      "3x3\n",
      "\t[,1] [,2] [,3] \n",
      "[1,] 4.000000, -1.000000, 6.000000, \n",
      "[2,] 0.000000, 2.500000, -4.000000, \n",
      "[3,] 0.000000, 0.000000, 0.400000,  is true\n",
      "3x3\n",
      "\t[,1] [,2] [,3] \n",
      "[1,] 4.000000, -1.000000, 6.000000, \n",
      "[2,] 2.000000, 2.000000, -1.000000, \n",
      "[3,] 2.000000, 1.000000, 1.000000,  = \n",
      "3x3\n",
      "\t[,1] [,2] [,3] \n",
      "[1,] 4.000000, -1.000000, 6.000000, \n",
      "[2,] 2.000000, 2.000000, -1.000000, \n",
      "[3,] 2.000000, 1.000000, 1.000000,  is true\n"
     ]
    }
   ],
   "source": [
    "println(\"Gaussian elimination\")\n",
    "\n",
    "val A: Matrix = DenseMatrix(\n",
    "    arrayOf(\n",
    "        doubleArrayOf(2.0, 1.0, 1.0),\n",
    "        doubleArrayOf(2.0, 2.0, -1.0),\n",
    "        doubleArrayOf(4.0, -1.0, 6.0),\n",
    "    )\n",
    ")\n",
    "        \n",
    "val ops: GaussianElimination = GaussianElimination(A, true, 0.0)\n",
    "\n",
    "val T: Matrix = ops.T()\n",
    "println(\"T = \\n\" + T)\n",
    "val P: PermutationMatrix = ops.P()\n",
    "println(\"P = \\n\" + P)\n",
    "\n",
    "val U: Matrix = ops.U()\n",
    "println(\n",
    "        String.format(\"U = %s is upper triangular, %b\",\n",
    "                U,\n",
    "                MatrixPropertyUtils.isUpperTriangular(U, 0.0)))\n",
    "\n",
    "val L: Matrix = ops.L()\n",
    "println(\n",
    "        String.format(\"L = %s is lower triangular, %b\",\n",
    "                L,\n",
    "                MatrixPropertyUtils.isLowerTriangular(L, 0.0)))\n",
    "\n",
    "// verify that TA = U\n",
    "val TA: Matrix = T.multiply(A)\n",
    "println(String.format(\"%s = \\n%s is %b\",\n",
    "        TA,\n",
    "        U,\n",
    "        MatrixPropertyUtils.areEqual(TA, U, 1e-15)))\n",
    "\n",
    "// verify that PA = LU\n",
    "val PA: Matrix = P.multiply(A)\n",
    "val LU: Matrix = L.multiply(U)\n",
    "println(String.format(\"%s = \\n%s is %b\",\n",
    "        PA,\n",
    "        LU,\n",
    "        MatrixPropertyUtils.areEqual(PA, LU, 0.0)))"
   ]
  },
  {
   "cell_type": "code",
   "execution_count": 65,
   "metadata": {},
   "outputs": [
    {
     "name": "stdout",
     "output_type": "stream",
     "text": [
      "Gauss Jordan elimination\n",
      "U = 3x3\n",
      "\t[,1] [,2] [,3] \n",
      "[1,] 1.000000, 0.000000, 0.000000, \n",
      "[2,] 0.000000, 1.000000, 0.000000, \n",
      "[3,] 0.000000, 0.000000, 1.000000,  is in reduced row echelon form, true\n",
      "T = \n",
      "3x3\n",
      "\t[,1] [,2] [,3] \n",
      "[1,] -2.750000, 1.750000, 0.750000, \n",
      "[2,] 4.000000, -2.000000, -1.000000, \n",
      "[3,] 2.500000, -1.500000, -0.500000, \n",
      "3x3\n",
      "\t[,1] [,2] [,3] \n",
      "[1,] 1.000000, 0.000000, 0.000000, \n",
      "[2,] 0.000000, 1.000000, 0.000000, \n",
      "[3,] 0.000000, -0.000000, 1.000000,  = \n",
      "3x3\n",
      "\t[,1] [,2] [,3] \n",
      "[1,] 1.000000, 0.000000, 0.000000, \n",
      "[2,] 0.000000, 1.000000, 0.000000, \n",
      "[3,] 0.000000, 0.000000, 1.000000,  is true\n"
     ]
    }
   ],
   "source": [
    "println(\"Gauss Jordan elimination\")\n",
    "\n",
    "val A: Matrix = DenseMatrix(\n",
    "    arrayOf(\n",
    "        doubleArrayOf(2.0, 1.0, 1.0),\n",
    "        doubleArrayOf(2.0, 2.0, -1.0),\n",
    "        doubleArrayOf(4.0, -1.0, 6.0),\n",
    "    )\n",
    ")\n",
    "val ops: GaussJordanElimination = GaussJordanElimination(A, true, 0.0)\n",
    "\n",
    "val U: Matrix = ops.U()\n",
    "println(\n",
    "        String.format(\"U = %s is in reduced row echelon form, %b\",\n",
    "                U,\n",
    "                MatrixPropertyUtils.isReducedRowEchelonForm(U, 0.0)))\n",
    "\n",
    "val T: Matrix = ops.T()\n",
    "println(\"T = \\n\" + T)\n",
    "\n",
    "// verify that TA = U\n",
    "val TA: Matrix = T.multiply(A)\n",
    "println(String.format(\"%s = \\n%s is %b\",\n",
    "        TA,\n",
    "        U,\n",
    "        MatrixPropertyUtils.areEqual(TA, U, 1e-15)))"
   ]
  },
  {
   "cell_type": "code",
   "execution_count": 66,
   "metadata": {},
   "outputs": [
    {
     "name": "stdout",
     "output_type": "stream",
     "text": [
      "Solving system of linear equations\n",
      "p = \n",
      "[9.000000, 11.000000, -5.000000, 0.000000] \n",
      "[1.000000, 4.000000, 2.000000, 7.000000]  = \n",
      "[1.000000, 4.000000, 2.000000, 7.000000]  is true\n",
      "kernel basis = [-2.000000, -1.000000, 1.000000, 1.000000] \n",
      "Ak = 0, [0.000000, 0.000000, 0.000000, 0.000000] \n"
     ]
    }
   ],
   "source": [
    "println(\"Solving system of linear equations\")\n",
    "\n",
    "val A: Matrix = DenseMatrix(\n",
    "    arrayOf(\n",
    "        doubleArrayOf(0.0, 1.0, 2.0, -1.0),\n",
    "        doubleArrayOf(1.0, 0.0, 1.0, 1.0),\n",
    "        doubleArrayOf(-1.0, 1.0, 0.0, -1.0),\n",
    "        doubleArrayOf(0.0, 2.0, 3.0, -1.0)\n",
    "    )\n",
    ")\n",
    "        \n",
    "val b: Vector = DenseVector(arrayOf(1.0, 4.0, 2.0, 7.0))\n",
    "\n",
    "// construct a linear system solver\n",
    "val solver: LinearSystemSolver = LinearSystemSolver(1e-15) // precision\n",
    "// solve the homogenous linear system\n",
    "val soln: LinearSystemSolver.Solution = solver.solve(A)\n",
    "// get a particular solution\n",
    "val p: Vector = soln.getParticularSolution(b)\n",
    "println(\"p = \\n\" + p)\n",
    "\n",
    "// verify that Ap = b\n",
    "val Ap: Vector = A.multiply(p)\n",
    "println(String.format(\"%s = \\n%s is %b\",\n",
    "        Ap,\n",
    "        b,\n",
    "        MatrixPropertyUtils.areEqual(Ap, b, 1e-15)))\n",
    "\n",
    "// get the basis for the null-space\n",
    "val kernel: List<Vector> = soln.getHomogeneousSoln()\n",
    "// println(\"kernel size = \" + kernel.size())\n",
    "\n",
    "// verify that A * kernel = 0\n",
    "val k: Vector = kernel.get(0)\n",
    "println(\"kernel basis = \" + k)\n",
    "val Ak: Vector = A.multiply(k)\n",
    "println(\"Ak = 0, \" + Ak)"
   ]
  },
  {
   "cell_type": "code",
   "execution_count": 67,
   "metadata": {},
   "outputs": [
    {
     "name": "stdout",
     "output_type": "stream",
     "text": [
      "Solving an over-determined system\n",
      "the OLS solution = [3.500000, 1.400000] \n"
     ]
    }
   ],
   "source": [
    "println(\"Solving an over-determined system\")\n",
    "\n",
    "// define an overdetermined system of linear equations        \n",
    "val A: Matrix = DenseMatrix(\n",
    "    arrayOf(\n",
    "        doubleArrayOf(1.0, 1.0),\n",
    "        doubleArrayOf(1.0, 2.0),\n",
    "        doubleArrayOf(1.0, 3.0),\n",
    "        doubleArrayOf(1.0, 4.0)\n",
    "    )\n",
    ")\n",
    "        \n",
    "val b: Vector= DenseVector(arrayOf(6.0, 5.0, 7.0, 10.0))\n",
    "val problem: LSProblem = LSProblem(A, b)\n",
    "\n",
    "// solve the system using QR method\n",
    "val solver1: OLSSolverByQR = OLSSolverByQR(0.0) // precision\n",
    "// compute the OLS solution\n",
    "val x1: Vector = solver1.solve(problem)\n",
    "println(\"the OLS solution = \" + x1)"
   ]
  },
  {
   "cell_type": "code",
   "execution_count": 68,
   "metadata": {},
   "outputs": [
    {
     "name": "stdout",
     "output_type": "stream",
     "text": [
      "The OLS solution = [3.500000, 1.400000] \n"
     ]
    }
   ],
   "source": [
    "// solve the system using SVD method\n",
    "val solver2: OLSSolverBySVD = OLSSolverBySVD(0.0) // precision\n",
    "// compute the OLS solution\n",
    "val x2: Vector = solver2.solve(problem)\n",
    "// verify that Ax2 = b\n",
    "// val Ax2: Vector = A.multiply(x2)\n",
    "println(\"The OLS solution = \" + x2)"
   ]
  },
  {
   "cell_type": "code",
   "execution_count": 9,
   "metadata": {},
   "outputs": [
    {
     "name": "stdout",
     "output_type": "stream",
     "text": [
      "Sparse matrices\n",
      "B1 = A, true\n",
      "B2 = A, true\n"
     ]
    }
   ],
   "source": [
    "println(\"Sparse matrices\")\n",
    "\n",
    "// the target matrix in dense representation\n",
    "val A: Matrix = DenseMatrix(arrayOf(\n",
    "            doubleArrayOf(1.0, 2.0, 0.0, 0.0),\n",
    "            doubleArrayOf(0.0, 3.0, 9.0, 0.0),\n",
    "            doubleArrayOf(0.0, 1.0, 4.0, 0.0)\n",
    "))\n",
    "\n",
    "// DOK\n",
    "val B1: SparseMatrix = DOKSparseMatrix(3, 4, // 3x4 dimension\n",
    "            listOf<SparseMatrix.Entry>( // specify only the non-zero entries\n",
    "                SparseMatrix.Entry(MatrixCoordinate(3, 3), 4.0),\n",
    "                SparseMatrix.Entry(MatrixCoordinate(2, 2), 3.0),\n",
    "                SparseMatrix.Entry(MatrixCoordinate(1, 1), 1.0),\n",
    "                SparseMatrix.Entry(MatrixCoordinate(3, 2), 1.0),\n",
    "                SparseMatrix.Entry(MatrixCoordinate(2, 3), 9.0),\n",
    "                SparseMatrix.Entry(MatrixCoordinate(1, 2), 2.0))\n",
    ")\n",
    "        \n",
    "//verify that B1 = A\n",
    "println(String.format(\n",
    "        \"B1 = A, %b\",\n",
    "        MatrixPropertyUtils.areEqual(B1, A, 1e-15)))\n",
    "\n",
    "val B2: SparseMatrix = DOKSparseMatrix(3, 4, // 3x4 dimension\n",
    "        listOf<SparseMatrix.Entry>( // specify only the non-zero entries\n",
    "                SparseMatrix.Entry(MatrixCoordinate(3, 3), 4.0),\n",
    "                SparseMatrix.Entry(MatrixCoordinate(2, 2), 3.0),\n",
    "                SparseMatrix.Entry(MatrixCoordinate(1, 1), 1.0),\n",
    "                SparseMatrix.Entry(MatrixCoordinate(3, 2), 1.0),\n",
    "                SparseMatrix.Entry(MatrixCoordinate(2, 3), 9.0),\n",
    "                SparseMatrix.Entry(MatrixCoordinate(1, 2), 2.0))\n",
    ")\n",
    "\n",
    "//verify that B2 = A\n",
    "println(String.format(\n",
    "        \"B2 = A, %b\",\n",
    "        MatrixPropertyUtils.areEqual(B2, A, 1e-15)))"
   ]
  },
  {
   "cell_type": "code",
   "execution_count": 70,
   "metadata": {},
   "outputs": [
    {
     "name": "stdout",
     "output_type": "stream",
     "text": [
      "C1 = A, true\n",
      "C2 = A, true\n"
     ]
    }
   ],
   "source": [
    "// LIL        \n",
    "val C1: SparseMatrix = LILSparseMatrix(3, 4, // 3x4 dimension\n",
    "        listOf<SparseMatrix.Entry>( // specify only the non-zero entries\n",
    "                SparseMatrix.Entry(MatrixCoordinate(3, 3), 4.0),\n",
    "                SparseMatrix.Entry(MatrixCoordinate(2, 2), 3.0),\n",
    "                SparseMatrix.Entry(MatrixCoordinate(1, 1), 1.0),\n",
    "                SparseMatrix.Entry(MatrixCoordinate(3, 2), 1.0),\n",
    "                SparseMatrix.Entry(MatrixCoordinate(2, 3), 9.0),\n",
    "                SparseMatrix.Entry(MatrixCoordinate(1, 2), 2.0))\n",
    ")\n",
    "        \n",
    "//verify that C1 = A\n",
    "println(String.format(\n",
    "        \"C1 = A, %b\",\n",
    "        MatrixPropertyUtils.areEqual(C1, A, 1e-15)))\n",
    "val C2: SparseMatrix = LILSparseMatrix(3, 4, // 3x4 dimension\n",
    "        listOf<SparseMatrix.Entry>( // specify only the non-zero entries\n",
    "                SparseMatrix.Entry(MatrixCoordinate(3, 3), 4.0),\n",
    "                SparseMatrix.Entry(MatrixCoordinate(2, 2), 3.0),\n",
    "                SparseMatrix.Entry(MatrixCoordinate(1, 1), 1.0),\n",
    "                SparseMatrix.Entry(MatrixCoordinate(3, 2), 1.0),\n",
    "                SparseMatrix.Entry(MatrixCoordinate(2, 3), 9.0),\n",
    "                SparseMatrix.Entry(MatrixCoordinate(1, 2), 2.0)))\n",
    "//verify that C2 = A\n",
    "println(String.format(\n",
    "        \"C2 = A, %b\",\n",
    "        MatrixPropertyUtils.areEqual(C2, A, 1e-15)))"
   ]
  },
  {
   "cell_type": "code",
   "execution_count": 71,
   "metadata": {},
   "outputs": [
    {
     "name": "stdout",
     "output_type": "stream",
     "text": [
      "D1 = A, true\n",
      "D2 = A, true\n"
     ]
    }
   ],
   "source": [
    "// CSR\n",
    "val D1: SparseMatrix = CSRSparseMatrix(3, 4, // 3x4 dimension\n",
    "        listOf<SparseMatrix.Entry>( // specify only the non-zero entries\n",
    "                SparseMatrix.Entry(MatrixCoordinate(3, 3), 4.0),\n",
    "                SparseMatrix.Entry(MatrixCoordinate(2, 2), 3.0),\n",
    "                SparseMatrix.Entry(MatrixCoordinate(1, 1), 1.0),\n",
    "                SparseMatrix.Entry(MatrixCoordinate(3, 2), 1.0),\n",
    "                SparseMatrix.Entry(MatrixCoordinate(2, 3), 9.0),\n",
    "                SparseMatrix.Entry(MatrixCoordinate(1, 2), 2.0))\n",
    ")\n",
    "        \n",
    "//verify that D1 = A\n",
    "println(String.format(\n",
    "        \"D1 = A, %b\",\n",
    "        MatrixPropertyUtils.areEqual(D1, A, 1e-15)))\n",
    "\n",
    "val D2: SparseMatrix = CSRSparseMatrix(3, 4, // 3x4 dimension\n",
    "        listOf<SparseMatrix.Entry>( // specify only the non-zero entries\n",
    "                SparseMatrix.Entry(MatrixCoordinate(3, 3), 4.0),\n",
    "                SparseMatrix.Entry(MatrixCoordinate(2, 2), 3.0),\n",
    "                SparseMatrix.Entry(MatrixCoordinate(1, 1), 1.0),\n",
    "                SparseMatrix.Entry(MatrixCoordinate(3, 2), 1.0),\n",
    "                SparseMatrix.Entry(MatrixCoordinate(2, 3), 9.0),\n",
    "                SparseMatrix.Entry(MatrixCoordinate(1, 2), 2.0)))\n",
    "//verify that D2 = A\n",
    "println(String.format(\n",
    "        \"D2 = A, %b\",\n",
    "        MatrixPropertyUtils.areEqual(D2, A, 1e-15)))"
   ]
  },
  {
   "cell_type": "code",
   "execution_count": 72,
   "metadata": {},
   "outputs": [
    {
     "name": "stdout",
     "output_type": "stream",
     "text": [
      "v = size: 99\n",
      "[1] 11.0000\n",
      "[3] 22.0000\n",
      "[53] 33.0000\n",
      "[79] 44.0000\n",
      "[99] 55.0000\n",
      "\n"
     ]
    }
   ],
   "source": [
    "// sparse vector construction\n",
    "val v1: SparseVector = SparseVector(\n",
    "        99, // vector size\n",
    "        listOf<SparseVector.Entry>(\n",
    "            SparseVector.Entry(1, 11.0),\n",
    "            SparseVector.Entry(3, 22.0),\n",
    "            SparseVector.Entry(53, 33.0),\n",
    "            SparseVector.Entry(79, 44.0),\n",
    "            SparseVector.Entry(99, 55.0)\n",
    "        )\n",
    ")\n",
    "        \n",
    "println(\"v = \" + v1)"
   ]
  },
  {
   "cell_type": "code",
   "execution_count": 73,
   "metadata": {},
   "outputs": [
    {
     "name": "stdout",
     "output_type": "stream",
     "text": [
      "M1 = 3x4\n",
      "\t[,1] [,2] [,3] [,4] \n",
      "[1,] 2.000000, 4.000000, 0.000000, 0.000000, \n",
      "[2,] 0.000000, 6.000000, 18.000000, 0.000000, \n",
      "[3,] 0.000000, 2.000000, 8.000000, 0.000000, \n"
     ]
    }
   ],
   "source": [
    "// addition\n",
    "val M1: Matrix = B1.add(A)\n",
    "println(\"M1 = \" + M1)"
   ]
  },
  {
   "cell_type": "code",
   "execution_count": 74,
   "metadata": {},
   "outputs": [
    {
     "name": "stdout",
     "output_type": "stream",
     "text": [
      "M2 = 3x4 nnz = 6\n",
      "(1, 1): 2.0\n",
      "(1, 2): 4.0\n",
      "(2, 2): 6.0\n",
      "(2, 3): 18.0\n",
      "(3, 2): 2.0\n",
      "(3, 3): 8.0\n",
      "\n"
     ]
    }
   ],
   "source": [
    "val M2: DOKSparseMatrix = B1.add(B2) as DOKSparseMatrix\n",
    "println(\"M2 = \" + M2)"
   ]
  },
  {
   "cell_type": "code",
   "execution_count": 75,
   "metadata": {},
   "outputs": [
    {
     "name": "stdout",
     "output_type": "stream",
     "text": [
      "M3 = 3x4 nnz = 0\n",
      "\n"
     ]
    }
   ],
   "source": [
    "val M3: LILSparseMatrix = C1.minus(C2) as LILSparseMatrix\n",
    "println(\"M3 = \" + M3)"
   ]
  },
  {
   "cell_type": "code",
   "execution_count": 76,
   "metadata": {},
   "outputs": [
    {
     "name": "stdout",
     "output_type": "stream",
     "text": [
      "M4 = 3x3 nnz = 9\n",
      "(1, 1): 5.0\n",
      "(1, 2): 6.0\n",
      "(1, 3): 2.0\n",
      "(2, 1): 6.0\n",
      "(2, 2): 90.0\n",
      "(2, 3): 39.0\n",
      "(3, 1): 2.0\n",
      "(3, 2): 39.0\n",
      "(3, 3): 17.0\n",
      "\n"
     ]
    }
   ],
   "source": [
    "val M4: CSRSparseMatrix = D1.multiply(D2.t()) as CSRSparseMatrix\n",
    "println(\"M4 = \" + M4)"
   ]
  },
  {
   "cell_type": "code",
   "execution_count": 77,
   "metadata": {},
   "outputs": [
    {
     "name": "stdout",
     "output_type": "stream",
     "text": [
      "v2 = size: 4\n",
      "[1] 11.0000\n",
      "\n"
     ]
    }
   ],
   "source": [
    "val v2: SparseVector = SparseVector(\n",
    "        4, // vector size\n",
    "        listOf<SparseVector.Entry>(\n",
    "            SparseVector.Entry(1, 11.0)\n",
    "        )\n",
    ")\n",
    "        \n",
    "println(\"v2 = \" + v2)"
   ]
  },
  {
   "cell_type": "code",
   "execution_count": 78,
   "metadata": {},
   "outputs": [
    {
     "name": "stdout",
     "output_type": "stream",
     "text": [
      "ve = size: 3\n",
      "[1] 11.0000\n",
      "\n"
     ]
    }
   ],
   "source": [
    "val v3: Vector = B1.multiply(v2)\n",
    "println(\"ve = \" + v3)"
   ]
  },
  {
   "cell_type": "code",
   "execution_count": 10,
   "metadata": {},
   "outputs": [
    {
     "name": "stdout",
     "output_type": "stream",
     "text": [
      "Solve a sparse linear system using non-stationary iterative solvers\n",
      "x = [-0.041860, -0.003413, 0.117250, -0.112640, 0.024172, -0.107633, 0.198720, 0.190383] \n",
      "||Ax - b|| = 3.4321107842718707E-13\n"
     ]
    }
   ],
   "source": [
    "println(\"Solve a sparse linear system using non-stationary iterative solvers\")\n",
    "\n",
    "/* Symmetric matrix:\n",
    "    * 8x8\n",
    "    * [,1] [,2] [,3] [,4] [,5] [,6] [,7] [,8]\n",
    "    * [1,] 7.000000, 0.000000, 1.000000, 0.000000, 0.000000, 2.000000, 7.000000, 0.000000,\n",
    "    * [2,] 0.000000, -4.000000, 8.000000, 0.000000, 2.000000, 0.000000, 0.000000, 0.000000,\n",
    "    * [3,] 1.000000, 8.000000, 1.000000, 0.000000, 0.000000, 0.000000, 0.000000, 5.000000,\n",
    "    * [4,] 0.000000, 0.000000, 0.000000, 7.000000, 0.000000, 0.000000, 9.000000, 0.000000,\n",
    "    * [5,] 0.000000, 2.000000, 0.000000, 0.000000, 5.000000, 1.000000, 5.000000, 0.000000,\n",
    "    * [6,] 2.000000, 0.000000, 0.000000, 0.000000, 1.000000, -1.000000, 0.000000, 5.000000,\n",
    "    * [7,] 7.000000, 0.000000, 0.000000, 9.000000, 5.000000, 0.000000, 11.000000, 0.000000,\n",
    "    * [8,] 0.000000, 0.000000, 5.000000, 0.000000, 0.000000, 5.000000, 0.000000, 5.000000,\n",
    "    */    \n",
    "val A: Matrix = CSRSparseMatrix(8, 8, // matrix dimension\n",
    "        listOf<SparseMatrix.Entry>(\n",
    "            SparseMatrix.Entry(MatrixCoordinate(1, 1), 7.0),\n",
    "            SparseMatrix.Entry(MatrixCoordinate(1, 3), 1.0),\n",
    "            SparseMatrix.Entry(MatrixCoordinate(1, 6), 2.0),\n",
    "            SparseMatrix.Entry(MatrixCoordinate(1, 7), 7.0),\n",
    "            SparseMatrix.Entry(MatrixCoordinate(2, 2), -4.0),\n",
    "            SparseMatrix.Entry(MatrixCoordinate(2, 3), 8.0),\n",
    "            SparseMatrix.Entry(MatrixCoordinate(2, 5), 2.0),\n",
    "            SparseMatrix.Entry(MatrixCoordinate(3, 1), 1.0),\n",
    "            SparseMatrix.Entry(MatrixCoordinate(3, 2), 8.0),\n",
    "            SparseMatrix.Entry(MatrixCoordinate(3, 3), 1.0),\n",
    "            SparseMatrix.Entry(MatrixCoordinate(3, 8), 5.0),\n",
    "            SparseMatrix.Entry(MatrixCoordinate(4, 4), 7.0),\n",
    "            SparseMatrix.Entry(MatrixCoordinate(4, 7), 9.0),\n",
    "            SparseMatrix.Entry(MatrixCoordinate(5, 2), 2.0),\n",
    "            SparseMatrix.Entry(MatrixCoordinate(5, 5), 5.0),\n",
    "            SparseMatrix.Entry(MatrixCoordinate(5, 6), 1.0),\n",
    "            SparseMatrix.Entry(MatrixCoordinate(5, 7), 5.0),\n",
    "            SparseMatrix.Entry(MatrixCoordinate(6, 1), 2.0),\n",
    "            SparseMatrix.Entry(MatrixCoordinate(6, 5), 1.0),\n",
    "            SparseMatrix.Entry(MatrixCoordinate(6, 6), -1.0),\n",
    "            SparseMatrix.Entry(MatrixCoordinate(6, 8), 5.0),\n",
    "            SparseMatrix.Entry(MatrixCoordinate(7, 1), 7.0),\n",
    "            SparseMatrix.Entry(MatrixCoordinate(7, 4), 9.0),\n",
    "            SparseMatrix.Entry(MatrixCoordinate(7, 5), 5.0),\n",
    "            SparseMatrix.Entry(MatrixCoordinate(7, 7), 11.0),\n",
    "            SparseMatrix.Entry(MatrixCoordinate(8, 3), 5.0),\n",
    "            SparseMatrix.Entry(MatrixCoordinate(8, 6), 5.0),\n",
    "            SparseMatrix.Entry(MatrixCoordinate(8, 8), 5.0)\n",
    "        )\n",
    ")\n",
    "        \n",
    "val b: Vector = DenseVector( // note that we can still use dense data structure\n",
    "                    arrayOf(1.0,1.0,1.0,1.0,1.0,1.0,1.0,1.0)\n",
    "                )\n",
    "// construct a linear system problem to be solved\n",
    "val problem: LSProblem = LSProblem(A, b)\n",
    "\n",
    "// construct a sparse matrix linear system solver\n",
    "val BiCG: BiconjugateGradientSolver \n",
    "        = BiconjugateGradientSolver(\n",
    "                10, // maximum number of iterations\n",
    "                AbsoluteTolerance(1e-8) // precision\n",
    "        )\n",
    "val soln1: IterativeLinearSystemSolver.Solution = BiCG.solve(problem)\n",
    "val x1: Vector = soln1.search(SparseVector(A.nCols())) // use 0 as the initial guess\n",
    "println(\"x = \" + x1)\n",
    "val Ax1_b: Vector = A.multiply(x1).minus(b) // verify that Ax = b\n",
    "println(\"||Ax - b|| = \" + Ax1_b.norm()) // should be (close to) 0"
   ]
  },
  {
   "cell_type": "code",
   "execution_count": 80,
   "metadata": {},
   "outputs": [
    {
     "name": "stdout",
     "output_type": "stream",
     "text": [
      "x = [-0.041860, -0.003413, 0.117250, -0.112640, 0.024172, -0.107633, 0.198720, 0.190383] \n",
      "||Ax - b|| = 6.001732649867594E-8\n"
     ]
    }
   ],
   "source": [
    "// construct a sparse matrix linear system solver\n",
    "val BiCGSTAB: BiconjugateGradientStabilizedSolver \n",
    "        = BiconjugateGradientStabilizedSolver(\n",
    "                10, // maximum number of iterations\n",
    "                AbsoluteTolerance(1e-7) // less precision\n",
    "        )\n",
    "val soln2: IterativeLinearSystemSolver.Solution = BiCGSTAB.solve(problem)\n",
    "val x2: Vector = soln2.search(SparseVector(A.nCols())) // use 0 as the initial guess\n",
    "println(\"x = \" + x2)\n",
    "val Ax2_b: Vector = A.multiply(x2).minus(b) // verify that Ax = b\n",
    "println(\"||Ax - b|| = \" + Ax2_b.norm()) // should be (close to) 0"
   ]
  },
  {
   "cell_type": "code",
   "execution_count": 81,
   "metadata": {},
   "outputs": [
    {
     "name": "stdout",
     "output_type": "stream",
     "text": [
      "x = [-0.041860, -0.003413, 0.117250, -0.112640, 0.024172, -0.107633, 0.198720, 0.190383] \n",
      "||Ax - b|| = 1.6870268466872934E-9\n"
     ]
    }
   ],
   "source": [
    "val CGNE: ConjugateGradientNormalErrorSolver \n",
    "        = ConjugateGradientNormalErrorSolver(\n",
    "                10, // maximum number of iterations\n",
    "                AbsoluteTolerance(1e-8) // precision\n",
    "        )\n",
    "val soln3: IterativeLinearSystemSolver.Solution = CGNE.solve(problem)\n",
    "val x3: Vector = soln3.search(SparseVector(A.nCols())) // use 0 as the initial guess\n",
    "println(\"x = \" + x3)\n",
    "val Ax3_b: Vector = A.multiply(x3).minus(b) // verify that Ax = b\n",
    "println(\"||Ax - b|| = \" + Ax3_b.norm()) // should be (close to) 0"
   ]
  },
  {
   "cell_type": "code",
   "execution_count": 82,
   "metadata": {},
   "outputs": [
    {
     "name": "stdout",
     "output_type": "stream",
     "text": [
      "x = [-0.041860, -0.003413, 0.117250, -0.112640, 0.024172, -0.107633, 0.198720, 0.190383] \n",
      "||Ax - b|| = 6.817480703009663E-10\n"
     ]
    }
   ],
   "source": [
    "val CGNR: ConjugateGradientNormalResidualSolver \n",
    "        = ConjugateGradientNormalResidualSolver(\n",
    "                10, // maximum number of iterations\n",
    "                AbsoluteTolerance(1e-8) // precision\n",
    "        )\n",
    "val soln4: IterativeLinearSystemSolver.Solution = CGNR.solve(problem)\n",
    "val x4: Vector = soln4.search(SparseVector(A.nCols())) // use 0 as the initial guess\n",
    "println(\"x = \" + x4)\n",
    "val Ax4_b: Vector = A.multiply(x4).minus(b) // verify that Ax = b\n",
    "println(\"||Ax - b|| = \" + Ax4_b.norm()) // should be (close to) 0"
   ]
  },
  {
   "cell_type": "code",
   "execution_count": 83,
   "metadata": {},
   "outputs": [
    {
     "name": "stdout",
     "output_type": "stream",
     "text": [
      "x = [-0.041860, -0.003413, 0.117250, -0.112640, 0.024172, -0.107633, 0.198720, 0.190383] \n",
      "||Ax - b|| = 3.4321107842718707E-13\n"
     ]
    }
   ],
   "source": [
    "val CG: ConjugateGradientSolver \n",
    "        = ConjugateGradientSolver(\n",
    "                10, // maximum number of iterations\n",
    "                AbsoluteTolerance(1e-8) // precision\n",
    "        )\n",
    "val soln5: IterativeLinearSystemSolver.Solution = CG.solve(problem)\n",
    "val x5: Vector = soln5.search(SparseVector(A.nCols())) // use 0 as the initial guess\n",
    "println(\"x = \" + x5)\n",
    "val Ax5_b: Vector = A.multiply(x5).minus(b) // verify that Ax = b\n",
    "println(\"||Ax - b|| = \" + Ax5_b.norm()) // should be (close to) 0"
   ]
  },
  {
   "cell_type": "code",
   "execution_count": 84,
   "metadata": {},
   "outputs": [
    {
     "name": "stdout",
     "output_type": "stream",
     "text": [
      "x = [-0.041860, -0.003413, 0.117250, -0.112640, 0.024172, -0.107633, 0.198720, 0.190383] \n",
      "||Ax - b|| = 6.817480703009663E-10\n"
     ]
    }
   ],
   "source": [
    "val CGS: ConjugateGradientNormalResidualSolver \n",
    "        = ConjugateGradientNormalResidualSolver(\n",
    "                10, // maximum number of iterations\n",
    "                AbsoluteTolerance(1e-8) // precision\n",
    "        )\n",
    "val soln6: IterativeLinearSystemSolver.Solution = CGS.solve(problem)\n",
    "val x6: Vector = soln6.search(SparseVector(A.nCols())) // use 0 as the initial guess\n",
    "println(\"x = \" + x6)\n",
    "val Ax6_b: Vector = A.multiply(x6).minus(b) // verify that Ax = b\n",
    "println(\"||Ax - b|| = \" + Ax6_b.norm()) // should be (close to) 0"
   ]
  },
  {
   "cell_type": "code",
   "execution_count": 85,
   "metadata": {},
   "outputs": [
    {
     "name": "stdout",
     "output_type": "stream",
     "text": [
      "x = [-0.041860, -0.003413, 0.117250, -0.112640, 0.024172, -0.107633, 0.198720, 0.190383] \n",
      "||Ax - b|| = 1.0175362097255202E-15\n"
     ]
    }
   ],
   "source": [
    "val GRES: GeneralizedConjugateResidualSolver \n",
    "        = GeneralizedConjugateResidualSolver(\n",
    "                10, // maximum number of iterations\n",
    "                AbsoluteTolerance(1e-8) // precision\n",
    "        )\n",
    "val soln7: IterativeLinearSystemSolver.Solution = GRES.solve(problem)\n",
    "val x7: Vector = soln7.search(SparseVector(A.nCols())) // use 0 as the initial guess\n",
    "println(\"x = \" + x7)\n",
    "val Ax7_b: Vector = A.multiply(x7).minus(b) // verify that Ax = b\n",
    "println(\"||Ax - b|| = \" + Ax7_b.norm()) // should be (close to) 0"
   ]
  },
  {
   "cell_type": "code",
   "execution_count": 86,
   "metadata": {},
   "outputs": [
    {
     "name": "stdout",
     "output_type": "stream",
     "text": [
      "x = [-0.041860, -0.003413, 0.117250, -0.112640, 0.024172, -0.107633, 0.198720, 0.190383] \n",
      "||Ax - b|| = 1.0053497077208614E-15\n"
     ]
    }
   ],
   "source": [
    "val GMRES: GeneralizedMinimalResidualSolver \n",
    "        = GeneralizedMinimalResidualSolver(\n",
    "                10, // maximum number of iterations\n",
    "                AbsoluteTolerance(1e-8) // precision\n",
    "        )\n",
    "val soln8: IterativeLinearSystemSolver.Solution = GMRES.solve(problem)\n",
    "val x8: Vector = soln8.search(SparseVector(A.nCols())) // use 0 as the initial guess\n",
    "println(\"x = \" + x8)\n",
    "val Ax8_b: Vector = A.multiply(x8).minus(b) // verify that Ax = b\n",
    "println(\"||Ax - b|| = \" + Ax8_b.norm()) // should be (close to) 0"
   ]
  },
  {
   "cell_type": "code",
   "execution_count": 87,
   "metadata": {},
   "outputs": [
    {
     "name": "stdout",
     "output_type": "stream",
     "text": [
      "x = [-0.041860, -0.003413, 0.117250, -0.112640, 0.024172, -0.107633, 0.198720, 0.190383] \n",
      "||Ax - b|| = 2.392209894095706E-13\n"
     ]
    }
   ],
   "source": [
    "val MINRES: MinimalResidualSolver = MinimalResidualSolver(\n",
    "        10, // maximum number of iterations\n",
    "        AbsoluteTolerance(1e-8) // precision\n",
    ")\n",
    "val monitor: CountMonitor<Vector> = CountMonitor<Vector>()\n",
    "val soln9: IterativeLinearSystemSolver.Solution = MINRES.solve(problem, monitor)\n",
    "val x9: Vector = soln9.search(SparseVector(A.nCols())) // use 0 as the initial guess\n",
    "println(\"x = \" + x9)\n",
    "val Ax9_b: Vector = A.multiply(x9).minus(b) // verify that Ax = b\n",
    "println(\"||Ax - b|| = \" + Ax9_b.norm()) // should be (close to) 0"
   ]
  },
  {
   "cell_type": "code",
   "execution_count": 88,
   "metadata": {},
   "outputs": [
    {
     "name": "stdout",
     "output_type": "stream",
     "text": [
      "x = [-0.041860, -0.003413, 0.117250, -0.112640, 0.024172, -0.107633, 0.198720, 0.190383] \n",
      "||Ax - b|| = 5.933770145831627E-13\n"
     ]
    }
   ],
   "source": [
    "val QMR: QuasiMinimalResidualSolver\n",
    "        = QuasiMinimalResidualSolver(\n",
    "                10, // maximum number of iterations\n",
    "                AbsoluteTolerance(1e-8) // precision\n",
    "        )\n",
    "val soln10: IterativeLinearSystemSolver.Solution = QMR.solve(problem)\n",
    "val x10: Vector = soln10.search(SparseVector(A.nCols())) // use 0 as the initial guess\n",
    "println(\"x = \" + x10)\n",
    "val Ax10_b: Vector = A.multiply(x10).minus(b) // verify that Ax = b\n",
    "println(\"||Ax - b|| = \" + Ax10_b.norm()) // should be (close to) 0"
   ]
  },
  {
   "cell_type": "code",
   "execution_count": 11,
   "metadata": {},
   "outputs": [
    {
     "name": "stdout",
     "output_type": "stream",
     "text": [
      "Solve a sparse linear system using stationary iterative solvers\n",
      "x = [0.090917, 0.636361] \n",
      "||Ax - b|| = 2.8131430040989613E-5\n"
     ]
    }
   ],
   "source": [
    "println(\"Solve a sparse linear system using stationary iterative solvers\")\n",
    "    \n",
    "var A: Matrix = SymmetricMatrix(arrayOf(\n",
    "            doubleArrayOf(4.0),\n",
    "            doubleArrayOf(1.0, 3.0)))\n",
    "\n",
    "val b = DenseVector(arrayOf(1.0, 2.0))\n",
    "        \n",
    "// construct a linear system problem to be solved\n",
    "val problem: LSProblem = LSProblem(A, b)\n",
    "\n",
    "// construct a sparse matrix linear system solver\n",
    "val gauss_seidel: GaussSeidelSolver = GaussSeidelSolver(10, AbsoluteTolerance(1e-4))\n",
    "val soln1: IterativeLinearSystemSolver.Solution = gauss_seidel.solve(problem)\n",
    "val x1 = soln1.search(SparseVector(A.nCols())) // use 0 as the initial guess\n",
    "println(\"x = \" + x1)\n",
    "val Ax1_b = A.multiply(x1).minus(b) // verify that Ax = b\n",
    "println(\"||Ax - b|| = \" + Ax1_b.norm()) // should be (close to) 0"
   ]
  },
  {
   "cell_type": "code",
   "execution_count": 90,
   "metadata": {},
   "outputs": [
    {
     "name": "stdout",
     "output_type": "stream",
     "text": [
      "x = [0.090917, 0.636365] \n",
      "||Ax - b|| = 2.8131430040989613E-5\n"
     ]
    }
   ],
   "source": [
    "// construct a sparse matrix linear system solver\n",
    "val jacobi: JacobiSolver = JacobiSolver(10, AbsoluteTolerance(1e-4))\n",
    "val soln2: IterativeLinearSystemSolver.Solution = jacobi.solve(problem)\n",
    "val x2 = soln2.search(SparseVector(A.nCols()))\n",
    "println(\"x = \" + x2)\n",
    "val Ax2_b = A.multiply(x1).minus(b) // verify that Ax = b\n",
    "println(\"||Ax - b|| = \" + Ax2_b.norm()) // should be (close to) 0"
   ]
  },
  {
   "cell_type": "code",
   "execution_count": 91,
   "metadata": {},
   "outputs": [
    {
     "name": "stdout",
     "output_type": "stream",
     "text": [
      "x = [0.090909, 0.636344] \n",
      "||Ax - b|| = 6.462981890138403E-5\n"
     ]
    }
   ],
   "source": [
    "val SOR: SuccessiveOverrelaxationSolver = SuccessiveOverrelaxationSolver(\n",
    "                1.5,\n",
    "                20, // need more iterations\n",
    "                AbsoluteTolerance(1e-4))\n",
    "val soln3: IterativeLinearSystemSolver.Solution = SOR.solve(problem)\n",
    "val x3 = soln3.search(SparseVector(A.nCols())) // use 0 as the initial guess\n",
    "println(\"x = \" + x3)\n",
    "val Ax3_b = A.multiply(x3).minus(b) // verify that Ax = b\n",
    "println(\"||Ax - b|| = \" + Ax3_b.norm()) // should be (close to) 0"
   ]
  },
  {
   "cell_type": "code",
   "execution_count": 92,
   "metadata": {},
   "outputs": [
    {
     "name": "stdout",
     "output_type": "stream",
     "text": [
      "x = [0.090904, 0.636348] \n",
      "||Ax - b|| = 6.213495416129946E-5\n"
     ]
    }
   ],
   "source": [
    "val SSOR: SymmetricSuccessiveOverrelaxationSolver \n",
    "        = SymmetricSuccessiveOverrelaxationSolver(\n",
    "                1.5,\n",
    "                20, // need more iterations\n",
    "                AbsoluteTolerance(1e-4))\n",
    "val soln4: IterativeLinearSystemSolver.Solution = SSOR.solve(problem)\n",
    "val x4 = soln4.search(SparseVector(A.nCols())) // use 0 as the initial guess\n",
    "println(\"x = \" + x4)\n",
    "val Ax4_b = A.multiply(x4).minus(b) // verify that Ax = b\n",
    "println(\"||Ax - b|| = \" + Ax4_b.norm()) // should be (close to) 0"
   ]
  }
 ],
 "metadata": {
  "kernelspec": {
   "display_name": "Kotlin",
   "language": "kotlin",
   "name": "kotlin"
  },
  "language_info": {
   "codemirror_mode": "text/x-kotlin",
   "file_extension": ".kt",
   "mimetype": "text/x-kotlin",
   "name": "kotlin",
   "nbconvert_exporter": "",
   "pygments_lexer": "kotlin",
   "version": "1.6.20-dev-6372"
  }
 },
 "nbformat": 4,
 "nbformat_minor": 4
}
