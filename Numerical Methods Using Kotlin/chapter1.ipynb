{
 "cells": [
  {
   "cell_type": "markdown",
   "metadata": {},
   "source": [
    "# Chapter 1"
   ]
  },
  {
   "cell_type": "code",
   "execution_count": 1,
   "metadata": {},
   "outputs": [],
   "source": [
    "%use s2\n",
    "\n",
    "println(\"Chapter1 demos: \")"
   ]
  },
  {
   "cell_type": "code",
   "execution_count": 2,
   "metadata": {},
   "outputs": [
    {
     "name": "stdout",
     "output_type": "stream",
     "text": [
      "Chapter1 demos: \n",
      "[1.000000, 2.000000, 3.000000] \n"
     ]
    }
   ],
   "source": [
    "val v = DenseVector(arrayOf(1.0, 2.0, 3.0))\n",
    "println(v)"
   ]
  },
  {
   "cell_type": "code",
   "execution_count": 3,
   "metadata": {},
   "outputs": [
    {
     "name": "stdout",
     "output_type": "stream",
     "text": [
      "Dot product of two vectors\n",
      "11.0\n"
     ]
    }
   ],
   "source": [
    "println(\"Dot product of two vectors\")\n",
    "\n",
    "val v1 = DenseVector(arrayOf(1.0, 2.0))\n",
    "val v2 = DenseVector(arrayOf(3.0, 4.0))\n",
    "val product = v1.innerProduct(v2)\n",
    "println(product)"
   ]
  },
  {
   "cell_type": "code",
   "execution_count": 4,
   "metadata": {},
   "outputs": [
    {
     "name": "stdout",
     "output_type": "stream",
     "text": [
      "Invert a Matrix\n",
      "3x3\n",
      "\t[,1] [,2] [,3] \n",
      "[1,] -0.809524, -0.142857, 0.333333, \n",
      "[2,] 1.047619, 0.714286, -0.666667, \n",
      "[3,] -0.095238, -0.428571, 0.333333, \n"
     ]
    }
   ],
   "source": [
    "println(\"Invert a Matrix\")\n",
    "\n",
    "val A = DenseMatrix(arrayOf(\n",
    "        doubleArrayOf(1.0, 2.0, 3.0), \n",
    "        doubleArrayOf(6.0, 5.0, 4.0), \n",
    "        doubleArrayOf(8.0, 7.0, 9.0)))\n",
    "\n",
    "val Ainv = Inverse(A)\n",
    "println(Ainv)"
   ]
  },
  {
   "cell_type": "code",
   "execution_count": null,
   "metadata": {},
   "outputs": [],
   "source": []
  }
 ],
 "metadata": {
  "kernelspec": {
   "display_name": "Kotlin",
   "language": "kotlin",
   "name": "kotlin"
  },
  "language_info": {
   "codemirror_mode": "text/x-kotlin",
   "file_extension": ".kt",
   "mimetype": "text/x-kotlin",
   "name": "kotlin",
   "nbconvert_exporter": "",
   "pygments_lexer": "kotlin",
   "version": "1.6.20-dev-6372"
  }
 },
 "nbformat": 4,
 "nbformat_minor": 4
}
