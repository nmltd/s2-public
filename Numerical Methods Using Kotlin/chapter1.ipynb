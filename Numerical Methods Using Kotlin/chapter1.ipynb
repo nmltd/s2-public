{
 "cells": [
  {
   "cell_type": "markdown",
   "metadata": {},
   "source": [
    "# Chapter 1"
   ]
  },
  {
   "cell_type": "code",
   "execution_count": null,
   "metadata": {},
   "outputs": [],
   "source": [
    "%use s2"
   ]
  },
  {
   "cell_type": "code",
   "execution_count": null,
   "metadata": {},
   "outputs": [],
   "source": [
    "println(\"Chapter1 demos: \")\n",
    "\n",
    "val v = DenseVector(arrayOf(1.0, 2.0, 3.0))\n",
    "println(v)"
   ]
  },
  {
   "cell_type": "code",
   "execution_count": null,
   "metadata": {},
   "outputs": [],
   "source": [
    "println(\"Dot product of two vectors\")\n",
    "\n",
    "val v1 = DenseVector(arrayOf(1.0, 2.0))\n",
    "val v2 = DenseVector(arrayOf(3.0, 4.0))\n",
    "val product = v1.innerProduct(v2)\n",
    "println(product)"
   ]
  },
  {
   "cell_type": "code",
   "execution_count": null,
   "metadata": {},
   "outputs": [],
   "source": [
    "println(\"Invert a Matrix\")\n",
    "\n",
    "val A = DenseMatrix(arrayOf(\n",
    "        doubleArrayOf(1.0, 2.0, 3.0), \n",
    "        doubleArrayOf(6.0, 5.0, 4.0), \n",
    "        doubleArrayOf(8.0, 7.0, 9.0)))\n",
    "\n",
    "val Ainv = Inverse(A)\n",
    "println(Ainv)"
   ]
  }
 ],
 "metadata": {
  "kernelspec": {
   "display_name": "Kotlin",
   "language": "kotlin",
   "name": "python392jvsc74a57bd02fa9724a83c1b912eacfa0df2390db8cc86de28df572c050c637f38dfda3ff34"
  },
  "language_info": {
   "name": "kotlin"
  },
  "orig_nbformat": 4
 },
 "nbformat": 4,
 "nbformat_minor": 2
}
