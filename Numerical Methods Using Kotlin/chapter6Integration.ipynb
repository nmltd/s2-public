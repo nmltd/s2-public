{
 "cells": [
  {
   "cell_type": "markdown",
   "metadata": {},
   "source": [
    "# Chapter 6 Integration"
   ]
  },
  {
   "cell_type": "code",
   "execution_count": 1,
   "metadata": {},
   "outputs": [
    {
     "name": "stdout",
     "output_type": "stream",
     "text": [
      "Chapter 6 demos on integration\n"
     ]
    }
   ],
   "source": [
    "%use s2\n",
    "\n",
    "println(\"Chapter 6 demos on integration\")"
   ]
  },
  {
   "cell_type": "code",
   "execution_count": 2,
   "metadata": {},
   "outputs": [
    {
     "name": "stdout",
     "output_type": "stream",
     "text": [
      "Integrate using the trapezoidal rule\n",
      "S_[1.5,3.5] f(x) dx = 18.833333\n"
     ]
    }
   ],
   "source": [
    "println(\"Integrate using the trapezoidal rule\")\n",
    "\n",
    "val f: UnivariateRealFunction = object : AbstractUnivariateRealFunction() {\n",
    "\n",
    "    override fun evaluate(x: Double): Double {\n",
    "        return -(x * x - 4 * x - 6) // -(x^2 - 4x - 6)\n",
    "    }\n",
    "}\n",
    "\n",
    "// the limit\n",
    "val a: Double = 1.5\n",
    "val b: Double = 3.5\n",
    "// an integrator using the trapezoidal rule\n",
    "val integrator: Integrator = Trapezoidal(1e-8, 20) // precision, max number of iterations\n",
    "// the integration\n",
    "val I: Double = integrator.integrate(f, a, b)\n",
    "println(String.format(\"S_[%.1f,%.1f] f(x) dx = %f\", a, b, I))"
   ]
  },
  {
   "cell_type": "code",
   "execution_count": 3,
   "metadata": {},
   "outputs": [
    {
     "name": "stdout",
     "output_type": "stream",
     "text": [
      "Integrate using the Simpson rule\n",
      "S_[1.5,3.5] f(x) dx = 18.833333\n"
     ]
    }
   ],
   "source": [
    "println(\"Integrate using the Simpson rule\")\n",
    "\n",
    "val f: UnivariateRealFunction = object : AbstractUnivariateRealFunction() {\n",
    "\n",
    "    override fun evaluate(x: Double): Double {\n",
    "        return -(x * x - 4 * x - 6) // -(x^2 - 4x - 6)\n",
    "    }\n",
    "}\n",
    "\n",
    "// the limit\n",
    "val a: Double = 1.5\n",
    "val b: Double = 3.5\n",
    "// an integrator using the Simpson rule\n",
    "val integrator: Integrator = Simpson(1e-8, 20) // precision, max number of iterations\n",
    "// the integration\n",
    "val I: Double = integrator.integrate(f, a, b)\n",
    "println(String.format(\"S_[%.1f,%.1f] f(x) dx = %f\", a, b, I))"
   ]
  },
  {
   "cell_type": "code",
   "execution_count": 4,
   "metadata": {},
   "outputs": [
    {
     "name": "stdout",
     "output_type": "stream",
     "text": [
      "Integrate using the Newton-Cotes formulas\n",
      "S_[0,1] f(x) dx = 3.1415926436556850, using the trapezoidal rule\n",
      "S_[0,1] f(x) dx = 3.1415926535528365, using the Simpson rule\n",
      "S_[0,1] f(x) dx = 3.1415926497180000, using the Newton-Cotes closed rule\n",
      "S_[0,1] f(x) dx = 3.1415926674370604, using using the Newton-Cotes open rule\n"
     ]
    }
   ],
   "source": [
    "println(\"Integrate using the Newton-Cotes formulas\")\n",
    "\n",
    "val f: UnivariateRealFunction = object : AbstractUnivariateRealFunction() {\n",
    "\n",
    "    override fun evaluate(x: Double): Double {\n",
    "        return 4.0 / (1.0 + x * x) // 4/(1+x^2)\n",
    "    }\n",
    "}\n",
    "\n",
    "// the limit\n",
    "val a: Double = 0.0 \n",
    "val b: Double = 1.0\n",
    "val integrator1: Integrator = Trapezoidal(1e-8, 20) // using the trapezoidal rule\n",
    "val integrator2: Integrator = Simpson(1e-8, 20) // using the Simpson rule\n",
    "val integrator3: Integrator = NewtonCotes(3, NewtonCotes.Type.CLOSED, 1e-8, 20) // using the Newton-Cotes rule\n",
    "val integrator4: Integrator = NewtonCotes(3, NewtonCotes.Type.OPEN, 1e-8, 20) // using the Newton-Cotes rule\n",
    "\n",
    "// the integrations\n",
    "val I1: Double = integrator1.integrate(f, a, b)\n",
    "println(String.format(\"S_[%.0f,%.0f] f(x) dx = %.16f, using the trapezoidal rule\", a, b, I1))\n",
    "val I2: Double = integrator2.integrate(f, a, b)\n",
    "println(String.format(\"S_[%.0f,%.0f] f(x) dx = %.16f, using the Simpson rule\", a, b, I2))\n",
    "val I3: Double = integrator3.integrate(f, a, b)\n",
    "println(String.format(\"S_[%.0f,%.0f] f(x) dx = %.16f, using the Newton-Cotes closed rule\", a, b, I3))\n",
    "val I4: Double = integrator4.integrate(f, a, b)\n",
    "println(String.format(\"S_[%.0f,%.0f] f(x) dx = %.16f, using using the Newton-Cotes open rule\", a, b, I4))"
   ]
  },
  {
   "cell_type": "code",
   "execution_count": 5,
   "metadata": {},
   "outputs": [
    {
     "name": "stdout",
     "output_type": "stream",
     "text": [
      "Integrate using the Romberg formulas\n",
      "S_[0,1] f(x) dx = -5.8054719346672840, using the trapezoidal rule\n",
      "S_[0,1] f(x) dx = -5.8054719494768790, using the Simpson rule\n",
      "S_[0,1] f(x) dx = -5.8054719505327520, using the Romberg formula\n"
     ]
    }
   ],
   "source": [
    "println(\"Integrate using the Romberg formulas\")\n",
    "\n",
    "val f: UnivariateRealFunction = object : AbstractUnivariateRealFunction() {\n",
    "    override fun evaluate(x: Double): Double {\n",
    "        return exp(2.0 * x) - 4.0 * x - 7.0\n",
    "    }\n",
    "}\n",
    "val integrator1: IterativeIntegrator = Trapezoidal(1e-8, 20) // using the trapezoidal rule\n",
    "val integrator2: Integrator = Simpson(1e-8, 20) // using the Simpson rule\n",
    "val integrator3: Integrator = Romberg(integrator1)\n",
    "// the limit\n",
    "val a: Double = 0.0 \n",
    "val b: Double = 1.0\n",
    "// the integrations\n",
    "val I1: Double = integrator1.integrate(f, a, b)\n",
    "println(String.format(\"S_[%.0f,%.0f] f(x) dx = %.16f, using the trapezoidal rule\", a, b, I1))\n",
    "val I2: Double = integrator2.integrate(f, a, b)\n",
    "println(String.format(\"S_[%.0f,%.0f] f(x) dx = %.16f, using the Simpson rule\", a, b, I2))\n",
    "val I3: Double = integrator3.integrate(f, a, b)\n",
    "println(String.format(\"S_[%.0f,%.0f] f(x) dx = %.16f, using the Romberg formula\", a, b, I3))"
   ]
  },
  {
   "cell_type": "code",
   "execution_count": 6,
   "metadata": {},
   "outputs": [
    {
     "name": "stdout",
     "output_type": "stream",
     "text": [
      "Integrate using the Gauss Legendre quadrature\n",
      "S_[-1,1] f(x) dx = 2.0000000000000000, using the trapezoidal rule\n",
      "S_[-1,1] f(x) dx = 2.0000000000000000, using the Sampson rule\n",
      "S_[-1,1] f(x) dx = 2.0000000000000000, using the Gauss Legendre quadrature\n"
     ]
    }
   ],
   "source": [
    "println(\"Integrate using the Gauss Legendre quadrature\")\n",
    "\n",
    "val f: UnivariateRealFunction = object : AbstractUnivariateRealFunction() {\n",
    "    override fun evaluate(x: Double): Double {\n",
    "        return 4 * x * x * x + 2 * x + 1 // x^4 + x^2 + x\n",
    "    }\n",
    "}\n",
    "\n",
    "// the integrators\n",
    "val integrator1: Integrator = Trapezoidal(1e-8, 20) // using the trapezoidal rule\n",
    "val integrator2: Integrator = Simpson(1e-8, 20) // using the Simpson rule        \n",
    "val integrator3: Integrator = GaussLegendreQuadrature(2)\n",
    "// the limits\n",
    "val a: Double = -1.0\n",
    "val b: Double = 1.0\n",
    "\n",
    "// the integrations\n",
    "val I1: Double = integrator1.integrate(f, a, b)\n",
    "println(String.format(\"S_[%.0f,%.0f] f(x) dx = %.16f, using the trapezoidal rule\", a, b, I1))\n",
    "val I2: Double = integrator2.integrate(f, a, b)\n",
    "println(String.format(\"S_[%.0f,%.0f] f(x) dx = %.16f, using the Sampson rule\", a, b, I2))\n",
    "val I3: Double = integrator3.integrate(f, a, b)\n",
    "println(String.format(\"S_[%.0f,%.0f] f(x) dx = %.16f, using the Gauss Legendre quadrature\", a, b, I3))"
   ]
  },
  {
   "cell_type": "code",
   "execution_count": 7,
   "metadata": {},
   "outputs": [
    {
     "name": "stdout",
     "output_type": "stream",
     "text": [
      "Integrate using the Gauss Laguerre quadrature\n",
      "S_[0,Infinity] f(x) dx = NaN, using the trapezoidal rule\n",
      "S_[0,Infinity] f(x) dx = NaN, using the Sampson rule\n",
      "S_[0,Infinity] f(x) dx = 5.0000000000000000, using the Gauss Laguerre quadrature\n"
     ]
    }
   ],
   "source": [
    "println(\"Integrate using the Gauss Laguerre quadrature\")\n",
    "\n",
    "val poly: Polynomial = Polynomial(1.0, 2.0, 1.0) // x^2 + 2x + 1\n",
    "val f: UnivariateRealFunction = object : AbstractUnivariateRealFunction() {\n",
    "    override fun evaluate(x: Double): Double {\n",
    "        return exp(-x) * poly.evaluate(x) // e^-x * (x^2 + 2x + 1)\n",
    "    }\n",
    "}\n",
    "\n",
    "// the integrators\n",
    "val integrator1: Integrator = Trapezoidal(1e-8, 20) // using the trapezoidal rule\n",
    "val integrator2: Integrator = Simpson(1e-8, 20) // using the Simpson rule        \n",
    "val integrator3: Integrator = GaussLaguerreQuadrature(2, 1e-8)\n",
    "\n",
    "// the limits\n",
    "val a: Double = 0.0\n",
    "val b: Double = Double.POSITIVE_INFINITY\n",
    "\n",
    "// the integrations\n",
    "val I1: Double = integrator1.integrate(f, a, b)\n",
    "println(String.format(\"S_[%.0f,%.0f] f(x) dx = %.16f, using the trapezoidal rule\", a, b, I1))\n",
    "val I2: Double = integrator2.integrate(f, a, b)\n",
    "println(String.format(\"S_[%.0f,%.0f] f(x) dx = %.16f, using the Sampson rule\", a, b, I2))\n",
    "val I3: Double = integrator3.integrate(f, a, b)\n",
    "println(String.format(\"S_[%.0f,%.0f] f(x) dx = %.16f, using the Gauss Laguerre quadrature\", a, b, I3))"
   ]
  },
  {
   "cell_type": "code",
   "execution_count": 8,
   "metadata": {},
   "outputs": [
    {
     "name": "stdout",
     "output_type": "stream",
     "text": [
      "Integrate using the Gauss Hermite quadrature\n",
      "S_[-Infinity,Infinity] f(x) dx = NaN, using the trapezoidal rule\n",
      "S_[-Infinity,Infinity] f(x) dx = NaN, using the Sampson rule\n",
      "S_[-Infinity,Infinity] f(x) dx = 2.6586807763582730, using the Gauss Hermite quadrature\n"
     ]
    }
   ],
   "source": [
    "println(\"Integrate using the Gauss Hermite quadrature\")\n",
    "\n",
    "val poly: Polynomial = Polynomial(1.0, 2.0, 1.0) // x^2 + 2x + 1\n",
    "val f: UnivariateRealFunction = object : AbstractUnivariateRealFunction() {\n",
    "    override fun evaluate(x: Double): Double {\n",
    "        return exp(-(x * x)) * poly.evaluate(x) // e^(-x^2) * (x^2 + 2x + 1)\n",
    "    }\n",
    "}\n",
    "\n",
    "// the integrators\n",
    "val integrator1: Integrator = Trapezoidal(1e-8, 20) // using the trapezoidal rule\n",
    "val integrator2: Integrator = Simpson(1e-8, 20) // using the Simpson rule        \n",
    "val integrator3: Integrator = GaussHermiteQuadrature(2)\n",
    "\n",
    "// the limits\n",
    "val a: Double = Double.NEGATIVE_INFINITY\n",
    "val b: Double = Double.POSITIVE_INFINITY\n",
    "\n",
    "// the integrations\n",
    "val I1: Double = integrator1.integrate(f, a, b)\n",
    "println(String.format(\"S_[%.0f,%.0f] f(x) dx = %.16f, using the trapezoidal rule\", a, b, I1))\n",
    "val I2: Double = integrator2.integrate(f, a, b)\n",
    "println(String.format(\"S_[%.0f,%.0f] f(x) dx = %.16f, using the Sampson rule\", a, b, I2))\n",
    "val I3: Double = integrator3.integrate(f, a, b)\n",
    "println(String.format(\"S_[%.0f,%.0f] f(x) dx = %.16f, using the Gauss Hermite quadrature\", a, b, I3))"
   ]
  },
  {
   "cell_type": "code",
   "execution_count": 9,
   "metadata": {},
   "outputs": [
    {
     "name": "stdout",
     "output_type": "stream",
     "text": [
      "Integrate using the Gauss Chebyshev quadrature\n",
      "S_[-1,1] f(x) dx = NaN, using the trapezoidal rule\n",
      "S_[-1,1] f(x) dx = NaN, using the Sampson rule\n",
      "S_[-1,1] f(x) dx = 4.7123889803846900, using the Gauss Hermite quadrature\n"
     ]
    }
   ],
   "source": [
    "println(\"Integrate using the Gauss Chebyshev quadrature\")\n",
    "\n",
    "val poly: Polynomial = Polynomial(1.0, 2.0, 1.0) // x^2 + 2x + 1\n",
    "val f: UnivariateRealFunction = object : AbstractUnivariateRealFunction() {\n",
    "    override fun evaluate(x: Double): Double {\n",
    "        // second order polynomial divided by weighting can be reproduced exactly\n",
    "        return poly.evaluate(x) / sqrt(1 - x * x)\n",
    "    }\n",
    "}\n",
    "\n",
    "// the integrators\n",
    "val integrator1: Integrator = Trapezoidal(1e-8, 20) // using the trapezoidal rule\n",
    "val integrator2: Integrator = Simpson(1e-8, 20) // using the Simpson rule        \n",
    "val integrator3: Integrator = GaussChebyshevQuadrature(2)\n",
    "\n",
    "// the limits\n",
    "val a: Double = -1.0\n",
    "val b: Double = 1.0\n",
    "\n",
    "// the integrations\n",
    "val I1: Double = integrator1.integrate(f, a, b)\n",
    "println(String.format(\"S_[%.0f,%.0f] f(x) dx = %.16f, using the trapezoidal rule\", a, b, I1))\n",
    "val I2: Double = integrator2.integrate(f, a, b)\n",
    "println(String.format(\"S_[%.0f,%.0f] f(x) dx = %.16f, using the Sampson rule\", a, b, I2))\n",
    "val  I3: Double = integrator3.integrate(f, a, b)\n",
    "println(String.format(\"S_[%.0f,%.0f] f(x) dx = %.16f, using the Gauss Hermite quadrature\", a, b, I3))"
   ]
  },
  {
   "cell_type": "code",
   "execution_count": 10,
   "metadata": {},
   "outputs": [
    {
     "name": "stdout",
     "output_type": "stream",
     "text": [
      "Integration by substitution using StandardInterval\n",
      "S_[0,10] f(x) dx = 50.000000\n"
     ]
    }
   ],
   "source": [
    "println(\"Integration by substitution using StandardInterval\")\n",
    "\n",
    "val a: Double = 0.0\n",
    "val b: Double = 10.0 // the limits\n",
    "val integrator1: Integrator\n",
    "        = NewtonCotes(3, NewtonCotes.Type.OPEN, 1e-8, 10)\n",
    "val integrator2: Integrator\n",
    "        = ChangeOfVariable(StandardInterval(a, b), integrator1)\n",
    "\n",
    "val f: UnivariateRealFunction = object : AbstractUnivariateRealFunction() {\n",
    "    override fun evaluate(t: Double): Double {\n",
    "        return t // the original integrand\n",
    "    }\n",
    "}\n",
    "\n",
    "val I: Double = integrator2.integrate(\n",
    "        f,\n",
    "        a, \n",
    "        b // the original limits\n",
    ")\n",
    "\n",
    "println(String.format(\"S_[%.0f,%.0f] f(x) dx = %f\", a, b, I))"
   ]
  },
  {
   "cell_type": "code",
   "execution_count": 11,
   "metadata": {},
   "outputs": [
    {
     "name": "stdout",
     "output_type": "stream",
     "text": [
      "Integration by substitution using InvertingVariable\n",
      "S_[1,Infinity] f(x) dx = 1.000000\n"
     ]
    }
   ],
   "source": [
    "println(\"Integration by substitution using InvertingVariable\")\n",
    "\n",
    "val a: Double = 1.0\n",
    "val b: Double = Double.POSITIVE_INFINITY // the limits\n",
    "val integrator1: NewtonCotes\n",
    "        = NewtonCotes(3, NewtonCotes.Type.OPEN, 1e-15, 10)\n",
    "val integrator2: ChangeOfVariable \n",
    "        = ChangeOfVariable(InvertingVariable(a, b), integrator1)\n",
    "\n",
    "val f: UnivariateRealFunction = object : AbstractUnivariateRealFunction() {\n",
    "    override fun evaluate(x: Double): Double {\n",
    "        return 1 / x / x // the original integrand\n",
    "    }\n",
    "}\n",
    "\n",
    "val  I: Double = integrator2.integrate( // I = 1\n",
    "        f,\n",
    "        a, \n",
    "        b // the original limits\n",
    ")\n",
    "\n",
    "println(String.format(\"S_[%.0f,%.0f] f(x) dx = %f\", a, b, I))"
   ]
  },
  {
   "cell_type": "code",
   "execution_count": 12,
   "metadata": {},
   "outputs": [
    {
     "name": "stdout",
     "output_type": "stream",
     "text": [
      "Integration by substitution using Exponential\n",
      "S_[0,Infinity] f(x) dx = 0.886227\n"
     ]
    }
   ],
   "source": [
    "println(\"Integration by substitution using Exponential\")\n",
    "\n",
    "val a: Double = 0.0\n",
    "val b: Double = Double.POSITIVE_INFINITY // the limits\n",
    "val integrator1: NewtonCotes\n",
    "        = NewtonCotes(3, NewtonCotes.Type.OPEN, 1e-15, 15)\n",
    "val integrator2: ChangeOfVariable\n",
    "        = ChangeOfVariable(Exponential(a), integrator1)\n",
    "\n",
    "val f: UnivariateRealFunction = object :  AbstractUnivariateRealFunction() {\n",
    "    override fun evaluate(x: Double): Double {\n",
    "        return sqrt(x) * exp(-x) // the original integrand\n",
    "    }\n",
    "}\n",
    "\n",
    "val I: Double = integrator2.integrate( // I = sqrt(PI)/2\n",
    "        f,\n",
    "        a, \n",
    "        b // the original limits\n",
    ")\n",
    "\n",
    "println(String.format(\"S_[%.0f,%.0f] f(x) dx = %f\", a, b, I))"
   ]
  },
  {
   "cell_type": "code",
   "execution_count": 13,
   "metadata": {},
   "outputs": [
    {
     "name": "stdout",
     "output_type": "stream",
     "text": [
      "Integration by substitution using MixedRule\n",
      "S_[0,Infinity] f(x) dx = 0.861179\n"
     ]
    }
   ],
   "source": [
    "println(\"Integration by substitution using MixedRule\")\n",
    "\n",
    "val f: UnivariateRealFunction = object : AbstractUnivariateRealFunction() {\n",
    "    override fun evaluate(x: Double): Double {\n",
    "        return exp(-x) * x.pow(-1.5) * sin(x / 2)\n",
    "    }\n",
    "}\n",
    "\n",
    "val a: Double = 0.0\n",
    "val b: Double = Double.POSITIVE_INFINITY // the limits\n",
    "val integrator1: NewtonCotes\n",
    "        = NewtonCotes(2, NewtonCotes.Type.CLOSED, 1e-15, 7) // only 7 iteration!\n",
    "val integrator2: ChangeOfVariable\n",
    "        = ChangeOfVariable(MixedRule(f, a, b, 1.0), integrator1)\n",
    "val I: Double = integrator2.integrate(f, a, b) // I = sqrt(PI * (sqrt(5) - 2))\n",
    "\n",
    "println(String.format(\"S_[%.0f,%.0f] f(x) dx = %f\", a, b, I))"
   ]
  },
  {
   "cell_type": "code",
   "execution_count": 14,
   "metadata": {},
   "outputs": [
    {
     "name": "stdout",
     "output_type": "stream",
     "text": [
      "Integration by substitution using DoubleExponential\n",
      "S_[0,1] f(x) dx = 0.355066\n"
     ]
    }
   ],
   "source": [
    "println(\"Integration by substitution using DoubleExponential\")\n",
    "\n",
    "val f: UnivariateRealFunction = object : AbstractUnivariateRealFunction() {\n",
    "    override fun evaluate(x: Double): Double {\n",
    "        return ln(x) * ln(1 - x)\n",
    "    }\n",
    "}\n",
    "\n",
    "val a: Double = 0.0\n",
    "val b: Double = 1.0 // the limits\n",
    "val integrator1: NewtonCotes\n",
    "        = NewtonCotes(2, NewtonCotes.Type.CLOSED, 1e-15, 6) // only 6 iterations!\n",
    "val integrator2: ChangeOfVariable\n",
    "        = ChangeOfVariable(DoubleExponential(f, a, b, 1.0), integrator1)\n",
    "val I: Double = integrator2.integrate(f, a, b) // I = 2 - PI * PI / 6\n",
    "\n",
    "println(String.format(\"S_[%.0f,%.0f] f(x) dx = %f\", a, b, I))"
   ]
  },
  {
   "cell_type": "code",
   "execution_count": 15,
   "metadata": {},
   "outputs": [
    {
     "name": "stdout",
     "output_type": "stream",
     "text": [
      "Integration by substitution using DoubleExponential4RealLine\n",
      "S_[-Infinity,Infinity] f(x) dx = 1.772454\n"
     ]
    }
   ],
   "source": [
    "println(\"Integration by substitution using DoubleExponential4RealLine\")\n",
    "\n",
    "val f: UnivariateRealFunction = object : AbstractUnivariateRealFunction() {\n",
    "    override fun evaluate(x: Double): Double {\n",
    "        return exp(-x * x)\n",
    "    }\n",
    "}\n",
    "\n",
    "val a: Double = Double.NEGATIVE_INFINITY\n",
    "val b: Double = Double.POSITIVE_INFINITY // the limits\n",
    "val integrator1: NewtonCotes\n",
    "        = NewtonCotes(3, NewtonCotes.Type.CLOSED, 1e-15, 6)//only 6 iterations!\n",
    "val integrator2: ChangeOfVariable\n",
    "        = ChangeOfVariable(DoubleExponential4RealLine(f, a, b, 1.0), integrator1)\n",
    "val I: Double = integrator2.integrate(f, a, b) // sqrt(PI)\n",
    "\n",
    "println(String.format(\"S_[%.0f,%.0f] f(x) dx = %f\", a, b, I))"
   ]
  },
  {
   "cell_type": "code",
   "execution_count": 16,
   "metadata": {},
   "outputs": [
    {
     "name": "stdout",
     "output_type": "stream",
     "text": [
      "Integration by substitution using DoubleExponential4HalfRealLine\n",
      "S_[-Infinity,Infinity] f(x) dx = 1.644936\n"
     ]
    }
   ],
   "source": [
    "println(\"Integration by substitution using DoubleExponential4HalfRealLine\")\n",
    "\n",
    "val f: UnivariateRealFunction = object :  AbstractUnivariateRealFunction() {\n",
    "    override fun evaluate(x: Double): Double {\n",
    "        return x / (exp(x) - 1)\n",
    "    }\n",
    "}\n",
    "\n",
    "val a: Double = Double.NEGATIVE_INFINITY\n",
    "val b: Double = Double.POSITIVE_INFINITY // the limits\n",
    "val integrator: NewtonCotes \n",
    "        = NewtonCotes(3, NewtonCotes.Type.OPEN, 1e-15, 15)\n",
    "val instance: ChangeOfVariable \n",
    "        = ChangeOfVariable(DoubleExponential4HalfRealLine(f, a, b, 1.0), integrator)\n",
    "val I: Double = instance.integrate(f, a, b) // PI * PI / 6\n",
    "\n",
    "println(String.format(\"S_[%.0f,%.0f] f(x) dx = %f\", a, b, I))"
   ]
  },
  {
   "cell_type": "code",
   "execution_count": 17,
   "metadata": {},
   "outputs": [
    {
     "name": "stdout",
     "output_type": "stream",
     "text": [
      "Integration by substitution using DoubleExponential4HalfRealLine\n",
      "S_[1,2] f(x) dx = 2.000000\n"
     ]
    }
   ],
   "source": [
    "println(\"Integration by substitution using DoubleExponential4HalfRealLine\")\n",
    "\n",
    "val a: Double = 1.0 \n",
    "val b: Double = 2.0 // the limits\n",
    "val integrator1: NewtonCotes\n",
    "        = NewtonCotes(3, NewtonCotes.Type.OPEN, 1e-15, 15)\n",
    "val integrator2 = ChangeOfVariable(\n",
    "                PowerLawSingularity(\n",
    "                        PowerLawSingularity.PowerLawSingularityType.LOWER,\n",
    "                        0.5, // gamma = 0.5\n",
    "                        a, b),\n",
    "                integrator1)\n",
    "\n",
    "val f: UnivariateRealFunction = object : AbstractUnivariateRealFunction() {\n",
    "    override fun evaluate(x: Double): Double {\n",
    "        return 1 / sqrt(x - 1)\n",
    "    }\n",
    "}\n",
    "\n",
    "val I: Double = integrator2.integrate( // I = 2\n",
    "        f,\n",
    "        a, \n",
    "        b\n",
    ")\n",
    "\n",
    "println(String.format(\"S_[%.0f,%.0f] f(x) dx = %f\", a, b, I))"
   ]
  }
 ],
 "metadata": {
  "kernelspec": {
   "display_name": "Kotlin",
   "language": "kotlin",
   "name": "kotlin"
  },
  "language_info": {
   "codemirror_mode": "text/x-kotlin",
   "file_extension": ".kt",
   "mimetype": "text/x-kotlin",
   "name": "kotlin",
   "nbconvert_exporter": "",
   "pygments_lexer": "kotlin",
   "version": "1.6.20-dev-6372"
  }
 },
 "nbformat": 4,
 "nbformat_minor": 4
}
