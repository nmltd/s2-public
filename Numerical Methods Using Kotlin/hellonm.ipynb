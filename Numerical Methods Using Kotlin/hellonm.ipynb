{
 "cells": [
  {
   "cell_type": "code",
   "execution_count": null,
   "metadata": {},
   "outputs": [],
   "source": [
    "%use s2"
   ]
  },
  {
   "cell_type": "code",
   "execution_count": null,
   "metadata": {},
   "outputs": [],
   "source": [
    "println(\"Hello NM!\")\n",
    "\n",
    "val v = DenseVector(arrayOf(1.0,2.0,3.0))\n",
    "println(v)"
   ]
  }
 ],
 "metadata": {
  "kernelspec": {
   "display_name": "Kotlin",
   "language": "kotlin",
   "name": "python392jvsc74a57bd02fa9724a83c1b912eacfa0df2390db8cc86de28df572c050c637f38dfda3ff34"
  },
  "language_info": {
   "name": "kotlin"
  },
  "orig_nbformat": 4
 },
 "nbformat": 4,
 "nbformat_minor": 2
}
