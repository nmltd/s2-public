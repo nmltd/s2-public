{
 "cells": [
  {
   "cell_type": "markdown",
   "metadata": {},
   "source": [
    "# Chapter 15"
   ]
  },
  {
   "cell_type": "code",
   "execution_count": 1,
   "metadata": {},
   "outputs": [
    {
     "name": "stdout",
     "output_type": "stream",
     "text": [
      "Chapter 15 demos\n"
     ]
    }
   ],
   "source": [
    "%use s2\n",
    "\n",
    "import dev.nm.algebra.linear.matrix.doubles.operation.MatrixFactory.cbind\n",
    "import dev.nm.stat.cointegration.JohansenAsymptoticDistribution.Test\n",
    "import java.util.Arrays\n",
    "\n",
    "println(\"Chapter 15 demos\")"
   ]
  },
  {
   "cell_type": "code",
   "execution_count": 2,
   "metadata": {},
   "outputs": [
    {
     "name": "stdout",
     "output_type": "stream",
     "text": [
      "univariate time series\n",
      "ts1:length = 10\n",
      "[1,] 1.000000, [2,] 2.000000, [3,] 3.000000, [4,] 4.000000, [5,] 5.000000, [6,] 6.000000, [7,] 7.000000, [8,] 8.000000, [9,] 9.000000, [10,] 10.000000, \n"
     ]
    }
   ],
   "source": [
    "println(\"univariate time series\")\n",
    "\n",
    "// construct a time series\n",
    "var ts1 = SimpleTimeSeries(doubleArrayOf(1.0, 2.0, 3.0, 4.0, 5.0, 6.0, 7.0, 8.0, 9.0, 10.0))\n",
    "println(\"ts1:\" + ts1)"
   ]
  },
  {
   "cell_type": "code",
   "execution_count": 3,
   "metadata": {},
   "outputs": [
    {
     "name": "stdout",
     "output_type": "stream",
     "text": [
      "ts2:length = 9\n",
      "[1,] 1.000000, [2,] 1.000000, [3,] 1.000000, [4,] 1.000000, [5,] 1.000000, [6,] 1.000000, [7,] 1.000000, [8,] 1.000000, [9,] 1.000000, \n"
     ]
    }
   ],
   "source": [
    "// construct a time series by taking the first difference of another one\n",
    "// each term is the difference between two successive terms in the original time series\n",
    "val ts2 = ts1.diff(1)\n",
    "println(\"ts2:\" + ts2)"
   ]
  },
  {
   "cell_type": "code",
   "execution_count": 4,
   "metadata": {},
   "outputs": [
    {
     "name": "stdout",
     "output_type": "stream",
     "text": [
      "ts3:length = 8\n",
      "[1,] 3.000000, [2,] 4.000000, [3,] 5.000000, [4,] 6.000000, [5,] 7.000000, [6,] 8.000000, [7,] 9.000000, [8,] 10.000000, \n"
     ]
    }
   ],
   "source": [
    "// construct a time series by dropping the first two terms of another one\n",
    "val ts3 = ts1.drop(2)\n",
    "println(\"ts3:\" + ts3)"
   ]
  },
  {
   "cell_type": "code",
   "execution_count": 5,
   "metadata": {},
   "outputs": [
    {
     "name": "stdout",
     "output_type": "stream",
     "text": [
      "ts4:length = 8\n",
      "[1,] 1.000000, [2,] 2.000000, [3,] 3.000000, [4,] 4.000000, [5,] 5.000000, [6,] 6.000000, [7,] 7.000000, [8,] 8.000000, \n"
     ]
    }
   ],
   "source": [
    "// construct a time series by lagging another one\n",
    "// This operation makes sense only for equi-distant data points.\n",
    "val ts4 = ts1.lag(2)\n",
    "println(\"ts4:\" + ts4)"
   ]
  },
  {
   "cell_type": "code",
   "execution_count": 6,
   "metadata": {},
   "outputs": [
    {
     "name": "stdout",
     "output_type": "stream",
     "text": [
      "univariate time series of S&P 500 daily close\n"
     ]
    },
    {
     "name": "stderr",
     "output_type": "stream",
     "text": [
      "./resources/sp500_daily.csv (No such file or directory)\n",
      "java.io.FileNotFoundException: ./resources/sp500_daily.csv (No such file or directory)\n",
      "\tat java.base/java.io.FileInputStream.open0(Native Method)\n",
      "\tat java.base/java.io.FileInputStream.open(FileInputStream.java:219)\n",
      "\tat java.base/java.io.FileInputStream.<init>(FileInputStream.java:157)\n",
      "\tat java.base/java.io.FileInputStream.<init>(FileInputStream.java:112)\n",
      "\tat dev.nm.number.DoubleUtils.readCSV2d(wb:1605)\n",
      "\tat dev.nm.number.DoubleUtils.readCSV2d(wb:1591)\n",
      "\tat Line_9.<init>(Line_9.jupyter-kts:4)\n",
      "\tat java.base/jdk.internal.reflect.NativeConstructorAccessorImpl.newInstance0(Native Method)\n",
      "\tat java.base/jdk.internal.reflect.NativeConstructorAccessorImpl.newInstance(NativeConstructorAccessorImpl.java:62)\n",
      "\tat java.base/jdk.internal.reflect.DelegatingConstructorAccessorImpl.newInstance(DelegatingConstructorAccessorImpl.java:45)\n",
      "\tat java.base/java.lang.reflect.Constructor.newInstance(Constructor.java:490)\n",
      "\tat kotlin.script.experimental.jvm.BasicJvmScriptEvaluator.evalWithConfigAndOtherScriptsResults(BasicJvmScriptEvaluator.kt:100)\n",
      "\tat kotlin.script.experimental.jvm.BasicJvmScriptEvaluator.invoke$suspendImpl(BasicJvmScriptEvaluator.kt:47)\n",
      "\tat kotlin.script.experimental.jvm.BasicJvmScriptEvaluator.invoke(BasicJvmScriptEvaluator.kt)\n",
      "\tat kotlin.script.experimental.jvm.BasicJvmReplEvaluator.eval(BasicJvmReplEvaluator.kt:49)\n",
      "\tat org.jetbrains.kotlinx.jupyter.repl.impl.InternalEvaluatorImpl$eval$resultWithDiagnostics$1.invokeSuspend(InternalEvaluatorImpl.kt:99)\n",
      "\tat kotlin.coroutines.jvm.internal.BaseContinuationImpl.resumeWith(ContinuationImpl.kt:33)\n",
      "\tat kotlinx.coroutines.DispatchedTask.run(DispatchedTask.kt:106)\n",
      "\tat kotlinx.coroutines.EventLoopImplBase.processNextEvent(EventLoop.common.kt:274)\n",
      "\tat kotlinx.coroutines.BlockingCoroutine.joinBlocking(Builders.kt:85)\n",
      "\tat kotlinx.coroutines.BuildersKt__BuildersKt.runBlocking(Builders.kt:59)\n",
      "\tat kotlinx.coroutines.BuildersKt.runBlocking(Unknown Source)\n",
      "\tat kotlinx.coroutines.BuildersKt__BuildersKt.runBlocking$default(Builders.kt:38)\n",
      "\tat kotlinx.coroutines.BuildersKt.runBlocking$default(Unknown Source)\n",
      "\tat org.jetbrains.kotlinx.jupyter.repl.impl.InternalEvaluatorImpl.eval(InternalEvaluatorImpl.kt:99)\n",
      "\tat org.jetbrains.kotlinx.jupyter.repl.impl.CellExecutorImpl$execute$1$result$1.invoke(CellExecutorImpl.kt:64)\n",
      "\tat org.jetbrains.kotlinx.jupyter.repl.impl.CellExecutorImpl$execute$1$result$1.invoke(CellExecutorImpl.kt:63)\n",
      "\tat org.jetbrains.kotlinx.jupyter.ReplForJupyterImpl.withHost(repl.kt:603)\n",
      "\tat org.jetbrains.kotlinx.jupyter.repl.impl.CellExecutorImpl.execute(CellExecutorImpl.kt:63)\n",
      "\tat org.jetbrains.kotlinx.jupyter.repl.CellExecutor$DefaultImpls.execute$default(CellExecutor.kt:13)\n",
      "\tat org.jetbrains.kotlinx.jupyter.ReplForJupyterImpl$evalEx$1.invoke(repl.kt:423)\n",
      "\tat org.jetbrains.kotlinx.jupyter.ReplForJupyterImpl$evalEx$1.invoke(repl.kt:412)\n",
      "\tat org.jetbrains.kotlinx.jupyter.ReplForJupyterImpl.withEvalContext(repl.kt:376)\n",
      "\tat org.jetbrains.kotlinx.jupyter.ReplForJupyterImpl.evalEx(repl.kt:412)\n",
      "\tat org.jetbrains.kotlinx.jupyter.ReplForJupyterImpl.eval(repl.kt:460)\n",
      "\tat org.jetbrains.kotlinx.jupyter.ProtocolKt$shellMessagesHandler$res$1.invoke(protocol.kt:291)\n",
      "\tat org.jetbrains.kotlinx.jupyter.ProtocolKt$shellMessagesHandler$res$1.invoke(protocol.kt:290)\n",
      "\tat org.jetbrains.kotlinx.jupyter.JupyterConnection$runExecution$execThread$1.invoke(connection.kt:166)\n",
      "\tat org.jetbrains.kotlinx.jupyter.JupyterConnection$runExecution$execThread$1.invoke(connection.kt:164)\n",
      "\tat kotlin.concurrent.ThreadsKt$thread$thread$1.run(Thread.kt:30)\n"
     ]
    }
   ],
   "source": [
    "println(\"univariate time series of S&P 500 daily close\")\n",
    "\n",
    "// read the daily S&P 500 data from a csv file\n",
    "val spx_arr = DoubleUtils.readCSV2d(\"./resources/sp500_daily.csv\", true, true)\n",
    "// convert the csv file into a matrix for manipulation\n",
    "val spx_M: Matrix = DenseMatrix(spx_arr)\n",
    "// extract the column of adjusted close prices\n",
    "val spx_v: Vector = spx_M.getColumn(5) // adjusted closes\n",
    "// construct a univariate time series from the data\n",
    "val spx = SimpleTimeSeries(spx_v.toArray())\n",
    "println(spx)"
   ]
  },
  {
   "cell_type": "code",
   "execution_count": 7,
   "metadata": {},
   "outputs": [
    {
     "name": "stderr",
     "output_type": "stream",
     "text": [
      "null\n",
      "java.lang.NullPointerException\n",
      "\tat Line_10.<init>(Line_10.jupyter-kts:2)\n",
      "\tat java.base/jdk.internal.reflect.NativeConstructorAccessorImpl.newInstance0(Native Method)\n",
      "\tat java.base/jdk.internal.reflect.NativeConstructorAccessorImpl.newInstance(NativeConstructorAccessorImpl.java:62)\n",
      "\tat java.base/jdk.internal.reflect.DelegatingConstructorAccessorImpl.newInstance(DelegatingConstructorAccessorImpl.java:45)\n",
      "\tat java.base/java.lang.reflect.Constructor.newInstance(Constructor.java:490)\n",
      "\tat kotlin.script.experimental.jvm.BasicJvmScriptEvaluator.evalWithConfigAndOtherScriptsResults(BasicJvmScriptEvaluator.kt:100)\n",
      "\tat kotlin.script.experimental.jvm.BasicJvmScriptEvaluator.invoke$suspendImpl(BasicJvmScriptEvaluator.kt:47)\n",
      "\tat kotlin.script.experimental.jvm.BasicJvmScriptEvaluator.invoke(BasicJvmScriptEvaluator.kt)\n",
      "\tat kotlin.script.experimental.jvm.BasicJvmReplEvaluator.eval(BasicJvmReplEvaluator.kt:49)\n",
      "\tat org.jetbrains.kotlinx.jupyter.repl.impl.InternalEvaluatorImpl$eval$resultWithDiagnostics$1.invokeSuspend(InternalEvaluatorImpl.kt:99)\n",
      "\tat kotlin.coroutines.jvm.internal.BaseContinuationImpl.resumeWith(ContinuationImpl.kt:33)\n",
      "\tat kotlinx.coroutines.DispatchedTask.run(DispatchedTask.kt:106)\n",
      "\tat kotlinx.coroutines.EventLoopImplBase.processNextEvent(EventLoop.common.kt:274)\n",
      "\tat kotlinx.coroutines.BlockingCoroutine.joinBlocking(Builders.kt:85)\n",
      "\tat kotlinx.coroutines.BuildersKt__BuildersKt.runBlocking(Builders.kt:59)\n",
      "\tat kotlinx.coroutines.BuildersKt.runBlocking(Unknown Source)\n",
      "\tat kotlinx.coroutines.BuildersKt__BuildersKt.runBlocking$default(Builders.kt:38)\n",
      "\tat kotlinx.coroutines.BuildersKt.runBlocking$default(Unknown Source)\n",
      "\tat org.jetbrains.kotlinx.jupyter.repl.impl.InternalEvaluatorImpl.eval(InternalEvaluatorImpl.kt:99)\n",
      "\tat org.jetbrains.kotlinx.jupyter.repl.impl.CellExecutorImpl$execute$1$result$1.invoke(CellExecutorImpl.kt:64)\n",
      "\tat org.jetbrains.kotlinx.jupyter.repl.impl.CellExecutorImpl$execute$1$result$1.invoke(CellExecutorImpl.kt:63)\n",
      "\tat org.jetbrains.kotlinx.jupyter.ReplForJupyterImpl.withHost(repl.kt:603)\n",
      "\tat org.jetbrains.kotlinx.jupyter.repl.impl.CellExecutorImpl.execute(CellExecutorImpl.kt:63)\n",
      "\tat org.jetbrains.kotlinx.jupyter.repl.CellExecutor$DefaultImpls.execute$default(CellExecutor.kt:13)\n",
      "\tat org.jetbrains.kotlinx.jupyter.ReplForJupyterImpl$evalEx$1.invoke(repl.kt:423)\n",
      "\tat org.jetbrains.kotlinx.jupyter.ReplForJupyterImpl$evalEx$1.invoke(repl.kt:412)\n",
      "\tat org.jetbrains.kotlinx.jupyter.ReplForJupyterImpl.withEvalContext(repl.kt:376)\n",
      "\tat org.jetbrains.kotlinx.jupyter.ReplForJupyterImpl.evalEx(repl.kt:412)\n",
      "\tat org.jetbrains.kotlinx.jupyter.ReplForJupyterImpl.eval(repl.kt:460)\n",
      "\tat org.jetbrains.kotlinx.jupyter.ProtocolKt$shellMessagesHandler$res$1.invoke(protocol.kt:291)\n",
      "\tat org.jetbrains.kotlinx.jupyter.ProtocolKt$shellMessagesHandler$res$1.invoke(protocol.kt:290)\n",
      "\tat org.jetbrains.kotlinx.jupyter.JupyterConnection$runExecution$execThread$1.invoke(connection.kt:166)\n",
      "\tat org.jetbrains.kotlinx.jupyter.JupyterConnection$runExecution$execThread$1.invoke(connection.kt:164)\n",
      "\tat kotlin.concurrent.ThreadsKt$thread$thread$1.run(Thread.kt:30)\n"
     ]
    }
   ],
   "source": [
    "// compute simple returns from prices\n",
    "val diff: DoubleArray = spx.diff(1).toArray()\n",
    "val p0: DoubleArray = spx.lag(1).toArray()\n",
    "var simple_returns: DoubleArray = DoubleArray(diff.size)\n",
    "for (i in 0 until diff.size) {\n",
    "    simple_returns[i] = diff[i] / p0[i]\n",
    "}\n",
    "println(Arrays.toString(simple_returns))"
   ]
  },
  {
   "cell_type": "code",
   "execution_count": 8,
   "metadata": {},
   "outputs": [
    {
     "name": "stderr",
     "output_type": "stream",
     "text": [
      "null\n",
      "java.lang.NullPointerException\n",
      "\tat Line_11.<init>(Line_11.jupyter-kts:2)\n",
      "\tat java.base/jdk.internal.reflect.NativeConstructorAccessorImpl.newInstance0(Native Method)\n",
      "\tat java.base/jdk.internal.reflect.NativeConstructorAccessorImpl.newInstance(NativeConstructorAccessorImpl.java:62)\n",
      "\tat java.base/jdk.internal.reflect.DelegatingConstructorAccessorImpl.newInstance(DelegatingConstructorAccessorImpl.java:45)\n",
      "\tat java.base/java.lang.reflect.Constructor.newInstance(Constructor.java:490)\n",
      "\tat kotlin.script.experimental.jvm.BasicJvmScriptEvaluator.evalWithConfigAndOtherScriptsResults(BasicJvmScriptEvaluator.kt:100)\n",
      "\tat kotlin.script.experimental.jvm.BasicJvmScriptEvaluator.invoke$suspendImpl(BasicJvmScriptEvaluator.kt:47)\n",
      "\tat kotlin.script.experimental.jvm.BasicJvmScriptEvaluator.invoke(BasicJvmScriptEvaluator.kt)\n",
      "\tat kotlin.script.experimental.jvm.BasicJvmReplEvaluator.eval(BasicJvmReplEvaluator.kt:49)\n",
      "\tat org.jetbrains.kotlinx.jupyter.repl.impl.InternalEvaluatorImpl$eval$resultWithDiagnostics$1.invokeSuspend(InternalEvaluatorImpl.kt:99)\n",
      "\tat kotlin.coroutines.jvm.internal.BaseContinuationImpl.resumeWith(ContinuationImpl.kt:33)\n",
      "\tat kotlinx.coroutines.DispatchedTask.run(DispatchedTask.kt:106)\n",
      "\tat kotlinx.coroutines.EventLoopImplBase.processNextEvent(EventLoop.common.kt:274)\n",
      "\tat kotlinx.coroutines.BlockingCoroutine.joinBlocking(Builders.kt:85)\n",
      "\tat kotlinx.coroutines.BuildersKt__BuildersKt.runBlocking(Builders.kt:59)\n",
      "\tat kotlinx.coroutines.BuildersKt.runBlocking(Unknown Source)\n",
      "\tat kotlinx.coroutines.BuildersKt__BuildersKt.runBlocking$default(Builders.kt:38)\n",
      "\tat kotlinx.coroutines.BuildersKt.runBlocking$default(Unknown Source)\n",
      "\tat org.jetbrains.kotlinx.jupyter.repl.impl.InternalEvaluatorImpl.eval(InternalEvaluatorImpl.kt:99)\n",
      "\tat org.jetbrains.kotlinx.jupyter.repl.impl.CellExecutorImpl$execute$1$result$1.invoke(CellExecutorImpl.kt:64)\n",
      "\tat org.jetbrains.kotlinx.jupyter.repl.impl.CellExecutorImpl$execute$1$result$1.invoke(CellExecutorImpl.kt:63)\n",
      "\tat org.jetbrains.kotlinx.jupyter.ReplForJupyterImpl.withHost(repl.kt:603)\n",
      "\tat org.jetbrains.kotlinx.jupyter.repl.impl.CellExecutorImpl.execute(CellExecutorImpl.kt:63)\n",
      "\tat org.jetbrains.kotlinx.jupyter.repl.CellExecutor$DefaultImpls.execute$default(CellExecutor.kt:13)\n",
      "\tat org.jetbrains.kotlinx.jupyter.ReplForJupyterImpl$evalEx$1.invoke(repl.kt:423)\n",
      "\tat org.jetbrains.kotlinx.jupyter.ReplForJupyterImpl$evalEx$1.invoke(repl.kt:412)\n",
      "\tat org.jetbrains.kotlinx.jupyter.ReplForJupyterImpl.withEvalContext(repl.kt:376)\n",
      "\tat org.jetbrains.kotlinx.jupyter.ReplForJupyterImpl.evalEx(repl.kt:412)\n",
      "\tat org.jetbrains.kotlinx.jupyter.ReplForJupyterImpl.eval(repl.kt:460)\n",
      "\tat org.jetbrains.kotlinx.jupyter.ProtocolKt$shellMessagesHandler$res$1.invoke(protocol.kt:291)\n",
      "\tat org.jetbrains.kotlinx.jupyter.ProtocolKt$shellMessagesHandler$res$1.invoke(protocol.kt:290)\n",
      "\tat org.jetbrains.kotlinx.jupyter.JupyterConnection$runExecution$execThread$1.invoke(connection.kt:166)\n",
      "\tat org.jetbrains.kotlinx.jupyter.JupyterConnection$runExecution$execThread$1.invoke(connection.kt:164)\n",
      "\tat kotlin.concurrent.ThreadsKt$thread$thread$1.run(Thread.kt:30)\n"
     ]
    }
   ],
   "source": [
    "// compute log returns from prices\n",
    "val p1: DoubleArray = spx.drop(1).toArray()\n",
    "val p: DoubleArray = spx.toArray()\n",
    "var log_returns: DoubleArray = DoubleArray(p1.size)\n",
    "for (i in 0 until p1.size) {\n",
    "    log_returns[i] = log10(p1[i]) - log10(p[i])\n",
    "}\n",
    "println(Arrays.toString(log_returns))"
   ]
  },
  {
   "cell_type": "code",
   "execution_count": 9,
   "metadata": {},
   "outputs": [
    {
     "name": "stdout",
     "output_type": "stream",
     "text": [
      "auto-correlations for S&P 500 monthly close\n"
     ]
    },
    {
     "name": "stderr",
     "output_type": "stream",
     "text": [
      "./resources/sp500_monthly.csv (No such file or directory)\n",
      "java.io.FileNotFoundException: ./resources/sp500_monthly.csv (No such file or directory)\n",
      "\tat java.base/java.io.FileInputStream.open0(Native Method)\n",
      "\tat java.base/java.io.FileInputStream.open(FileInputStream.java:219)\n",
      "\tat java.base/java.io.FileInputStream.<init>(FileInputStream.java:157)\n",
      "\tat java.base/java.io.FileInputStream.<init>(FileInputStream.java:112)\n",
      "\tat dev.nm.number.DoubleUtils.readCSV2d(wb:1605)\n",
      "\tat dev.nm.number.DoubleUtils.readCSV2d(wb:1591)\n",
      "\tat Line_12.<init>(Line_12.jupyter-kts:4)\n",
      "\tat java.base/jdk.internal.reflect.NativeConstructorAccessorImpl.newInstance0(Native Method)\n",
      "\tat java.base/jdk.internal.reflect.NativeConstructorAccessorImpl.newInstance(NativeConstructorAccessorImpl.java:62)\n",
      "\tat java.base/jdk.internal.reflect.DelegatingConstructorAccessorImpl.newInstance(DelegatingConstructorAccessorImpl.java:45)\n",
      "\tat java.base/java.lang.reflect.Constructor.newInstance(Constructor.java:490)\n",
      "\tat kotlin.script.experimental.jvm.BasicJvmScriptEvaluator.evalWithConfigAndOtherScriptsResults(BasicJvmScriptEvaluator.kt:100)\n",
      "\tat kotlin.script.experimental.jvm.BasicJvmScriptEvaluator.invoke$suspendImpl(BasicJvmScriptEvaluator.kt:47)\n",
      "\tat kotlin.script.experimental.jvm.BasicJvmScriptEvaluator.invoke(BasicJvmScriptEvaluator.kt)\n",
      "\tat kotlin.script.experimental.jvm.BasicJvmReplEvaluator.eval(BasicJvmReplEvaluator.kt:49)\n",
      "\tat org.jetbrains.kotlinx.jupyter.repl.impl.InternalEvaluatorImpl$eval$resultWithDiagnostics$1.invokeSuspend(InternalEvaluatorImpl.kt:99)\n",
      "\tat kotlin.coroutines.jvm.internal.BaseContinuationImpl.resumeWith(ContinuationImpl.kt:33)\n",
      "\tat kotlinx.coroutines.DispatchedTask.run(DispatchedTask.kt:106)\n",
      "\tat kotlinx.coroutines.EventLoopImplBase.processNextEvent(EventLoop.common.kt:274)\n",
      "\tat kotlinx.coroutines.BlockingCoroutine.joinBlocking(Builders.kt:85)\n",
      "\tat kotlinx.coroutines.BuildersKt__BuildersKt.runBlocking(Builders.kt:59)\n",
      "\tat kotlinx.coroutines.BuildersKt.runBlocking(Unknown Source)\n",
      "\tat kotlinx.coroutines.BuildersKt__BuildersKt.runBlocking$default(Builders.kt:38)\n",
      "\tat kotlinx.coroutines.BuildersKt.runBlocking$default(Unknown Source)\n",
      "\tat org.jetbrains.kotlinx.jupyter.repl.impl.InternalEvaluatorImpl.eval(InternalEvaluatorImpl.kt:99)\n",
      "\tat org.jetbrains.kotlinx.jupyter.repl.impl.CellExecutorImpl$execute$1$result$1.invoke(CellExecutorImpl.kt:64)\n",
      "\tat org.jetbrains.kotlinx.jupyter.repl.impl.CellExecutorImpl$execute$1$result$1.invoke(CellExecutorImpl.kt:63)\n",
      "\tat org.jetbrains.kotlinx.jupyter.ReplForJupyterImpl.withHost(repl.kt:603)\n",
      "\tat org.jetbrains.kotlinx.jupyter.repl.impl.CellExecutorImpl.execute(CellExecutorImpl.kt:63)\n",
      "\tat org.jetbrains.kotlinx.jupyter.repl.CellExecutor$DefaultImpls.execute$default(CellExecutor.kt:13)\n",
      "\tat org.jetbrains.kotlinx.jupyter.ReplForJupyterImpl$evalEx$1.invoke(repl.kt:423)\n",
      "\tat org.jetbrains.kotlinx.jupyter.ReplForJupyterImpl$evalEx$1.invoke(repl.kt:412)\n",
      "\tat org.jetbrains.kotlinx.jupyter.ReplForJupyterImpl.withEvalContext(repl.kt:376)\n",
      "\tat org.jetbrains.kotlinx.jupyter.ReplForJupyterImpl.evalEx(repl.kt:412)\n",
      "\tat org.jetbrains.kotlinx.jupyter.ReplForJupyterImpl.eval(repl.kt:460)\n",
      "\tat org.jetbrains.kotlinx.jupyter.ProtocolKt$shellMessagesHandler$res$1.invoke(protocol.kt:291)\n",
      "\tat org.jetbrains.kotlinx.jupyter.ProtocolKt$shellMessagesHandler$res$1.invoke(protocol.kt:290)\n",
      "\tat org.jetbrains.kotlinx.jupyter.JupyterConnection$runExecution$execThread$1.invoke(connection.kt:166)\n",
      "\tat org.jetbrains.kotlinx.jupyter.JupyterConnection$runExecution$execThread$1.invoke(connection.kt:164)\n",
      "\tat kotlin.concurrent.ThreadsKt$thread$thread$1.run(Thread.kt:30)\n"
     ]
    }
   ],
   "source": [
    "println(\"auto-correlations for S&P 500 monthly close\")\n",
    "\n",
    "// read the monthly S&P 500 data from a csv file\n",
    "val spx_arr = DoubleUtils.readCSV2d(\"./resources/sp500_monthly.csv\", true, true)\n",
    "// convert the csv file into a matrix for manipulation\n",
    "val spx_M: Matrix = DenseMatrix(spx_arr)\n",
    "// extract the column of adjusted close prices\n",
    "val spx_v: Vector = spx_M.getColumn(5) // adjusted closes\n",
    "// construct a univariate time series from the data\n",
    "val spx = SimpleTimeSeries(spx_v.toArray())\n",
    "//      println(spx)\n",
    "\n",
    "// ACVF for lags 0, 1, 2, ..., 24\n",
    "val acvf = SampleAutoCovariance(spx)\n",
    "for (i in 0 until 25) {\n",
    "    println(String.format(\"acvf(%d) = %f\", i, acvf.evaluate(i)))\n",
    "}"
   ]
  },
  {
   "cell_type": "code",
   "execution_count": 10,
   "metadata": {},
   "outputs": [
    {
     "name": "stderr",
     "output_type": "stream",
     "text": [
      "null\n",
      "java.lang.NullPointerException\n",
      "\tat Line_13.<init>(Line_13.jupyter-kts:2)\n",
      "\tat java.base/jdk.internal.reflect.NativeConstructorAccessorImpl.newInstance0(Native Method)\n",
      "\tat java.base/jdk.internal.reflect.NativeConstructorAccessorImpl.newInstance(NativeConstructorAccessorImpl.java:62)\n",
      "\tat java.base/jdk.internal.reflect.DelegatingConstructorAccessorImpl.newInstance(DelegatingConstructorAccessorImpl.java:45)\n",
      "\tat java.base/java.lang.reflect.Constructor.newInstance(Constructor.java:490)\n",
      "\tat kotlin.script.experimental.jvm.BasicJvmScriptEvaluator.evalWithConfigAndOtherScriptsResults(BasicJvmScriptEvaluator.kt:100)\n",
      "\tat kotlin.script.experimental.jvm.BasicJvmScriptEvaluator.invoke$suspendImpl(BasicJvmScriptEvaluator.kt:47)\n",
      "\tat kotlin.script.experimental.jvm.BasicJvmScriptEvaluator.invoke(BasicJvmScriptEvaluator.kt)\n",
      "\tat kotlin.script.experimental.jvm.BasicJvmReplEvaluator.eval(BasicJvmReplEvaluator.kt:49)\n",
      "\tat org.jetbrains.kotlinx.jupyter.repl.impl.InternalEvaluatorImpl$eval$resultWithDiagnostics$1.invokeSuspend(InternalEvaluatorImpl.kt:99)\n",
      "\tat kotlin.coroutines.jvm.internal.BaseContinuationImpl.resumeWith(ContinuationImpl.kt:33)\n",
      "\tat kotlinx.coroutines.DispatchedTask.run(DispatchedTask.kt:106)\n",
      "\tat kotlinx.coroutines.EventLoopImplBase.processNextEvent(EventLoop.common.kt:274)\n",
      "\tat kotlinx.coroutines.BlockingCoroutine.joinBlocking(Builders.kt:85)\n",
      "\tat kotlinx.coroutines.BuildersKt__BuildersKt.runBlocking(Builders.kt:59)\n",
      "\tat kotlinx.coroutines.BuildersKt.runBlocking(Unknown Source)\n",
      "\tat kotlinx.coroutines.BuildersKt__BuildersKt.runBlocking$default(Builders.kt:38)\n",
      "\tat kotlinx.coroutines.BuildersKt.runBlocking$default(Unknown Source)\n",
      "\tat org.jetbrains.kotlinx.jupyter.repl.impl.InternalEvaluatorImpl.eval(InternalEvaluatorImpl.kt:99)\n",
      "\tat org.jetbrains.kotlinx.jupyter.repl.impl.CellExecutorImpl$execute$1$result$1.invoke(CellExecutorImpl.kt:64)\n",
      "\tat org.jetbrains.kotlinx.jupyter.repl.impl.CellExecutorImpl$execute$1$result$1.invoke(CellExecutorImpl.kt:63)\n",
      "\tat org.jetbrains.kotlinx.jupyter.ReplForJupyterImpl.withHost(repl.kt:603)\n",
      "\tat org.jetbrains.kotlinx.jupyter.repl.impl.CellExecutorImpl.execute(CellExecutorImpl.kt:63)\n",
      "\tat org.jetbrains.kotlinx.jupyter.repl.CellExecutor$DefaultImpls.execute$default(CellExecutor.kt:13)\n",
      "\tat org.jetbrains.kotlinx.jupyter.ReplForJupyterImpl$evalEx$1.invoke(repl.kt:423)\n",
      "\tat org.jetbrains.kotlinx.jupyter.ReplForJupyterImpl$evalEx$1.invoke(repl.kt:412)\n",
      "\tat org.jetbrains.kotlinx.jupyter.ReplForJupyterImpl.withEvalContext(repl.kt:376)\n",
      "\tat org.jetbrains.kotlinx.jupyter.ReplForJupyterImpl.evalEx(repl.kt:412)\n",
      "\tat org.jetbrains.kotlinx.jupyter.ReplForJupyterImpl.eval(repl.kt:460)\n",
      "\tat org.jetbrains.kotlinx.jupyter.ProtocolKt$shellMessagesHandler$res$1.invoke(protocol.kt:291)\n",
      "\tat org.jetbrains.kotlinx.jupyter.ProtocolKt$shellMessagesHandler$res$1.invoke(protocol.kt:290)\n",
      "\tat org.jetbrains.kotlinx.jupyter.JupyterConnection$runExecution$execThread$1.invoke(connection.kt:166)\n",
      "\tat org.jetbrains.kotlinx.jupyter.JupyterConnection$runExecution$execThread$1.invoke(connection.kt:164)\n",
      "\tat kotlin.concurrent.ThreadsKt$thread$thread$1.run(Thread.kt:30)\n"
     ]
    }
   ],
   "source": [
    "// ACF for lags 0, 1, 2, ..., 24\n",
    "val acf = SampleAutoCorrelation(spx)\n",
    "for (i in 0 until 25) {\n",
    "    println(String.format(\"acf(%d) = %f\", i, acf.evaluate(i)))\n",
    "}"
   ]
  },
  {
   "cell_type": "code",
   "execution_count": 11,
   "metadata": {},
   "outputs": [
    {
     "name": "stderr",
     "output_type": "stream",
     "text": [
      "null\n",
      "java.lang.NullPointerException\n",
      "\tat Line_14.<init>(Line_14.jupyter-kts:2)\n",
      "\tat java.base/jdk.internal.reflect.NativeConstructorAccessorImpl.newInstance0(Native Method)\n",
      "\tat java.base/jdk.internal.reflect.NativeConstructorAccessorImpl.newInstance(NativeConstructorAccessorImpl.java:62)\n",
      "\tat java.base/jdk.internal.reflect.DelegatingConstructorAccessorImpl.newInstance(DelegatingConstructorAccessorImpl.java:45)\n",
      "\tat java.base/java.lang.reflect.Constructor.newInstance(Constructor.java:490)\n",
      "\tat kotlin.script.experimental.jvm.BasicJvmScriptEvaluator.evalWithConfigAndOtherScriptsResults(BasicJvmScriptEvaluator.kt:100)\n",
      "\tat kotlin.script.experimental.jvm.BasicJvmScriptEvaluator.invoke$suspendImpl(BasicJvmScriptEvaluator.kt:47)\n",
      "\tat kotlin.script.experimental.jvm.BasicJvmScriptEvaluator.invoke(BasicJvmScriptEvaluator.kt)\n",
      "\tat kotlin.script.experimental.jvm.BasicJvmReplEvaluator.eval(BasicJvmReplEvaluator.kt:49)\n",
      "\tat org.jetbrains.kotlinx.jupyter.repl.impl.InternalEvaluatorImpl$eval$resultWithDiagnostics$1.invokeSuspend(InternalEvaluatorImpl.kt:99)\n",
      "\tat kotlin.coroutines.jvm.internal.BaseContinuationImpl.resumeWith(ContinuationImpl.kt:33)\n",
      "\tat kotlinx.coroutines.DispatchedTask.run(DispatchedTask.kt:106)\n",
      "\tat kotlinx.coroutines.EventLoopImplBase.processNextEvent(EventLoop.common.kt:274)\n",
      "\tat kotlinx.coroutines.BlockingCoroutine.joinBlocking(Builders.kt:85)\n",
      "\tat kotlinx.coroutines.BuildersKt__BuildersKt.runBlocking(Builders.kt:59)\n",
      "\tat kotlinx.coroutines.BuildersKt.runBlocking(Unknown Source)\n",
      "\tat kotlinx.coroutines.BuildersKt__BuildersKt.runBlocking$default(Builders.kt:38)\n",
      "\tat kotlinx.coroutines.BuildersKt.runBlocking$default(Unknown Source)\n",
      "\tat org.jetbrains.kotlinx.jupyter.repl.impl.InternalEvaluatorImpl.eval(InternalEvaluatorImpl.kt:99)\n",
      "\tat org.jetbrains.kotlinx.jupyter.repl.impl.CellExecutorImpl$execute$1$result$1.invoke(CellExecutorImpl.kt:64)\n",
      "\tat org.jetbrains.kotlinx.jupyter.repl.impl.CellExecutorImpl$execute$1$result$1.invoke(CellExecutorImpl.kt:63)\n",
      "\tat org.jetbrains.kotlinx.jupyter.ReplForJupyterImpl.withHost(repl.kt:603)\n",
      "\tat org.jetbrains.kotlinx.jupyter.repl.impl.CellExecutorImpl.execute(CellExecutorImpl.kt:63)\n",
      "\tat org.jetbrains.kotlinx.jupyter.repl.CellExecutor$DefaultImpls.execute$default(CellExecutor.kt:13)\n",
      "\tat org.jetbrains.kotlinx.jupyter.ReplForJupyterImpl$evalEx$1.invoke(repl.kt:423)\n",
      "\tat org.jetbrains.kotlinx.jupyter.ReplForJupyterImpl$evalEx$1.invoke(repl.kt:412)\n",
      "\tat org.jetbrains.kotlinx.jupyter.ReplForJupyterImpl.withEvalContext(repl.kt:376)\n",
      "\tat org.jetbrains.kotlinx.jupyter.ReplForJupyterImpl.evalEx(repl.kt:412)\n",
      "\tat org.jetbrains.kotlinx.jupyter.ReplForJupyterImpl.eval(repl.kt:460)\n",
      "\tat org.jetbrains.kotlinx.jupyter.ProtocolKt$shellMessagesHandler$res$1.invoke(protocol.kt:291)\n",
      "\tat org.jetbrains.kotlinx.jupyter.ProtocolKt$shellMessagesHandler$res$1.invoke(protocol.kt:290)\n",
      "\tat org.jetbrains.kotlinx.jupyter.JupyterConnection$runExecution$execThread$1.invoke(connection.kt:166)\n",
      "\tat org.jetbrains.kotlinx.jupyter.JupyterConnection$runExecution$execThread$1.invoke(connection.kt:164)\n",
      "\tat kotlin.concurrent.ThreadsKt$thread$thread$1.run(Thread.kt:30)\n"
     ]
    }
   ],
   "source": [
    "// PACF for lags 1, 2, ..., 24\n",
    "val pacf = SamplePartialAutoCorrelation(spx)\n",
    "for (i in 1 until 25) {\n",
    "    println(String.format(\"pacf(%d) = %f\", i, pacf.evaluate(i)))\n",
    "}"
   ]
  },
  {
   "cell_type": "code",
   "execution_count": 12,
   "metadata": {},
   "outputs": [
    {
     "name": "stderr",
     "output_type": "stream",
     "text": [
      "null\n",
      "java.lang.NullPointerException\n",
      "\tat Line_15.<init>(Line_15.jupyter-kts:2)\n",
      "\tat java.base/jdk.internal.reflect.NativeConstructorAccessorImpl.newInstance0(Native Method)\n",
      "\tat java.base/jdk.internal.reflect.NativeConstructorAccessorImpl.newInstance(NativeConstructorAccessorImpl.java:62)\n",
      "\tat java.base/jdk.internal.reflect.DelegatingConstructorAccessorImpl.newInstance(DelegatingConstructorAccessorImpl.java:45)\n",
      "\tat java.base/java.lang.reflect.Constructor.newInstance(Constructor.java:490)\n",
      "\tat kotlin.script.experimental.jvm.BasicJvmScriptEvaluator.evalWithConfigAndOtherScriptsResults(BasicJvmScriptEvaluator.kt:100)\n",
      "\tat kotlin.script.experimental.jvm.BasicJvmScriptEvaluator.invoke$suspendImpl(BasicJvmScriptEvaluator.kt:47)\n",
      "\tat kotlin.script.experimental.jvm.BasicJvmScriptEvaluator.invoke(BasicJvmScriptEvaluator.kt)\n",
      "\tat kotlin.script.experimental.jvm.BasicJvmReplEvaluator.eval(BasicJvmReplEvaluator.kt:49)\n",
      "\tat org.jetbrains.kotlinx.jupyter.repl.impl.InternalEvaluatorImpl$eval$resultWithDiagnostics$1.invokeSuspend(InternalEvaluatorImpl.kt:99)\n",
      "\tat kotlin.coroutines.jvm.internal.BaseContinuationImpl.resumeWith(ContinuationImpl.kt:33)\n",
      "\tat kotlinx.coroutines.DispatchedTask.run(DispatchedTask.kt:106)\n",
      "\tat kotlinx.coroutines.EventLoopImplBase.processNextEvent(EventLoop.common.kt:274)\n",
      "\tat kotlinx.coroutines.BlockingCoroutine.joinBlocking(Builders.kt:85)\n",
      "\tat kotlinx.coroutines.BuildersKt__BuildersKt.runBlocking(Builders.kt:59)\n",
      "\tat kotlinx.coroutines.BuildersKt.runBlocking(Unknown Source)\n",
      "\tat kotlinx.coroutines.BuildersKt__BuildersKt.runBlocking$default(Builders.kt:38)\n",
      "\tat kotlinx.coroutines.BuildersKt.runBlocking$default(Unknown Source)\n",
      "\tat org.jetbrains.kotlinx.jupyter.repl.impl.InternalEvaluatorImpl.eval(InternalEvaluatorImpl.kt:99)\n",
      "\tat org.jetbrains.kotlinx.jupyter.repl.impl.CellExecutorImpl$execute$1$result$1.invoke(CellExecutorImpl.kt:64)\n",
      "\tat org.jetbrains.kotlinx.jupyter.repl.impl.CellExecutorImpl$execute$1$result$1.invoke(CellExecutorImpl.kt:63)\n",
      "\tat org.jetbrains.kotlinx.jupyter.ReplForJupyterImpl.withHost(repl.kt:603)\n",
      "\tat org.jetbrains.kotlinx.jupyter.repl.impl.CellExecutorImpl.execute(CellExecutorImpl.kt:63)\n",
      "\tat org.jetbrains.kotlinx.jupyter.repl.CellExecutor$DefaultImpls.execute$default(CellExecutor.kt:13)\n",
      "\tat org.jetbrains.kotlinx.jupyter.ReplForJupyterImpl$evalEx$1.invoke(repl.kt:423)\n",
      "\tat org.jetbrains.kotlinx.jupyter.ReplForJupyterImpl$evalEx$1.invoke(repl.kt:412)\n",
      "\tat org.jetbrains.kotlinx.jupyter.ReplForJupyterImpl.withEvalContext(repl.kt:376)\n",
      "\tat org.jetbrains.kotlinx.jupyter.ReplForJupyterImpl.evalEx(repl.kt:412)\n",
      "\tat org.jetbrains.kotlinx.jupyter.ReplForJupyterImpl.eval(repl.kt:460)\n",
      "\tat org.jetbrains.kotlinx.jupyter.ProtocolKt$shellMessagesHandler$res$1.invoke(protocol.kt:291)\n",
      "\tat org.jetbrains.kotlinx.jupyter.ProtocolKt$shellMessagesHandler$res$1.invoke(protocol.kt:290)\n",
      "\tat org.jetbrains.kotlinx.jupyter.JupyterConnection$runExecution$execThread$1.invoke(connection.kt:166)\n",
      "\tat org.jetbrains.kotlinx.jupyter.JupyterConnection$runExecution$execThread$1.invoke(connection.kt:164)\n",
      "\tat kotlin.concurrent.ThreadsKt$thread$thread$1.run(Thread.kt:30)\n"
     ]
    }
   ],
   "source": [
    "// run the Ljung-Box test\n",
    "val lb_test = LjungBox(log_returns, 14, 0)\n",
    "println(String.format(\"The null hypothesis is: %s%n\", lb_test.getNullHypothesis()))\n",
    "println(String.format(\"The alternative hypothesis is: %s%n\", lb_test.getAlternativeHypothesis()))\n",
    "println(String.format(\"The test statistic = %f%n\", lb_test.statistics()))\n",
    "println(String.format(\"The p-value = %f\", lb_test.pValue()))"
   ]
  },
  {
   "cell_type": "code",
   "execution_count": 13,
   "metadata": {},
   "outputs": [
    {
     "name": "stdout",
     "output_type": "stream",
     "text": [
      "classical time series decomposition\n",
      "length = 10\n",
      "[1,] 3.210076, [2,] 4.207675, [3,] 4.354602, [4,] 7.398784, [5,] 8.174874, [6,] 11.812901, [7,] 13.941011, [8,] 16.839446, [9,] 16.638740, [10,] 22.670682, \n"
     ]
    }
   ],
   "source": [
    "println(\"classical time series decomposition\")\n",
    "\n",
    "val rng = StandardNormalRNG()\n",
    "\n",
    "// construct an additive model\n",
    "val additive_model = AdditiveModel(\n",
    "        // the trend\n",
    "        doubleArrayOf(\n",
    "            1.0, 3.0, 5.0, 7.0, 9.0, 11.0, 13.0, 15.0, 17.0, 19.0\n",
    "        ),\n",
    "        // the seasonal component\n",
    "        doubleArrayOf(\n",
    "            0.0, 1.0\n",
    "        ),\n",
    "        // the source of randomness\n",
    "        rng\n",
    ")\n",
    "println(additive_model)"
   ]
  },
  {
   "cell_type": "code",
   "execution_count": 14,
   "metadata": {},
   "outputs": [
    {
     "name": "stdout",
     "output_type": "stream",
     "text": [
      "length = 10\n",
      "[1,] -0.023313, [2,] -1.530389, [3,] 6.557648, [4,] -4.018728, [5,] 17.793586, [6,] 12.330600, [7,] 21.304488, [8,] 8.549570, [9,] -22.265570, [10,] -8.626085, \n"
     ]
    }
   ],
   "source": [
    "// construct a multiplicative model\n",
    "val multiplicative_model = MultiplicativeModel(\n",
    "        // the trend\n",
    "        doubleArrayOf(\n",
    "            1.0, 3.0, 5.0, 7.0, 9.0, 11.0, 13.0, 15.0, 17.0, 19.0\n",
    "        ),\n",
    "        // the seasonal component\n",
    "        doubleArrayOf(\n",
    "            -1.0, 1.0\n",
    "        ),\n",
    "        // the source of randomness\n",
    "        rng\n",
    ")\n",
    "println(multiplicative_model)"
   ]
  },
  {
   "cell_type": "code",
   "execution_count": 15,
   "metadata": {},
   "outputs": [
    {
     "name": "stderr",
     "output_type": "stream",
     "text": [
      "null\n",
      "java.lang.NullPointerException\n",
      "\tat Line_18.<init>(Line_18.jupyter-kts:3)\n",
      "\tat java.base/jdk.internal.reflect.NativeConstructorAccessorImpl.newInstance0(Native Method)\n",
      "\tat java.base/jdk.internal.reflect.NativeConstructorAccessorImpl.newInstance(NativeConstructorAccessorImpl.java:62)\n",
      "\tat java.base/jdk.internal.reflect.DelegatingConstructorAccessorImpl.newInstance(DelegatingConstructorAccessorImpl.java:45)\n",
      "\tat java.base/java.lang.reflect.Constructor.newInstance(Constructor.java:490)\n",
      "\tat kotlin.script.experimental.jvm.BasicJvmScriptEvaluator.evalWithConfigAndOtherScriptsResults(BasicJvmScriptEvaluator.kt:100)\n",
      "\tat kotlin.script.experimental.jvm.BasicJvmScriptEvaluator.invoke$suspendImpl(BasicJvmScriptEvaluator.kt:47)\n",
      "\tat kotlin.script.experimental.jvm.BasicJvmScriptEvaluator.invoke(BasicJvmScriptEvaluator.kt)\n",
      "\tat kotlin.script.experimental.jvm.BasicJvmReplEvaluator.eval(BasicJvmReplEvaluator.kt:49)\n",
      "\tat org.jetbrains.kotlinx.jupyter.repl.impl.InternalEvaluatorImpl$eval$resultWithDiagnostics$1.invokeSuspend(InternalEvaluatorImpl.kt:99)\n",
      "\tat kotlin.coroutines.jvm.internal.BaseContinuationImpl.resumeWith(ContinuationImpl.kt:33)\n",
      "\tat kotlinx.coroutines.DispatchedTask.run(DispatchedTask.kt:106)\n",
      "\tat kotlinx.coroutines.EventLoopImplBase.processNextEvent(EventLoop.common.kt:274)\n",
      "\tat kotlinx.coroutines.BlockingCoroutine.joinBlocking(Builders.kt:85)\n",
      "\tat kotlinx.coroutines.BuildersKt__BuildersKt.runBlocking(Builders.kt:59)\n",
      "\tat kotlinx.coroutines.BuildersKt.runBlocking(Unknown Source)\n",
      "\tat kotlinx.coroutines.BuildersKt__BuildersKt.runBlocking$default(Builders.kt:38)\n",
      "\tat kotlinx.coroutines.BuildersKt.runBlocking$default(Unknown Source)\n",
      "\tat org.jetbrains.kotlinx.jupyter.repl.impl.InternalEvaluatorImpl.eval(InternalEvaluatorImpl.kt:99)\n",
      "\tat org.jetbrains.kotlinx.jupyter.repl.impl.CellExecutorImpl$execute$1$result$1.invoke(CellExecutorImpl.kt:64)\n",
      "\tat org.jetbrains.kotlinx.jupyter.repl.impl.CellExecutorImpl$execute$1$result$1.invoke(CellExecutorImpl.kt:63)\n",
      "\tat org.jetbrains.kotlinx.jupyter.ReplForJupyterImpl.withHost(repl.kt:603)\n",
      "\tat org.jetbrains.kotlinx.jupyter.repl.impl.CellExecutorImpl.execute(CellExecutorImpl.kt:63)\n",
      "\tat org.jetbrains.kotlinx.jupyter.repl.CellExecutor$DefaultImpls.execute$default(CellExecutor.kt:13)\n",
      "\tat org.jetbrains.kotlinx.jupyter.ReplForJupyterImpl$evalEx$1.invoke(repl.kt:423)\n",
      "\tat org.jetbrains.kotlinx.jupyter.ReplForJupyterImpl$evalEx$1.invoke(repl.kt:412)\n",
      "\tat org.jetbrains.kotlinx.jupyter.ReplForJupyterImpl.withEvalContext(repl.kt:376)\n",
      "\tat org.jetbrains.kotlinx.jupyter.ReplForJupyterImpl.evalEx(repl.kt:412)\n",
      "\tat org.jetbrains.kotlinx.jupyter.ReplForJupyterImpl.eval(repl.kt:460)\n",
      "\tat org.jetbrains.kotlinx.jupyter.ProtocolKt$shellMessagesHandler$res$1.invoke(protocol.kt:291)\n",
      "\tat org.jetbrains.kotlinx.jupyter.ProtocolKt$shellMessagesHandler$res$1.invoke(protocol.kt:290)\n",
      "\tat org.jetbrains.kotlinx.jupyter.JupyterConnection$runExecution$execThread$1.invoke(connection.kt:166)\n",
      "\tat org.jetbrains.kotlinx.jupyter.JupyterConnection$runExecution$execThread$1.invoke(connection.kt:164)\n",
      "\tat kotlin.concurrent.ThreadsKt$thread$thread$1.run(Thread.kt:30)\n"
     ]
    }
   ],
   "source": [
    "// decompose the S&P 500 monthly returns into a classical additive model\n",
    "val spx_model = MADecomposition(\n",
    "                spx.toArray(), // the SP 500 monthly returns\n",
    "                12 // the lenght of seasonality\n",
    "        )\n",
    "println(String.format(\"The trend component: %s\", Arrays.toString(spx_model.getTrend())))"
   ]
  },
  {
   "cell_type": "code",
   "execution_count": 16,
   "metadata": {},
   "outputs": [
    {
     "name": "stderr",
     "output_type": "stream",
     "text": [
      "null\n",
      "java.lang.NullPointerException\n",
      "\tat Line_19.<init>(Line_19.jupyter-kts:1)\n",
      "\tat java.base/jdk.internal.reflect.NativeConstructorAccessorImpl.newInstance0(Native Method)\n",
      "\tat java.base/jdk.internal.reflect.NativeConstructorAccessorImpl.newInstance(NativeConstructorAccessorImpl.java:62)\n",
      "\tat java.base/jdk.internal.reflect.DelegatingConstructorAccessorImpl.newInstance(DelegatingConstructorAccessorImpl.java:45)\n",
      "\tat java.base/java.lang.reflect.Constructor.newInstance(Constructor.java:490)\n",
      "\tat kotlin.script.experimental.jvm.BasicJvmScriptEvaluator.evalWithConfigAndOtherScriptsResults(BasicJvmScriptEvaluator.kt:100)\n",
      "\tat kotlin.script.experimental.jvm.BasicJvmScriptEvaluator.invoke$suspendImpl(BasicJvmScriptEvaluator.kt:47)\n",
      "\tat kotlin.script.experimental.jvm.BasicJvmScriptEvaluator.invoke(BasicJvmScriptEvaluator.kt)\n",
      "\tat kotlin.script.experimental.jvm.BasicJvmReplEvaluator.eval(BasicJvmReplEvaluator.kt:49)\n",
      "\tat org.jetbrains.kotlinx.jupyter.repl.impl.InternalEvaluatorImpl$eval$resultWithDiagnostics$1.invokeSuspend(InternalEvaluatorImpl.kt:99)\n",
      "\tat kotlin.coroutines.jvm.internal.BaseContinuationImpl.resumeWith(ContinuationImpl.kt:33)\n",
      "\tat kotlinx.coroutines.DispatchedTask.run(DispatchedTask.kt:106)\n",
      "\tat kotlinx.coroutines.EventLoopImplBase.processNextEvent(EventLoop.common.kt:274)\n",
      "\tat kotlinx.coroutines.BlockingCoroutine.joinBlocking(Builders.kt:85)\n",
      "\tat kotlinx.coroutines.BuildersKt__BuildersKt.runBlocking(Builders.kt:59)\n",
      "\tat kotlinx.coroutines.BuildersKt.runBlocking(Unknown Source)\n",
      "\tat kotlinx.coroutines.BuildersKt__BuildersKt.runBlocking$default(Builders.kt:38)\n",
      "\tat kotlinx.coroutines.BuildersKt.runBlocking$default(Unknown Source)\n",
      "\tat org.jetbrains.kotlinx.jupyter.repl.impl.InternalEvaluatorImpl.eval(InternalEvaluatorImpl.kt:99)\n",
      "\tat org.jetbrains.kotlinx.jupyter.repl.impl.CellExecutorImpl$execute$1$result$1.invoke(CellExecutorImpl.kt:64)\n",
      "\tat org.jetbrains.kotlinx.jupyter.repl.impl.CellExecutorImpl$execute$1$result$1.invoke(CellExecutorImpl.kt:63)\n",
      "\tat org.jetbrains.kotlinx.jupyter.ReplForJupyterImpl.withHost(repl.kt:603)\n",
      "\tat org.jetbrains.kotlinx.jupyter.repl.impl.CellExecutorImpl.execute(CellExecutorImpl.kt:63)\n",
      "\tat org.jetbrains.kotlinx.jupyter.repl.CellExecutor$DefaultImpls.execute$default(CellExecutor.kt:13)\n",
      "\tat org.jetbrains.kotlinx.jupyter.ReplForJupyterImpl$evalEx$1.invoke(repl.kt:423)\n",
      "\tat org.jetbrains.kotlinx.jupyter.ReplForJupyterImpl$evalEx$1.invoke(repl.kt:412)\n",
      "\tat org.jetbrains.kotlinx.jupyter.ReplForJupyterImpl.withEvalContext(repl.kt:376)\n",
      "\tat org.jetbrains.kotlinx.jupyter.ReplForJupyterImpl.evalEx(repl.kt:412)\n",
      "\tat org.jetbrains.kotlinx.jupyter.ReplForJupyterImpl.eval(repl.kt:460)\n",
      "\tat org.jetbrains.kotlinx.jupyter.ProtocolKt$shellMessagesHandler$res$1.invoke(protocol.kt:291)\n",
      "\tat org.jetbrains.kotlinx.jupyter.ProtocolKt$shellMessagesHandler$res$1.invoke(protocol.kt:290)\n",
      "\tat org.jetbrains.kotlinx.jupyter.JupyterConnection$runExecution$execThread$1.invoke(connection.kt:166)\n",
      "\tat org.jetbrains.kotlinx.jupyter.JupyterConnection$runExecution$execThread$1.invoke(connection.kt:164)\n",
      "\tat kotlin.concurrent.ThreadsKt$thread$thread$1.run(Thread.kt:30)\n"
     ]
    }
   ],
   "source": [
    "println(String.format(\"The seasonal component: %s\", Arrays.toString(spx_model.getSeasonal())))"
   ]
  },
  {
   "cell_type": "code",
   "execution_count": 17,
   "metadata": {},
   "outputs": [
    {
     "name": "stderr",
     "output_type": "stream",
     "text": [
      "null\n",
      "java.lang.NullPointerException\n",
      "\tat Line_20.<init>(Line_20.jupyter-kts:1)\n",
      "\tat java.base/jdk.internal.reflect.NativeConstructorAccessorImpl.newInstance0(Native Method)\n",
      "\tat java.base/jdk.internal.reflect.NativeConstructorAccessorImpl.newInstance(NativeConstructorAccessorImpl.java:62)\n",
      "\tat java.base/jdk.internal.reflect.DelegatingConstructorAccessorImpl.newInstance(DelegatingConstructorAccessorImpl.java:45)\n",
      "\tat java.base/java.lang.reflect.Constructor.newInstance(Constructor.java:490)\n",
      "\tat kotlin.script.experimental.jvm.BasicJvmScriptEvaluator.evalWithConfigAndOtherScriptsResults(BasicJvmScriptEvaluator.kt:100)\n",
      "\tat kotlin.script.experimental.jvm.BasicJvmScriptEvaluator.invoke$suspendImpl(BasicJvmScriptEvaluator.kt:47)\n",
      "\tat kotlin.script.experimental.jvm.BasicJvmScriptEvaluator.invoke(BasicJvmScriptEvaluator.kt)\n",
      "\tat kotlin.script.experimental.jvm.BasicJvmReplEvaluator.eval(BasicJvmReplEvaluator.kt:49)\n",
      "\tat org.jetbrains.kotlinx.jupyter.repl.impl.InternalEvaluatorImpl$eval$resultWithDiagnostics$1.invokeSuspend(InternalEvaluatorImpl.kt:99)\n",
      "\tat kotlin.coroutines.jvm.internal.BaseContinuationImpl.resumeWith(ContinuationImpl.kt:33)\n",
      "\tat kotlinx.coroutines.DispatchedTask.run(DispatchedTask.kt:106)\n",
      "\tat kotlinx.coroutines.EventLoopImplBase.processNextEvent(EventLoop.common.kt:274)\n",
      "\tat kotlinx.coroutines.BlockingCoroutine.joinBlocking(Builders.kt:85)\n",
      "\tat kotlinx.coroutines.BuildersKt__BuildersKt.runBlocking(Builders.kt:59)\n",
      "\tat kotlinx.coroutines.BuildersKt.runBlocking(Unknown Source)\n",
      "\tat kotlinx.coroutines.BuildersKt__BuildersKt.runBlocking$default(Builders.kt:38)\n",
      "\tat kotlinx.coroutines.BuildersKt.runBlocking$default(Unknown Source)\n",
      "\tat org.jetbrains.kotlinx.jupyter.repl.impl.InternalEvaluatorImpl.eval(InternalEvaluatorImpl.kt:99)\n",
      "\tat org.jetbrains.kotlinx.jupyter.repl.impl.CellExecutorImpl$execute$1$result$1.invoke(CellExecutorImpl.kt:64)\n",
      "\tat org.jetbrains.kotlinx.jupyter.repl.impl.CellExecutorImpl$execute$1$result$1.invoke(CellExecutorImpl.kt:63)\n",
      "\tat org.jetbrains.kotlinx.jupyter.ReplForJupyterImpl.withHost(repl.kt:603)\n",
      "\tat org.jetbrains.kotlinx.jupyter.repl.impl.CellExecutorImpl.execute(CellExecutorImpl.kt:63)\n",
      "\tat org.jetbrains.kotlinx.jupyter.repl.CellExecutor$DefaultImpls.execute$default(CellExecutor.kt:13)\n",
      "\tat org.jetbrains.kotlinx.jupyter.ReplForJupyterImpl$evalEx$1.invoke(repl.kt:423)\n",
      "\tat org.jetbrains.kotlinx.jupyter.ReplForJupyterImpl$evalEx$1.invoke(repl.kt:412)\n",
      "\tat org.jetbrains.kotlinx.jupyter.ReplForJupyterImpl.withEvalContext(repl.kt:376)\n",
      "\tat org.jetbrains.kotlinx.jupyter.ReplForJupyterImpl.evalEx(repl.kt:412)\n",
      "\tat org.jetbrains.kotlinx.jupyter.ReplForJupyterImpl.eval(repl.kt:460)\n",
      "\tat org.jetbrains.kotlinx.jupyter.ProtocolKt$shellMessagesHandler$res$1.invoke(protocol.kt:291)\n",
      "\tat org.jetbrains.kotlinx.jupyter.ProtocolKt$shellMessagesHandler$res$1.invoke(protocol.kt:290)\n",
      "\tat org.jetbrains.kotlinx.jupyter.JupyterConnection$runExecution$execThread$1.invoke(connection.kt:166)\n",
      "\tat org.jetbrains.kotlinx.jupyter.JupyterConnection$runExecution$execThread$1.invoke(connection.kt:164)\n",
      "\tat kotlin.concurrent.ThreadsKt$thread$thread$1.run(Thread.kt:30)\n"
     ]
    }
   ],
   "source": [
    "println(String.format(\"The random component: %s\", Arrays.toString(spx_model.getRandom())))"
   ]
  },
  {
   "cell_type": "code",
   "execution_count": 18,
   "metadata": {},
   "outputs": [
    {
     "name": "stdout",
     "output_type": "stream",
     "text": [
      "AR models\n",
      "The acvf of the AR(1) model at lag0 = 1.562500\n",
      "The acvf of the AR(1) model at lag1 = 0.937500\n",
      "The acvf of the AR(1) model at lag2 = 0.562500\n",
      "The acvf of the AR(1) model at lag3 = 0.337500\n",
      "The acvf of the AR(1) model at lag4 = 0.202500\n",
      "The acvf of the AR(1) model at lag5 = 0.121500\n",
      "The acvf of the AR(1) model at lag6 = 0.072900\n",
      "The acvf of the AR(1) model at lag7 = 0.043740\n",
      "The acvf of the AR(1) model at lag8 = 0.026244\n",
      "The acvf of the AR(1) model at lag9 = 0.015746\n"
     ]
    }
   ],
   "source": [
    "println(\"AR models\")\n",
    "\n",
    "// define an AR(1) model\n",
    "val ar1 = ARModel(\n",
    "        doubleArrayOf(0.6) // phi_1 = 0.6\n",
    ")\n",
    "val nLags = 10\n",
    "// compute the autocovariance function for the model\n",
    "val acvf1 = AutoCovariance(ar1)\n",
    "for (i in 0 until nLags) {\n",
    "    println(String.format(\"The acvf of the AR(1) model at lag%d = %f\", i, acvf1.evaluate(i.toDouble())))\n",
    "}"
   ]
  },
  {
   "cell_type": "code",
   "execution_count": 19,
   "metadata": {},
   "outputs": [
    {
     "name": "stdout",
     "output_type": "stream",
     "text": [
      "The acf of the AR(1) model at lag0 = 1.000000\n",
      "The acf of the AR(1) model at lag1 = 0.600000\n",
      "The acf of the AR(1) model at lag2 = 0.360000\n",
      "The acf of the AR(1) model at lag3 = 0.216000\n",
      "The acf of the AR(1) model at lag4 = 0.129600\n",
      "The acf of the AR(1) model at lag5 = 0.077760\n",
      "The acf of the AR(1) model at lag6 = 0.046656\n",
      "The acf of the AR(1) model at lag7 = 0.027994\n",
      "The acf of the AR(1) model at lag8 = 0.016796\n",
      "The acf of the AR(1) model at lag9 = 0.010078\n"
     ]
    }
   ],
   "source": [
    "// compute the autocorrelation function for the model\n",
    "val acf1 = AutoCorrelation(ar1, nLags)\n",
    "for (i in 0 until nLags) {\n",
    "    println(String.format(\"The acf of the AR(1) model at lag%d = %f\", i, acf1.evaluate(i.toDouble())))\n",
    "}"
   ]
  },
  {
   "cell_type": "code",
   "execution_count": 20,
   "metadata": {},
   "outputs": [
    {
     "name": "stdout",
     "output_type": "stream",
     "text": [
      "The acvf of the AR(2) model at lag1 = 4.826546\n",
      "The acvf of the AR(2) model at lag2 = 3.891403\n",
      "The acvf of the AR(2) model at lag3 = 2.980392\n",
      "The acvf of the AR(2) model at lag4 = 2.214480\n",
      "The acvf of the AR(2) model at lag5 = 1.614238\n",
      "The acvf of the AR(2) model at lag6 = 1.162018\n",
      "The acvf of the AR(2) model at lag7 = 0.829438\n",
      "The acvf of the AR(2) model at lag8 = 0.588620\n",
      "The acvf of the AR(2) model at lag9 = 0.416040\n",
      "\n",
      "The acf of the AR(2) model at lag0 = 1.000000\n",
      "The acf of the AR(2) model at lag1 = 0.888889\n",
      "The acf of the AR(2) model at lag2 = 0.716667\n",
      "The acf of the AR(2) model at lag3 = 0.548889\n",
      "The acf of the AR(2) model at lag4 = 0.407833\n",
      "The acf of the AR(2) model at lag5 = 0.297289\n",
      "The acf of the AR(2) model at lag6 = 0.214005\n",
      "The acf of the AR(2) model at lag7 = 0.152755\n",
      "The acf of the AR(2) model at lag8 = 0.108404\n",
      "The acf of the AR(2) model at lag9 = 0.076621\n"
     ]
    }
   ],
   "source": [
    "// define an AR(2) model\n",
    "val ar2 = ARModel(\n",
    "        doubleArrayOf(1.2, -0.35)\n",
    ")\n",
    "// compute the autocovariance function for the model\n",
    "val acvf2 = AutoCovariance(ar2)\n",
    "for (i in 1 until nLags) {\n",
    "    println(String.format(\"The acvf of the AR(2) model at lag%d = %f\", i, acvf2.evaluate(i.toDouble())))\n",
    "}\n",
    "println(\"\")\n",
    "// compute the autocorrelation function for the model\n",
    "val acf2 = AutoCorrelation(ar2, 10)\n",
    "for (i in 0 until nLags) {\n",
    "    println(String.format(\"The acf of the AR(2) model at lag%d = %f\", i, acf2.evaluate(i.toDouble())))\n",
    "}"
   ]
  },
  {
   "cell_type": "code",
   "execution_count": 21,
   "metadata": {},
   "outputs": [
    {
     "name": "stdout",
     "output_type": "stream",
     "text": [
      "The empirical pacf of a time series at lag1: 0.870717\n",
      "The empirical pacf of a time series at lag2: -0.361752\n",
      "The empirical pacf of a time series at lag3: 0.006046\n",
      "The empirical pacf of a time series at lag4: 0.050507\n",
      "phi: [1.0, 1.1861775215396104, -0.3622433585852758]\n",
      "var of error term: 1.0322854887339732\n"
     ]
    }
   ],
   "source": [
    "// create a random number generator from the AR model\n",
    "val sim = ARIMASim(ar2)\n",
    "sim.seed(1234567890L)\n",
    "\n",
    "// generate a random time series\n",
    "val T = 500 // length of the time series\n",
    "var x: DoubleArray = DoubleArray(T)\n",
    "for (i in 0 until T) {\n",
    "    // call the RNG to generate random numbers according to the specification\n",
    "    x[i] = sim.nextDouble()\n",
    "}\n",
    "// determine the cutoff lag using partial autocorrelation\n",
    "val acf2_hat = SamplePartialAutoCorrelation(SimpleTimeSeries(x))\n",
    "for (i in 1 until 5) {\n",
    "    println(String.format(\"The empirical pacf of a time series at lag%d: %f\", i, acf2_hat.evaluate(i)))\n",
    "}\n",
    "// fit an AR(2) model using the data\n",
    "val fit = ConditionalSumOfSquares(\n",
    "                x,\n",
    "                2, // the AR order\n",
    "                0,\n",
    "                0)\n",
    "println(String.format(\"phi: %s\", Arrays.toString(fit.getARMAModel().phi())))\n",
    "println(String.format(\"var of error term: %s\", fit.`var`()))"
   ]
  },
  {
   "cell_type": "code",
   "execution_count": 22,
   "metadata": {},
   "outputs": [
    {
     "name": "stdout",
     "output_type": "stream",
     "text": [
      "The forecasts for the AR(2) model are\n",
      "[501]: 0.355169 (1.000000)\n",
      "[502]: 0.370225 (2.440000)\n",
      "[503]: 0.319961 (3.628100)\n",
      "[504]: 0.254374 (4.416644)\n",
      "[505]: 0.193263 (4.884637)\n",
      "[506]: 0.142884 (5.144859)\n",
      "[507]: 0.103819 (5.283771)\n",
      "[508]: 0.074574 (5.355976)\n",
      "[509]: 0.053152 (5.392841)\n",
      "[510]: 0.037681 (5.411433)\n"
     ]
    }
   ],
   "source": [
    "// make forecast\n",
    "val forecast_ar2 = ARMAForecast(SimpleTimeSeries(x), ar2)\n",
    "println(\"The forecasts for the AR(2) model are\")\n",
    "for (j in 0 until 10) {\n",
    "    println(forecast_ar2.next())\n",
    "}"
   ]
  },
  {
   "cell_type": "code",
   "execution_count": 23,
   "metadata": {},
   "outputs": [
    {
     "name": "stdout",
     "output_type": "stream",
     "text": [
      "MA models\n",
      "the acvf of the MA(1) model at lag0 = 1.640000\n",
      "the acvf of the MA(1) model at lag1 = 0.800000\n",
      "the acvf of the MA(1) model at lag2 = 0.000000\n",
      "the acvf of the MA(1) model at lag3 = 0.000000\n",
      "the acvf of the MA(1) model at lag4 = 0.000000\n",
      "the acvf of the MA(1) model at lag5 = 0.000000\n",
      "the acvf of the MA(1) model at lag6 = 0.000000\n",
      "the acvf of the MA(1) model at lag7 = 0.000000\n",
      "the acvf of the MA(1) model at lag8 = 0.000000\n",
      "the acvf of the MA(1) model at lag9 = 0.000000\n",
      "\n",
      "the acf of the MA(1) model at lag0 = 1.000000\n",
      "the acf of the MA(1) model at lag1 = 0.487805\n",
      "the acf of the MA(1) model at lag2 = 0.000000\n",
      "the acf of the MA(1) model at lag3 = 0.000000\n",
      "the acf of the MA(1) model at lag4 = 0.000000\n",
      "the acf of the MA(1) model at lag5 = 0.000000\n",
      "the acf of the MA(1) model at lag6 = 0.000000\n",
      "the acf of the MA(1) model at lag7 = 0.000000\n",
      "the acf of the MA(1) model at lag8 = 0.000000\n",
      "the acf of the MA(1) model at lag9 = 0.000000\n"
     ]
    }
   ],
   "source": [
    "println(\"MA models\")\n",
    "\n",
    "// define an MA(1) model\n",
    "val ma1 = MAModel(\n",
    "        doubleArrayOf(0.8) // theta_1 = 0.8\n",
    ")\n",
    "\n",
    "val nLags = 10\n",
    "// compute the autocovariance function for the model\n",
    "val acvf1 = AutoCovariance(ma1)\n",
    "for (i in 0 until nLags) {\n",
    "    println(String.format(\"the acvf of the MA(1) model at lag%d = %f\", i, acvf1.evaluate(i.toDouble())))\n",
    "}\n",
    "println(\"\")\n",
    "// compute the autocorrelation function for the model\n",
    "val acf1 = AutoCorrelation(ma1, nLags)\n",
    "for (i in 0 until nLags) {\n",
    "    println(String.format(\"the acf of the MA(1) model at lag%d = %f\", i, acf1.evaluate(i.toDouble())))\n",
    "}"
   ]
  },
  {
   "cell_type": "code",
   "execution_count": 24,
   "metadata": {},
   "outputs": [
    {
     "name": "stdout",
     "output_type": "stream",
     "text": [
      "The acvf of the MA(2) model at lag1: -0.202000\n",
      "The acvf of the MA(2) model at lag2: 0.010000\n",
      "The acvf of the MA(2) model at lag3: 0.000000\n",
      "The acvf of the MA(2) model at lag4: 0.000000\n",
      "The acvf of the MA(2) model at lag5: 0.000000\n",
      "The acvf of the MA(2) model at lag6: 0.000000\n",
      "The acvf of the MA(2) model at lag7: 0.000000\n",
      "The acvf of the MA(2) model at lag8: 0.000000\n",
      "The acvf of the MA(2) model at lag9: 0.000000\n",
      "The acf of the MA(2) model at lag0: 1.000000\n",
      "The acf of the MA(2) model at lag1: -0.194212\n",
      "The acf of the MA(2) model at lag2: 0.009614\n",
      "The acf of the MA(2) model at lag3: 0.000000\n",
      "The acf of the MA(2) model at lag4: 0.000000\n",
      "The acf of the MA(2) model at lag5: 0.000000\n",
      "The acf of the MA(2) model at lag6: 0.000000\n",
      "The acf of the MA(2) model at lag7: 0.000000\n",
      "The acf of the MA(2) model at lag8: 0.000000\n",
      "The acf of the MA(2) model at lag9: 0.000000\n"
     ]
    }
   ],
   "source": [
    "// define an MA(2) model\n",
    "val ma2 = MAModel(\n",
    "        doubleArrayOf(-0.2, 0.01) // the moving-average coefficients\n",
    ")\n",
    "val acvf2 = AutoCovariance(ma2)\n",
    "for (i in 1 until 10) {\n",
    "    println(String.format(\"The acvf of the MA(2) model at lag%d: %f\", i, acvf2.evaluate(i.toDouble())))\n",
    "}\n",
    "val acf2 = AutoCorrelation(ma2, 10)\n",
    "for (i in 0 until 10) {\n",
    "    println(String.format(\"The acf of the MA(2) model at lag%d: %f\", i, acf2.evaluate(i.toDouble())))\n",
    "}"
   ]
  },
  {
   "cell_type": "code",
   "execution_count": 25,
   "metadata": {},
   "outputs": [
    {
     "name": "stdout",
     "output_type": "stream",
     "text": [
      "The empirical acf of a time series at lag0: 1.000000\n",
      "The empirical acf of a time series at lag1: -0.405272\n",
      "The empirical acf of a time series at lag2: 0.035492\n",
      "The empirical acf of a time series at lag3: -0.100347\n",
      "The empirical acf of a time series at lag4: 0.072677\n",
      "Theta: [1.0, -0.5136330232597168, -0.024493176415614604]\n",
      "Var of error term: 103.2830291835046\n"
     ]
    }
   ],
   "source": [
    "// define an MA(2) model\n",
    "val ma3 = MAModel(\n",
    "        0.1, // the mean\n",
    "        doubleArrayOf(-0.5, 0.01), // the moving-average coefficients\n",
    "        10.0 // the standard deviation\n",
    ")\n",
    "\n",
    "// create a random number generator from the MA model\n",
    "val sim = ARIMASim(ma3)\n",
    "sim.seed(1234567890L)\n",
    "\n",
    "// generate a random time series\n",
    "val T = 500 // length of the time series\n",
    "var x: DoubleArray = DoubleArray(T)\n",
    "for (i in 0 until T) {\n",
    "    // call the RNG to generate random numbers according to the specification\n",
    "    x[i] = sim.nextDouble()\n",
    "}\n",
    "\n",
    "// determine the cutoff lag using autocorrelation\n",
    "val acf3_hat = SampleAutoCorrelation(SimpleTimeSeries(x))\n",
    "for (i in 0 until 5) {\n",
    "    println(String.format(\"The empirical acf of a time series at lag%d: %f\", i, acf3_hat.evaluate(i)))\n",
    "}\n",
    "// fit an MA(2) model using the data\n",
    "val fit = ConditionalSumOfSquares(\n",
    "                x,\n",
    "                0,\n",
    "                0,\n",
    "                2) // the MA order\n",
    "println(String.format(\"Theta: %s\", Arrays.toString(fit.getARMAModel().theta())))\n",
    "println(String.format(\"Var of error term: %s\", fit.`var`()))"
   ]
  },
  {
   "cell_type": "code",
   "execution_count": 26,
   "metadata": {},
   "outputs": [
    {
     "name": "stdout",
     "output_type": "stream",
     "text": [
      "The forecasts for the MA(2) model are\n",
      "[501]: -2.246799 (1.000000)\n",
      "[502]: 0.147899 (1.250000)\n",
      "[503]: 0.100000 (1.250100)\n",
      "[504]: 0.100000 (1.250100)\n",
      "[505]: 0.100000 (1.250100)\n",
      "[506]: 0.100000 (1.250100)\n",
      "[507]: 0.100000 (1.250100)\n",
      "[508]: 0.100000 (1.250100)\n",
      "[509]: 0.100000 (1.250100)\n",
      "[510]: 0.100000 (1.250100)\n"
     ]
    }
   ],
   "source": [
    "// make forecast\n",
    "val forecast_ma3 = ARMAForecast(SimpleTimeSeries(x), ma3)\n",
    "println(\"The forecasts for the MA(2) model are\")\n",
    "for (j in 0 until 10) {\n",
    "    println(forecast_ma3.next())\n",
    "}"
   ]
  },
  {
   "cell_type": "code",
   "execution_count": 27,
   "metadata": {},
   "outputs": [
    {
     "name": "stdout",
     "output_type": "stream",
     "text": [
      "ARMA(1,1) model\n",
      "The acvf of the ARMA(1,1) model at lag1: 1.652083\n",
      "The acvf of the ARMA(1,1) model at lag2: 0.330417\n",
      "The acvf of the ARMA(1,1) model at lag3: 0.066083\n",
      "The acvf of the ARMA(1,1) model at lag4: 0.013217\n",
      "The acvf of the ARMA(1,1) model at lag5: 0.002643\n",
      "The acvf of the ARMA(1,1) model at lag6: 0.000529\n",
      "The acvf of the ARMA(1,1) model at lag7: 0.000106\n",
      "The acvf of the ARMA(1,1) model at lag8: 0.000021\n",
      "The acvf of the ARMA(1,1) model at lag9: 0.000004\n",
      "The acf of the ARMA(1,1) model at lag1: 0.598491\n",
      "The acf of the ARMA(1,1) model at lag2: 0.119698\n",
      "The acf of the ARMA(1,1) model at lag3: 0.023940\n",
      "The acf of the ARMA(1,1) model at lag4: 0.004788\n",
      "The acf of the ARMA(1,1) model at lag5: 0.000958\n",
      "The acf of the ARMA(1,1) model at lag6: 0.000192\n",
      "The acf of the ARMA(1,1) model at lag7: 0.000038\n",
      "The acf of the ARMA(1,1) model at lag8: 0.000008\n",
      "The acf of the ARMA(1,1) model at lag9: 0.000002\n"
     ]
    }
   ],
   "source": [
    "println(\"ARMA(1,1) model\")\n",
    "\n",
    "// build an ARMA(1, 1)\n",
    "val arma11 = ARMAModel(\n",
    "        doubleArrayOf(0.2), // the AR coefficients\n",
    "        doubleArrayOf(1.1) // the MA coefficients\n",
    ")\n",
    "// compute the autocovariance function for the model\n",
    "val acvf = AutoCovariance(arma11)\n",
    "for (i in 1 until 10) {\n",
    "    println(String.format(\"The acvf of the ARMA(1,1) model at lag%d: %f\", i, acvf.evaluate(i.toDouble())))\n",
    "}\n",
    "// compute the autocorrelation function for the model\n",
    "val acf = AutoCorrelation(arma11, 10)\n",
    "for (i in 1 until 10) {\n",
    "    println(String.format(\"The acf of the ARMA(1,1) model at lag%d: %f\", i, acf.evaluate(i.toDouble())))\n",
    "}"
   ]
  },
  {
   "cell_type": "code",
   "execution_count": 28,
   "metadata": {},
   "outputs": [
    {
     "name": "stdout",
     "output_type": "stream",
     "text": [
      "The coefficients of the linear representation at lag 1 = 1.300000\n",
      "The coefficients of the linear representation at lag 2 = 0.260000\n",
      "The coefficients of the linear representation at lag 3 = 0.052000\n",
      "The coefficients of the linear representation at lag 4 = 0.010400\n",
      "The coefficients of the linear representation at lag 5 = 0.002080\n",
      "The coefficients of the linear representation at lag 6 = 0.000416\n",
      "The coefficients of the linear representation at lag 7 = 0.000083\n",
      "The coefficients of the linear representation at lag 8 = 0.000017\n",
      "The coefficients of the linear representation at lag 9 = 0.000003\n",
      "The coefficients of the linear representation at lag 10 = 0.000001\n",
      "The coefficients of the linear representation at lag 11 = 0.000000\n",
      "The coefficients of the linear representation at lag 12 = 0.000000\n",
      "The coefficients of the linear representation at lag 13 = 0.000000\n",
      "The coefficients of the linear representation at lag 14 = 0.000000\n",
      "The coefficients of the linear representation at lag 15 = 0.000000\n",
      "The coefficients of the linear representation at lag 16 = 0.000000\n",
      "The coefficients of the linear representation at lag 17 = 0.000000\n",
      "The coefficients of the linear representation at lag 18 = 0.000000\n",
      "The coefficients of the linear representation at lag 19 = 0.000000\n",
      "The coefficients of the linear representation at lag 20 = 0.000000\n"
     ]
    }
   ],
   "source": [
    "// build an ARMA(1, 1)\n",
    "val arma11 = ARMAModel(\n",
    "        doubleArrayOf(0.2), // the AR coefficients\n",
    "        doubleArrayOf(1.1) // the MA coefficients\n",
    ")\n",
    "// compute the linear representation\n",
    "val ma = LinearRepresentation(arma11)\n",
    "for (i in 1..20) {\n",
    "    println(String.format(\"The coefficients of the linear representation at lag %d = %f\", i, ma.AR(i)))\n",
    "}"
   ]
  },
  {
   "cell_type": "code",
   "execution_count": 29,
   "metadata": {},
   "outputs": [
    {
     "name": "stdout",
     "output_type": "stream",
     "text": [
      "ARMA(2,3) model\n",
      "The coefficients of the linear representation at lag 1 = 0.700000\n",
      "The coefficients of the linear representation at lag 2 = 0.390000\n",
      "The coefficients of the linear representation at lag 3 = 0.473000\n",
      "The coefficients of the linear representation at lag 4 = 0.194100\n",
      "The coefficients of the linear representation at lag 5 = 0.007670\n",
      "The coefficients of the linear representation at lag 6 = -0.040041\n",
      "The coefficients of the linear representation at lag 7 = -0.025789\n",
      "The coefficients of the linear representation at lag 8 = -0.006264\n",
      "The coefficients of the linear representation at lag 9 = 0.002173\n",
      "The coefficients of the linear representation at lag 10 = 0.002745\n",
      "The coefficients of the linear representation at lag 11 = 0.001147\n",
      "The coefficients of the linear representation at lag 12 = 0.000057\n",
      "The coefficients of the linear representation at lag 13 = -0.000230\n",
      "The coefficients of the linear representation at lag 14 = -0.000151\n",
      "The coefficients of the linear representation at lag 15 = -0.000038\n",
      "The coefficients of the linear representation at lag 16 = 0.000000\n",
      "The coefficients of the linear representation at lag 17 = 0.000000\n",
      "The coefficients of the linear representation at lag 18 = 0.000000\n",
      "The coefficients of the linear representation at lag 19 = 0.000000\n",
      "The coefficients of the linear representation at lag 20 = 0.000000\n"
     ]
    }
   ],
   "source": [
    "println(\"ARMA(2,3) model\")\n",
    "\n",
    "// build an ARMA(2, 3)\n",
    "val arma23 = ARMAModel(\n",
    "        doubleArrayOf(0.6, -0.23), // the AR coefficients\n",
    "        doubleArrayOf(0.1, 0.2, 0.4) // the MA coefficients\n",
    ")\n",
    "\n",
    "// compute the linear representation\n",
    "val ma = LinearRepresentation(arma23)\n",
    "for (i in 1..20) {\n",
    "    println(String.format(\"The coefficients of the linear representation at lag %d = %f\", i, ma.AR(i)))\n",
    "}"
   ]
  },
  {
   "cell_type": "code",
   "execution_count": 30,
   "metadata": {},
   "outputs": [
    {
     "name": "stdout",
     "output_type": "stream",
     "text": [
      "The acvf of the ARMA(2,3) model at lag1: 1.251651\n",
      "The acvf of the ARMA(2,3) model at lag2: 0.792637\n",
      "The acvf of the ARMA(2,3) model at lag3: 0.587703\n",
      "The acvf of the ARMA(2,3) model at lag4: 0.170315\n",
      "The acvf of the ARMA(2,3) model at lag5: -0.032983\n",
      "The acvf of the ARMA(2,3) model at lag6: -0.058962\n",
      "The acvf of the ARMA(2,3) model at lag7: -0.027791\n",
      "The acvf of the ARMA(2,3) model at lag8: -0.003113\n",
      "The acvf of the ARMA(2,3) model at lag9: 0.004524\n"
     ]
    }
   ],
   "source": [
    "// compute the autocovariance function for the model\n",
    "val acvf = AutoCovariance(arma23)\n",
    "for (i in 1 until 10) {\n",
    "    println(String.format(\"The acvf of the ARMA(2,3) model at lag%d: %f\", i, acvf.evaluate(i.toDouble())))\n",
    "}"
   ]
  },
  {
   "cell_type": "code",
   "execution_count": 31,
   "metadata": {},
   "outputs": [
    {
     "name": "stdout",
     "output_type": "stream",
     "text": [
      "The acf of the ARMA(2,3) model at lag1: 0.656730\n",
      "The acf of the ARMA(2,3) model at lag2: 0.415890\n",
      "The acf of the ARMA(2,3) model at lag3: 0.308362\n",
      "The acf of the ARMA(2,3) model at lag4: 0.089363\n",
      "The acf of the ARMA(2,3) model at lag5: -0.017306\n",
      "The acf of the ARMA(2,3) model at lag6: -0.030937\n",
      "The acf of the ARMA(2,3) model at lag7: -0.014582\n",
      "The acf of the ARMA(2,3) model at lag8: -0.001634\n",
      "The acf of the ARMA(2,3) model at lag9: 0.002374\n"
     ]
    }
   ],
   "source": [
    "// compute the autocorrelation function for the model\n",
    "val acf = AutoCorrelation(arma23, 10)\n",
    "for (i in 1 until 10) {\n",
    "    println(String.format(\"The acf of the ARMA(2,3) model at lag%d: %f\", i, acf.evaluate(i.toDouble())))\n",
    "}"
   ]
  },
  {
   "cell_type": "code",
   "execution_count": 32,
   "metadata": {},
   "outputs": [
    {
     "name": "stdout",
     "output_type": "stream",
     "text": [
      "making forecasts for an ARMA model\n"
     ]
    }
   ],
   "source": [
    "println(\"making forecasts for an ARMA model\")\n",
    "\n",
    "// define an ARMA(1, 1)\n",
    "val arma11 = ARMAModel(\n",
    "        doubleArrayOf(0.2), // the AR coefficients\n",
    "        doubleArrayOf(1.1) // the MA coefficients\n",
    ")\n",
    "\n",
    "// create a random number generator from the ARMA model\n",
    "val sim = ARIMASim(arma11)\n",
    "sim.seed(1234567890L)\n",
    "\n",
    "// generate a random time series\n",
    "val T = 50 // length of the time series\n",
    "var x: DoubleArray = DoubleArray(T)\n",
    "for (i in 0 until T) {\n",
    "    // call the RNG to generate random numbers according to the specification\n",
    "    x[i] = sim.nextDouble()\n",
    "}\n",
    "\n",
    "// compute the one-step conditional expectations for the model\n",
    "val forecaset = ARMAForecastOneStep(x, arma11)\n",
    "var x_hat: DoubleArray = DoubleArray(T)\n",
    "var residuals: DoubleArray = DoubleArray(T)\n",
    "for (i in 0 until T) {\n",
    "    // the one-step conditional expectations\n",
    "    x_hat[i] = forecaset.xHat(i)\n",
    "    // the errors\n",
    "    residuals[i] = x[i] - x_hat[i]\n",
    "}"
   ]
  },
  {
   "cell_type": "code",
   "execution_count": 33,
   "metadata": {},
   "outputs": [
    {
     "name": "stdout",
     "output_type": "stream",
     "text": [
      "[0.1968790947035005, 0.16584033866577874, 0.7910121229310072, 0.10657769691646068, -1.0371447908191465, 0.04412684959211502, 0.7241722424723148, -1.7538519814924725, -4.772738896937248, -2.7244783039780023, -1.1110789790665505, -2.106322783331434, -1.1271763863477884, 0.9965503611140754, 1.6572660541680069, 0.33320306655718857, -1.1870211371405786, -1.455695953473766, -1.1983843155249563, -0.6175694949485292, -1.638887243286174, -1.4684693838686553, 0.27241367827489105, -0.3568959657961215, -1.9094912681123621, -1.7414682817620857, 0.002962991657699643, 3.3215140309763758, 3.9748770865118255, 1.892138226291777, 0.24072858411567088, 0.579438081971123, 0.47801729694314576, -2.348962731013112, -3.5088899884329416, -2.2319690474266145, -0.11388062914051986, 0.7027802982941478, 0.9455377482452896, -0.37823117642937193, -0.03438897732456425, 1.0013070243160762, 1.1764996183304488, 2.655041457769469, 1.704878446908042, -0.455996185972092, -1.9281518997430394, -3.170380648633762, -3.0931897346025523, -2.3576243206981666]\n"
     ]
    }
   ],
   "source": [
    "println(Arrays.toString(x))"
   ]
  },
  {
   "cell_type": "code",
   "execution_count": 34,
   "metadata": {},
   "outputs": [
    {
     "name": "stdout",
     "output_type": "stream",
     "text": [
      "[0.0, 0.11783028083009503, 0.06297686421253082, 0.6826462678185927, -0.42568727132717654, -0.7032843656741394, 0.632629314138487, 0.22277838517806908, -2.058229893163323, -3.3247441761833425, -0.016461199464652077, -1.1919709121238073, -1.2353528600412458, -0.1287408986154927, 1.2083288982851947, 0.735022179437633, -0.295310396854917, -1.0419722536064209, -0.6649353913566711, -0.7221747128610998, -0.02881456074003297, -1.7864558441074792, -0.005432989589572779, 0.30648150332280744, -0.6732894222805461, -1.5039341530299661, -0.5639508511348783, 0.5154113730922484, 3.213026896542926, 1.4870556694784516, 0.7464601785514215, -0.41137892647394775, 1.016255913260322, -0.39353632813498596, -2.246948501083488, -1.8487285668630986, -0.7947267534662068, 0.5960758174822746, 0.23754730179573447, 0.8326648750944147, -1.1763613927854226, 1.0312014516375774, 0.17308632920739364, 1.1474473206254265, 1.9014906764895478, 0.16224352186193292, -0.6532191637766533, -1.5446325796392095, -2.1119998757720535, -1.510614241189308]\n"
     ]
    }
   ],
   "source": [
    "println(Arrays.toString(x_hat))"
   ]
  },
  {
   "cell_type": "code",
   "execution_count": 35,
   "metadata": {},
   "outputs": [
    {
     "name": "stdout",
     "output_type": "stream",
     "text": [
      "[0.1968790947035005, 0.04801005783568371, 0.7280352587184764, -0.576068570902132, -0.6114575194919699, 0.7474112152662544, 0.09154292833382782, -1.9766303666705416, -2.7145090037739252, 0.6002658722053402, -1.0946177796018985, -0.9143518712076266, 0.1081764736934574, 1.1252912597295681, 0.44893715588281213, -0.4018191128804445, -0.8917107402856616, -0.41372369986734503, -0.5334489241682852, 0.1046052179125706, -1.610072682546141, 0.3179864602388238, 0.2778466678644638, -0.6633774691189289, -1.236201845831816, -0.23753412873211954, 0.566913842792578, 2.8061026578841273, 0.7618501899688996, 0.4050825568133254, -0.5057315944357507, 0.9908170084450707, -0.5382386163171762, -1.955426402878126, -1.2619414873494534, -0.3832404805635159, 0.6808461243256869, 0.10670448081187323, 0.7079904464495551, -1.2108960515237865, 1.1419724154608584, -0.02989442732150116, 1.0034132891230552, 1.5075941371440427, -0.19661222958150582, -0.6182397078340249, -1.274932735966386, -1.6257480689945525, -0.9811898588304988, -0.8470100795088586]\n"
     ]
    }
   ],
   "source": [
    "println(Arrays.toString(residuals))"
   ]
  },
  {
   "cell_type": "code",
   "execution_count": 36,
   "metadata": {},
   "outputs": [
    {
     "name": "stdout",
     "output_type": "stream",
     "text": [
      "fit an ARMA(1,1) time series\n",
      "The fitted ARMA(1,1) model is x_t = -0.25855664657157695 + (0.4087316816737802*x_{t-1}) + (1.0193696854247496*e_{t-1}) + e_t; var(e_t) = 0.886664, d = 0\n",
      "\n",
      "The fitted ARMA(1,1) model, demeanded, is x_t = 0.0 + (0.4087316816737802*x_{t-1}) + (1.0193696854247496*e_{t-1}) + e_t; var(e_t) = 1.000000, d = 0\n",
      "\n",
      "AIC = 93.971130\n"
     ]
    }
   ],
   "source": [
    "println(\"fit an ARMA(1,1) time series\")\n",
    "\n",
    "// define an ARMA(1, 1)\n",
    "val arma11 = ARMAModel(\n",
    "        doubleArrayOf(0.2), // the AR coefficients\n",
    "        doubleArrayOf(1.1) // the MA coefficients\n",
    ")\n",
    "\n",
    "// create a random number generator from the ARMA model\n",
    "val sim = ARIMASim(arma11)\n",
    "sim.seed(1234567890L)\n",
    "\n",
    "// generate a random time series\n",
    "val T = 50 // length of the time series\n",
    "var x: DoubleArray = DoubleArray(T)\n",
    "for (i in 0 until T) {\n",
    "    // call the RNG to generate random numbers according to the specification\n",
    "    x[i] = sim.nextDouble()\n",
    "}\n",
    "\n",
    "// fit an ARMA(1,1) model\n",
    "val css = ConditionalSumOfSquares(x, 1, 0, 1)\n",
    "val arma11_css = css.getARMAModel()\n",
    "println(String.format(\"The fitted ARMA(1,1) model is %s%n\", arma11_css))\n",
    "println(String.format(\"The fitted ARMA(1,1) model, demeanded, is %s%n\", arma11_css.getDemeanedModel()))\n",
    "println(String.format(\"AIC = %f\", css.AIC()))"
   ]
  },
  {
   "cell_type": "code",
   "execution_count": 37,
   "metadata": {},
   "outputs": [
    {
     "name": "stdout",
     "output_type": "stream",
     "text": [
      "[0.1968790947035005, 0.16584033866577874, 0.7910121229310072, 0.10657769691646068, -1.0371447908191465, 0.04412684959211502, 0.7241722424723148, -1.7538519814924725, -4.772738896937248, -2.7244783039780023, -1.1110789790665505, -2.106322783331434, -1.1271763863477884, 0.9965503611140754, 1.6572660541680069, 0.33320306655718857, -1.1870211371405786, -1.455695953473766, -1.1983843155249563, -0.6175694949485292, -1.638887243286174, -1.4684693838686553, 0.27241367827489105, -0.3568959657961215, -1.9094912681123621, -1.7414682817620857, 0.002962991657699643, 3.3215140309763758, 3.9748770865118255, 1.892138226291777, 0.24072858411567088, 0.579438081971123, 0.47801729694314576, -2.348962731013112, -3.5088899884329416, -2.2319690474266145, -0.11388062914051986, 0.7027802982941478, 0.9455377482452896, -0.37823117642937193, -0.03438897732456425, 1.0013070243160762, 1.1764996183304488, 2.655041457769469, 1.704878446908042, -0.455996185972092, -1.9281518997430394, -3.170380648633762, -3.0931897346025523, -2.3576243206981666]\n",
      "[-0.4372915621515236, 0.00937209746817369, -0.09898997058350062, 0.6942747900301056, -0.669501545769906, -0.9820985031135132, 0.6252208269928852, 0.12297804511811566, -2.627728640270505, -4.12452847862602, -0.10798832521744123, -1.626720193311634, -1.5598216737414892, -0.3194951688520215, 1.37146355101566, 0.6856020092427895, -0.45266126108420385, -1.4345074629916603, -0.8735402145958597, -1.055782688711004, -0.09523142590645517, -2.396278448373384, 0.02530587249563726, 0.08868816121809614, -0.830533585277088, -2.0724213481720684, -0.65291827310313, 0.37256806310167917, 3.9346853632295042, 1.40479235489106, 0.9844551850233378, -0.8775547275067413, 1.3849435581151726, -0.9395093268084225, -2.5816275051681234, -2.5900926946737717, -0.8240278309884794, 0.38304207176108546, 0.3387110021456426, 0.7166293651745463, -1.4759011999075742, 1.127325808274869, 0.028266837076889484, 1.3384622071131218, 2.106972966657347, 0.04710095649752416, -0.9345634412966627, -2.0139855061771788, -2.680611046382154, -1.9247834881598616]\n",
      "[0.634170656855024, 0.15646824119760505, 0.8900020935145079, -0.5876970931136449, -0.3676432450492405, 1.0262253527056282, 0.09895141547942965, -1.8768300266105882, -2.1450102566667435, 1.400050174648018, -1.0030906538491093, -0.4796025900198, 0.4326452873937008, 1.316045529966097, 0.2858025031523468, -0.3523989426856009, -0.7343598760563748, -0.021188490482105582, -0.32484410092909655, 0.4382131937624748, -1.5436558173797188, 0.9278090645047286, 0.2471078057792538, -0.4455841270142176, -1.078957682835274, 0.3309530664099827, 0.6558812647608296, 2.9489459678746965, 0.040191723282321234, 0.48734587140071706, -0.743726600907667, 1.4569928094778644, -0.9069262611720268, -1.4094534042046896, -0.9272624832648182, 0.3581236472471572, 0.7101472018479595, 0.31973822653306233, 0.606826746099647, -1.0948605416039183, 1.44151222258301, -0.12601878395879273, 1.1482327812535593, 1.3165792506563474, -0.4020945197493049, -0.5030971424696162, -0.9935884584463767, -1.1563951424565833, -0.41257868822039834, -0.4328408325383051]\n"
     ]
    }
   ],
   "source": [
    "// compute the fitted values using the fitted model\n",
    "val forecaset = ARMAForecastOneStep(x, arma11_css)\n",
    "var x_hat: DoubleArray = DoubleArray(T)\n",
    "var residuals: DoubleArray = DoubleArray(T)\n",
    "for (i in 0 until T) {\n",
    "    // the fitted value\n",
    "    x_hat[i] = forecaset.xHat(i)\n",
    "    // the residuals\n",
    "    residuals[i] = x[i] - x_hat[i]\n",
    "}\n",
    "\n",
    "println(Arrays.toString(x))\n",
    "println(Arrays.toString(x_hat))\n",
    "println(Arrays.toString(residuals))"
   ]
  },
  {
   "cell_type": "code",
   "execution_count": 38,
   "metadata": {},
   "outputs": [
    {
     "name": "stdout",
     "output_type": "stream",
     "text": [
      "The test statistic = 2.686421\n",
      "The p-value = 0.261006\n"
     ]
    }
   ],
   "source": [
    "// run the goodness-of-fit test\n",
    "val test = LjungBox(\n",
    "        residuals,\n",
    "        4, // check up to the 4-th lag\n",
    "        2 // number of parameters\n",
    ")\n",
    "println(String.format(\"The test statistic = %f\", test.statistics()))\n",
    "println(String.format(\"The p-value = %f\", test.pValue()))"
   ]
  },
  {
   "cell_type": "code",
   "execution_count": 39,
   "metadata": {},
   "outputs": [
    {
     "name": "stdout",
     "output_type": "stream",
     "text": [
      "Unit root test using the augmented Dickey-Fuller test\n",
      "H0: there is a unit root in the process, hence non-stationarity\n",
      "H1: there is no unit root in the process, hence stationarity\n",
      "\n",
      "The p-value for the test = 0.100000\n",
      "The statistics for the test = -2.641969\n"
     ]
    }
   ],
   "source": [
    "/**\n",
    "*\n",
    "* x<-c(0.2,0.3,-0.1,0.4,-0.5,0.6,0.1,0.2) adf.test(c(x,x),alternative =\n",
    "* c(\"stationary\"),4)\n",
    "*\n",
    "* The p-value from R is obtained form the interpolation\n",
    "* (0.9-0.1)/(3.24-1.14)=(x-0.1)/(3.24-2.642)\n",
    "* \"x=0.8/(3.24-1.14)*(3.24-2.642)+0.1=0.3278\"\n",
    "*\n",
    "* The values -3.24 and -1.14 are from table 4.2c in A. Banerjee, J. J.\n",
    "* Dolado, J. W. Galbraith, and D. F. Hendry (1993): Cointegration, Error\n",
    "* Correction, and the Econometric Analysis of Non-Stationary Data, Oxford\n",
    "* University Press, Oxford.\n",
    "*/\n",
    "\n",
    "println(\"Unit root test using the augmented Dickey-Fuller test\")\n",
    "\n",
    "val sample: DoubleArray = doubleArrayOf(0.2, 0.3, -0.1, 0.4, -0.5, 0.6, 0.1, 0.2, 0.2, 0.3, -0.1, 0.4, -0.5, 0.6, 0.1, 0.2)\n",
    "val adf = AugmentedDickeyFuller(\n",
    "                sample,\n",
    "                TrendType.CONSTANT, // constant drift term\n",
    "                4, // the lag order\n",
    "                null\n",
    "        )\n",
    "\n",
    "println(\"H0: \" + adf.getNullHypothesis())\n",
    "println(\"H1: \" + adf.getAlternativeHypothesis())\n",
    "println(String.format(\"\\nThe p-value for the test = %f\", adf.pValue()))\n",
    "println(String.format(\"The statistics for the test = %f\", adf.statistics()))"
   ]
  },
  {
   "cell_type": "code",
   "execution_count": 40,
   "metadata": {},
   "outputs": [
    {
     "name": "stderr",
     "output_type": "stream",
     "text": [
      "null\n",
      "java.lang.NullPointerException\n",
      "\tat Line_43.<init>(Line_43.jupyter-kts:1)\n",
      "\tat java.base/jdk.internal.reflect.NativeConstructorAccessorImpl.newInstance0(Native Method)\n",
      "\tat java.base/jdk.internal.reflect.NativeConstructorAccessorImpl.newInstance(NativeConstructorAccessorImpl.java:62)\n",
      "\tat java.base/jdk.internal.reflect.DelegatingConstructorAccessorImpl.newInstance(DelegatingConstructorAccessorImpl.java:45)\n",
      "\tat java.base/java.lang.reflect.Constructor.newInstance(Constructor.java:490)\n",
      "\tat kotlin.script.experimental.jvm.BasicJvmScriptEvaluator.evalWithConfigAndOtherScriptsResults(BasicJvmScriptEvaluator.kt:100)\n",
      "\tat kotlin.script.experimental.jvm.BasicJvmScriptEvaluator.invoke$suspendImpl(BasicJvmScriptEvaluator.kt:47)\n",
      "\tat kotlin.script.experimental.jvm.BasicJvmScriptEvaluator.invoke(BasicJvmScriptEvaluator.kt)\n",
      "\tat kotlin.script.experimental.jvm.BasicJvmReplEvaluator.eval(BasicJvmReplEvaluator.kt:49)\n",
      "\tat org.jetbrains.kotlinx.jupyter.repl.impl.InternalEvaluatorImpl$eval$resultWithDiagnostics$1.invokeSuspend(InternalEvaluatorImpl.kt:99)\n",
      "\tat kotlin.coroutines.jvm.internal.BaseContinuationImpl.resumeWith(ContinuationImpl.kt:33)\n",
      "\tat kotlinx.coroutines.DispatchedTask.run(DispatchedTask.kt:106)\n",
      "\tat kotlinx.coroutines.EventLoopImplBase.processNextEvent(EventLoop.common.kt:274)\n",
      "\tat kotlinx.coroutines.BlockingCoroutine.joinBlocking(Builders.kt:85)\n",
      "\tat kotlinx.coroutines.BuildersKt__BuildersKt.runBlocking(Builders.kt:59)\n",
      "\tat kotlinx.coroutines.BuildersKt.runBlocking(Unknown Source)\n",
      "\tat kotlinx.coroutines.BuildersKt__BuildersKt.runBlocking$default(Builders.kt:38)\n",
      "\tat kotlinx.coroutines.BuildersKt.runBlocking$default(Unknown Source)\n",
      "\tat org.jetbrains.kotlinx.jupyter.repl.impl.InternalEvaluatorImpl.eval(InternalEvaluatorImpl.kt:99)\n",
      "\tat org.jetbrains.kotlinx.jupyter.repl.impl.CellExecutorImpl$execute$1$result$1.invoke(CellExecutorImpl.kt:64)\n",
      "\tat org.jetbrains.kotlinx.jupyter.repl.impl.CellExecutorImpl$execute$1$result$1.invoke(CellExecutorImpl.kt:63)\n",
      "\tat org.jetbrains.kotlinx.jupyter.ReplForJupyterImpl.withHost(repl.kt:603)\n",
      "\tat org.jetbrains.kotlinx.jupyter.repl.impl.CellExecutorImpl.execute(CellExecutorImpl.kt:63)\n",
      "\tat org.jetbrains.kotlinx.jupyter.repl.CellExecutor$DefaultImpls.execute$default(CellExecutor.kt:13)\n",
      "\tat org.jetbrains.kotlinx.jupyter.ReplForJupyterImpl$evalEx$1.invoke(repl.kt:423)\n",
      "\tat org.jetbrains.kotlinx.jupyter.ReplForJupyterImpl$evalEx$1.invoke(repl.kt:412)\n",
      "\tat org.jetbrains.kotlinx.jupyter.ReplForJupyterImpl.withEvalContext(repl.kt:376)\n",
      "\tat org.jetbrains.kotlinx.jupyter.ReplForJupyterImpl.evalEx(repl.kt:412)\n",
      "\tat org.jetbrains.kotlinx.jupyter.ReplForJupyterImpl.eval(repl.kt:460)\n",
      "\tat org.jetbrains.kotlinx.jupyter.ProtocolKt$shellMessagesHandler$res$1.invoke(protocol.kt:291)\n",
      "\tat org.jetbrains.kotlinx.jupyter.ProtocolKt$shellMessagesHandler$res$1.invoke(protocol.kt:290)\n",
      "\tat org.jetbrains.kotlinx.jupyter.JupyterConnection$runExecution$execThread$1.invoke(connection.kt:166)\n",
      "\tat org.jetbrains.kotlinx.jupyter.JupyterConnection$runExecution$execThread$1.invoke(connection.kt:164)\n",
      "\tat kotlin.concurrent.ThreadsKt$thread$thread$1.run(Thread.kt:30)\n"
     ]
    }
   ],
   "source": [
    "val adf = AugmentedDickeyFuller(spx.toArray())\n",
    "println(String.format(\"The p-value for the test = %f\", adf.pValue()))\n",
    "println(String.format(\"The statistics for the test = %f\", adf.statistics()))"
   ]
  },
  {
   "cell_type": "code",
   "execution_count": 41,
   "metadata": {},
   "outputs": [
    {
     "name": "stderr",
     "output_type": "stream",
     "text": [
      "null\n",
      "java.lang.NullPointerException\n",
      "\tat Line_44.<init>(Line_44.jupyter-kts:2)\n",
      "\tat java.base/jdk.internal.reflect.NativeConstructorAccessorImpl.newInstance0(Native Method)\n",
      "\tat java.base/jdk.internal.reflect.NativeConstructorAccessorImpl.newInstance(NativeConstructorAccessorImpl.java:62)\n",
      "\tat java.base/jdk.internal.reflect.DelegatingConstructorAccessorImpl.newInstance(DelegatingConstructorAccessorImpl.java:45)\n",
      "\tat java.base/java.lang.reflect.Constructor.newInstance(Constructor.java:490)\n",
      "\tat kotlin.script.experimental.jvm.BasicJvmScriptEvaluator.evalWithConfigAndOtherScriptsResults(BasicJvmScriptEvaluator.kt:100)\n",
      "\tat kotlin.script.experimental.jvm.BasicJvmScriptEvaluator.invoke$suspendImpl(BasicJvmScriptEvaluator.kt:47)\n",
      "\tat kotlin.script.experimental.jvm.BasicJvmScriptEvaluator.invoke(BasicJvmScriptEvaluator.kt)\n",
      "\tat kotlin.script.experimental.jvm.BasicJvmReplEvaluator.eval(BasicJvmReplEvaluator.kt:49)\n",
      "\tat org.jetbrains.kotlinx.jupyter.repl.impl.InternalEvaluatorImpl$eval$resultWithDiagnostics$1.invokeSuspend(InternalEvaluatorImpl.kt:99)\n",
      "\tat kotlin.coroutines.jvm.internal.BaseContinuationImpl.resumeWith(ContinuationImpl.kt:33)\n",
      "\tat kotlinx.coroutines.DispatchedTask.run(DispatchedTask.kt:106)\n",
      "\tat kotlinx.coroutines.EventLoopImplBase.processNextEvent(EventLoop.common.kt:274)\n",
      "\tat kotlinx.coroutines.BlockingCoroutine.joinBlocking(Builders.kt:85)\n",
      "\tat kotlinx.coroutines.BuildersKt__BuildersKt.runBlocking(Builders.kt:59)\n",
      "\tat kotlinx.coroutines.BuildersKt.runBlocking(Unknown Source)\n",
      "\tat kotlinx.coroutines.BuildersKt__BuildersKt.runBlocking$default(Builders.kt:38)\n",
      "\tat kotlinx.coroutines.BuildersKt.runBlocking$default(Unknown Source)\n",
      "\tat org.jetbrains.kotlinx.jupyter.repl.impl.InternalEvaluatorImpl.eval(InternalEvaluatorImpl.kt:99)\n",
      "\tat org.jetbrains.kotlinx.jupyter.repl.impl.CellExecutorImpl$execute$1$result$1.invoke(CellExecutorImpl.kt:64)\n",
      "\tat org.jetbrains.kotlinx.jupyter.repl.impl.CellExecutorImpl$execute$1$result$1.invoke(CellExecutorImpl.kt:63)\n",
      "\tat org.jetbrains.kotlinx.jupyter.ReplForJupyterImpl.withHost(repl.kt:603)\n",
      "\tat org.jetbrains.kotlinx.jupyter.repl.impl.CellExecutorImpl.execute(CellExecutorImpl.kt:63)\n",
      "\tat org.jetbrains.kotlinx.jupyter.repl.CellExecutor$DefaultImpls.execute$default(CellExecutor.kt:13)\n",
      "\tat org.jetbrains.kotlinx.jupyter.ReplForJupyterImpl$evalEx$1.invoke(repl.kt:423)\n",
      "\tat org.jetbrains.kotlinx.jupyter.ReplForJupyterImpl$evalEx$1.invoke(repl.kt:412)\n",
      "\tat org.jetbrains.kotlinx.jupyter.ReplForJupyterImpl.withEvalContext(repl.kt:376)\n",
      "\tat org.jetbrains.kotlinx.jupyter.ReplForJupyterImpl.evalEx(repl.kt:412)\n",
      "\tat org.jetbrains.kotlinx.jupyter.ReplForJupyterImpl.eval(repl.kt:460)\n",
      "\tat org.jetbrains.kotlinx.jupyter.ProtocolKt$shellMessagesHandler$res$1.invoke(protocol.kt:291)\n",
      "\tat org.jetbrains.kotlinx.jupyter.ProtocolKt$shellMessagesHandler$res$1.invoke(protocol.kt:290)\n",
      "\tat org.jetbrains.kotlinx.jupyter.JupyterConnection$runExecution$execThread$1.invoke(connection.kt:166)\n",
      "\tat org.jetbrains.kotlinx.jupyter.JupyterConnection$runExecution$execThread$1.invoke(connection.kt:164)\n",
      "\tat kotlin.concurrent.ThreadsKt$thread$thread$1.run(Thread.kt:30)\n"
     ]
    }
   ],
   "source": [
    "// auto fit an ARIMA model to S&P 500 prices\n",
    "val fit_sp500_1 = AutoARIMAFit(spx.toArray(), 5, 1, 5, 0, 0, 1000)\n",
    "val arima1 = fit_sp500_1.optimalModelByAIC()\n",
    "val arima2 = fit_sp500_1.optimalModelByAICC()\n",
    "println(\"The optimal model for S&P500 prices by AIC is:\")\n",
    "println(arima1)"
   ]
  },
  {
   "cell_type": "code",
   "execution_count": 42,
   "metadata": {},
   "outputs": [
    {
     "name": "stderr",
     "output_type": "stream",
     "text": [
      "null\n",
      "java.lang.NullPointerException\n",
      "\tat Line_45.<init>(Line_45.jupyter-kts:2)\n",
      "\tat java.base/jdk.internal.reflect.NativeConstructorAccessorImpl.newInstance0(Native Method)\n",
      "\tat java.base/jdk.internal.reflect.NativeConstructorAccessorImpl.newInstance(NativeConstructorAccessorImpl.java:62)\n",
      "\tat java.base/jdk.internal.reflect.DelegatingConstructorAccessorImpl.newInstance(DelegatingConstructorAccessorImpl.java:45)\n",
      "\tat java.base/java.lang.reflect.Constructor.newInstance(Constructor.java:490)\n",
      "\tat kotlin.script.experimental.jvm.BasicJvmScriptEvaluator.evalWithConfigAndOtherScriptsResults(BasicJvmScriptEvaluator.kt:100)\n",
      "\tat kotlin.script.experimental.jvm.BasicJvmScriptEvaluator.invoke$suspendImpl(BasicJvmScriptEvaluator.kt:47)\n",
      "\tat kotlin.script.experimental.jvm.BasicJvmScriptEvaluator.invoke(BasicJvmScriptEvaluator.kt)\n",
      "\tat kotlin.script.experimental.jvm.BasicJvmReplEvaluator.eval(BasicJvmReplEvaluator.kt:49)\n",
      "\tat org.jetbrains.kotlinx.jupyter.repl.impl.InternalEvaluatorImpl$eval$resultWithDiagnostics$1.invokeSuspend(InternalEvaluatorImpl.kt:99)\n",
      "\tat kotlin.coroutines.jvm.internal.BaseContinuationImpl.resumeWith(ContinuationImpl.kt:33)\n",
      "\tat kotlinx.coroutines.DispatchedTask.run(DispatchedTask.kt:106)\n",
      "\tat kotlinx.coroutines.EventLoopImplBase.processNextEvent(EventLoop.common.kt:274)\n",
      "\tat kotlinx.coroutines.BlockingCoroutine.joinBlocking(Builders.kt:85)\n",
      "\tat kotlinx.coroutines.BuildersKt__BuildersKt.runBlocking(Builders.kt:59)\n",
      "\tat kotlinx.coroutines.BuildersKt.runBlocking(Unknown Source)\n",
      "\tat kotlinx.coroutines.BuildersKt__BuildersKt.runBlocking$default(Builders.kt:38)\n",
      "\tat kotlinx.coroutines.BuildersKt.runBlocking$default(Unknown Source)\n",
      "\tat org.jetbrains.kotlinx.jupyter.repl.impl.InternalEvaluatorImpl.eval(InternalEvaluatorImpl.kt:99)\n",
      "\tat org.jetbrains.kotlinx.jupyter.repl.impl.CellExecutorImpl$execute$1$result$1.invoke(CellExecutorImpl.kt:64)\n",
      "\tat org.jetbrains.kotlinx.jupyter.repl.impl.CellExecutorImpl$execute$1$result$1.invoke(CellExecutorImpl.kt:63)\n",
      "\tat org.jetbrains.kotlinx.jupyter.ReplForJupyterImpl.withHost(repl.kt:603)\n",
      "\tat org.jetbrains.kotlinx.jupyter.repl.impl.CellExecutorImpl.execute(CellExecutorImpl.kt:63)\n",
      "\tat org.jetbrains.kotlinx.jupyter.repl.CellExecutor$DefaultImpls.execute$default(CellExecutor.kt:13)\n",
      "\tat org.jetbrains.kotlinx.jupyter.ReplForJupyterImpl$evalEx$1.invoke(repl.kt:423)\n",
      "\tat org.jetbrains.kotlinx.jupyter.ReplForJupyterImpl$evalEx$1.invoke(repl.kt:412)\n",
      "\tat org.jetbrains.kotlinx.jupyter.ReplForJupyterImpl.withEvalContext(repl.kt:376)\n",
      "\tat org.jetbrains.kotlinx.jupyter.ReplForJupyterImpl.evalEx(repl.kt:412)\n",
      "\tat org.jetbrains.kotlinx.jupyter.ReplForJupyterImpl.eval(repl.kt:460)\n",
      "\tat org.jetbrains.kotlinx.jupyter.ProtocolKt$shellMessagesHandler$res$1.invoke(protocol.kt:291)\n",
      "\tat org.jetbrains.kotlinx.jupyter.ProtocolKt$shellMessagesHandler$res$1.invoke(protocol.kt:290)\n",
      "\tat org.jetbrains.kotlinx.jupyter.JupyterConnection$runExecution$execThread$1.invoke(connection.kt:166)\n",
      "\tat org.jetbrains.kotlinx.jupyter.JupyterConnection$runExecution$execThread$1.invoke(connection.kt:164)\n",
      "\tat kotlin.concurrent.ThreadsKt$thread$thread$1.run(Thread.kt:30)\n"
     ]
    }
   ],
   "source": [
    "// forecast prices based on the fitted model\n",
    "val forecast_prices = ARIMAForecast(spx, arima1)\n",
    "println(\"The next 10 price forecasts for sp500 using the ARIMA(2,1,1) model is:\")\n",
    "for (i in 0 until 10) {\n",
    "    println(forecast_prices.next())\n",
    "}"
   ]
  },
  {
   "cell_type": "code",
   "execution_count": 43,
   "metadata": {},
   "outputs": [
    {
     "name": "stdout",
     "output_type": "stream",
     "text": [
      "The optimal model for S&P500 prices by AICc is:\n"
     ]
    },
    {
     "name": "stderr",
     "output_type": "stream",
     "text": [
      "null\n",
      "java.lang.NullPointerException\n",
      "\tat Line_46.<init>(Line_46.jupyter-kts:2)\n",
      "\tat java.base/jdk.internal.reflect.NativeConstructorAccessorImpl.newInstance0(Native Method)\n",
      "\tat java.base/jdk.internal.reflect.NativeConstructorAccessorImpl.newInstance(NativeConstructorAccessorImpl.java:62)\n",
      "\tat java.base/jdk.internal.reflect.DelegatingConstructorAccessorImpl.newInstance(DelegatingConstructorAccessorImpl.java:45)\n",
      "\tat java.base/java.lang.reflect.Constructor.newInstance(Constructor.java:490)\n",
      "\tat kotlin.script.experimental.jvm.BasicJvmScriptEvaluator.evalWithConfigAndOtherScriptsResults(BasicJvmScriptEvaluator.kt:100)\n",
      "\tat kotlin.script.experimental.jvm.BasicJvmScriptEvaluator.invoke$suspendImpl(BasicJvmScriptEvaluator.kt:47)\n",
      "\tat kotlin.script.experimental.jvm.BasicJvmScriptEvaluator.invoke(BasicJvmScriptEvaluator.kt)\n",
      "\tat kotlin.script.experimental.jvm.BasicJvmReplEvaluator.eval(BasicJvmReplEvaluator.kt:49)\n",
      "\tat org.jetbrains.kotlinx.jupyter.repl.impl.InternalEvaluatorImpl$eval$resultWithDiagnostics$1.invokeSuspend(InternalEvaluatorImpl.kt:99)\n",
      "\tat kotlin.coroutines.jvm.internal.BaseContinuationImpl.resumeWith(ContinuationImpl.kt:33)\n",
      "\tat kotlinx.coroutines.DispatchedTask.run(DispatchedTask.kt:106)\n",
      "\tat kotlinx.coroutines.EventLoopImplBase.processNextEvent(EventLoop.common.kt:274)\n",
      "\tat kotlinx.coroutines.BlockingCoroutine.joinBlocking(Builders.kt:85)\n",
      "\tat kotlinx.coroutines.BuildersKt__BuildersKt.runBlocking(Builders.kt:59)\n",
      "\tat kotlinx.coroutines.BuildersKt.runBlocking(Unknown Source)\n",
      "\tat kotlinx.coroutines.BuildersKt__BuildersKt.runBlocking$default(Builders.kt:38)\n",
      "\tat kotlinx.coroutines.BuildersKt.runBlocking$default(Unknown Source)\n",
      "\tat org.jetbrains.kotlinx.jupyter.repl.impl.InternalEvaluatorImpl.eval(InternalEvaluatorImpl.kt:99)\n",
      "\tat org.jetbrains.kotlinx.jupyter.repl.impl.CellExecutorImpl$execute$1$result$1.invoke(CellExecutorImpl.kt:64)\n",
      "\tat org.jetbrains.kotlinx.jupyter.repl.impl.CellExecutorImpl$execute$1$result$1.invoke(CellExecutorImpl.kt:63)\n",
      "\tat org.jetbrains.kotlinx.jupyter.ReplForJupyterImpl.withHost(repl.kt:603)\n",
      "\tat org.jetbrains.kotlinx.jupyter.repl.impl.CellExecutorImpl.execute(CellExecutorImpl.kt:63)\n",
      "\tat org.jetbrains.kotlinx.jupyter.repl.CellExecutor$DefaultImpls.execute$default(CellExecutor.kt:13)\n",
      "\tat org.jetbrains.kotlinx.jupyter.ReplForJupyterImpl$evalEx$1.invoke(repl.kt:423)\n",
      "\tat org.jetbrains.kotlinx.jupyter.ReplForJupyterImpl$evalEx$1.invoke(repl.kt:412)\n",
      "\tat org.jetbrains.kotlinx.jupyter.ReplForJupyterImpl.withEvalContext(repl.kt:376)\n",
      "\tat org.jetbrains.kotlinx.jupyter.ReplForJupyterImpl.evalEx(repl.kt:412)\n",
      "\tat org.jetbrains.kotlinx.jupyter.ReplForJupyterImpl.eval(repl.kt:460)\n",
      "\tat org.jetbrains.kotlinx.jupyter.ProtocolKt$shellMessagesHandler$res$1.invoke(protocol.kt:291)\n",
      "\tat org.jetbrains.kotlinx.jupyter.ProtocolKt$shellMessagesHandler$res$1.invoke(protocol.kt:290)\n",
      "\tat org.jetbrains.kotlinx.jupyter.JupyterConnection$runExecution$execThread$1.invoke(connection.kt:166)\n",
      "\tat org.jetbrains.kotlinx.jupyter.JupyterConnection$runExecution$execThread$1.invoke(connection.kt:164)\n",
      "\tat kotlin.concurrent.ThreadsKt$thread$thread$1.run(Thread.kt:30)\n"
     ]
    }
   ],
   "source": [
    "println(\"The optimal model for S&P500 prices by AICc is:\")\n",
    "println(arima2)"
   ]
  },
  {
   "cell_type": "code",
   "execution_count": 44,
   "metadata": {},
   "outputs": [
    {
     "name": "stderr",
     "output_type": "stream",
     "text": [
      "null\n",
      "java.lang.NullPointerException\n",
      "\tat Line_47.<init>(Line_47.jupyter-kts:2)\n",
      "\tat java.base/jdk.internal.reflect.NativeConstructorAccessorImpl.newInstance0(Native Method)\n",
      "\tat java.base/jdk.internal.reflect.NativeConstructorAccessorImpl.newInstance(NativeConstructorAccessorImpl.java:62)\n",
      "\tat java.base/jdk.internal.reflect.DelegatingConstructorAccessorImpl.newInstance(DelegatingConstructorAccessorImpl.java:45)\n",
      "\tat java.base/java.lang.reflect.Constructor.newInstance(Constructor.java:490)\n",
      "\tat kotlin.script.experimental.jvm.BasicJvmScriptEvaluator.evalWithConfigAndOtherScriptsResults(BasicJvmScriptEvaluator.kt:100)\n",
      "\tat kotlin.script.experimental.jvm.BasicJvmScriptEvaluator.invoke$suspendImpl(BasicJvmScriptEvaluator.kt:47)\n",
      "\tat kotlin.script.experimental.jvm.BasicJvmScriptEvaluator.invoke(BasicJvmScriptEvaluator.kt)\n",
      "\tat kotlin.script.experimental.jvm.BasicJvmReplEvaluator.eval(BasicJvmReplEvaluator.kt:49)\n",
      "\tat org.jetbrains.kotlinx.jupyter.repl.impl.InternalEvaluatorImpl$eval$resultWithDiagnostics$1.invokeSuspend(InternalEvaluatorImpl.kt:99)\n",
      "\tat kotlin.coroutines.jvm.internal.BaseContinuationImpl.resumeWith(ContinuationImpl.kt:33)\n",
      "\tat kotlinx.coroutines.DispatchedTask.run(DispatchedTask.kt:106)\n",
      "\tat kotlinx.coroutines.EventLoopImplBase.processNextEvent(EventLoop.common.kt:274)\n",
      "\tat kotlinx.coroutines.BlockingCoroutine.joinBlocking(Builders.kt:85)\n",
      "\tat kotlinx.coroutines.BuildersKt__BuildersKt.runBlocking(Builders.kt:59)\n",
      "\tat kotlinx.coroutines.BuildersKt.runBlocking(Unknown Source)\n",
      "\tat kotlinx.coroutines.BuildersKt__BuildersKt.runBlocking$default(Builders.kt:38)\n",
      "\tat kotlinx.coroutines.BuildersKt.runBlocking$default(Unknown Source)\n",
      "\tat org.jetbrains.kotlinx.jupyter.repl.impl.InternalEvaluatorImpl.eval(InternalEvaluatorImpl.kt:99)\n",
      "\tat org.jetbrains.kotlinx.jupyter.repl.impl.CellExecutorImpl$execute$1$result$1.invoke(CellExecutorImpl.kt:64)\n",
      "\tat org.jetbrains.kotlinx.jupyter.repl.impl.CellExecutorImpl$execute$1$result$1.invoke(CellExecutorImpl.kt:63)\n",
      "\tat org.jetbrains.kotlinx.jupyter.ReplForJupyterImpl.withHost(repl.kt:603)\n",
      "\tat org.jetbrains.kotlinx.jupyter.repl.impl.CellExecutorImpl.execute(CellExecutorImpl.kt:63)\n",
      "\tat org.jetbrains.kotlinx.jupyter.repl.CellExecutor$DefaultImpls.execute$default(CellExecutor.kt:13)\n",
      "\tat org.jetbrains.kotlinx.jupyter.ReplForJupyterImpl$evalEx$1.invoke(repl.kt:423)\n",
      "\tat org.jetbrains.kotlinx.jupyter.ReplForJupyterImpl$evalEx$1.invoke(repl.kt:412)\n",
      "\tat org.jetbrains.kotlinx.jupyter.ReplForJupyterImpl.withEvalContext(repl.kt:376)\n",
      "\tat org.jetbrains.kotlinx.jupyter.ReplForJupyterImpl.evalEx(repl.kt:412)\n",
      "\tat org.jetbrains.kotlinx.jupyter.ReplForJupyterImpl.eval(repl.kt:460)\n",
      "\tat org.jetbrains.kotlinx.jupyter.ProtocolKt$shellMessagesHandler$res$1.invoke(protocol.kt:291)\n",
      "\tat org.jetbrains.kotlinx.jupyter.ProtocolKt$shellMessagesHandler$res$1.invoke(protocol.kt:290)\n",
      "\tat org.jetbrains.kotlinx.jupyter.JupyterConnection$runExecution$execThread$1.invoke(connection.kt:166)\n",
      "\tat org.jetbrains.kotlinx.jupyter.JupyterConnection$runExecution$execThread$1.invoke(connection.kt:164)\n",
      "\tat kotlin.concurrent.ThreadsKt$thread$thread$1.run(Thread.kt:30)\n"
     ]
    }
   ],
   "source": [
    "// auto fit an ARIMA model to S&P 500 log returns\n",
    "val fit_sp500_2 = AutoARIMAFit(log_returns, 5, 1, 5, 0, 0, 1000)\n",
    "val arima3 = fit_sp500_2.optimalModelByAIC()\n",
    "val arima4 = fit_sp500_2.optimalModelByAICC()\n",
    "println(\"The optimal model for S&P500 log returns by AIC is:\")\n",
    "println(arima3)"
   ]
  },
  {
   "cell_type": "code",
   "execution_count": 45,
   "metadata": {},
   "outputs": [
    {
     "name": "stdout",
     "output_type": "stream",
     "text": [
      "The optimal model for S&P500 log returns by AICc is:\n"
     ]
    },
    {
     "name": "stderr",
     "output_type": "stream",
     "text": [
      "null\n",
      "java.lang.NullPointerException\n",
      "\tat Line_48.<init>(Line_48.jupyter-kts:2)\n",
      "\tat java.base/jdk.internal.reflect.NativeConstructorAccessorImpl.newInstance0(Native Method)\n",
      "\tat java.base/jdk.internal.reflect.NativeConstructorAccessorImpl.newInstance(NativeConstructorAccessorImpl.java:62)\n",
      "\tat java.base/jdk.internal.reflect.DelegatingConstructorAccessorImpl.newInstance(DelegatingConstructorAccessorImpl.java:45)\n",
      "\tat java.base/java.lang.reflect.Constructor.newInstance(Constructor.java:490)\n",
      "\tat kotlin.script.experimental.jvm.BasicJvmScriptEvaluator.evalWithConfigAndOtherScriptsResults(BasicJvmScriptEvaluator.kt:100)\n",
      "\tat kotlin.script.experimental.jvm.BasicJvmScriptEvaluator.invoke$suspendImpl(BasicJvmScriptEvaluator.kt:47)\n",
      "\tat kotlin.script.experimental.jvm.BasicJvmScriptEvaluator.invoke(BasicJvmScriptEvaluator.kt)\n",
      "\tat kotlin.script.experimental.jvm.BasicJvmReplEvaluator.eval(BasicJvmReplEvaluator.kt:49)\n",
      "\tat org.jetbrains.kotlinx.jupyter.repl.impl.InternalEvaluatorImpl$eval$resultWithDiagnostics$1.invokeSuspend(InternalEvaluatorImpl.kt:99)\n",
      "\tat kotlin.coroutines.jvm.internal.BaseContinuationImpl.resumeWith(ContinuationImpl.kt:33)\n",
      "\tat kotlinx.coroutines.DispatchedTask.run(DispatchedTask.kt:106)\n",
      "\tat kotlinx.coroutines.EventLoopImplBase.processNextEvent(EventLoop.common.kt:274)\n",
      "\tat kotlinx.coroutines.BlockingCoroutine.joinBlocking(Builders.kt:85)\n",
      "\tat kotlinx.coroutines.BuildersKt__BuildersKt.runBlocking(Builders.kt:59)\n",
      "\tat kotlinx.coroutines.BuildersKt.runBlocking(Unknown Source)\n",
      "\tat kotlinx.coroutines.BuildersKt__BuildersKt.runBlocking$default(Builders.kt:38)\n",
      "\tat kotlinx.coroutines.BuildersKt.runBlocking$default(Unknown Source)\n",
      "\tat org.jetbrains.kotlinx.jupyter.repl.impl.InternalEvaluatorImpl.eval(InternalEvaluatorImpl.kt:99)\n",
      "\tat org.jetbrains.kotlinx.jupyter.repl.impl.CellExecutorImpl$execute$1$result$1.invoke(CellExecutorImpl.kt:64)\n",
      "\tat org.jetbrains.kotlinx.jupyter.repl.impl.CellExecutorImpl$execute$1$result$1.invoke(CellExecutorImpl.kt:63)\n",
      "\tat org.jetbrains.kotlinx.jupyter.ReplForJupyterImpl.withHost(repl.kt:603)\n",
      "\tat org.jetbrains.kotlinx.jupyter.repl.impl.CellExecutorImpl.execute(CellExecutorImpl.kt:63)\n",
      "\tat org.jetbrains.kotlinx.jupyter.repl.CellExecutor$DefaultImpls.execute$default(CellExecutor.kt:13)\n",
      "\tat org.jetbrains.kotlinx.jupyter.ReplForJupyterImpl$evalEx$1.invoke(repl.kt:423)\n",
      "\tat org.jetbrains.kotlinx.jupyter.ReplForJupyterImpl$evalEx$1.invoke(repl.kt:412)\n",
      "\tat org.jetbrains.kotlinx.jupyter.ReplForJupyterImpl.withEvalContext(repl.kt:376)\n",
      "\tat org.jetbrains.kotlinx.jupyter.ReplForJupyterImpl.evalEx(repl.kt:412)\n",
      "\tat org.jetbrains.kotlinx.jupyter.ReplForJupyterImpl.eval(repl.kt:460)\n",
      "\tat org.jetbrains.kotlinx.jupyter.ProtocolKt$shellMessagesHandler$res$1.invoke(protocol.kt:291)\n",
      "\tat org.jetbrains.kotlinx.jupyter.ProtocolKt$shellMessagesHandler$res$1.invoke(protocol.kt:290)\n",
      "\tat org.jetbrains.kotlinx.jupyter.JupyterConnection$runExecution$execThread$1.invoke(connection.kt:166)\n",
      "\tat org.jetbrains.kotlinx.jupyter.JupyterConnection$runExecution$execThread$1.invoke(connection.kt:164)\n",
      "\tat kotlin.concurrent.ThreadsKt$thread$thread$1.run(Thread.kt:30)\n"
     ]
    }
   ],
   "source": [
    "println(\"The optimal model for S&P500 log returns by AICc is:\")\n",
    "println(arima4)"
   ]
  },
  {
   "cell_type": "code",
   "execution_count": 46,
   "metadata": {},
   "outputs": [
    {
     "name": "stderr",
     "output_type": "stream",
     "text": [
      "null\n",
      "java.lang.NullPointerException\n",
      "\tat Line_49.<init>(Line_49.jupyter-kts:2)\n",
      "\tat java.base/jdk.internal.reflect.NativeConstructorAccessorImpl.newInstance0(Native Method)\n",
      "\tat java.base/jdk.internal.reflect.NativeConstructorAccessorImpl.newInstance(NativeConstructorAccessorImpl.java:62)\n",
      "\tat java.base/jdk.internal.reflect.DelegatingConstructorAccessorImpl.newInstance(DelegatingConstructorAccessorImpl.java:45)\n",
      "\tat java.base/java.lang.reflect.Constructor.newInstance(Constructor.java:490)\n",
      "\tat kotlin.script.experimental.jvm.BasicJvmScriptEvaluator.evalWithConfigAndOtherScriptsResults(BasicJvmScriptEvaluator.kt:100)\n",
      "\tat kotlin.script.experimental.jvm.BasicJvmScriptEvaluator.invoke$suspendImpl(BasicJvmScriptEvaluator.kt:47)\n",
      "\tat kotlin.script.experimental.jvm.BasicJvmScriptEvaluator.invoke(BasicJvmScriptEvaluator.kt)\n",
      "\tat kotlin.script.experimental.jvm.BasicJvmReplEvaluator.eval(BasicJvmReplEvaluator.kt:49)\n",
      "\tat org.jetbrains.kotlinx.jupyter.repl.impl.InternalEvaluatorImpl$eval$resultWithDiagnostics$1.invokeSuspend(InternalEvaluatorImpl.kt:99)\n",
      "\tat kotlin.coroutines.jvm.internal.BaseContinuationImpl.resumeWith(ContinuationImpl.kt:33)\n",
      "\tat kotlinx.coroutines.DispatchedTask.run(DispatchedTask.kt:106)\n",
      "\tat kotlinx.coroutines.EventLoopImplBase.processNextEvent(EventLoop.common.kt:274)\n",
      "\tat kotlinx.coroutines.BlockingCoroutine.joinBlocking(Builders.kt:85)\n",
      "\tat kotlinx.coroutines.BuildersKt__BuildersKt.runBlocking(Builders.kt:59)\n",
      "\tat kotlinx.coroutines.BuildersKt.runBlocking(Unknown Source)\n",
      "\tat kotlinx.coroutines.BuildersKt__BuildersKt.runBlocking$default(Builders.kt:38)\n",
      "\tat kotlinx.coroutines.BuildersKt.runBlocking$default(Unknown Source)\n",
      "\tat org.jetbrains.kotlinx.jupyter.repl.impl.InternalEvaluatorImpl.eval(InternalEvaluatorImpl.kt:99)\n",
      "\tat org.jetbrains.kotlinx.jupyter.repl.impl.CellExecutorImpl$execute$1$result$1.invoke(CellExecutorImpl.kt:64)\n",
      "\tat org.jetbrains.kotlinx.jupyter.repl.impl.CellExecutorImpl$execute$1$result$1.invoke(CellExecutorImpl.kt:63)\n",
      "\tat org.jetbrains.kotlinx.jupyter.ReplForJupyterImpl.withHost(repl.kt:603)\n",
      "\tat org.jetbrains.kotlinx.jupyter.repl.impl.CellExecutorImpl.execute(CellExecutorImpl.kt:63)\n",
      "\tat org.jetbrains.kotlinx.jupyter.repl.CellExecutor$DefaultImpls.execute$default(CellExecutor.kt:13)\n",
      "\tat org.jetbrains.kotlinx.jupyter.ReplForJupyterImpl$evalEx$1.invoke(repl.kt:423)\n",
      "\tat org.jetbrains.kotlinx.jupyter.ReplForJupyterImpl$evalEx$1.invoke(repl.kt:412)\n",
      "\tat org.jetbrains.kotlinx.jupyter.ReplForJupyterImpl.withEvalContext(repl.kt:376)\n",
      "\tat org.jetbrains.kotlinx.jupyter.ReplForJupyterImpl.evalEx(repl.kt:412)\n",
      "\tat org.jetbrains.kotlinx.jupyter.ReplForJupyterImpl.eval(repl.kt:460)\n",
      "\tat org.jetbrains.kotlinx.jupyter.ProtocolKt$shellMessagesHandler$res$1.invoke(protocol.kt:291)\n",
      "\tat org.jetbrains.kotlinx.jupyter.ProtocolKt$shellMessagesHandler$res$1.invoke(protocol.kt:290)\n",
      "\tat org.jetbrains.kotlinx.jupyter.JupyterConnection$runExecution$execThread$1.invoke(connection.kt:166)\n",
      "\tat org.jetbrains.kotlinx.jupyter.JupyterConnection$runExecution$execThread$1.invoke(connection.kt:164)\n",
      "\tat kotlin.concurrent.ThreadsKt$thread$thread$1.run(Thread.kt:30)\n"
     ]
    }
   ],
   "source": [
    "// forecast log returns based on the fitted model\n",
    "val forecast_returns = ARIMAForecast(SimpleTimeSeries(log_returns), arima4)\n",
    "println(\"The next 10 log return forecasts for sp500 using the ARMA(2, 3) model is:\")\n",
    "for (i in 0 until 10) {\n",
    "    println(forecast_returns.next())\n",
    "}"
   ]
  },
  {
   "cell_type": "code",
   "execution_count": 47,
   "metadata": {},
   "outputs": [
    {
     "name": "stdout",
     "output_type": "stream",
     "text": [
      "ARCH and GARCH models\n",
      "0.2+ 0.212000 * e_{t-1}\n",
      "conditional variance = 0.253807\n"
     ]
    }
   ],
   "source": [
    "println(\"ARCH and GARCH models\")\n",
    "\n",
    "// σ_t^2 = 0.2 + 0.212 * ε_(t-1)^2\n",
    "val arch1 = GARCHModel(\n",
    "                0.2, // constant\n",
    "                doubleArrayOf(0.212), // ARCH terms\n",
    "                doubleArrayOf() // no GARCH terms\n",
    "        )\n",
    "println(arch1)\n",
    "println(String.format(\"conditional variance = %f\", arch1.`var`()))"
   ]
  },
  {
   "cell_type": "code",
   "execution_count": 48,
   "metadata": {},
   "outputs": [
    {
     "name": "stdout",
     "output_type": "stream",
     "text": [
      "0.2+ 0.212000 * e_{t-1}+ 0.106000 * h_{t-1}\n",
      "conditional variance = 0.293255\n"
     ]
    }
   ],
   "source": [
    "// σ_t^2= 0.2+0.212ε_(t-1)^2+0.106σ_(t-1)^2\n",
    "val garch11 = GARCHModel(\n",
    "                0.2, // constant\n",
    "                doubleArrayOf(0.212), // ARCH terms\n",
    "                doubleArrayOf(0.106) // GARCH terms\n",
    "        )\n",
    "println(garch11)\n",
    "println(String.format(\"conditional variance = %f\", garch11.`var`()))"
   ]
  },
  {
   "cell_type": "code",
   "execution_count": 49,
   "metadata": {},
   "outputs": [
    {
     "name": "stdout",
     "output_type": "stream",
     "text": [
      "[0.09464235164181764, -0.04287154757437102, 0.4059365561386082, -0.505733772227959, 0.018704443199705746, 0.10203313531778042, 0.2290917436991943, -1.1774233639361313, -1.2612835802035602, 0.1202380988464397, -0.3805367043220213, -0.545565537829306, 0.2552633108201118, 0.34673063120199493, 0.3443670090107649, -0.3782080513709261, -0.21524174277686497, -0.3657868128866508, -0.040707517700922555, -0.13773868187169216, -0.5719439019603688, 0.09566942847716856, 0.17952130491984594, -0.3947771340704507, -0.4748601347528875, -0.17328133117367764, 0.34683413239310523, 1.2685821324311333, 0.3935412777861333, 0.28290224497354133, -0.35488649351970974, 0.6614933139819535, -0.6131010984348145, -0.7008491518045036, -0.9655537913618887, 0.1964457826647851, 0.0021557960459673863, 0.34339966704249625, 0.006010689073565344, -0.2762567791330412, 0.3332071181431315, 0.1298841749069799, 0.3308514634559807, 0.8263918083397941, -0.39778075890671427, -0.0410702434352641, -0.8381838234718357, -0.5249394617111952, -0.8264347197204852, -0.045175885197736666, 0.6438208716072633, 1.2624177329870219, -0.9641674784196362, -1.474016512506397, -0.6359361205800708, 0.22847701082432864, 0.25038181908216967, 0.7223903978235955, -0.4556332282698895, 0.3940576940540684, -0.5744117198375158, 0.5774449956119462, 0.10953804379638099, 0.027779557249705798, -0.12202797090194052, 0.4924482202686429, 0.3907727772836847, 0.5434810832005749, 0.18363850449839417, -0.5550957505443368, -0.7417331868799598, -0.11784151064313898, -0.27051796470844613, -0.25570571827626165, -0.21225723590461903, -0.8320464508334672, 0.6230916492705836, 0.6878795235535952, -0.603902695348406, 0.47328860331602907, 0.5451270540959913, -0.49170158678275827, 0.10527443104160296, 0.1896183385022235, 1.039321117513277, -0.668094347784382, 1.295276757289083, 0.33509193657325825, -0.3904385428383417, -0.47967565904926274, 0.1730709910254646, 0.4512838331310539, -0.18340842207612376, 0.09308065899756583, 0.06372098096019442, 0.04274889269654523, -0.059786663490125784, 0.8002782798969842, -0.19564577114133883, 0.20647917199309812, 0.10051209364161473, 0.29957522006133486, 0.5214712499542704, -0.031066777175997193, 0.11976470899657164, -0.06056707203896459, -0.9401320720642828, -0.46577535425568856, -0.5399970608617126, 0.6627367543305412, 0.9643113827093833, 0.178964997773967, 0.27569792333427595, 0.729123005272199, 0.37883456851264, 0.028889892557414525, 0.20406314057367056, -0.6196916103423372, -0.602338428807925, -1.3697280369946447, 0.30154968825934086, 0.8557080204742383, -0.1485478967894763, -0.18101071644017858, 0.21834603484617848, -0.4648692544226122, -0.4178779300323114, 0.26574387423346946, 0.10647003523730408, -0.6175157463568477, 0.611147236085234, 0.13970886615753458, -0.22801215373801653, -0.2141643018184778, -0.17946641505569752, -0.8283184755787875, -0.3499689704462202, 0.17366250525345714, 0.6907305771584297, -0.26405280730407654, 1.1952177316596215, -1.0755104577218988, -0.15489447877514145, -0.19938545358249982, -0.09578389508197917, -1.082887665420298, 0.563136367014344, 0.9373109280399876, 0.7410110933454824, 1.0523148722690403, -0.36896009497382315, 0.9684371033494559, 0.2625509445995938, -0.1996123979000057, 0.4528399003331497, 0.26657601145597504, 0.8033183134382987, 0.8527813709607363, -0.4312298024470193, 0.09840309890547792, -0.9924137356648134, -0.034606632184453257, -0.6442038224702825, 1.10973375087645, -0.3505929576334615, -0.46510216732986404, -0.7748536213521029, 0.26940738846330303, 0.08595541716941217, 0.46278624806712576, -0.8523601623113616, -0.21066723038270477, -0.11188150278275959, -0.22047921552346425, 0.42199201719095425, -0.3670041227298974, -0.18792868678779862, 0.9077263329129793, 0.2932425236086909, 0.06942563673336187, -0.6206704927997116, 0.5070315666366249, 0.13140743101330307, 0.3480349363738328, 0.17491324355000304, 1.2289613462742415, 0.25413624449889455, -1.0188956985748303, 0.5421659398142376, -0.07788416975052519, -0.17597584724872145, 0.04591154085040219, -0.6555944583958221, -0.03249301843898454, 0.05441963633940819, 0.6288775097441341, 0.2007664429788366, -0.8216038339772599, -0.7554265423175847, 1.0015674466305307]\n"
     ]
    }
   ],
   "source": [
    "// simulate the GARCH process\n",
    "val sim = GARCHSim(garch11)\n",
    "sim.seed(1234567890L)\n",
    "val series: DoubleArray = RNGUtils.nextN(sim, 200)\n",
    "println(Arrays.toString(series))"
   ]
  },
  {
   "cell_type": "code",
   "execution_count": 50,
   "metadata": {},
   "outputs": [
    {
     "name": "stderr",
     "output_type": "stream",
     "text": [
      "null\n",
      "java.lang.NullPointerException\n",
      "\tat Line_53.<init>(Line_53.jupyter-kts:2)\n",
      "\tat java.base/jdk.internal.reflect.NativeConstructorAccessorImpl.newInstance0(Native Method)\n",
      "\tat java.base/jdk.internal.reflect.NativeConstructorAccessorImpl.newInstance(NativeConstructorAccessorImpl.java:62)\n",
      "\tat java.base/jdk.internal.reflect.DelegatingConstructorAccessorImpl.newInstance(DelegatingConstructorAccessorImpl.java:45)\n",
      "\tat java.base/java.lang.reflect.Constructor.newInstance(Constructor.java:490)\n",
      "\tat kotlin.script.experimental.jvm.BasicJvmScriptEvaluator.evalWithConfigAndOtherScriptsResults(BasicJvmScriptEvaluator.kt:100)\n",
      "\tat kotlin.script.experimental.jvm.BasicJvmScriptEvaluator.invoke$suspendImpl(BasicJvmScriptEvaluator.kt:47)\n",
      "\tat kotlin.script.experimental.jvm.BasicJvmScriptEvaluator.invoke(BasicJvmScriptEvaluator.kt)\n",
      "\tat kotlin.script.experimental.jvm.BasicJvmReplEvaluator.eval(BasicJvmReplEvaluator.kt:49)\n",
      "\tat org.jetbrains.kotlinx.jupyter.repl.impl.InternalEvaluatorImpl$eval$resultWithDiagnostics$1.invokeSuspend(InternalEvaluatorImpl.kt:99)\n",
      "\tat kotlin.coroutines.jvm.internal.BaseContinuationImpl.resumeWith(ContinuationImpl.kt:33)\n",
      "\tat kotlinx.coroutines.DispatchedTask.run(DispatchedTask.kt:106)\n",
      "\tat kotlinx.coroutines.EventLoopImplBase.processNextEvent(EventLoop.common.kt:274)\n",
      "\tat kotlinx.coroutines.BlockingCoroutine.joinBlocking(Builders.kt:85)\n",
      "\tat kotlinx.coroutines.BuildersKt__BuildersKt.runBlocking(Builders.kt:59)\n",
      "\tat kotlinx.coroutines.BuildersKt.runBlocking(Unknown Source)\n",
      "\tat kotlinx.coroutines.BuildersKt__BuildersKt.runBlocking$default(Builders.kt:38)\n",
      "\tat kotlinx.coroutines.BuildersKt.runBlocking$default(Unknown Source)\n",
      "\tat org.jetbrains.kotlinx.jupyter.repl.impl.InternalEvaluatorImpl.eval(InternalEvaluatorImpl.kt:99)\n",
      "\tat org.jetbrains.kotlinx.jupyter.repl.impl.CellExecutorImpl$execute$1$result$1.invoke(CellExecutorImpl.kt:64)\n",
      "\tat org.jetbrains.kotlinx.jupyter.repl.impl.CellExecutorImpl$execute$1$result$1.invoke(CellExecutorImpl.kt:63)\n",
      "\tat org.jetbrains.kotlinx.jupyter.ReplForJupyterImpl.withHost(repl.kt:603)\n",
      "\tat org.jetbrains.kotlinx.jupyter.repl.impl.CellExecutorImpl.execute(CellExecutorImpl.kt:63)\n",
      "\tat org.jetbrains.kotlinx.jupyter.repl.CellExecutor$DefaultImpls.execute$default(CellExecutor.kt:13)\n",
      "\tat org.jetbrains.kotlinx.jupyter.ReplForJupyterImpl$evalEx$1.invoke(repl.kt:423)\n",
      "\tat org.jetbrains.kotlinx.jupyter.ReplForJupyterImpl$evalEx$1.invoke(repl.kt:412)\n",
      "\tat org.jetbrains.kotlinx.jupyter.ReplForJupyterImpl.withEvalContext(repl.kt:376)\n",
      "\tat org.jetbrains.kotlinx.jupyter.ReplForJupyterImpl.evalEx(repl.kt:412)\n",
      "\tat org.jetbrains.kotlinx.jupyter.ReplForJupyterImpl.eval(repl.kt:460)\n",
      "\tat org.jetbrains.kotlinx.jupyter.ProtocolKt$shellMessagesHandler$res$1.invoke(protocol.kt:291)\n",
      "\tat org.jetbrains.kotlinx.jupyter.ProtocolKt$shellMessagesHandler$res$1.invoke(protocol.kt:290)\n",
      "\tat org.jetbrains.kotlinx.jupyter.JupyterConnection$runExecution$execThread$1.invoke(connection.kt:166)\n",
      "\tat org.jetbrains.kotlinx.jupyter.JupyterConnection$runExecution$execThread$1.invoke(connection.kt:164)\n",
      "\tat kotlin.concurrent.ThreadsKt$thread$thread$1.run(Thread.kt:30)\n"
     ]
    }
   ],
   "source": [
    "// compute the conditional means of the model at each time\n",
    "val log_returns_hat = ARMAForecastOneStep(log_returns, arima4.getARMA())"
   ]
  },
  {
   "cell_type": "code",
   "execution_count": 51,
   "metadata": {},
   "outputs": [
    {
     "name": "stderr",
     "output_type": "stream",
     "text": [
      "null\n",
      "java.lang.NullPointerException\n",
      "\tat Line_54.<init>(Line_54.jupyter-kts:2)\n",
      "\tat java.base/jdk.internal.reflect.NativeConstructorAccessorImpl.newInstance0(Native Method)\n",
      "\tat java.base/jdk.internal.reflect.NativeConstructorAccessorImpl.newInstance(NativeConstructorAccessorImpl.java:62)\n",
      "\tat java.base/jdk.internal.reflect.DelegatingConstructorAccessorImpl.newInstance(DelegatingConstructorAccessorImpl.java:45)\n",
      "\tat java.base/java.lang.reflect.Constructor.newInstance(Constructor.java:490)\n",
      "\tat kotlin.script.experimental.jvm.BasicJvmScriptEvaluator.evalWithConfigAndOtherScriptsResults(BasicJvmScriptEvaluator.kt:100)\n",
      "\tat kotlin.script.experimental.jvm.BasicJvmScriptEvaluator.invoke$suspendImpl(BasicJvmScriptEvaluator.kt:47)\n",
      "\tat kotlin.script.experimental.jvm.BasicJvmScriptEvaluator.invoke(BasicJvmScriptEvaluator.kt)\n",
      "\tat kotlin.script.experimental.jvm.BasicJvmReplEvaluator.eval(BasicJvmReplEvaluator.kt:49)\n",
      "\tat org.jetbrains.kotlinx.jupyter.repl.impl.InternalEvaluatorImpl$eval$resultWithDiagnostics$1.invokeSuspend(InternalEvaluatorImpl.kt:99)\n",
      "\tat kotlin.coroutines.jvm.internal.BaseContinuationImpl.resumeWith(ContinuationImpl.kt:33)\n",
      "\tat kotlinx.coroutines.DispatchedTask.run(DispatchedTask.kt:106)\n",
      "\tat kotlinx.coroutines.EventLoopImplBase.processNextEvent(EventLoop.common.kt:274)\n",
      "\tat kotlinx.coroutines.BlockingCoroutine.joinBlocking(Builders.kt:85)\n",
      "\tat kotlinx.coroutines.BuildersKt__BuildersKt.runBlocking(Builders.kt:59)\n",
      "\tat kotlinx.coroutines.BuildersKt.runBlocking(Unknown Source)\n",
      "\tat kotlinx.coroutines.BuildersKt__BuildersKt.runBlocking$default(Builders.kt:38)\n",
      "\tat kotlinx.coroutines.BuildersKt.runBlocking$default(Unknown Source)\n",
      "\tat org.jetbrains.kotlinx.jupyter.repl.impl.InternalEvaluatorImpl.eval(InternalEvaluatorImpl.kt:99)\n",
      "\tat org.jetbrains.kotlinx.jupyter.repl.impl.CellExecutorImpl$execute$1$result$1.invoke(CellExecutorImpl.kt:64)\n",
      "\tat org.jetbrains.kotlinx.jupyter.repl.impl.CellExecutorImpl$execute$1$result$1.invoke(CellExecutorImpl.kt:63)\n",
      "\tat org.jetbrains.kotlinx.jupyter.ReplForJupyterImpl.withHost(repl.kt:603)\n",
      "\tat org.jetbrains.kotlinx.jupyter.repl.impl.CellExecutorImpl.execute(CellExecutorImpl.kt:63)\n",
      "\tat org.jetbrains.kotlinx.jupyter.repl.CellExecutor$DefaultImpls.execute$default(CellExecutor.kt:13)\n",
      "\tat org.jetbrains.kotlinx.jupyter.ReplForJupyterImpl$evalEx$1.invoke(repl.kt:423)\n",
      "\tat org.jetbrains.kotlinx.jupyter.ReplForJupyterImpl$evalEx$1.invoke(repl.kt:412)\n",
      "\tat org.jetbrains.kotlinx.jupyter.ReplForJupyterImpl.withEvalContext(repl.kt:376)\n",
      "\tat org.jetbrains.kotlinx.jupyter.ReplForJupyterImpl.evalEx(repl.kt:412)\n",
      "\tat org.jetbrains.kotlinx.jupyter.ReplForJupyterImpl.eval(repl.kt:460)\n",
      "\tat org.jetbrains.kotlinx.jupyter.ProtocolKt$shellMessagesHandler$res$1.invoke(protocol.kt:291)\n",
      "\tat org.jetbrains.kotlinx.jupyter.ProtocolKt$shellMessagesHandler$res$1.invoke(protocol.kt:290)\n",
      "\tat org.jetbrains.kotlinx.jupyter.JupyterConnection$runExecution$execThread$1.invoke(connection.kt:166)\n",
      "\tat org.jetbrains.kotlinx.jupyter.JupyterConnection$runExecution$execThread$1.invoke(connection.kt:164)\n",
      "\tat kotlin.concurrent.ThreadsKt$thread$thread$1.run(Thread.kt:30)\n"
     ]
    }
   ],
   "source": [
    "// compute the residuals = observations - fitted values\n",
    "var residuals: DoubleArray = DoubleArray(log_returns.size)\n",
    "for (t in 0 until log_returns.size) {\n",
    "    residuals[t] = log_returns[t] - log_returns_hat.xHat(t)\n",
    "}\n",
    "println(\"residuals:\")\n",
    "println(Arrays.toString(residuals))"
   ]
  },
  {
   "cell_type": "code",
   "execution_count": 52,
   "metadata": {},
   "outputs": [
    {
     "name": "stderr",
     "output_type": "stream",
     "text": [
      "null\n",
      "java.lang.NullPointerException\n",
      "\tat Line_55.<init>(Line_55.jupyter-kts:2)\n",
      "\tat java.base/jdk.internal.reflect.NativeConstructorAccessorImpl.newInstance0(Native Method)\n",
      "\tat java.base/jdk.internal.reflect.NativeConstructorAccessorImpl.newInstance(NativeConstructorAccessorImpl.java:62)\n",
      "\tat java.base/jdk.internal.reflect.DelegatingConstructorAccessorImpl.newInstance(DelegatingConstructorAccessorImpl.java:45)\n",
      "\tat java.base/java.lang.reflect.Constructor.newInstance(Constructor.java:490)\n",
      "\tat kotlin.script.experimental.jvm.BasicJvmScriptEvaluator.evalWithConfigAndOtherScriptsResults(BasicJvmScriptEvaluator.kt:100)\n",
      "\tat kotlin.script.experimental.jvm.BasicJvmScriptEvaluator.invoke$suspendImpl(BasicJvmScriptEvaluator.kt:47)\n",
      "\tat kotlin.script.experimental.jvm.BasicJvmScriptEvaluator.invoke(BasicJvmScriptEvaluator.kt)\n",
      "\tat kotlin.script.experimental.jvm.BasicJvmReplEvaluator.eval(BasicJvmReplEvaluator.kt:49)\n",
      "\tat org.jetbrains.kotlinx.jupyter.repl.impl.InternalEvaluatorImpl$eval$resultWithDiagnostics$1.invokeSuspend(InternalEvaluatorImpl.kt:99)\n",
      "\tat kotlin.coroutines.jvm.internal.BaseContinuationImpl.resumeWith(ContinuationImpl.kt:33)\n",
      "\tat kotlinx.coroutines.DispatchedTask.run(DispatchedTask.kt:106)\n",
      "\tat kotlinx.coroutines.EventLoopImplBase.processNextEvent(EventLoop.common.kt:274)\n",
      "\tat kotlinx.coroutines.BlockingCoroutine.joinBlocking(Builders.kt:85)\n",
      "\tat kotlinx.coroutines.BuildersKt__BuildersKt.runBlocking(Builders.kt:59)\n",
      "\tat kotlinx.coroutines.BuildersKt.runBlocking(Unknown Source)\n",
      "\tat kotlinx.coroutines.BuildersKt__BuildersKt.runBlocking$default(Builders.kt:38)\n",
      "\tat kotlinx.coroutines.BuildersKt.runBlocking$default(Unknown Source)\n",
      "\tat org.jetbrains.kotlinx.jupyter.repl.impl.InternalEvaluatorImpl.eval(InternalEvaluatorImpl.kt:99)\n",
      "\tat org.jetbrains.kotlinx.jupyter.repl.impl.CellExecutorImpl$execute$1$result$1.invoke(CellExecutorImpl.kt:64)\n",
      "\tat org.jetbrains.kotlinx.jupyter.repl.impl.CellExecutorImpl$execute$1$result$1.invoke(CellExecutorImpl.kt:63)\n",
      "\tat org.jetbrains.kotlinx.jupyter.ReplForJupyterImpl.withHost(repl.kt:603)\n",
      "\tat org.jetbrains.kotlinx.jupyter.repl.impl.CellExecutorImpl.execute(CellExecutorImpl.kt:63)\n",
      "\tat org.jetbrains.kotlinx.jupyter.repl.CellExecutor$DefaultImpls.execute$default(CellExecutor.kt:13)\n",
      "\tat org.jetbrains.kotlinx.jupyter.ReplForJupyterImpl$evalEx$1.invoke(repl.kt:423)\n",
      "\tat org.jetbrains.kotlinx.jupyter.ReplForJupyterImpl$evalEx$1.invoke(repl.kt:412)\n",
      "\tat org.jetbrains.kotlinx.jupyter.ReplForJupyterImpl.withEvalContext(repl.kt:376)\n",
      "\tat org.jetbrains.kotlinx.jupyter.ReplForJupyterImpl.evalEx(repl.kt:412)\n",
      "\tat org.jetbrains.kotlinx.jupyter.ReplForJupyterImpl.eval(repl.kt:460)\n",
      "\tat org.jetbrains.kotlinx.jupyter.ProtocolKt$shellMessagesHandler$res$1.invoke(protocol.kt:291)\n",
      "\tat org.jetbrains.kotlinx.jupyter.ProtocolKt$shellMessagesHandler$res$1.invoke(protocol.kt:290)\n",
      "\tat org.jetbrains.kotlinx.jupyter.JupyterConnection$runExecution$execThread$1.invoke(connection.kt:166)\n",
      "\tat org.jetbrains.kotlinx.jupyter.JupyterConnection$runExecution$execThread$1.invoke(connection.kt:164)\n",
      "\tat kotlin.concurrent.ThreadsKt$thread$thread$1.run(Thread.kt:30)\n"
     ]
    }
   ],
   "source": [
    "// fit the residuals to a GARCH(1,1) model\n",
    "val garch_fit = GARCHFit(residuals, 1, 1)\n",
    "val garch = garch_fit.getModel()\n",
    "println(String.format(\"The residual GARCH(1,1) model is: %s\", garch))"
   ]
  },
  {
   "cell_type": "code",
   "execution_count": 53,
   "metadata": {},
   "outputs": [
    {
     "name": "stderr",
     "output_type": "stream",
     "text": [
      "null\n",
      "java.lang.NullPointerException\n",
      "\tat Line_56.<init>(Line_56.jupyter-kts:3)\n",
      "\tat java.base/jdk.internal.reflect.NativeConstructorAccessorImpl.newInstance0(Native Method)\n",
      "\tat java.base/jdk.internal.reflect.NativeConstructorAccessorImpl.newInstance(NativeConstructorAccessorImpl.java:62)\n",
      "\tat java.base/jdk.internal.reflect.DelegatingConstructorAccessorImpl.newInstance(DelegatingConstructorAccessorImpl.java:45)\n",
      "\tat java.base/java.lang.reflect.Constructor.newInstance(Constructor.java:490)\n",
      "\tat kotlin.script.experimental.jvm.BasicJvmScriptEvaluator.evalWithConfigAndOtherScriptsResults(BasicJvmScriptEvaluator.kt:100)\n",
      "\tat kotlin.script.experimental.jvm.BasicJvmScriptEvaluator.invoke$suspendImpl(BasicJvmScriptEvaluator.kt:47)\n",
      "\tat kotlin.script.experimental.jvm.BasicJvmScriptEvaluator.invoke(BasicJvmScriptEvaluator.kt)\n",
      "\tat kotlin.script.experimental.jvm.BasicJvmReplEvaluator.eval(BasicJvmReplEvaluator.kt:49)\n",
      "\tat org.jetbrains.kotlinx.jupyter.repl.impl.InternalEvaluatorImpl$eval$resultWithDiagnostics$1.invokeSuspend(InternalEvaluatorImpl.kt:99)\n",
      "\tat kotlin.coroutines.jvm.internal.BaseContinuationImpl.resumeWith(ContinuationImpl.kt:33)\n",
      "\tat kotlinx.coroutines.DispatchedTask.run(DispatchedTask.kt:106)\n",
      "\tat kotlinx.coroutines.EventLoopImplBase.processNextEvent(EventLoop.common.kt:274)\n",
      "\tat kotlinx.coroutines.BlockingCoroutine.joinBlocking(Builders.kt:85)\n",
      "\tat kotlinx.coroutines.BuildersKt__BuildersKt.runBlocking(Builders.kt:59)\n",
      "\tat kotlinx.coroutines.BuildersKt.runBlocking(Unknown Source)\n",
      "\tat kotlinx.coroutines.BuildersKt__BuildersKt.runBlocking$default(Builders.kt:38)\n",
      "\tat kotlinx.coroutines.BuildersKt.runBlocking$default(Unknown Source)\n",
      "\tat org.jetbrains.kotlinx.jupyter.repl.impl.InternalEvaluatorImpl.eval(InternalEvaluatorImpl.kt:99)\n",
      "\tat org.jetbrains.kotlinx.jupyter.repl.impl.CellExecutorImpl$execute$1$result$1.invoke(CellExecutorImpl.kt:64)\n",
      "\tat org.jetbrains.kotlinx.jupyter.repl.impl.CellExecutorImpl$execute$1$result$1.invoke(CellExecutorImpl.kt:63)\n",
      "\tat org.jetbrains.kotlinx.jupyter.ReplForJupyterImpl.withHost(repl.kt:603)\n",
      "\tat org.jetbrains.kotlinx.jupyter.repl.impl.CellExecutorImpl.execute(CellExecutorImpl.kt:63)\n",
      "\tat org.jetbrains.kotlinx.jupyter.repl.CellExecutor$DefaultImpls.execute$default(CellExecutor.kt:13)\n",
      "\tat org.jetbrains.kotlinx.jupyter.ReplForJupyterImpl$evalEx$1.invoke(repl.kt:423)\n",
      "\tat org.jetbrains.kotlinx.jupyter.ReplForJupyterImpl$evalEx$1.invoke(repl.kt:412)\n",
      "\tat org.jetbrains.kotlinx.jupyter.ReplForJupyterImpl.withEvalContext(repl.kt:376)\n",
      "\tat org.jetbrains.kotlinx.jupyter.ReplForJupyterImpl.evalEx(repl.kt:412)\n",
      "\tat org.jetbrains.kotlinx.jupyter.ReplForJupyterImpl.eval(repl.kt:460)\n",
      "\tat org.jetbrains.kotlinx.jupyter.ProtocolKt$shellMessagesHandler$res$1.invoke(protocol.kt:291)\n",
      "\tat org.jetbrains.kotlinx.jupyter.ProtocolKt$shellMessagesHandler$res$1.invoke(protocol.kt:290)\n",
      "\tat org.jetbrains.kotlinx.jupyter.JupyterConnection$runExecution$execThread$1.invoke(connection.kt:166)\n",
      "\tat org.jetbrains.kotlinx.jupyter.JupyterConnection$runExecution$execThread$1.invoke(connection.kt:164)\n",
      "\tat kotlin.concurrent.ThreadsKt$thread$thread$1.run(Thread.kt:30)\n"
     ]
    }
   ],
   "source": [
    "// fit both the ARMA and GARCH models in one go\n",
    "val arma_garch_fit = ARMAGARCHFit(\n",
    "                log_returns, // the input series\n",
    "                2, // the order for AR in ARMA model\n",
    "                3, // the order for MA in ARMA model\n",
    "                1, // the order for GARCH in GARCH model\n",
    "                1 // the order for ARCH in GARCH model\n",
    "        )\n",
    "println(\"The ARMA model is:\")\n",
    "println(arma_garch_fit.getARMAGARCHModel().getARMAModel())\n",
    "println(\"\\nThe GARCH model is:\")\n",
    "println(arma_garch_fit.getARMAGARCHModel().getGARCHModel())"
   ]
  },
  {
   "cell_type": "code",
   "execution_count": 54,
   "metadata": {},
   "outputs": [
    {
     "name": "stdout",
     "output_type": "stream",
     "text": [
      "multivariate time series\n",
      "X_T0: [[-1.875000, 1.693000] , [-2.518000, -0.030000] , [-3.002000, -1.057000] , [-2.454000, -1.038000] , [-1.119000, -1.086000] , [-0.720000, -0.455000] , [-2.738000, 0.962000] , [-2.565000, 1.992000] , [-4.603000, 2.434000] , [-2.689000, 2.118000] ]\n"
     ]
    }
   ],
   "source": [
    "println(\"multivariate time series\")\n",
    "\n",
    "// construct a bivariate time series\n",
    "val X_T0 = MultivariateSimpleTimeSeries(\n",
    "                DenseMatrix(\n",
    "                    arrayOf(\n",
    "                        doubleArrayOf(-1.875, 1.693),\n",
    "                        doubleArrayOf(-2.518, -0.03),\n",
    "                        doubleArrayOf(-3.002, -1.057),\n",
    "                        doubleArrayOf(-2.454, -1.038),\n",
    "                        doubleArrayOf(-1.119, -1.086),\n",
    "                        doubleArrayOf(-0.72, -0.455),\n",
    "                        doubleArrayOf(-2.738, 0.962),\n",
    "                        doubleArrayOf(-2.565, 1.992),\n",
    "                        doubleArrayOf(-4.603, 2.434),\n",
    "                        doubleArrayOf(-2.689, 2.118)\n",
    "                )))\n",
    "println(\"X_T0: \" + X_T0)"
   ]
  },
  {
   "cell_type": "code",
   "execution_count": 55,
   "metadata": {},
   "outputs": [
    {
     "name": "stdout",
     "output_type": "stream",
     "text": [
      "diff(1): [[-0.643000, -1.723000] , [-0.484000, -1.027000] , [0.548000, 0.019000] , [1.335000, -0.048000] , [0.399000, 0.631000] , [-2.018000, 1.417000] , [0.173000, 1.030000] , [-2.038000, 0.442000] , [1.914000, -0.316000] ]\n"
     ]
    }
   ],
   "source": [
    "// first difference of the bivariate time series\n",
    "val X_T1 = X_T0.diff(1)\n",
    "println(\"diff(1): \" + X_T1)"
   ]
  },
  {
   "cell_type": "code",
   "execution_count": 56,
   "metadata": {},
   "outputs": [
    {
     "name": "stdout",
     "output_type": "stream",
     "text": [
      "lag(1): [[-1.875000, 1.693000] , [-2.518000, -0.030000] , [-3.002000, -1.057000] , [-2.454000, -1.038000] , [-1.119000, -1.086000] , [-0.720000, -0.455000] , [-2.738000, 0.962000] , [-2.565000, 1.992000] , [-4.603000, 2.434000] ]\n"
     ]
    }
   ],
   "source": [
    "// first order lagged time series\n",
    "val X_T2 = X_T0.lag(1)\n",
    "println(\"lag(1): \" + X_T2)"
   ]
  },
  {
   "cell_type": "code",
   "execution_count": 57,
   "metadata": {},
   "outputs": [
    {
     "name": "stdout",
     "output_type": "stream",
     "text": [
      "drop(1): [[-2.518000, -0.030000] , [-3.002000, -1.057000] , [-2.454000, -1.038000] , [-1.119000, -1.086000] , [-0.720000, -0.455000] , [-2.738000, 0.962000] , [-2.565000, 1.992000] , [-4.603000, 2.434000] , [-2.689000, 2.118000] ]\n"
     ]
    }
   ],
   "source": [
    "// drop the first two items\n",
    "val X_T3 = X_T0.drop(1)\n",
    "println(\"drop(1): \" + X_T3)"
   ]
  },
  {
   "cell_type": "code",
   "execution_count": 58,
   "metadata": {},
   "outputs": [
    {
     "name": "stdout",
     "output_type": "stream",
     "text": [
      "SPX and APPL\n"
     ]
    },
    {
     "name": "stderr",
     "output_type": "stream",
     "text": [
      "./resources/sp500_monthly.csv (No such file or directory)\n",
      "java.io.FileNotFoundException: ./resources/sp500_monthly.csv (No such file or directory)\n",
      "\tat java.base/java.io.FileInputStream.open0(Native Method)\n",
      "\tat java.base/java.io.FileInputStream.open(FileInputStream.java:219)\n",
      "\tat java.base/java.io.FileInputStream.<init>(FileInputStream.java:157)\n",
      "\tat java.base/java.io.FileInputStream.<init>(FileInputStream.java:112)\n",
      "\tat dev.nm.number.DoubleUtils.readCSV2d(wb:1605)\n",
      "\tat dev.nm.number.DoubleUtils.readCSV2d(wb:1591)\n",
      "\tat Line_61.<init>(Line_61.jupyter-kts:4)\n",
      "\tat java.base/jdk.internal.reflect.NativeConstructorAccessorImpl.newInstance0(Native Method)\n",
      "\tat java.base/jdk.internal.reflect.NativeConstructorAccessorImpl.newInstance(NativeConstructorAccessorImpl.java:62)\n",
      "\tat java.base/jdk.internal.reflect.DelegatingConstructorAccessorImpl.newInstance(DelegatingConstructorAccessorImpl.java:45)\n",
      "\tat java.base/java.lang.reflect.Constructor.newInstance(Constructor.java:490)\n",
      "\tat kotlin.script.experimental.jvm.BasicJvmScriptEvaluator.evalWithConfigAndOtherScriptsResults(BasicJvmScriptEvaluator.kt:100)\n",
      "\tat kotlin.script.experimental.jvm.BasicJvmScriptEvaluator.invoke$suspendImpl(BasicJvmScriptEvaluator.kt:47)\n",
      "\tat kotlin.script.experimental.jvm.BasicJvmScriptEvaluator.invoke(BasicJvmScriptEvaluator.kt)\n",
      "\tat kotlin.script.experimental.jvm.BasicJvmReplEvaluator.eval(BasicJvmReplEvaluator.kt:49)\n",
      "\tat org.jetbrains.kotlinx.jupyter.repl.impl.InternalEvaluatorImpl$eval$resultWithDiagnostics$1.invokeSuspend(InternalEvaluatorImpl.kt:99)\n",
      "\tat kotlin.coroutines.jvm.internal.BaseContinuationImpl.resumeWith(ContinuationImpl.kt:33)\n",
      "\tat kotlinx.coroutines.DispatchedTask.run(DispatchedTask.kt:106)\n",
      "\tat kotlinx.coroutines.EventLoopImplBase.processNextEvent(EventLoop.common.kt:274)\n",
      "\tat kotlinx.coroutines.BlockingCoroutine.joinBlocking(Builders.kt:85)\n",
      "\tat kotlinx.coroutines.BuildersKt__BuildersKt.runBlocking(Builders.kt:59)\n",
      "\tat kotlinx.coroutines.BuildersKt.runBlocking(Unknown Source)\n",
      "\tat kotlinx.coroutines.BuildersKt__BuildersKt.runBlocking$default(Builders.kt:38)\n",
      "\tat kotlinx.coroutines.BuildersKt.runBlocking$default(Unknown Source)\n",
      "\tat org.jetbrains.kotlinx.jupyter.repl.impl.InternalEvaluatorImpl.eval(InternalEvaluatorImpl.kt:99)\n",
      "\tat org.jetbrains.kotlinx.jupyter.repl.impl.CellExecutorImpl$execute$1$result$1.invoke(CellExecutorImpl.kt:64)\n",
      "\tat org.jetbrains.kotlinx.jupyter.repl.impl.CellExecutorImpl$execute$1$result$1.invoke(CellExecutorImpl.kt:63)\n",
      "\tat org.jetbrains.kotlinx.jupyter.ReplForJupyterImpl.withHost(repl.kt:603)\n",
      "\tat org.jetbrains.kotlinx.jupyter.repl.impl.CellExecutorImpl.execute(CellExecutorImpl.kt:63)\n",
      "\tat org.jetbrains.kotlinx.jupyter.repl.CellExecutor$DefaultImpls.execute$default(CellExecutor.kt:13)\n",
      "\tat org.jetbrains.kotlinx.jupyter.ReplForJupyterImpl$evalEx$1.invoke(repl.kt:423)\n",
      "\tat org.jetbrains.kotlinx.jupyter.ReplForJupyterImpl$evalEx$1.invoke(repl.kt:412)\n",
      "\tat org.jetbrains.kotlinx.jupyter.ReplForJupyterImpl.withEvalContext(repl.kt:376)\n",
      "\tat org.jetbrains.kotlinx.jupyter.ReplForJupyterImpl.evalEx(repl.kt:412)\n",
      "\tat org.jetbrains.kotlinx.jupyter.ReplForJupyterImpl.eval(repl.kt:460)\n",
      "\tat org.jetbrains.kotlinx.jupyter.ProtocolKt$shellMessagesHandler$res$1.invoke(protocol.kt:291)\n",
      "\tat org.jetbrains.kotlinx.jupyter.ProtocolKt$shellMessagesHandler$res$1.invoke(protocol.kt:290)\n",
      "\tat org.jetbrains.kotlinx.jupyter.JupyterConnection$runExecution$execThread$1.invoke(connection.kt:166)\n",
      "\tat org.jetbrains.kotlinx.jupyter.JupyterConnection$runExecution$execThread$1.invoke(connection.kt:164)\n",
      "\tat kotlin.concurrent.ThreadsKt$thread$thread$1.run(Thread.kt:30)\n"
     ]
    }
   ],
   "source": [
    "println(\"SPX and APPL\")\n",
    "\n",
    "// read the monthly S&P 500 data from a csv file\n",
    "val spx_arr = DoubleUtils.readCSV2d(\"./resources/sp500_monthly.csv\", true, true)\n",
    "// convert the csv file into a matrix for manipulation\n",
    "val spx_M: Matrix = DenseMatrix(spx_arr)\n",
    "// extract the column of adjusted close prices\n",
    "val spx_v: Vector = spx_M.getColumn(5) // adjusted closes\n",
    "\n",
    "// read the monthly AAPL data from a csv file\n",
    "val appl_arr = DoubleUtils.readCSV2d(\"./resources/AAPL_monthly.csv\", true, true)\n",
    "// convert the csv file into a matrix for manipulation\n",
    "val aapl_M: Matrix = DenseMatrix(appl_arr)\n",
    "// extract the column of adjusted close prices\n",
    "val aapl_v: Vector = aapl_M.getColumn(5) // adjusted closes\n",
    "\n",
    "// combine SPX and AAPL to form a bivariate time series\n",
    "val mts = MultivariateSimpleTimeSeries(cbind(spx_v, aapl_v))\n",
    "println(\"(spx, aapl) prices: \\n\" + mts)"
   ]
  },
  {
   "cell_type": "code",
   "execution_count": 59,
   "metadata": {},
   "outputs": [
    {
     "name": "stderr",
     "output_type": "stream",
     "text": [
      "null\n",
      "java.lang.NullPointerException\n",
      "\tat Line_62.<init>(Line_62.jupyter-kts:2)\n",
      "\tat java.base/jdk.internal.reflect.NativeConstructorAccessorImpl.newInstance0(Native Method)\n",
      "\tat java.base/jdk.internal.reflect.NativeConstructorAccessorImpl.newInstance(NativeConstructorAccessorImpl.java:62)\n",
      "\tat java.base/jdk.internal.reflect.DelegatingConstructorAccessorImpl.newInstance(DelegatingConstructorAccessorImpl.java:45)\n",
      "\tat java.base/java.lang.reflect.Constructor.newInstance(Constructor.java:490)\n",
      "\tat kotlin.script.experimental.jvm.BasicJvmScriptEvaluator.evalWithConfigAndOtherScriptsResults(BasicJvmScriptEvaluator.kt:100)\n",
      "\tat kotlin.script.experimental.jvm.BasicJvmScriptEvaluator.invoke$suspendImpl(BasicJvmScriptEvaluator.kt:47)\n",
      "\tat kotlin.script.experimental.jvm.BasicJvmScriptEvaluator.invoke(BasicJvmScriptEvaluator.kt)\n",
      "\tat kotlin.script.experimental.jvm.BasicJvmReplEvaluator.eval(BasicJvmReplEvaluator.kt:49)\n",
      "\tat org.jetbrains.kotlinx.jupyter.repl.impl.InternalEvaluatorImpl$eval$resultWithDiagnostics$1.invokeSuspend(InternalEvaluatorImpl.kt:99)\n",
      "\tat kotlin.coroutines.jvm.internal.BaseContinuationImpl.resumeWith(ContinuationImpl.kt:33)\n",
      "\tat kotlinx.coroutines.DispatchedTask.run(DispatchedTask.kt:106)\n",
      "\tat kotlinx.coroutines.EventLoopImplBase.processNextEvent(EventLoop.common.kt:274)\n",
      "\tat kotlinx.coroutines.BlockingCoroutine.joinBlocking(Builders.kt:85)\n",
      "\tat kotlinx.coroutines.BuildersKt__BuildersKt.runBlocking(Builders.kt:59)\n",
      "\tat kotlinx.coroutines.BuildersKt.runBlocking(Unknown Source)\n",
      "\tat kotlinx.coroutines.BuildersKt__BuildersKt.runBlocking$default(Builders.kt:38)\n",
      "\tat kotlinx.coroutines.BuildersKt.runBlocking$default(Unknown Source)\n",
      "\tat org.jetbrains.kotlinx.jupyter.repl.impl.InternalEvaluatorImpl.eval(InternalEvaluatorImpl.kt:99)\n",
      "\tat org.jetbrains.kotlinx.jupyter.repl.impl.CellExecutorImpl$execute$1$result$1.invoke(CellExecutorImpl.kt:64)\n",
      "\tat org.jetbrains.kotlinx.jupyter.repl.impl.CellExecutorImpl$execute$1$result$1.invoke(CellExecutorImpl.kt:63)\n",
      "\tat org.jetbrains.kotlinx.jupyter.ReplForJupyterImpl.withHost(repl.kt:603)\n",
      "\tat org.jetbrains.kotlinx.jupyter.repl.impl.CellExecutorImpl.execute(CellExecutorImpl.kt:63)\n",
      "\tat org.jetbrains.kotlinx.jupyter.repl.CellExecutor$DefaultImpls.execute$default(CellExecutor.kt:13)\n",
      "\tat org.jetbrains.kotlinx.jupyter.ReplForJupyterImpl$evalEx$1.invoke(repl.kt:423)\n",
      "\tat org.jetbrains.kotlinx.jupyter.ReplForJupyterImpl$evalEx$1.invoke(repl.kt:412)\n",
      "\tat org.jetbrains.kotlinx.jupyter.ReplForJupyterImpl.withEvalContext(repl.kt:376)\n",
      "\tat org.jetbrains.kotlinx.jupyter.ReplForJupyterImpl.evalEx(repl.kt:412)\n",
      "\tat org.jetbrains.kotlinx.jupyter.ReplForJupyterImpl.eval(repl.kt:460)\n",
      "\tat org.jetbrains.kotlinx.jupyter.ProtocolKt$shellMessagesHandler$res$1.invoke(protocol.kt:291)\n",
      "\tat org.jetbrains.kotlinx.jupyter.ProtocolKt$shellMessagesHandler$res$1.invoke(protocol.kt:290)\n",
      "\tat org.jetbrains.kotlinx.jupyter.JupyterConnection$runExecution$execThread$1.invoke(connection.kt:166)\n",
      "\tat org.jetbrains.kotlinx.jupyter.JupyterConnection$runExecution$execThread$1.invoke(connection.kt:164)\n",
      "\tat kotlin.concurrent.ThreadsKt$thread$thread$1.run(Thread.kt:30)\n"
     ]
    }
   ],
   "source": [
    "// compute the bivariate time series of log returns\n",
    "val p1: Matrix = mts.drop(1).toMatrix()\n",
    "val p: Matrix = mts.toMatrix()\n",
    "var log_returns_M: Matrix = p1.ZERO() // allocate space for the matrix\n",
    "for (i in 1 until p1.nRows()) { // matrix and vector index starts from 1\n",
    "    var r: Double = log10(p1.get(i, 1)) - log10(p.get(i, 1))\n",
    "    log_returns_M.set(i, 1, r)\n",
    "    r = log10(p1.get(i, 2)) - log10(p.get(i, 2))\n",
    "    log_returns_M.set(i, 2, r)\n",
    "}\n",
    "// convert a matrix to a multivariate time series\n",
    "val log_returns = MultivariateSimpleTimeSeries(log_returns_M)\n",
    "println(\"(spx, aapl) log_returns: \\n\" + log_returns)"
   ]
  },
  {
   "cell_type": "code",
   "execution_count": 60,
   "metadata": {},
   "outputs": [
    {
     "name": "stdout",
     "output_type": "stream",
     "text": [
      "VAR, VMA, VARMA, VARIMA and all those\n",
      "unconditional mean = [0.000000, 0.000000] \n"
     ]
    }
   ],
   "source": [
    "println(\"VAR, VMA, VARMA, VARIMA and all those\")\n",
    "\n",
    "// construct a VAR(1) model\n",
    "val PHI: Array<Matrix?> = arrayOfNulls<Matrix>(1)\n",
    "PHI[0] = DenseMatrix(\n",
    "        arrayOf(\n",
    "            doubleArrayOf(0.7, 0.12),\n",
    "            doubleArrayOf(0.31, 0.6)\n",
    "        ))\n",
    "val var1 = VARModel(PHI)\n",
    "println(\"unconditional mean = \" + var1.unconditionalMean())"
   ]
  },
  {
   "cell_type": "code",
   "execution_count": 61,
   "metadata": {},
   "outputs": [
    {
     "name": "stdout",
     "output_type": "stream",
     "text": [
      "VAR models\n",
      "\n",
      "μ = \n",
      "[1.074960, 1.980312] \n",
      "\n",
      "ϕ_1 =\n",
      "2x2\n",
      "\t[,1] [,2] \n",
      "[1,] 0.214364, 0.275072, \n",
      "[2,] -0.005042, 0.408162, \n",
      "\n",
      "ϕ_2 =\n",
      "2x2\n",
      "\t[,1] [,2] \n",
      "[1,] 0.106844, 0.197318, \n",
      "[2,] 0.293868, 0.106817, \n",
      "\n",
      "sigma =\n",
      "2x2\n",
      "\t[,1] [,2] \n",
      "[1,] 1.000000, 0.000000, \n",
      "[2,] 0.000000, 1.000000, \n"
     ]
    }
   ],
   "source": [
    "println(\"VAR models\")\n",
    "\n",
    "// construct a VAR(2) model\n",
    "val MU: Vector = DenseVector(1.0, 2.0)\n",
    "val PHI = arrayOf(\n",
    "    DenseMatrix(\n",
    "        arrayOf(\n",
    "            doubleArrayOf(0.2, 0.3),\n",
    "            doubleArrayOf(0.0, 0.4))),\n",
    "    DenseMatrix(\n",
    "        arrayOf(\n",
    "            doubleArrayOf(0.1, 0.2),\n",
    "            doubleArrayOf(0.3, 0.1)))\n",
    ")\n",
    "val model0 = VARModel(MU, PHI)\n",
    "\n",
    "// construct a RNG from the model\n",
    "val sim = VARIMASim(model0)\n",
    "sim.seed(1234567891L)\n",
    "\n",
    "// generate a random multivariate time series\n",
    "val N = 5000\n",
    "var ts = arrayOfNulls<DoubleArray>(N)\n",
    "for (i in 0 until N) {\n",
    "    ts[i] = sim.nextVector()\n",
    "}\n",
    "val mts = MultivariateSimpleTimeSeries(DenseMatrix(ts))\n",
    "\n",
    "// fit the data to a VAR(2) model\n",
    "val model1 = VARFit(mts, 2)\n",
    "println(\"\\nμ = \")\n",
    "println(model1.mu())\n",
    "println(\"\\nϕ_1 =\")\n",
    "println(model1.AR(1))\n",
    "println(\"\\nϕ_2 =\")\n",
    "println(model1.AR(2))\n",
    "println(\"\\nsigma =\")\n",
    "println(model1.sigma())"
   ]
  },
  {
   "cell_type": "code",
   "execution_count": 62,
   "metadata": {},
   "outputs": [
    {
     "name": "stderr",
     "output_type": "stream",
     "text": [
      "null\n",
      "java.lang.NullPointerException\n",
      "\tat Line_65.<init>(Line_65.jupyter-kts:2)\n",
      "\tat java.base/jdk.internal.reflect.NativeConstructorAccessorImpl.newInstance0(Native Method)\n",
      "\tat java.base/jdk.internal.reflect.NativeConstructorAccessorImpl.newInstance(NativeConstructorAccessorImpl.java:62)\n",
      "\tat java.base/jdk.internal.reflect.DelegatingConstructorAccessorImpl.newInstance(DelegatingConstructorAccessorImpl.java:45)\n",
      "\tat java.base/java.lang.reflect.Constructor.newInstance(Constructor.java:490)\n",
      "\tat kotlin.script.experimental.jvm.BasicJvmScriptEvaluator.evalWithConfigAndOtherScriptsResults(BasicJvmScriptEvaluator.kt:100)\n",
      "\tat kotlin.script.experimental.jvm.BasicJvmScriptEvaluator.invoke$suspendImpl(BasicJvmScriptEvaluator.kt:47)\n",
      "\tat kotlin.script.experimental.jvm.BasicJvmScriptEvaluator.invoke(BasicJvmScriptEvaluator.kt)\n",
      "\tat kotlin.script.experimental.jvm.BasicJvmReplEvaluator.eval(BasicJvmReplEvaluator.kt:49)\n",
      "\tat org.jetbrains.kotlinx.jupyter.repl.impl.InternalEvaluatorImpl$eval$resultWithDiagnostics$1.invokeSuspend(InternalEvaluatorImpl.kt:99)\n",
      "\tat kotlin.coroutines.jvm.internal.BaseContinuationImpl.resumeWith(ContinuationImpl.kt:33)\n",
      "\tat kotlinx.coroutines.DispatchedTask.run(DispatchedTask.kt:106)\n",
      "\tat kotlinx.coroutines.EventLoopImplBase.processNextEvent(EventLoop.common.kt:274)\n",
      "\tat kotlinx.coroutines.BlockingCoroutine.joinBlocking(Builders.kt:85)\n",
      "\tat kotlinx.coroutines.BuildersKt__BuildersKt.runBlocking(Builders.kt:59)\n",
      "\tat kotlinx.coroutines.BuildersKt.runBlocking(Unknown Source)\n",
      "\tat kotlinx.coroutines.BuildersKt__BuildersKt.runBlocking$default(Builders.kt:38)\n",
      "\tat kotlinx.coroutines.BuildersKt.runBlocking$default(Unknown Source)\n",
      "\tat org.jetbrains.kotlinx.jupyter.repl.impl.InternalEvaluatorImpl.eval(InternalEvaluatorImpl.kt:99)\n",
      "\tat org.jetbrains.kotlinx.jupyter.repl.impl.CellExecutorImpl$execute$1$result$1.invoke(CellExecutorImpl.kt:64)\n",
      "\tat org.jetbrains.kotlinx.jupyter.repl.impl.CellExecutorImpl$execute$1$result$1.invoke(CellExecutorImpl.kt:63)\n",
      "\tat org.jetbrains.kotlinx.jupyter.ReplForJupyterImpl.withHost(repl.kt:603)\n",
      "\tat org.jetbrains.kotlinx.jupyter.repl.impl.CellExecutorImpl.execute(CellExecutorImpl.kt:63)\n",
      "\tat org.jetbrains.kotlinx.jupyter.repl.CellExecutor$DefaultImpls.execute$default(CellExecutor.kt:13)\n",
      "\tat org.jetbrains.kotlinx.jupyter.ReplForJupyterImpl$evalEx$1.invoke(repl.kt:423)\n",
      "\tat org.jetbrains.kotlinx.jupyter.ReplForJupyterImpl$evalEx$1.invoke(repl.kt:412)\n",
      "\tat org.jetbrains.kotlinx.jupyter.ReplForJupyterImpl.withEvalContext(repl.kt:376)\n",
      "\tat org.jetbrains.kotlinx.jupyter.ReplForJupyterImpl.evalEx(repl.kt:412)\n",
      "\tat org.jetbrains.kotlinx.jupyter.ReplForJupyterImpl.eval(repl.kt:460)\n",
      "\tat org.jetbrains.kotlinx.jupyter.ProtocolKt$shellMessagesHandler$res$1.invoke(protocol.kt:291)\n",
      "\tat org.jetbrains.kotlinx.jupyter.ProtocolKt$shellMessagesHandler$res$1.invoke(protocol.kt:290)\n",
      "\tat org.jetbrains.kotlinx.jupyter.JupyterConnection$runExecution$execThread$1.invoke(connection.kt:166)\n",
      "\tat org.jetbrains.kotlinx.jupyter.JupyterConnection$runExecution$execThread$1.invoke(connection.kt:164)\n",
      "\tat kotlin.concurrent.ThreadsKt$thread$thread$1.run(Thread.kt:30)\n"
     ]
    }
   ],
   "source": [
    "// fit the log returns to an VAR(1) model\n",
    "val fit = VARFit(log_returns, 1)\n",
    "println(\"the estimated phi_1 for var(1) is\")\n",
    "println(fit.AR(1))"
   ]
  },
  {
   "cell_type": "code",
   "execution_count": 63,
   "metadata": {},
   "outputs": [
    {
     "name": "stdout",
     "output_type": "stream",
     "text": [
      "Forecast using the innovation algorithm\n",
      "[0.0]\n",
      "[1.2828729281767954]\n",
      "[-0.22269169944446712]\n",
      "[0.5459302808535396]\n",
      "[-1.632259252377928]\n",
      "[-0.22241089478200632]\n"
     ]
    }
   ],
   "source": [
    "/**\n",
    "* P. J. Brockwell and R. A. Davis, \"Example 5.2.1. Chapter 5. Multivariate\n",
    "* Time Series,\" in <i>Time Series: Theory and Methods</i>, Springer, 2006.\n",
    "*/\n",
    "\n",
    "println(\"Forecast using the innovation algorithm\")\n",
    "\n",
    "// MA(1) model parameters\n",
    "val theta: Double = -0.9\n",
    "val sigma: Double = 1.0\n",
    "\n",
    "// a multivariate time series (although the dimension is just 1)\n",
    "val Xt = MultivariateSimpleTimeSeries(\n",
    "            DenseMatrix(\n",
    "                arrayOf(\n",
    "                    doubleArrayOf(-2.58),\n",
    "                    doubleArrayOf(1.62),\n",
    "                    doubleArrayOf(-0.96),\n",
    "                    doubleArrayOf(2.62),\n",
    "                    doubleArrayOf(-1.36)\n",
    "                ))\n",
    "            )\n",
    "\n",
    "// the autocovariance function\n",
    "val K = object : MultivariateAutoCovarianceFunction() {\n",
    "\n",
    "    override fun evaluate(x1: Double, x2: Double): Matrix {\n",
    "        val i: Int = x1.toInt()\n",
    "        val j: Int = x2.toInt()\n",
    "\n",
    "        var k: Double = 0.0\n",
    "\n",
    "        if (i == j) {\n",
    "            k = sigma * sigma\n",
    "            k *= 1 + theta * theta\n",
    "        }\n",
    "\n",
    "        if (Math.abs(j - i) == 1) {\n",
    "            k = theta\n",
    "            k *= sigma * sigma\n",
    "        }\n",
    "\n",
    "        // γ = 0 otherwise\n",
    "        val result: DenseMatrix = DenseMatrix(arrayOf(doubleArrayOf(k)))\n",
    "        return result\n",
    "    }\n",
    "}\n",
    "\n",
    "// run the innovation algorithm\n",
    "val forecast = MultivariateForecastOneStep(Xt, K)\n",
    "\n",
    "// making forecasts\n",
    "for (i in 0..5) {\n",
    "    println(Arrays.toString(forecast.xHat(i).toArray()))\n",
    "}"
   ]
  },
  {
   "cell_type": "code",
   "execution_count": 64,
   "metadata": {},
   "outputs": [
    {
     "name": "stderr",
     "output_type": "stream",
     "text": [
      "null\n",
      "java.lang.NullPointerException\n",
      "\tat Line_67.<init>(Line_67.jupyter-kts:1)\n",
      "\tat java.base/jdk.internal.reflect.NativeConstructorAccessorImpl.newInstance0(Native Method)\n",
      "\tat java.base/jdk.internal.reflect.NativeConstructorAccessorImpl.newInstance(NativeConstructorAccessorImpl.java:62)\n",
      "\tat java.base/jdk.internal.reflect.DelegatingConstructorAccessorImpl.newInstance(DelegatingConstructorAccessorImpl.java:45)\n",
      "\tat java.base/java.lang.reflect.Constructor.newInstance(Constructor.java:490)\n",
      "\tat kotlin.script.experimental.jvm.BasicJvmScriptEvaluator.evalWithConfigAndOtherScriptsResults(BasicJvmScriptEvaluator.kt:100)\n",
      "\tat kotlin.script.experimental.jvm.BasicJvmScriptEvaluator.invoke$suspendImpl(BasicJvmScriptEvaluator.kt:47)\n",
      "\tat kotlin.script.experimental.jvm.BasicJvmScriptEvaluator.invoke(BasicJvmScriptEvaluator.kt)\n",
      "\tat kotlin.script.experimental.jvm.BasicJvmReplEvaluator.eval(BasicJvmReplEvaluator.kt:49)\n",
      "\tat org.jetbrains.kotlinx.jupyter.repl.impl.InternalEvaluatorImpl$eval$resultWithDiagnostics$1.invokeSuspend(InternalEvaluatorImpl.kt:99)\n",
      "\tat kotlin.coroutines.jvm.internal.BaseContinuationImpl.resumeWith(ContinuationImpl.kt:33)\n",
      "\tat kotlinx.coroutines.DispatchedTask.run(DispatchedTask.kt:106)\n",
      "\tat kotlinx.coroutines.EventLoopImplBase.processNextEvent(EventLoop.common.kt:274)\n",
      "\tat kotlinx.coroutines.BlockingCoroutine.joinBlocking(Builders.kt:85)\n",
      "\tat kotlinx.coroutines.BuildersKt__BuildersKt.runBlocking(Builders.kt:59)\n",
      "\tat kotlinx.coroutines.BuildersKt.runBlocking(Unknown Source)\n",
      "\tat kotlinx.coroutines.BuildersKt__BuildersKt.runBlocking$default(Builders.kt:38)\n",
      "\tat kotlinx.coroutines.BuildersKt.runBlocking$default(Unknown Source)\n",
      "\tat org.jetbrains.kotlinx.jupyter.repl.impl.InternalEvaluatorImpl.eval(InternalEvaluatorImpl.kt:99)\n",
      "\tat org.jetbrains.kotlinx.jupyter.repl.impl.CellExecutorImpl$execute$1$result$1.invoke(CellExecutorImpl.kt:64)\n",
      "\tat org.jetbrains.kotlinx.jupyter.repl.impl.CellExecutorImpl$execute$1$result$1.invoke(CellExecutorImpl.kt:63)\n",
      "\tat org.jetbrains.kotlinx.jupyter.ReplForJupyterImpl.withHost(repl.kt:603)\n",
      "\tat org.jetbrains.kotlinx.jupyter.repl.impl.CellExecutorImpl.execute(CellExecutorImpl.kt:63)\n",
      "\tat org.jetbrains.kotlinx.jupyter.repl.CellExecutor$DefaultImpls.execute$default(CellExecutor.kt:13)\n",
      "\tat org.jetbrains.kotlinx.jupyter.ReplForJupyterImpl$evalEx$1.invoke(repl.kt:423)\n",
      "\tat org.jetbrains.kotlinx.jupyter.ReplForJupyterImpl$evalEx$1.invoke(repl.kt:412)\n",
      "\tat org.jetbrains.kotlinx.jupyter.ReplForJupyterImpl.withEvalContext(repl.kt:376)\n",
      "\tat org.jetbrains.kotlinx.jupyter.ReplForJupyterImpl.evalEx(repl.kt:412)\n",
      "\tat org.jetbrains.kotlinx.jupyter.ReplForJupyterImpl.eval(repl.kt:460)\n",
      "\tat org.jetbrains.kotlinx.jupyter.ProtocolKt$shellMessagesHandler$res$1.invoke(protocol.kt:291)\n",
      "\tat org.jetbrains.kotlinx.jupyter.ProtocolKt$shellMessagesHandler$res$1.invoke(protocol.kt:290)\n",
      "\tat org.jetbrains.kotlinx.jupyter.JupyterConnection$runExecution$execThread$1.invoke(connection.kt:166)\n",
      "\tat org.jetbrains.kotlinx.jupyter.JupyterConnection$runExecution$execThread$1.invoke(connection.kt:164)\n",
      "\tat kotlin.concurrent.ThreadsKt$thread$thread$1.run(Thread.kt:30)\n"
     ]
    }
   ],
   "source": [
    "val log_returns2 = fit.getDemeanedModel() // demeaned version\n",
    "\n",
    "// predict the future values using the innovation algorithm\n",
    "val K = VARMAAutoCovariance(log_returns2, log_returns.size())\n",
    "val forecast = MultivariateForecastOneStep(log_returns, K)\n",
    "for (i in 0..5) {\n",
    "    println(Arrays.toString(forecast.xHat(i).toArray()))\n",
    "}"
   ]
  },
  {
   "cell_type": "code",
   "execution_count": 65,
   "metadata": {},
   "outputs": [
    {
     "name": "stdout",
     "output_type": "stream",
     "text": [
      "unconditional mean = [0.000000, 0.000000] \n"
     ]
    }
   ],
   "source": [
    "// construct a VAR(1) model\n",
    "val THETA: Array<Matrix?> = arrayOfNulls<Matrix>(1)\n",
    "THETA[0] = DenseMatrix(\n",
    "        arrayOf(\n",
    "            doubleArrayOf(0.5, 0.16),\n",
    "            doubleArrayOf(-0.7, 0.28)\n",
    "        ))\n",
    "val vma1 = VMAModel(THETA)\n",
    "println(\"unconditional mean = \" + vma1.unconditionalMean())"
   ]
  },
  {
   "cell_type": "code",
   "execution_count": 66,
   "metadata": {},
   "outputs": [
    {
     "name": "stdout",
     "output_type": "stream",
     "text": [
      "unconditional mean = [0.000000, 0.000000] \n"
     ]
    }
   ],
   "source": [
    "// construct a VARIMA(1,1) model\n",
    "val PHI1: Array<Matrix?> = arrayOfNulls<Matrix>(1)\n",
    "PHI1[0] = DenseMatrix(\n",
    "        arrayOf(\n",
    "            doubleArrayOf(0.7, 0.0),\n",
    "            doubleArrayOf(0.0, 0.6)\n",
    "        ))\n",
    "val THETA1: Array<Matrix?> = arrayOfNulls<Matrix>(1)\n",
    "THETA1[0] = DenseMatrix(\n",
    "        arrayOf(\n",
    "            doubleArrayOf(0.5, 0.6),\n",
    "            doubleArrayOf(-0.7, 0.8)\n",
    "        ))\n",
    "\n",
    "val varma11: VARMAModel = VARMAModel(\n",
    "        PHI1,\n",
    "        THETA1\n",
    ")\n",
    "println(\"unconditional mean = \" + varma11.unconditionalMean())"
   ]
  },
  {
   "cell_type": "code",
   "execution_count": 67,
   "metadata": {},
   "outputs": [
    {
     "name": "stdout",
     "output_type": "stream",
     "text": [
      "autocovariance function for a causal VARMA\n",
      "GAMMA(0) = \n",
      "\n",
      "2x2\n",
      "\t[,1] [,2] \n",
      "[1,] 5.598667, 3.897333, \n",
      "[2,] 3.524000, 3.241333, \n",
      "\n",
      "GAMMA(1) = \n",
      "\n",
      "2x2\n",
      "\t[,1] [,2] \n",
      "[1,] 5.598667, 3.897333, \n",
      "[2,] 3.524000, 3.241333, \n",
      "\n",
      "GAMMA(2) = \n",
      "\n",
      "2x2\n",
      "\t[,1] [,2] \n",
      "[1,] 5.598667, 3.897333, \n",
      "[2,] 3.524000, 3.241333, \n",
      "\n",
      "GAMMA(3) = \n",
      "\n",
      "2x2\n",
      "\t[,1] [,2] \n",
      "[1,] 5.598667, 3.897333, \n",
      "[2,] 3.524000, 3.241333, \n",
      "\n",
      "GAMMA(4) = \n",
      "\n",
      "2x2\n",
      "\t[,1] [,2] \n",
      "[1,] 5.598667, 3.897333, \n",
      "[2,] 3.524000, 3.241333, \n",
      "\n",
      "GAMMA(5) = \n",
      "\n",
      "2x2\n",
      "\t[,1] [,2] \n",
      "[1,] 5.598667, 3.897333, \n",
      "[2,] 3.524000, 3.241333, \n",
      "\n"
     ]
    }
   ],
   "source": [
    "println(\"autocovariance function for a causal VARMA\")\n",
    "\n",
    "// the AR coefficients\n",
    "val AR = arrayOf(\n",
    "    DenseMatrix(\n",
    "        arrayOf(\n",
    "            doubleArrayOf(0.5, 0.5),\n",
    "            doubleArrayOf(0.0, 0.5)))\n",
    ")\n",
    "\n",
    "// the MA coefficients\n",
    "var MA = arrayOf(\n",
    "    AR[0].t()\n",
    ")\n",
    "\n",
    "// SIGMA\n",
    "val SIGMA: Matrix = DenseMatrix(\n",
    "                arrayOf(\n",
    "                    doubleArrayOf(1.0, 0.2),\n",
    "                    doubleArrayOf(0.2, 1.0)\n",
    "                ))\n",
    "\n",
    "// define a VARIMA(1,1) model\n",
    "val varma11 = VARMAModel(AR, MA, SIGMA)\n",
    "\n",
    "// comptue the autocovariance function for a VARIMA process up to a certian number of lags\n",
    "val GAMMA = VARMAAutoCovariance(\n",
    "                varma11,\n",
    "                10 // number of lags\n",
    "        )\n",
    "\n",
    "// print out the autocovariance function \n",
    "for (i in 0..5) {\n",
    "    println(String.format(\"GAMMA(%d) = %n\", i))\n",
    "    println(GAMMA.evaluate(1.0))\n",
    "    println()\n",
    "}"
   ]
  },
  {
   "cell_type": "code",
   "execution_count": 68,
   "metadata": {},
   "outputs": [
    {
     "name": "stdout",
     "output_type": "stream",
     "text": [
      "Varim simulation\n",
      "Sample mean of the first variable = 3.994879\n",
      "\n",
      "Sample mean of the second variable = 2.005700\n",
      "\n",
      "Theoretical covariance =\n",
      "2x2\n",
      "\t[,1] [,2] \n",
      "[1,] 6.007407, 2.244444, \n",
      "[2,] 2.244444, 2.333333, \n",
      "\n",
      "Sample covariance =\n",
      "2x2\n",
      "\t[,1] [,2] \n",
      "[1,] 5.315639, 1.790519, \n",
      "[2,] 1.790519, 2.340646, \n"
     ]
    }
   ],
   "source": [
    "println(\"Varim simulation\")\n",
    "\n",
    "// number of random numbers to generate\n",
    "val T = 100000\n",
    "\n",
    "// the mean\n",
    "val MU: Vector = DenseVector(1.0, 1.0)\n",
    "// the AR coefficients\n",
    "val PHI = arrayOf(\n",
    "    DenseMatrix(\n",
    "    arrayOf(\n",
    "        doubleArrayOf(0.5, 0.5),\n",
    "        doubleArrayOf(0.0, 0.5)\n",
    ")))\n",
    "// the MA coefficients\n",
    "val THETA = arrayOf(PHI[0])\n",
    "// the white noise covariance structure\n",
    "val SIGMA: Matrix = DenseMatrix(\n",
    "                arrayOf(\n",
    "                    doubleArrayOf(1.0, 0.2),\n",
    "                    doubleArrayOf(0.2, 1.0)\n",
    "                ))\n",
    "\n",
    "// construct a VARMA model\n",
    "val VARMA = VARMAModel(MU, PHI, THETA, SIGMA)\n",
    "\n",
    "// construct a random number generator from a VARMA model\n",
    "val SIM = VARIMASim(VARMA)\n",
    "SIM.seed(1234567890L)\n",
    "\n",
    "// produce the random vectors\n",
    "val data = arrayOfNulls<DoubleArray>(T)\n",
    "for (i in 0 until T) {\n",
    "    data[i] = SIM.nextVector()\n",
    "}\n",
    "\n",
    "// statistics about the simulation\n",
    "// println(String.format(\"each vector size = %d%n\", data[0].size()))\n",
    "// println(String.format(\"sample size = %d%n\", data.length))\n",
    "\n",
    "// compute the theoretical mean of the data\n",
    "// val theoretical_mean: DoubleArray = Inverse(DenseMatrix(arrayOf(doubleArrayOf(2.0, 2.0))).ONE().minus(VARMA.AR(1))).multiply(DenseVector(MU)).toArray()\n",
    "// println(\"theoretical mean =\")\n",
    "// println(Arrays.toString(theoretical_mean))\n",
    "\n",
    "// cast the random data in matrix form for easy manipulation\n",
    "val dataM: Matrix = MatrixFactory.rbind(DenseMatrix(data))\n",
    "// compute the sample mean of the data\n",
    "val sample_mean1: Double = Mean(dataM.getColumn(1).toArray()).value()\n",
    "val sample_mean2: Double = Mean(dataM.getColumn(2).toArray()).value()\n",
    "println(String.format(\"Sample mean of the first variable = %f%n\", sample_mean1))\n",
    "println(String.format(\"Sample mean of the second variable = %f%n\", sample_mean2))\n",
    "\n",
    "// compute the theoretical covariance of the data\n",
    "val cov_theoretical: Matrix = DenseMatrix(\n",
    "        arrayOf(\n",
    "            doubleArrayOf(811.0 / 135.0, 101.0 / 45.0),\n",
    "            doubleArrayOf(101.0 / 45.0, 7.0 / 3.0)\n",
    "        ))\n",
    "println(\"Theoretical covariance =\")\n",
    "println(cov_theoretical)\n",
    "\n",
    "// compute the sample covariance of the data\n",
    "val sample_cov = SampleCovariance(dataM)\n",
    "println(\"\\nSample covariance =\")\n",
    "println(sample_cov)"
   ]
  },
  {
   "cell_type": "code",
   "execution_count": 69,
   "metadata": {},
   "outputs": [
    {
     "name": "stdout",
     "output_type": "stream",
     "text": [
      "convert VAR to VECM\n",
      "dimension = 2\n",
      "PI, the impact matrix = \n",
      "2x2\n",
      "\t[,1] [,2] \n",
      "[1,] -0.467000, 0.913000, \n",
      "[2,] 0.107000, -0.208000, \n",
      "GAMMA = \n",
      "2x2\n",
      "\t[,1] [,2] \n",
      "[1,] -0.743000, -0.746000, \n",
      "[2,] 0.405000, -0.572000, \n"
     ]
    }
   ],
   "source": [
    "println(\"convert VAR to VECM\")\n",
    "\n",
    "// define a VAR(2) model\n",
    "val varxModel = VARXModel(\n",
    "        arrayOf(\n",
    "            DenseMatrix(\n",
    "                    arrayOf(\n",
    "                        doubleArrayOf(-0.210, 0.167),\n",
    "                        doubleArrayOf(0.512, 0.220)\n",
    "                    )),\n",
    "            DenseMatrix(\n",
    "                    arrayOf(\n",
    "                        doubleArrayOf(0.743, 0.746),\n",
    "                        doubleArrayOf(-0.405, 0.572)\n",
    "                    ))\n",
    "        ),\n",
    "        null)\n",
    "\n",
    "// construct a VECM fron a VAR\n",
    "val vecm = VECMTransitory(varxModel)\n",
    "\n",
    "println(\"dimension = \" + vecm.dimension())\n",
    "println(\"PI, the impact matrix = \")\n",
    "println(vecm.pi())\n",
    "println(\"GAMMA = \")\n",
    "println(vecm.gamma(1))"
   ]
  },
  {
   "cell_type": "code",
   "execution_count": 70,
   "metadata": {},
   "outputs": [
    {
     "name": "stdout",
     "output_type": "stream",
     "text": [
      "cointegration between SPX and AAPL\n"
     ]
    },
    {
     "name": "stderr",
     "output_type": "stream",
     "text": [
      "./resources/sp500_monthly.csv (No such file or directory)\n",
      "java.io.FileNotFoundException: ./resources/sp500_monthly.csv (No such file or directory)\n",
      "\tat java.base/java.io.FileInputStream.open0(Native Method)\n",
      "\tat java.base/java.io.FileInputStream.open(FileInputStream.java:219)\n",
      "\tat java.base/java.io.FileInputStream.<init>(FileInputStream.java:157)\n",
      "\tat java.base/java.io.FileInputStream.<init>(FileInputStream.java:112)\n",
      "\tat dev.nm.number.DoubleUtils.readCSV2d(wb:1605)\n",
      "\tat dev.nm.number.DoubleUtils.readCSV2d(wb:1591)\n",
      "\tat Line_73.<init>(Line_73.jupyter-kts:4)\n",
      "\tat java.base/jdk.internal.reflect.NativeConstructorAccessorImpl.newInstance0(Native Method)\n",
      "\tat java.base/jdk.internal.reflect.NativeConstructorAccessorImpl.newInstance(NativeConstructorAccessorImpl.java:62)\n",
      "\tat java.base/jdk.internal.reflect.DelegatingConstructorAccessorImpl.newInstance(DelegatingConstructorAccessorImpl.java:45)\n",
      "\tat java.base/java.lang.reflect.Constructor.newInstance(Constructor.java:490)\n",
      "\tat kotlin.script.experimental.jvm.BasicJvmScriptEvaluator.evalWithConfigAndOtherScriptsResults(BasicJvmScriptEvaluator.kt:100)\n",
      "\tat kotlin.script.experimental.jvm.BasicJvmScriptEvaluator.invoke$suspendImpl(BasicJvmScriptEvaluator.kt:47)\n",
      "\tat kotlin.script.experimental.jvm.BasicJvmScriptEvaluator.invoke(BasicJvmScriptEvaluator.kt)\n",
      "\tat kotlin.script.experimental.jvm.BasicJvmReplEvaluator.eval(BasicJvmReplEvaluator.kt:49)\n",
      "\tat org.jetbrains.kotlinx.jupyter.repl.impl.InternalEvaluatorImpl$eval$resultWithDiagnostics$1.invokeSuspend(InternalEvaluatorImpl.kt:99)\n",
      "\tat kotlin.coroutines.jvm.internal.BaseContinuationImpl.resumeWith(ContinuationImpl.kt:33)\n",
      "\tat kotlinx.coroutines.DispatchedTask.run(DispatchedTask.kt:106)\n",
      "\tat kotlinx.coroutines.EventLoopImplBase.processNextEvent(EventLoop.common.kt:274)\n",
      "\tat kotlinx.coroutines.BlockingCoroutine.joinBlocking(Builders.kt:85)\n",
      "\tat kotlinx.coroutines.BuildersKt__BuildersKt.runBlocking(Builders.kt:59)\n",
      "\tat kotlinx.coroutines.BuildersKt.runBlocking(Unknown Source)\n",
      "\tat kotlinx.coroutines.BuildersKt__BuildersKt.runBlocking$default(Builders.kt:38)\n",
      "\tat kotlinx.coroutines.BuildersKt.runBlocking$default(Unknown Source)\n",
      "\tat org.jetbrains.kotlinx.jupyter.repl.impl.InternalEvaluatorImpl.eval(InternalEvaluatorImpl.kt:99)\n",
      "\tat org.jetbrains.kotlinx.jupyter.repl.impl.CellExecutorImpl$execute$1$result$1.invoke(CellExecutorImpl.kt:64)\n",
      "\tat org.jetbrains.kotlinx.jupyter.repl.impl.CellExecutorImpl$execute$1$result$1.invoke(CellExecutorImpl.kt:63)\n",
      "\tat org.jetbrains.kotlinx.jupyter.ReplForJupyterImpl.withHost(repl.kt:603)\n",
      "\tat org.jetbrains.kotlinx.jupyter.repl.impl.CellExecutorImpl.execute(CellExecutorImpl.kt:63)\n",
      "\tat org.jetbrains.kotlinx.jupyter.repl.CellExecutor$DefaultImpls.execute$default(CellExecutor.kt:13)\n",
      "\tat org.jetbrains.kotlinx.jupyter.ReplForJupyterImpl$evalEx$1.invoke(repl.kt:423)\n",
      "\tat org.jetbrains.kotlinx.jupyter.ReplForJupyterImpl$evalEx$1.invoke(repl.kt:412)\n",
      "\tat org.jetbrains.kotlinx.jupyter.ReplForJupyterImpl.withEvalContext(repl.kt:376)\n",
      "\tat org.jetbrains.kotlinx.jupyter.ReplForJupyterImpl.evalEx(repl.kt:412)\n",
      "\tat org.jetbrains.kotlinx.jupyter.ReplForJupyterImpl.eval(repl.kt:460)\n",
      "\tat org.jetbrains.kotlinx.jupyter.ProtocolKt$shellMessagesHandler$res$1.invoke(protocol.kt:291)\n",
      "\tat org.jetbrains.kotlinx.jupyter.ProtocolKt$shellMessagesHandler$res$1.invoke(protocol.kt:290)\n",
      "\tat org.jetbrains.kotlinx.jupyter.JupyterConnection$runExecution$execThread$1.invoke(connection.kt:166)\n",
      "\tat org.jetbrains.kotlinx.jupyter.JupyterConnection$runExecution$execThread$1.invoke(connection.kt:164)\n",
      "\tat kotlin.concurrent.ThreadsKt$thread$thread$1.run(Thread.kt:30)\n"
     ]
    }
   ],
   "source": [
    "println(\"cointegration between SPX and AAPL\")\n",
    "\n",
    "// read the monthly S&P 500 data from a csv file\n",
    "val spx_arr = DoubleUtils.readCSV2d(\"./resources/sp500_monthly.csv\", true, true)\n",
    "\n",
    "// convert the csv file into a matrix for manipulation\n",
    "val spx_M1: Matrix = DenseMatrix(spx_arr)\n",
    "// remove the data before 2008\n",
    "val spx_M2: Matrix = MatrixFactory.subMatrix(spx_M1, 325, spx_M1.nRows(), 1, spx_M1.nCols())\n",
    "// extract the column of adjusted close prices\n",
    "val spx_v: Vector = spx_M2.getColumn(5) // adjusted closes\n",
    "\n",
    "// read the monthly AAPL data from a csv file\n",
    "val appl_arr = DoubleUtils.readCSV2d(\"./resources/AAPL_monthly.csv\", true, true)\n",
    "// convert the csv file into a matrix for manipulation\n",
    "val aapl_M1: Matrix = DenseMatrix(appl_arr)\n",
    "// remove the data before 2008\n",
    "val aapl_M2: Matrix = MatrixFactory.subMatrix(aapl_M1, 325, aapl_M1.nRows(), 1, aapl_M1.nCols())\n",
    "// extract the column of adjusted close prices\n",
    "val aapl_v: Vector = aapl_M2.getColumn(5) // adjusted closes\n",
    "\n",
    "// combine SPX and AAPL to form a bivariate time series\n",
    "val mts = MultivariateSimpleTimeSeries(cbind(spx_v, aapl_v))\n",
    "//      println(\"(spx, aapl) prices: \\n\" + mts)\n",
    "\n",
    "// run cointegration on all combinations of available test and trend types\n",
    "for (test: Test in Test.values()) {\n",
    "    for (trend: dev.nm.stat.cointegration.JohansenAsymptoticDistribution.TrendType in dev.nm.stat.cointegration.JohansenAsymptoticDistribution.TrendType.values()) {\n",
    "        val coint = CointegrationMLE(mts, true)\n",
    "        val johansen = JohansenTest(test, trend, coint.getEigenvalues().size())\n",
    "        println(\"alpha:\")\n",
    "        println(coint.alpha())\n",
    "        println(\"beta:\")\n",
    "        println(coint.beta())\n",
    "        println(\"Johansen test: \"\n",
    "                + test.toString()\n",
    "                + \"\\t\" + trend.toString()\n",
    "                + \"\\t eigenvalues: \" + coint.getEigenvalues()\n",
    "                + \"\\t statistics: \" + johansen.getStats(coint)\n",
    "        )\n",
    "        println(\"\")\n",
    "    }\n",
    "}\n",
    "\n",
    "// run ADF test to check if the cointegrated series is indeed stationary\n",
    "val betas: DoubleArray = doubleArrayOf(-12.673296, -6.995392)\n",
    "for (beta: Double in betas) {\n",
    "    println(String.format(\"testing for beta = %f%n\", beta))\n",
    "    val ci: Vector = spx_v.add(aapl_v.scaled(beta))\n",
    "    val adf = AugmentedDickeyFuller(\n",
    "                    ci.toArray(),\n",
    "                    TrendType.CONSTANT, // constant drift term\n",
    "                    4, // the lag order\n",
    "                    null\n",
    "            )\n",
    "\n",
    "    println(\"H0: \" + adf.getNullHypothesis())\n",
    "    println(\"H1: \" + adf.getAlternativeHypothesis())\n",
    "    println(String.format(\"the p-value for the test = %f%n\", adf.pValue()))\n",
    "    println(String.format(\"the statistics for the test = %f%n\", adf.statistics()))\n",
    "    println(\"\")\n",
    "}"
   ]
  }
 ],
 "metadata": {
  "kernelspec": {
   "display_name": "Kotlin",
   "language": "kotlin",
   "name": "kotlin"
  },
  "language_info": {
   "codemirror_mode": "text/x-kotlin",
   "file_extension": ".kt",
   "mimetype": "text/x-kotlin",
   "name": "kotlin",
   "nbconvert_exporter": "",
   "pygments_lexer": "kotlin",
   "version": "1.6.20-dev-6372"
  }
 },
 "nbformat": 4,
 "nbformat_minor": 4
}
