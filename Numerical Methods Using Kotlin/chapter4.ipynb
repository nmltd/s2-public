{
 "cells": [
  {
   "cell_type": "markdown",
   "metadata": {},
   "source": [
    "# Chapter 4"
   ]
  },
  {
   "cell_type": "code",
   "execution_count": null,
   "metadata": {},
   "outputs": [],
   "source": [
    "%use s2\n",
    "\n",
    "\n",
    "import java.util.Arrays"
   ]
  },
  {
   "cell_type": "code",
   "execution_count": null,
   "metadata": {},
   "outputs": [],
   "source": [
    "println(\"Chapter 4 demos\")\n",
    "\n",
    "println(\"Define multivariate functions\")\n",
    "\n",
    "val f1: RealScalarFunction = object : AbstractRealScalarFunction(3) {\n",
    "    override fun evaluate(x: Vector): Double {\n",
    "        val x1: Double = x.get(1)\n",
    "        val x2: Double = x.get(2)\n",
    "        val x3: Double = x.get(3)\n",
    "        return 2 * x1 * x1 + x2 * x2 - x3\n",
    "    }\n",
    "}\n",
    "println(\"f1(1,2,3) = \" + f1.evaluate(DenseVector(1.0, 2.0, 3.0)))\n",
    "\n",
    "val f2: TrivariateRealFunction = object : AbstractTrivariateRealFunction() {\n",
    "    override fun evaluate(x1: Double, x2: Double, x3: Double): Double {\n",
    "        return 2 * x1 * x1 + x2 * x2 - x3\n",
    "    }\n",
    "}\n",
    "println(\"f2(1,2,3) = \" + f2.evaluate(DenseVector(1.0, 2.0, 3.0)))"
   ]
  },
  {
   "cell_type": "code",
   "execution_count": null,
   "metadata": {},
   "outputs": [],
   "source": [
    "println(\"Define multivariate vector function\")\n",
    "\n",
    "val f1: TrivariateRealFunction = object : AbstractTrivariateRealFunction() {\n",
    "    override fun evaluate(x: Double, y: Double, z: Double): Double {\n",
    "        return Math.pow(x, 2.0) + Math.pow(y, 3.0) - z - 6\n",
    "    }\n",
    "}\n",
    "\n",
    "val f2: TrivariateRealFunction = object : AbstractTrivariateRealFunction() {\n",
    "    override fun evaluate(x: Double, y: Double, z: Double): Double {\n",
    "        return 2 * x + 9 * y - z - 17\n",
    "    }\n",
    "}\n",
    "\n",
    "val f3: TrivariateRealFunction = object : AbstractTrivariateRealFunction() {\n",
    "    override fun evaluate(x: Double, y: Double, z: Double): Double {\n",
    "        return Math.pow(x, 4.0) + 5 * y + 6 * z - 29\n",
    "    }\n",
    "}\n",
    "\n",
    "val x: Vector = DenseVector(1.5, 2.5, 3.5)\n",
    "val f1_x: Double = f1.evaluate(x)\n",
    "val f2_x: Double = f2.evaluate(x)\n",
    "val f3_x: Double = f3.evaluate(x)\n",
    "val F_x = doubleArrayOf(f1_x, f2_x, f3_x)\n",
    "println(\"F(x) = \" + Arrays.toString(F_x))\n",
    "\n",
    "val G: RealVectorFunction = object : AbstractRealVectorFunction(3, 3) {\n",
    "    override fun evaluate(v: Vector): Vector {\n",
    "        val x: Double = v.get(1)\n",
    "        val y: Double = v.get(2)\n",
    "        val z: Double = v.get(3)\n",
    "\n",
    "        val g1: Double = Math.pow(x, 2.0) + Math.pow(y, 3.0) - z - 6\n",
    "        val g2: Double = 2 * x + 9 * y - z - 17\n",
    "        val g3: Double = Math.pow(x, 4.0) + 5 * y + 6 * z - 29\n",
    "\n",
    "        val g: Vector = DenseVector(g1, g2, g3)\n",
    "        return g\n",
    "    }\n",
    "}\n",
    "val Gx: Vector = G.evaluate(x)\n",
    "println(\"G(x) = \" + Gx)"
   ]
  },
  {
   "cell_type": "code",
   "execution_count": null,
   "metadata": {},
   "outputs": [],
   "source": [
    "println(\"Solve a system of two equations\")\n",
    "\n",
    "val f1: BivariateRealFunction = object : AbstractBivariateRealFunction() {\n",
    "    override fun evaluate(x: Double, y: Double): Double {\n",
    "        return 3 * x + y * y - 12\n",
    "    }\n",
    "}\n",
    "val f2: BivariateRealFunction = object : AbstractBivariateRealFunction() {\n",
    "    override fun evaluate(x: Double, y: Double): Double {\n",
    "        return x * x + y - 4\n",
    "    }\n",
    "}\n",
    "\n",
    "val solver: NewtonSystemRoot = NewtonSystemRoot(1e-8, 10)\n",
    "val initial: Vector = DenseVector(arrayOf(0.0, 0.0)) // (0, 0)\n",
    "val root: Vector = solver.solve(arrayOf(f1, f2), initial)\n",
    "\n",
    "println(String.format(\"f(%s) = (%f, %f)\", root.toString(), f1.evaluate(root), f2.evaluate(root)))"
   ]
  },
  {
   "cell_type": "code",
   "execution_count": null,
   "metadata": {},
   "outputs": [],
   "source": [
    "println(\"Solve a system of equations\")\n",
    "\n",
    "val G: RealVectorFunction = object : AbstractRealVectorFunction(3, 3) {\n",
    "    override fun evaluate(v: Vector): Vector {\n",
    "        val x: Double = v.get(1)\n",
    "        val y: Double = v.get(2)\n",
    "        val z: Double = v.get(3)\n",
    "\n",
    "        val g1: Double = Math.pow(x, 2.0) + Math.pow(y, 3.0) - z - 6\n",
    "        val g2: Double = 2 * x + 9 * y - z - 17\n",
    "        val g3: Double = Math.pow(x, 4.0) + 5 * y + 6 * z - 29\n",
    "\n",
    "        val g: Vector = DenseVector(g1, g2, g3)\n",
    "        return g\n",
    "    }\n",
    "}\n",
    "\n",
    "val solver: NewtonSystemRoot = NewtonSystemRoot(1e-8, 15)\n",
    "val initial: Vector = DenseVector(arrayOf(0.0, 0.0, 0.0)) // (0, 0, 0)\n",
    "val root: Vector = solver.solve(G, initial)\n",
    "\n",
    "println(String.format(\"f(%s) = %s\", root.toString(), G.evaluate(root).toString()))"
   ]
  }
 ],
 "metadata": {
  "kernelspec": {
   "display_name": "Kotlin",
   "language": "kotlin",
   "name": "python392jvsc74a57bd02fa9724a83c1b912eacfa0df2390db8cc86de28df572c050c637f38dfda3ff34"
  },
  "language_info": {
   "codemirror_mode": "text/x-kotlin",
   "file_extension": ".kt",
   "mimetype": "text/x-kotlin",
   "name": "kotlin",
   "nbconvert_exporter": "",
   "pygments_lexer": "kotlin",
   "version": "1.6.20-dev-6372"
  },
  "orig_nbformat": 4
 },
 "nbformat": 4,
 "nbformat_minor": 2
}
