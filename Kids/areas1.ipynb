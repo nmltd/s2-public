{
 "cells": [
  {
   "cell_type": "code",
   "execution_count": 2,
   "id": "206c4639-65a8-4e3a-ade7-c1f67ea4b6fd",
   "metadata": {},
   "outputs": [],
   "source": [
    "// define what a square means\n",
    "class Square(val length: Double) {\n",
    "     val area: Double // property type is optional since it can be inferred from the getter's return type\n",
    "        get() = this.length * this.length\n",
    "    \n",
    "    // print the description of the object\n",
    "    override fun toString(): String {\n",
    "        return \"I am a square with 4 sides of size $length.\"\n",
    "    }\n",
    "}"
   ]
  },
  {
   "cell_type": "code",
   "execution_count": 3,
   "id": "db064eb2-1439-4871-b622-0b148e8bca8d",
   "metadata": {},
   "outputs": [],
   "source": [
    "// define a unit square\n",
    "val unit_square = Square(1.0)"
   ]
  },
  {
   "cell_type": "code",
   "execution_count": 4,
   "id": "4418ecc3-f342-433e-bc1a-7fa52ba81d76",
   "metadata": {},
   "outputs": [
    {
     "data": {
      "text/plain": [
       "I am a square with 4 sides of size 1.0."
      ]
     },
     "execution_count": 4,
     "metadata": {},
     "output_type": "execute_result"
    }
   ],
   "source": [
    "unit_square"
   ]
  },
  {
   "cell_type": "code",
   "execution_count": 5,
   "id": "ebb8e4ca-ab88-4057-996b-244e588aa35f",
   "metadata": {},
   "outputs": [
    {
     "data": {
      "text/plain": [
       "1.0"
      ]
     },
     "execution_count": 5,
     "metadata": {},
     "output_type": "execute_result"
    }
   ],
   "source": [
    "// compute the area of the unit square\n",
    "unit_square.area"
   ]
  },
  {
   "cell_type": "code",
   "execution_count": 4,
   "id": "c09517b5-8e45-4646-8758-cc17ef06eb59",
   "metadata": {},
   "outputs": [
    {
     "data": {
      "text/plain": [
       "I am a square with 4 sides of size 1.0."
      ]
     },
     "execution_count": 4,
     "metadata": {},
     "output_type": "execute_result"
    }
   ],
   "source": [
    "unit_square.toString()"
   ]
  },
  {
   "cell_type": "code",
   "execution_count": 62,
   "id": "dd28a806-e503-4bd6-b670-78ad844c61ff",
   "metadata": {},
   "outputs": [],
   "source": [
    "// define what a rectangle means\n",
    "class Rectangle(val length: Double, val width: Double) {\n",
    "    val area get() = this.length * this.width\n",
    "    \n",
    "    // print the description of the object\n",
    "    override fun toString(): String {\n",
    "        return \"I am a $length-by-$width rectangle.\"\n",
    "    }\n",
    "}"
   ]
  },
  {
   "cell_type": "code",
   "execution_count": 63,
   "id": "4ea1e1a1-a001-4094-becd-b9a762b37d64",
   "metadata": {},
   "outputs": [],
   "source": [
    "val rectangle1 = Rectangle(2.0, 1.0)"
   ]
  },
  {
   "cell_type": "code",
   "execution_count": 64,
   "id": "7f46aca7-c5b0-463c-a183-6452fd28ee52",
   "metadata": {},
   "outputs": [
    {
     "data": {
      "text/plain": [
       "I am a 2.0-by-1.0 rectangle."
      ]
     },
     "execution_count": 64,
     "metadata": {},
     "output_type": "execute_result"
    }
   ],
   "source": [
    "rectangle1"
   ]
  },
  {
   "cell_type": "code",
   "execution_count": 65,
   "id": "f3c12d9e-81a8-4d9d-a380-9a9e38c5a9a1",
   "metadata": {},
   "outputs": [
    {
     "data": {
      "text/plain": [
       "2.0"
      ]
     },
     "execution_count": 65,
     "metadata": {},
     "output_type": "execute_result"
    }
   ],
   "source": [
    "rectangle1.area"
   ]
  },
  {
   "cell_type": "code",
   "execution_count": 67,
   "id": "f835d96b-53af-49ec-9e01-0ddcf2ef7898",
   "metadata": {},
   "outputs": [],
   "source": [
    "// define what a rectangle means\n",
    "class Rectangle(val length: Double, val width: Double) {\n",
    "    val area get() = this.length * this.width\n",
    "    \n",
    "    // construct a rectangle using copies of squares\n",
    "    constructor(square: Square, copies: Double) : this(square.length, square.length*copies) {\n",
    "    }\n",
    "    \n",
    "    // print the description of the object\n",
    "    override fun toString(): String {\n",
    "        return \"I am a $length-by-$width rectangle.\"\n",
    "    }\n",
    "}"
   ]
  },
  {
   "cell_type": "code",
   "execution_count": 68,
   "id": "b0984196-b84e-46b7-9272-76f2f3102279",
   "metadata": {},
   "outputs": [],
   "source": [
    "val rectangle2 = Rectangle(unit_square, 2.0)"
   ]
  },
  {
   "cell_type": "code",
   "execution_count": 69,
   "id": "527291e5-7ff0-44ac-a698-eaa808d241de",
   "metadata": {},
   "outputs": [
    {
     "data": {
      "text/plain": [
       "I am a 1.0-by-2.0 rectangle."
      ]
     },
     "execution_count": 69,
     "metadata": {},
     "output_type": "execute_result"
    }
   ],
   "source": [
    "rectangle2"
   ]
  },
  {
   "cell_type": "code",
   "execution_count": 70,
   "id": "69a6179c-ec72-4746-8a41-9631986171a9",
   "metadata": {},
   "outputs": [],
   "source": [
    "// define a 2x2 square\n",
    "val square2 = Square(2.0)"
   ]
  },
  {
   "cell_type": "code",
   "execution_count": 13,
   "id": "870eaa62-7acd-419d-a4d9-b33175ea0358",
   "metadata": {},
   "outputs": [
    {
     "data": {
      "text/plain": [
       "I am a square with 4 sides of size 2.0."
      ]
     },
     "execution_count": 13,
     "metadata": {},
     "output_type": "execute_result"
    }
   ],
   "source": [
    "square2"
   ]
  },
  {
   "cell_type": "code",
   "execution_count": 14,
   "id": "787f3503-e582-4cce-b2a3-8cf6f9494cdc",
   "metadata": {},
   "outputs": [
    {
     "data": {
      "text/plain": [
       "4.0"
      ]
     },
     "execution_count": 14,
     "metadata": {},
     "output_type": "execute_result"
    }
   ],
   "source": [
    "square2.area"
   ]
  },
  {
   "cell_type": "code",
   "execution_count": 71,
   "id": "fb954809-39f7-449c-b940-e2a1874d5030",
   "metadata": {},
   "outputs": [],
   "source": [
    "val rectangle3 = Rectangle(square2, 2.0)"
   ]
  },
  {
   "cell_type": "code",
   "execution_count": 72,
   "id": "fcc13ae2-ce9e-408d-8af9-739bd7e2c4ec",
   "metadata": {},
   "outputs": [
    {
     "data": {
      "text/plain": [
       "I am a 2.0-by-4.0 rectangle."
      ]
     },
     "execution_count": 72,
     "metadata": {},
     "output_type": "execute_result"
    }
   ],
   "source": [
    "rectangle3"
   ]
  },
  {
   "cell_type": "code",
   "execution_count": 73,
   "id": "61838001-fed3-49ec-ac02-9f62a4e7b9cc",
   "metadata": {},
   "outputs": [
    {
     "data": {
      "text/plain": [
       "8.0"
      ]
     },
     "execution_count": 73,
     "metadata": {},
     "output_type": "execute_result"
    }
   ],
   "source": [
    "rectangle3.area"
   ]
  },
  {
   "cell_type": "code",
   "execution_count": 18,
   "id": "b90a1b01-10d7-4673-970a-5e2d623d3666",
   "metadata": {},
   "outputs": [],
   "source": [
    "// define what a right triangle means\n",
    "class RightTriangle(val length1: Double, val length2: Double) {\n",
    "    // compute the area of the right triangle using the rectangle method\n",
    "    val area1 get() = Rectangle(length1, length2).area / 2.0\n",
    "    \n",
    "    // compute the area of the right triangle using the formula\n",
    "    val area2 get() = this.length1 * this.length2 / 2.0\n",
    "\n",
    "    // print the description of the object\n",
    "    override fun toString(): String {\n",
    "        return \"I am a $length1-by-$length2 right triangle.\"\n",
    "    }\n",
    "}"
   ]
  },
  {
   "cell_type": "code",
   "execution_count": 19,
   "id": "6b28c252-296c-44cd-ac64-6d3c774067a7",
   "metadata": {},
   "outputs": [],
   "source": [
    "val right_triangle1 = RightTriangle(2.0, 4.0)"
   ]
  },
  {
   "cell_type": "code",
   "execution_count": 20,
   "id": "188c2b55-c0b4-4472-915b-230afa3e6150",
   "metadata": {},
   "outputs": [
    {
     "data": {
      "text/plain": [
       "I am a 2.0-by-4.0 right triangle."
      ]
     },
     "execution_count": 20,
     "metadata": {},
     "output_type": "execute_result"
    }
   ],
   "source": [
    "right_triangle1"
   ]
  },
  {
   "cell_type": "code",
   "execution_count": 21,
   "id": "90499a35-d807-4de6-9479-181eb3b7592d",
   "metadata": {},
   "outputs": [
    {
     "data": {
      "text/plain": [
       "4.0"
      ]
     },
     "execution_count": 21,
     "metadata": {},
     "output_type": "execute_result"
    }
   ],
   "source": [
    "right_triangle1.area1"
   ]
  },
  {
   "cell_type": "code",
   "execution_count": 22,
   "id": "6fbff0bf-9a28-4933-9ec5-49e5d68ae72c",
   "metadata": {},
   "outputs": [
    {
     "data": {
      "text/plain": [
       "4.0"
      ]
     },
     "execution_count": 22,
     "metadata": {},
     "output_type": "execute_result"
    }
   ],
   "source": [
    "right_triangle1.area2"
   ]
  },
  {
   "cell_type": "code",
   "execution_count": null,
   "id": "7ab13544-f7e1-485e-91d3-6566e1a4dc41",
   "metadata": {},
   "outputs": [],
   "source": []
  }
 ],
 "metadata": {
  "kernelspec": {
   "display_name": "Kotlin",
   "language": "kotlin",
   "name": "kotlin"
  },
  "language_info": {
   "codemirror_mode": "text/x-kotlin",
   "file_extension": ".kt",
   "mimetype": "text/x-kotlin",
   "name": "kotlin",
   "nbconvert_exporter": "",
   "pygments_lexer": "kotlin",
   "version": "1.6.20-dev-6372"
  }
 },
 "nbformat": 4,
 "nbformat_minor": 5
}
