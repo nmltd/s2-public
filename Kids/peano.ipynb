{
 "cells": [
  {
   "cell_type": "code",
   "execution_count": 11,
   "id": "24d98b3b-3762-46bf-ba76-5fad01dfdce7",
   "metadata": {},
   "outputs": [],
   "source": [
    "// define a list of natual \"numbers\"\n",
    "val arr1 = arrayOf(\"zero\", \"apple\", \"orange\", \"kiwi\")"
   ]
  },
  {
   "cell_type": "code",
   "execution_count": 25,
   "id": "b79752dc-4ac5-4737-ab95-819b2a0b1722",
   "metadata": {},
   "outputs": [
    {
     "data": {
      "text/plain": [
       "[zero, apple, orange, kiwi]"
      ]
     },
     "execution_count": 25,
     "metadata": {},
     "output_type": "execute_result"
    }
   ],
   "source": [
    "arr1"
   ]
  },
  {
   "cell_type": "code",
   "execution_count": 12,
   "id": "833332a7-6344-4a2b-b21b-9adf4aa64f4d",
   "metadata": {},
   "outputs": [],
   "source": [
    "// impose ordering on the \"numbers\" by defining the successor function\n",
    "fun S(x : String) : String {\n",
    "    if (x == \"zero\") {\n",
    "        return \"apple\"\n",
    "    }\n",
    "    if (x == \"apple\") {\n",
    "        return \"orange\"\n",
    "    }\n",
    "    if (x == \"orange\") {\n",
    "        return \"kiwi\"\n",
    "    }\n",
    "    \n",
    "    return \"not defined\"\n",
    "}"
   ]
  },
  {
   "cell_type": "code",
   "execution_count": 13,
   "id": "c9dbd604-90b2-4570-85d9-28132e1fbb62",
   "metadata": {},
   "outputs": [
    {
     "data": {
      "text/plain": [
       "orange"
      ]
     },
     "execution_count": 13,
     "metadata": {},
     "output_type": "execute_result"
    }
   ],
   "source": [
    "S(\"apple\")"
   ]
  },
  {
   "cell_type": "code",
   "execution_count": 14,
   "id": "43ed66a5-ed1d-40df-b2c0-f7be02ac885b",
   "metadata": {},
   "outputs": [
    {
     "data": {
      "text/plain": [
       "kiwi"
      ]
     },
     "execution_count": 14,
     "metadata": {},
     "output_type": "execute_result"
    }
   ],
   "source": [
    "S(\"orange\")"
   ]
  },
  {
   "cell_type": "code",
   "execution_count": 24,
   "id": "3e993976-0461-40d7-bd07-b9ff865cd87a",
   "metadata": {},
   "outputs": [],
   "source": [
    "// define the predecesor function, which is the opposite of the successor function\n",
    "fun P(x : String) : String {\n",
    "    if (x == \"zero\") {\n",
    "        return \"nothing before zero\"\n",
    "    }\n",
    "    if (x == \"apple\") {\n",
    "        return \"zero\"\n",
    "    }\n",
    "    if (x == \"orange\") {\n",
    "        return \"apple\"\n",
    "    }\n",
    "    if (x == \"kiwi\") {\n",
    "        return \"orange\"\n",
    "    }\n",
    "    \n",
    "    return \"not defined\"\n",
    "}"
   ]
  },
  {
   "cell_type": "code",
   "execution_count": 26,
   "id": "224eedc1-867a-4bfd-ab52-25ae18f04557",
   "metadata": {},
   "outputs": [],
   "source": [
    "// define addition\n",
    "fun add(a : String, b : String) : String {\n",
    "    // the defintion of zero: \"anything\" added to zero is the same \"anything\"\n",
    "    if (b == \"zero\") {\n",
    "        return a\n",
    "    }\n",
    "    // this is precisely what adding two \"numbers\" mean\n",
    "    return S(add(a, P(b)))\n",
    "}"
   ]
  },
  {
   "cell_type": "code",
   "execution_count": 21,
   "id": "ff856fe3-7989-455a-aad0-30956a8a333c",
   "metadata": {},
   "outputs": [
    {
     "data": {
      "text/plain": [
       "apple"
      ]
     },
     "execution_count": 21,
     "metadata": {},
     "output_type": "execute_result"
    }
   ],
   "source": [
    "add(\"apple\", \"zero\")"
   ]
  },
  {
   "cell_type": "code",
   "execution_count": 22,
   "id": "affae39c-7e5a-4d48-b6b2-3f7b569806c2",
   "metadata": {},
   "outputs": [
    {
     "data": {
      "text/plain": [
       "orange"
      ]
     },
     "execution_count": 22,
     "metadata": {},
     "output_type": "execute_result"
    }
   ],
   "source": [
    "add(\"apple\", \"apple\")"
   ]
  },
  {
   "cell_type": "code",
   "execution_count": 23,
   "id": "c76bcbfe-6abf-4808-b7e2-eb08e962e934",
   "metadata": {},
   "outputs": [
    {
     "data": {
      "text/plain": [
       "kiwi"
      ]
     },
     "execution_count": 23,
     "metadata": {},
     "output_type": "execute_result"
    }
   ],
   "source": [
    "add(\"apple\", \"orange\")"
   ]
  },
  {
   "cell_type": "code",
   "execution_count": null,
   "id": "67f1495e-5929-4d44-b026-e6f7e2b5b2db",
   "metadata": {},
   "outputs": [],
   "source": []
  }
 ],
 "metadata": {
  "kernelspec": {
   "display_name": "Kotlin",
   "language": "kotlin",
   "name": "kotlin"
  },
  "language_info": {
   "codemirror_mode": "text/x-kotlin",
   "file_extension": ".kt",
   "mimetype": "text/x-kotlin",
   "name": "kotlin",
   "nbconvert_exporter": "",
   "pygments_lexer": "kotlin",
   "version": "1.6.20-dev-6372"
  }
 },
 "nbformat": 4,
 "nbformat_minor": 5
}
