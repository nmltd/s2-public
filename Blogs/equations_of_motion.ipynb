{
 "cells": [
  {
   "cell_type": "code",
   "execution_count": 2,
   "id": "d1b49e07-bfaf-444e-a3a4-82d920604a67",
   "metadata": {},
   "outputs": [],
   "source": [
    "// 1st equation of motion: final velocity\n",
    "fun v(u : Double, a : Double, t : Double) : Double {\n",
    "    var v = u + a * t;\n",
    "    return v;\n",
    "}"
   ]
  },
  {
   "cell_type": "code",
   "execution_count": 3,
   "id": "407c91b1-8c34-4b34-a350-1324df1468b2",
   "metadata": {},
   "outputs": [],
   "source": [
    "// compute the final velocity with inputs\n",
    "// initial velocity = 5.0 m/s, acceleration = 2.0 m/s/s, time = 10 sec\n",
    "val v = v(5.0, 2.0, 10.0)"
   ]
  },
  {
   "cell_type": "code",
   "execution_count": 5,
   "id": "6e871cb9-4793-4b7e-8702-8663693a8954",
   "metadata": {},
   "outputs": [
    {
     "data": {
      "text/plain": [
       "25.0"
      ]
     },
     "execution_count": 5,
     "metadata": {},
     "output_type": "execute_result"
    }
   ],
   "source": [
    "// print out the final velocity\n",
    "v"
   ]
  },
  {
   "cell_type": "code",
   "execution_count": 25,
   "id": "58886f24-413e-4ff4-b178-ea0df874f9fb",
   "metadata": {},
   "outputs": [],
   "source": [
    "// 2nd equation of motion: displacement\n",
    "fun s_1(u : Double, a : Double, t : Double) : Double {\n",
    "    var s = u * t + 0.5 * a * t * t;\n",
    "    return s;\n",
    "}"
   ]
  },
  {
   "cell_type": "code",
   "execution_count": 26,
   "id": "c58706d9-32b9-45ef-a934-27c79c3f97b5",
   "metadata": {},
   "outputs": [],
   "source": [
    "// compute the displacement\n",
    "// initial velocity = 5.0 m/s, acceleration = 2.0 m/s/s, time = 10 sec\n",
    "val s_1 = s_1(5.0, 2.0, 10.0)"
   ]
  },
  {
   "cell_type": "code",
   "execution_count": 27,
   "id": "d456b5db-e70a-47fa-9b7d-a725059136a1",
   "metadata": {},
   "outputs": [
    {
     "data": {
      "text/plain": [
       "150.0"
      ]
     },
     "execution_count": 27,
     "metadata": {},
     "output_type": "execute_result"
    }
   ],
   "source": [
    "// print out the displacement\n",
    "s_1"
   ]
  },
  {
   "cell_type": "code",
   "execution_count": 28,
   "id": "5d9ee84a-842a-40b7-837d-b11d40a5039b",
   "metadata": {},
   "outputs": [],
   "source": [
    "// 3rd equation of motion: displacement\n",
    "// another formula to compute displacement\n",
    "fun s_2(u : Double, a : Double, t : Double) : Double {\n",
    "    var s = (v*v - u*u) / 2.0 / a;\n",
    "    return s;\n",
    "}"
   ]
  },
  {
   "cell_type": "code",
   "execution_count": 29,
   "id": "6bb33499-94c7-4fc2-a41a-3df5715d74c7",
   "metadata": {},
   "outputs": [],
   "source": [
    "// compute the displacement\n",
    "// initial velocity = 5.0 m/s, acceleration = 2.0 m/s/s, time = 10 sec\n",
    "val s_2 = s_2(5.0, 2.0, 10.0)"
   ]
  },
  {
   "cell_type": "code",
   "execution_count": 30,
   "id": "acb297c2-0fab-4361-802f-e86b90a12fbc",
   "metadata": {},
   "outputs": [
    {
     "data": {
      "text/plain": [
       "150.0"
      ]
     },
     "execution_count": 30,
     "metadata": {},
     "output_type": "execute_result"
    }
   ],
   "source": [
    "// print out the displacement\n",
    "s_2"
   ]
  },
  {
   "cell_type": "code",
   "execution_count": 8,
   "id": "094fe747-1192-4ea3-a706-3c25ca6aa3b8",
   "metadata": {},
   "outputs": [],
   "source": [
    "// 3rd equation of motion: velocity squared\n",
    "fun v2(u : Double, a : Double, s : Double) : Double {\n",
    "    var v2 = u*u + 2.0 * a * s;\n",
    "    return v2;\n",
    "}"
   ]
  },
  {
   "cell_type": "code",
   "execution_count": 9,
   "id": "fe1b7d3a-cae8-4dc5-82a1-d4f3f49c4399",
   "metadata": {},
   "outputs": [],
   "source": [
    "// compute the square of the final velocity\n",
    "// initial velocity = 5.0 m/s, acceleration = 2.0 m/s/s, displacement = 150 m\n",
    "val v2 = v2(5.0, 2.0, 150.0)"
   ]
  },
  {
   "cell_type": "code",
   "execution_count": 10,
   "id": "a8899e1c-9911-491d-8da9-22322bc7023f",
   "metadata": {},
   "outputs": [
    {
     "data": {
      "text/plain": [
       "625.0"
      ]
     },
     "execution_count": 10,
     "metadata": {},
     "output_type": "execute_result"
    }
   ],
   "source": [
    "// print out the velocity squared\n",
    "v2"
   ]
  },
  {
   "cell_type": "code",
   "execution_count": 12,
   "id": "fd611543-8427-4c37-97a1-ce52bfa56b8e",
   "metadata": {},
   "outputs": [
    {
     "data": {
      "text/plain": [
       "25.0"
      ]
     },
     "execution_count": 12,
     "metadata": {},
     "output_type": "execute_result"
    }
   ],
   "source": [
    "// print out the final velocity\n",
    "sqrt(v2)"
   ]
  },
  {
   "cell_type": "code",
   "execution_count": null,
   "id": "3f587c87-0f14-4037-aee0-2bd3dcbcfff5",
   "metadata": {},
   "outputs": [],
   "source": []
  }
 ],
 "metadata": {
  "kernelspec": {
   "display_name": "Kotlin",
   "language": "kotlin",
   "name": "kotlin"
  },
  "language_info": {
   "codemirror_mode": "text/x-kotlin",
   "file_extension": ".kt",
   "mimetype": "text/x-kotlin",
   "name": "kotlin",
   "nbconvert_exporter": "",
   "pygments_lexer": "kotlin",
   "version": "1.6.20-dev-6372"
  }
 },
 "nbformat": 4,
 "nbformat_minor": 5
}
