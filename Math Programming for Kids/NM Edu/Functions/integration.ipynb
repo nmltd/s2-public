{
 "cells": [
  {
   "cell_type": "code",
   "execution_count": 5,
   "id": "e8af9f4c-80ff-4f6c-876d-ddb77a137435",
   "metadata": {},
   "outputs": [],
   "source": [
    "// the three-leg speed function\n",
    "fun speed(t : Double): Double { // t = time\n",
    "    if (t <= 5.0) {\n",
    "        return 1.0;\n",
    "    }\n",
    "    else if (t <= 10.0) { // t > 5.0\n",
    "        return 5.0;\n",
    "    }\n",
    "    else { // t > 10.0\n",
    "        return 3.0;\n",
    "    }\n",
    "}"
   ]
  },
  {
   "cell_type": "code",
   "execution_count": 6,
   "id": "8d65f171-5f32-49dd-991f-b164475d9eed",
   "metadata": {},
   "outputs": [
    {
     "data": {
      "text/html": [
       "<div>\n",
       "  <div id=\"space.kscience.plotly.Plot@4e97bb7\">\n",
       "    <script>if(typeof Plotly !== \"undefined\"){\n",
       "    Plotly.react(\n",
       "            'space.kscience.plotly.Plot@4e97bb7',\n",
       "            [{\"x\":[0,1,2,3,4,5,6,7,8,9,10,11,12,13,14,15,16,17,18,19,20],\"y\":[1.0,1.0,1.0,1.0,1.0,1.0,5.0,5.0,5.0,5.0,5.0,3.0,3.0,3.0,3.0,3.0,3.0,3.0,3.0,3.0,3.0],\"type\":\"scatter\"}],\n",
       "            {},\n",
       "            {\"responsive\":true}\n",
       "        );       \n",
       "} else {\n",
       "    console.error(\"Plotly not loaded\")\n",
       "}</script>\n",
       "  </div>\n",
       "</div>\n"
      ]
     },
     "execution_count": 6,
     "metadata": {},
     "output_type": "execute_result"
    }
   ],
   "source": [
    "// plot the speed curve over time\n",
    "val t = (0..20)\n",
    "\n",
    "%use plotly\n",
    "Plotly.plot {\n",
    "    scatter {\n",
    "        x.set(t)\n",
    "        y.set(t.map { speed(it.toDouble()) })\n",
    "    }\n",
    "}"
   ]
  },
  {
   "cell_type": "code",
   "execution_count": 9,
   "id": "6ea7bd4a-cc8a-484e-a380-7f2eb371e32f",
   "metadata": {},
   "outputs": [
    {
     "data": {
      "text/html": [
       "<div>\n",
       "  <div id=\"space.kscience.plotly.Plot@644b96fa\">\n",
       "    <script>if(typeof Plotly !== \"undefined\"){\n",
       "    Plotly.react(\n",
       "            'space.kscience.plotly.Plot@644b96fa',\n",
       "            [{\"x\":[0,1,2,3,4,5,6,7,8,9,10,11,12,13,14,15,16,17,18,19,20,21,22,23,24,25,26,27,28,29,30,31,32,33,34,35,36,37,38,39,40,41,42,43,44,45,46,47,48,49,50,51,52,53,54,55,56,57,58,59,60,61,62,63,64,65,66,67,68,69,70,71,72,73,74,75,76,77,78,79,80,81,82,83,84,85,86,87,88,89,90,91,92,93,94,95,96,97,98,99,100,101,102,103,104,105,106,107,108,109,110,111,112,113,114,115,116,117,118,119,120,121,122,123,124,125,126,127,128,129,130,131,132,133,134,135,136,137,138,139,140,141,142,143,144,145,146,147,148,149,150,151,152,153,154,155,156,157,158,159,160,161,162,163,164,165,166,167,168,169,170,171,172,173,174,175,176,177,178,179,180,181,182,183,184,185,186,187,188,189,190,191,192,193,194,195,196,197,198,199,200],\"y\":[1.0,1.0,1.0,1.0,1.0,1.0,1.0,1.0,1.0,1.0,1.0,1.0,1.0,1.0,1.0,1.0,1.0,1.0,1.0,1.0,1.0,1.0,1.0,1.0,1.0,1.0,1.0,1.0,1.0,1.0,1.0,1.0,1.0,1.0,1.0,1.0,1.0,1.0,1.0,1.0,1.0,1.0,1.0,1.0,1.0,1.0,1.0,1.0,1.0,1.0,1.0,5.0,5.0,5.0,5.0,5.0,5.0,5.0,5.0,5.0,5.0,5.0,5.0,5.0,5.0,5.0,5.0,5.0,5.0,5.0,5.0,5.0,5.0,5.0,5.0,5.0,5.0,5.0,5.0,5.0,5.0,5.0,5.0,5.0,5.0,5.0,5.0,5.0,5.0,5.0,5.0,5.0,5.0,5.0,5.0,5.0,5.0,5.0,5.0,5.0,5.0,3.0,3.0,3.0,3.0,3.0,3.0,3.0,3.0,3.0,3.0,3.0,3.0,3.0,3.0,3.0,3.0,3.0,3.0,3.0,3.0,3.0,3.0,3.0,3.0,3.0,3.0,3.0,3.0,3.0,3.0,3.0,3.0,3.0,3.0,3.0,3.0,3.0,3.0,3.0,3.0,3.0,3.0,3.0,3.0,3.0,3.0,3.0,3.0,3.0,3.0,3.0,3.0,3.0,3.0,3.0,3.0,3.0,3.0,3.0,3.0,3.0,3.0,3.0,3.0,3.0,3.0,3.0,3.0,3.0,3.0,3.0,3.0,3.0,3.0,3.0,3.0,3.0,3.0,3.0,3.0,3.0,3.0,3.0,3.0,3.0,3.0,3.0,3.0,3.0,3.0,3.0,3.0,3.0,3.0,3.0,3.0,3.0,3.0,3.0,3.0],\"type\":\"scatter\"}],\n",
       "            {\"title\":{\"text\":\"speed function\"},\"yaxis\":{\"range\":[0.0,5.0],\"title\":\"y\"}},\n",
       "            {\"responsive\":true}\n",
       "        );       \n",
       "} else {\n",
       "    console.error(\"Plotly not loaded\")\n",
       "}</script>\n",
       "  </div>\n",
       "</div>\n"
      ]
     },
     "execution_count": 9,
     "metadata": {},
     "output_type": "execute_result"
    }
   ],
   "source": [
    "// plot the distance curve over time\n",
    "val t = (0..200) // in decisecond or ds\n",
    "\n",
    "Plotly.plot {\n",
    "    scatter {\n",
    "        x.set(t)\n",
    "        y.set(t.map { speed(it.toDouble() / 10.0) })\n",
    "    }\n",
    "    \n",
    "    layout{\n",
    "        title = \"speed function\"\n",
    "        yaxis {\n",
    "            title = \"y\"\n",
    "            range = 0.0..5.0\n",
    "        }\n",
    "    }\n",
    "}"
   ]
  },
  {
   "cell_type": "code",
   "execution_count": 10,
   "id": "5dfed632-4612-414f-a9b4-6b3218570111",
   "metadata": {},
   "outputs": [],
   "source": [
    "// the distance function for the whole process\n",
    "// another way to code this function\n",
    "fun distance_123(t : Double): Double { // t = time\n",
    "    // the speeds in different periods\n",
    "    val v1 = 1.0; // 1 m/s\n",
    "    val v2 = 5.0; // 5 m/s    \n",
    "    val v3 = 3.0; // 3 m/s\n",
    "    \n",
    "    // the times when the speed changes\n",
    "    val t2 = 5.0; // 5 s\n",
    "    val t3 = 10.0; // 10 s\n",
    "\n",
    "    if (t <= 5.0) {\n",
    "        return v1 * t;\n",
    "    }\n",
    "    else if (t <= 10.0) { // t > 5.0\n",
    "        return v1 * t2 + v2 * (t - t2);\n",
    "    }\n",
    "    else { // t > 10.0\n",
    "        return v1 * t2 + v2 * (t3 - t2) + v3 * (t - t3);\n",
    "    }\n",
    "}\n"
   ]
  },
  {
   "cell_type": "code",
   "execution_count": 11,
   "id": "7b345b25-f8c7-4c63-9941-3f83a0b26595",
   "metadata": {},
   "outputs": [
    {
     "data": {
      "text/html": [
       "<div>\n",
       "  <div id=\"space.kscience.plotly.Plot@29ad4952\">\n",
       "    <script>if(typeof Plotly !== \"undefined\"){\n",
       "    Plotly.react(\n",
       "            'space.kscience.plotly.Plot@29ad4952',\n",
       "            [{\"x\":[0,1,2,3,4,5,6,7,8,9,10,11,12,13,14,15,16,17,18,19,20],\"y\":[0.0,1.0,2.0,3.0,4.0,5.0,10.0,15.0,20.0,25.0,30.0,33.0,36.0,39.0,42.0,45.0,48.0,51.0,54.0,57.0,60.0],\"type\":\"scatter\"}],\n",
       "            {},\n",
       "            {\"responsive\":true}\n",
       "        );       \n",
       "} else {\n",
       "    console.error(\"Plotly not loaded\")\n",
       "}</script>\n",
       "  </div>\n",
       "</div>\n"
      ]
     },
     "execution_count": 11,
     "metadata": {},
     "output_type": "execute_result"
    }
   ],
   "source": [
    "// plot the distance curve over time\n",
    "val t = (0..20)\n",
    "\n",
    "%use plotly\n",
    "Plotly.plot {\n",
    "    scatter {\n",
    "        x.set(t)\n",
    "        y.set(t.map { distance_123(it.toDouble()) })\n",
    "    }\n",
    "}"
   ]
  },
  {
   "cell_type": "code",
   "execution_count": null,
   "id": "2ce1b5a5-36d2-4761-91b8-6ef436a4058f",
   "metadata": {},
   "outputs": [],
   "source": []
  }
 ],
 "metadata": {
  "kernelspec": {
   "display_name": "Kotlin",
   "language": "kotlin",
   "name": "python3"
  },
  "language_info": {
   "codemirror_mode": "text/x-kotlin",
   "file_extension": ".kt",
   "mimetype": "text/x-kotlin",
   "name": "kotlin",
   "nbconvert_exporter": "",
   "pygments_lexer": "kotlin",
   "version": "1.6.20-dev-6372"
  }
 },
 "nbformat": 4,
 "nbformat_minor": 5
}
