{
 "cells": [
  {
   "cell_type": "code",
   "execution_count": 40,
   "id": "3b960747-9139-4f5b-ad94-882f148f10ac",
   "metadata": {},
   "outputs": [
    {
     "data": {
      "text/html": [
       "<div>\n",
       "  <div id=\"space.kscience.plotly.Plot@48adcdcb\">\n",
       "    <script>if(typeof Plotly !== \"undefined\"){\n",
       "    Plotly.react(\n",
       "            'space.kscience.plotly.Plot@48adcdcb',\n",
       "            [{\"x\":[0,1,2,3],\"y\":[0,1,2,3],\"type\":\"scatter\"}],\n",
       "            {},\n",
       "            {\"responsive\":true}\n",
       "        );       \n",
       "} else {\n",
       "    console.error(\"Plotly not loaded\")\n",
       "}</script>\n",
       "  </div>\n",
       "</div>\n"
      ]
     },
     "execution_count": 40,
     "metadata": {},
     "output_type": "execute_result"
    }
   ],
   "source": [
    "// plot\n",
    "%use plotly\n",
    "\n",
    "// from the identity function\n",
    "Plotly.plot {\n",
    "    scatter {\n",
    "        x(0, 1, 2, 3)\n",
    "        y(0, 1, 2, 3)\n",
    "    }\n",
    "}"
   ]
  },
  {
   "cell_type": "code",
   "execution_count": 2,
   "id": "28391876-29b7-4b4d-afac-c3cb924228c3",
   "metadata": {},
   "outputs": [
    {
     "data": {
      "text/html": [
       "<div>\n",
       "  <div id=\"space.kscience.plotly.Plot@1a2c7281\">\n",
       "    <script>if(typeof Plotly !== \"undefined\"){\n",
       "    Plotly.react(\n",
       "            'space.kscience.plotly.Plot@1a2c7281',\n",
       "            [{\"x\":[0,1,2,3,4,5,6,7,8,9,10],\"y\":[0,1,2,3,4,5,6,7,8,9,10],\"type\":\"scatter\"}],\n",
       "            {},\n",
       "            {\"responsive\":true}\n",
       "        );       \n",
       "} else {\n",
       "    console.error(\"Plotly not loaded\")\n",
       "}</script>\n",
       "  </div>\n",
       "</div>\n"
      ]
     },
     "execution_count": 2,
     "metadata": {},
     "output_type": "execute_result"
    }
   ],
   "source": [
    "val x_values = (0..10)\n",
    "val y_values = x_values.map { it }\n",
    "\n",
    "Plotly.plot {\n",
    "    scatter {\n",
    "        x.set(x_values)\n",
    "        y.set(y_values)\n",
    "    }\n",
    "}"
   ]
  },
  {
   "cell_type": "code",
   "execution_count": 3,
   "id": "a66953d1-e312-4f95-ba00-dec3607954ad",
   "metadata": {},
   "outputs": [
    {
     "data": {
      "text/html": [
       "<div>\n",
       "  <div id=\"space.kscience.plotly.Plot@29ce86c5\">\n",
       "    <script>if(typeof Plotly !== \"undefined\"){\n",
       "    Plotly.react(\n",
       "            'space.kscience.plotly.Plot@29ce86c5',\n",
       "            [{\"x\":[0,1,2,3,4,5,6,7,8,9,10],\"y\":[0.0,2.0,4.0,6.0,8.0,10.0,12.0,14.0,16.0,18.0,20.0],\"type\":\"scatter\"}],\n",
       "            {},\n",
       "            {\"responsive\":true}\n",
       "        );       \n",
       "} else {\n",
       "    console.error(\"Plotly not loaded\")\n",
       "}</script>\n",
       "  </div>\n",
       "</div>\n"
      ]
     },
     "execution_count": 3,
     "metadata": {},
     "output_type": "execute_result"
    }
   ],
   "source": [
    "val x_values = (0..10)\n",
    "val y_values = x_values.map { 2.0 * it}\n",
    "\n",
    "Plotly.plot {\n",
    "    scatter {\n",
    "        x.set(x_values)\n",
    "        y.set(y_values)\n",
    "    }\n",
    "}"
   ]
  },
  {
   "cell_type": "code",
   "execution_count": 4,
   "id": "d5847ddf-ff0a-4d69-922b-4bb8120aeee1",
   "metadata": {},
   "outputs": [
    {
     "data": {
      "text/html": [
       "<div>\n",
       "  <div id=\"space.kscience.plotly.Plot@36761795\">\n",
       "    <script>if(typeof Plotly !== \"undefined\"){\n",
       "    Plotly.react(\n",
       "            'space.kscience.plotly.Plot@36761795',\n",
       "            [{\"x\":[0,1,2,3,4,5,6,7,8,9,10],\"y\":[1.0,3.0,5.0,7.0,9.0,11.0,13.0,15.0,17.0,19.0,21.0],\"type\":\"scatter\"}],\n",
       "            {},\n",
       "            {\"responsive\":true}\n",
       "        );       \n",
       "} else {\n",
       "    console.error(\"Plotly not loaded\")\n",
       "}</script>\n",
       "  </div>\n",
       "</div>\n"
      ]
     },
     "execution_count": 4,
     "metadata": {},
     "output_type": "execute_result"
    }
   ],
   "source": [
    "val x_values = (0..10)\n",
    "val y_values = x_values.map { 2.0 * it + 1.0}\n",
    "\n",
    "Plotly.plot {\n",
    "    scatter {\n",
    "        x.set(x_values)\n",
    "        y.set(y_values)\n",
    "    }\n",
    "}"
   ]
  },
  {
   "cell_type": "code",
   "execution_count": 41,
   "id": "cfbae2c7-7c4f-460e-8bea-70e72c75f7f9",
   "metadata": {},
   "outputs": [],
   "source": [
    "val x_values = (-20..20)\n",
    "\n",
    "// a linear function\n",
    "fun y1(x : Int): Double {\n",
    "    return 2.0 * x + 1.0;\n",
    "}"
   ]
  },
  {
   "cell_type": "code",
   "execution_count": 6,
   "id": "d2565a19-4d18-4f42-a6e9-b7793053bf1a",
   "metadata": {},
   "outputs": [
    {
     "data": {
      "text/plain": [
       "1.0"
      ]
     },
     "execution_count": 6,
     "metadata": {},
     "output_type": "execute_result"
    }
   ],
   "source": [
    "y1(0)"
   ]
  },
  {
   "cell_type": "code",
   "execution_count": 7,
   "id": "8a2e8e0f-a02b-4495-b30f-f0086c5f6e1d",
   "metadata": {},
   "outputs": [
    {
     "data": {
      "text/plain": [
       "3.0"
      ]
     },
     "execution_count": 7,
     "metadata": {},
     "output_type": "execute_result"
    }
   ],
   "source": [
    "y1(1)"
   ]
  },
  {
   "cell_type": "code",
   "execution_count": 8,
   "id": "90ae1235-007f-419a-bf67-ce4a074b1589",
   "metadata": {},
   "outputs": [
    {
     "data": {
      "text/html": [
       "<div>\n",
       "  <div id=\"space.kscience.plotly.Plot@477c0161\">\n",
       "    <script>if(typeof Plotly !== \"undefined\"){\n",
       "    Plotly.react(\n",
       "            'space.kscience.plotly.Plot@477c0161',\n",
       "            [{\"x\":[-20,-19,-18,-17,-16,-15,-14,-13,-12,-11,-10,-9,-8,-7,-6,-5,-4,-3,-2,-1,0,1,2,3,4,5,6,7,8,9,10,11,12,13,14,15,16,17,18,19,20],\"y\":[-39.0,-37.0,-35.0,-33.0,-31.0,-29.0,-27.0,-25.0,-23.0,-21.0,-19.0,-17.0,-15.0,-13.0,-11.0,-9.0,-7.0,-5.0,-3.0,-1.0,1.0,3.0,5.0,7.0,9.0,11.0,13.0,15.0,17.0,19.0,21.0,23.0,25.0,27.0,29.0,31.0,33.0,35.0,37.0,39.0,41.0],\"type\":\"scatter\"}],\n",
       "            {},\n",
       "            {\"responsive\":true}\n",
       "        );       \n",
       "} else {\n",
       "    console.error(\"Plotly not loaded\")\n",
       "}</script>\n",
       "  </div>\n",
       "</div>\n"
      ]
     },
     "execution_count": 8,
     "metadata": {},
     "output_type": "execute_result"
    }
   ],
   "source": [
    "Plotly.plot {\n",
    "    scatter {\n",
    "        x.set(x_values)\n",
    "        y.set(x_values.map{y1(it)})\n",
    "    }\n",
    "}"
   ]
  },
  {
   "cell_type": "code",
   "execution_count": 42,
   "id": "6d7de473-05cc-4822-8944-49c9ea1fffe2",
   "metadata": {},
   "outputs": [
    {
     "data": {
      "text/html": [
       "<div>\n",
       "  <div id=\"space.kscience.plotly.Plot@2607b455\">\n",
       "    <script>if(typeof Plotly !== \"undefined\"){\n",
       "    Plotly.react(\n",
       "            'space.kscience.plotly.Plot@2607b455',\n",
       "            [{\"x\":[-20,-19,-18,-17,-16,-15,-14,-13,-12,-11,-10,-9,-8,-7,-6,-5,-4,-3,-2,-1,0,1,2,3,4,5,6,7,8,9,10,11,12,13,14,15,16,17,18,19,20],\"y\":[41.0,39.0,37.0,35.0,33.0,31.0,29.0,27.0,25.0,23.0,21.0,19.0,17.0,15.0,13.0,11.0,9.0,7.0,5.0,3.0,1.0,-1.0,-3.0,-5.0,-7.0,-9.0,-11.0,-13.0,-15.0,-17.0,-19.0,-21.0,-23.0,-25.0,-27.0,-29.0,-31.0,-33.0,-35.0,-37.0,-39.0],\"type\":\"scatter\"}],\n",
       "            {\"xaxis\":{\"range\":[-30.0,30.0],\"title\":\"x\"},\"title\":{\"text\":\"a linear function\"},\"yaxis\":{\"range\":[-100.0,100.0],\"title\":\"y\"}},\n",
       "            {\"responsive\":true}\n",
       "        );       \n",
       "} else {\n",
       "    console.error(\"Plotly not loaded\")\n",
       "}</script>\n",
       "  </div>\n",
       "</div>\n"
      ]
     },
     "execution_count": 42,
     "metadata": {},
     "output_type": "execute_result"
    }
   ],
   "source": [
    "val y_values = x_values.map { -2.0 * it + 1.0}\n",
    "\n",
    "Plotly.plot {\n",
    "    scatter {\n",
    "        x.set(x_values)\n",
    "        y.set(y_values)\n",
    "    }\n",
    "    \n",
    "    layout{\n",
    "        title = \"a linear function\"\n",
    "        xaxis {\n",
    "            title = \"x\"\n",
    "            range = -30.0..30.0\n",
    "        }\n",
    "        yaxis {\n",
    "            title = \"y\"\n",
    "            range = -100.0..100.0\n",
    "        }\n",
    "    }\n",
    "}"
   ]
  },
  {
   "cell_type": "code",
   "execution_count": 10,
   "id": "ab457cbc-015d-4b61-af0f-e37e6666c5fe",
   "metadata": {},
   "outputs": [],
   "source": [
    "// the distance function\n",
    "fun distance(t : Int): Double {\n",
    "    return 2.0 * t;\n",
    "}"
   ]
  },
  {
   "cell_type": "code",
   "execution_count": 11,
   "id": "dc1777be-9fb9-47cb-afe9-e4b87258f4fe",
   "metadata": {},
   "outputs": [
    {
     "data": {
      "text/plain": [
       "20.0"
      ]
     },
     "execution_count": 11,
     "metadata": {},
     "output_type": "execute_result"
    }
   ],
   "source": [
    "distance(10)"
   ]
  },
  {
   "cell_type": "code",
   "execution_count": 12,
   "id": "a4ff1ef8-ee15-4189-9aa6-23ad2702d688",
   "metadata": {},
   "outputs": [
    {
     "data": {
      "text/html": [
       "<div>\n",
       "  <div id=\"space.kscience.plotly.Plot@850da9f\">\n",
       "    <script>if(typeof Plotly !== \"undefined\"){\n",
       "    Plotly.react(\n",
       "            'space.kscience.plotly.Plot@850da9f',\n",
       "            [{\"x\":[0,1,2,3,4,5,6,7,8,9,10,11,12,13,14,15,16,17,18,19,20],\"y\":[0.0,2.0,4.0,6.0,8.0,10.0,12.0,14.0,16.0,18.0,20.0,22.0,24.0,26.0,28.0,30.0,32.0,34.0,36.0,38.0,40.0],\"type\":\"scatter\"}],\n",
       "            {},\n",
       "            {\"responsive\":true}\n",
       "        );       \n",
       "} else {\n",
       "    console.error(\"Plotly not loaded\")\n",
       "}</script>\n",
       "  </div>\n",
       "</div>\n"
      ]
     },
     "execution_count": 12,
     "metadata": {},
     "output_type": "execute_result"
    }
   ],
   "source": [
    "// plot the distance graph\n",
    "\n",
    "val t = (0..20)\n",
    "Plotly.plot {\n",
    "    scatter {\n",
    "        x.set(t)\n",
    "        y.set(t.map{distance(it)})\n",
    "    }\n",
    "}"
   ]
  },
  {
   "cell_type": "code",
   "execution_count": 26,
   "id": "ad0c03b5-c2c1-411e-8fc7-4d14cb1e778f",
   "metadata": {},
   "outputs": [],
   "source": [
    "val x_values = arrayOf(-10.0, -5.0, 0.0, 1.0, 2.0, 3.0, 4.0, 5.0, 10.0, 15.0)"
   ]
  },
  {
   "cell_type": "code",
   "execution_count": 27,
   "id": "c1b498b2-391d-4506-8903-07bc9bb37aac",
   "metadata": {},
   "outputs": [
    {
     "data": {
      "text/html": [
       "<div>\n",
       "  <div id=\"space.kscience.plotly.Plot@394ba363\">\n",
       "    <script>if(typeof Plotly !== \"undefined\"){\n",
       "    Plotly.react(\n",
       "            'space.kscience.plotly.Plot@394ba363',\n",
       "            [{\"x\":[-10.0,-5.0,0.0,1.0,2.0,3.0,4.0,5.0,10.0,15.0],\"y\":[400.0,250.0,100.0,70.0,40.0,10.0,-20.0,-50.0,-200.0,-350.0],\"type\":\"scatter\"}],\n",
       "            {},\n",
       "            {\"responsive\":true}\n",
       "        );       \n",
       "} else {\n",
       "    console.error(\"Plotly not loaded\")\n",
       "}</script>\n",
       "  </div>\n",
       "</div>\n"
      ]
     },
     "execution_count": 27,
     "metadata": {},
     "output_type": "execute_result"
    }
   ],
   "source": [
    "Plotly.plot {\n",
    "    scatter {\n",
    "        x.set(x_values)\n",
    "        y.set(x_values.map{line1(it)})\n",
    "    }\n",
    "}"
   ]
  },
  {
   "cell_type": "code",
   "execution_count": 28,
   "id": "b54d3c69-735b-48ad-8b0b-f3855c2a4b00",
   "metadata": {},
   "outputs": [],
   "source": [
    "// define a line function\n",
    "val slope = 3.0\n",
    "val offset = 1.0\n",
    "fun line1(x : Double) : Double {\n",
    "    return slope * x + offset\n",
    "}"
   ]
  },
  {
   "cell_type": "code",
   "execution_count": 29,
   "id": "d0095819-a5b1-4791-b669-155660f053d3",
   "metadata": {},
   "outputs": [
    {
     "data": {
      "text/plain": [
       "1.0"
      ]
     },
     "execution_count": 29,
     "metadata": {},
     "output_type": "execute_result"
    }
   ],
   "source": [
    "line1(0.0)"
   ]
  },
  {
   "cell_type": "code",
   "execution_count": 30,
   "id": "4f5382a5-16f3-4275-9426-caabd2d0a791",
   "metadata": {},
   "outputs": [
    {
     "data": {
      "text/plain": [
       "7.0"
      ]
     },
     "execution_count": 30,
     "metadata": {},
     "output_type": "execute_result"
    }
   ],
   "source": [
    "line1(2.0)"
   ]
  },
  {
   "cell_type": "code",
   "execution_count": 31,
   "id": "7fca4fc8-d148-4ad6-a2b4-d0086155c1ad",
   "metadata": {},
   "outputs": [
    {
     "data": {
      "text/plain": [
       "13.0"
      ]
     },
     "execution_count": 31,
     "metadata": {},
     "output_type": "execute_result"
    }
   ],
   "source": [
    "line1(4.0)"
   ]
  },
  {
   "cell_type": "code",
   "execution_count": 32,
   "id": "bc37e7d5-c96b-49b1-8c82-872805118d3b",
   "metadata": {},
   "outputs": [],
   "source": [
    "val x0 = 0 // the initial position"
   ]
  },
  {
   "cell_type": "code",
   "execution_count": 33,
   "id": "cf85b06c-40e1-451f-9317-01271749e13b",
   "metadata": {},
   "outputs": [],
   "source": [
    "val t = 10 // the time for the process to happen"
   ]
  },
  {
   "cell_type": "code",
   "execution_count": 34,
   "id": "1c7e80ba-3ab8-47df-bf27-8c314252fb8a",
   "metadata": {},
   "outputs": [],
   "source": [
    "val x1 = 10 // the new or final position"
   ]
  },
  {
   "cell_type": "code",
   "execution_count": 35,
   "id": "1c8061aa-0a26-499b-8622-6ee3e45f977e",
   "metadata": {},
   "outputs": [],
   "source": [
    "val s = (x1 - x0) / t // speed"
   ]
  },
  {
   "cell_type": "code",
   "execution_count": 36,
   "id": "d95e31ba-0ee6-4b15-950b-124c1f947963",
   "metadata": {},
   "outputs": [],
   "source": [
    "// distance function\n",
    "\n",
    "val initial_position = 0\n",
    "fun distance(speed : Double, time : Double) : Double {\n",
    "    val x1 = speed*time + initial_position;\n",
    "    return x1;\n",
    "}"
   ]
  },
  {
   "cell_type": "code",
   "execution_count": 37,
   "id": "f0841688-eab0-41b6-abcb-9d7314deb510",
   "metadata": {},
   "outputs": [
    {
     "data": {
      "text/plain": [
       "200.0"
      ]
     },
     "execution_count": 37,
     "metadata": {},
     "output_type": "execute_result"
    }
   ],
   "source": [
    "distance(2.0, 100.0)"
   ]
  },
  {
   "cell_type": "code",
   "execution_count": null,
   "id": "9660ca06-b1e5-4330-bb46-11dda540e76b",
   "metadata": {},
   "outputs": [],
   "source": []
  }
 ],
 "metadata": {
  "kernelspec": {
   "display_name": "Kotlin",
   "language": "kotlin",
   "name": "python3"
  },
  "language_info": {
   "codemirror_mode": "text/x-kotlin",
   "file_extension": ".kt",
   "mimetype": "text/x-kotlin",
   "name": "kotlin",
   "nbconvert_exporter": "",
   "pygments_lexer": "kotlin",
   "version": "1.6.20-dev-6372"
  }
 },
 "nbformat": 4,
 "nbformat_minor": 5
}
