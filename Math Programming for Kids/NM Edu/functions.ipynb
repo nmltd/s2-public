{
 "cells": [
  {
   "cell_type": "code",
   "execution_count": 1,
   "id": "7f1be60e-55cc-4da2-ac3a-b3cb6e4ef7d9",
   "metadata": {},
   "outputs": [
    {
     "data": {
      "text/plain": [
       "2"
      ]
     },
     "execution_count": 1,
     "metadata": {},
     "output_type": "execute_result"
    }
   ],
   "source": [
    "// doing arithmetics\n",
    "1 + 1"
   ]
  },
  {
   "cell_type": "code",
   "execution_count": 2,
   "id": "4c92ea39-eacb-4c6b-bc42-4af635488165",
   "metadata": {},
   "outputs": [
    {
     "data": {
      "text/plain": [
       "4"
      ]
     },
     "execution_count": 2,
     "metadata": {},
     "output_type": "execute_result"
    }
   ],
   "source": [
    "2 * 2"
   ]
  },
  {
   "cell_type": "code",
   "execution_count": 3,
   "id": "81dacedc-48ef-4f78-aebf-53ec20b83a8e",
   "metadata": {},
   "outputs": [
    {
     "data": {
      "text/plain": [
       "3"
      ]
     },
     "execution_count": 3,
     "metadata": {},
     "output_type": "execute_result"
    }
   ],
   "source": [
    "6 / 2"
   ]
  },
  {
   "cell_type": "code",
   "execution_count": 4,
   "id": "97d24a8a-c7c9-4701-ae2c-89364122281f",
   "metadata": {},
   "outputs": [
    {
     "data": {
      "text/plain": [
       "3.0"
      ]
     },
     "execution_count": 4,
     "metadata": {},
     "output_type": "execute_result"
    }
   ],
   "source": [
    "6.0 / 2"
   ]
  },
  {
   "cell_type": "code",
   "execution_count": 5,
   "id": "6f9ac08e-f27f-462a-b978-f28bd5d467e3",
   "metadata": {},
   "outputs": [
    {
     "data": {
      "text/plain": [
       "1"
      ]
     },
     "execution_count": 5,
     "metadata": {},
     "output_type": "execute_result"
    }
   ],
   "source": [
    "6/4"
   ]
  },
  {
   "cell_type": "code",
   "execution_count": 6,
   "id": "20d050b7-1807-4158-b4d4-66cf130241bf",
   "metadata": {},
   "outputs": [],
   "source": [
    "// define a constant\n",
    "val A = 1.0"
   ]
  },
  {
   "cell_type": "code",
   "execution_count": 7,
   "id": "2f9a6718-ee06-418f-9bc9-28e34379718d",
   "metadata": {},
   "outputs": [],
   "source": [
    "val B = 2.0"
   ]
  },
  {
   "cell_type": "code",
   "execution_count": 8,
   "id": "1706f513-2bda-48b3-b00a-58c9e7436263",
   "metadata": {},
   "outputs": [
    {
     "data": {
      "text/plain": [
       "3.0"
      ]
     },
     "execution_count": 8,
     "metadata": {},
     "output_type": "execute_result"
    }
   ],
   "source": [
    "A + B"
   ]
  },
  {
   "cell_type": "code",
   "execution_count": 9,
   "id": "5ef9be6a-0b82-428f-8438-28385d550ecc",
   "metadata": {},
   "outputs": [],
   "source": [
    "// define a changable variable\n",
    "var x : Double = 1.0"
   ]
  },
  {
   "cell_type": "code",
   "execution_count": 10,
   "id": "be4c0ab3-74fe-442d-814c-cd7fabde6c5e",
   "metadata": {},
   "outputs": [
    {
     "data": {
      "text/plain": [
       "2.0"
      ]
     },
     "execution_count": 10,
     "metadata": {},
     "output_type": "execute_result"
    }
   ],
   "source": [
    "x = x + 1\n",
    "x"
   ]
  },
  {
   "cell_type": "code",
   "execution_count": 11,
   "id": "9593581b-4a87-4b9c-ae93-ee9edcdcf25c",
   "metadata": {},
   "outputs": [
    {
     "data": {
      "text/plain": [
       "Hello World"
      ]
     },
     "execution_count": 11,
     "metadata": {},
     "output_type": "execute_result"
    }
   ],
   "source": [
    "\"Hello World\""
   ]
  },
  {
   "cell_type": "code",
   "execution_count": 7,
   "id": "1756e7c6-48c2-4986-a159-678d1153ba3a",
   "metadata": {},
   "outputs": [],
   "source": [
    "// define the identity function\n",
    "fun same(x : String) : String {\n",
    "    return x;\n",
    "}"
   ]
  },
  {
   "cell_type": "code",
   "execution_count": 8,
   "id": "f6915635-c638-43de-aa3d-93c31c647510",
   "metadata": {},
   "outputs": [
    {
     "data": {
      "text/plain": [
       "hello"
      ]
     },
     "execution_count": 8,
     "metadata": {},
     "output_type": "execute_result"
    }
   ],
   "source": [
    "same(\"hello\")"
   ]
  },
  {
   "cell_type": "code",
   "execution_count": 5,
   "id": "7c5a9a33-d757-424c-8443-48520cc82e10",
   "metadata": {},
   "outputs": [],
   "source": [
    "// define a function\n",
    "fun hello(x : String) : String {\n",
    "    return \"Hello \" + x;\n",
    "}"
   ]
  },
  {
   "cell_type": "code",
   "execution_count": 6,
   "id": "3985c724-8d18-42fd-a289-6d38eda4d4dc",
   "metadata": {},
   "outputs": [
    {
     "data": {
      "text/plain": [
       "Hello World"
      ]
     },
     "execution_count": 6,
     "metadata": {},
     "output_type": "execute_result"
    }
   ],
   "source": [
    "hello(\"World\")"
   ]
  },
  {
   "cell_type": "code",
   "execution_count": null,
   "id": "295a9e06-5983-4311-90e0-aacc73dacc35",
   "metadata": {},
   "outputs": [],
   "source": []
  }
 ],
 "metadata": {
  "kernelspec": {
   "display_name": "Kotlin",
   "language": "kotlin",
   "name": "kotlin"
  },
  "language_info": {
   "codemirror_mode": "text/x-kotlin",
   "file_extension": ".kt",
   "mimetype": "text/x-kotlin",
   "name": "kotlin",
   "nbconvert_exporter": "",
   "pygments_lexer": "kotlin",
   "version": "1.6.20-dev-6372"
  }
 },
 "nbformat": 4,
 "nbformat_minor": 5
}
