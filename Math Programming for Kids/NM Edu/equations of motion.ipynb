{
 "cells": [
  {
   "cell_type": "code",
   "execution_count": 21,
   "id": "311d0e99-22b6-48fa-8388-f18cb1fa921b",
   "metadata": {},
   "outputs": [],
   "source": [
    "// the distance function\n",
    "fun distance(speed : Double, time : Double): Double {\n",
    "    return speed * time;\n",
    "}"
   ]
  },
  {
   "cell_type": "code",
   "execution_count": 22,
   "id": "c6f2e7ca-d164-4a96-befb-ab3f29cb8077",
   "metadata": {},
   "outputs": [
    {
     "data": {
      "text/plain": [
       "2.0"
      ]
     },
     "execution_count": 22,
     "metadata": {},
     "output_type": "execute_result"
    }
   ],
   "source": [
    "distance(1.0, 2.0)"
   ]
  },
  {
   "cell_type": "code",
   "execution_count": 23,
   "id": "b6242c4a-242f-480f-909f-040335c49c0b",
   "metadata": {},
   "outputs": [],
   "source": [
    "// the distance function for a constant speed\n",
    "fun distance1(time : Double): Double {\n",
    "    val v = 1.0; // 1 m/s\n",
    "    val d = distance(v, time);\n",
    "    return d;\n",
    "}"
   ]
  },
  {
   "cell_type": "code",
   "execution_count": 24,
   "id": "29e2fc68-ec04-4eb9-a841-d3e013d0c328",
   "metadata": {},
   "outputs": [
    {
     "data": {
      "text/plain": [
       "10.0"
      ]
     },
     "execution_count": 24,
     "metadata": {},
     "output_type": "execute_result"
    }
   ],
   "source": [
    "distance1(10.0) // in 10 seconds"
   ]
  },
  {
   "cell_type": "code",
   "execution_count": 17,
   "id": "a2c75aec-b7f9-413a-b8ed-dad8395af4fb",
   "metadata": {},
   "outputs": [
    {
     "data": {
      "text/plain": [
       "20.0"
      ]
     },
     "execution_count": 17,
     "metadata": {},
     "output_type": "execute_result"
    }
   ],
   "source": [
    "distance1(20.0) // in 20 seconds"
   ]
  },
  {
   "cell_type": "code",
   "execution_count": 70,
   "id": "b0bbd31e-939d-4b0f-98e7-e06f234ebaf3",
   "metadata": {},
   "outputs": [
    {
     "data": {
      "text/plain": [
       "[0.0, 1.0, 2.0, 3.0, 4.0, 5.0, 6.0, 7.0, 8.0, 9.0, 10.0, 11.0, 12.0, 13.0, 14.0, 15.0, 16.0, 17.0, 18.0, 19.0, 20.0]"
      ]
     },
     "execution_count": 70,
     "metadata": {},
     "output_type": "execute_result"
    }
   ],
   "source": [
    "// moving at constant speed over time\n",
    "(0..20).map { distance1(it.toDouble()) }"
   ]
  },
  {
   "cell_type": "code",
   "execution_count": 71,
   "id": "54f3b6d4-5888-49e0-a8a7-7c755f2189ae",
   "metadata": {},
   "outputs": [
    {
     "data": {
      "text/html": [
       "<div>\n",
       "  <div id=\"space.kscience.plotly.Plot@5b6ce563\">\n",
       "    <script>if(typeof Plotly !== \"undefined\"){\n",
       "    Plotly.react(\n",
       "            'space.kscience.plotly.Plot@5b6ce563',\n",
       "            [{\"x\":[0,1,2,3,4,5,6,7,8,9,10,11,12,13,14,15,16,17,18,19,20],\"y\":[0.0,1.0,2.0,3.0,4.0,5.0,6.0,7.0,8.0,9.0,10.0,11.0,12.0,13.0,14.0,15.0,16.0,17.0,18.0,19.0,20.0],\"type\":\"scatter\"}],\n",
       "            {},\n",
       "            {\"responsive\":true}\n",
       "        );       \n",
       "} else {\n",
       "    console.error(\"Plotly not loaded\")\n",
       "}</script>\n",
       "  </div>\n",
       "</div>\n"
      ]
     },
     "execution_count": 71,
     "metadata": {},
     "output_type": "execute_result"
    }
   ],
   "source": [
    "// plot the distance curve\n",
    "%use plotly\n",
    "\n",
    "val t = (0..20)\n",
    "\n",
    "Plotly.plot {\n",
    "    scatter {\n",
    "        x.set(t)\n",
    "        y.set(t.map { distance1(it.toDouble()) })\n",
    "    }\n",
    "}"
   ]
  },
  {
   "cell_type": "code",
   "execution_count": 33,
   "id": "14c72374-79d2-4d9b-a6d3-0054f1d4e10b",
   "metadata": {},
   "outputs": [],
   "source": [
    "// the speed function\n",
    "fun velocity(v0 : Double, acceleration : Double, time : Double) : Double {\n",
    "    val v1 = v0 + acceleration * time;\n",
    "    return v1\n",
    "}"
   ]
  },
  {
   "cell_type": "code",
   "execution_count": 34,
   "id": "57375639-c6db-4afd-807b-48b7cba39c26",
   "metadata": {},
   "outputs": [],
   "source": [
    "fun velocity1(time : Double) : Double {\n",
    "    val v1 = velocity(0.0, 1.0, time); // v0 = 0 m/s; a = 1 m/s^2\n",
    "    return v1;\n",
    "}"
   ]
  },
  {
   "cell_type": "code",
   "execution_count": 72,
   "id": "afe62016-12ef-411f-bbd4-47059cdec1f5",
   "metadata": {},
   "outputs": [
    {
     "data": {
      "text/html": [
       "<div>\n",
       "  <div id=\"space.kscience.plotly.Plot@6e2d8ec6\">\n",
       "    <script>if(typeof Plotly !== \"undefined\"){\n",
       "    Plotly.react(\n",
       "            'space.kscience.plotly.Plot@6e2d8ec6',\n",
       "            [{\"x\":[0,1,2,3,4,5,6,7,8,9,10,11,12,13,14,15,16,17,18,19,20],\"y\":[0.0,1.0,2.0,3.0,4.0,5.0,6.0,7.0,8.0,9.0,10.0,11.0,12.0,13.0,14.0,15.0,16.0,17.0,18.0,19.0,20.0],\"type\":\"scatter\"}],\n",
       "            {},\n",
       "            {\"responsive\":true}\n",
       "        );       \n",
       "} else {\n",
       "    console.error(\"Plotly not loaded\")\n",
       "}</script>\n",
       "  </div>\n",
       "</div>\n"
      ]
     },
     "execution_count": 72,
     "metadata": {},
     "output_type": "execute_result"
    }
   ],
   "source": [
    "// plot the speed function\n",
    "val t = (0..20)\n",
    "\n",
    "Plotly.plot {\n",
    "    scatter {\n",
    "        x.set(t)\n",
    "        y.set(t.map { distance1(it.toDouble()) })\n",
    "    }\n",
    "}"
   ]
  },
  {
   "cell_type": "code",
   "execution_count": 42,
   "id": "3f41db26-5b31-42bf-98b7-21ab8415bb4e",
   "metadata": {},
   "outputs": [],
   "source": [
    "// average velocity\n",
    "fun velocity_average(v0 : Double, v1 : Double) : Double {\n",
    "    val avg = (v0 + v1) / 2.0;\n",
    "    return avg;\n",
    "}"
   ]
  },
  {
   "cell_type": "code",
   "execution_count": 43,
   "id": "c10d6d7e-2551-49e3-b6bb-4050b3bc708c",
   "metadata": {},
   "outputs": [],
   "source": [
    "// average velocity in terms of time\n",
    "fun velocity_average1(v0 : Double, time : Double) : Double {\n",
    "    val v1 = velocity1(time);\n",
    "    val avg = velocity_average(v0, v1);\n",
    "    return avg;\n",
    "}"
   ]
  },
  {
   "cell_type": "code",
   "execution_count": 73,
   "id": "fc3e8ded-f729-42f6-ba2b-5da614c41019",
   "metadata": {},
   "outputs": [
    {
     "data": {
      "text/html": [
       "<div>\n",
       "  <div id=\"space.kscience.plotly.Plot@6964d5cd\">\n",
       "    <script>if(typeof Plotly !== \"undefined\"){\n",
       "    Plotly.react(\n",
       "            'space.kscience.plotly.Plot@6964d5cd',\n",
       "            [{\"x\":[0,1,2,3,4,5,6,7,8,9,10,11,12,13,14,15,16,17,18,19,20],\"y\":[0.0,0.5,1.0,1.5,2.0,2.5,3.0,3.5,4.0,4.5,5.0,5.5,6.0,6.5,7.0,7.5,8.0,8.5,9.0,9.5,10.0],\"type\":\"scatter\"}],\n",
       "            {},\n",
       "            {\"responsive\":true}\n",
       "        );       \n",
       "} else {\n",
       "    console.error(\"Plotly not loaded\")\n",
       "}</script>\n",
       "  </div>\n",
       "</div>\n"
      ]
     },
     "execution_count": 73,
     "metadata": {},
     "output_type": "execute_result"
    }
   ],
   "source": [
    "// plot the average speed function\n",
    "val t = (0..20)\n",
    "\n",
    "Plotly.plot {\n",
    "    scatter {\n",
    "        x.set(t)\n",
    "        y.set(t.map { velocity_average1(0.0, it.toDouble()) })\n",
    "    }\n",
    "}"
   ]
  },
  {
   "cell_type": "code",
   "execution_count": 44,
   "id": "465a3128-6a31-48dd-9aef-c32fd52ae1f4",
   "metadata": {},
   "outputs": [],
   "source": [
    "// the distance function for a constant acceleration\n",
    "fun distance2(time : Double): Double {\n",
    "    val v = velocity_average1(0.0, time)\n",
    "    val d = distance(v, time);\n",
    "    return d;\n",
    "}"
   ]
  },
  {
   "cell_type": "code",
   "execution_count": 69,
   "id": "ed540953-8a8c-420d-9fd4-82f9cb1d3a8a",
   "metadata": {},
   "outputs": [
    {
     "data": {
      "text/html": [
       "<div>\n",
       "  <div id=\"space.kscience.plotly.Plot@13c3d24e\">\n",
       "    <script>if(typeof Plotly !== \"undefined\"){\n",
       "    Plotly.react(\n",
       "            'space.kscience.plotly.Plot@13c3d24e',\n",
       "            [{\"x\":[0,1,2,3,4,5,6,7,8,9,10,11,12,13,14,15,16,17,18,19,20],\"y\":[0.0,0.5,2.0,4.5,8.0,12.5,18.0,24.5,32.0,40.5,50.0,60.5,72.0,84.5,98.0,112.5,128.0,144.5,162.0,180.5,200.0],\"type\":\"scatter\"}],\n",
       "            {},\n",
       "            {\"responsive\":true}\n",
       "        );       \n",
       "} else {\n",
       "    console.error(\"Plotly not loaded\")\n",
       "}</script>\n",
       "  </div>\n",
       "</div>\n"
      ]
     },
     "execution_count": 69,
     "metadata": {},
     "output_type": "execute_result"
    }
   ],
   "source": [
    "val t = (0..20)\n",
    "\n",
    "Plotly.plot {\n",
    "    scatter {\n",
    "        x.set(t)\n",
    "        y.set(t.map { distance2(it.toDouble()) })\n",
    "    }\n",
    "}"
   ]
  },
  {
   "cell_type": "code",
   "execution_count": 68,
   "id": "373e66c8-e028-4261-801c-3a2cef7683cb",
   "metadata": {},
   "outputs": [
    {
     "data": {
      "text/html": [
       "<div>\n",
       "  <div id=\"space.kscience.plotly.Plot@ef97c8d\">\n",
       "    <script>if(typeof Plotly !== \"undefined\"){\n",
       "    Plotly.react(\n",
       "            'space.kscience.plotly.Plot@ef97c8d',\n",
       "            [{\"x\":[0,1,2,3,4,5,6,7,8,9,10],\"name\":\"constant speed\",\"y\":[0.0,1.0,2.0,3.0,4.0,5.0,6.0,7.0,8.0,9.0,10.0],\"type\":\"scatter\"},{\"x\":[0,1,2,3,4,5,6,7,8,9,10],\"name\":\"constant acceleration\",\"y\":[0.0,0.5,2.0,4.5,8.0,12.5,18.0,24.5,32.0,40.5,50.0],\"type\":\"scatter\"}],\n",
       "            {},\n",
       "            {\"responsive\":true}\n",
       "        );       \n",
       "} else {\n",
       "    console.error(\"Plotly not loaded\")\n",
       "}</script>\n",
       "  </div>\n",
       "</div>\n"
      ]
     },
     "execution_count": 68,
     "metadata": {},
     "output_type": "execute_result"
    }
   ],
   "source": [
    "// plot two curves on the same plot\n",
    "val t = (0..10)\n",
    "\n",
    "val trace0 = Scatter {\n",
    "        x.set(t)\n",
    "        y.set(t.map { distance1(it.toDouble()) })\n",
    "        name = \"constant speed\"\n",
    "}\n",
    "\n",
    "\n",
    "val trace1 = Scatter {\n",
    "        x.set(t)\n",
    "        y.set(t.map { distance2(it.toDouble()) })\n",
    "        name = \"constant acceleration\"\n",
    "}\n",
    "\n",
    "// Create plot with both traces\n",
    "Plotly.plot {\n",
    "    traces(trace0, trace1)\n",
    "}"
   ]
  },
  {
   "cell_type": "code",
   "execution_count": null,
   "id": "03ead574-9f41-4a57-b4bc-bf7f83bae870",
   "metadata": {},
   "outputs": [],
   "source": []
  }
 ],
 "metadata": {
  "kernelspec": {
   "display_name": "Kotlin",
   "language": "kotlin",
   "name": "python3"
  },
  "language_info": {
   "codemirror_mode": "text/x-kotlin",
   "file_extension": ".kt",
   "mimetype": "text/x-kotlin",
   "name": "kotlin",
   "nbconvert_exporter": "",
   "pygments_lexer": "kotlin",
   "version": "1.6.20-dev-6372"
  }
 },
 "nbformat": 4,
 "nbformat_minor": 5
}
