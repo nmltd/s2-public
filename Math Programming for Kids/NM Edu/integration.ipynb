{
 "cells": [
  {
   "cell_type": "code",
   "execution_count": null,
   "id": "e8af9f4c-80ff-4f6c-876d-ddb77a137435",
   "metadata": {},
   "outputs": [],
   "source": [
    "// the three-leg speed function\n",
    "fun speed(t : Double): Double { // t = time\n",
    "    if (t <= 5.0) {\n",
    "        return 1.0;\n",
    "    }\n",
    "    else if (t <= 10.0) { // t > 5.0\n",
    "        return 5.0;\n",
    "    }\n",
    "    else { // t > 10.0\n",
    "        return 3.0;\n",
    "    }\n",
    "}"
   ]
  }
 ],
 "metadata": {
  "kernelspec": {
   "display_name": "Kotlin",
   "language": "kotlin",
   "name": "python3"
  },
  "language_info": {
   "codemirror_mode": "text/x-kotlin",
   "file_extension": ".kt",
   "mimetype": "text/x-kotlin",
   "name": "kotlin",
   "nbconvert_exporter": "",
   "pygments_lexer": "kotlin",
   "version": "1.6.20-dev-6372"
  }
 },
 "nbformat": 4,
 "nbformat_minor": 5
}
