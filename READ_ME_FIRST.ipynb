{
 "cells": [
  {
   "cell_type": "markdown",
   "metadata": {},
   "source": [
    "<h1>\n",
    "Quick Start Guide for S2\n",
    "</h1>\n",
    "\n",
    "<p>\n",
    "This is a quick tutorial on how to use S2. S2 uses the Kotlin language as the \"glue\" language to call a (large) number of Java Virtual Machine (JVM) based math, engineering and data science libraries. S2 uses <a title=\"NM Dev numerical libray\" href=\"https://nm.dev\" target=\"_blank\" rel=\"noopener\">NM Dev numerical libray</a> at its core to define the interfaces (or contracts) of some fundamental math concepts such as functions so that different libraries are interoperable (aka. they talk to each other). S2 comes also with a number of databases, e.g., financial data, that you can use. To use S2, all you need to know is (1) Kotlin and (2) the API of the classes/models/algorithms/data that you are interested in. S2 is meant to be a (very) simple language and platform for you to do data science using interactive programming. Once you finish coding in S2, you can build your code to binaries so that it runs anywhere on JVM.\n",
    "</p>\n",
    "\n",
    "<p>\n",
    "Happy coding!\n",
    "</p>\n"
   ]
  },
  {
   "cell_type": "markdown",
   "metadata": {},
   "source": [
    "<h2>Basic Kotlin</h2>\n",
    "\n",
    "The best way to learn a new language is by examples. I had never read a single tutorial on how to code in Kotlin but I was able to code up all the examples you see here just by copy-and-pasting code. :) So, I collect a number of often used syntax for you to get started. They seem to be enough to do most of the math in the examples. Hit \"SHIFT+ENTER\" in any cell to execute the code in the cell.\n",
    "\n",
    "For a proper introduction to coding in Kotlin, see <a title=\"Kotlin docs\" href=\"https://kotlinlang.org/docs/home.html\" target=\"_blank\" rel=\"noopener\">Kotlin docs</a> (which I confess that I have never read it). "
   ]
  },
  {
   "cell_type": "code",
   "execution_count": 23,
   "metadata": {},
   "outputs": [
    {
     "data": {
      "text/plain": [
       "2"
      ]
     },
     "execution_count": 23,
     "metadata": {},
     "output_type": "execute_result"
    }
   ],
   "source": [
    "// doing arithmetics\n",
    "1 + 1"
   ]
  },
  {
   "cell_type": "code",
   "execution_count": 2,
   "metadata": {},
   "outputs": [
    {
     "data": {
      "text/plain": [
       "4"
      ]
     },
     "execution_count": 2,
     "metadata": {},
     "output_type": "execute_result"
    }
   ],
   "source": [
    "2 * 2"
   ]
  },
  {
   "cell_type": "code",
   "execution_count": 3,
   "metadata": {},
   "outputs": [
    {
     "data": {
      "text/plain": [
       "1.0"
      ]
     },
     "execution_count": 3,
     "metadata": {},
     "output_type": "execute_result"
    }
   ],
   "source": [
    "// a real number (or Double) must have a decimal point\n",
    "// 1 is not a Double (error); 1. is not a Double (error); 1.0 *is* a Double\n",
    "1.0"
   ]
  },
  {
   "cell_type": "code",
   "execution_count": 4,
   "metadata": {},
   "outputs": [
    {
     "data": {
      "text/plain": [
       "3.0"
      ]
     },
     "execution_count": 4,
     "metadata": {},
     "output_type": "execute_result"
    }
   ],
   "source": [
    "6.0 / 2"
   ]
  },
  {
   "cell_type": "code",
   "execution_count": 5,
   "metadata": {},
   "outputs": [],
   "source": [
    "// define a constant\n",
    "val A = 1.0"
   ]
  },
  {
   "cell_type": "code",
   "execution_count": 6,
   "metadata": {},
   "outputs": [],
   "source": [
    "val B = 2.0"
   ]
  },
  {
   "cell_type": "code",
   "execution_count": 7,
   "metadata": {},
   "outputs": [
    {
     "data": {
      "text/plain": [
       "3.0"
      ]
     },
     "execution_count": 7,
     "metadata": {},
     "output_type": "execute_result"
    }
   ],
   "source": [
    "A + B"
   ]
  },
  {
   "cell_type": "code",
   "execution_count": 8,
   "metadata": {},
   "outputs": [],
   "source": [
    "// define a changable variable\n",
    "var x : Double = 1.0"
   ]
  },
  {
   "cell_type": "code",
   "execution_count": 9,
   "metadata": {},
   "outputs": [
    {
     "data": {
      "text/plain": [
       "2.0"
      ]
     },
     "execution_count": 9,
     "metadata": {},
     "output_type": "execute_result"
    }
   ],
   "source": [
    "x = x + 1\n",
    "x"
   ]
  },
  {
   "cell_type": "code",
   "execution_count": 10,
   "metadata": {},
   "outputs": [
    {
     "name": "stdout",
     "output_type": "stream",
     "text": [
      "1\n",
      "2\n",
      "3\n"
     ]
    }
   ],
   "source": [
    "// a loop\n",
    "for (i in 1..3) {\n",
    "    println(i)\n",
    "}"
   ]
  },
  {
   "cell_type": "code",
   "execution_count": 18,
   "metadata": {},
   "outputs": [
    {
     "name": "stdout",
     "output_type": "stream",
     "text": [
      "[1.0, 2.0, 3.0, 4.0, 5.0]\n",
      "1.0\n",
      "2.0\n",
      "3.0\n",
      "4.0\n",
      "5.0\n"
     ]
    }
   ],
   "source": [
    "// array\n",
    "val arr1 = arrayOf(1.0, 2.0, 3.0, 4.0, 5.0)\n",
    "println(java.util.Arrays.toString(arr1)) // can also use: import java.util.Arrays \n",
    "for (i in arr1) {\n",
    "    println(i)\n",
    "}"
   ]
  },
  {
   "cell_type": "code",
   "execution_count": 21,
   "metadata": {},
   "outputs": [
    {
     "data": {
      "text/plain": [
       "3.0"
      ]
     },
     "execution_count": 21,
     "metadata": {},
     "output_type": "execute_result"
    }
   ],
   "source": [
    "// define a function\n",
    "fun add1(x : Double) : Double {\n",
    "    return x + 1.0\n",
    "}\n",
    "add1(2.0)"
   ]
  },
  {
   "cell_type": "markdown",
   "metadata": {},
   "source": [
    "<h2> Doing Math </h2>\n",
    "\n",
    "On the left panel is a large collection of <a title=\"S2 examples\" href=\"https://s20.nm.dev/#/home\" target=\"_blank\">S2 examples</a> to show you how to call the (many) libraries supported by S2 from simple linear algebra to machine learning (and growing). I copy and paste some of the simpler snippets here to show case how to do math using S2. You can click into the examples and execute them (by hitting SHIFT+ENTER in the cells)."
   ]
  },
  {
   "cell_type": "code",
   "execution_count": null,
   "metadata": {},
   "outputs": [],
   "source": [
    "// ALWAYS START THIS MAGICAL KEYWORD USING S2 or nothing will work\n",
    "%use s2"
   ]
  },
  {
   "cell_type": "code",
   "execution_count": 36,
   "metadata": {},
   "outputs": [
    {
     "name": "stdout",
     "output_type": "stream",
     "text": [
      "[1.100000, -2.200000, 3.300000] \n",
      "2x3\n",
      "\t[,1] [,2] [,3] \n",
      "[1,] 1.000000, 2.000000, 3.000000, \n",
      "[2,] 4.000000, 5.000000, 6.000000, \n",
      "[6.600000, 13.200000] \n"
     ]
    }
   ],
   "source": [
    "// define a vector\n",
    "var v = DenseVector(arrayOf(1.1, -2.2, 3.3))\n",
    "println(v)\n",
    "\n",
    "// define a matrix\n",
    "var A = DenseMatrix(arrayOf(\n",
    "    doubleArrayOf(1.0, 2.0, 3.0),\n",
    "    doubleArrayOf(4.0, 5.0, 6.0)))\n",
    "println(A)\n",
    "\n",
    "// B = Av\n",
    "val B = A.multiply(v)\n",
    "println(B)"
   ]
  },
  {
   "cell_type": "code",
   "execution_count": 52,
   "metadata": {},
   "outputs": [
    {
     "name": "stdout",
     "output_type": "stream",
     "text": [
      "f(-0.998535) = 0.000002\n"
     ]
    }
   ],
   "source": [
    "// define a function f(x)\n",
    "val f: UnivariateRealFunction = object : AbstractUnivariateRealFunction() {\n",
    "    override fun evaluate(x: Double): Double {\n",
    "        return x.pow(2) + 2*x + 1 // x^2 + 2x + 1\n",
    "    }\n",
    "}\n",
    "\n",
    "// find root for a function\n",
    "val solver = NewtonRoot(1e-9, 10)\n",
    "val root: Double = solver.solve(f, 0.5)\n",
    "println(String.format(\"f(%f) = %f\", root, f.evaluate(root)))"
   ]
  },
  {
   "cell_type": "code",
   "execution_count": 48,
   "metadata": {},
   "outputs": [
    {
     "data": {
      "image/svg+xml": [
       "<?xml version=\"1.0\" encoding=\"utf-8\"  standalone=\"no\"?>\n",
       "<svg \n",
       " width=\"600\" height=\"400\"\n",
       " viewBox=\"0 0 600 400\"\n",
       " xmlns=\"http://www.w3.org/2000/svg\"\n",
       " xmlns:xlink=\"http://www.w3.org/1999/xlink\"\n",
       ">\n",
       "\n",
       "<title>Gnuplot</title>\n",
       "<desc>Produced by GNUPLOT 5.2 patchlevel 8 </desc>\n",
       "\n",
       "<g id=\"gnuplot_canvas\">\n",
       "\n",
       "<rect x=\"0\" y=\"0\" width=\"600\" height=\"400\" fill=\"none\"/>\n",
       "<defs>\n",
       "\n",
       "\t<circle id='gpDot' r='0.5' stroke-width='0.5' stroke='currentColor'/>\n",
       "\t<path id='gpPt0' stroke-width='0.222' stroke='currentColor' d='M-1,0 h2 M0,-1 v2'/>\n",
       "\t<path id='gpPt1' stroke-width='0.222' stroke='currentColor' d='M-1,-1 L1,1 M1,-1 L-1,1'/>\n",
       "\t<path id='gpPt2' stroke-width='0.222' stroke='currentColor' d='M-1,0 L1,0 M0,-1 L0,1 M-1,-1 L1,1 M-1,1 L1,-1'/>\n",
       "\t<rect id='gpPt3' stroke-width='0.222' stroke='currentColor' x='-1' y='-1' width='2' height='2'/>\n",
       "\t<rect id='gpPt4' stroke-width='0.222' stroke='currentColor' fill='currentColor' x='-1' y='-1' width='2' height='2'/>\n",
       "\t<circle id='gpPt5' stroke-width='0.222' stroke='currentColor' cx='0' cy='0' r='1'/>\n",
       "\t<use xlink:href='#gpPt5' id='gpPt6' fill='currentColor' stroke='none'/>\n",
       "\t<path id='gpPt7' stroke-width='0.222' stroke='currentColor' d='M0,-1.33 L-1.33,0.67 L1.33,0.67 z'/>\n",
       "\t<use xlink:href='#gpPt7' id='gpPt8' fill='currentColor' stroke='none'/>\n",
       "\t<use xlink:href='#gpPt7' id='gpPt9' stroke='currentColor' transform='rotate(180)'/>\n",
       "\t<use xlink:href='#gpPt9' id='gpPt10' fill='currentColor' stroke='none'/>\n",
       "\t<use xlink:href='#gpPt3' id='gpPt11' stroke='currentColor' transform='rotate(45)'/>\n",
       "\t<use xlink:href='#gpPt11' id='gpPt12' fill='currentColor' stroke='none'/>\n",
       "\t<path id='gpPt13' stroke-width='0.222' stroke='currentColor' d='M0,1.330 L1.265,0.411 L0.782,-1.067 L-0.782,-1.076 L-1.265,0.411 z'/>\n",
       "\t<use xlink:href='#gpPt13' id='gpPt14' fill='currentColor' stroke='none'/>\n",
       "\t<filter id='textbox' filterUnits='objectBoundingBox' x='0' y='0' height='1' width='1'>\n",
       "\t  <feFlood flood-color='white' flood-opacity='1' result='bgnd'/>\n",
       "\t  <feComposite in='SourceGraphic' in2='bgnd' operator='atop'/>\n",
       "\t</filter>\n",
       "\t<filter id='greybox' filterUnits='objectBoundingBox' x='0' y='0' height='1' width='1'>\n",
       "\t  <feFlood flood-color='lightgrey' flood-opacity='1' result='grey'/>\n",
       "\t  <feComposite in='SourceGraphic' in2='grey' operator='atop'/>\n",
       "\t</filter>\n",
       "</defs>\n",
       "<g fill=\"none\" color=\"white\" stroke=\"currentColor\" stroke-width=\"1.00\" stroke-linecap=\"butt\" stroke-linejoin=\"miter\">\n",
       "</g>\n",
       "<g fill=\"none\" color=\"black\" stroke=\"currentColor\" stroke-width=\"1.00\" stroke-linecap=\"butt\" stroke-linejoin=\"miter\">\n",
       "\t<path stroke='black'  d='M53.9,364.0 L62.9,364.0 M575.0,364.0 L566.0,364.0  '/>\t<g transform=\"translate(45.6,367.9)\" stroke=\"none\" fill=\"black\" font-family=\"Arial\" font-size=\"12.00\"  text-anchor=\"end\">\n",
       "\t\t<text><tspan font-family=\"Arial\" > 0</tspan></text>\n",
       "\t</g>\n",
       "</g>\n",
       "<g fill=\"none\" color=\"black\" stroke=\"currentColor\" stroke-width=\"1.00\" stroke-linecap=\"butt\" stroke-linejoin=\"miter\">\n",
       "\t<path stroke='black'  d='M53.9,314.6 L62.9,314.6 M575.0,314.6 L566.0,314.6  '/>\t<g transform=\"translate(45.6,318.5)\" stroke=\"none\" fill=\"black\" font-family=\"Arial\" font-size=\"12.00\"  text-anchor=\"end\">\n",
       "\t\t<text><tspan font-family=\"Arial\" > 20</tspan></text>\n",
       "\t</g>\n",
       "</g>\n",
       "<g fill=\"none\" color=\"black\" stroke=\"currentColor\" stroke-width=\"1.00\" stroke-linecap=\"butt\" stroke-linejoin=\"miter\">\n",
       "\t<path stroke='black'  d='M53.9,265.2 L62.9,265.2 M575.0,265.2 L566.0,265.2  '/>\t<g transform=\"translate(45.6,269.1)\" stroke=\"none\" fill=\"black\" font-family=\"Arial\" font-size=\"12.00\"  text-anchor=\"end\">\n",
       "\t\t<text><tspan font-family=\"Arial\" > 40</tspan></text>\n",
       "\t</g>\n",
       "</g>\n",
       "<g fill=\"none\" color=\"black\" stroke=\"currentColor\" stroke-width=\"1.00\" stroke-linecap=\"butt\" stroke-linejoin=\"miter\">\n",
       "\t<path stroke='black'  d='M53.9,215.8 L62.9,215.8 M575.0,215.8 L566.0,215.8  '/>\t<g transform=\"translate(45.6,219.7)\" stroke=\"none\" fill=\"black\" font-family=\"Arial\" font-size=\"12.00\"  text-anchor=\"end\">\n",
       "\t\t<text><tspan font-family=\"Arial\" > 60</tspan></text>\n",
       "\t</g>\n",
       "</g>\n",
       "<g fill=\"none\" color=\"black\" stroke=\"currentColor\" stroke-width=\"1.00\" stroke-linecap=\"butt\" stroke-linejoin=\"miter\">\n",
       "\t<path stroke='black'  d='M53.9,166.3 L62.9,166.3 M575.0,166.3 L566.0,166.3  '/>\t<g transform=\"translate(45.6,170.2)\" stroke=\"none\" fill=\"black\" font-family=\"Arial\" font-size=\"12.00\"  text-anchor=\"end\">\n",
       "\t\t<text><tspan font-family=\"Arial\" > 80</tspan></text>\n",
       "\t</g>\n",
       "</g>\n",
       "<g fill=\"none\" color=\"black\" stroke=\"currentColor\" stroke-width=\"1.00\" stroke-linecap=\"butt\" stroke-linejoin=\"miter\">\n",
       "\t<path stroke='black'  d='M53.9,116.9 L62.9,116.9 M575.0,116.9 L566.0,116.9  '/>\t<g transform=\"translate(45.6,120.8)\" stroke=\"none\" fill=\"black\" font-family=\"Arial\" font-size=\"12.00\"  text-anchor=\"end\">\n",
       "\t\t<text><tspan font-family=\"Arial\" > 100</tspan></text>\n",
       "\t</g>\n",
       "</g>\n",
       "<g fill=\"none\" color=\"black\" stroke=\"currentColor\" stroke-width=\"1.00\" stroke-linecap=\"butt\" stroke-linejoin=\"miter\">\n",
       "\t<path stroke='black'  d='M53.9,67.5 L62.9,67.5 M575.0,67.5 L566.0,67.5  '/>\t<g transform=\"translate(45.6,71.4)\" stroke=\"none\" fill=\"black\" font-family=\"Arial\" font-size=\"12.00\"  text-anchor=\"end\">\n",
       "\t\t<text><tspan font-family=\"Arial\" > 120</tspan></text>\n",
       "\t</g>\n",
       "</g>\n",
       "<g fill=\"none\" color=\"black\" stroke=\"currentColor\" stroke-width=\"1.00\" stroke-linecap=\"butt\" stroke-linejoin=\"miter\">\n",
       "\t<path stroke='black'  d='M53.9,18.1 L62.9,18.1 M575.0,18.1 L566.0,18.1  '/>\t<g transform=\"translate(45.6,22.0)\" stroke=\"none\" fill=\"black\" font-family=\"Arial\" font-size=\"12.00\"  text-anchor=\"end\">\n",
       "\t\t<text><tspan font-family=\"Arial\" > 140</tspan></text>\n",
       "\t</g>\n",
       "</g>\n",
       "<g fill=\"none\" color=\"black\" stroke=\"currentColor\" stroke-width=\"1.00\" stroke-linecap=\"butt\" stroke-linejoin=\"miter\">\n",
       "\t<path stroke='black'  d='M53.9,364.0 L53.9,355.0 M53.9,18.1 L53.9,27.1  '/>\t<g transform=\"translate(53.9,385.9)\" stroke=\"none\" fill=\"black\" font-family=\"Arial\" font-size=\"12.00\"  text-anchor=\"middle\">\n",
       "\t\t<text><tspan font-family=\"Arial\" >-10</tspan></text>\n",
       "\t</g>\n",
       "</g>\n",
       "<g fill=\"none\" color=\"black\" stroke=\"currentColor\" stroke-width=\"1.00\" stroke-linecap=\"butt\" stroke-linejoin=\"miter\">\n",
       "\t<path stroke='black'  d='M184.2,364.0 L184.2,355.0 M184.2,18.1 L184.2,27.1  '/>\t<g transform=\"translate(184.2,385.9)\" stroke=\"none\" fill=\"black\" font-family=\"Arial\" font-size=\"12.00\"  text-anchor=\"middle\">\n",
       "\t\t<text><tspan font-family=\"Arial\" >-5</tspan></text>\n",
       "\t</g>\n",
       "</g>\n",
       "<g fill=\"none\" color=\"black\" stroke=\"currentColor\" stroke-width=\"1.00\" stroke-linecap=\"butt\" stroke-linejoin=\"miter\">\n",
       "\t<path stroke='black'  d='M314.5,364.0 L314.5,355.0 M314.5,18.1 L314.5,27.1  '/>\t<g transform=\"translate(314.5,385.9)\" stroke=\"none\" fill=\"black\" font-family=\"Arial\" font-size=\"12.00\"  text-anchor=\"middle\">\n",
       "\t\t<text><tspan font-family=\"Arial\" > 0</tspan></text>\n",
       "\t</g>\n",
       "</g>\n",
       "<g fill=\"none\" color=\"black\" stroke=\"currentColor\" stroke-width=\"1.00\" stroke-linecap=\"butt\" stroke-linejoin=\"miter\">\n",
       "\t<path stroke='black'  d='M444.7,364.0 L444.7,355.0 M444.7,18.1 L444.7,27.1  '/>\t<g transform=\"translate(444.7,385.9)\" stroke=\"none\" fill=\"black\" font-family=\"Arial\" font-size=\"12.00\"  text-anchor=\"middle\">\n",
       "\t\t<text><tspan font-family=\"Arial\" > 5</tspan></text>\n",
       "\t</g>\n",
       "</g>\n",
       "<g fill=\"none\" color=\"black\" stroke=\"currentColor\" stroke-width=\"1.00\" stroke-linecap=\"butt\" stroke-linejoin=\"miter\">\n",
       "\t<path stroke='black'  d='M575.0,364.0 L575.0,355.0 M575.0,18.1 L575.0,27.1  '/>\t<g transform=\"translate(575.0,385.9)\" stroke=\"none\" fill=\"black\" font-family=\"Arial\" font-size=\"12.00\"  text-anchor=\"middle\">\n",
       "\t\t<text><tspan font-family=\"Arial\" > 10</tspan></text>\n",
       "\t</g>\n",
       "</g>\n",
       "<g fill=\"none\" color=\"black\" stroke=\"currentColor\" stroke-width=\"1.00\" stroke-linecap=\"butt\" stroke-linejoin=\"miter\">\n",
       "</g>\n",
       "<g fill=\"none\" color=\"black\" stroke=\"currentColor\" stroke-width=\"1.00\" stroke-linecap=\"butt\" stroke-linejoin=\"miter\">\n",
       "\t<path stroke='black'  d='M53.9,18.1 L53.9,364.0 L575.0,364.0 L575.0,18.1 L53.9,18.1 Z  '/></g>\n",
       "<g fill=\"none\" color=\"black\" stroke=\"currentColor\" stroke-width=\"1.00\" stroke-linecap=\"butt\" stroke-linejoin=\"miter\">\n",
       "</g>\n",
       "\t<g id=\"gnuplot_plot_1\" ><title>x*x + 2*x + 1</title>\n",
       "<g fill=\"none\" color=\"black\" stroke=\"currentColor\" stroke-width=\"1.00\" stroke-linecap=\"butt\" stroke-linejoin=\"miter\">\n",
       "\t<g transform=\"translate(507.9,40.0)\" stroke=\"none\" fill=\"black\" font-family=\"Arial\" font-size=\"12.00\"  text-anchor=\"end\">\n",
       "\t\t<text>x*x + 2*x + 1</text>\n",
       "\t</g>\n",
       "</g>\n",
       "<g fill=\"none\" color=\"black\" stroke=\"currentColor\" stroke-width=\"1.00\" stroke-linecap=\"butt\" stroke-linejoin=\"miter\">\n",
       "\t<path stroke='rgb(148,   0, 211)'  d='M516.2,36.1 L558.4,36.1 M53.9,163.9 L59.2,172.8 L64.4,181.4 L69.7,189.9 L75.0,198.2 L80.2,206.3\n",
       "\t\tL85.5,214.1 L90.7,221.8 L96.0,229.3 L101.3,236.6 L106.5,243.6 L111.8,250.5 L117.1,257.2 L122.3,263.6\n",
       "\t\tL127.6,269.9 L132.9,276.0 L138.1,281.8 L143.4,287.5 L148.6,292.9 L153.9,298.2 L159.2,303.2 L164.4,308.1\n",
       "\t\tL169.7,312.7 L175.0,317.2 L180.2,321.4 L185.5,325.5 L190.8,329.3 L196.0,332.9 L201.3,336.4 L206.5,339.6\n",
       "\t\tL211.8,342.7 L217.1,345.5 L222.3,348.1 L227.6,350.5 L232.9,352.8 L238.1,354.8 L243.4,356.6 L248.7,358.3\n",
       "\t\tL253.9,359.7 L259.2,360.9 L264.4,361.9 L269.7,362.7 L275.0,363.3 L280.2,363.8 L285.5,364.0 L290.8,364.0\n",
       "\t\tL296.0,363.8 L301.3,363.4 L306.6,362.8 L311.8,362.0 L317.1,361.0 L322.3,359.8 L327.6,358.4 L332.9,356.8\n",
       "\t\tL338.1,355.0 L343.4,353.0 L348.7,350.8 L353.9,348.4 L359.2,345.8 L364.5,342.9 L369.7,339.9 L375.0,336.7\n",
       "\t\tL380.2,333.3 L385.5,329.7 L390.8,325.9 L396.0,321.8 L401.3,317.6 L406.6,313.2 L411.8,308.6 L417.1,303.7\n",
       "\t\tL422.4,298.7 L427.6,293.5 L432.9,288.0 L438.1,282.4 L443.4,276.5 L448.7,270.5 L453.9,264.3 L459.2,257.8\n",
       "\t\tL464.5,251.2 L469.7,244.3 L475.0,237.3 L480.3,230.0 L485.5,222.6 L490.8,214.9 L496.0,207.1 L501.3,199.0\n",
       "\t\tL506.6,190.8 L511.8,182.3 L517.1,173.6 L522.4,164.8 L527.6,155.7 L532.9,146.4 L538.2,137.0 L543.4,127.3\n",
       "\t\tL548.7,117.4 L553.9,107.4 L559.2,97.1 L564.5,86.6 L569.7,75.9 L575.0,65.0  '/></g>\n",
       "\t</g>\n",
       "<g fill=\"none\" color=\"white\" stroke=\"rgb(148,   0, 211)\" stroke-width=\"2.00\" stroke-linecap=\"butt\" stroke-linejoin=\"miter\">\n",
       "</g>\n",
       "<g fill=\"none\" color=\"black\" stroke=\"currentColor\" stroke-width=\"2.00\" stroke-linecap=\"butt\" stroke-linejoin=\"miter\">\n",
       "</g>\n",
       "<g fill=\"none\" color=\"black\" stroke=\"black\" stroke-width=\"1.00\" stroke-linecap=\"butt\" stroke-linejoin=\"miter\">\n",
       "</g>\n",
       "<g fill=\"none\" color=\"black\" stroke=\"currentColor\" stroke-width=\"1.00\" stroke-linecap=\"butt\" stroke-linejoin=\"miter\">\n",
       "\t<path stroke='black'  d='M53.9,18.1 L53.9,364.0 L575.0,364.0 L575.0,18.1 L53.9,18.1 Z  '/></g>\n",
       "<g fill=\"none\" color=\"black\" stroke=\"currentColor\" stroke-width=\"1.00\" stroke-linecap=\"butt\" stroke-linejoin=\"miter\">\n",
       "</g>\n",
       "</g>\n",
       "</svg>\n"
      ]
     },
     "execution_count": 48,
     "metadata": {},
     "output_type": "execute_result"
    }
   ],
   "source": [
    "// plot a function\n",
    "val p = JGnuplot(false)\n",
    "p.addPlot(\"x*x + 2*x + 1\")\n",
    "p.plot()"
   ]
  },
  {
   "cell_type": "code",
   "execution_count": 57,
   "metadata": {},
   "outputs": [
    {
     "name": "stdout",
     "output_type": "stream",
     "text": [
      "f(0.000000) = 1.000000\n"
     ]
    }
   ],
   "source": [
    "// optimization\n",
    "val solver = BrentMinimizer(1e-15, 20)\n",
    "val soln = solver.solve(f)\n",
    "val xmin: Double = soln.minimizer()\n",
    "val fmin: Double = f.evaluate(xmin)\n",
    "println(String.format(\"f(%f) = %f\", xmin, fmin))"
   ]
  },
  {
   "cell_type": "code",
   "execution_count": 62,
   "metadata": {},
   "outputs": [
    {
     "data": {
      "text/plain": [
       "3.000000000218579"
      ]
     },
     "execution_count": 62,
     "metadata": {},
     "output_type": "execute_result"
    }
   ],
   "source": [
    "// differentiate f w.r.t. x once\n",
    "val df1: UnivariateRealFunction = FiniteDifference(f, 1, FiniteDifference.Type.CENTRAL) // 2x + 2\n",
    "df1.evaluate(1.0)\n",
    "\n",
    "// integration\n",
    "val integrator: Integrator = Riemann()\n",
    "val I: Double = integrator.integrate(df1, 0.0, 1.0) // ∫_[0,1] (2x + 2) dx = x^2 + 2x\n",
    "I"
   ]
  },
  {
   "cell_type": "code",
   "execution_count": 75,
   "metadata": {},
   "outputs": [
    {
     "name": "stdout",
     "output_type": "stream",
     "text": [
      "0.007440710227587757\n",
      "0.9934094869218749\n",
      "-3.733142452297809E-4\n",
      "-0.003197798050856182\n"
     ]
    }
   ],
   "source": [
    "// statistics\n",
    "val gaussian = NormalRNG(0.0, 1.0) // a standard Gaussian random number generator\n",
    "val numbers: MutableList<Double> = mutableListOf()\n",
    "for (i in 1..10000) { // generate random numbers\n",
    "    val x: Double = gaussian.nextDouble()\n",
    "    numbers.add(x)\n",
    "}\n",
    "val arr = numbers.toDoubleArray()\n",
    "println(Mean(arr).value())\n",
    "println(Variance(arr).standardDeviation())\n",
    "println(Skewness(arr).value())\n",
    "println(Kurtosis(arr).value())"
   ]
  },
  {
   "cell_type": "code",
   "execution_count": 79,
   "metadata": {},
   "outputs": [
    {
     "data": {
      "text/plain": [
       "A DataFrame: 211 x 10\n",
       "     ticker         date     open     high      low    close      volume   dividends   closeunadj\n",
       " 1     AAPL   2020-01-02    74.06    75.15   73.797   75.088   135647456           0       300.35\n",
       " 2     AAPL   2020-01-03   74.287   75.145   74.125   74.358   146535512           0       297.43\n",
       " 3     AAPL   2020-01-06   73.448    74.99   73.188    74.95   117288824           0        299.8\n",
       " 4     AAPL   2020-01-07    74.96   75.225    74.37   74.597   111510620           0       298.39\n",
       " 5     AAPL   2020-01-08    74.29    76.11   74.289   75.797   132363784           0       303.19\n",
       " 6     AAPL   2020-01-09   76.809   77.608    76.55   77.407   167082252           0       309.63\n",
       " 7     AAPL   2020-01-10    77.65   78.168   77.062   77.582   140869088           0       310.33\n",
       " 8     AAPL   2020-01-13    77.91   79.267   77.787    79.24   120114968           0       316.96\n",
       " 9     AAPL   2020-01-14   79.175   79.392   78.043    78.17   162613828           0       312.68\n",
       "10     AAPL   2020-01-15   77.963   78.875   77.388   77.835   121923528           0       311.34\n",
       "and 201 more rows, and and 1 more variables:"
      ]
     },
     "execution_count": 79,
     "metadata": {},
     "output_type": "execute_result"
    }
   ],
   "source": [
    "// Download stock data for \"AAPL\" between two dates.\n",
    "val aapl = s2.dataFrame(\"stock\", \"AAPL\", \"2020-01-01\", \"2020-11-01\")\n",
    "aapl"
   ]
  },
  {
   "cell_type": "code",
   "execution_count": null,
   "metadata": {},
   "outputs": [],
   "source": []
  }
 ],
 "metadata": {
  "kernelspec": {
   "display_name": "Kotlin",
   "language": "kotlin",
   "name": "kotlin"
  },
  "language_info": {
   "codemirror_mode": "text/x-kotlin",
   "file_extension": ".kt",
   "mimetype": "text/x-kotlin",
   "name": "kotlin",
   "nbconvert_exporter": "",
   "pygments_lexer": "kotlin",
   "version": "1.5.30-dev-598"
  }
 },
 "nbformat": 4,
 "nbformat_minor": 4
}
